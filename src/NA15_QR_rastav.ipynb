{
 "cells": [
  {
   "cell_type": "markdown",
   "metadata": {},
   "source": [
    "# QR rastav\n",
    "\n",
    "---\n",
    "\n",
    "__QR rastav__ matrice $A$ tipa $m\\times n$,  $m\\geq n$,\n",
    "glasi\n",
    "\n",
    "$$\n",
    "A=QR, \n",
    "$$\n",
    "\n",
    "pri čemu je $Q$ __ortonormirana matrica__ dimenzije $m\\times m$, odnosno\n",
    "\\[\n",
    "Q^TQ=Q Q^T=I,\n",
    "\\]\n",
    "a $R$ je $m\\times n$ gornje trokutasta matrica.\n",
    "\n",
    "Ortonormiranu matricu kraće zovemo i __ortogonalna matrica__.\n",
    "\n",
    "Na primjer,\n",
    "\n",
    "$$\n",
    "\\begin{bmatrix} a_{11} & a_{12} & a_{13} \\\\\n",
    "a_{21} & a_{22} & a_{23} \\\\\n",
    "a_{31} & a_{32} & a_{33} \\\\\n",
    "a_{41} & a_{42} & a_{43} \\\\\n",
    "a_{51} & a_{52} & a_{53}\n",
    "\\end{bmatrix}\n",
    "=\n",
    "\\begin{bmatrix}\n",
    "q_{11} & q_{12} & q_{13} & q_{14} & q_{15} \\\\\n",
    "q_{21} & q_{22} & q_{23} & q_{24} & q_{25} \\\\\n",
    "q_{31} & q_{32} & q_{33} & q_{34} & q_{35} \\\\\n",
    "q_{41} & q_{42} & q_{43} & q_{44} & q_{45} \\\\\n",
    "q_{51} & q_{52} & q_{53} & q_{54} & q_{55}\n",
    "\\end{bmatrix}\n",
    "\\begin{bmatrix}\n",
    "r_{11} & r_{12} & r_{13} \\\\\n",
    "0 & r_{22} & r_{23} \\\\\n",
    "0 & 0 & r_{33} \\\\\n",
    "0 & 0 & 0 \\\\\n",
    "0 & 0 & 0 \n",
    "\\end{bmatrix}. \\tag{1}\n",
    "$$\n",
    "\n",
    "S (1) je definiram i __ekonomični QR rastav__\n",
    "\n",
    "$$\n",
    "\\begin{bmatrix} a_{11} & a_{12} & a_{13} \\\\\n",
    "a_{21} & a_{22} & a_{23} \\\\\n",
    "a_{31} & a_{32} & a_{33} \\\\\n",
    "a_{41} & a_{42} & a_{43} \\\\\n",
    "a_{51} & a_{52} & a_{53}\n",
    "\\end{bmatrix}\n",
    "=\n",
    "\\begin{bmatrix}\n",
    "q_{11} & q_{12} & q_{13} \\\\\n",
    "q_{21} & q_{22} & q_{23} \\\\\n",
    "q_{31} & q_{32} & q_{33} \\\\\n",
    "q_{41} & q_{42} & q_{43} \\\\\n",
    "q_{51} & q_{52} & q_{53}\n",
    "\\end{bmatrix}\n",
    "\\begin{bmatrix}\n",
    "r_{11} & r_{12} & r_{13} \\\\\n",
    "0 & r_{22} & r_{23} \\\\\n",
    "0 & 0 & r_{33}\n",
    "\\end{bmatrix}. \\tag{2}\n",
    "$$\n",
    "\n",
    "\n",
    "Izjednačavanje stupaca počevši od prvog daje: \n",
    "\n",
    "\\begin{align}\n",
    "t&=a_{:1}\\\\\n",
    "r_{11}&=\\|t\\|_2 \\\\\n",
    "q_{:1}&=t\\frac{1}{r_{11}}\\\\\n",
    "r_{12}&= q_{:1}^Ta_{:1} \\\\\n",
    "t&=a_{:2}-q_{:1}r_{12} \\\\\n",
    "r_{22}&=\\|t\\|_2 \\\\\n",
    "q_{:2}&=t\\frac{1}{r_{22}} \\\\\n",
    "r_{13}&=q_{:1}^Ta_{:3} \\\\\n",
    "r_{23}&=q_{:2}^Ta_{:3} \\\\\n",
    "t&=a_{:3}-q_{:1}r_{13}-q_{:2}r_{23}\\\\\n",
    "r_{33}&=\\|t\\|_2 \\\\\n",
    "q_{:3}&=t\\frac{1}{r_{33}}.\n",
    "\\end{align}\n",
    "\n",
    "Indukcijom slijedi __Gram-Schmidt-ov postupak ortogonalizacije__."
   ]
  },
  {
   "cell_type": "code",
   "execution_count": 1,
   "metadata": {
    "collapsed": false
   },
   "outputs": [
    {
     "data": {
      "text/plain": [
       "myGramSchmidtQR (generic function with 1 method)"
      ]
     },
     "execution_count": 1,
     "metadata": {},
     "output_type": "execute_result"
    }
   ],
   "source": [
    "function myGramSchmidtQR{T}(A::Array{T})\n",
    "    m,n=size(A)\n",
    "    R=zeros(Float64,n,n)\n",
    "    Q=Array(Float64,m,n)\n",
    "    R[1,1]=norm(A[:,1])\n",
    "    Q[:,1]=A[:,1]/R[1,1]\n",
    "    for k=2:n\n",
    "        for i=1:k-1\n",
    "            R[i,k]=Q[:,i]⋅A[:,k]\n",
    "        end\n",
    "        t=A[:,k]-sum([R[i,k]*Q[:,i] for i=1:k-1])\n",
    "        R[k,k]=norm(t)\n",
    "        Q[:,k]=t/R[k,k]\n",
    "    end\n",
    "    Q,R\n",
    "end "
   ]
  },
  {
   "cell_type": "code",
   "execution_count": 5,
   "metadata": {
    "collapsed": false
   },
   "outputs": [
    {
     "data": {
      "text/plain": [
       "8×5 Array{Float64,2}:\n",
       " 0.0667871   0.347728  -0.592102   -0.271719   -0.0796266\n",
       " 0.132742    0.453787   0.357013    0.515945   -0.476126 \n",
       " 0.0627752   0.612443  -0.0982551   0.151018    0.688718 \n",
       " 0.13384     0.33206    0.170432   -0.727717   -0.340692 \n",
       " 0.231819    0.197815  -0.463022    0.255759   -0.348407 \n",
       " 0.68374    -0.266884  -0.0575138  -0.0527572   0.143468 \n",
       " 0.468983   -0.225121  -0.206266    0.154173   -0.0598524\n",
       " 0.463551    0.16363    0.472243   -0.125003    0.176089 "
      ]
     },
     "execution_count": 5,
     "metadata": {},
     "output_type": "execute_result"
    }
   ],
   "source": [
    "A=rand(8,5)\n",
    "Q,R=myGramSchmidtQR(A)\n",
    "Q"
   ]
  },
  {
   "cell_type": "code",
   "execution_count": 6,
   "metadata": {
    "collapsed": false
   },
   "outputs": [
    {
     "data": {
      "text/plain": [
       "5×5 Array{Float64,2}:\n",
       " 1.33774  1.18926  0.917119   1.33698    0.875028  \n",
       " 0.0      1.37557  1.30459    0.445936   0.427052  \n",
       " 0.0      0.0      0.595713  -0.0211817  0.2928    \n",
       " 0.0      0.0      0.0        0.436455   0.00651613\n",
       " 0.0      0.0      0.0        0.0        0.397872  "
      ]
     },
     "execution_count": 6,
     "metadata": {},
     "output_type": "execute_result"
    }
   ],
   "source": [
    "R"
   ]
  },
  {
   "cell_type": "code",
   "execution_count": 7,
   "metadata": {
    "collapsed": false
   },
   "outputs": [
    {
     "data": {
      "text/plain": [
       "8×5 Array{Float64,2}:\n",
       "  0.0          0.0  0.0  0.0  0.0\n",
       "  0.0          0.0  0.0  0.0  0.0\n",
       "  1.38778e-17  0.0  0.0  0.0  0.0\n",
       "  0.0          0.0  0.0  0.0  0.0\n",
       "  0.0          0.0  0.0  0.0  0.0\n",
       " -1.11022e-16  0.0  0.0  0.0  0.0\n",
       "  0.0          0.0  0.0  0.0  0.0\n",
       "  0.0          0.0  0.0  0.0  0.0"
      ]
     },
     "execution_count": 7,
     "metadata": {},
     "output_type": "execute_result"
    }
   ],
   "source": [
    "A-Q*R"
   ]
  },
  {
   "cell_type": "code",
   "execution_count": 8,
   "metadata": {
    "collapsed": false
   },
   "outputs": [
    {
     "data": {
      "text/plain": [
       "5×5 Array{Float64,2}:\n",
       "  1.0          -1.66533e-16  -8.32667e-17  -4.09395e-16  -1.94289e-16\n",
       " -1.66533e-16   1.0          -2.77556e-16  -1.07553e-16   3.26128e-16\n",
       " -8.32667e-17  -2.77556e-16   1.0           5.06539e-16   4.71845e-16\n",
       " -4.09395e-16  -1.07553e-16   5.06539e-16   1.0           7.14706e-16\n",
       " -1.94289e-16   3.26128e-16   4.71845e-16   7.14706e-16   1.0        "
      ]
     },
     "execution_count": 8,
     "metadata": {},
     "output_type": "execute_result"
    }
   ],
   "source": [
    "Q'*Q"
   ]
  },
  {
   "cell_type": "markdown",
   "metadata": {},
   "source": [
    "Algoritam `myGramSchmidtQR()` je numerički nestabilan pa je bolje koristiti _modificirani Gram-Schmidt-ov algoritam_ ili _Householder-ove reflektore_ ili _Givens-ove rotacije_ (vidi [Matrix Computations, poglavlje 5][GVL13]).\n",
    "\n",
    "[GVL13]: https://books.google.hr/books?id=X5YfsuCWpxMC&printsec=frontcover&hl=hr#v=onepage&q&f=false \"G. Golub and C. F Van Loan, 'Matrix Computations', 4th Edition, John Hopkins, Baltimore, 2013\""
   ]
  },
  {
   "cell_type": "markdown",
   "metadata": {},
   "source": [
    "## Householderovi reflektori\n",
    "\n",
    "__QR rastav vektora__ $x$ jednak je\n",
    "\n",
    "$$\n",
    "H \\begin{bmatrix} x_1 \\\\ x_2 \\\\ \\vdots \\\\ x_m \n",
    "\\end{bmatrix}  =r,\n",
    "$$\n",
    "\n",
    "gdje je \n",
    "\n",
    "$$\n",
    "H=I - \\frac{2}{v^Tv}v v^T, \\qquad  \n",
    "v=\\begin{bmatrix}\n",
    "x_1\\pm \\|x\\|_2 \\\\ x_2 \\\\ x_3 \\\\ \\vdots \\\\ x_m\n",
    "\\end{bmatrix}.\n",
    "$$ \n",
    "\n",
    "__Householderov reflektor__ $H$ je __simetrična__ i __ortogonalna__ matrica (dokažite!). Ovisno o izboru predznaka u definicije vektora $v$ vrijedi\n",
    "\n",
    "$$\n",
    "r=\\begin{bmatrix} \\mp \\|x\\| \\\\ 0 \\\\ \\vdots \\\\ 0\n",
    "\\end{bmatrix}\n",
    "$$\n",
    "\n",
    "Zbog numeričke stabilnost se najčešće uzima\n",
    "\n",
    "$$\n",
    "v_1=x_1+\\mathop{\\mathrm{sign}} (x_1) \\|x\\|_2.\n",
    "$$\n",
    "\n",
    "Matrica $H$ se __ne računa eksplicitno__ već se produkt $Hx$ računa po formuli\n",
    "\n",
    "$$\n",
    "Hx=x-v\\frac{2v^Tx}{v^Tv}\n",
    "$$\n",
    "\n",
    "za koju je potrebno $O(6m)$ operacija."
   ]
  },
  {
   "cell_type": "code",
   "execution_count": 9,
   "metadata": {
    "collapsed": false
   },
   "outputs": [
    {
     "data": {
      "text/plain": [
       "myHouseholderVector (generic function with 1 method)"
      ]
     },
     "execution_count": 9,
     "metadata": {},
     "output_type": "execute_result"
    }
   ],
   "source": [
    "function myHouseholderVector{T}(x::Array{T})\n",
    "    # Vraca v\n",
    "    v=deepcopy(x)\n",
    "    v[1]=x[1]+sign(x[1])*norm(x)\n",
    "    v\n",
    "end"
   ]
  },
  {
   "cell_type": "code",
   "execution_count": 10,
   "metadata": {
    "collapsed": false
   },
   "outputs": [
    {
     "data": {
      "text/plain": [
       "8-element Array{Float64,1}:\n",
       " -1.94773    \n",
       " -2.77556e-17\n",
       " -1.11022e-16\n",
       " -1.11022e-16\n",
       " -2.22045e-16\n",
       " -2.22045e-16\n",
       " -2.22045e-16\n",
       " -2.77556e-17"
      ]
     },
     "execution_count": 10,
     "metadata": {},
     "output_type": "execute_result"
    }
   ],
   "source": [
    "x=rand(8)\n",
    "v=myHouseholderVector(x)\n",
    "β=(2/(v⋅v))*(v⋅x)\n",
    "x-β*v"
   ]
  },
  {
   "cell_type": "code",
   "execution_count": 11,
   "metadata": {
    "collapsed": false
   },
   "outputs": [
    {
     "data": {
      "text/plain": [
       "1.9477272239020311"
      ]
     },
     "execution_count": 11,
     "metadata": {},
     "output_type": "execute_result"
    }
   ],
   "source": [
    "norm(x)"
   ]
  },
  {
   "cell_type": "markdown",
   "metadata": {},
   "source": [
    "QR rastav matrice se računa rekurzivnim QR rastavom vektora pomoću Householderovih reflektora:"
   ]
  },
  {
   "cell_type": "code",
   "execution_count": 12,
   "metadata": {
    "collapsed": false
   },
   "outputs": [
    {
     "data": {
      "text/plain": [
       "myHouseholderQR (generic function with 1 method)"
      ]
     },
     "execution_count": 12,
     "metadata": {},
     "output_type": "execute_result"
    }
   ],
   "source": [
    "function myHouseholderQR{T}(A1::Array{T})\n",
    "    # Vraca Q i R\n",
    "    A=deepcopy(A1)\n",
    "    m,n=size(A)\n",
    "    # R=zeros(Float64,m,n)\n",
    "    Q=eye(Float64,m,m)\n",
    "    for k=1:n\n",
    "        v=myHouseholderVector(A[k:m,k])\n",
    "        β=(2/(v⋅v))*v\n",
    "        A[k:m,k:n]=A[k:m,k:n]-β*(v'*A[k:m,k:n])\n",
    "        Q[k:m,:]=Q[k:m,:]-β*(v'*Q[k:m,:])\n",
    "    end\n",
    "    R=triu(A)\n",
    "    Q',R\n",
    "end\n",
    "    "
   ]
  },
  {
   "cell_type": "code",
   "execution_count": 13,
   "metadata": {
    "collapsed": false
   },
   "outputs": [
    {
     "data": {
      "text/plain": [
       "8×5 Array{Float64,2}:\n",
       " 0.496754  0.585752  0.149732   0.518909  0.811441 \n",
       " 0.352272  0.497119  0.92009    0.583799  0.495599 \n",
       " 0.609883  0.157483  0.751717   0.422452  0.921829 \n",
       " 0.261205  0.523142  0.528053   0.098942  0.31751  \n",
       " 0.356776  0.281894  0.23427    0.31886   0.816996 \n",
       " 0.460123  0.874011  0.0859313  0.645191  0.0784321\n",
       " 0.651939  0.864188  0.428977   0.40529   0.386595 \n",
       " 0.371886  0.111765  0.348495   0.129201  0.784203 "
      ]
     },
     "execution_count": 13,
     "metadata": {},
     "output_type": "execute_result"
    }
   ],
   "source": [
    "A=rand(8,5)"
   ]
  },
  {
   "cell_type": "code",
   "execution_count": 15,
   "metadata": {
    "collapsed": false
   },
   "outputs": [
    {
     "data": {
      "text/plain": [
       "(\n",
       "[-0.379503 -0.0809463 … -0.377341 -0.183311; -0.269124 -0.164106 … 0.179241 0.197623; … ; -0.498059 -0.230842 … 0.442949 -0.0133157; -0.284109 0.36597 … -0.117945 0.806941],\n",
       "\n",
       "[-1.30896 -1.38009 … -1.12289 -1.59979; 0.0 -0.765991 … -0.236617 0.593096; … ; 0.0 0.0 … 0.0 0.0; 0.0 0.0 … 0.0 0.0])"
      ]
     },
     "execution_count": 15,
     "metadata": {},
     "output_type": "execute_result"
    }
   ],
   "source": [
    "Q,R=myHouseholderQR(A)"
   ]
  },
  {
   "cell_type": "code",
   "execution_count": 16,
   "metadata": {
    "collapsed": false
   },
   "outputs": [
    {
     "data": {
      "text/plain": [
       "8×5 Array{Float64,2}:\n",
       " -1.30896      -1.38009      -1.16679      -1.12289      -1.59979    \n",
       "  8.32667e-17  -0.765991      0.156311     -0.236617      0.593096   \n",
       " -8.67362e-17  -3.03577e-17  -0.833551     -0.0725695    -0.139226   \n",
       "  1.38778e-17   2.04697e-16   3.19189e-16   0.41845       0.0817155  \n",
       "  2.35922e-16   5.89806e-17   1.38778e-16   3.46945e-18  -0.596276   \n",
       "  1.49186e-16   1.73472e-17   7.28584e-17  -9.36751e-17  -5.55112e-17\n",
       "  1.249e-16    -2.25514e-17  -2.08167e-17  -1.40513e-16  -1.249e-16  \n",
       "  0.0           5.55112e-17  -1.11022e-16  -6.93889e-17  -1.11022e-16"
      ]
     },
     "execution_count": 16,
     "metadata": {},
     "output_type": "execute_result"
    }
   ],
   "source": [
    "Q'*A"
   ]
  },
  {
   "cell_type": "markdown",
   "metadata": {},
   "source": [
    "Program `myHouseholderQR()` je ilustrativan. Profesionalni programi imaju sljedeća svojstva:\n",
    "\n",
    "* računaju s blok matricama (uobičajena dimenzija bloka je 32 ili 64),\n",
    "* izračuna se vektor $\\hat v=v/v_1$. Vrijedi $\\hat v_1=1$, dok se ostali elemenenti vektora $\\hat v$ spremaju u strogi donji trokut matrice $A$,\n",
    "* ako se traži matrica $Q$, akumulacija se vrši unatrag koristeći spremljene vektore $v$ (tako se smanjuje broj operacija),\n",
    "* postoji opcija vraćanja ekonomičnog rastava,\n",
    "* postoji opcija računanja s __pivotiranjem__ - u svakom koraku se na prvo mjesto dovede stupac s najvećom normom pa je \n",
    "\n",
    "$$\n",
    "AP=QR.\n",
    "$$\n",
    "\n",
    "Vrijedi\n",
    "\n",
    "$$\n",
    "|R_{kk}|\\geq |R_{k+1,k+1}|\n",
    "$$\n",
    "\n",
    "pa se može utvrditi i numerički rank matrice."
   ]
  },
  {
   "cell_type": "code",
   "execution_count": 18,
   "metadata": {
    "collapsed": false
   },
   "outputs": [
    {
     "data": {
      "text/plain": [
       "8×5 Array{Float64,2}:\n",
       " -0.379503  -0.0809463   0.336411    0.234266   -0.469612 \n",
       " -0.269124  -0.164106   -0.757878    0.448734   -0.0338805\n",
       " -0.46593    0.633873   -0.130758    0.0950165   0.378144 \n",
       " -0.199552  -0.323429   -0.414819   -0.553866   -0.297848 \n",
       " -0.272565   0.123068    0.123559    0.121605   -0.528653 \n",
       " -0.351518  -0.507689    0.293755    0.362442    0.287676 \n",
       " -0.498059  -0.230842    0.139249   -0.474353    0.360798 \n",
       " -0.284109   0.36597     0.0482336  -0.238325   -0.232816 "
      ]
     },
     "execution_count": 18,
     "metadata": {},
     "output_type": "execute_result"
    }
   ],
   "source": [
    "Q1,R1=qr(A,thin=true)\n",
    "Q1"
   ]
  },
  {
   "cell_type": "code",
   "execution_count": 19,
   "metadata": {
    "collapsed": false
   },
   "outputs": [
    {
     "data": {
      "text/plain": [
       "5×5 Array{Float64,2}:\n",
       " -1.30896  -1.38009   -1.16679   -1.12289    -1.59979  \n",
       "  0.0      -0.765991   0.156311  -0.236617    0.593096 \n",
       "  0.0       0.0       -0.833551  -0.0725695  -0.139226 \n",
       "  0.0       0.0        0.0        0.41845     0.0817155\n",
       "  0.0       0.0        0.0        0.0        -0.596276 "
      ]
     },
     "execution_count": 19,
     "metadata": {},
     "output_type": "execute_result"
    }
   ],
   "source": [
    "R1"
   ]
  },
  {
   "cell_type": "code",
   "execution_count": 20,
   "metadata": {
    "collapsed": false
   },
   "outputs": [
    {
     "data": {
      "text/plain": [
       "(\n",
       "[-0.447179 -0.123088 … 0.125025 -0.269239; -0.27312 -0.186846 … 0.37424 -0.424215; … ; -0.21305 -0.527484 … -0.34513 0.482118; -0.432168 0.245084 … -0.256085 0.0911318],\n",
       "\n",
       "[-1.81458 -0.966364 … -0.93705 -1.15402; 0.0 -1.24801 … -0.661377 -0.553902; … ; 0.0 0.0 … 0.42051 0.0451863; 0.0 0.0 … 0.0 0.266095],\n",
       "\n",
       "[5,2,3,4,1])"
      ]
     },
     "execution_count": 20,
     "metadata": {},
     "output_type": "execute_result"
    }
   ],
   "source": [
    "Q2,R2,P2=qr(A,Val{true})"
   ]
  },
  {
   "cell_type": "code",
   "execution_count": 23,
   "metadata": {
    "collapsed": false
   },
   "outputs": [
    {
     "data": {
      "text/plain": [
       "5×5 Array{Float64,2}:\n",
       " -1.81458  -0.966364  -1.14372   -0.93705    -1.15402  \n",
       "  0.0      -1.24801   -0.30872   -0.661377   -0.553902 \n",
       "  0.0       0.0       -0.822937  -0.0702066  -0.0442304\n",
       "  0.0       0.0        0.0        0.42051     0.0451863\n",
       "  0.0       0.0        0.0        0.0         0.266095 "
      ]
     },
     "execution_count": 23,
     "metadata": {},
     "output_type": "execute_result"
    }
   ],
   "source": [
    "R2"
   ]
  },
  {
   "cell_type": "code",
   "execution_count": 24,
   "metadata": {
    "collapsed": false
   },
   "outputs": [
    {
     "data": {
      "text/plain": [
       "8×5 Array{Float64,2}:\n",
       " -1.11022e-16  -2.22045e-16  -3.88578e-16  -1.11022e-16  -3.88578e-16\n",
       "  0.0          -1.11022e-16  -2.22045e-16  -4.44089e-16  -2.22045e-16\n",
       "  1.11022e-16   5.55112e-17   0.0           1.66533e-16   0.0        \n",
       "  5.55112e-17   0.0           0.0           0.0          -5.55112e-17\n",
       "  1.11022e-16  -1.11022e-16  -1.66533e-16  -5.55112e-17  -1.11022e-16\n",
       "  0.0           0.0          -2.77556e-17  -2.22045e-16  -5.55112e-17\n",
       "  5.55112e-17  -2.22045e-16  -5.55112e-17  -2.22045e-16  -1.11022e-16\n",
       "  0.0          -5.55112e-17  -1.66533e-16   0.0          -1.66533e-16"
      ]
     },
     "execution_count": 24,
     "metadata": {},
     "output_type": "execute_result"
    }
   ],
   "source": [
    "Q2*R2-A[:,P2]"
   ]
  },
  {
   "cell_type": "markdown",
   "metadata": {
    "collapsed": true
   },
   "source": [
    "## Brzina\n",
    "\n",
    "Broj računskih operacija potrebnih za računanje QR rastava matrice $n\\times n$ je $O\\big(\\frac{4}{3}n^3\\big)$ za računanje matrice $R$ i  $O\\big(\\frac{4}{3}n^3\\big)$ za računanje matrice $Q$. \n"
   ]
  },
  {
   "cell_type": "code",
   "execution_count": 25,
   "metadata": {
    "collapsed": false
   },
   "outputs": [
    {
     "data": {
      "text/plain": [
       "512×512 Array{Float64,2}:\n",
       " 0.453802   0.674054   0.0220466  …  0.184324   0.173802    0.497125  \n",
       " 0.800241   0.159      0.0451496     0.732352   0.254026    0.449051  \n",
       " 0.536598   0.464412   0.102621      0.245442   0.397952    0.383429  \n",
       " 0.705603   0.947807   0.119884      0.209144   0.00364402  0.733519  \n",
       " 0.480435   0.275804   0.521935      0.354324   0.134086    0.509033  \n",
       " 0.962245   0.90179    0.887146   …  0.445587   0.900599    0.438229  \n",
       " 0.722913   0.0059534  0.592116      0.457943   0.666078    0.714337  \n",
       " 0.13147    0.958035   0.401333      0.507052   0.913107    0.0983071 \n",
       " 0.999538   0.346287   0.552161      0.608316   0.08645     0.420911  \n",
       " 0.48867    0.13508    0.262626      0.613926   0.702089    0.825859  \n",
       " 0.990997   0.92944    0.943248   …  0.131223   0.563115    0.631748  \n",
       " 0.589585   0.479292   0.912786      0.283351   0.754085    0.120206  \n",
       " 0.66349    0.701969   0.264666      0.172826   0.365798    0.00865603\n",
       " ⋮                                ⋱             ⋮                     \n",
       " 0.789602   0.185499   0.0136424  …  0.846285   0.214501    0.107902  \n",
       " 0.103406   0.753465   0.526315      0.743183   0.478349    0.765828  \n",
       " 0.534829   0.271051   0.396623      0.677      0.792502    0.0960328 \n",
       " 0.0591167  0.680372   0.134647      0.799491   0.754563    0.92137   \n",
       " 0.342325   0.105247   0.764108      0.296692   0.568252    0.377918  \n",
       " 0.845376   0.583136   0.353372   …  0.757713   0.706747    0.614312  \n",
       " 0.740015   0.337056   0.0543771     0.0783403  0.278562    0.261233  \n",
       " 0.279736   0.0600024  0.163693      0.166905   0.999226    0.510154  \n",
       " 0.51801    0.0612128  0.262268      0.846167   0.619207    0.966827  \n",
       " 0.710207   0.943721   0.055236      0.58678    0.45407     0.584743  \n",
       " 0.042242   0.328403   0.148534   …  0.541448   0.361104    0.0869022 \n",
       " 0.957879   0.36052    0.817983      0.981727   0.205366    0.596296  "
      ]
     },
     "execution_count": 25,
     "metadata": {},
     "output_type": "execute_result"
    }
   ],
   "source": [
    "n=512\n",
    "A=rand(n,n)"
   ]
  },
  {
   "cell_type": "code",
   "execution_count": 26,
   "metadata": {
    "collapsed": false
   },
   "outputs": [
    {
     "name": "stdout",
     "output_type": "stream",
     "text": [
      "  0.054252 seconds (1.06 k allocations: 8.319 MB, 14.29% gc time)\n"
     ]
    }
   ],
   "source": [
    "@time qr(A);"
   ]
  },
  {
   "cell_type": "code",
   "execution_count": 27,
   "metadata": {
    "collapsed": false
   },
   "outputs": [
    {
     "name": "stdout",
     "output_type": "stream",
     "text": [
      "  0.097326 seconds (557 allocations: 6.307 MB, 5.86% gc time)\n"
     ]
    }
   ],
   "source": [
    "@time qr(A,Val{true});"
   ]
  },
  {
   "cell_type": "code",
   "execution_count": 28,
   "metadata": {
    "collapsed": false
   },
   "outputs": [
    {
     "name": "stdout",
     "output_type": "stream",
     "text": [
      "  1.386769 seconds (29.02 k allocations: 3.358 GB, 6.76% gc time)\n"
     ]
    }
   ],
   "source": [
    "@time myHouseholderQR(A);"
   ]
  },
  {
   "cell_type": "markdown",
   "metadata": {},
   "source": [
    "## Točnost\n",
    "\n",
    "Za matrice $\\hat Q$ i $\\hat R$ izračunate Householder-ovom metodom vrijedi: \n",
    "\n",
    "\\begin{align*}\n",
    "\\hat Q^T\\hat Q& =I+E, \\qquad \\|E \\|_2\\approx \\varepsilon,\\\\ \n",
    "\\| A-\\hat Q\\hat R\\|_2& \\approx \\varepsilon\\|A\\|_2.\n",
    "\\end{align*}\n",
    "\n",
    "Također, postoji egzaktna ortogonalna matrica $Q$ za koju je \n",
    "\n",
    "$$\\| A- Q\\hat R\\|_2\\approx \\varepsilon\\|A\\|_2.\n",
    "$$"
   ]
  },
  {
   "cell_type": "code",
   "execution_count": null,
   "metadata": {
    "collapsed": true
   },
   "outputs": [],
   "source": []
  }
 ],
 "metadata": {
  "anaconda-cloud": {},
  "kernelspec": {
   "display_name": "Julia 0.5.0",
   "language": "julia",
   "name": "julia-0.5"
  },
  "language_info": {
   "file_extension": ".jl",
   "mimetype": "application/julia",
   "name": "julia",
   "version": "0.5.0"
  }
 },
 "nbformat": 4,
 "nbformat_minor": 0
}
