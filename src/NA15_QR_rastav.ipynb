{
 "cells": [
  {
   "cell_type": "markdown",
   "metadata": {},
   "source": [
    "# QR rastav\n",
    "\n",
    "---\n",
    "\n",
    "__QR rastav__ matrice $A$ tipa $m\\times n$,  $m\\geq n$,\n",
    "glasi\n",
    "\n",
    "$$\n",
    "A=QR, \n",
    "$$\n",
    "\n",
    "pri čemu je $Q$ __ortonormirana matrica__ dimenzije $m\\times m$, odnosno\n",
    "\\[\n",
    "Q^TQ=Q Q^T=I,\n",
    "\\]\n",
    "a $R$ je $m\\times n$ gornje trokutasta matrica.\n",
    "\n",
    "Ortonormiranu matricu kraće zovemo i __ortogonalna matrica__.\n",
    "\n",
    "Na primjer,\n",
    "\n",
    "$$\n",
    "\\begin{bmatrix} a_{11} & a_{12} & a_{13} \\\\\n",
    "a_{21} & a_{22} & a_{23} \\\\\n",
    "a_{31} & a_{32} & a_{33} \\\\\n",
    "a_{41} & a_{42} & a_{43} \\\\\n",
    "a_{51} & a_{52} & a_{53}\n",
    "\\end{bmatrix}\n",
    "=\n",
    "\\begin{bmatrix}\n",
    "q_{11} & q_{12} & q_{13} & q_{14} & q_{15} \\\\\n",
    "q_{21} & q_{22} & q_{23} & q_{24} & q_{25} \\\\\n",
    "q_{31} & q_{32} & q_{33} & q_{34} & q_{35} \\\\\n",
    "q_{41} & q_{42} & q_{43} & q_{44} & q_{45} \\\\\n",
    "q_{51} & q_{52} & q_{53} & q_{54} & q_{55}\n",
    "\\end{bmatrix}\n",
    "\\begin{bmatrix}\n",
    "r_{11} & r_{12} & r_{13} \\\\\n",
    "0 & r_{22} & r_{23} \\\\\n",
    "0 & 0 & r_{33} \\\\\n",
    "0 & 0 & 0 \\\\\n",
    "0 & 0 & 0 \n",
    "\\end{bmatrix}. \\tag{1}\n",
    "$$\n",
    "\n",
    "S (1) je definiram i __ekonomični QR rastav__\n",
    "\n",
    "$$\n",
    "\\begin{bmatrix} a_{11} & a_{12} & a_{13} \\\\\n",
    "a_{21} & a_{22} & a_{23} \\\\\n",
    "a_{31} & a_{32} & a_{33} \\\\\n",
    "a_{41} & a_{42} & a_{43} \\\\\n",
    "a_{51} & a_{52} & a_{53}\n",
    "\\end{bmatrix}\n",
    "=\n",
    "\\begin{bmatrix}\n",
    "q_{11} & q_{12} & q_{13} \\\\\n",
    "q_{21} & q_{22} & q_{23} \\\\\n",
    "q_{31} & q_{32} & q_{33} \\\\\n",
    "q_{41} & q_{42} & q_{43} \\\\\n",
    "q_{51} & q_{52} & q_{53}\n",
    "\\end{bmatrix}\n",
    "\\begin{bmatrix}\n",
    "r_{11} & r_{12} & r_{13} \\\\\n",
    "0 & r_{22} & r_{23} \\\\\n",
    "0 & 0 & r_{33}\n",
    "\\end{bmatrix}. \\tag{2}\n",
    "$$\n",
    "\n",
    "\n",
    "Izjednačavanje stupaca počevši od prvog daje: \n",
    "\n",
    "\\begin{align}\n",
    "t&=a_{:1}\\\\\n",
    "r_{11}&=\\|t\\|_2 \\\\\n",
    "q_{:1}&=t\\frac{1}{r_{11}}\\\\\n",
    "r_{12}&= q_{:1}^Ta_{:1} \\\\\n",
    "t&=a_{:2}-q_{:1}r_{12} \\\\\n",
    "r_{22}&=\\|t\\|_2 \\\\\n",
    "q_{:2}&=t\\frac{1}{r_{22}} \\\\\n",
    "r_{13}&=q_{:1}^Ta_{:3} \\\\\n",
    "r_{23}&=q_{:2}^Ta_{:3} \\\\\n",
    "t&=a_{:3}-q_{:1}r_{13}-q_{:2}r_{23}\\\\\n",
    "r_{33}&=\\|t\\|_2 \\\\\n",
    "q_{:3}&=t\\frac{1}{r_{33}}.\n",
    "\\end{align}\n",
    "\n",
    "Indukcijom slijedi __Gram-Schmidt-ov postupak ortogonalizacije__."
   ]
  },
  {
   "cell_type": "code",
   "execution_count": 1,
   "metadata": {
    "collapsed": false
   },
   "outputs": [
    {
     "data": {
      "text/plain": [
       "myGramSchmidtQR (generic function with 1 method)"
      ]
     },
     "execution_count": 1,
     "metadata": {},
     "output_type": "execute_result"
    }
   ],
   "source": [
    "function myGramSchmidtQR{T}(A::Array{T})\n",
    "    m,n=size(A)\n",
    "    R=zeros(Float64,n,n)\n",
    "    Q=Array(Float64,m,n)\n",
    "    R[1,1]=norm(A[:,1])\n",
    "    Q[:,1]=A[:,1]/R[1,1]\n",
    "    for k=2:n\n",
    "        for i=1:k-1\n",
    "            R[i,k]=Q[:,i]⋅A[:,k]\n",
    "        end\n",
    "        t=A[:,k]-sum([R[i,k]*Q[:,i] for i=1:k-1])\n",
    "        R[k,k]=norm(t)\n",
    "        Q[:,k]=t/R[k,k]\n",
    "    end\n",
    "    Q,R\n",
    "end "
   ]
  },
  {
   "cell_type": "code",
   "execution_count": 2,
   "metadata": {
    "collapsed": false
   },
   "outputs": [
    {
     "data": {
      "text/plain": [
       "(\n",
       "8x5 Array{Float64,2}:\n",
       " 0.078616    0.531294    0.402368  -0.0906726  -0.504591 \n",
       " 0.628647   -0.426034    0.116157   0.233483   -0.19617  \n",
       " 0.438997    0.190536   -0.254697   0.14167    -0.431868 \n",
       " 0.208419   -0.1244      0.542875   0.29983     0.150228 \n",
       " 0.0184714   0.530536   -0.122796   0.723691    0.352421 \n",
       " 0.567501    0.186312   -0.370342  -0.359526    0.426517 \n",
       " 0.139354   -0.0418132   0.49452   -0.114738    0.428375 \n",
       " 0.143689    0.408061    0.26123   -0.401426    0.0905748,\n",
       "\n",
       "5x5 Array{Float64,2}:\n",
       " 1.0873  1.2775  1.30268    1.05161   1.00839 \n",
       " 0.0     1.2966  0.253525   0.572734  0.476711\n",
       " 0.0     0.0     1.11815   -0.060735  0.41717 \n",
       " 0.0     0.0     0.0        0.631003  0.271628\n",
       " 0.0     0.0     0.0        0.0       0.720495)"
      ]
     },
     "execution_count": 2,
     "metadata": {},
     "output_type": "execute_result"
    }
   ],
   "source": [
    "A=rand(8,5)\n",
    "Q,R=myGramSchmidtQR(A)"
   ]
  },
  {
   "cell_type": "code",
   "execution_count": 3,
   "metadata": {
    "collapsed": false
   },
   "outputs": [
    {
     "data": {
      "text/plain": [
       "8x5 Array{Float64,2}:\n",
       "  0.0          0.0   0.0           0.0          0.0\n",
       "  0.0          0.0   0.0           0.0          0.0\n",
       "  5.55112e-17  0.0  -5.55112e-17   0.0          0.0\n",
       "  0.0          0.0   0.0          -5.55112e-17  0.0\n",
       "  0.0          0.0   0.0           0.0          0.0\n",
       "  0.0          0.0   0.0           0.0          0.0\n",
       "  0.0          0.0   0.0           0.0          0.0\n",
       " -2.77556e-17  0.0   0.0           0.0          0.0"
      ]
     },
     "execution_count": 3,
     "metadata": {},
     "output_type": "execute_result"
    }
   ],
   "source": [
    "A-Q*R"
   ]
  },
  {
   "cell_type": "code",
   "execution_count": 4,
   "metadata": {
    "collapsed": false
   },
   "outputs": [
    {
     "data": {
      "text/plain": [
       "5x5 Array{Float64,2}:\n",
       "  1.0          -2.77556e-17   3.46945e-17   4.30211e-16  -2.23779e-16\n",
       " -2.77556e-17   1.0           8.32667e-17   1.11022e-16  -1.38778e-16\n",
       "  3.46945e-17   8.32667e-17   1.0           1.38778e-17  -6.93889e-17\n",
       "  4.30211e-16   1.11022e-16   1.38778e-17   1.0          -7.77156e-16\n",
       " -2.23779e-16  -1.38778e-16  -6.93889e-17  -7.77156e-16   1.0        "
      ]
     },
     "execution_count": 4,
     "metadata": {},
     "output_type": "execute_result"
    }
   ],
   "source": [
    "Q'*Q"
   ]
  },
  {
   "cell_type": "markdown",
   "metadata": {},
   "source": [
    "Algoritam `myGramSchmidtQR()` je numerički nestabilan pa je bolje koristiti _modificirani Gram-Schmidt-ov algoritam_ ili _Householder-ove reflektore_ ili _Givens-ove rotacije_ (vidi [Matrix Computations, poglavlje 5][GVL13]).\n",
    "\n",
    "[GVL13]: https://books.google.hr/books?id=X5YfsuCWpxMC&printsec=frontcover&hl=hr#v=onepage&q&f=false \"G. Golub and C. F Van Loan, 'Matrix Computations', 4th Edition, John Hopkins, Baltimore, 2013\""
   ]
  },
  {
   "cell_type": "markdown",
   "metadata": {},
   "source": [
    "## Householderovi reflektori\n",
    "\n",
    "__QR rastav vektora__ $x$ jednak je\n",
    "\n",
    "$$\n",
    "H \\begin{bmatrix} x_1 \\\\ x_2 \\\\ \\vdots \\\\ x_m \n",
    "\\end{bmatrix}  =r,\n",
    "$$\n",
    "\n",
    "gdje je \n",
    "\n",
    "$$\n",
    "H=I - \\frac{2}{v^Tv}v v^T, \\qquad  \n",
    "v=\\begin{bmatrix}\n",
    "x_1\\pm \\|x\\|_2 \\\\ x_2 \\\\ x_3 \\\\ \\vdots \\\\ x_m\n",
    "\\end{bmatrix}.\n",
    "$$ \n",
    "\n",
    "__Householderov reflektor__ $H$ je __simetrična__ i __ortogonalna__ matrica (dokažite!). Ovisno o izboru predznaka u definicije vektora $v$ vrijedi\n",
    "\n",
    "$$\n",
    "r=\\begin{bmatrix} \\mp \\|x\\| \\\\ 0 \\\\ \\vdots \\\\ 0\n",
    "\\end{bmatrix}\n",
    "$$\n",
    "\n",
    "Zbog numeričke stabilnost se najčešće uzima\n",
    "\n",
    "$$\n",
    "v_1=x_1+\\mathop{\\mathrm{sign}} (x_1) \\|x\\|_2.\n",
    "$$\n",
    "\n",
    "Matrica $H$ se __ne računa eksplicitno__ već se produkt $Hx$ računa po formuli\n",
    "\n",
    "$$\n",
    "Hx=x-v\\frac{2v^Tx}{v^Tv}\n",
    "$$\n",
    "\n",
    "za koju je potrebno $O(6m)$ operacija."
   ]
  },
  {
   "cell_type": "code",
   "execution_count": 5,
   "metadata": {
    "collapsed": false
   },
   "outputs": [
    {
     "data": {
      "text/plain": [
       "myHouseholderVector (generic function with 1 method)"
      ]
     },
     "execution_count": 5,
     "metadata": {},
     "output_type": "execute_result"
    }
   ],
   "source": [
    "function myHouseholderVector{T}(x::Array{T})\n",
    "    # Vraca v\n",
    "    v=deepcopy(x)\n",
    "    v[1]=x[1]+sign(x[1])*norm(x)\n",
    "    v\n",
    "end"
   ]
  },
  {
   "cell_type": "code",
   "execution_count": 6,
   "metadata": {
    "collapsed": false
   },
   "outputs": [
    {
     "data": {
      "text/plain": [
       "8-element Array{Float64,1}:\n",
       " -1.56063    \n",
       "  1.11022e-16\n",
       "  1.38778e-17\n",
       "  5.55112e-17\n",
       "  5.55112e-17\n",
       "  1.11022e-16\n",
       "  5.55112e-17\n",
       "  1.11022e-16"
      ]
     },
     "execution_count": 6,
     "metadata": {},
     "output_type": "execute_result"
    }
   ],
   "source": [
    "x=rand(8)\n",
    "v=myHouseholderVector(x)\n",
    "β=(2/(v⋅v))*(v⋅x)\n",
    "x-β*v"
   ]
  },
  {
   "cell_type": "code",
   "execution_count": 7,
   "metadata": {
    "collapsed": false
   },
   "outputs": [
    {
     "data": {
      "text/plain": [
       "1.560633229244573"
      ]
     },
     "execution_count": 7,
     "metadata": {},
     "output_type": "execute_result"
    }
   ],
   "source": [
    "norm(x)"
   ]
  },
  {
   "cell_type": "markdown",
   "metadata": {},
   "source": [
    "QR rastav matrice se računa rekurzivnim QR rastavom vektora pomoću Householderovih reflektora:"
   ]
  },
  {
   "cell_type": "code",
   "execution_count": 8,
   "metadata": {
    "collapsed": false
   },
   "outputs": [
    {
     "data": {
      "text/plain": [
       "myHouseholderQR (generic function with 1 method)"
      ]
     },
     "execution_count": 8,
     "metadata": {},
     "output_type": "execute_result"
    }
   ],
   "source": [
    "function myHouseholderQR{T}(A1::Array{T})\n",
    "    # Vraca Q i R\n",
    "    A=deepcopy(A1)\n",
    "    m,n=size(A)\n",
    "    # R=zeros(Float64,m,n)\n",
    "    Q=eye(Float64,m,m)\n",
    "    for k=1:n\n",
    "        v=myHouseholderVector(A[k:m,k])\n",
    "        β=(2/(v⋅v))*v\n",
    "        A[k:m,k:n]=A[k:m,k:n]-β*(v'*A[k:m,k:n])\n",
    "        Q[k:m,:]=Q[k:m,:]-β*(v'*Q[k:m,:])\n",
    "    end\n",
    "    R=triu(A)\n",
    "    Q',R\n",
    "end\n",
    "    "
   ]
  },
  {
   "cell_type": "code",
   "execution_count": 9,
   "metadata": {
    "collapsed": false
   },
   "outputs": [
    {
     "data": {
      "text/plain": [
       "8x5 Array{Float64,2}:\n",
       " 0.0665277  0.9388     0.187428  0.939442  0.51729  \n",
       " 0.623285   0.63411    0.854875  0.266542  0.803312 \n",
       " 0.315867   0.439227   0.138331  0.676894  0.474948 \n",
       " 0.644408   0.763881   0.252037  0.317958  0.0653466\n",
       " 0.0337883  0.522479   0.453746  0.911328  0.269676 \n",
       " 0.198002   0.652266   0.950899  0.776652  0.79112  \n",
       " 0.139664   0.708062   0.524645  0.817366  0.121286 \n",
       " 0.913403   0.0470904  0.120822  0.406958  0.774429 "
      ]
     },
     "execution_count": 9,
     "metadata": {},
     "output_type": "execute_result"
    }
   ],
   "source": [
    "A=rand(8,5)"
   ]
  },
  {
   "cell_type": "code",
   "execution_count": 10,
   "metadata": {
    "collapsed": false
   },
   "outputs": [
    {
     "data": {
      "text/plain": [
       "(\n",
       "8x8 Array{Float64,2}:\n",
       " -0.0495579   0.59742   -0.46074    …  -0.306755  -0.00915418   0.180569 \n",
       " -0.464298    0.106115   0.430477      -0.270208   0.0897109   -0.476787 \n",
       " -0.235296    0.133084  -0.212858       0.676312   0.22773     -0.492038 \n",
       " -0.480033    0.182564  -0.375703       0.240206  -0.316204     0.176614 \n",
       " -0.0251696   0.334152   0.155551      -0.237841  -0.59554     -0.363809 \n",
       " -0.147496    0.337029   0.615581   …   0.399552  -0.125366     0.516919 \n",
       " -0.104039    0.404568   0.0857848     -0.206381   0.684717     0.0780927\n",
       " -0.680413   -0.438026  -0.0738342     -0.242875   0.0282895    0.247212 ,\n",
       "\n",
       "8x5 Array{Float64,2}:\n",
       " -1.34242  -1.02604  -0.848207  -0.981641   -1.20476 \n",
       "  0.0       1.48631   0.898543   1.45636     0.536013\n",
       "  0.0       0.0       0.849534   0.0782825   0.463995\n",
       "  0.0       0.0       0.0        0.830403    0.382035\n",
       "  0.0       0.0       0.0        0.0         0.596486\n",
       "  0.0       0.0       0.0        0.0         0.0     \n",
       "  0.0       0.0       0.0        0.0         0.0     \n",
       "  0.0       0.0       0.0        0.0         0.0     )"
      ]
     },
     "execution_count": 10,
     "metadata": {},
     "output_type": "execute_result"
    }
   ],
   "source": [
    "Q,R=myHouseholderQR(A)"
   ]
  },
  {
   "cell_type": "code",
   "execution_count": 11,
   "metadata": {
    "collapsed": false
   },
   "outputs": [
    {
     "data": {
      "text/plain": [
       "8x5 Array{Float64,2}:\n",
       " -1.34242      -1.02604      -0.848207     -0.981641     -1.20476    \n",
       " -1.11022e-16   1.48631       0.898543      1.45636       0.536013   \n",
       "  2.77556e-17  -1.30104e-16   0.849534      0.0782825     0.463995   \n",
       " -3.33067e-16  -1.70003e-16  -6.93889e-17   0.830403      0.382035   \n",
       " -5.55112e-17   1.35308e-16   6.93889e-17   4.71845e-16   0.596486   \n",
       "  1.11022e-16   2.08167e-16   1.80411e-16   9.71445e-17   1.38778e-16\n",
       " -1.07553e-16  -2.53703e-17   6.98226e-17   1.75207e-16  -3.81639e-17\n",
       " -1.11022e-16   1.89085e-16  -1.17961e-16   2.91434e-16   0.0        "
      ]
     },
     "execution_count": 11,
     "metadata": {},
     "output_type": "execute_result"
    }
   ],
   "source": [
    "Q'*A"
   ]
  },
  {
   "cell_type": "markdown",
   "metadata": {},
   "source": [
    "Program `myHouseholderQR()` je ilustrativan. Profesionalni programi imaju sljedeća svojstva:\n",
    "\n",
    "* računaju s blok matricama (uobičajena dimenzija bloka je 32 ili 64),\n",
    "* izračuna se vektor $\\hat v=v/v_1$. Vrijedi $\\hat v_1=1$, dok se ostali elemenenti vektora $\\hat v$ spremaju u strogi donji trokut matrice $A$,\n",
    "* ako se traži matrica $Q$, akumulacija se vrši unatrag koristeći spremljene vektore $v$ (tako se smanjuje broj operacija),\n",
    "* postoji opcija vraćanja ekonomičnog rastava,\n",
    "* postoji opcija računanja s __pivotiranjem__ - u svakom koraku se na prvo mjesto dovede stupac s najvećom normom pa je \n",
    "\n",
    "$$\n",
    "AP=QR.\n",
    "$$\n",
    "\n",
    "Vrijedi\n",
    "\n",
    "$$\n",
    "|R_{kk}|\\geq |R_{k+1,k+1}|\n",
    "$$\n",
    "\n",
    "pa se može utvrditi i numerički rank matrice."
   ]
  },
  {
   "cell_type": "code",
   "execution_count": 12,
   "metadata": {
    "collapsed": false
   },
   "outputs": [
    {
     "data": {
      "text/plain": [
       "(\n",
       "8x5 Array{Float64,2}:\n",
       " -0.0495579   0.59742   -0.46074     0.0684073   0.544871 \n",
       " -0.464298    0.106115   0.430477   -0.454565    0.26989  \n",
       " -0.235296    0.133084  -0.212858    0.323655    0.159696 \n",
       " -0.480033    0.182564  -0.375703   -0.469326   -0.431211 \n",
       " -0.0251696   0.334152   0.155551    0.467      -0.319107 \n",
       " -0.147496    0.337029   0.615581    0.111803    0.175079 \n",
       " -0.104039    0.404568   0.0857848   0.143698   -0.529116 \n",
       " -0.680413   -0.438026  -0.0738342   0.460905    0.0798994,\n",
       "\n",
       "5x5 Array{Float64,2}:\n",
       " -1.34242  -1.02604  -0.848207  -0.981641   -1.20476 \n",
       "  0.0       1.48631   0.898543   1.45636     0.536013\n",
       "  0.0       0.0       0.849534   0.0782825   0.463995\n",
       "  0.0       0.0       0.0        0.830403    0.382035\n",
       "  0.0       0.0       0.0        0.0         0.596486)"
      ]
     },
     "execution_count": 12,
     "metadata": {},
     "output_type": "execute_result"
    }
   ],
   "source": [
    "Q1,R1=qr(A,thin=true)"
   ]
  },
  {
   "cell_type": "code",
   "execution_count": 13,
   "metadata": {
    "collapsed": false
   },
   "outputs": [
    {
     "data": {
      "text/plain": [
       "(\n",
       "8x5 Array{Float64,2}:\n",
       " -0.483178   0.2252     -0.312576     -0.440962    0.544871 \n",
       " -0.137089  -0.457704    0.597565     -0.182765    0.26989  \n",
       " -0.348144  -0.0689591  -0.301188      0.0803921   0.159696 \n",
       " -0.163534  -0.460465   -0.0867108    -0.615541   -0.431211 \n",
       " -0.468719   0.244997   -0.000488808   0.273599   -0.319107 \n",
       " -0.399452   0.0627678   0.558562      0.226473    0.175079 \n",
       " -0.420392   0.12536     0.0941733    -0.0345594  -0.529116 \n",
       " -0.209309  -0.665831   -0.355132      0.509367    0.0798994,\n",
       "\n",
       "5x5 Array{Float64,2}:\n",
       " -1.9443  -0.677766  -1.13549   -1.63134   -1.1916  \n",
       "  0.0     -1.15876   -0.31849   -0.23449   -0.698734\n",
       "  0.0      0.0        0.926154   0.300981   0.347779\n",
       "  0.0      0.0        0.0       -0.674572   0.266263\n",
       "  0.0      0.0        0.0        0.0        0.596486,\n",
       "\n",
       "[4,1,3,2,5])"
      ]
     },
     "execution_count": 13,
     "metadata": {},
     "output_type": "execute_result"
    }
   ],
   "source": [
    "Q2,R2,P2=qr(A,Val{true})"
   ]
  },
  {
   "cell_type": "code",
   "execution_count": 14,
   "metadata": {
    "collapsed": false
   },
   "outputs": [
    {
     "data": {
      "text/plain": [
       "8x5 Array{Float64,2}:\n",
       " 1.11022e-16  2.22045e-16   5.55112e-17  6.66134e-16  -2.22045e-16\n",
       " 0.0          1.11022e-16  -1.11022e-16  1.11022e-16   0.0        \n",
       " 1.11022e-16  1.11022e-16   5.55112e-17  2.22045e-16   1.11022e-16\n",
       " 0.0          1.11022e-16   0.0          1.11022e-16  -1.11022e-16\n",
       " 1.11022e-16  5.55112e-17   5.55112e-17  1.11022e-16  -1.11022e-16\n",
       " 1.11022e-16  5.55112e-17   0.0          1.11022e-16   0.0        \n",
       " 0.0          2.77556e-17  -1.11022e-16  1.11022e-16  -5.55112e-17\n",
       " 5.55112e-17  1.11022e-16   0.0          0.0           2.22045e-16"
      ]
     },
     "execution_count": 14,
     "metadata": {},
     "output_type": "execute_result"
    }
   ],
   "source": [
    "Q2*R2-A[:,P2]"
   ]
  },
  {
   "cell_type": "markdown",
   "metadata": {
    "collapsed": true
   },
   "source": [
    "## Brzina\n",
    "\n",
    "Broj računskih operacija potrebnih za računanje QR rastava matrice $n\\times n$ je $O\\big(\\frac{4}{3}n^3\\big)$ za računanje matrice $R$ i  $O\\big(\\frac{4}{3}n^3\\big)$ za računanje matrice $Q$. \n"
   ]
  },
  {
   "cell_type": "code",
   "execution_count": 15,
   "metadata": {
    "collapsed": false
   },
   "outputs": [
    {
     "data": {
      "text/plain": [
       "512x512 Array{Float64,2}:\n",
       " 0.257606  0.0845131  0.118717   …  0.195343   0.227622   0.715156 \n",
       " 0.708221  0.137803   0.794173      0.997456   0.621092   0.28563  \n",
       " 0.411062  0.295472   0.266258      0.374317   0.968265   0.745656 \n",
       " 0.820678  0.295179   0.960145      0.370324   0.102766   0.147607 \n",
       " 0.15415   0.379783   0.0765235     0.358867   0.629899   0.90207  \n",
       " 0.516885  0.0331738  0.748555   …  0.283804   0.447094   0.124252 \n",
       " 0.82854   0.97993    0.0045712     0.630137   0.0925477  0.373992 \n",
       " 0.57788   0.34125    0.270476      0.0361061  0.312488   0.599964 \n",
       " 0.588155  0.390631   0.336293      0.435792   0.0827596  0.344603 \n",
       " 0.899007  0.851428   0.283197      0.158036   0.20447    0.759127 \n",
       " 0.863036  0.60136    0.607387   …  0.969492   0.149484   0.0740349\n",
       " 0.420625  0.135084   0.422086      0.725621   0.469543   0.283248 \n",
       " 0.253695  0.625787   0.198367      0.102971   0.490133   0.220909 \n",
       " ⋮                               ⋱             ⋮                   \n",
       " 0.636397  0.938067   0.923513   …  0.67892    0.46933    0.268589 \n",
       " 0.417398  0.948969   0.129893      0.603275   0.691869   0.254348 \n",
       " 0.126592  0.948961   0.303417      0.906916   0.418183   0.686575 \n",
       " 0.581851  0.030681   0.191172      0.56706    0.156535   0.395683 \n",
       " 0.716914  0.540473   0.871163      0.767262   0.564898   0.0118853\n",
       " 0.739921  0.0365917  0.937399   …  0.306799   0.0887187  0.499779 \n",
       " 0.478552  0.470219   0.470904      0.886097   0.0979242  0.740482 \n",
       " 0.693548  0.306958   0.833522      0.672714   0.459887   0.629089 \n",
       " 0.725674  0.063935   0.515443      0.736759   0.615046   0.397152 \n",
       " 0.780401  0.919809   0.535671      0.31965    0.835648   0.356126 \n",
       " 0.285537  0.149785   0.69152    …  0.409152   0.841056   0.484339 \n",
       " 0.555575  0.75306    0.817339      0.313261   0.697143   0.110623 "
      ]
     },
     "execution_count": 15,
     "metadata": {},
     "output_type": "execute_result"
    }
   ],
   "source": [
    "n=512\n",
    "A=rand(n,n)"
   ]
  },
  {
   "cell_type": "code",
   "execution_count": 16,
   "metadata": {
    "collapsed": false
   },
   "outputs": [
    {
     "name": "stdout",
     "output_type": "stream",
     "text": [
      "  0.041536 seconds (785 allocations: 8.325 MB)\n"
     ]
    }
   ],
   "source": [
    "@time qr(A);"
   ]
  },
  {
   "cell_type": "code",
   "execution_count": 17,
   "metadata": {
    "collapsed": false
   },
   "outputs": [
    {
     "name": "stdout",
     "output_type": "stream",
     "text": [
      "  0.049736 seconds (36 allocations: 6.267 MB)\n"
     ]
    }
   ],
   "source": [
    "@time qr(A,Val{true});"
   ]
  },
  {
   "cell_type": "code",
   "execution_count": 18,
   "metadata": {
    "collapsed": false
   },
   "outputs": [
    {
     "name": "stdout",
     "output_type": "stream",
     "text": [
      "  1.386338 seconds (48.49 k allocations: 3.359 GB, 8.17% gc time)\n"
     ]
    }
   ],
   "source": [
    "@time myHouseholderQR(A);"
   ]
  },
  {
   "cell_type": "markdown",
   "metadata": {},
   "source": [
    "## Točnost\n",
    "\n",
    "Za matrice $\\hat Q$ i $\\hat R$ izračunate Householder-ovom metodom vrijedi: \n",
    "\n",
    "\\begin{align*}\n",
    "\\hat Q^T\\hat Q& =I+E, \\qquad \\|E \\|_2\\approx \\varepsilon,\\\\ \n",
    "\\| A-\\hat Q\\hat R\\|_2& \\approx \\varepsilon\\|A\\|_2.\n",
    "\\end{align*}\n",
    "\n",
    "Također, postoji egzaktna ortogonalna matrica $Q$ za koju je \n",
    "\n",
    "$$\\| A- Q\\hat R\\|_2\\approx \\varepsilon\\|A\\|_2.\n",
    "$$"
   ]
  },
  {
   "cell_type": "code",
   "execution_count": null,
   "metadata": {
    "collapsed": true
   },
   "outputs": [],
   "source": []
  }
 ],
 "metadata": {
  "kernelspec": {
   "display_name": "Julia 0.4.0",
   "language": "julia",
   "name": "julia-0.4"
  },
  "language_info": {
   "file_extension": ".jl",
   "mimetype": "application/julia",
   "name": "julia",
   "version": "0.4.0"
  }
 },
 "nbformat": 4,
 "nbformat_minor": 0
}
