{
 "cells": [
  {
   "cell_type": "markdown",
   "metadata": {},
   "source": [
    "# QR rastav\n",
    "\n",
    "---\n",
    "\n",
    "__QR rastav__ matrice $A$ tipa $m\\times n$,  $m\\geq n$,\n",
    "glasi\n",
    "\n",
    "$$\n",
    "A=QR, \n",
    "$$\n",
    "\n",
    "pri čemu je $Q$ __ortonormirana matrica__ dimenzije $m\\times m$, odnosno\n",
    "\\[\n",
    "Q^TQ=Q Q^T=I,\n",
    "\\]\n",
    "a $R$ je $m\\times n$ gornje trokutasta matrica.\n",
    "\n",
    "Ortonormiranu matricu kraće zovemo i __ortogonalna matrica__.\n",
    "\n",
    "Na primjer,\n",
    "\n",
    "$$\n",
    "\\begin{bmatrix} a_{11} & a_{12} & a_{13} \\\\\n",
    "a_{21} & a_{22} & a_{23} \\\\\n",
    "a_{31} & a_{32} & a_{33} \\\\\n",
    "a_{41} & a_{42} & a_{43} \\\\\n",
    "a_{51} & a_{52} & a_{53}\n",
    "\\end{bmatrix}\n",
    "=\n",
    "\\begin{bmatrix}\n",
    "q_{11} & q_{12} & q_{13} & q_{14} & q_{15} \\\\\n",
    "q_{21} & q_{22} & q_{23} & q_{24} & q_{25} \\\\\n",
    "q_{31} & q_{32} & q_{33} & q_{34} & q_{35} \\\\\n",
    "q_{41} & q_{42} & q_{43} & q_{44} & q_{45} \\\\\n",
    "q_{51} & q_{52} & q_{53} & q_{54} & q_{55}\n",
    "\\end{bmatrix}\n",
    "\\begin{bmatrix}\n",
    "r_{11} & r_{12} & r_{13} \\\\\n",
    "0 & r_{22} & r_{23} \\\\\n",
    "0 & 0 & r_{33} \\\\\n",
    "0 & 0 & 0 \\\\\n",
    "0 & 0 & 0 \n",
    "\\end{bmatrix}. \\tag{1}\n",
    "$$\n",
    "\n",
    "S (1) je definiram i __ekonomični QR rastav__\n",
    "\n",
    "$$\n",
    "\\begin{bmatrix} a_{11} & a_{12} & a_{13} \\\\\n",
    "a_{21} & a_{22} & a_{23} \\\\\n",
    "a_{31} & a_{32} & a_{33} \\\\\n",
    "a_{41} & a_{42} & a_{43} \\\\\n",
    "a_{51} & a_{52} & a_{53}\n",
    "\\end{bmatrix}\n",
    "=\n",
    "\\begin{bmatrix}\n",
    "q_{11} & q_{12} & q_{13} \\\\\n",
    "q_{21} & q_{22} & q_{23} \\\\\n",
    "q_{31} & q_{32} & q_{33} \\\\\n",
    "q_{41} & q_{42} & q_{43} \\\\\n",
    "q_{51} & q_{52} & q_{53}\n",
    "\\end{bmatrix}\n",
    "\\begin{bmatrix}\n",
    "r_{11} & r_{12} & r_{13} \\\\\n",
    "0 & r_{22} & r_{23} \\\\\n",
    "0 & 0 & r_{33}\n",
    "\\end{bmatrix}. \\tag{2}\n",
    "$$\n",
    "\n",
    "\n",
    "Izjednačavanje stupaca počevši od prvog daje: \n",
    "\n",
    "\\begin{align}\n",
    "t&=a_{:1}\\\\\n",
    "r_{11}&=\\|t\\|_2 \\\\\n",
    "q_{:1}&=t\\frac{1}{r_{11}}\\\\\n",
    "r_{12}&= q_{:1}^Ta_{:1} \\\\\n",
    "t&=a_{:2}-q_{:1}r_{12} \\\\\n",
    "r_{22}&=\\|t\\|_2 \\\\\n",
    "q_{:2}&=t\\frac{1}{r_{22}}\n",
    "r_{13}&=q_{:1}^Ta_{:3} \\\\\n",
    "r_{23}&=q_{:2}^Ta_{:3} \\\\\n",
    "t&=a_{:3}-q_{:1}r_{13}-q_{:2}r_{23}\\\\\n",
    "r_{33}&=\\|t\\|_2 \\\\\n",
    "q_{:3}&=t\\frac{1}{r_{33}}.\n",
    "\\end{align}\n",
    "\n",
    "Indukcijom dobijemo __Gram-Schmidt-ov postupak ortogonalizacije__"
   ]
  },
  {
   "cell_type": "code",
   "execution_count": 1,
   "metadata": {
    "collapsed": false
   },
   "outputs": [
    {
     "data": {
      "text/plain": [
       "myGramSchmidtQR (generic function with 1 method)"
      ]
     },
     "execution_count": 1,
     "metadata": {},
     "output_type": "execute_result"
    }
   ],
   "source": [
    "function myGramSchmidtQR{T}(A::Array{T})\n",
    "    m,n=size(A)\n",
    "    R=zeros(Float64,n,n)\n",
    "    Q=Array(Float64,m,n)\n",
    "    R[1,1]=norm(A[:,1])\n",
    "    Q[:,1]=A[:,1]/R[1,1]\n",
    "    for k=2:n\n",
    "        for i=1:k-1\n",
    "            R[i,k]=Q[:,i]⋅A[:,k]\n",
    "        end\n",
    "        t=A[:,k]-sum([R[i,k]*Q[:,i] for i=1:k-1])\n",
    "        R[k,k]=norm(t)\n",
    "        Q[:,k]=t/R[k,k]\n",
    "    end\n",
    "    Q,R\n",
    "end "
   ]
  },
  {
   "cell_type": "code",
   "execution_count": 2,
   "metadata": {
    "collapsed": false
   },
   "outputs": [
    {
     "data": {
      "text/plain": [
       "(\n",
       "8x5 Array{Float64,2}:\n",
       " 0.359648    0.503638   -0.285932      0.588354   0.0994707\n",
       " 0.318703   -0.435042   -0.000649985   0.287177   0.144203 \n",
       " 0.621199   -0.434796   -0.159205     -0.367048   0.189053 \n",
       " 0.0149078   0.180702    0.416849     -0.144982   0.0650706\n",
       " 0.394503    0.0479348   0.312581      0.319804   0.0847595\n",
       " 0.411997    0.292243   -0.163206     -0.31799   -0.732296 \n",
       " 0.136792   -0.0818673   0.74755       0.136438  -0.292223 \n",
       " 0.197194    0.490899    0.189629     -0.44002    0.548178 ,\n",
       "\n",
       "5x5 Array{Float64,2}:\n",
       " 1.56401  1.41757    1.2373      1.04789    1.12889 \n",
       " 0.0      0.609087  -0.00797281  0.283191   0.336651\n",
       " 0.0      0.0        1.03646     0.851554   0.207381\n",
       " 0.0      0.0        0.0         0.595904  -0.249448\n",
       " 0.0      0.0        0.0         0.0        0.789342)"
      ]
     },
     "execution_count": 2,
     "metadata": {},
     "output_type": "execute_result"
    }
   ],
   "source": [
    "A=rand(8,5)\n",
    "Q,R=myGramSchmidtQR(A)"
   ]
  },
  {
   "cell_type": "code",
   "execution_count": 3,
   "metadata": {
    "collapsed": false
   },
   "outputs": [
    {
     "data": {
      "text/plain": [
       "8x5 Array{Float64,2}:\n",
       "  0.0          0.0  0.0  0.0  0.0\n",
       "  0.0          0.0  0.0  0.0  0.0\n",
       "  0.0          0.0  0.0  0.0  0.0\n",
       "  0.0          0.0  0.0  0.0  0.0\n",
       "  0.0          0.0  0.0  0.0  0.0\n",
       "  0.0          0.0  0.0  0.0  0.0\n",
       " -2.77556e-17  0.0  0.0  0.0  0.0\n",
       "  0.0          0.0  0.0  0.0  0.0"
      ]
     },
     "execution_count": 3,
     "metadata": {},
     "output_type": "execute_result"
    }
   ],
   "source": [
    "A-Q*R"
   ]
  },
  {
   "cell_type": "code",
   "execution_count": 4,
   "metadata": {
    "collapsed": false
   },
   "outputs": [
    {
     "data": {
      "text/plain": [
       "5x5 Array{Float64,2}:\n",
       "  1.0          -6.52256e-16  -4.44089e-16   4.30211e-16   5.41234e-16\n",
       " -6.52256e-16   1.0           8.60423e-16  -1.94289e-16   6.66134e-16\n",
       " -4.44089e-16   8.60423e-16   1.0           5.13478e-16   3.46945e-16\n",
       "  4.30211e-16  -1.94289e-16   5.13478e-16   1.0          -7.49401e-16\n",
       "  5.41234e-16   6.66134e-16   3.46945e-16  -7.49401e-16   1.0        "
      ]
     },
     "execution_count": 4,
     "metadata": {},
     "output_type": "execute_result"
    }
   ],
   "source": [
    "Q'*Q"
   ]
  },
  {
   "cell_type": "markdown",
   "metadata": {},
   "source": [
    "Algoritam `myGramSchmidtQR()` je numerički nestabilan pa je bolje koristiti _modificirani Gram-Schmidt-ov algoritam_ ili _Householder-ove reflektore_ ili _Givens-ove rotacije_ (vidi [G. Golub and C. F. Van Loan, Matrix Computations, poglavlje 5][GVL13]).\n",
    "\n",
    "[GVL13]: https://books.google.hr/books?id=X5YfsuCWpxMC&printsec=frontcover&hl=hr#v=onepage&q&f=false \"G. Golub and C. F Van Loan, 'Matrix Computations', 4th Edition, John Hopkins, Baltimore, 2013\""
   ]
  },
  {
   "cell_type": "markdown",
   "metadata": {},
   "source": [
    "## Householderovi reflektori\n",
    "\n",
    "_QR rastav vektora_ $x$ jednak je\n",
    "\n",
    "$$\n",
    "H \\begin{bmatrix} x_1 \\\\ x_2 \\\\ \\vdots \\\\ x_m \n",
    "\\end{bmatrix}  =r,\n",
    "$$\n",
    "\n",
    "gdje je \n",
    "\n",
    "$$\n",
    "H=I - \\frac{2}{v^Tv}v v^T, \\qquad  \n",
    "v=\\begin{bmatrix}\n",
    "x_1\\pm \\|x\\|_2 \\\\ x_2 \\\\ x_3 \\\\ \\vdots \\\\ x_m\n",
    "\\end{bmatrix}.\n",
    "$$ \n",
    "\n",
    "__Householderov reflektor__ $H$ je _simetrična_ i _ortogonalna_ matrica (dokažite!). Ovisno o izboru predznaka u definicije vektora $v$ vrijedi\n",
    "\n",
    "$$\n",
    "r=\\begin{bmatrix} \\mp \\|x\\| \\\\ 0 \\\\ \\vdots \\\\ 0\n",
    "\\end{bmatrix}\n",
    "$$\n",
    "\n",
    "Zbog numeričke stabilnost se najčešće uzima\n",
    "\n",
    "$$\n",
    "v_1=x_1+\\mathop{\\mathrm{sign}} (x_1) \\|x\\|_2.\n",
    "$$\n",
    "\n",
    "Matrica $H$ se __ne računa eksplicitno__ već se produkt $Hx$ računa po formuli\n",
    "\n",
    "$$\n",
    "Hx=x-v\\frac{2v^Tx}{v^Tv}\n",
    "$$\n",
    "\n",
    "za koju je potrebno $O(6m)$ operacija."
   ]
  },
  {
   "cell_type": "code",
   "execution_count": 5,
   "metadata": {
    "collapsed": false
   },
   "outputs": [
    {
     "data": {
      "text/plain": [
       "myHouseholderVector (generic function with 1 method)"
      ]
     },
     "execution_count": 5,
     "metadata": {},
     "output_type": "execute_result"
    }
   ],
   "source": [
    "function myHouseholderVector{T}(x::Array{T})\n",
    "    # Vraca v\n",
    "    v=deepcopy(x)\n",
    "    v[1]=x[1]+sign(x[1])*norm(x)\n",
    "    v\n",
    "end"
   ]
  },
  {
   "cell_type": "code",
   "execution_count": 6,
   "metadata": {
    "collapsed": false
   },
   "outputs": [
    {
     "data": {
      "text/plain": [
       "8-element Array{Float64,1}:\n",
       " -1.54718    \n",
       "  5.55112e-17\n",
       "  5.55112e-17\n",
       "  2.22045e-16\n",
       "  2.22045e-16\n",
       "  1.11022e-16\n",
       "  1.11022e-16\n",
       "  5.55112e-17"
      ]
     },
     "execution_count": 6,
     "metadata": {},
     "output_type": "execute_result"
    }
   ],
   "source": [
    "x=rand(8)\n",
    "v=myHouseholderVector(x)\n",
    "β=(2/(v⋅v))*(v⋅x)\n",
    "x-β*v"
   ]
  },
  {
   "cell_type": "code",
   "execution_count": 7,
   "metadata": {
    "collapsed": false
   },
   "outputs": [
    {
     "data": {
      "text/plain": [
       "1.5471820070627456"
      ]
     },
     "execution_count": 7,
     "metadata": {},
     "output_type": "execute_result"
    }
   ],
   "source": [
    "norm(x)"
   ]
  },
  {
   "cell_type": "markdown",
   "metadata": {},
   "source": [
    "QR rastav matrice se računa rekurzivnim QR rastavom vektora pomoću Householderovih reflektora:"
   ]
  },
  {
   "cell_type": "code",
   "execution_count": 8,
   "metadata": {
    "collapsed": false
   },
   "outputs": [
    {
     "data": {
      "text/plain": [
       "myHouseholderQR (generic function with 1 method)"
      ]
     },
     "execution_count": 8,
     "metadata": {},
     "output_type": "execute_result"
    }
   ],
   "source": [
    "function myHouseholderQR{T}(A1::Array{T})\n",
    "    # Vraca Q i R\n",
    "    A=deepcopy(A1)\n",
    "    m,n=size(A)\n",
    "    # R=zeros(Float64,m,n)\n",
    "    Q=eye(Float64,m,m)\n",
    "    for k=1:n\n",
    "        v=myHouseholderVector(A[k:m,k])\n",
    "        β=(2/(v⋅v))*v\n",
    "        A[k:m,k:n]=A[k:m,k:n]-β*(v'*A[k:m,k:n])\n",
    "        Q[k:m,:]=Q[k:m,:]-β*(v'*Q[k:m,:])\n",
    "    end\n",
    "    R=triu(A)\n",
    "    Q',R\n",
    "end\n",
    "    "
   ]
  },
  {
   "cell_type": "code",
   "execution_count": 9,
   "metadata": {
    "collapsed": false
   },
   "outputs": [
    {
     "data": {
      "text/plain": [
       "8x5 Array{Float64,2}:\n",
       " 0.637868   0.942445   0.229427  0.335862   0.211171 \n",
       " 0.0502825  0.788854   0.608826  0.0712778  0.344981 \n",
       " 0.0522367  0.158408   0.278756  0.14095    0.0969722\n",
       " 0.812943   0.653823   0.540247  0.687696   0.302442 \n",
       " 0.864486   0.665771   0.103948  0.686406   0.6121   \n",
       " 0.845197   0.357214   0.930272  0.836597   0.359225 \n",
       " 0.72956    0.720899   0.340684  0.506786   0.976177 \n",
       " 0.308771   0.0462862  0.355952  0.993085   0.655115 "
      ]
     },
     "execution_count": 9,
     "metadata": {},
     "output_type": "execute_result"
    }
   ],
   "source": [
    "A=rand(8,5)"
   ]
  },
  {
   "cell_type": "code",
   "execution_count": 10,
   "metadata": {
    "collapsed": false
   },
   "outputs": [
    {
     "data": {
      "text/plain": [
       "(\n",
       "8x8 Array{Float64,2}:\n",
       " -0.358698   -0.435946    0.286206    0.0125258  …   0.466507   -0.374673   \n",
       " -0.0282758  -0.779004   -0.455964    0.0915112     -0.303554    0.188688   \n",
       " -0.0293747  -0.120349   -0.252613    0.0457061     -0.1448     -0.557876   \n",
       " -0.45715     0.014729   -0.0737819  -0.0881879      0.0948928   0.664911   \n",
       " -0.486135    0.0464109   0.454191    0.156038      -0.716986   -0.101483   \n",
       " -0.475288    0.351439   -0.590966   -0.364348   …  -0.0385142  -0.245066   \n",
       " -0.41026    -0.126566    0.137149   -0.068276       0.338098    0.0180863  \n",
       " -0.173634    0.216147   -0.258041    0.905452       0.174333   -0.000726289,\n",
       "\n",
       "8x5 Array{Float64,2}:\n",
       " -1.77829  -1.46113   -1.04893   -1.55267   -1.20915 \n",
       "  0.0      -0.959609  -0.234309   0.267602  -0.195313\n",
       "  0.0       0.0       -0.86989   -0.392113  -0.113116\n",
       "  0.0       0.0        0.0        0.623408   0.503129\n",
       "  0.0       0.0        0.0        0.0       -0.619815\n",
       "  0.0       0.0        0.0        0.0        0.0     \n",
       "  0.0       0.0        0.0        0.0        0.0     \n",
       "  0.0       0.0        0.0        0.0        0.0     )"
      ]
     },
     "execution_count": 10,
     "metadata": {},
     "output_type": "execute_result"
    }
   ],
   "source": [
    "Q,R=myHouseholderQR(A)"
   ]
  },
  {
   "cell_type": "code",
   "execution_count": 11,
   "metadata": {
    "collapsed": false
   },
   "outputs": [
    {
     "data": {
      "text/plain": [
       "8x5 Array{Float64,2}:\n",
       " -1.77829      -1.46113      -1.04893      -1.55267      -1.20915    \n",
       "  2.77556e-17  -0.959609     -0.234309      0.267602     -0.195313   \n",
       " -1.249e-16    -3.98986e-17  -0.86989      -0.392113     -0.113116   \n",
       " -1.11022e-16  -9.71445e-17  -5.55112e-17   0.623408      0.503129   \n",
       " -3.02709e-16  -1.65612e-17  -3.31766e-17  -4.77049e-17  -0.619815   \n",
       " -1.66533e-16  -1.69136e-16  -2.18575e-16  -1.66533e-16  -1.31839e-16\n",
       " -3.67761e-16  -5.55112e-17  -1.38778e-16  -1.94289e-16  -1.66533e-16\n",
       "  2.99158e-16   7.82997e-17  -6.451e-18     2.21394e-16   1.57101e-16"
      ]
     },
     "execution_count": 11,
     "metadata": {},
     "output_type": "execute_result"
    }
   ],
   "source": [
    "Q'*A"
   ]
  },
  {
   "cell_type": "markdown",
   "metadata": {},
   "source": [
    "Program `myHouseholderQR()` je ilustrativan. Profesionalni programi imaju sljedeća svojstva:\n",
    "\n",
    "* računaju s blok matricama (uobičajena dimenzija bloka je 32 ili 64)\n",
    "* izračuna se vektor $\\hat v=v/v_1$. Vrijedi $\\hat v_1=1$, dok se ostali elemenenti vektora $\\hat v$ spremaju u strogi donji trokut matrice $A$.\n",
    "* ako se traži matrica $Q$, akumulacija se vrši unatrag koristeći spremljene vektore $v$ (tako se smanjuje broj operacija)\n",
    "* postoji opcija vraćanja ekonomičnog rastava\n",
    "* postoji opcija računanja s __pivotiranjem__ - u svakom koraku se na prvo mjesto dovede stupac s najvećom normom pa je \n",
    "$$\n",
    "AP=QR\n",
    "$$\n",
    "Vrijedi\n",
    "$$\n",
    "|R_{kk}|\\geq |R_{k+1,k+1}|\n",
    "$$\n",
    "pa se može utvrditi i numerički rank matrice."
   ]
  },
  {
   "cell_type": "code",
   "execution_count": 12,
   "metadata": {
    "collapsed": false
   },
   "outputs": [
    {
     "data": {
      "text/plain": [
       "(\n",
       "8x5 Array{Float64,2}:\n",
       " -0.358698   -0.435946    0.286206    0.0125258   0.454363  \n",
       " -0.0282758  -0.779004   -0.455964    0.0915112  -0.0984527 \n",
       " -0.0293747  -0.120349   -0.252613    0.0457061   0.0219782 \n",
       " -0.45715     0.014729   -0.0737819  -0.0881879   0.341099  \n",
       " -0.486135    0.0464109   0.454191    0.156038   -0.0100452 \n",
       " -0.475288    0.351439   -0.590966   -0.364348    0.048983  \n",
       " -0.41026    -0.126566    0.137149   -0.068276   -0.815176  \n",
       " -0.173634    0.216147   -0.258041    0.905452   -0.00424997,\n",
       "\n",
       "5x5 Array{Float64,2}:\n",
       " -1.77829  -1.46113   -1.04893   -1.55267   -1.20915 \n",
       "  0.0      -0.959609  -0.234309   0.267602  -0.195313\n",
       "  0.0       0.0       -0.86989   -0.392113  -0.113116\n",
       "  0.0       0.0        0.0        0.623408   0.503129\n",
       "  0.0       0.0        0.0        0.0       -0.619815)"
      ]
     },
     "execution_count": 12,
     "metadata": {},
     "output_type": "execute_result"
    }
   ],
   "source": [
    "Q1,R1=qr(A,thin=true)"
   ]
  },
  {
   "cell_type": "code",
   "execution_count": 13,
   "metadata": {
    "collapsed": false
   },
   "outputs": [
    {
     "data": {
      "text/plain": [
       "(\n",
       "8x5 Array{Float64,2}:\n",
       " -0.358698   -0.435946    0.286206   -0.344874   -0.296082  \n",
       " -0.0282758  -0.779004   -0.455964    0.134113   -0.00900092\n",
       " -0.0293747  -0.120349   -0.252613    0.0117417  -0.0493378 \n",
       " -0.45715     0.014729   -0.0737819  -0.320409   -0.146504  \n",
       " -0.486135    0.0464109   0.454191    0.10614    -0.114817  \n",
       " -0.475288    0.351439   -0.590966   -0.267656    0.25201   \n",
       " -0.41026    -0.126566    0.137149    0.589874    0.566764  \n",
       " -0.173634    0.216147   -0.258041    0.57395    -0.700317  ,\n",
       "\n",
       "5x5 Array{Float64,2}:\n",
       " -1.77829  -1.46113   -1.04893   -1.20915   -1.55267 \n",
       "  0.0      -0.959609  -0.234309  -0.195313   0.267602\n",
       "  0.0       0.0       -0.86989   -0.113116  -0.392113\n",
       "  0.0       0.0        0.0        0.798317   0.392895\n",
       "  0.0       0.0        0.0        0.0       -0.484016,\n",
       "\n",
       "[1,2,3,5,4])"
      ]
     },
     "execution_count": 13,
     "metadata": {},
     "output_type": "execute_result"
    }
   ],
   "source": [
    "Q2,R2,P2=qr(A,Val{true})"
   ]
  },
  {
   "cell_type": "code",
   "execution_count": 14,
   "metadata": {
    "collapsed": false
   },
   "outputs": [
    {
     "data": {
      "text/plain": [
       "8x5 Array{Float64,2}:\n",
       " -3.33067e-16   4.44089e-16   8.32667e-17   2.22045e-16   1.66533e-16\n",
       "  0.0          -1.11022e-16  -2.22045e-16   0.0           0.0        \n",
       "  0.0           0.0           0.0           0.0           0.0        \n",
       "  0.0           2.22045e-16   1.11022e-16   1.11022e-16   2.22045e-16\n",
       "  1.11022e-16   2.22045e-16   5.55112e-17   1.11022e-16   0.0        \n",
       "  0.0           2.22045e-16   0.0          -5.55112e-17   0.0        \n",
       "  0.0           2.22045e-16   0.0           1.11022e-16   0.0        \n",
       "  0.0           5.55112e-17   5.55112e-17   0.0          -2.22045e-16"
      ]
     },
     "execution_count": 14,
     "metadata": {},
     "output_type": "execute_result"
    }
   ],
   "source": [
    "Q2*R2-A[:,P2]"
   ]
  },
  {
   "cell_type": "markdown",
   "metadata": {
    "collapsed": true
   },
   "source": [
    "## Brzina\n",
    "\n",
    "Broj računskih operacija potrebnih za računanje QR rastava matrice $n\\times n$ je $O\\big(\\frac{4}{3}n^3\\big)$ za računanje matrice $R$ i  $O\\big(\\frac{4}{3}n^3\\big)$ za računanje matrice $Q$. \n"
   ]
  },
  {
   "cell_type": "code",
   "execution_count": 15,
   "metadata": {
    "collapsed": false
   },
   "outputs": [
    {
     "data": {
      "text/plain": [
       "512x512 Array{Float64,2}:\n",
       " 0.536437  0.620146  0.955737   …  0.716935    0.35192    0.284631 \n",
       " 0.783614  0.391956  0.0641036     0.00798083  0.959556   0.26732  \n",
       " 0.242334  0.266814  0.914898      0.250891    0.328223   0.604216 \n",
       " 0.608386  0.16219   0.377054      0.939018    0.390028   0.302415 \n",
       " 0.91532   0.53489   0.3475        0.663843    0.546346   0.726047 \n",
       " 0.844444  0.518174  0.160187   …  0.554683    0.407571   0.621222 \n",
       " 0.399279  0.717973  0.354074      0.527295    0.42568    0.388296 \n",
       " 0.483104  0.578484  0.812733      0.0625844   0.807464   0.628519 \n",
       " 0.549085  0.827302  0.426681      0.714567    0.180581   0.5971   \n",
       " 0.673063  0.619267  0.819928      0.409231    0.6785     0.70661  \n",
       " 0.790026  0.816188  0.428422   …  0.799447    0.0977509  0.95705  \n",
       " 0.361776  0.793829  0.943605      0.673115    0.621075   0.609003 \n",
       " 0.642054  0.577293  0.338452      0.653621    0.473432   0.0944336\n",
       " ⋮                              ⋱              ⋮                   \n",
       " 0.780078  0.195557  0.735824   …  0.516748    0.956749   0.284052 \n",
       " 0.378176  0.739285  0.503813      0.623487    0.325077   0.92898  \n",
       " 0.681771  0.75334   0.952553      0.594664    0.713038   0.595026 \n",
       " 0.168457  0.268163  0.604515      0.499983    0.58688    0.676231 \n",
       " 0.998247  0.509651  0.416922      0.860519    0.840349   0.647575 \n",
       " 0.850832  0.222523  0.291924   …  0.284146    0.654479   0.865361 \n",
       " 0.663797  0.107139  0.920653      0.363991    0.0340914  0.898632 \n",
       " 0.921003  0.589026  0.397287      0.751972    0.377666   0.402837 \n",
       " 0.677013  0.12357   0.374388      0.861925    0.148688   0.493521 \n",
       " 0.374155  0.213167  0.245643      0.413094    0.784579   0.436274 \n",
       " 0.399558  0.582662  0.196399   …  0.184857    0.259809   0.535556 \n",
       " 0.795582  0.457417  0.763924      0.116189    0.762266   0.998737 "
      ]
     },
     "execution_count": 15,
     "metadata": {},
     "output_type": "execute_result"
    }
   ],
   "source": [
    "n=512\n",
    "A=rand(n,n)"
   ]
  },
  {
   "cell_type": "code",
   "execution_count": 16,
   "metadata": {
    "collapsed": false
   },
   "outputs": [
    {
     "name": "stdout",
     "output_type": "stream",
     "text": [
      "  0.048902 seconds (785 allocations: 8.325 MB)\n"
     ]
    }
   ],
   "source": [
    "@time qr(A);"
   ]
  },
  {
   "cell_type": "code",
   "execution_count": 17,
   "metadata": {
    "collapsed": false
   },
   "outputs": [
    {
     "name": "stdout",
     "output_type": "stream",
     "text": [
      "  0.061348 seconds (36 allocations: 6.267 MB)\n"
     ]
    }
   ],
   "source": [
    "@time qr(A,Val{true});"
   ]
  },
  {
   "cell_type": "code",
   "execution_count": 18,
   "metadata": {
    "collapsed": false
   },
   "outputs": [
    {
     "name": "stdout",
     "output_type": "stream",
     "text": [
      "  1.391346 seconds (48.49 k allocations: 3.359 GB, 7.77% gc time)\n"
     ]
    }
   ],
   "source": [
    "@time myHouseholderQR(A);"
   ]
  },
  {
   "cell_type": "markdown",
   "metadata": {},
   "source": [
    "## Točnost\n",
    "\n",
    "Za matrice $\\hat Q$ i $\\hat R$ izračunate Householder-ovom metodom vrijedi: \n",
    "\n",
    "* $\\hat Q^T\\hat Q=I+E$, $\\|E \\|_2\\approx \\varepsilon$,\n",
    "\n",
    "* $ \\| A-\\hat Q\\hat R\\|_2\\approx \\varepsilon\\|A\\|_2$,\n",
    "\n",
    "* postoji egzaktna ortiogonalna matrica $Q$ za koju je $\\| A- Q\\hat R\\|_2\\approx \\varepsilon\\|A\\|_2$."
   ]
  },
  {
   "cell_type": "code",
   "execution_count": null,
   "metadata": {
    "collapsed": true
   },
   "outputs": [],
   "source": []
  }
 ],
 "metadata": {
  "kernelspec": {
   "display_name": "Julia 0.4.0",
   "language": "julia",
   "name": "julia-0.4"
  },
  "language_info": {
   "file_extension": ".jl",
   "mimetype": "application/julia",
   "name": "julia",
   "version": "0.4.0"
  }
 },
 "nbformat": 4,
 "nbformat_minor": 0
}
