{
 "cells": [
  {
   "cell_type": "markdown",
   "metadata": {},
   "source": [
    "# Metoda najmanjih kvadrata\n",
    "\n",
    "---\n",
    "\n",
    "Neka je zadan sustav s više jednadžbi od nepoznanica:\n",
    "\n",
    "$$Ax=b, \\quad m>n.\n",
    "$$\n",
    "\n",
    "Ako sustav ima rješenje, tada je je $Ax-b=0$, odnosno $\\| Ax-b\\|=0$ za neku od matričnih normi.\n",
    "\n",
    "Ako sustav nema rješenje, tada je prirodno tražiti rješenje za koje je \n",
    "\n",
    "$$\n",
    "\\|Ax-b \\|_{1,2,\\infty}\\to \\min\n",
    "$$\n",
    "\n",
    "za odabranu vektorsku normu.\n",
    "\n",
    "Ako je $\\mathop{\\mathrm{rang}} A=n$, tada se __jedinstveno__ rješenje $x$ za koje \n",
    "\n",
    "$$\n",
    "\\|Ax-b \\|_{2}\\to \\min\n",
    "$$\n",
    "\n",
    "dobije rješavanjem sustava __normalnih jednadžbi__:\n",
    "\n",
    "$$\n",
    "A^T A x=A^T b. \\tag{*}\n",
    "$$\n",
    "\n",
    "__Dokaz__: Definirajmo\n",
    "\n",
    "$$\n",
    "Q(x)=\\|Ax-b\\|_2^2=(x^TA^T-b^T)(Ax-b)=x^TA^T A x -2x^T A^T b+b^Tb.\n",
    "$$\n",
    "\n",
    "Vrijedi\n",
    "\n",
    "\\begin{align}\n",
    "Q(x+h)&=(x^T+h^T)A^TA(x+h)-2(x^T+h^T)A^Tb+b^Tb \\\\\n",
    "&=Q(x) +2h^T(A^TAx-A^Tb)+h^TA^TAh\\\\ &= Q(x)+\\|Ah\\|_2^2 \\\\\n",
    "&\\geq Q(x),\n",
    "\\end{align}\n",
    "\n",
    "pa se minimum zaista postiže u $x$.\n",
    "\n",
    "Rješenje je jedinstveno jer $Q(x)=Q(y)$ povlači $\\|Ax\\|_2=0$ pa je ili $h=0$ ili $\\mathop{\\mathrm{rang}} A<n$ što je kontradikcija. _QED_\n",
    "\n",
    "__Geometrijsko značenje__: Vektori $Ax$ i $Ax -b$ su međusobno okomiti, \n",
    "\n",
    "$$\n",
    "(Ax)^T\\cdot (Ax - b)=x^T (A^TAx - A^Tb)=0. \n",
    "$$ \n",
    "\n",
    "Dakle, $Ax$ je ortogonalna projekcija vektora $b$ na skup $\\{Ay:\\ y \\textrm{ proizvoljan}\\}$.\n",
    "\n",
    "__Kvaliteta prilagodbe__: Rješenje $x$ zove se __kvadratična prilagodba__ \n",
    "sustavu $A x=b$ u smislu najmanjih kvadrata. Kvalitetu prilagodbe mjerimo s\n",
    "\n",
    "$$\n",
    "q=\\sqrt{\\frac{Q(x)}{Q(0)}}=\\frac{\\|A x - b\\|_2}{\\|b\\|_2 }.\n",
    "$$"
   ]
  },
  {
   "cell_type": "markdown",
   "metadata": {},
   "source": [
    "## Primjer\n",
    "\n",
    "Riješimo sustav \n",
    "\\begin{align}\n",
    "x+y&=0\\\\\n",
    "y+z&=1\\\\\n",
    "x+z&=0\\\\\n",
    "-x+y+z&=1\\\\\n",
    "-x-z&=0\n",
    "\\end{align}\n",
    "u smislu najmanjih kvadrata."
   ]
  },
  {
   "cell_type": "code",
   "execution_count": 1,
   "metadata": {
    "collapsed": false
   },
   "outputs": [
    {
     "data": {
      "text/plain": [
       "5×3 Array{Rational{Int64},2}:\n",
       "  1//1  1//1   0//1\n",
       "  0//1  1//1   1//1\n",
       "  1//1  0//1   1//1\n",
       " -1//1  1//1   1//1\n",
       " -1//1  0//1  -1//1"
      ]
     },
     "execution_count": 1,
     "metadata": {},
     "output_type": "execute_result"
    }
   ],
   "source": [
    "A=[1//1 1 0;0 1 1;1 0 1;-1 1 1;-1 0 -1]"
   ]
  },
  {
   "cell_type": "code",
   "execution_count": 2,
   "metadata": {
    "collapsed": false
   },
   "outputs": [
    {
     "data": {
      "text/plain": [
       "5-element Array{Rational{Int64},1}:\n",
       " 0//1\n",
       " 1//1\n",
       " 0//1\n",
       " 1//1\n",
       " 0//1"
      ]
     },
     "execution_count": 2,
     "metadata": {},
     "output_type": "execute_result"
    }
   ],
   "source": [
    "b=collect([0//1,1,0,1,0])"
   ]
  },
  {
   "cell_type": "code",
   "execution_count": 3,
   "metadata": {
    "collapsed": false
   },
   "outputs": [
    {
     "data": {
      "text/plain": [
       "3-element Array{Rational{Int64},1}:\n",
       " -10//29\n",
       "  12//29\n",
       "  11//29"
      ]
     },
     "execution_count": 3,
     "metadata": {},
     "output_type": "execute_result"
    }
   ],
   "source": [
    "x=(A'*A)\\(A'*b)"
   ]
  },
  {
   "cell_type": "code",
   "execution_count": 4,
   "metadata": {
    "collapsed": false
   },
   "outputs": [
    {
     "data": {
      "text/plain": [
       "0.430923819458906"
      ]
     },
     "execution_count": 4,
     "metadata": {},
     "output_type": "execute_result"
    }
   ],
   "source": [
    "# Kvaliteta prilagodbe\n",
    "q=sqrt(norm(A*x-b)/norm(b))"
   ]
  },
  {
   "cell_type": "markdown",
   "metadata": {},
   "source": [
    "Ako je sustav predefiniran, standardna naredba odmah računa kvadratičnu prilagodbu, pri čemu se koristi QR rastav:"
   ]
  },
  {
   "cell_type": "code",
   "execution_count": 5,
   "metadata": {
    "collapsed": false
   },
   "outputs": [
    {
     "data": {
      "text/plain": [
       "3-element Array{Float64,1}:\n",
       " -0.344828\n",
       "  0.413793\n",
       "  0.37931 "
      ]
     },
     "execution_count": 5,
     "metadata": {},
     "output_type": "execute_result"
    }
   ],
   "source": [
    "x1=float(A)\\float(b)"
   ]
  },
  {
   "cell_type": "code",
   "execution_count": 6,
   "metadata": {
    "collapsed": false
   },
   "outputs": [
    {
     "data": {
      "text/plain": [
       "3-element Array{Float64,1}:\n",
       " -0.344828\n",
       "  0.413793\n",
       "  0.37931 "
      ]
     },
     "execution_count": 6,
     "metadata": {},
     "output_type": "execute_result"
    }
   ],
   "source": [
    "float(x)"
   ]
  },
  {
   "cell_type": "markdown",
   "metadata": {},
   "source": [
    "## Primjer"
   ]
  },
  {
   "cell_type": "code",
   "execution_count": 7,
   "metadata": {
    "collapsed": false
   },
   "outputs": [
    {
     "data": {
      "text/plain": [
       "20-element Array{Float64,1}:\n",
       " 0.126454 \n",
       " 0.0091437\n",
       " 0.0504034\n",
       " 0.120058 \n",
       " 0.264575 \n",
       " 0.220947 \n",
       " 0.180872 \n",
       " 0.802526 \n",
       " 0.756937 \n",
       " 0.22867  \n",
       " 0.843123 \n",
       " 0.644781 \n",
       " 0.154291 \n",
       " 0.225593 \n",
       " 0.384215 \n",
       " 0.83193  \n",
       " 0.0710257\n",
       " 0.236733 \n",
       " 0.876876 \n",
       " 0.874998 "
      ]
     },
     "execution_count": 7,
     "metadata": {},
     "output_type": "execute_result"
    }
   ],
   "source": [
    "A=rand(20,10)\n",
    "b=rand(20)"
   ]
  },
  {
   "cell_type": "code",
   "execution_count": 8,
   "metadata": {
    "collapsed": false
   },
   "outputs": [
    {
     "data": {
      "text/plain": [
       "10-element Array{Float64,1}:\n",
       " -0.296383  \n",
       "  0.568245  \n",
       " -0.411889  \n",
       "  0.273552  \n",
       "  0.294874  \n",
       "  0.282537  \n",
       "  0.260571  \n",
       "  0.182067  \n",
       "  0.00464855\n",
       " -0.299724  "
      ]
     },
     "execution_count": 8,
     "metadata": {},
     "output_type": "execute_result"
    }
   ],
   "source": [
    "x=A\\b"
   ]
  },
  {
   "cell_type": "code",
   "execution_count": 9,
   "metadata": {
    "collapsed": false
   },
   "outputs": [
    {
     "data": {
      "text/plain": [
       "0.619125973603953"
      ]
     },
     "execution_count": 9,
     "metadata": {},
     "output_type": "execute_result"
    }
   ],
   "source": [
    "q=sqrt(norm(A*x-b)/norm(b))"
   ]
  },
  {
   "cell_type": "markdown",
   "metadata": {},
   "source": [
    "## Točnost\n",
    "\n",
    "__Osjetljivost problema najmanjih kvadarata__ dana je sljedećim ocjenama (vidi [Matrix Computations, poglavlje 5][GVL13]):\n",
    "\n",
    "Za matricu $A$ __kondiciju__ definiramo na sljedeći način:\n",
    "\n",
    "$$\n",
    "\\kappa_2(A)=\\sqrt{\\kappa(A^TA)}=\\|A\\|_2 \\|(A^TA)^{-1} A^T\\|_2.\n",
    "$$\n",
    "\n",
    "Neka su $x$ i $\\hat x$, kvadratične prilagodbe sustava $Ax=b$ i \n",
    "$(A+\\delta A)\\hat x=b+\\delta b$. __Reziduali__ su definirani s\n",
    "\n",
    "$$\n",
    "r=Ax-b\\\\\n",
    "\\hat r=(A+\\delta A)\\hat x-(b+\\delta b).\n",
    "$$\n",
    "\n",
    "Neka je \n",
    "\n",
    "$$\n",
    "\\epsilon=\\max \\bigg\\{ \\frac{\\|\\delta A\\|_2}{\\|A\\|_2},\\frac{\\|\\delta b\\|_2}{\\|b\\|_2}\\bigg\\}\n",
    "$$\n",
    "\n",
    "i neka je \n",
    "\n",
    "$$\n",
    "q=\\frac {\\|r\\|_2}{\\|b\\|_2}\\equiv\\sin\\theta <1.\n",
    "$$\n",
    "\n",
    "Vrijedi:\n",
    "\n",
    "$$\n",
    "\\frac{\\|\\hat x-x\\|_2}{\\|x\\|_2}\\leq \\epsilon \\bigg[\\frac{2\\kappa_2(A)}{\\cos \\theta} +\\tan\\theta \\kappa_2^2(A)\\bigg]+O(\\epsilon^2),\\\\\n",
    "\\frac{\\|\\hat r-r\\|_2}{\\|b\\|_2}\\leq \\epsilon [1+ 2\\kappa_2(A)](m-n)+O(\\epsilon^2).\n",
    "$$\n",
    "\n",
    "Vidimo da je rezidual manje osjetljiv od samog mjesta na kojem se postiže.\n",
    "\n",
    "[GVL13]: https://books.google.hr/books?id=X5YfsuCWpxMC&printsec=frontcover&hl=hr#v=onepage&q&f=false \"G. Golub and C. F Van Loan, 'Matrix Computations', 4th Edition, John Hopkins, Baltimore, 2013\""
   ]
  },
  {
   "cell_type": "code",
   "execution_count": 10,
   "metadata": {
    "collapsed": false
   },
   "outputs": [
    {
     "data": {
      "text/plain": [
       "13.354653465513085"
      ]
     },
     "execution_count": 10,
     "metadata": {},
     "output_type": "execute_result"
    }
   ],
   "source": [
    "cond(A)"
   ]
  },
  {
   "cell_type": "code",
   "execution_count": 11,
   "metadata": {
    "collapsed": false
   },
   "outputs": [
    {
     "data": {
      "text/plain": [
       "20×10 Array{Float64,2}:\n",
       "  2.64976e-6  -3.18722e-6  -3.05069e-5  …  -8.02974e-6  -9.861e-6  \n",
       "  5.94013e-6   4.56337e-5  -4.46493e-5      8.80948e-6   1.05885e-5\n",
       " -7.59765e-7   3.73146e-5   1.50913e-5     -6.37473e-6  -4.65528e-5\n",
       "  2.90121e-5  -6.82118e-6  -3.86753e-5     -2.61591e-5  -2.46768e-5\n",
       " -4.3241e-5   -2.33102e-5  -4.29784e-5      6.45571e-6  -3.54195e-5\n",
       " -2.13582e-5   3.80604e-5  -4.21591e-6  …   1.13708e-5   3.5129e-5 \n",
       " -2.34771e-5   4.0199e-6    2.54097e-5     -4.20101e-6   2.93376e-5\n",
       " -1.95941e-5   1.27692e-5  -2.99812e-5     -3.08571e-5   1.96176e-5\n",
       "  6.98597e-6   4.3164e-5    3.66165e-5     -9.99187e-6   7.2244e-6 \n",
       " -3.22212e-5  -2.54371e-7  -2.67414e-5      1.90792e-5  -2.87299e-5\n",
       " -4.93149e-5   3.48109e-5  -2.21924e-6  …  -1.28383e-5   5.28178e-6\n",
       "  7.52904e-6  -1.46837e-5  -1.11389e-5     -1.8373e-5    1.96499e-5\n",
       " -3.53133e-5  -3.95453e-5   5.66921e-6      2.70039e-5  -3.6601e-5 \n",
       " -2.37416e-5   3.72501e-5  -4.37778e-5     -2.67167e-6   3.45066e-5\n",
       " -2.39229e-5   4.18613e-5   3.99951e-5     -3.66343e-5  -1.18374e-6\n",
       " -4.03114e-5  -3.89692e-5   3.1624e-5   …   2.33236e-6   3.61404e-5\n",
       "  2.38341e-5  -4.12617e-6  -1.69785e-5     -3.37334e-5   3.04008e-5\n",
       "  4.29746e-5  -3.75911e-5   2.46409e-5      3.07723e-5  -2.97301e-5\n",
       "  8.64138e-7  -6.39809e-7  -2.72182e-5     -2.39871e-5   3.00467e-6\n",
       "  1.28436e-5   1.76382e-5  -3.08907e-5      2.63299e-6   4.06659e-5"
      ]
     },
     "execution_count": 11,
     "metadata": {},
     "output_type": "execute_result"
    }
   ],
   "source": [
    "δA=1e-4*(rand(20,10)-0.5)"
   ]
  },
  {
   "cell_type": "code",
   "execution_count": 12,
   "metadata": {
    "collapsed": false
   },
   "outputs": [
    {
     "data": {
      "text/plain": [
       "10-element Array{Float64,1}:\n",
       " -0.296441  \n",
       "  0.568257  \n",
       " -0.411885  \n",
       "  0.273585  \n",
       "  0.294943  \n",
       "  0.282485  \n",
       "  0.260574  \n",
       "  0.182091  \n",
       "  0.00465983\n",
       " -0.299765  "
      ]
     },
     "execution_count": 12,
     "metadata": {},
     "output_type": "execute_result"
    }
   ],
   "source": [
    "x1=(A+δA)\\b"
   ]
  },
  {
   "cell_type": "code",
   "execution_count": 13,
   "metadata": {
    "collapsed": false
   },
   "outputs": [
    {
     "data": {
      "text/plain": [
       "20-element Array{Float64,1}:\n",
       "  0.0864707  \n",
       " -0.0693818  \n",
       "  0.307749   \n",
       "  0.2034     \n",
       "  0.0616842  \n",
       " -0.0179761  \n",
       "  0.000879218\n",
       " -0.139194   \n",
       "  0.0737263  \n",
       " -0.293665   \n",
       " -0.175595   \n",
       " -0.0545503  \n",
       " -0.0337719  \n",
       "  0.191491   \n",
       " -0.04868    \n",
       " -0.319499   \n",
       "  0.50012    \n",
       " -0.0363553  \n",
       " -0.207892   \n",
       " -0.117094   "
      ]
     },
     "execution_count": 13,
     "metadata": {},
     "output_type": "execute_result"
    }
   ],
   "source": [
    "r=A*x-b\n",
    "r1=(A+δA)*x-b"
   ]
  },
  {
   "cell_type": "code",
   "execution_count": 14,
   "metadata": {
    "collapsed": false
   },
   "outputs": [
    {
     "data": {
      "text/plain": [
       "(0.00012010291583629082,6.171026914370831e-5)"
      ]
     },
     "execution_count": 14,
     "metadata": {},
     "output_type": "execute_result"
    }
   ],
   "source": [
    "norm(x1-x)/norm(x), norm(r1-r)/norm(b)"
   ]
  },
  {
   "cell_type": "markdown",
   "metadata": {},
   "source": [
    "__Napomena__: Ako je $\\mathop{\\mathrm{rang}}A =n$, matrica $A^TA$ je simetrična i pozitivno definitna pa se sustav (*) može riješiti metodom Choleskog.\n",
    "\n",
    "Za izračunato rješenje $\\hat x$ vrijedi\n",
    "\n",
    "$$\n",
    "(A^TA +E)\\hat x=A^Tb,\n",
    "$$\n",
    "\n",
    "gdje je \n",
    "\n",
    "$$ \n",
    "\\|A\\|_2\\approx \\varepsilon \\| A^TA\\|_2,\n",
    "$$\n",
    "\n",
    "pa za relativnu pogrešku vrijedi ocjena\n",
    "\n",
    "$$\n",
    "\\frac{\\|\\hat x -x\\|_2}{\\|x\\|_2}\\approx \\varepsilon \\kappa_2(A^TA) =\\varepsilon \\kappa^2_2(A).\n",
    "$$\n",
    "\n",
    "\n",
    "> Dakle, relativna pogreška rješenja dobivenog pomoću metode normalnih jednadžbi ovisi o __kvadratu kondicije__ pa je bolje koristiti QR rastav."
   ]
  },
  {
   "cell_type": "code",
   "execution_count": null,
   "metadata": {
    "collapsed": true
   },
   "outputs": [],
   "source": []
  }
 ],
 "metadata": {
  "anaconda-cloud": {},
  "kernelspec": {
   "display_name": "Julia 0.5.0",
   "language": "julia",
   "name": "julia-0.5"
  },
  "language_info": {
   "file_extension": ".jl",
   "mimetype": "application/julia",
   "name": "julia",
   "version": "0.5.0"
  }
 },
 "nbformat": 4,
 "nbformat_minor": 0
}
