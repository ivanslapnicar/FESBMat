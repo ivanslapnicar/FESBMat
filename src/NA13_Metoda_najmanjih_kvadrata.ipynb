{
 "cells": [
  {
   "cell_type": "markdown",
   "metadata": {},
   "source": [
    "# Metoda najmanjih kvadrata\n",
    "\n",
    "---\n",
    "\n",
    "Neka je zadan sustav s više jednadžbi od nepoznanica:\n",
    "\n",
    "$$Ax=b, \\quad m>n.\n",
    "$$\n",
    "\n",
    "Ako sustav ima rješenje, tada je je $Ax-b=0$, odnosno $\\| Ax-b\\|=0$ za neku od matričnih normi.\n",
    "\n",
    "Ako sustav nema rješenje, tada je prirodno tražiti rješenje za koje je \n",
    "\n",
    "$$\n",
    "\\|Ax-b \\|_{1,2,\\infty}\\to \\min\n",
    "$$\n",
    "\n",
    "za odabranu vektorsku normu.\n",
    "\n",
    "Ako je $\\mathop{\\mathrm{rang}} A=n$, tada se __jedinstveno__ rješenje $x$ za koje \n",
    "\n",
    "$$\n",
    "\\|Ax-b \\|_{2}\\to \\min\n",
    "$$\n",
    "\n",
    "dobije rješavanjem sustava __normalnih jednadžbi__:\n",
    "\n",
    "$$\n",
    "A^T A x=A^T b. \\tag{*}\n",
    "$$\n",
    "\n",
    "__Dokaz__: Definirajmo\n",
    "\n",
    "$$\n",
    "Q(x)=\\|Ax-b\\|_2^2=(x^TA^T-b^T)(Ax-b)=x^TA^T A x -2x^T A^T b+b^Tb.\n",
    "$$\n",
    "\n",
    "Vrijedi\n",
    "\n",
    "\\begin{align}\n",
    "Q(x+h)&=(x^T+h^T)A^TA(x+h)-2(x^T+h^T)A^Tb+b^Tb \\\\\n",
    "&=Q(x) +2h^T(A^TAx-A^Tb)+h^TA^TAh\\\\ &= Q(x)+\\|Ah\\|_2^2 \\\\\n",
    "&\\geq Q(x),\n",
    "\\end{align}\n",
    "\n",
    "pa se minimum zaista postiže u $x$.\n",
    "\n",
    "Rješenje je jedinstveno jer $Q(x)=Q(y)$ povlači $\\|Ax\\|_2=0$ pa je ili $h=0$ ili $\\mathop{\\mathrm{rang}} A<n$ što je kontradikcija. _QED_\n",
    "\n",
    "__Geometrijsko značenje__: Vektori $Ax$ i $Ax -b$ su međusobno okomiti, \n",
    "\n",
    "$$\n",
    "(Ax)^T\\cdot (Ax - b)=x^T (A^TAx - A^Tb)=0. \n",
    "$$ \n",
    "\n",
    "Dakle, $Ax$ je ortogonalna projekcija vektora $b$ na skup $\\{Ay:\\ y \\textrm{ proizvoljan}\\}$.\n",
    "\n",
    "__Kvaliteta prilagodbe__: Rješenje $x$ zove se __kvadratična prilagodba__ \n",
    "sustavu $A x=b$ u smislu najmanjih kvadrata. Kvalitetu prilagodbe mjerimo s\n",
    "\n",
    "$$\n",
    "q=\\sqrt{\\frac{Q(x)}{Q(0)}}=\\frac{\\|A x - b\\|_2}{\\|b\\|_2 }.\n",
    "$$"
   ]
  },
  {
   "cell_type": "markdown",
   "metadata": {},
   "source": [
    "## Primjer\n",
    "\n",
    "Riješimo sustav \n",
    "\\begin{align}\n",
    "x+y&=0\\\\\n",
    "y+z&=1\\\\\n",
    "x+z&=0\\\\\n",
    "-x+y+z&=1\\\\\n",
    "-x-z&=0\n",
    "\\end{align}\n",
    "u smislu najmanjih kvadrata."
   ]
  },
  {
   "cell_type": "code",
   "execution_count": 1,
   "metadata": {
    "collapsed": false
   },
   "outputs": [
    {
     "data": {
      "text/plain": [
       "5×3 Array{Rational{Int64},2}:\n",
       "  1//1  1//1   0//1\n",
       "  0//1  1//1   1//1\n",
       "  1//1  0//1   1//1\n",
       " -1//1  1//1   1//1\n",
       " -1//1  0//1  -1//1"
      ]
     },
     "execution_count": 1,
     "metadata": {},
     "output_type": "execute_result"
    }
   ],
   "source": [
    "A=[1//1 1 0;0 1 1;1 0 1;-1 1 1;-1 0 -1]"
   ]
  },
  {
   "cell_type": "code",
   "execution_count": 2,
   "metadata": {
    "collapsed": false
   },
   "outputs": [
    {
     "data": {
      "text/plain": [
       "5-element Array{Rational{Int64},1}:\n",
       " 0//1\n",
       " 1//1\n",
       " 0//1\n",
       " 1//1\n",
       " 0//1"
      ]
     },
     "execution_count": 2,
     "metadata": {},
     "output_type": "execute_result"
    }
   ],
   "source": [
    "b=collect([0//1,1,0,1,0])"
   ]
  },
  {
   "cell_type": "code",
   "execution_count": 3,
   "metadata": {
    "collapsed": false
   },
   "outputs": [
    {
     "data": {
      "text/plain": [
       "3-element Array{Rational{Int64},1}:\n",
       " -10//29\n",
       "  12//29\n",
       "  11//29"
      ]
     },
     "execution_count": 3,
     "metadata": {},
     "output_type": "execute_result"
    }
   ],
   "source": [
    "x=(A'*A)\\(A'*b)"
   ]
  },
  {
   "cell_type": "code",
   "execution_count": 4,
   "metadata": {
    "collapsed": false
   },
   "outputs": [
    {
     "data": {
      "text/plain": [
       "0.430923819458906"
      ]
     },
     "execution_count": 4,
     "metadata": {},
     "output_type": "execute_result"
    }
   ],
   "source": [
    "# Kvaliteta prilagodbe\n",
    "q=sqrt(norm(A*x-b)/norm(b))"
   ]
  },
  {
   "cell_type": "markdown",
   "metadata": {},
   "source": [
    "Ako je sustav predefiniran, standardna naredba odmah računa kvadratičnu prilagodbu, pri čemu se koristi QR rastav:"
   ]
  },
  {
   "cell_type": "code",
   "execution_count": 5,
   "metadata": {
    "collapsed": false
   },
   "outputs": [
    {
     "data": {
      "text/plain": [
       "3-element Array{Float64,1}:\n",
       " -0.344828\n",
       "  0.413793\n",
       "  0.37931 "
      ]
     },
     "execution_count": 5,
     "metadata": {},
     "output_type": "execute_result"
    }
   ],
   "source": [
    "x1=float(A)\\float(b)"
   ]
  },
  {
   "cell_type": "code",
   "execution_count": 6,
   "metadata": {
    "collapsed": false
   },
   "outputs": [
    {
     "data": {
      "text/plain": [
       "3-element Array{Float64,1}:\n",
       " -0.344828\n",
       "  0.413793\n",
       "  0.37931 "
      ]
     },
     "execution_count": 6,
     "metadata": {},
     "output_type": "execute_result"
    }
   ],
   "source": [
    "float(x)"
   ]
  },
  {
   "cell_type": "markdown",
   "metadata": {},
   "source": [
    "## Primjer"
   ]
  },
  {
   "cell_type": "code",
   "execution_count": 7,
   "metadata": {
    "collapsed": false
   },
   "outputs": [
    {
     "data": {
      "text/plain": [
       "20-element Array{Float64,1}:\n",
       " 0.0217399\n",
       " 0.723394 \n",
       " 0.730561 \n",
       " 0.879914 \n",
       " 0.438731 \n",
       " 0.449617 \n",
       " 0.731739 \n",
       " 0.856663 \n",
       " 0.814439 \n",
       " 0.728899 \n",
       " 0.3926   \n",
       " 0.21855  \n",
       " 0.546027 \n",
       " 0.277587 \n",
       " 0.504028 \n",
       " 0.451721 \n",
       " 0.174089 \n",
       " 0.477106 \n",
       " 0.0950949\n",
       " 0.199636 "
      ]
     },
     "execution_count": 7,
     "metadata": {},
     "output_type": "execute_result"
    }
   ],
   "source": [
    "A=rand(20,10)\n",
    "b=rand(20)"
   ]
  },
  {
   "cell_type": "code",
   "execution_count": 8,
   "metadata": {
    "collapsed": false
   },
   "outputs": [
    {
     "data": {
      "text/plain": [
       "10-element Array{Float64,1}:\n",
       " -0.536485 \n",
       " -0.24868  \n",
       "  0.097567 \n",
       "  0.644498 \n",
       "  0.10547  \n",
       "  0.139978 \n",
       " -0.0538669\n",
       "  0.132034 \n",
       "  0.0863321\n",
       "  0.692172 "
      ]
     },
     "execution_count": 8,
     "metadata": {},
     "output_type": "execute_result"
    }
   ],
   "source": [
    "x=A\\b"
   ]
  },
  {
   "cell_type": "code",
   "execution_count": 9,
   "metadata": {
    "collapsed": false
   },
   "outputs": [
    {
     "data": {
      "text/plain": [
       "0.6185977979417839"
      ]
     },
     "execution_count": 9,
     "metadata": {},
     "output_type": "execute_result"
    }
   ],
   "source": [
    "q=sqrt(norm(A*x-b)/norm(b))"
   ]
  },
  {
   "cell_type": "markdown",
   "metadata": {},
   "source": [
    "## Točnost\n",
    "\n",
    "__Osjetljivost problema najmanjih kvadarata__ dana je sljedećim ocjenama (vidi [Matrix Computations, poglavlje 5][GVL13]):\n",
    "\n",
    "Za matricu $A$ __kondiciju__ definiramo na sljedeći način:\n",
    "\n",
    "$$\n",
    "\\kappa_2(A)=\\sqrt{\\kappa(A^TA)}=\\|A\\|_2 \\|(A^TA)^{-1} A^T\\|_2.\n",
    "$$\n",
    "\n",
    "Neka su $x$ i $\\hat x$, kvadratične prilagodbe sustava $Ax=b$ i \n",
    "$(A+\\delta A)\\hat x=b+\\delta b$. __Reziduali__ su definirani s\n",
    "\n",
    "$$\n",
    "r=Ax-b\\\\\n",
    "\\hat r=(A+\\delta A)\\hat x-(b+\\delta b).\n",
    "$$\n",
    "\n",
    "Neka je \n",
    "\n",
    "$$\n",
    "\\epsilon=\\max \\bigg\\{ \\frac{\\|\\delta A\\|_2}{\\|A\\|_2},\\frac{\\|\\delta b\\|_2}{\\|b\\|_2}\\bigg\\}\n",
    "$$\n",
    "\n",
    "i neka je \n",
    "\n",
    "$$\n",
    "q=\\frac {\\|r\\|_2}{\\|b\\|_2}\\equiv\\sin\\theta <1.\n",
    "$$\n",
    "\n",
    "Vrijedi:\n",
    "\n",
    "$$\n",
    "\\frac{\\|\\hat x-x\\|_2}{\\|x\\|_2}\\leq \\epsilon \\bigg[\\frac{2\\kappa_2(A)}{\\cos \\theta} +\\tan\\theta \\kappa_2^2(A)\\bigg]+O(\\epsilon^2),\\\\\n",
    "\\frac{\\|\\hat r-r\\|_2}{\\|b\\|_2}\\leq \\epsilon [1+ 2\\kappa_2(A)](m-n)+O(\\epsilon^2).\n",
    "$$\n",
    "\n",
    "Vidimo da je rezidual manje osjetljiv od samog mjesta na kojem se postiže.\n",
    "\n",
    "[GVL13]: https://books.google.hr/books?id=X5YfsuCWpxMC&printsec=frontcover&hl=hr#v=onepage&q&f=false \"G. Golub and C. F Van Loan, 'Matrix Computations', 4th Edition, John Hopkins, Baltimore, 2013\""
   ]
  },
  {
   "cell_type": "code",
   "execution_count": 10,
   "metadata": {
    "collapsed": false
   },
   "outputs": [
    {
     "data": {
      "text/plain": [
       "14.992397653556477"
      ]
     },
     "execution_count": 10,
     "metadata": {},
     "output_type": "execute_result"
    }
   ],
   "source": [
    "cond(A)"
   ]
  },
  {
   "cell_type": "code",
   "execution_count": 11,
   "metadata": {
    "collapsed": false
   },
   "outputs": [
    {
     "data": {
      "text/plain": [
       "20×10 Array{Float64,2}:\n",
       "  8.82305e-6  -4.90701e-5  -2.61028e-5  …   4.86251e-5   2.73651e-5\n",
       "  4.1584e-5   -6.34751e-6  -8.30642e-6     -2.99114e-5   1.2169e-5 \n",
       " -3.19676e-5   2.37625e-5  -1.31954e-5      3.88738e-5   2.14333e-5\n",
       " -2.09657e-5  -4.15829e-5   2.39375e-5     -3.67128e-5  -4.05824e-5\n",
       "  3.3162e-5   -4.32269e-5  -2.8021e-5       1.77653e-5  -4.57864e-6\n",
       "  2.58677e-5  -9.91587e-6  -3.98954e-5  …  -2.47609e-7   1.01248e-5\n",
       " -3.72316e-6  -3.43507e-5   6.76026e-6      4.98685e-5  -2.27215e-5\n",
       " -3.31496e-6   3.33782e-5   3.79953e-5     -4.47283e-5  -2.72294e-5\n",
       "  2.45086e-5   4.69508e-7  -2.43176e-5     -3.72879e-5   1.89722e-5\n",
       "  2.6658e-5   -3.05556e-5   2.72716e-5     -4.47845e-5   1.36299e-5\n",
       "  2.17869e-5   3.56281e-5   4.96744e-5  …   5.9176e-6   -4.41929e-5\n",
       " -3.88406e-5  -1.71666e-5  -1.97768e-5      1.40393e-5   3.54446e-5\n",
       " -4.88868e-5  -2.94216e-5   3.77483e-5      3.65597e-5   3.81177e-5\n",
       " -3.68957e-5   6.94697e-6  -3.56536e-5     -1.65687e-5   2.37936e-5\n",
       " -1.20158e-5   2.15483e-5  -3.83873e-5      2.03057e-5  -4.65746e-5\n",
       "  9.64676e-6  -3.30736e-5  -4.67857e-5  …   2.57281e-6  -5.47277e-6\n",
       "  2.98665e-5  -1.86705e-5  -4.93199e-5      4.39296e-5  -4.21987e-5\n",
       " -3.90119e-5  -1.00396e-5   2.5865e-5       1.66005e-5   2.09241e-5\n",
       "  2.3235e-5   -1.34252e-5  -3.67847e-5      4.5085e-5    2.83722e-5\n",
       "  4.08188e-5   2.15116e-5   1.13764e-5     -7.96475e-6   4.08912e-5"
      ]
     },
     "execution_count": 11,
     "metadata": {},
     "output_type": "execute_result"
    }
   ],
   "source": [
    "δA=1e-4*(rand(20,10)-0.5)"
   ]
  },
  {
   "cell_type": "code",
   "execution_count": 12,
   "metadata": {
    "collapsed": false
   },
   "outputs": [
    {
     "data": {
      "text/plain": [
       "10-element Array{Float64,1}:\n",
       " -0.53627  \n",
       " -0.248696 \n",
       "  0.0976994\n",
       "  0.644351 \n",
       "  0.105533 \n",
       "  0.139966 \n",
       " -0.0538724\n",
       "  0.132019 \n",
       "  0.0861751\n",
       "  0.692032 "
      ]
     },
     "execution_count": 12,
     "metadata": {},
     "output_type": "execute_result"
    }
   ],
   "source": [
    "x1=(A+δA)\\b"
   ]
  },
  {
   "cell_type": "code",
   "execution_count": 13,
   "metadata": {
    "collapsed": false
   },
   "outputs": [
    {
     "data": {
      "text/plain": [
       "20-element Array{Float64,1}:\n",
       "  0.381576 \n",
       " -0.192526 \n",
       "  0.107966 \n",
       " -0.0837829\n",
       " -0.0396013\n",
       "  0.0271564\n",
       "  0.0173494\n",
       " -0.358967 \n",
       " -0.448992 \n",
       " -0.236294 \n",
       " -0.057133 \n",
       "  0.207962 \n",
       "  0.0739562\n",
       "  0.278868 \n",
       " -0.156618 \n",
       "  0.144746 \n",
       "  0.190938 \n",
       " -0.169459 \n",
       "  0.208805 \n",
       " -0.0956617"
      ]
     },
     "execution_count": 13,
     "metadata": {},
     "output_type": "execute_result"
    }
   ],
   "source": [
    "r=A*x-b\n",
    "r1=(A+δA)*x-b"
   ]
  },
  {
   "cell_type": "code",
   "execution_count": 14,
   "metadata": {
    "collapsed": false
   },
   "outputs": [
    {
     "data": {
      "text/plain": [
       "(0.00032046951955395746,5.582222043248627e-5)"
      ]
     },
     "execution_count": 14,
     "metadata": {},
     "output_type": "execute_result"
    }
   ],
   "source": [
    "norm(x1-x)/norm(x), norm(r1-r)/norm(b)"
   ]
  },
  {
   "cell_type": "markdown",
   "metadata": {},
   "source": [
    "__Napomena__: Ako je $\\mathop{\\mathrm{rang}}A =n$, matrica $A^TA$ je simetrična i pozitivno definitna pa se sustav (*) može riješiti metodom Choleskog.\n",
    "\n",
    "Za izračunato rješenje $\\hat x$ vrijedi\n",
    "\n",
    "$$\n",
    "(A^TA +E)\\hat x=A^Tb,\n",
    "$$\n",
    "\n",
    "gdje je \n",
    "\n",
    "$$ \n",
    "\\|A\\|_2\\approx \\varepsilon \\| A^TA\\|_2,\n",
    "$$\n",
    "\n",
    "pa za relativnu pogrešku vrijedi ocjena\n",
    "\n",
    "$$\n",
    "\\frac{\\|\\hat x -x\\|_2}{\\|x\\|_2}\\approx \\varepsilon \\kappa_2(A^TA) =\\varepsilon \\kappa^2_2(A).\n",
    "$$\n",
    "\n",
    "\n",
    "> Dakle, relativna pogreška rješenja dobivenog pomoću metode normalnih jednadžbi ovisi o __kvadratu kondicije__ pa je bolje koristiti QR rastav."
   ]
  },
  {
   "cell_type": "code",
   "execution_count": null,
   "metadata": {
    "collapsed": true
   },
   "outputs": [],
   "source": []
  }
 ],
 "metadata": {
  "anaconda-cloud": {},
  "kernelspec": {
   "display_name": "Julia 0.5.1",
   "language": "julia",
   "name": "julia-0.5"
  },
  "language_info": {
   "file_extension": ".jl",
   "mimetype": "application/julia",
   "name": "julia",
   "version": "0.5.1"
  }
 },
 "nbformat": 4,
 "nbformat_minor": 0
}
