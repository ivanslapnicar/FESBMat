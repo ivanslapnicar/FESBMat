{
 "cells": [
  {
   "cell_type": "code",
   "execution_count": 1,
   "metadata": {},
   "outputs": [
    {
     "name": "stdout",
     "output_type": "stream",
     "text": [
      "Julia Version 1.4.1\n",
      "Commit 381693d3df* (2020-04-14 17:20 UTC)\n",
      "Platform Info:\n",
      "  OS: Windows (x86_64-w64-mingw32)\n",
      "  CPU: Intel(R) Core(TM) i5-7200U CPU @ 2.50GHz\n",
      "  WORD_SIZE: 64\n",
      "  LIBM: libopenlibm\n",
      "  LLVM: libLLVM-8.0.1 (ORCJIT, skylake)\n",
      "Environment:\n",
      "  JULIA_NUM_THREADS = 4\n"
     ]
    }
   ],
   "source": [
    "versioninfo()"
   ]
  },
  {
   "cell_type": "code",
   "execution_count": 2,
   "metadata": {},
   "outputs": [],
   "source": [
    "# Ovu naredbu je potrebno izvršiti sam jednom, učita se paket SymPy\n",
    "using SymPy"
   ]
  },
  {
   "cell_type": "code",
   "execution_count": 3,
   "metadata": {},
   "outputs": [
    {
     "data": {
      "text/latex": [
       "\\begin{tabular}\n",
       "{l | r | l}\n",
       "name & size & summary \\\\\n",
       "\\hline\n",
       "@symfuns & 0 bytes & SymPy.var\"\\#@symfuns\" \\\\\n",
       "@syms & 0 bytes & SymPy.var\"\\#@syms\" \\\\\n",
       "@vars & 0 bytes & SymPy.var\"\\#@vars\" \\\\\n",
       "Abs & 0 bytes & typeof(Abs) \\\\\n",
       "And & 0 bytes & typeof(And) \\\\\n",
       "DiracDelta & 0 bytes & typeof(DiracDelta) \\\\\n",
       "Eq & 0 bytes & typeof(Eq) \\\\\n",
       "Equality & 0 bytes & typeof(Equality) \\\\\n",
       "False & 16 bytes & Sym \\\\\n",
       "Ge & 0 bytes & typeof(Ge) \\\\\n",
       "GreaterThan & 0 bytes & typeof(GreaterThan) \\\\\n",
       "Gt & 0 bytes & typeof(Gt) \\\\\n",
       "Heaviside & 0 bytes & typeof(Heaviside) \\\\\n",
       "IM & 16 bytes & Sym \\\\\n",
       "Le & 0 bytes & typeof(Le) \\\\\n",
       "LessThan & 0 bytes & typeof(LessThan) \\\\\n",
       "Lt & 40 bytes & UnionAll \\\\\n",
       "Max & 0 bytes & typeof(Max) \\\\\n",
       "Min & 0 bytes & typeof(Min) \\\\\n",
       "N & 0 bytes & typeof(N) \\\\\n",
       "Ne & 0 bytes & typeof(Ne) \\\\\n",
       "Not & 0 bytes & typeof(Not) \\\\\n",
       "Or & 0 bytes & typeof(Or) \\\\\n",
       "PI & 16 bytes & Sym \\\\\n",
       "Permutation & 0 bytes & typeof(Permutation) \\\\\n",
       "PermutationGroup & 0 bytes & typeof(PermutationGroup) \\\\\n",
       "Q & 47.499 KiB & Module \\\\\n",
       "StrictGreaterThan & 0 bytes & typeof(StrictGreaterThan) \\\\\n",
       "StrictLessThan & 0 bytes & typeof(StrictLessThan) \\\\\n",
       "Sym & 192 bytes & DataType \\\\\n",
       "SymFunction & 200 bytes & DataType \\\\\n",
       "SymMatrix & 192 bytes & DataType \\\\\n",
       "SymPermutation & 192 bytes & DataType \\\\\n",
       "SymPermutationGroup & 192 bytes & DataType \\\\\n",
       "SymPy & 840.453 KiB & Module \\\\\n",
       "True & 16 bytes & Sym \\\\\n",
       "Unequality & 0 bytes & typeof(Unequality) \\\\\n",
       "VectorField & 200 bytes & DataType \\\\\n",
       "Wild & 0 bytes & typeof(Wild) \\\\\n",
       "Xor & 0 bytes & typeof(Xor) \\\\\n",
       "\\_\\_prod\\_\\_ & 0 bytes & typeof(\\_\\_prod\\_\\_) \\\\\n",
       "apart & 0 bytes & typeof(apart) \\\\\n",
       "ask & 0 bytes & typeof(ask) \\\\\n",
       "bernfrac & 0 bytes & typeof(bernfrac) \\\\\n",
       "cancel & 0 bytes & typeof(cancel) \\\\\n",
       "conjugate & 0 bytes & typeof(conjugate) \\\\\n",
       "cse & 0 bytes & typeof(cse) \\\\\n",
       "degree & 0 bytes & typeof(degree) \\\\\n",
       "denom & 0 bytes & typeof(denom) \\\\\n",
       "doctests & 0 bytes & typeof(doctests) \\\\\n",
       "dsolve & 0 bytes & typeof(dsolve) \\\\\n",
       "e1 & 0 bytes & typeof(e1) \\\\\n",
       "ei & 0 bytes & typeof(ei) \\\\\n",
       "elements & 0 bytes & typeof(elements) \\\\\n",
       "ellipk & 0 bytes & typeof(ellipk) \\\\\n",
       "expand & 0 bytes & typeof(expand) \\\\\n",
       "expj & 0 bytes & typeof(expj) \\\\\n",
       "expjpi & 0 bytes & typeof(expjpi) \\\\\n",
       "fac & 0 bytes & typeof(fac) \\\\\n",
       "factor & 0 bytes & typeof(factor) \\\\\n",
       "fib & 0 bytes & typeof(fib) \\\\\n",
       "flatten & 0 bytes & typeof(flatten) \\\\\n",
       "free\\_symbols & 0 bytes & typeof(free\\_symbols) \\\\\n",
       "hessian & 0 bytes & typeof(hessian) \\\\\n",
       "import\\_from & 0 bytes & typeof(import\\_from) \\\\\n",
       "integrate & 0 bytes & typeof(integrate) \\\\\n",
       "interpolate & 0 bytes & typeof(interpolate) \\\\\n",
       "intersection & 0 bytes & typeof(intersection) \\\\\n",
       "intervals & 0 bytes & typeof(intervals) \\\\\n",
       "isolate & 0 bytes & typeof(isolate) \\\\\n",
       "isprime & 0 bytes & typeof(isprime) \\\\\n",
       "lambdify & 0 bytes & typeof(lambdify) \\\\\n",
       "lhs & 0 bytes & typeof(lhs) \\\\\n",
       "limit & 0 bytes & typeof(limit) \\\\\n",
       "line\\_integrate & 0 bytes & typeof(line\\_integrate) \\\\\n",
       "linsolve & 0 bytes & typeof(linsolve) \\\\\n",
       "ln & 0 bytes & typeof(ln) \\\\\n",
       "monitor & 0 bytes & typeof(monitor) \\\\\n",
       "multiplicity & 0 bytes & typeof(multiplicity) \\\\\n",
       "nint & 0 bytes & typeof(nint) \\\\\n",
       "nonlinsolve & 0 bytes & typeof(nonlinsolve) \\\\\n",
       "nroots & 0 bytes & typeof(nroots) \\\\\n",
       "nsimplify & 0 bytes & typeof(nsimplify) \\\\\n",
       "nsolve & 0 bytes & typeof(nsolve) \\\\\n",
       "numer & 0 bytes & typeof(numer) \\\\\n",
       "ode\\_order & 0 bytes & typeof(ode\\_order) \\\\\n",
       "oo & 16 bytes & Sym \\\\\n",
       "pdsolve & 0 bytes & typeof(pdsolve) \\\\\n",
       "plot\\_implicit & 0 bytes & typeof(plot\\_implicit) \\\\\n",
       "plot\\_parametric\\_surface & 0 bytes & typeof(plot\\_parametric\\_surface) \\\\\n",
       "prime & 0 bytes & typeof(prime) \\\\\n",
       "real\\_root & 0 bytes & typeof(real\\_root) \\\\\n",
       "real\\_roots & 0 bytes & typeof(real\\_roots) \\\\\n",
       "refine & 0 bytes & typeof(refine) \\\\\n",
       "rgamma & 0 bytes & typeof(rgamma) \\\\\n",
       "rhs & 0 bytes & typeof(rhs) \\\\\n",
       "root & 0 bytes & typeof(root) \\\\\n",
       "rootof & 0 bytes & typeof(rootof) \\\\\n",
       "roots & 0 bytes & typeof(roots) \\\\\n",
       "rsolve & 0 bytes & typeof(rsolve) \\\\\n",
       "series & 0 bytes & typeof(series) \\\\\n",
       "simplify & 0 bytes & typeof(simplify) \\\\\n",
       "solve & 0 bytes & typeof(solve) \\\\\n",
       "solveset & 0 bytes & typeof(solveset) \\\\\n",
       "srepr & 0 bytes & typeof(srepr) \\\\\n",
       "subs & 0 bytes & typeof(subs) \\\\\n",
       "summation & 0 bytes & typeof(summation) \\\\\n",
       "symbols & 0 bytes & typeof(symbols) \\\\\n",
       "sympify & 0 bytes & typeof(sympify) \\\\\n",
       "sympy & 8 bytes & PyCall.PyObject \\\\\n",
       "sympy\\_plotting & 0 bytes & Nothing \\\\\n",
       "timing & 0 bytes & typeof(timing) \\\\\n",
       "together & 0 bytes & typeof(together) \\\\\n",
       "transpositions & 0 bytes & typeof(transpositions) \\\\\n",
       "unflatten & 0 bytes & typeof(unflatten) \\\\\n",
       "zoo & 16 bytes & Sym \\\\\n",
       "¬ & 0 bytes & typeof(¬) \\\\\n",
       "∧ & 0 bytes & typeof(∧) \\\\\n",
       "∨ & 0 bytes & typeof(∨) \\\\\n",
       "≦ & 0 bytes & typeof(≦) \\\\\n",
       "≧ & 0 bytes & typeof(≧) \\\\\n",
       "≪ & 0 bytes & typeof(≪) \\\\\n",
       "≫ & 0 bytes & typeof(≫) \\\\\n",
       "⩵ & 0 bytes & typeof(⩵) \\\\\n",
       "\\end{tabular}\n"
      ],
      "text/markdown": [
       "| name                    |        size | summary                         |\n",
       "|:----------------------- | -----------:|:------------------------------- |\n",
       "| @symfuns                |     0 bytes | SymPy.var\"#@symfuns\"            |\n",
       "| @syms                   |     0 bytes | SymPy.var\"#@syms\"               |\n",
       "| @vars                   |     0 bytes | SymPy.var\"#@vars\"               |\n",
       "| Abs                     |     0 bytes | typeof(Abs)                     |\n",
       "| And                     |     0 bytes | typeof(And)                     |\n",
       "| DiracDelta              |     0 bytes | typeof(DiracDelta)              |\n",
       "| Eq                      |     0 bytes | typeof(Eq)                      |\n",
       "| Equality                |     0 bytes | typeof(Equality)                |\n",
       "| False                   |    16 bytes | Sym                             |\n",
       "| Ge                      |     0 bytes | typeof(Ge)                      |\n",
       "| GreaterThan             |     0 bytes | typeof(GreaterThan)             |\n",
       "| Gt                      |     0 bytes | typeof(Gt)                      |\n",
       "| Heaviside               |     0 bytes | typeof(Heaviside)               |\n",
       "| IM                      |    16 bytes | Sym                             |\n",
       "| Le                      |     0 bytes | typeof(Le)                      |\n",
       "| LessThan                |     0 bytes | typeof(LessThan)                |\n",
       "| Lt                      |    40 bytes | UnionAll                        |\n",
       "| Max                     |     0 bytes | typeof(Max)                     |\n",
       "| Min                     |     0 bytes | typeof(Min)                     |\n",
       "| N                       |     0 bytes | typeof(N)                       |\n",
       "| Ne                      |     0 bytes | typeof(Ne)                      |\n",
       "| Not                     |     0 bytes | typeof(Not)                     |\n",
       "| Or                      |     0 bytes | typeof(Or)                      |\n",
       "| PI                      |    16 bytes | Sym                             |\n",
       "| Permutation             |     0 bytes | typeof(Permutation)             |\n",
       "| PermutationGroup        |     0 bytes | typeof(PermutationGroup)        |\n",
       "| Q                       |  47.499 KiB | Module                          |\n",
       "| StrictGreaterThan       |     0 bytes | typeof(StrictGreaterThan)       |\n",
       "| StrictLessThan          |     0 bytes | typeof(StrictLessThan)          |\n",
       "| Sym                     |   192 bytes | DataType                        |\n",
       "| SymFunction             |   200 bytes | DataType                        |\n",
       "| SymMatrix               |   192 bytes | DataType                        |\n",
       "| SymPermutation          |   192 bytes | DataType                        |\n",
       "| SymPermutationGroup     |   192 bytes | DataType                        |\n",
       "| SymPy                   | 840.453 KiB | Module                          |\n",
       "| True                    |    16 bytes | Sym                             |\n",
       "| Unequality              |     0 bytes | typeof(Unequality)              |\n",
       "| VectorField             |   200 bytes | DataType                        |\n",
       "| Wild                    |     0 bytes | typeof(Wild)                    |\n",
       "| Xor                     |     0 bytes | typeof(Xor)                     |\n",
       "| __prod__                |     0 bytes | typeof(__prod__)                |\n",
       "| apart                   |     0 bytes | typeof(apart)                   |\n",
       "| ask                     |     0 bytes | typeof(ask)                     |\n",
       "| bernfrac                |     0 bytes | typeof(bernfrac)                |\n",
       "| cancel                  |     0 bytes | typeof(cancel)                  |\n",
       "| conjugate               |     0 bytes | typeof(conjugate)               |\n",
       "| cse                     |     0 bytes | typeof(cse)                     |\n",
       "| degree                  |     0 bytes | typeof(degree)                  |\n",
       "| denom                   |     0 bytes | typeof(denom)                   |\n",
       "| doctests                |     0 bytes | typeof(doctests)                |\n",
       "| dsolve                  |     0 bytes | typeof(dsolve)                  |\n",
       "| e1                      |     0 bytes | typeof(e1)                      |\n",
       "| ei                      |     0 bytes | typeof(ei)                      |\n",
       "| elements                |     0 bytes | typeof(elements)                |\n",
       "| ellipk                  |     0 bytes | typeof(ellipk)                  |\n",
       "| expand                  |     0 bytes | typeof(expand)                  |\n",
       "| expj                    |     0 bytes | typeof(expj)                    |\n",
       "| expjpi                  |     0 bytes | typeof(expjpi)                  |\n",
       "| fac                     |     0 bytes | typeof(fac)                     |\n",
       "| factor                  |     0 bytes | typeof(factor)                  |\n",
       "| fib                     |     0 bytes | typeof(fib)                     |\n",
       "| flatten                 |     0 bytes | typeof(flatten)                 |\n",
       "| free_symbols            |     0 bytes | typeof(free_symbols)            |\n",
       "| hessian                 |     0 bytes | typeof(hessian)                 |\n",
       "| import_from             |     0 bytes | typeof(import_from)             |\n",
       "| integrate               |     0 bytes | typeof(integrate)               |\n",
       "| interpolate             |     0 bytes | typeof(interpolate)             |\n",
       "| intersection            |     0 bytes | typeof(intersection)            |\n",
       "| intervals               |     0 bytes | typeof(intervals)               |\n",
       "| isolate                 |     0 bytes | typeof(isolate)                 |\n",
       "| isprime                 |     0 bytes | typeof(isprime)                 |\n",
       "| lambdify                |     0 bytes | typeof(lambdify)                |\n",
       "| lhs                     |     0 bytes | typeof(lhs)                     |\n",
       "| limit                   |     0 bytes | typeof(limit)                   |\n",
       "| line_integrate          |     0 bytes | typeof(line_integrate)          |\n",
       "| linsolve                |     0 bytes | typeof(linsolve)                |\n",
       "| ln                      |     0 bytes | typeof(ln)                      |\n",
       "| monitor                 |     0 bytes | typeof(monitor)                 |\n",
       "| multiplicity            |     0 bytes | typeof(multiplicity)            |\n",
       "| nint                    |     0 bytes | typeof(nint)                    |\n",
       "| nonlinsolve             |     0 bytes | typeof(nonlinsolve)             |\n",
       "| nroots                  |     0 bytes | typeof(nroots)                  |\n",
       "| nsimplify               |     0 bytes | typeof(nsimplify)               |\n",
       "| nsolve                  |     0 bytes | typeof(nsolve)                  |\n",
       "| numer                   |     0 bytes | typeof(numer)                   |\n",
       "| ode_order               |     0 bytes | typeof(ode_order)               |\n",
       "| oo                      |    16 bytes | Sym                             |\n",
       "| pdsolve                 |     0 bytes | typeof(pdsolve)                 |\n",
       "| plot_implicit           |     0 bytes | typeof(plot_implicit)           |\n",
       "| plot_parametric_surface |     0 bytes | typeof(plot_parametric_surface) |\n",
       "| prime                   |     0 bytes | typeof(prime)                   |\n",
       "| real_root               |     0 bytes | typeof(real_root)               |\n",
       "| real_roots              |     0 bytes | typeof(real_roots)              |\n",
       "| refine                  |     0 bytes | typeof(refine)                  |\n",
       "| rgamma                  |     0 bytes | typeof(rgamma)                  |\n",
       "| rhs                     |     0 bytes | typeof(rhs)                     |\n",
       "| root                    |     0 bytes | typeof(root)                    |\n",
       "| rootof                  |     0 bytes | typeof(rootof)                  |\n",
       "| roots                   |     0 bytes | typeof(roots)                   |\n",
       "| rsolve                  |     0 bytes | typeof(rsolve)                  |\n",
       "| series                  |     0 bytes | typeof(series)                  |\n",
       "| simplify                |     0 bytes | typeof(simplify)                |\n",
       "| solve                   |     0 bytes | typeof(solve)                   |\n",
       "| solveset                |     0 bytes | typeof(solveset)                |\n",
       "| srepr                   |     0 bytes | typeof(srepr)                   |\n",
       "| subs                    |     0 bytes | typeof(subs)                    |\n",
       "| summation               |     0 bytes | typeof(summation)               |\n",
       "| symbols                 |     0 bytes | typeof(symbols)                 |\n",
       "| sympify                 |     0 bytes | typeof(sympify)                 |\n",
       "| sympy                   |     8 bytes | PyCall.PyObject                 |\n",
       "| sympy_plotting          |     0 bytes | Nothing                         |\n",
       "| timing                  |     0 bytes | typeof(timing)                  |\n",
       "| together                |     0 bytes | typeof(together)                |\n",
       "| transpositions          |     0 bytes | typeof(transpositions)          |\n",
       "| unflatten               |     0 bytes | typeof(unflatten)               |\n",
       "| zoo                     |    16 bytes | Sym                             |\n",
       "| ¬                       |     0 bytes | typeof(¬)                       |\n",
       "| ∧                       |     0 bytes | typeof(∧)                       |\n",
       "| ∨                       |     0 bytes | typeof(∨)                       |\n",
       "| ≦                       |     0 bytes | typeof(≦)                       |\n",
       "| ≧                       |     0 bytes | typeof(≧)                       |\n",
       "| ≪                       |     0 bytes | typeof(≪)                       |\n",
       "| ≫                       |     0 bytes | typeof(≫)                       |\n",
       "| ⩵                       |     0 bytes | typeof(⩵)                       |\n"
      ],
      "text/plain": [
       "  name                           size summary                        \n",
       "  ––––––––––––––––––––––– ––––––––––– –––––––––––––––––––––––––––––––\n",
       "  @symfuns                    0 bytes SymPy.var\"#@symfuns\"           \n",
       "  @syms                       0 bytes SymPy.var\"#@syms\"              \n",
       "  @vars                       0 bytes SymPy.var\"#@vars\"              \n",
       "  Abs                         0 bytes typeof(Abs)                    \n",
       "  And                         0 bytes typeof(And)                    \n",
       "  DiracDelta                  0 bytes typeof(DiracDelta)             \n",
       "  Eq                          0 bytes typeof(Eq)                     \n",
       "  Equality                    0 bytes typeof(Equality)               \n",
       "  False                      16 bytes Sym                            \n",
       "  Ge                          0 bytes typeof(Ge)                     \n",
       "  GreaterThan                 0 bytes typeof(GreaterThan)            \n",
       "  Gt                          0 bytes typeof(Gt)                     \n",
       "  Heaviside                   0 bytes typeof(Heaviside)              \n",
       "  IM                         16 bytes Sym                            \n",
       "  Le                          0 bytes typeof(Le)                     \n",
       "  LessThan                    0 bytes typeof(LessThan)               \n",
       "  Lt                         40 bytes UnionAll                       \n",
       "  Max                         0 bytes typeof(Max)                    \n",
       "  Min                         0 bytes typeof(Min)                    \n",
       "  N                           0 bytes typeof(N)                      \n",
       "  Ne                          0 bytes typeof(Ne)                     \n",
       "  Not                         0 bytes typeof(Not)                    \n",
       "  Or                          0 bytes typeof(Or)                     \n",
       "  PI                         16 bytes Sym                            \n",
       "  Permutation                 0 bytes typeof(Permutation)            \n",
       "  PermutationGroup            0 bytes typeof(PermutationGroup)       \n",
       "  Q                        47.499 KiB Module                         \n",
       "  StrictGreaterThan           0 bytes typeof(StrictGreaterThan)      \n",
       "  StrictLessThan              0 bytes typeof(StrictLessThan)         \n",
       "  Sym                       192 bytes DataType                       \n",
       "  SymFunction               200 bytes DataType                       \n",
       "  SymMatrix                 192 bytes DataType                       \n",
       "  SymPermutation            192 bytes DataType                       \n",
       "  SymPermutationGroup       192 bytes DataType                       \n",
       "  SymPy                   840.453 KiB Module                         \n",
       "  True                       16 bytes Sym                            \n",
       "  Unequality                  0 bytes typeof(Unequality)             \n",
       "  VectorField               200 bytes DataType                       \n",
       "  Wild                        0 bytes typeof(Wild)                   \n",
       "  Xor                         0 bytes typeof(Xor)                    \n",
       "  __prod__                    0 bytes typeof(__prod__)               \n",
       "  apart                       0 bytes typeof(apart)                  \n",
       "  ask                         0 bytes typeof(ask)                    \n",
       "  bernfrac                    0 bytes typeof(bernfrac)               \n",
       "  cancel                      0 bytes typeof(cancel)                 \n",
       "  conjugate                   0 bytes typeof(conjugate)              \n",
       "  cse                         0 bytes typeof(cse)                    \n",
       "  degree                      0 bytes typeof(degree)                 \n",
       "  denom                       0 bytes typeof(denom)                  \n",
       "  doctests                    0 bytes typeof(doctests)               \n",
       "  dsolve                      0 bytes typeof(dsolve)                 \n",
       "  e1                          0 bytes typeof(e1)                     \n",
       "  ei                          0 bytes typeof(ei)                     \n",
       "  elements                    0 bytes typeof(elements)               \n",
       "  ellipk                      0 bytes typeof(ellipk)                 \n",
       "  expand                      0 bytes typeof(expand)                 \n",
       "  expj                        0 bytes typeof(expj)                   \n",
       "  expjpi                      0 bytes typeof(expjpi)                 \n",
       "  fac                         0 bytes typeof(fac)                    \n",
       "  factor                      0 bytes typeof(factor)                 \n",
       "  fib                         0 bytes typeof(fib)                    \n",
       "  flatten                     0 bytes typeof(flatten)                \n",
       "  free_symbols                0 bytes typeof(free_symbols)           \n",
       "  hessian                     0 bytes typeof(hessian)                \n",
       "  import_from                 0 bytes typeof(import_from)            \n",
       "  integrate                   0 bytes typeof(integrate)              \n",
       "  interpolate                 0 bytes typeof(interpolate)            \n",
       "  intersection                0 bytes typeof(intersection)           \n",
       "  intervals                   0 bytes typeof(intervals)              \n",
       "  isolate                     0 bytes typeof(isolate)                \n",
       "  isprime                     0 bytes typeof(isprime)                \n",
       "  lambdify                    0 bytes typeof(lambdify)               \n",
       "  lhs                         0 bytes typeof(lhs)                    \n",
       "  limit                       0 bytes typeof(limit)                  \n",
       "  line_integrate              0 bytes typeof(line_integrate)         \n",
       "  linsolve                    0 bytes typeof(linsolve)               \n",
       "  ln                          0 bytes typeof(ln)                     \n",
       "  monitor                     0 bytes typeof(monitor)                \n",
       "  multiplicity                0 bytes typeof(multiplicity)           \n",
       "  nint                        0 bytes typeof(nint)                   \n",
       "  nonlinsolve                 0 bytes typeof(nonlinsolve)            \n",
       "  nroots                      0 bytes typeof(nroots)                 \n",
       "  nsimplify                   0 bytes typeof(nsimplify)              \n",
       "  nsolve                      0 bytes typeof(nsolve)                 \n",
       "  numer                       0 bytes typeof(numer)                  \n",
       "  ode_order                   0 bytes typeof(ode_order)              \n",
       "  oo                         16 bytes Sym                            \n",
       "  pdsolve                     0 bytes typeof(pdsolve)                \n",
       "  plot_implicit               0 bytes typeof(plot_implicit)          \n",
       "  plot_parametric_surface     0 bytes typeof(plot_parametric_surface)\n",
       "  prime                       0 bytes typeof(prime)                  \n",
       "  real_root                   0 bytes typeof(real_root)              \n",
       "  real_roots                  0 bytes typeof(real_roots)             \n",
       "  refine                      0 bytes typeof(refine)                 \n",
       "  rgamma                      0 bytes typeof(rgamma)                 \n",
       "  rhs                         0 bytes typeof(rhs)                    \n",
       "  root                        0 bytes typeof(root)                   \n",
       "  rootof                      0 bytes typeof(rootof)                 \n",
       "  roots                       0 bytes typeof(roots)                  \n",
       "  rsolve                      0 bytes typeof(rsolve)                 \n",
       "  series                      0 bytes typeof(series)                 \n",
       "  simplify                    0 bytes typeof(simplify)               \n",
       "  solve                       0 bytes typeof(solve)                  \n",
       "  solveset                    0 bytes typeof(solveset)               \n",
       "  srepr                       0 bytes typeof(srepr)                  \n",
       "  subs                        0 bytes typeof(subs)                   \n",
       "  summation                   0 bytes typeof(summation)              \n",
       "  symbols                     0 bytes typeof(symbols)                \n",
       "  sympify                     0 bytes typeof(sympify)                \n",
       "  sympy                       8 bytes PyCall.PyObject                \n",
       "  sympy_plotting              0 bytes Nothing                        \n",
       "  timing                      0 bytes typeof(timing)                 \n",
       "  together                    0 bytes typeof(together)               \n",
       "  transpositions              0 bytes typeof(transpositions)         \n",
       "  unflatten                   0 bytes typeof(unflatten)              \n",
       "  zoo                        16 bytes Sym                            \n",
       "  ¬                           0 bytes typeof(¬)                      \n",
       "  ∧                           0 bytes typeof(∧)                      \n",
       "  ∨                           0 bytes typeof(∨)                      \n",
       "  ≦                           0 bytes typeof(≦)                      \n",
       "  ≧                           0 bytes typeof(≧)                      \n",
       "  ≪                           0 bytes typeof(≪)                      \n",
       "  ≫                           0 bytes typeof(≫)                      \n",
       "  ⩵                           0 bytes typeof(⩵)                      "
      ]
     },
     "execution_count": 3,
     "metadata": {},
     "output_type": "execute_result"
    }
   ],
   "source": [
    "# Ova naredba daje popis svih djelova paketa, uglavnom su to funkcije. Klik na lijevoj strani otvara scroll prozor, \n",
    "# drugi klik ponovo pokazuje sve. Dvostruki klik kolabira izalaz.\n",
    "varinfo(SymPy)"
   ]
  },
  {
   "cell_type": "code",
   "execution_count": 4,
   "metadata": {},
   "outputs": [
    {
     "data": {
      "text/latex": [
       "\\begin{equation*}- x^{2} \\cos{\\left(x \\right)} + 2 x \\sin{\\left(x \\right)} + 2 \\cos{\\left(x \\right)}\\end{equation*}"
      ],
      "text/plain": [
       "   2                               \n",
       "- x ⋅cos(x) + 2⋅x⋅sin(x) + 2⋅cos(x)"
      ]
     },
     "execution_count": 4,
     "metadata": {},
     "output_type": "execute_result"
    }
   ],
   "source": [
    "# Izracunajmo nekoliko integrala. Prikazuje se samo zadnji rezultat prozora\n",
    "x=Sym(\"x\")\n",
    "integrate(x^2*sin(x))"
   ]
  },
  {
   "cell_type": "code",
   "execution_count": 5,
   "metadata": {},
   "outputs": [
    {
     "data": {
      "text/latex": [
       "\\begin{equation*}\\frac{\\sqrt{\\pi} \\operatorname{erf}{\\left(x \\right)}}{2}\\end{equation*}"
      ],
      "text/plain": [
       "√π⋅erf(x)\n",
       "─────────\n",
       "    2    "
      ]
     },
     "execution_count": 5,
     "metadata": {},
     "output_type": "execute_result"
    }
   ],
   "source": [
    "integrate(exp(-x^2))"
   ]
  },
  {
   "cell_type": "code",
   "execution_count": 6,
   "metadata": {},
   "outputs": [
    {
     "data": {
      "text/latex": [
       "\\begin{equation*}\\frac{334639305 x^{23} + 3904125225 x^{21} + 20814564771 x^{19} + 67013911107 x^{17} + 144986993866 x^{15} + 221803567050 x^{13} + 245588699190 x^{11} + 197767334710 x^{9} + 114444262845 x^{7} + 46038446685 x^{5} + 12013258455 x^{3} + 1741541175 x}{2076180480 x^{24} + 24914165760 x^{22} + 137027911680 x^{20} + 456759705600 x^{18} + 1027709337600 x^{16} + 1644334940160 x^{14} + 1918390763520 x^{12} + 1644334940160 x^{10} + 1027709337600 x^{8} + 456759705600 x^{6} + 137027911680 x^{4} + 24914165760 x^{2} + 2076180480} + \\frac{676039 \\operatorname{atan}{\\left(x \\right)}}{4194304}\\end{equation*}"
      ],
      "text/plain": [
       "                         23               21                19                \n",
       "              334639305⋅x   + 3904125225⋅x   + 20814564771⋅x   + 67013911107⋅x\n",
       "──────────────────────────────────────────────────────────────────────────────\n",
       "            24                22                 20                 18        \n",
       "2076180480⋅x   + 24914165760⋅x   + 137027911680⋅x   + 456759705600⋅x   + 10277\n",
       "\n",
       "17                 15                 13                 11                 9 \n",
       "   + 144986993866⋅x   + 221803567050⋅x   + 245588699190⋅x   + 197767334710⋅x  \n",
       "──────────────────────────────────────────────────────────────────────────────\n",
       "          16                  14                  12                  10      \n",
       "09337600⋅x   + 1644334940160⋅x   + 1918390763520⋅x   + 1644334940160⋅x   + 102\n",
       "\n",
       "                7                5                3                           \n",
       "+ 114444262845⋅x  + 46038446685⋅x  + 12013258455⋅x  + 1741541175⋅x            \n",
       "──────────────────────────────────────────────────────────────────────────────\n",
       "            8                 6                 4                2            \n",
       "7709337600⋅x  + 456759705600⋅x  + 137027911680⋅x  + 24914165760⋅x  + 207618048\n",
       "\n",
       "                  \n",
       "    676039⋅atan(x)\n",
       "─ + ──────────────\n",
       "       4194304    \n",
       "0                 "
      ]
     },
     "execution_count": 6,
     "metadata": {},
     "output_type": "execute_result"
    }
   ],
   "source": [
    "# Primjer rekurzivne formule. Ovo traje malo duže\n",
    "integrate(1/(1+x^2)^13)"
   ]
  },
  {
   "cell_type": "code",
   "execution_count": 7,
   "metadata": {},
   "outputs": [
    {
     "data": {
      "text/latex": [
       "\\begin{equation*}\\frac{3 x^{3} + 5 x}{8 x^{4} + 16 x^{2} + 8} + \\frac{3 \\operatorname{atan}{\\left(x \\right)}}{8}\\end{equation*}"
      ],
      "text/plain": [
       "      3                     \n",
       "   3⋅x  + 5⋅x      3⋅atan(x)\n",
       "──────────────── + ─────────\n",
       "   4       2           8    \n",
       "8⋅x  + 16⋅x  + 8            "
      ]
     },
     "execution_count": 7,
     "metadata": {},
     "output_type": "execute_result"
    }
   ],
   "source": [
    "# Kraća rekurzivna formula\n",
    "integrate(1/(1+x^2)^3)"
   ]
  },
  {
   "cell_type": "code",
   "execution_count": 8,
   "metadata": {},
   "outputs": [
    {
     "data": {
      "text/html": [
       "# 6 methods for generic function <b>diff</b>:<ul><li> diff(a::<b>SparseArrays.AbstractSparseMatrixCSC</b>; <i>dims</i>) in SparseArrays at <a href=\"file://D:/buildbot/worker/package_win64/build/usr/share/julia/stdlib/v1.4/SparseArrays/src/linalg.jl\" target=\"_blank\">C:\\Users\\Ivan_Slapnicar\\AppData\\Local\\Programs\\Julia\\Julia-1.4.1\\share\\julia\\stdlib\\v1.4\\SparseArrays\\src\\linalg.jl:1047</a></li> <li> diff(a::<b>AbstractArray{T,1} where T</b>) in Base at <a href=\"https://github.com/JuliaLang/julia/tree/381693d3dfc9b7072707f6d544f82f6637fc5e7c/base/multidimensional.jl#L793\" target=\"_blank\">multidimensional.jl:793</a></li> <li> diff(a::<b>AbstractArray{T,N}</b>; <i>dims</i>)<i> where {T, N}</i> in Base at <a href=\"https://github.com/JuliaLang/julia/tree/381693d3dfc9b7072707f6d544f82f6637fc5e7c/base/multidimensional.jl#L826\" target=\"_blank\">multidimensional.jl:826</a></li> <li> diff(f::<b>Function</b>) in SymPy at <a href=\"file://C:/Users/Ivan_Slapnicar/.julia/packages/SymPy/JaxDZ/src/mathfuns.jl\" target=\"_blank\">C:\\Users\\Ivan_Slapnicar\\.julia\\packages\\SymPy\\JaxDZ\\src\\mathfuns.jl:57</a></li> <li> diff(f::<b>Function</b>, n::<b>Int64</b>) in SymPy at <a href=\"file://C:/Users/Ivan_Slapnicar/.julia/packages/SymPy/JaxDZ/src/mathfuns.jl\" target=\"_blank\">C:\\Users\\Ivan_Slapnicar\\.julia\\packages\\SymPy\\JaxDZ\\src\\mathfuns.jl:57</a></li> <li> diff(ex::<b>SymPy.SymbolicObject</b>, args...; <i>kwargs...</i>) in SymPy at <a href=\"file://C:/Users/Ivan_Slapnicar/.julia/packages/SymPy/JaxDZ/src/importexport.jl\" target=\"_blank\">C:\\Users\\Ivan_Slapnicar\\.julia\\packages\\SymPy\\JaxDZ\\src\\importexport.jl:70</a></li> </ul>"
      ],
      "text/plain": [
       "# 6 methods for generic function \"diff\":\n",
       "[1] diff(a::SparseArrays.AbstractSparseMatrixCSC; dims) in SparseArrays at C:\\Users\\Ivan_Slapnicar\\AppData\\Local\\Programs\\Julia\\Julia-1.4.1\\share\\julia\\stdlib\\v1.4\\SparseArrays\\src\\linalg.jl:1047\n",
       "[2] diff(a::AbstractArray{T,1} where T) in Base at multidimensional.jl:793\n",
       "[3] diff(a::AbstractArray{T,N}; dims) where {T, N} in Base at multidimensional.jl:826\n",
       "[4] diff(f::Function) in SymPy at C:\\Users\\Ivan_Slapnicar\\.julia\\packages\\SymPy\\JaxDZ\\src\\mathfuns.jl:57\n",
       "[5] diff(f::Function, n::Int64) in SymPy at C:\\Users\\Ivan_Slapnicar\\.julia\\packages\\SymPy\\JaxDZ\\src\\mathfuns.jl:57\n",
       "[6] diff(ex::SymPy.SymbolicObject, args...; kwargs...) in SymPy at C:\\Users\\Ivan_Slapnicar\\.julia\\packages\\SymPy\\JaxDZ\\src\\importexport.jl:70"
      ]
     },
     "execution_count": 8,
     "metadata": {},
     "output_type": "execute_result"
    }
   ],
   "source": [
    "methods(diff)"
   ]
  },
  {
   "cell_type": "code",
   "execution_count": 9,
   "metadata": {},
   "outputs": [
    {
     "data": {
      "text/latex": [
       "\\begin{equation*}2 x e^{\\sin{\\left(\\frac{1}{x} \\right)}} - e^{\\sin{\\left(\\frac{1}{x} \\right)}} \\cos{\\left(\\frac{1}{x} \\right)}\\end{equation*}"
      ],
      "text/plain": [
       "        ⎛1⎞       ⎛1⎞       \n",
       "     sin⎜─⎟    sin⎜─⎟       \n",
       "        ⎝x⎠       ⎝x⎠    ⎛1⎞\n",
       "2⋅x⋅ℯ       - ℯ      ⋅cos⎜─⎟\n",
       "                         ⎝x⎠"
      ]
     },
     "execution_count": 9,
     "metadata": {},
     "output_type": "execute_result"
    }
   ],
   "source": [
    "# Derivacija\n",
    "diff(x^2*exp(sin(1/x)))"
   ]
  },
  {
   "cell_type": "code",
   "execution_count": 10,
   "metadata": {},
   "outputs": [
    {
     "data": {
      "text/latex": [
       "\\begin{equation*}\\frac{\\log{\\left(\\tan^{2}{\\left(\\frac{x}{2} \\right)} + 3 \\right)}}{3} + \\frac{\\log{\\left(\\tan{\\left(\\frac{x}{2} \\right)} \\right)}}{3}\\end{equation*}"
      ],
      "text/plain": [
       "   ⎛   2⎛x⎞    ⎞      ⎛   ⎛x⎞⎞\n",
       "log⎜tan ⎜─⎟ + 3⎟   log⎜tan⎜─⎟⎟\n",
       "   ⎝    ⎝2⎠    ⎠      ⎝   ⎝2⎠⎠\n",
       "──────────────── + ───────────\n",
       "       3                3     "
      ]
     },
     "execution_count": 10,
     "metadata": {},
     "output_type": "execute_result"
    }
   ],
   "source": [
    "# Racionanla funkcija trigonometrijskih funkcija (univerzalna trigonometrijska supstitucija)\n",
    "integrate(1/((2+cos(x))*sin(x)))"
   ]
  },
  {
   "cell_type": "markdown",
   "metadata": {},
   "source": [
    "#### Zadatak 1.5.e)"
   ]
  },
  {
   "cell_type": "code",
   "execution_count": 12,
   "metadata": {},
   "outputs": [
    {
     "data": {
      "text/latex": [
       "\\begin{equation*}- \\frac{1}{\\tan{\\left(\\frac{x}{2} \\right)} + 2}\\end{equation*}"
      ],
      "text/plain": [
       "   -1     \n",
       "──────────\n",
       "   ⎛x⎞    \n",
       "tan⎜─⎟ + 2\n",
       "   ⎝2⎠    "
      ]
     },
     "execution_count": 12,
     "metadata": {},
     "output_type": "execute_result"
    }
   ],
   "source": [
    "integrate(1/(4*sin(x)+3*cos(x)+5))"
   ]
  },
  {
   "cell_type": "code",
   "execution_count": 13,
   "metadata": {},
   "outputs": [
    {
     "data": {
      "text/latex": [
       "\\begin{equation*}\\frac{5 \\log{\\left(\\tan{\\left(\\frac{x}{2} \\right)} - 3 \\right)}}{3} - \\log{\\left(\\tan{\\left(\\frac{x}{2} \\right)} - 1 \\right)} + \\frac{\\log{\\left(\\tan{\\left(\\frac{x}{2} \\right)} \\right)}}{3}\\end{equation*}"
      ],
      "text/plain": [
       "     ⎛   ⎛x⎞    ⎞                        ⎛   ⎛x⎞⎞\n",
       "5⋅log⎜tan⎜─⎟ - 3⎟                     log⎜tan⎜─⎟⎟\n",
       "     ⎝   ⎝2⎠    ⎠      ⎛   ⎛x⎞    ⎞      ⎝   ⎝2⎠⎠\n",
       "───────────────── - log⎜tan⎜─⎟ - 1⎟ + ───────────\n",
       "        3              ⎝   ⎝2⎠    ⎠        3     "
      ]
     },
     "execution_count": 13,
     "metadata": {},
     "output_type": "execute_result"
    }
   ],
   "source": [
    "integrate(1/(sin(x)*(2+cos(x)-2*sin(x))))"
   ]
  },
  {
   "cell_type": "code",
   "execution_count": null,
   "metadata": {},
   "outputs": [],
   "source": [
    "# Ovo traje beskonačno?\n",
    "# integrate(cos(x)^3/(sin(x)^2+sin(x)))"
   ]
  },
  {
   "cell_type": "code",
   "execution_count": 14,
   "metadata": {},
   "outputs": [
    {
     "data": {
      "text/latex": [
       "\\begin{equation*}\\log{\\left(\\sin{\\left(x \\right)} \\right)} - \\sin{\\left(x \\right)}\\end{equation*}"
      ],
      "text/plain": [
       "log(sin(x)) - sin(x)"
      ]
     },
     "execution_count": 14,
     "metadata": {},
     "output_type": "execute_result"
    }
   ],
   "source": [
    "# Ovo je isti zadatak kao gore, ali traje kratko. Koristi se jednostavnija supstitucija. \n",
    "integrate((1-sin(x)^2)*cos(x)/(sin(x)^2+sin(x)))"
   ]
  },
  {
   "cell_type": "code",
   "execution_count": 15,
   "metadata": {},
   "outputs": [],
   "source": [
    "# Ovo traje jako dugo i ne uspije izračunati nego vrati polazni integral\n",
    "# integrate( (2*tan(x)+3)/(sin(x)^2+2*cos(x)^2))"
   ]
  },
  {
   "cell_type": "markdown",
   "metadata": {},
   "source": [
    "Uz supstituciju $t=\\tan(x)$ integral postaje jednostavan: "
   ]
  },
  {
   "cell_type": "code",
   "execution_count": 16,
   "metadata": {},
   "outputs": [
    {
     "data": {
      "text/latex": [
       "\\begin{equation*}\\log{\\left(t^{2} + 2 \\right)} + \\frac{3 \\sqrt{2} \\operatorname{atan}{\\left(\\frac{\\sqrt{2} t}{2} \\right)}}{2}\\end{equation*}"
      ],
      "text/plain": [
       "                       ⎛√2⋅t⎞\n",
       "              3⋅√2⋅atan⎜────⎟\n",
       "   ⎛ 2    ⎞            ⎝ 2  ⎠\n",
       "log⎝t  + 2⎠ + ───────────────\n",
       "                     2       "
      ]
     },
     "execution_count": 16,
     "metadata": {},
     "output_type": "execute_result"
    }
   ],
   "source": [
    "t=Sym(\"t\")\n",
    "I₁=integrate( (2*t+3)/(t^2+2))"
   ]
  },
  {
   "cell_type": "code",
   "execution_count": 18,
   "metadata": {},
   "outputs": [
    {
     "data": {
      "text/latex": [
       "\\begin{equation*}\\log{\\left(\\tan^{2}{\\left(x \\right)} + 2 \\right)} + 2.12132034355964 \\operatorname{atan}{\\left(0.707106781186548 \\tan{\\left(x \\right)} \\right)}\\end{equation*}"
      ],
      "text/plain": [
       "   ⎛   2       ⎞                                                  \n",
       "log⎝tan (x) + 2⎠ + 2.12132034355964⋅atan(0.707106781186548⋅tan(x))"
      ]
     },
     "execution_count": 18,
     "metadata": {},
     "output_type": "execute_result"
    }
   ],
   "source": [
    "# Vratimo supstituciju natrag\n",
    "I₂=convert(Function,I₁)\n",
    "I₂(tan(x))"
   ]
  },
  {
   "cell_type": "markdown",
   "metadata": {},
   "source": [
    "#### Zadatak 1.6"
   ]
  },
  {
   "cell_type": "code",
   "execution_count": 19,
   "metadata": {},
   "outputs": [],
   "source": [
    "# Ovo traje beskonačno!\n",
    "# I₄=integrate((1+sinh(x))/((2+cosh(x))*(3+sinh(x))),x)\n",
    "# Program treba našu pomoć!!!"
   ]
  },
  {
   "cell_type": "markdown",
   "metadata": {},
   "source": [
    "__Univerzalna hiperbolna supstitucija__\n",
    "\n",
    "$t=\\tanh(\\frac{x}{2})$, $x=2\\mathop{\\mathrm{atanh}}(t)$, $dx=\\displaystyle\\frac{2}{1-t^2}dt$,\n",
    "$\\sinh(x)=\\displaystyle\\frac{2t}{1-t^2}$, $\\cosh(x)=\\displaystyle\\frac{1+t^2}{1-t^2}$\n"
   ]
  },
  {
   "cell_type": "code",
   "execution_count": 20,
   "metadata": {},
   "outputs": [
    {
     "data": {
      "text/latex": [
       "\\begin{equation*}\\frac{\\sinh{\\left(x \\right)} + 1}{\\left(\\sinh{\\left(x \\right)} + 3\\right) \\left(\\cosh{\\left(x \\right)} + 2\\right)}\\end{equation*}"
      ],
      "text/plain": [
       "        sinh(x) + 1        \n",
       "───────────────────────────\n",
       "(sinh(x) + 3)⋅(cosh(x) + 2)"
      ]
     },
     "execution_count": 20,
     "metadata": {},
     "output_type": "execute_result"
    }
   ],
   "source": [
    "I₄=(1+sinh(x))/((2+cosh(x))*(3+sinh(x)))"
   ]
  },
  {
   "cell_type": "code",
   "execution_count": 22,
   "metadata": {},
   "outputs": [
    {
     "data": {
      "text/latex": [
       "\\begin{equation*}\\frac{\\frac{2 t}{1 - t^{2}} + 1}{\\left(\\frac{2 t}{1 - t^{2}} + 3\\right) \\left(\\cosh{\\left(x \\right)} + 2\\right)}\\end{equation*}"
      ],
      "text/plain": [
       "         2⋅t              \n",
       "        ────── + 1        \n",
       "             2            \n",
       "        1 - t             \n",
       "──────────────────────────\n",
       "⎛ 2⋅t      ⎞              \n",
       "⎜────── + 3⎟⋅(cosh(x) + 2)\n",
       "⎜     2    ⎟              \n",
       "⎝1 - t     ⎠              "
      ]
     },
     "execution_count": 22,
     "metadata": {},
     "output_type": "execute_result"
    }
   ],
   "source": [
    "# supstitucija za sinh(x)\n",
    "I₅=subs(I₄,sinh(x),(2*t)/(1-t^2))"
   ]
  },
  {
   "cell_type": "code",
   "execution_count": 23,
   "metadata": {},
   "outputs": [
    {
     "data": {
      "text/latex": [
       "\\begin{equation*}\\frac{\\frac{2 t}{1 - t^{2}} + 1}{\\left(2 + \\frac{t^{2} + 1}{1 - t^{2}}\\right) \\left(\\frac{2 t}{1 - t^{2}} + 3\\right)}\\end{equation*}"
      ],
      "text/plain": [
       "         2⋅t             \n",
       "        ────── + 1       \n",
       "             2           \n",
       "        1 - t            \n",
       "─────────────────────────\n",
       "⎛     2    ⎞             \n",
       "⎜    t  + 1⎟ ⎛ 2⋅t      ⎞\n",
       "⎜2 + ──────⎟⋅⎜────── + 3⎟\n",
       "⎜         2⎟ ⎜     2    ⎟\n",
       "⎝    1 - t ⎠ ⎝1 - t     ⎠"
      ]
     },
     "execution_count": 23,
     "metadata": {},
     "output_type": "execute_result"
    }
   ],
   "source": [
    "# Supstitucija za cosh(x)\n",
    "I₆=subs(I₅,cosh(x),(1+t^2)/(1-t^2))"
   ]
  },
  {
   "cell_type": "code",
   "execution_count": 24,
   "metadata": {},
   "outputs": [
    {
     "data": {
      "text/latex": [
       "\\begin{equation*}\\frac{2 \\left(\\frac{2 t}{1 - t^{2}} + 1\\right)}{\\left(1 - t^{2}\\right) \\left(2 + \\frac{t^{2} + 1}{1 - t^{2}}\\right) \\left(\\frac{2 t}{1 - t^{2}} + 3\\right)}\\end{equation*}"
      ],
      "text/plain": [
       "            ⎛ 2⋅t      ⎞          \n",
       "          2⋅⎜────── + 1⎟          \n",
       "            ⎜     2    ⎟          \n",
       "            ⎝1 - t     ⎠          \n",
       "──────────────────────────────────\n",
       "         ⎛     2    ⎞             \n",
       "⎛     2⎞ ⎜    t  + 1⎟ ⎛ 2⋅t      ⎞\n",
       "⎝1 - t ⎠⋅⎜2 + ──────⎟⋅⎜────── + 3⎟\n",
       "         ⎜         2⎟ ⎜     2    ⎟\n",
       "         ⎝    1 - t ⎠ ⎝1 - t     ⎠"
      ]
     },
     "execution_count": 24,
     "metadata": {},
     "output_type": "execute_result"
    }
   ],
   "source": [
    "# Pomnožimo s dx\n",
    "I₇=I₆*2/(1-t^2)"
   ]
  },
  {
   "cell_type": "code",
   "execution_count": 25,
   "metadata": {},
   "outputs": [
    {
     "data": {
      "text/latex": [
       "\\begin{equation*}\\frac{\\log{\\left(t^{2} - 3 \\right)}}{3} - \\left(\\frac{1}{3} - \\frac{\\sqrt{10}}{15}\\right) \\log{\\left(t - \\frac{1}{3} + \\frac{\\sqrt{10}}{3} \\right)} - \\left(\\frac{\\sqrt{10}}{15} + \\frac{1}{3}\\right) \\log{\\left(t - \\frac{\\sqrt{10}}{3} - \\frac{1}{3} \\right)}\\end{equation*}"
      ],
      "text/plain": [
       "   ⎛ 2    ⎞                                                          \n",
       "log⎝t  - 3⎠   ⎛1   √10⎞    ⎛    1   √10⎞   ⎛√10   1⎞    ⎛    √10   1⎞\n",
       "─────────── - ⎜─ - ───⎟⋅log⎜t - ─ + ───⎟ - ⎜─── + ─⎟⋅log⎜t - ─── - ─⎟\n",
       "     3        ⎝3    15⎠    ⎝    3    3 ⎠   ⎝ 15   3⎠    ⎝     3    3⎠"
      ]
     },
     "execution_count": 25,
     "metadata": {},
     "output_type": "execute_result"
    }
   ],
   "source": [
    "# Integriramo racionalnu funkciju \n",
    "I₈=integrate(I₇,t)"
   ]
  },
  {
   "cell_type": "code",
   "execution_count": 26,
   "metadata": {},
   "outputs": [
    {
     "data": {
      "text/latex": [
       "\\begin{equation*}\\frac{\\log{\\left(\\tanh^{2}{\\left(\\frac{x}{2} \\right)} - 3 \\right)}}{3} - \\left(\\frac{1}{3} - \\frac{\\sqrt{10}}{15}\\right) \\log{\\left(\\tanh{\\left(\\frac{x}{2} \\right)} - \\frac{1}{3} + \\frac{\\sqrt{10}}{3} \\right)} - \\left(\\frac{\\sqrt{10}}{15} + \\frac{1}{3}\\right) \\log{\\left(\\tanh{\\left(\\frac{x}{2} \\right)} - \\frac{\\sqrt{10}}{3} - \\frac{1}{3} \\right)}\\end{equation*}"
      ],
      "text/plain": [
       "   ⎛    2⎛x⎞    ⎞                                                             \n",
       "log⎜tanh ⎜─⎟ - 3⎟                                                             \n",
       "   ⎝     ⎝2⎠    ⎠   ⎛1   √10⎞    ⎛    ⎛x⎞   1   √10⎞   ⎛√10   1⎞    ⎛    ⎛x⎞  \n",
       "───────────────── - ⎜─ - ───⎟⋅log⎜tanh⎜─⎟ - ─ + ───⎟ - ⎜─── + ─⎟⋅log⎜tanh⎜─⎟ -\n",
       "        3           ⎝3    15⎠    ⎝    ⎝2⎠   3    3 ⎠   ⎝ 15   3⎠    ⎝    ⎝2⎠  \n",
       "\n",
       "         \n",
       "         \n",
       " √10   1⎞\n",
       " ─── - ─⎟\n",
       "  3    3⎠"
      ]
     },
     "execution_count": 26,
     "metadata": {},
     "output_type": "execute_result"
    }
   ],
   "source": [
    "# Vratimo supstituciju natrag\n",
    "I₉=subs(I₈,t,tanh(x/2))"
   ]
  },
  {
   "cell_type": "code",
   "execution_count": null,
   "metadata": {
    "collapsed": true
   },
   "outputs": [],
   "source": []
  }
 ],
 "metadata": {
  "@webio": {
   "lastCommId": null,
   "lastKernelId": null
  },
  "kernelspec": {
   "display_name": "Julia 1.4.1",
   "language": "julia",
   "name": "julia-1.4"
  },
  "language": "Julia",
  "language_info": {
   "file_extension": ".jl",
   "mimetype": "application/julia",
   "name": "julia",
   "version": "1.4.1"
  }
 },
 "nbformat": 4,
 "nbformat_minor": 1
}
