{
 "cells": [
  {
   "cell_type": "code",
   "execution_count": 1,
   "metadata": {
    "collapsed": false
   },
   "outputs": [
    {
     "name": "stdout",
     "output_type": "stream",
     "text": [
      "Julia Version 0.3.11\n",
      "Commit 483dbf5* (2015-07-27 06:18 UTC)\n",
      "Platform Info:\n",
      "  System: Linux (x86_64-unknown-linux-gnu)\n",
      "  CPU: Intel(R) Xeon(R) CPU E5-2670 v2 @ 2.50GHz\n",
      "  WORD_SIZE: 64\n",
      "  BLAS: libopenblas (USE64BITINT DYNAMIC_ARCH NO_AFFINITY Sandybridge)\n",
      "  LAPACK: libopenblas\n",
      "  LIBM: libopenlibm\n",
      "  LLVM: libLLVM-3.3\n"
     ]
    }
   ],
   "source": [
    "versioninfo()"
   ]
  },
  {
   "cell_type": "code",
   "execution_count": 2,
   "metadata": {
    "collapsed": false
   },
   "outputs": [],
   "source": [
    "# Ovu natrebu je potreno izvrsiti sam jednom, ucita se paket SymPy\n",
    "using SymPy"
   ]
  },
  {
   "cell_type": "code",
   "execution_count": 3,
   "metadata": {
    "collapsed": false,
    "scrolled": true
   },
   "outputs": [
    {
     "name": "stdout",
     "output_type": "stream",
     "text": [
      "Abs                           Function\n",
      "Add                           Function\n",
      "Adjoint                       Function\n",
      "AlgebraicField                Function\n",
      "AlgebraicNumber               Function\n",
      "And                           Function\n",
      "AppliedPredicate              Function\n",
      "AssumptionsContext            Function\n",
      "Atom                          Function\n",
      "AtomicExpr                    Function\n",
      "BasePolynomialError           Function\n",
      "Basic                         Function\n",
      "BlockDiagMatrix               Function\n",
      "BlockMatrix                   Function\n",
      "C                             PyObject\n",
      "CC                            PyObject\n",
      "Catalan                       PyObject\n",
      "Chi                           Function\n",
      "Ci                            Function\n",
      "Circle                        Function\n",
      "CoercionFailed                Function\n",
      "Complement                    Function\n",
      "ComplexField                  Function\n",
      "ComputationFailed             Function\n",
      "Contains                      Function\n",
      "CosineTransform               Function\n",
      "Curve                         Function\n",
      "DeferredVector                Function\n",
      "Derivative                    Function\n",
      "Determinant                   Function\n",
      "DiagonalMatrix                Function\n",
      "DiagonalOf                    Function\n",
      "Dict                          Function\n",
      "DiracDelta                    Function\n",
      "Domain                        Function\n",
      "DomainError                   Function\n",
      "Dummy                         Function\n",
      "E                             PyObject\n",
      "E1                            Function\n",
      "EPath                         Function\n",
      "EX                            PyObject\n",
      "Ei                            Function\n",
      "Eijk                          Function\n",
      "Ellipse                       Function\n",
      "EmptySet                      Function\n",
      "Eq                            Function\n",
      "Equality                      Function\n",
      "Equivalent                    Function\n",
      "EulerGamma                    PyObject\n",
      "EvaluationFailed              Function\n",
      "ExactQuotientFailed           Function\n",
      "Expr                          Function\n",
      "ExpressionDomain              Function\n",
      "ExtraneousFactors             Function\n",
      "FF                            Function\n",
      "FF_gmpy                       Function\n",
      "FF_python                     Function\n",
      "FU                            Dict{Any,Any} with 24 entries\n",
      "FallingFactorial              Function\n",
      "FiniteField                   Function\n",
      "FiniteSet                     Function\n",
      "FlagError                     Function\n",
      "Float                         Function\n",
      "FourierTransform              Function\n",
      "FractionField                 Function\n",
      "Function                      Function\n",
      "FunctionClass                 Function\n",
      "FunctionMatrix                Function\n",
      "GF                            Function\n",
      "GMPYFiniteField               Function\n",
      "GMPYIntegerRing               Function\n",
      "GMPYRationalField             Function\n",
      "Ge                            Function\n",
      "GeneratorsError               Function\n",
      "GeneratorsNeeded              Function\n",
      "GeometryError                 Function\n",
      "GoldenRatio                   PyObject\n",
      "GramSchmidt                   Function\n",
      "GreaterThan                   Function\n",
      "GroebnerBasis                 Function\n",
      "Gt                            Function\n",
      "HadamardProduct               Function\n",
      "HankelTransform               Function\n",
      "Heaviside                     Function\n",
      "HeuristicGCDFailed            Function\n",
      "HomomorphismFailed            Function\n",
      "I                             PyObject\n",
      "ITE                           Function\n",
      "Id                            PyObject\n",
      "Identity                      Function\n",
      "Idx                           Function\n",
      "ImageSet                      Function\n",
      "ImmutableDenseMatrix          Function\n",
      "ImmutableMatrix               Function\n",
      "ImmutableSparseMatrix         Function\n",
      "Implies                       Function\n",
      "Indexed                       Function\n",
      "IndexedBase                   Function\n",
      "Integer                       Function\n",
      "IntegerRing                   Function\n",
      "Integral                      Function\n",
      "Intersection                  Function\n",
      "Interval                      Function\n",
      "Inverse                       Function\n",
      "InverseCosineTransform        Function\n",
      "InverseFourierTransform       Function\n",
      "InverseHankelTransform        Function\n",
      "InverseLaplaceTransform       Function\n",
      "InverseMellinTransform        Function\n",
      "InverseSineTransform          Function\n",
      "IsomorphismFailed             Function\n",
      "KroneckerDelta                Function\n",
      "LC                            Function\n",
      "LM                            Function\n",
      "LT                            Function\n",
      "Lambda                        Function\n",
      "LambertW                      Function\n",
      "LaplaceTransform              Function\n",
      "Le                            Function\n",
      "LessThan                      Function\n",
      "LeviCivita                    Function\n",
      "Li                            Function\n",
      "Limit                         Function\n",
      "Line                          Function\n",
      "Line3D                        Function\n",
      "Lt                            Function\n",
      "MatAdd                        Function\n",
      "MatMul                        Function\n",
      "MatPow                        Function\n",
      "Matrix                        Function\n",
      "MatrixBase                    Function\n",
      "MatrixExpr                    Function\n",
      "MatrixSlice                   Function\n",
      "MatrixSymbol                  Function\n",
      "Max                           Function\n",
      "MellinTransform               Function\n",
      "Min                           Function\n",
      "Mod                           Function\n",
      "Monomial                      Function\n",
      "Mul                           Function\n",
      "MultivariatePolynomialError   Function\n",
      "MutableDenseMatrix            Function\n",
      "MutableMatrix                 Function\n",
      "MutableSparseMatrix           Function\n",
      "N                             Function\n",
      "Nand                          Function\n",
      "Ne                            Function\n",
      "NonSquareMatrixError          Function\n",
      "Nor                           Function\n",
      "Not                           Function\n",
      "NotAlgebraic                  Function\n",
      "NotInvertible                 Function\n",
      "NotReversible                 Function\n",
      "Number                        Function\n",
      "NumberSymbol                  Function\n",
      "O                             Function\n",
      "OperationNotSupported         Function\n",
      "OptionError                   Function\n",
      "Options                       Function\n",
      "Or                            Function\n",
      "Order                         Function\n",
      "POSform                       Function\n",
      "Piecewise                     Function\n",
      "Plane                         Function\n",
      "Point                         Function\n",
      "Point3D                       Function\n",
      "PoleError                     Function\n",
      "PolificationFailed            Function\n",
      "Poly                          Function\n",
      "Polygon                       Function\n",
      "PolynomialDivisionFailed      Function\n",
      "PolynomialError               Function\n",
      "PolynomialRing                Function\n",
      "Pow                           Function\n",
      "PrecisionExhausted            Function\n",
      "Predicate                     Function\n",
      "Product                       Function\n",
      "ProductSet                    Function\n",
      "PurePoly                      Function\n",
      "PythonFiniteField             Function\n",
      "PythonIntegerRing             Function\n",
      "PythonRationalField           Function\n",
      "Q                             PyObject\n",
      "QQ                            PyObject\n",
      "QQ_gmpy                       Function\n",
      "QQ_python                     Function\n",
      "RR                            PyObject\n",
      "Range                         Function\n",
      "Rational                      Function\n",
      "RationalField                 Function\n",
      "Ray                           Function\n",
      "Ray3D                         Function\n",
      "RealField                     Function\n",
      "RealNumber                    Function\n",
      "RefinementFailed              Function\n",
      "RegularPolygon                Function\n",
      "Rel                           Function\n",
      "RisingFactorial               Function\n",
      "RootOf                        Function\n",
      "RootSum                       Function\n",
      "S                             PyObject\n",
      "SOPform                       Function\n",
      "SYMPY_DEBUG                   Bool\n",
      "Segment                       Function\n",
      "Segment3D                     Function\n",
      "Set                           Function\n",
      "ShapeError                    Function\n",
      "Shi                           Function\n",
      "Si                            Function\n",
      "Sieve                         PyObject\n",
      "SineTransform                 Function\n",
      "SparseMatrix                  Function\n",
      "StrictGreaterThan             Function\n",
      "StrictLessThan                Function\n",
      "Subs                          Function\n",
      "Sum                           Function\n",
      "Symbol                        Function\n",
      "SympifyError                  Function\n",
      "TableForm                     Function\n",
      "Trace                         Function\n",
      "TransformationSet             Function\n",
      "Transpose                     Function\n",
      "Triangle                      Function\n",
      "Unequality                    Function\n",
      "UnificationFailed             Function\n",
      "Union                         Function\n",
      "UnivariatePolynomialError     Function\n",
      "Wild                          Function\n",
      "WildFunction                  Function\n",
      "Xor                           Function\n",
      "Ynm                           Function\n",
      "Ynm_c                         Function\n",
      "ZZ                            PyObject\n",
      "ZZ_gmpy                       Function\n",
      "ZZ_python                     Function\n",
      "ZeroMatrix                    Function\n",
      "Znm                           Function\n",
      "__anon__                      Module\n",
      "absolute_import               PyObject\n",
      "acos                          Function\n",
      "acosh                         Function\n",
      "acot                          Function\n",
      "acoth                         Function\n",
      "acsc                          Function\n",
      "add                           PyObject\n",
      "adjoint                       Function\n",
      "airyai                        Function\n",
      "airyaiprime                   Function\n",
      "airybi                        Function\n",
      "airybiprime                   Function\n",
      "apart                         Function\n",
      "apart_list                    Function\n",
      "apply_finite_diff             Function\n",
      "are_similar                   Function\n",
      "arg                           Function\n",
      "as_finite_diff                Function\n",
      "asec                          Function\n",
      "asin                          Function\n",
      "asinh                         Function\n",
      "ask                           Function\n",
      "ask_generated                 PyObject\n",
      "assemble_partfrac_list        Function\n",
      "assoc_laguerre                Function\n",
      "assoc_legendre                Function\n",
      "assume                        PyObject\n",
      "assuming                      Function\n",
      "assumptions                   PyObject\n",
      "atan                          Function\n",
      "atan2                         Function\n",
      "atanh                         Function\n",
      "basic                         PyObject\n",
      "bell                          Function\n",
      "bernoulli                     Function\n",
      "besseli                       Function\n",
      "besselj                       Function\n",
      "besselk                       Function\n",
      "besselsimp                    Function\n",
      "bessely                       Function\n",
      "beta                          Function\n",
      "binomial                      Function\n",
      "binomial_coefficients         Function\n",
      "binomial_coefficients_list    Function\n",
      "bivariate                     PyObject\n",
      "block_collapse                Function\n",
      "blockcut                      Function\n",
      "bool_equal                    Function\n",
      "bool_map                      Function\n",
      "boolalg                       PyObject\n",
      "bspline_basis                 Function\n",
      "bspline_basis_set             Function\n",
      "cache                         PyObject\n",
      "cacheit                       Function\n",
      "calculus                      PyObject\n",
      "cancel                        Function\n",
      "capture                       Function\n",
      "cartes                        Function\n",
      "casoratian                    Function\n",
      "catalan                       Function\n",
      "cbrt                          Function\n",
      "ccode                         Function\n",
      "ceiling                       Function\n",
      "centroid                      Function\n",
      "chebyshevt                    Function\n",
      "chebyshevt_poly               Function\n",
      "chebyshevt_root               Function\n",
      "chebyshevu                    Function\n",
      "chebyshevu_poly               Function\n",
      "chebyshevu_root               Function\n",
      "checkodesol                   Function\n",
      "checkpdesol                   Function\n",
      "checksol                      Function\n",
      "classify_ode                  Function\n",
      "classify_pde                  Function\n",
      "cofactors                     Function\n",
      "collect                       Function\n",
      "collect_const                 Function\n",
      "combinatorial                 PyObject\n",
      "combsimp                      Function\n",
      "compatibility                 PyObject\n",
      "compose                       Function\n",
      "concrete                      PyObject\n",
      "conjugate                     Function\n",
      "construct_domain              Function\n",
      "containers                    PyObject\n",
      "contains                      PyObject\n",
      "content                       Function\n",
      "continued_fraction            PyObject\n",
      "continued_fraction_convergentsFunction\n",
      "continued_fraction_iterator   Function\n",
      "continued_fraction_periodic   Function\n",
      "continued_fraction_reduce     Function\n",
      "convex_hull                   Function\n",
      "core                          PyObject\n",
      "coreerrors                    PyObject\n",
      "cos                           Function\n",
      "cosh                          Function\n",
      "cosine_transform              Function\n",
      "cot                           Function\n",
      "coth                          Function\n",
      "count_ops                     Function\n",
      "count_roots                   Function\n",
      "csc                           Function\n",
      "cse                           Function\n",
      "cse_main                      PyObject\n",
      "cse_opts                      PyObject\n",
      "curve                         PyObject\n",
      "cycle_length                  Function\n",
      "cyclotomic_poly               Function\n",
      "decompose                     Function\n",
      "decorator                     PyObject\n",
      "decorators                    PyObject\n",
      "default_sort_key              Function\n",
      "deg                           Function\n",
      "degree                        Function\n",
      "degree_list                   Function\n",
      "deltafunctions                PyObject\n",
      "denom                         Function\n",
      "dense                         PyObject\n",
      "det                           Function\n",
      "det_quick                     Function\n",
      "deutils                       PyObject\n",
      "diag                          Function\n",
      "dict_merge                    Function\n",
      "diff                          Function\n",
      "digamma                       Function\n",
      "dirichlet_eta                 Function\n",
      "discriminant                  Function\n",
      "div                           Function\n",
      "divisor_count                 Function\n",
      "divisor_sigma                 Function\n",
      "divisors                      Function\n",
      "doctest                       Function\n",
      "dsolve                        Function\n",
      "egyptian_fraction             Function\n",
      "elementary                    PyObject\n",
      "ellipse                       PyObject\n",
      "elliptic_e                    Function\n",
      "elliptic_f                    Function\n",
      "elliptic_k                    Function\n",
      "elliptic_pi                   Function\n",
      "entity                        PyObject\n",
      "enumerative                   PyObject\n",
      "epath                         Function\n",
      "epathtools                    PyObject\n",
      "erf                           Function\n",
      "erf2                          Function\n",
      "erf2inv                       Function\n",
      "erfc                          Function\n",
      "erfcinv                       Function\n",
      "erfi                          Function\n",
      "erfinv                        Function\n",
      "euler                         PyObject\n",
      "euler_equations               Function\n",
      "evalf                         PyObject\n",
      "evaluate                      Function\n",
      "exceptions                    PyObject\n",
      "exp                           Function\n",
      "exp_polar                     Function\n",
      "expand                        Function\n",
      "expand_complex                Function\n",
      "expand_func                   Function\n",
      "expand_log                    Function\n",
      "expand_mul                    Function\n",
      "expand_multinomial            Function\n",
      "expand_power_base             Function\n",
      "expand_power_exp              Function\n",
      "expand_trig                   Function\n",
      "expint                        Function\n",
      "expr                          PyObject\n",
      "expr_with_intlimits           PyObject\n",
      "expr_with_limits              PyObject\n",
      "expressions                   PyObject\n",
      "exprtools                     PyObject\n",
      "exptrigsimp                   Function\n",
      "exquo                         Function\n",
      "external                      PyObject\n",
      "eye                           Function\n",
      "factor                        Function\n",
      "factor_                       PyObject\n",
      "factor_list                   Function\n",
      "factor_nc                     Function\n",
      "factor_terms                  Function\n",
      "factorial                     Function\n",
      "factorial2                    Function\n",
      "factorint                     Function\n",
      "facts                         PyObject\n",
      "fancysets                     PyObject\n",
      "fcode                         Function\n",
      "ff                            Function\n",
      "fibonacci                     Function\n",
      "field                         Function\n",
      "field_isomorphism             Function\n",
      "filldedent                    Function\n",
      "finite_diff                   PyObject\n",
      "finite_diff_weights           Function\n",
      "flatten                       Function\n",
      "floor                         Function\n",
      "fourier_transform             Function\n",
      "fraction                      Function\n",
      "fresnelc                      Function\n",
      "fresnels                      Function\n",
      "fu                            Function\n",
      "functions                     PyObject\n",
      "gamma                         Function\n",
      "gcd                           Function\n",
      "gcd_list                      Function\n",
      "gcd_terms                     Function\n",
      "gcdex                         Function\n",
      "gegenbauer                    Function\n",
      "generate                      PyObject\n",
      "geometry                      PyObject\n",
      "get_contraction_structure     Function\n",
      "get_indices                   Function\n",
      "gff                           Function\n",
      "gff_list                      Function\n",
      "gosper                        PyObject\n",
      "grevlex                       PyObject\n",
      "grlex                         PyObject\n",
      "groebner                      Function\n",
      "ground_roots                  Function\n",
      "group                         Function\n",
      "gruntz                        Function\n",
      "hadamard_product              Function\n",
      "half_gcdex                    Function\n",
      "hankel1                       Function\n",
      "hankel2                       Function\n",
      "hankel_transform              Function\n",
      "harmonic                      Function\n",
      "has_dups                      Function\n",
      "has_variety                   Function\n",
      "hermite                       Function\n",
      "hermite_poly                  Function\n",
      "hessian                       Function\n",
      "heurisch                      PyObject\n",
      "homogeneous_order             Function\n",
      "horner                        Function\n",
      "hyper                         Function\n",
      "hyperexpand                   Function\n",
      "hypersimilar                  Function\n",
      "hypersimp                     Function\n",
      "idiff                         Function\n",
      "igcd                          Function\n",
      "igrevlex                      PyObject\n",
      "igrlex                        PyObject\n",
      "ilcm                          Function\n",
      "ilex                          PyObject\n",
      "im                            Function\n",
      "imageset                      Function\n",
      "index_methods                 PyObject\n",
      "indexed                       PyObject\n",
      "inequalities                  PyObject\n",
      "inference                     PyObject\n",
      "init_printing                 Function\n",
      "init_session                  Function\n",
      "integer_nthroot               Function\n",
      "integrals                     PyObject\n",
      "integrate                     Function\n",
      "interactive                   PyObject\n",
      "interactive_traversal         Function\n",
      "interpolate                   Function\n",
      "interpolating_poly            Function\n",
      "intersection                  Function\n",
      "intervals                     Function\n",
      "inv_quick                     Function\n",
      "inverse_cosine_transform      Function\n",
      "inverse_fourier_transform     Function\n",
      "inverse_hankel_transform      Function\n",
      "inverse_laplace_transform     Function\n",
      "inverse_mellin_transform      Function\n",
      "inverse_sine_transform        Function\n",
      "invert                        Function\n",
      "is_nthpow_residue             Function\n",
      "is_primitive_root             Function\n",
      "is_quad_residue               Function\n",
      "is_zero_dimensional           Function\n",
      "isolate                       Function\n",
      "isprime                       Function\n",
      "iterables                     PyObject\n",
      "itermonomials                 Function\n",
      "jacobi                        Function\n",
      "jacobi_normalized             Function\n",
      "jacobi_poly                   Function\n",
      "jacobi_symbol                 Function\n",
      "jn                            Function\n",
      "jn_zeros                      Function\n",
      "jordan_cell                   Function\n",
      "jscode                        Function\n",
      "laguerre                      Function\n",
      "laguerre_poly                 Function\n",
      "lambdify                      Function\n",
      "laplace_transform             Function\n",
      "latex                         Function\n",
      "lcm                           Function\n",
      "lcm_list                      Function\n",
      "legendre                      Function\n",
      "legendre_poly                 Function\n",
      "legendre_symbol               Function\n",
      "lerchphi                      Function\n",
      "lex                           PyObject\n",
      "li                            Function\n",
      "limit                         Function\n",
      "line                          PyObject\n",
      "line3d                        PyObject\n",
      "line_integrate                Function\n",
      "list2numpy                    Function\n",
      "ln                            Function\n",
      "log                           Function\n",
      "logcombine                    Function\n",
      "loggamma                      Function\n",
      "logic                         PyObject\n",
      "lowergamma                    Function\n",
      "lucas                         Function\n",
      "magic                         PyObject\n",
      "manualintegrate               PyObject\n",
      "mathematica_code              Function\n",
      "matrices                      PyObject\n",
      "matrix2numpy                  Function\n",
      "matrix_multiply_elementwise   Function\n",
      "matrix_symbols                Function\n",
      "meijerg                       Function\n",
      "meijerint                     PyObject\n",
      "mellin_transform              Function\n",
      "memoization                   PyObject\n",
      "minimal_polynomial            Function\n",
      "minpoly                       Function\n",
      "misc                          PyObject\n",
      "mobius                        Function\n",
      "mod                           PyObject\n",
      "monic                         Function\n",
      "mpmath                        PyObject\n",
      "mul                           PyObject\n",
      "multidimensional              PyObject\n",
      "multinomial                   PyObject\n",
      "multinomial_coefficients      Function\n",
      "multiplicity                  Function\n",
      "n_order                       Function\n",
      "nan                           PyObject\n",
      "nextprime                     Function\n",
      "nfloat                        Function\n",
      "npartitions                   Function\n",
      "nroots                        Function\n",
      "nsimplify                     Function\n",
      "nsolve                        Function\n",
      "nth_power_roots_poly          Function\n",
      "ntheory                       PyObject\n",
      "nthroot_mod                   Function\n",
      "numbered_symbols              Function\n",
      "numbers                       PyObject\n",
      "numer                         Function\n",
      "octave_code                   Function\n",
      "ode                           PyObject\n",
      "ode_order                     Function\n",
      "ones                          Function\n",
      "oo                            PyObject\n",
      "operations                    PyObject\n",
      "ordered                       Function\n",
      "pager_print                   Function\n",
      "parallel_poly_from_expr       Function\n",
      "parsing                       PyObject\n",
      "partitions_                   PyObject\n",
      "pde                           PyObject\n",
      "pde_separate                  Function\n",
      "pde_separate_add              Function\n",
      "pde_separate_mul              Function\n",
      "pdiv                          Function\n",
      "pdsolve                       Function\n",
      "perfect_power                 Function\n",
      "periodic_argument             Function\n",
      "pexquo                        Function\n",
      "pi                            PyObject\n",
      "piecewise_fold                Function\n",
      "plane                         PyObject\n",
      "plot                          Function\n",
      "plot_backends                 Dict{Any,Any} with 3 entries\n",
      "plot_implicit                 Function\n",
      "plotting                      PyObject\n",
      "point                         PyObject\n",
      "point3d                       PyObject\n",
      "polar_lift                    Function\n",
      "polarify                      Function\n",
      "pollard_pm1                   Function\n",
      "pollard_rho                   Function\n",
      "poly                          Function\n",
      "poly_from_expr                Function\n",
      "polygamma                     Function\n",
      "polygon                       PyObject\n",
      "polylog                       Function\n",
      "polys                         PyObject\n",
      "polysys                       PyObject\n",
      "posify                        Function\n",
      "postfixes                     Function\n",
      "postorder_traversal           Function\n",
      "powdenest                     Function\n",
      "power                         PyObject\n",
      "powsimp                       Function\n",
      "pprint                        Function\n",
      "pprint_try_use_unicode        Function\n",
      "pprint_use_unicode            Function\n",
      "pquo                          Function\n",
      "prefixes                      Function\n",
      "prem                          Function\n",
      "preorder_traversal            Function\n",
      "pretty                        Function\n",
      "pretty_print                  Function\n",
      "preview                       Function\n",
      "prevprime                     Function\n",
      "prime                         Function\n",
      "primefactors                  Function\n",
      "primepi                       Function\n",
      "primerange                    Function\n",
      "primetest                     PyObject\n",
      "primitive                     Function\n",
      "primitive_element             Function\n",
      "primitive_root                Function\n",
      "primorial                     Function\n",
      "principal_branch              Function\n",
      "print_function                PyObject\n",
      "print_gtk                     Function\n",
      "print_python                  Function\n",
      "print_tree                    Function\n",
      "printing                      PyObject\n",
      "prod                          Function\n",
      "product                       Function\n",
      "products                      PyObject\n",
      "public                        Function\n",
      "python                        Function\n",
      "quadratic_residues            Function\n",
      "quo                           Function\n",
      "rad                           Function\n",
      "radsimp                       Function\n",
      "randMatrix                    Function\n",
      "random_poly                   Function\n",
      "randprime                     Function\n",
      "rationaltools                 PyObject\n",
      "ratsimp                       Function\n",
      "ratsimpmodprime               Function\n",
      "rcollect                      Function\n",
      "re                            Function\n",
      "real_root                     Function\n",
      "real_roots                    Function\n",
      "recurr                        PyObject\n",
      "reduce_abs_inequalities       Function\n",
      "reduce_abs_inequality         Function\n",
      "reduce_inequalities           Function\n",
      "reduced                       Function\n",
      "refine                        Function\n",
      "refine_root                   Function\n",
      "register_handler              Function\n",
      "relational                    PyObject\n",
      "release                       PyObject\n",
      "rem                           Function\n",
      "remove_handler                Function\n",
      "reshape                       Function\n",
      "residue                       Function\n",
      "residue_ntheory               PyObject\n",
      "resultant                     Function\n",
      "rf                            Function\n",
      "ring                          Function\n",
      "root                          Function\n",
      "roots                         Function\n",
      "rot_axis1                     Function\n",
      "rot_axis2                     Function\n",
      "rot_axis3                     Function\n",
      "rsolve                        Function\n",
      "rsolve_hyper                  Function\n",
      "rsolve_poly                   Function\n",
      "rsolve_ratio                  Function\n",
      "rules                         PyObject\n",
      "runtests                      PyObject\n",
      "satisfiable                   Function\n",
      "sec                           Function\n",
      "separatevars                  Function\n",
      "series                        Function\n",
      "seterr                        Function\n",
      "sets                          PyObject\n",
      "sfield                        Function\n",
      "sieve                         PyObject\n",
      "sift                          Function\n",
      "sign                          Function\n",
      "signsimp                      Function\n",
      "simplify                      Function\n",
      "simplify_logic                Function\n",
      "sin                           Function\n",
      "sine_transform                Function\n",
      "singleton                     PyObject\n",
      "singularities                 Function\n",
      "sinh                          Function\n",
      "solve                         Function\n",
      "solve_linear                  Function\n",
      "solve_linear_system           Function\n",
      "solve_linear_system_LU        Function\n",
      "solve_poly_inequality         Function\n",
      "solve_poly_system             Function\n",
      "solve_rational_inequalities   Function\n",
      "solve_triangulated            Function\n",
      "solve_undetermined_coeffs     Function\n",
      "solve_univariate_inequality   Function\n",
      "solvers                       PyObject\n",
      "source                        Function\n",
      "sparse                        PyObject\n",
      "special                       PyObject\n",
      "sqf                           Function\n",
      "sqf_list                      Function\n",
      "sqf_norm                      Function\n",
      "sqf_part                      Function\n",
      "sqrt                          Function\n",
      "sqrt_mod                      Function\n",
      "sqrt_mod_iter                 Function\n",
      "sqrtdenest                    Function\n",
      "srepr                         Function\n",
      "sring                         Function\n",
      "sstr                          Function\n",
      "sstrrepr                      Function\n",
      "strategies                    PyObject\n",
      "sturm                         Function\n",
      "subfactorial                  Function\n",
      "subresultants                 Function\n",
      "subsets                       Function\n",
      "summation                     Function\n",
      "summations                    PyObject\n",
      "swinnerton_dyer_poly          Function\n",
      "symarray                      Function\n",
      "symbol                        PyObject\n",
      "symbols                       Function\n",
      "symmetric_poly                Function\n",
      "symmetrize                    Function\n",
      "sympify                       Function\n",
      "take                          Function\n",
      "tan                           Function\n",
      "tanh                          Function\n",
      "tensor                        PyObject\n",
      "terms_gcd                     Function\n",
      "test                          Function\n",
      "textplot                      Function\n",
      "threaded                      Function\n",
      "timed                         Function\n",
      "timeutils                     PyObject\n",
      "to_cnf                        Function\n",
      "to_dnf                        Function\n",
      "to_nnf                        Function\n",
      "to_number_field               Function\n",
      "together                      Function\n",
      "topological_sort              Function\n",
      "totient                       Function\n",
      "trace                         Function\n",
      "trailing                      Function\n",
      "transforms                    PyObject\n",
      "transpose                     Function\n",
      "traversaltools                PyObject\n",
      "trigamma                      Function\n",
      "trigonometry                  PyObject\n",
      "trigsimp                      Function\n",
      "trunc                         Function\n",
      "unbranched_argument           Function\n",
      "unflatten                     Function\n",
      "unpolarify                    Function\n",
      "uppergamma                    Function\n",
      "use                           Function\n",
      "util                          PyObject\n",
      "utilities                     PyObject\n",
      "var                           Function\n",
      "variations                    Function\n",
      "vectorize                     PyObject\n",
      "vfield                        Function\n",
      "viete                         Function\n",
      "vring                         Function\n",
      "wronskian                     Function\n",
      "xfield                        Function\n",
      "xring                         Function\n",
      "xthreaded                     Function\n",
      "yn                            Function\n",
      "zeros                         Function\n",
      "zeta                          Function\n",
      "zoo                           PyObject\n"
     ]
    }
   ],
   "source": [
    "# Ova naredba daje popis svih djelova paketa, uglavnom su to funkcije. Klik na lijevoj strani otvara scroll prozor, \n",
    "# drugi klik ponovo pokazuje sve. Dvostruki kilik kolabira izalaz.\n",
    "whos(sympy)"
   ]
  },
  {
   "cell_type": "code",
   "execution_count": 4,
   "metadata": {
    "collapsed": false
   },
   "outputs": [
    {
     "data": {
      "text/latex": [
       "$$- x^{2} \\cos{\\left (x \\right )} + 2 x \\sin{\\left (x \\right )} + 2 \\cos{\\left (x \\right )}$$"
      ],
      "text/plain": [
       "   2                               \n",
       "- x *cos(x) + 2*x*sin(x) + 2*cos(x)"
      ]
     },
     "execution_count": 4,
     "metadata": {},
     "output_type": "execute_result"
    }
   ],
   "source": [
    "# Izracunajmo nekoliko integrala. Prikazuje se samo zadnji rezultat prozora\n",
    "x=Sym(\"x\")\n",
    "integrate(x^2*sin(x))"
   ]
  },
  {
   "cell_type": "code",
   "execution_count": 5,
   "metadata": {
    "collapsed": false
   },
   "outputs": [
    {
     "data": {
      "text/latex": [
       "$$\\frac{\\sqrt{\\pi}}{2} \\operatorname{erf}{\\left (x \\right )}$$"
      ],
      "text/plain": [
       "  ____       \n",
       "\\/ pi *erf(x)\n",
       "-------------\n",
       "      2      "
      ]
     },
     "execution_count": 5,
     "metadata": {},
     "output_type": "execute_result"
    }
   ],
   "source": [
    "integrate(exp(-x^2))"
   ]
  },
  {
   "cell_type": "code",
   "execution_count": 6,
   "metadata": {
    "collapsed": false
   },
   "outputs": [
    {
     "data": {
      "text/latex": [
       "$$\\frac{96845140757687397075 x^{51} + 2485691946113976524925 x^{49} + 30654715221166650754140 x^{47} + 241795568766402831119940 x^{45} + 1369848383201728220740950 x^{43} + 5933995803337726406495850 x^{41} + 20430037284114550161146700 x^{39} + 57365079178058281738710420 x^{37} + 133753333639139558976331245 x^{35} + 262313903259174564247488675 x^{33} + 436703549109299775536633400 x^{31} + 621132655439335091366113800 x^{29} + 757925932945449408973941108 x^{27} + 795231398536723614233876108 x^{25} + 717796078597020963123383800 x^{23} + 556695189046706329407187400 x^{21} + 369848930112829320716760925 x^{19} + 209420775905662550004261395 x^{17} + 100309511693877822387507820 x^{15} + 40214036128168566810475700 x^{13} + 13294612839581310682067350 x^{11} + 3549098013824071964705450 x^{9} + 741993710638757205969340 x^{7} + 115867092349814631365540 x^{5} + 12465512908067786956675 x^{3} + 782637497723592807725 x}{879482638481280204800 x^{52} + 22866548600513285324800 x^{50} + 285831857506416066560000 x^{48} + 2286654860051328532480000 x^{46} + 13148265445295139061760000 x^{44} + 57852367959298611871744000 x^{42} + 202483287857545141551104000 x^{40} + 578523679592986118717440000 x^{38} + 1373993739033342031953920000 x^{36} + 2747987478066684063907840000 x^{34} + 4671578712713362908643328000 x^{32} + 6795023582128527867117568000 x^{30} + 8493779477660659833896960000 x^{28} + 9147147129788402898042880000 x^{26} + 8493779477660659833896960000 x^{24} + 6795023582128527867117568000 x^{22} + 4671578712713362908643328000 x^{20} + 2747987478066684063907840000 x^{18} + 1373993739033342031953920000 x^{16} + 578523679592986118717440000 x^{14} + 202483287857545141551104000 x^{12} + 57852367959298611871744000 x^{10} + 13148265445295139061760000 x^{8} + 2286654860051328532480000 x^{6} + 285831857506416066560000 x^{4} + 22866548600513285324800 x^{2} + 879482638481280204800} + \\frac{61989816618513}{562949953421312} \\operatorname{atan}{\\left (x \\right )}$$"
      ],
      "text/plain": [
       "                                                 51                           \n",
       "                           96845140757687397075*x   + 2485691946113976524925*x\n",
       "------------------------------------------------------------------------------\n",
       "                       52                            50                       \n",
       "879482638481280204800*x   + 22866548600513285324800*x   + 28583185750641606656\n",
       "\n",
       "49                            47                             45               \n",
       "   + 30654715221166650754140*x   + 241795568766402831119940*x   + 136984838320\n",
       "------------------------------------------------------------------------------\n",
       "      48                              46                               44     \n",
       "0000*x   + 2286654860051328532480000*x   + 13148265445295139061760000*x   + 57\n",
       "\n",
       "               43                              41                             \n",
       "1728220740950*x   + 5933995803337726406495850*x   + 20430037284114550161146700\n",
       "------------------------------------------------------------------------------\n",
       "                          42                                40                \n",
       "852367959298611871744000*x   + 202483287857545141551104000*x   + 5785236795929\n",
       "\n",
       "  39                               37                                35       \n",
       "*x   + 57365079178058281738710420*x   + 133753333639139558976331245*x   + 2623\n",
       "------------------------------------------------------------------------------\n",
       "                38                                 36                         \n",
       "86118717440000*x   + 1373993739033342031953920000*x   + 2747987478066684063907\n",
       "\n",
       "                         33                                31                 \n",
       "13903259174564247488675*x   + 436703549109299775536633400*x   + 62113265543933\n",
       "------------------------------------------------------------------------------\n",
       "        34                                 32                                 \n",
       "840000*x   + 4671578712713362908643328000*x   + 6795023582128527867117568000*x\n",
       "\n",
       "               29                                27                           \n",
       "5091366113800*x   + 757925932945449408973941108*x   + 795231398536723614233876\n",
       "------------------------------------------------------------------------------\n",
       "30                                 28                                 26      \n",
       "   + 8493779477660659833896960000*x   + 9147147129788402898042880000*x   + 849\n",
       "\n",
       "     25                                23                                21   \n",
       "108*x   + 717796078597020963123383800*x   + 556695189046706329407187400*x   + \n",
       "------------------------------------------------------------------------------\n",
       "                           24                                 22              \n",
       "3779477660659833896960000*x   + 6795023582128527867117568000*x   + 46715787127\n",
       "\n",
       "                             19                                17             \n",
       "369848930112829320716760925*x   + 209420775905662550004261395*x   + 1003095116\n",
       "------------------------------------------------------------------------------\n",
       "                   20                                 18                      \n",
       "13362908643328000*x   + 2747987478066684063907840000*x   + 1373993739033342031\n",
       "\n",
       "                   15                               13                        \n",
       "93877822387507820*x   + 40214036128168566810475700*x   + 132946128395813106820\n",
       "------------------------------------------------------------------------------\n",
       "           16                                14                               \n",
       "953920000*x   + 578523679592986118717440000*x   + 202483287857545141551104000*\n",
       "\n",
       "       11                              9                             7        \n",
       "67350*x   + 3549098013824071964705450*x  + 741993710638757205969340*x  + 11586\n",
       "------------------------------------------------------------------------------\n",
       " 12                               10                               8          \n",
       "x   + 57852367959298611871744000*x   + 13148265445295139061760000*x  + 2286654\n",
       "\n",
       "                     5                            3                           \n",
       "7092349814631365540*x  + 12465512908067786956675*x  + 782637497723592807725*x \n",
       "------------------------------------------------------------------------------\n",
       "                    6                             4                           \n",
       "860051328532480000*x  + 285831857506416066560000*x  + 22866548600513285324800*\n",
       "\n",
       "                                                   \n",
       "                             61989816618513*atan(x)\n",
       "-------------------------- + ----------------------\n",
       " 2                              562949953421312    \n",
       "x  + 879482638481280204800                         "
      ]
     },
     "execution_count": 6,
     "metadata": {},
     "output_type": "execute_result"
    }
   ],
   "source": [
    "# Primjer rekurzivne formule. Ovo traje malo duze\n",
    "integrate(1/(1+x^2)^27)"
   ]
  },
  {
   "cell_type": "code",
   "execution_count": 7,
   "metadata": {
    "collapsed": false
   },
   "outputs": [
    {
     "data": {
      "text/latex": [
       "$$\\frac{3 x^{3} + 5 x}{8 x^{4} + 16 x^{2} + 8} + \\frac{3}{8} \\operatorname{atan}{\\left (x \\right )}$$"
      ],
      "text/plain": [
       "      3                     \n",
       "   3*x  + 5*x      3*atan(x)\n",
       "---------------- + ---------\n",
       "   4       2           8    \n",
       "8*x  + 16*x  + 8            "
      ]
     },
     "execution_count": 7,
     "metadata": {},
     "output_type": "execute_result"
    }
   ],
   "source": [
    "# Kraca rekurzivna formula\n",
    "integrate(1/(1+x^2)^3)"
   ]
  },
  {
   "cell_type": "code",
   "execution_count": 8,
   "metadata": {
    "collapsed": false
   },
   "outputs": [
    {
     "data": {
      "text/html": [
       "8 methods for generic function <b>diff</b>:<ul><li> diff(a::<b>SparseMatrixCSC{Tv,Ti<:Integer}</b>,dim::<b>Integer</b>) at <a href=\"https://github.com/JuliaLang/julia/tree/483dbf5279efe29f94cf35d42de0ab0a673fb34e/base/linalg/sparse.jl#L476\" target=\"_blank\">linalg/sparse.jl:476</a><li> diff(exs::<b>Array{Sym,N}</b>,args...) at <a href=\"https://github.com/jverzani/SymPy.jl/tree/91047e0f63695f22d87dd7bb6c084a31f08fbf8d/src/math.jl#L438\" target=\"_blank\">/opt/julia_packages/.julia/v0.3/SymPy/src/math.jl:438</a><li> diff(a::<b>AbstractArray{T,2}</b>) at <a href=\"https://github.com/JuliaLang/julia/tree/483dbf5279efe29f94cf35d42de0ab0a673fb34e/base/linalg/generic.jl#L34\" target=\"_blank\">linalg/generic.jl:34</a><li> diff(a::<b>AbstractArray{T,1}</b>) at <a href=\"https://github.com/JuliaLang/julia/tree/483dbf5279efe29f94cf35d42de0ab0a673fb34e/base/linalg/generic.jl#L35\" target=\"_blank\">linalg/generic.jl:35</a><li> diff(A::<b>AbstractArray{T,2}</b>,dim::<b>Integer</b>) at <a href=\"https://github.com/JuliaLang/julia/tree/483dbf5279efe29f94cf35d42de0ab0a673fb34e/base/linalg/generic.jl#L38\" target=\"_blank\">linalg/generic.jl:38</a><li> diff(ex::<b>Sym</b>,args...) at <a href=\"https://github.com/jverzani/SymPy.jl/tree/91047e0f63695f22d87dd7bb6c084a31f08fbf8d/src/math.jl#L427\" target=\"_blank\">/opt/julia_packages/.julia/v0.3/SymPy/src/math.jl:427</a><li> diff(f::<b>Function</b>) at <a href=\"https://github.com/jverzani/SymPy.jl/tree/91047e0f63695f22d87dd7bb6c084a31f08fbf8d/src/math.jl#L450\" target=\"_blank\">/opt/julia_packages/.julia/v0.3/SymPy/src/math.jl:450</a><li> diff(f::<b>Function</b>,k::<b>Int64</b>) at <a href=\"https://github.com/jverzani/SymPy.jl/tree/91047e0f63695f22d87dd7bb6c084a31f08fbf8d/src/math.jl#L450\" target=\"_blank\">/opt/julia_packages/.julia/v0.3/SymPy/src/math.jl:450</a></ul>"
      ],
      "text/plain": [
       "# 8 methods for generic function \"diff\":\n",
       "diff(a::SparseMatrixCSC{Tv,Ti<:Integer},dim::Integer) at linalg/sparse.jl:476\n",
       "diff(exs::Array{Sym,N},args...) at /opt/julia_packages/.julia/v0.3/SymPy/src/math.jl:438\n",
       "diff(a::AbstractArray{T,2}) at linalg/generic.jl:34\n",
       "diff(a::AbstractArray{T,1}) at linalg/generic.jl:35\n",
       "diff(A::AbstractArray{T,2},dim::Integer) at linalg/generic.jl:38\n",
       "diff(ex::Sym,args...) at /opt/julia_packages/.julia/v0.3/SymPy/src/math.jl:427\n",
       "diff(f::Function) at /opt/julia_packages/.julia/v0.3/SymPy/src/math.jl:450\n",
       "diff(f::Function,k::Int64) at /opt/julia_packages/.julia/v0.3/SymPy/src/math.jl:450"
      ]
     },
     "execution_count": 8,
     "metadata": {},
     "output_type": "execute_result"
    }
   ],
   "source": [
    "methods(diff)"
   ]
  },
  {
   "cell_type": "code",
   "execution_count": 9,
   "metadata": {
    "collapsed": false
   },
   "outputs": [
    {
     "data": {
      "text/latex": [
       "$$2 x e^{\\sin{\\left (\\frac{1}{x} \\right )}} - e^{\\sin{\\left (\\frac{1}{x} \\right )}} \\cos{\\left (\\frac{1}{x} \\right )}$$"
      ],
      "text/plain": [
       "        /1\\       /1\\       \n",
       "     sin|-|    sin|-|       \n",
       "        \\x/       \\x/    /1\\\n",
       "2*x*e       - e      *cos|-|\n",
       "                         \\x/"
      ]
     },
     "execution_count": 9,
     "metadata": {},
     "output_type": "execute_result"
    }
   ],
   "source": [
    "# Derivacija\n",
    "diff(x^2*exp(sin(1/x)))"
   ]
  },
  {
   "cell_type": "code",
   "execution_count": 10,
   "metadata": {
    "collapsed": false
   },
   "outputs": [
    {
     "data": {
      "text/latex": [
       "$$\\frac{1}{3} \\log{\\left (\\tan^{2}{\\left (\\frac{x}{2} \\right )} + 3 \\right )} + \\frac{1}{3} \\log{\\left (\\tan{\\left (\\frac{x}{2} \\right )} \\right )}$$"
      ],
      "text/plain": [
       "   /   2/x\\    \\      /   /x\\\\\n",
       "log|tan |-| + 3|   log|tan|-||\n",
       "   \\    \\2/    /      \\   \\2//\n",
       "---------------- + -----------\n",
       "       3                3     "
      ]
     },
     "execution_count": 10,
     "metadata": {},
     "output_type": "execute_result"
    }
   ],
   "source": [
    "# Racionanla funkcija trigonometrijskih funkcija (univerzalna trigonometrijska supstitucija)\n",
    "integrate(1/((2+cos(x))*sin(x)))"
   ]
  },
  {
   "cell_type": "markdown",
   "metadata": {},
   "source": [
    "#### Zadatak 1.5.e)"
   ]
  },
  {
   "cell_type": "code",
   "execution_count": 11,
   "metadata": {
    "collapsed": false
   },
   "outputs": [
    {
     "data": {
      "text/latex": [
       "$$- \\frac{1}{\\tan{\\left (\\frac{x}{2} \\right )} + 2}$$"
      ],
      "text/plain": [
       "   -1     \n",
       "----------\n",
       "   /x\\    \n",
       "tan|-| + 2\n",
       "   \\2/    "
      ]
     },
     "execution_count": 11,
     "metadata": {},
     "output_type": "execute_result"
    }
   ],
   "source": [
    "integrate(1/(4*sin(x)+3*cos(x)+5))"
   ]
  },
  {
   "cell_type": "code",
   "execution_count": 12,
   "metadata": {
    "collapsed": false
   },
   "outputs": [
    {
     "data": {
      "text/latex": [
       "$$\\frac{5}{3} \\log{\\left (\\tan{\\left (\\frac{x}{2} \\right )} - 3 \\right )} - \\log{\\left (\\tan{\\left (\\frac{x}{2} \\right )} - 1 \\right )} + \\frac{1}{3} \\log{\\left (\\tan{\\left (\\frac{x}{2} \\right )} \\right )}$$"
      ],
      "text/plain": [
       "     /   /x\\    \\                        /   /x\\\\\n",
       "5*log|tan|-| - 3|                     log|tan|-||\n",
       "     \\   \\2/    /      /   /x\\    \\      \\   \\2//\n",
       "----------------- - log|tan|-| - 1| + -----------\n",
       "        3              \\   \\2/    /        3     "
      ]
     },
     "execution_count": 12,
     "metadata": {},
     "output_type": "execute_result"
    }
   ],
   "source": [
    "integrate(1/(sin(x)*(2+cos(x)-2*sin(x))))"
   ]
  },
  {
   "cell_type": "code",
   "execution_count": 13,
   "metadata": {
    "collapsed": false
   },
   "outputs": [
    {
     "data": {
      "text/latex": [
       "$$- \\frac{\\tan^{2}{\\left (\\frac{x}{2} \\right )}}{4 \\tan^{2}{\\left (\\frac{x}{2} \\right )} + 4} \\log{\\left (\\tan^{8}{\\left (\\frac{x}{2} \\right )} + 4 \\tan^{6}{\\left (\\frac{x}{2} \\right )} + 6 \\tan^{4}{\\left (\\frac{x}{2} \\right )} + 4 \\tan^{2}{\\left (\\frac{x}{2} \\right )} + 1 \\right )} - \\frac{1}{4 \\tan^{2}{\\left (\\frac{x}{2} \\right )} + 4} \\log{\\left (\\tan^{8}{\\left (\\frac{x}{2} \\right )} + 4 \\tan^{6}{\\left (\\frac{x}{2} \\right )} + 6 \\tan^{4}{\\left (\\frac{x}{2} \\right )} + 4 \\tan^{2}{\\left (\\frac{x}{2} \\right )} + 1 \\right )} + \\frac{4 \\log{\\left (\\tan{\\left (\\frac{x}{2} \\right )} \\right )} \\tan^{2}{\\left (\\frac{x}{2} \\right )}}{4 \\tan^{2}{\\left (\\frac{x}{2} \\right )} + 4} + \\frac{4 \\log{\\left (\\tan{\\left (\\frac{x}{2} \\right )} \\right )}}{4 \\tan^{2}{\\left (\\frac{x}{2} \\right )} + 4} - \\frac{8 \\tan{\\left (\\frac{x}{2} \\right )}}{4 \\tan^{2}{\\left (\\frac{x}{2} \\right )} + 4}$$"
      ],
      "text/plain": [
       "     /   8/x\\        6/x\\        4/x\\        2/x\\    \\    2/x\\      /   8/x\\  \n",
       "  log|tan |-| + 4*tan |-| + 6*tan |-| + 4*tan |-| + 1|*tan |-|   log|tan |-| +\n",
       "     \\    \\2/         \\2/         \\2/         \\2/    /     \\2/      \\    \\2/  \n",
       "- ------------------------------------------------------------ - -------------\n",
       "                              2/x\\                                            \n",
       "                         4*tan |-| + 4                                        \n",
       "                               \\2/                                            \n",
       "\n",
       "      6/x\\        4/x\\        2/x\\    \\        /   /x\\\\    2/x\\        /   /x\\\n",
       " 4*tan |-| + 6*tan |-| + 4*tan |-| + 1|   4*log|tan|-||*tan |-|   4*log|tan|-|\n",
       "       \\2/         \\2/         \\2/    /        \\   \\2//     \\2/        \\   \\2/\n",
       "--------------------------------------- + --------------------- + ------------\n",
       "           2/x\\                                    2/x\\                2/x\\   \n",
       "      4*tan |-| + 4                           4*tan |-| + 4       4*tan |-| + \n",
       "            \\2/                                     \\2/                 \\2/   \n",
       "\n",
       "\\           /x\\  \n",
       "|      8*tan|-|  \n",
       "/           \\2/  \n",
       "- - -------------\n",
       "         2/x\\    \n",
       "4   4*tan |-| + 4\n",
       "          \\2/    "
      ]
     },
     "execution_count": 13,
     "metadata": {},
     "output_type": "execute_result"
    }
   ],
   "source": [
    "# Ovo traje dugo\n",
    "integrate(cos(x)^3/(sin(x)^2+sin(x)))"
   ]
  },
  {
   "cell_type": "code",
   "execution_count": 14,
   "metadata": {
    "collapsed": false
   },
   "outputs": [
    {
     "data": {
      "text/latex": [
       "$$\\log{\\left (\\sin{\\left (x \\right )} \\right )} - \\sin{\\left (x \\right )}$$"
      ],
      "text/plain": [
       "log(sin(x)) - sin(x)"
      ]
     },
     "execution_count": 14,
     "metadata": {},
     "output_type": "execute_result"
    }
   ],
   "source": [
    "# Ovo je isti zadatak kao gore, ali traje puno krace. Koristi se jednostavnija supstitucija. \n",
    "integrate((1-sin(x)^2)*cos(x)/(sin(x)^2+sin(x)))"
   ]
  },
  {
   "cell_type": "code",
   "execution_count": 15,
   "metadata": {
    "collapsed": false
   },
   "outputs": [
    {
     "data": {
      "text/latex": [
       "$$\\int \\frac{2 \\tan{\\left (x \\right )} + 3}{\\sin^{2}{\\left (x \\right )} + 2 \\cos^{2}{\\left (x \\right )}}\\, dx$$"
      ],
      "text/plain": [
       "  /                      \n",
       " |                       \n",
       " |     2*tan(x) + 3      \n",
       " | ------------------- dx\n",
       " |    2           2      \n",
       " | sin (x) + 2*cos (x)   \n",
       " |                       \n",
       "/                        "
      ]
     },
     "execution_count": 15,
     "metadata": {},
     "output_type": "execute_result"
    }
   ],
   "source": [
    "# Ovo traje jako dugo i ne uspije izracunati nego vrati polazni integral\n",
    "integrate( (2*tan(x)+3)/(sin(x)^2+2*cos(x)^2))"
   ]
  },
  {
   "cell_type": "markdown",
   "metadata": {},
   "source": [
    "Uz supstituciju $t=\\tan(x)$ integral postaje jednostavan: "
   ]
  },
  {
   "cell_type": "code",
   "execution_count": 15,
   "metadata": {
    "collapsed": false
   },
   "outputs": [
    {
     "data": {
      "text/latex": [
       "$$\\log{\\left (t^{2} + 2 \\right )} + \\frac{3 \\sqrt{2}}{2} \\operatorname{atan}{\\left (\\frac{\\sqrt{2} t}{2} \\right )}$$"
      ],
      "text/plain": [
       "                          /  ___  \\\n",
       "                  ___     |\\/ 2 *t|\n",
       "              3*\\/ 2 *atan|-------|\n",
       "   / 2    \\               \\   2   /\n",
       "log\\t  + 2/ + ---------------------\n",
       "                        2          "
      ]
     },
     "execution_count": 15,
     "metadata": {},
     "output_type": "execute_result"
    }
   ],
   "source": [
    "t=Sym(\"t\")\n",
    "I1=integrate( (2*t+3)/(t^2+2))"
   ]
  },
  {
   "cell_type": "code",
   "execution_count": 16,
   "metadata": {
    "collapsed": false
   },
   "outputs": [
    {
     "data": {
      "text/latex": [
       "$$\\log{\\left (\\tan^{2}{\\left (x \\right )} + 2 \\right )} + \\frac{3 \\sqrt{2}}{2} \\operatorname{atan}{\\left (\\frac{\\sqrt{2}}{2} \\tan{\\left (x \\right )} \\right )}$$"
      ],
      "text/plain": [
       "                               /  ___       \\\n",
       "                       ___     |\\/ 2 *tan(x)|\n",
       "                   3*\\/ 2 *atan|------------|\n",
       "   /   2       \\               \\     2      /\n",
       "log\\tan (x) + 2/ + --------------------------\n",
       "                               2             "
      ]
     },
     "execution_count": 16,
     "metadata": {},
     "output_type": "execute_result"
    }
   ],
   "source": [
    "# Vratimo supstituciju natrag\n",
    "I2=convert(Function,I1)\n",
    "I2(tan(x))"
   ]
  },
  {
   "cell_type": "markdown",
   "metadata": {},
   "source": [
    "#### Zadatak 1.6"
   ]
  },
  {
   "cell_type": "code",
   "execution_count": 16,
   "metadata": {
    "collapsed": false
   },
   "outputs": [],
   "source": [
    "# Ovo traje beskonacno!\n",
    "# I4=integrate((1+sinh(x))/((2+cosh(x))*(3+sinh(x))),x)\n",
    "# Program treba nasu pomoc!!!"
   ]
  },
  {
   "cell_type": "markdown",
   "metadata": {},
   "source": [
    "__Univerzalna hiperbolna supstitucija__\n",
    "\n",
    "$t=\\tanh(\\frac{x}{2})$, $x=2\\mathop{\\mathrm{atanh}}(t)$, $dx=\\displaystyle\\frac{2}{1-t^2}dt$,\n",
    "$\\sinh(x)=\\displaystyle\\frac{2t}{1-t^2}$, $\\cosh(x)=\\displaystyle\\frac{1+t^2}{1-t^2}$\n"
   ]
  },
  {
   "cell_type": "code",
   "execution_count": 17,
   "metadata": {
    "collapsed": false
   },
   "outputs": [
    {
     "data": {
      "text/latex": [
       "$$\\frac{\\sinh{\\left (x \\right )} + 1}{\\left(\\sinh{\\left (x \\right )} + 3\\right) \\left(\\cosh{\\left (x \\right )} + 2\\right)}$$"
      ],
      "text/plain": [
       "        sinh(x) + 1        \n",
       "---------------------------\n",
       "(sinh(x) + 3)*(cosh(x) + 2)"
      ]
     },
     "execution_count": 17,
     "metadata": {},
     "output_type": "execute_result"
    }
   ],
   "source": [
    "I4=(1+sinh(x))/((2+cosh(x))*(3+sinh(x)))"
   ]
  },
  {
   "cell_type": "code",
   "execution_count": 18,
   "metadata": {
    "collapsed": false
   },
   "outputs": [
    {
     "data": {
      "text/latex": [
       "$$\\frac{\\frac{2 t}{- t^{2} + 1} + 1}{\\left(\\frac{2 t}{- t^{2} + 1} + 3\\right) \\left(\\cosh{\\left (x \\right )} + 2\\right)}$$"
      ],
      "text/plain": [
       "          2*t               \n",
       "        -------- + 1        \n",
       "           2                \n",
       "        - t  + 1            \n",
       "----------------------------\n",
       "/  2*t       \\              \n",
       "|-------- + 3|*(cosh(x) + 2)\n",
       "|   2        |              \n",
       "\\- t  + 1    /              "
      ]
     },
     "execution_count": 18,
     "metadata": {},
     "output_type": "execute_result"
    }
   ],
   "source": [
    "# supstitucija za sinh(x)\n",
    "I5=subs(I4,sinh(x),(2*t)/(1-t^2))"
   ]
  },
  {
   "cell_type": "code",
   "execution_count": 19,
   "metadata": {
    "collapsed": false
   },
   "outputs": [
    {
     "data": {
      "text/latex": [
       "$$\\frac{\\frac{2 t}{- t^{2} + 1} + 1}{\\left(2 + \\frac{t^{2} + 1}{- t^{2} + 1}\\right) \\left(\\frac{2 t}{- t^{2} + 1} + 3\\right)}$$"
      ],
      "text/plain": [
       "           2*t               \n",
       "         -------- + 1        \n",
       "            2                \n",
       "         - t  + 1            \n",
       "-----------------------------\n",
       "/      2     \\               \n",
       "|     t  + 1 | /  2*t       \\\n",
       "|2 + --------|*|-------- + 3|\n",
       "|       2    | |   2        |\n",
       "\\    - t  + 1/ \\- t  + 1    /"
      ]
     },
     "execution_count": 19,
     "metadata": {},
     "output_type": "execute_result"
    }
   ],
   "source": [
    "# Supstitucija za cosh(x)\n",
    "I6=subs(I5,cosh(x),(1+t^2)/(1-t^2))"
   ]
  },
  {
   "cell_type": "code",
   "execution_count": 20,
   "metadata": {
    "collapsed": false
   },
   "outputs": [
    {
     "data": {
      "text/latex": [
       "$$\\frac{\\frac{4 t}{- t^{2} + 1} + 2}{\\left(2 + \\frac{t^{2} + 1}{- t^{2} + 1}\\right) \\left(- t^{2} + 1\\right) \\left(\\frac{2 t}{- t^{2} + 1} + 3\\right)}$$"
      ],
      "text/plain": [
       "              /  2*t       \\            \n",
       "            2*|-------- + 1|            \n",
       "              |   2        |            \n",
       "              \\- t  + 1    /            \n",
       "----------------------------------------\n",
       "/      2     \\                          \n",
       "|     t  + 1 | /   2    \\ /  2*t       \\\n",
       "|2 + --------|*\\- t  + 1/*|-------- + 3|\n",
       "|       2    |            |   2        |\n",
       "\\    - t  + 1/            \\- t  + 1    /"
      ]
     },
     "execution_count": 20,
     "metadata": {},
     "output_type": "execute_result"
    }
   ],
   "source": [
    "# Pomnozimo s dx\n",
    "I7=I6*2/(1-t^2)"
   ]
  },
  {
   "cell_type": "code",
   "execution_count": 21,
   "metadata": {
    "collapsed": false
   },
   "outputs": [
    {
     "data": {
      "text/latex": [
       "$$\\frac{1}{3} \\log{\\left (t^{2} - 3 \\right )} - \\left(- \\frac{\\sqrt{10}}{15} + \\frac{1}{3}\\right) \\log{\\left (t - \\frac{1}{3} + \\frac{\\sqrt{10}}{3} \\right )} - \\left(\\frac{\\sqrt{10}}{15} + \\frac{1}{3}\\right) \\log{\\left (t - \\frac{\\sqrt{10}}{3} - \\frac{1}{3} \\right )}$$"
      ],
      "text/plain": [
       "   / 2    \\   /    ____    \\    /          ____\\   /  ____    \\    /      ____\n",
       "log\\t  - 3/   |  \\/ 10    1|    |    1   \\/ 10 |   |\\/ 10    1|    |    \\/ 10 \n",
       "----------- - |- ------ + -|*log|t - - + ------| - |------ + -|*log|t - ------\n",
       "     3        \\    15     3/    \\    3     3   /   \\  15     3/    \\      3   \n",
       "\n",
       "    \\\n",
       "   1|\n",
       " - -|\n",
       "   3/"
      ]
     },
     "execution_count": 21,
     "metadata": {},
     "output_type": "execute_result"
    }
   ],
   "source": [
    "# Integriramo racionalnu funkciju \n",
    "I8=integrate(I7,t)"
   ]
  },
  {
   "cell_type": "code",
   "execution_count": 22,
   "metadata": {
    "collapsed": false
   },
   "outputs": [
    {
     "data": {
      "text/latex": [
       "$$\\frac{1}{3} \\log{\\left (\\tanh^{2}{\\left (\\frac{x}{2} \\right )} - 3 \\right )} - \\left(- \\frac{\\sqrt{10}}{15} + \\frac{1}{3}\\right) \\log{\\left (\\tanh{\\left (\\frac{x}{2} \\right )} - \\frac{1}{3} + \\frac{\\sqrt{10}}{3} \\right )} - \\left(\\frac{\\sqrt{10}}{15} + \\frac{1}{3}\\right) \\log{\\left (\\tanh{\\left (\\frac{x}{2} \\right )} - \\frac{\\sqrt{10}}{3} - \\frac{1}{3} \\right )}$$"
      ],
      "text/plain": [
       "   /    2/x\\    \\                                                             \n",
       "log|tanh |-| - 3|   /    ____    \\    /                ____\\   /  ____    \\   \n",
       "   \\     \\2/    /   |  \\/ 10    1|    |    /x\\   1   \\/ 10 |   |\\/ 10    1|   \n",
       "----------------- - |- ------ + -|*log|tanh|-| - - + ------| - |------ + -|*lo\n",
       "        3           \\    15     3/    \\    \\2/   3     3   /   \\  15     3/   \n",
       "\n",
       "                       \n",
       " /            ____    \\\n",
       " |    /x\\   \\/ 10    1|\n",
       "g|tanh|-| - ------ - -|\n",
       " \\    \\2/     3      3/"
      ]
     },
     "execution_count": 22,
     "metadata": {},
     "output_type": "execute_result"
    }
   ],
   "source": [
    "# Vratimo supstituciju natrag\n",
    "I9=subs(I8,t,tanh(x/2))"
   ]
  },
  {
   "cell_type": "code",
   "execution_count": null,
   "metadata": {
    "collapsed": true
   },
   "outputs": [],
   "source": []
  }
 ],
 "metadata": {
  "kernelspec": {
   "display_name": "Julia 0.3.9",
   "language": "julia",
   "name": "julia-0.3"
  },
  "language": "Julia",
  "language_info": {
   "file_extension": ".jl",
   "mimetype": "application/julia",
   "name": "julia",
   "version": "0.3.11"
  }
 },
 "nbformat": 4,
 "nbformat_minor": 0
}
