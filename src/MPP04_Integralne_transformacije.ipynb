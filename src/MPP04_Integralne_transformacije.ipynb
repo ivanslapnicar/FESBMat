{
 "cells": [
  {
   "cell_type": "markdown",
   "metadata": {},
   "source": [
    "# Integralne transformacije\n",
    "\n",
    "---\n",
    "\n",
    "Integralna transformacija funkcije $f(t)$ na intervalu $[a,b]$ je\n",
    "\n",
    "$$\n",
    "F(s)=\\int_a^b K(s,t)f(t) \\, dt.\n",
    "$$\n",
    "\n",
    "Funkcija $K(s,t)$ je __jezgra__ transformacije.\n",
    "\n",
    "## Laplace-ova transformacija\n",
    "\n",
    "Za $a=0$, $b=\\infty$ i $K(s,t)=e^{-st}$ imamo __Laplace-ovu__ transformaciju:\n",
    "\n",
    "$$\n",
    "(\\mathcal{L}u)(s)\\equiv U(s)=\\int_0^\\infty u(t)e^{-st}\\, dt.\n",
    "$$\n",
    "\n",
    "Funkcije koje su \n",
    "* po djelovima neprekidne na svakom konačnom intervalu i \n",
    "* koje su __eksponencijalnog rasta__, odnosno za koje postoje konstante  $M>0$ i $a>0$ takve da je\n",
    "\n",
    "$$\n",
    "\\big|f(t)\\big|\\leq Me^{at}\n",
    "$$\n",
    "\n",
    "sigurno imaju Laplace-ovu transformaciju.\n",
    "\n",
    "> Ovo su __dovoljni uvjeti__, ali ne i __nužni__. \n",
    "\n",
    "Laplace-ova transformacija je __linearni operator__.\n",
    "\n",
    "Lapleaceova transformacija ima __inverz__:\n",
    "$$\n",
    "\\mathcal{L}^{-1}U(s)=u(t)=\\frac{1}{2\\pi i}\\int_{a-i\\infty}^{a+i\\infty} U(s)e^{st}\\, ds.\n",
    "$$\n",
    "\n",
    "Parovi transformacija i njihovih inverza se nalaze u [tablicama](http://integral-table.com/downloads/LaplaceTable.pdf).\n",
    "\n",
    "Posebno su važne formule za deriviranje:\n",
    "\n",
    "$$\n",
    "(\\mathcal{L}'u)(s)=sU(s)-u(0), \\\\\n",
    "(\\mathcal{L}''u)(s)=s^2U(s)-su(0)-u'(0).\n",
    "$$"
   ]
  },
  {
   "cell_type": "markdown",
   "metadata": {},
   "source": [
    "### Primjer - problem početnih vrijednosti\n",
    "\n",
    "Riješimo problem\n",
    "\n",
    "$$\n",
    "u''+u=0, \\quad t>0, \\quad u(0)=0, \\quad u'(0)=1.\n",
    "$$\n",
    "\n",
    "Laplaceova transformacija cijele jednadžbe daje\n",
    "\n",
    "$$\n",
    "s^2U(s)-su(0)-u'(0)+U(s)=0.\n",
    "$$\n",
    "\n",
    "Uvrštavanje početnih uvjeta daje\n",
    "\n",
    "$$\n",
    "s^2U(s)-su(0)-1+U(s)=0\n",
    "$$\n",
    "\n",
    "pa je \n",
    "\n",
    "$$\n",
    "U(s)=\\frac{1}{1+s^2}.\n",
    "$$\n",
    "\n",
    "Primjena inverzne transformacije daje rješenje\n",
    "\n",
    "$$\n",
    "u(t)=\\mathcal{L}^{-1}\\bigg(\\frac{1}{1+s^2}\\bigg)= \\sin t.\n",
    "$$"
   ]
  },
  {
   "cell_type": "code",
   "execution_count": 1,
   "metadata": {
    "collapsed": true
   },
   "outputs": [],
   "source": [
    "using SymPy"
   ]
  },
  {
   "cell_type": "code",
   "execution_count": 2,
   "metadata": {
    "collapsed": false
   },
   "outputs": [
    {
     "data": {
      "text/plain": [
       "(x,t,s)"
      ]
     },
     "execution_count": 2,
     "metadata": {},
     "output_type": "execute_result"
    }
   ],
   "source": [
    "x,t,s=symbols(\"x t s\")"
   ]
  },
  {
   "cell_type": "code",
   "execution_count": 3,
   "metadata": {
    "collapsed": false
   },
   "outputs": [
    {
     "data": {
      "text/latex": [
       "$$\\sin{\\left (t \\right )} \\theta\\left(t\\right)$$"
      ],
      "text/plain": [
       "sin(t)⋅Heaviside(t)"
      ]
     },
     "execution_count": 3,
     "metadata": {},
     "output_type": "execute_result"
    }
   ],
   "source": [
    "u=inverse_laplace_transform(1/(1+s^2),s,t)"
   ]
  },
  {
   "cell_type": "markdown",
   "metadata": {},
   "source": [
    "### Primjer difuzije\n",
    "\n",
    "(Vidi [J. Logan, Applied Mathematics, 2nd ed., str. 226][JL97])\n",
    "\n",
    "[JL97]: #1 \"J. Logan, 'Applied mathematics', 2nd ed., Wiley, New York, 1997\"\n",
    "\n",
    "\n",
    "Neka $u(x,t)$ daje koncentraciju kemikalije na polu-beskonačnom prostoru $x>0$ koji je u početku bez kemikalije.\n",
    "Neka za vremena $t>0$ na rubu $x=0$ dajemo jediničnu koncentraciju kemikalije i želimo znati kako se kemikalija širi. \n",
    "Nake je difuzijska konstanata jednaka $1$.\n",
    "\n",
    "Matematički model je\n",
    "\n",
    "$$\n",
    "u_t-u_{xx}=0, \\quad x>0, t>0, \\\\\n",
    "u(x,0)=0, \\quad x>0, \\\\\n",
    "u(0,t)=1, \\quad t>0, \\\\\n",
    "u(x,t) \\ \\textrm{omeđena}.\n",
    "$$\n",
    "\n",
    "Laplaceova transformacija jednadžbe po vremenu $t$, pri čemu se prostorna varijabla $x$ ne transformira, daje\n",
    "diferencijalnu jednadžbu po varijabli $x$\n",
    "\n",
    "$$\n",
    "sU(x,s)-u(x,0)-U_{xx}(x,s)=0.\n",
    "$$\n",
    "\n",
    "Počeni uvjet daje jednadžbu\n",
    "\n",
    "$$\n",
    "sU(x,s)-U_{xx}(x,s)=0.\n",
    "$$\n"
   ]
  },
  {
   "cell_type": "code",
   "execution_count": 4,
   "metadata": {
    "collapsed": false
   },
   "outputs": [
    {
     "data": {
      "text/latex": [
       "$$s$$"
      ],
      "text/plain": [
       "s"
      ]
     },
     "execution_count": 4,
     "metadata": {},
     "output_type": "execute_result"
    }
   ],
   "source": [
    "s=symbols(\"s\",real=true,positive=true)"
   ]
  },
  {
   "cell_type": "code",
   "execution_count": 5,
   "metadata": {
    "collapsed": false
   },
   "outputs": [
    {
     "data": {
      "text/latex": [
       "$$s U{\\left (x \\right )} - \\frac{d^{2}}{d x^{2}}  U{\\left (x \\right )} = 0$$"
      ],
      "text/plain": [
       "           2          \n",
       "          d           \n",
       "s⋅U(x) - ───(U(x)) = 0\n",
       "           2          \n",
       "         dx           "
      ]
     },
     "execution_count": 5,
     "metadata": {},
     "output_type": "execute_result"
    }
   ],
   "source": [
    "U = symbols(\"U\", cls=symfunction)\n",
    "# U=SymFunction('U')\n",
    "diffeq = Eq(s*U(x)-diff(U(x), x, 2), 0)"
   ]
  },
  {
   "cell_type": "code",
   "execution_count": 6,
   "metadata": {
    "collapsed": false
   },
   "outputs": [
    {
     "name": "stdout",
     "output_type": "stream",
     "text": [
      "search: SymFunction symfunction\n",
      "\n"
     ]
    },
    {
     "data": {
      "text/markdown": [
       "Create a symbolic function. These can be used for specifying differential equations. For these objects we can specify derivatives with the transpose operator (e.g., `u''`) as opposed to, say `diff(u(x), x, 2)`.\n",
       "\n",
       "Example:\n",
       "\n",
       "```\n",
       "u = SymFunction(\"u\")\n",
       "u'\n",
       "```\n",
       "\n",
       "Alternatively, we can pass `symfunction` to the `cls` argument of `symbols`. This provides a convenient way to create more than one symbolic function per call.\n",
       "\n",
       "```\n",
       "F, G = symbols(\"F,G\", cls=symfunction)\n",
       "```\n"
      ],
      "text/plain": [
       "Create a symbolic function. These can be used for specifying differential equations. For these objects we can specify derivatives with the transpose operator (e.g., `u''`) as opposed to, say `diff(u(x), x, 2)`.\n",
       "\n",
       "Example:\n",
       "\n",
       "```\n",
       "u = SymFunction(\"u\")\n",
       "u'\n",
       "```\n",
       "\n",
       "Alternatively, we can pass `symfunction` to the `cls` argument of `symbols`. This provides a convenient way to create more than one symbolic function per call.\n",
       "\n",
       "```\n",
       "F, G = symbols(\"F,G\", cls=symfunction)\n",
       "```\n"
      ]
     },
     "execution_count": 6,
     "metadata": {},
     "output_type": "execute_result"
    }
   ],
   "source": [
    "?SymFunction"
   ]
  },
  {
   "cell_type": "code",
   "execution_count": 7,
   "metadata": {
    "collapsed": false
   },
   "outputs": [
    {
     "ename": "LoadError",
     "evalue": "LoadError: ArgumentError: Some initial value specification is needed.\nSpecifying the function, as in `dsolve(ex, f(x))`, is deprecated.\nUse `sympy_meth(:dsolve, ex, f(x); kwargs...)` directly for that underlying interface.\n\nwhile loading In[7], in expression starting on line 1",
     "output_type": "error",
     "traceback": [
      "LoadError: ArgumentError: Some initial value specification is needed.\nSpecifying the function, as in `dsolve(ex, f(x))`, is deprecated.\nUse `sympy_meth(:dsolve, ex, f(x); kwargs...)` directly for that underlying interface.\n\nwhile loading In[7], in expression starting on line 1",
      "",
      " in #dsolve#205(::Array{Any,1}, ::Function, ::SymPy.Sym, ::SymPy.Sym) at /home/slap/.julia/v0.5/SymPy/src/dsolve.jl:158",
      " in dsolve(::SymPy.Sym, ::SymPy.Sym) at /home/slap/.julia/v0.5/SymPy/src/dsolve.jl:157"
     ]
    }
   ],
   "source": [
    "ex = dsolve(diffeq, U(x))"
   ]
  },
  {
   "cell_type": "code",
   "execution_count": 15,
   "metadata": {
    "collapsed": false
   },
   "outputs": [
    {
     "data": {
      "text/latex": [
       "$$U{\\left (x \\right )} = C_{1} e^{- \\sqrt{s} x} + C_{2} e^{\\sqrt{s} x}$$"
      ],
      "text/plain": [
       "           -√s⋅x       √s⋅x\n",
       "U(x) = C₁⋅ℯ      + C₂⋅ℯ    "
      ]
     },
     "execution_count": 15,
     "metadata": {},
     "output_type": "execute_result"
    }
   ],
   "source": [
    "sympy_meth(:dsolve,diffeq,U(x))"
   ]
  },
  {
   "cell_type": "code",
   "execution_count": 16,
   "metadata": {
    "collapsed": false
   },
   "outputs": [
    {
     "data": {
      "text/plain": [
       "(2/s^3,0,true)"
      ]
     },
     "execution_count": 16,
     "metadata": {},
     "output_type": "execute_result"
    }
   ],
   "source": [
    "f=laplace_transform(t^2,t,s)"
   ]
  },
  {
   "cell_type": "code",
   "execution_count": 17,
   "metadata": {
    "collapsed": false
   },
   "outputs": [
    {
     "data": {
      "text/latex": [
       "$$t^{2} \\theta\\left(t\\right)$$"
      ],
      "text/plain": [
       " 2             \n",
       "t ⋅Heaviside(t)"
      ]
     },
     "execution_count": 17,
     "metadata": {},
     "output_type": "execute_result"
    }
   ],
   "source": [
    "inverse_laplace_transform(f[1],s,t)"
   ]
  },
  {
   "cell_type": "code",
   "execution_count": 18,
   "metadata": {
    "collapsed": false
   },
   "outputs": [
    {
     "data": {
      "text/plain": [
       "(1/s,0,true)"
      ]
     },
     "execution_count": 18,
     "metadata": {},
     "output_type": "execute_result"
    }
   ],
   "source": [
    "laplace_transform(t^0,t,s)"
   ]
  },
  {
   "cell_type": "code",
   "execution_count": 19,
   "metadata": {
    "collapsed": false
   },
   "outputs": [
    {
     "data": {
      "text/plain": [
       "(s/(s^2 - 1),1,true)"
      ]
     },
     "execution_count": 19,
     "metadata": {},
     "output_type": "execute_result"
    }
   ],
   "source": [
    "laplace_transform(cosh(t),t,s)"
   ]
  },
  {
   "cell_type": "code",
   "execution_count": 22,
   "metadata": {
    "collapsed": false
   },
   "outputs": [
    {
     "data": {
      "text/plain": [
       "(1/(s^2 - 1),1,true)"
      ]
     },
     "execution_count": 22,
     "metadata": {},
     "output_type": "execute_result"
    }
   ],
   "source": [
    "laplace_transform(sinh(t),t,s)"
   ]
  },
  {
   "cell_type": "code",
   "execution_count": 14,
   "metadata": {
    "collapsed": false,
    "scrolled": true
   },
   "outputs": [
    {
     "name": "stdout",
     "output_type": "stream",
     "text": [
      "                      @symfuns      0 bytes  SymPy.#@symfuns\n",
      "                         @syms      0 bytes  SymPy.#@syms\n",
      "                         @vars      0 bytes  SymPy.#@vars\n",
      "                           And      0 bytes  SymPy.#And\n",
      "                             C      0 bytes  SymPy.#C\n",
      "                  ConditionSet      0 bytes  SymPy.#ConditionSet\n",
      "                         Curve      0 bytes  SymPy.#Curve\n",
      "                    Derivative      0 bytes  SymPy.#Derivative\n",
      "                    DiracDelta      0 bytes  SymPy.#DiracDelta\n",
      "                         Dummy      0 bytes  SymPy.#Dummy\n",
      "                             E     16 bytes  SymPy.Sym\n",
      "                            EC      0 bytes  SymPy.#EC\n",
      "                            ET      0 bytes  SymPy.#ET\n",
      "                            Eq      0 bytes  SymPy.#Eq\n",
      "                      Equality      0 bytes  SymPy.#Equality\n",
      "                    Equivalent      0 bytes  SymPy.#Equivalent\n",
      "                     FiniteSet      0 bytes  SymPy.#FiniteSet\n",
      "                            Ge      0 bytes  SymPy.#Ge\n",
      "                   GreaterThan      0 bytes  SymPy.#GreaterThan\n",
      "                            Gt      0 bytes  SymPy.#Gt\n",
      "                             H      0 bytes  SymPy.#H\n",
      "                     Heaviside      0 bytes  SymPy.#Heaviside\n",
      "                            IM     16 bytes  SymPy.Sym\n",
      "                   IVPSolution      0 bytes  SymPy.#IVPSolution\n",
      "                       Implies      0 bytes  SymPy.#Implies\n",
      "                     Indicator      0 bytes  SymPy.#Indicator\n",
      "                      Integral      0 bytes  SymPy.#Integral\n",
      "                      Interval      0 bytes  SymPy.#Interval\n",
      "                            LC      0 bytes  SymPy.#LC\n",
      "              LDLdecomposition      0 bytes  SymPy.#LDLdecomposition\n",
      "            LDLdecompositionFF      0 bytes  SymPy.#LDLdecompositionFF\n",
      "                      LDLsolve      0 bytes  SymPy.#LDLsolve\n",
      "                            LM      0 bytes  SymPy.#LM\n",
      "                            LT      0 bytes  SymPy.#LT\n",
      "        LUdecomposition_Simple      0 bytes  SymPy.#LUdecomposition_Simple\n",
      "                       LUsolve      0 bytes  SymPy.#LUsolve\n",
      "                            Le      0 bytes  SymPy.#Le\n",
      "                      LessThan      0 bytes  SymPy.#LessThan\n",
      "                            Lt      0 bytes  SymPy.#Lt\n",
      "                           Max      0 bytes  SymPy.#Max\n",
      "                           Min      0 bytes  SymPy.#Min\n",
      "                           Mod      0 bytes  SymPy.#Mod\n",
      "                             N      0 bytes  SymPy.#N\n",
      "                          Nand      0 bytes  SymPy.#Nand\n",
      "                            Ne      0 bytes  SymPy.#Ne\n",
      "                           Nor      0 bytes  SymPy.#Nor\n",
      "                           Not      0 bytes  SymPy.#Not\n",
      "                             O      0 bytes  SymPy.#O\n",
      "                            Or      0 bytes  SymPy.#Or\n",
      "                         Order      0 bytes  SymPy.#Order\n",
      "                            PI     16 bytes  SymPy.Sym\n",
      "                     Piecewise      0 bytes  SymPy.#piecewise\n",
      "                     PoleError      0 bytes  SymPy.#PoleError\n",
      "                          Poly      0 bytes  SymPy.#Poly\n",
      "                          Prod      0 bytes  SymPy.#Prod\n",
      "                    ProductSet      0 bytes  SymPy.#ProductSet\n",
      "                             Q     71 KB     Module\n",
      "               QRdecomposition      0 bytes  SymPy.#QRdecomposition\n",
      "                       QRsolve      0 bytes  SymPy.#QRsolve\n",
      "                      Qbounded      0 bytes  SymPy.#Qbounded\n",
      "                  Qcommutative      0 bytes  SymPy.#Qcommutative\n",
      "                      Qcomplex      0 bytes  SymPy.#Qcomplex\n",
      "                         Qeven      0 bytes  SymPy.#Qeven\n",
      "                Qextended_real      0 bytes  SymPy.#Qextended_real\n",
      "                    Qimaginary      0 bytes  SymPy.#Qimaginary\n",
      "                Qinfinitesimal      0 bytes  SymPy.#Qinfinitesimal\n",
      "                      Qinteger      0 bytes  SymPy.#Qinteger\n",
      "                   Qirrational      0 bytes  SymPy.#Qirrational\n",
      "                     Qnegative      0 bytes  SymPy.#Qnegative\n",
      "                      Qnonzero      0 bytes  SymPy.#Qnonzero\n",
      "                          Qodd      0 bytes  SymPy.#Qodd\n",
      "                     Qpositive      0 bytes  SymPy.#Qpositive\n",
      "                        Qprime      0 bytes  SymPy.#Qprime\n",
      "                         Qreal      0 bytes  SymPy.#Qreal\n",
      "                           Rel      0 bytes  SymPy.#Rel\n",
      "                             S   5441 KB     Module\n",
      "             StrictGreaterThan      0 bytes  SymPy.#StrictGreaterThan\n",
      "                StrictLessThan      0 bytes  SymPy.#StrictLessThan\n",
      "                           Sum      0 bytes  SymPy.#Sum\n",
      "                           Sym    112 bytes  DataType\n",
      "                   SymFunction    124 bytes  DataType\n",
      "                     SymMatrix    112 bytes  DataType\n",
      "                         SymPy   8229 KB     Module\n",
      "                            TC      0 bytes  SymPy.#TC\n",
      "                    Unequality      0 bytes  SymPy.#Unequality\n",
      "                          Wild      0 bytes  SymPy.#Wild\n",
      "                           Xor      0 bytes  SymPy.#Xor\n",
      "                           Ylm      0 bytes  SymPy.#Ylm\n",
      "                          _str      0 bytes  SymPy.#_str\n",
      "                    add_ground      0 bytes  SymPy.#add_ground\n",
      "                       adjoint      0 bytes  SymPy.#adjoint\n",
      "                      adjugate      0 bytes  SymPy.#adjugate\n",
      "                    airyaizero      0 bytes  SymPy.#airyaizero\n",
      "                    airybizero      0 bytes  SymPy.#airybizero\n",
      "                    all_coeffs      0 bytes  SymPy.#all_coeffs\n",
      "                    all_monoms      0 bytes  SymPy.#all_monoms\n",
      "                     all_roots      0 bytes  SymPy.#all_roots\n",
      "                     all_terms      0 bytes  SymPy.#all_terms\n",
      "                        angerj      0 bytes  SymPy.#angerj\n",
      "                         apart      0 bytes  SymPy.#apart\n",
      "                      appellf1      0 bytes  SymPy.#appellf1\n",
      "                      appellf2      0 bytes  SymPy.#appellf2\n",
      "                      appellf3      0 bytes  SymPy.#appellf3\n",
      "                      appellf4      0 bytes  SymPy.#appellf4\n",
      "                           arg      0 bytes  SymPy.#arg\n",
      "                          args      0 bytes  SymPy.#args\n",
      "                      args_cnc      0 bytes  SymPy.#args_cnc\n",
      "                  as_coeff_Add      0 bytes  SymPy.#as_coeff_Add\n",
      "                  as_coeff_Mul      0 bytes  SymPy.#as_coeff_Mul\n",
      "                  as_coeff_add      0 bytes  SymPy.#as_coeff_add\n",
      "             as_coeff_exponent      0 bytes  SymPy.#as_coeff_exponent\n",
      "              as_coeff_factors      0 bytes  SymPy.#as_coeff_factors\n",
      "                  as_coeff_mul      0 bytes  SymPy.#as_coeff_mul\n",
      "                as_coeff_terms      0 bytes  SymPy.#as_coeff_terms\n",
      "                as_coefficient      0 bytes  SymPy.#as_coefficient\n",
      "           as_coefficient_dict      0 bytes  SymPy.#as_coefficient_dict\n",
      "          as_content_primitive      0 bytes  SymPy.#as_content_primitive\n",
      "                       as_dict      0 bytes  SymPy.#as_dict\n",
      "                       as_expr      0 bytes  SymPy.#as_expr\n",
      "                as_independent      0 bytes  SymPy.#as_independent\n",
      "               as_leading_term      0 bytes  SymPy.#as_leading_term\n",
      "                       as_list      0 bytes  SymPy.#as_list\n",
      "                as_numer_denom      0 bytes  SymPy.#as_numer_denom\n",
      "            as_ordered_factors      0 bytes  SymPy.#as_ordered_factors\n",
      "              as_ordered_terms      0 bytes  SymPy.#as_ordered_terms\n",
      "                       as_poly      0 bytes  SymPy.#as_poly\n",
      "               as_powers_dicts      0 bytes  SymPy.#as_powers_dicts\n",
      "                  as_real_imag      0 bytes  SymPy.#as_real_imag\n",
      "                 as_relational      0 bytes  SymPy.#as_relational\n",
      "                        as_sum      0 bytes  SymPy.#as_sum\n",
      "                      as_terms      0 bytes  SymPy.#as_terms\n",
      "                           ask      0 bytes  SymPy.#ask\n",
      "                assoc_legendre      0 bytes  SymPy.#assoc_legendre\n",
      "                  assumptions0      0 bytes  SymPy.#assumptions0\n",
      "                         atoms      0 bytes  SymPy.#atoms\n",
      "                           bei      0 bytes  SymPy.#bei\n",
      "                           ber      0 bytes  SymPy.#ber\n",
      "                   besseljzero      0 bytes  SymPy.#besseljzero\n",
      "                    besselsimp      0 bytes  SymPy.#besselsimp\n",
      "                   besselyzero      0 bytes  SymPy.#besselyzero\n",
      "                       bihyper      0 bytes  SymPy.#bihyper\n",
      "         binomial_coefficients      0 bytes  SymPy.#binomial_coefficients\n",
      "    binomial_coefficients_list      0 bytes  SymPy.#binomial_coefficients_list\n",
      "                      boundary      0 bytes  SymPy.#boundary\n",
      "              call_matrix_meth      0 bytes  SymPy.#call_matrix_meth\n",
      "                        cancel      0 bytes  SymPy.#cancel\n",
      "                    chebyshevt      0 bytes  SymPy.#chebyshevt\n",
      "                        chebyt      0 bytes  SymPy.#chebyt\n",
      "                        chebyu      0 bytes  SymPy.#chebyu\n",
      "                      cholesky      0 bytes  SymPy.#cholesky\n",
      "                cholesky_solve      0 bytes  SymPy.#cholesky_solve\n",
      "                  clear_denoms      0 bytes  SymPy.#clear_denoms\n",
      "                         coeff      0 bytes  SymPy.#coeff\n",
      "                        coeffs      0 bytes  SymPy.#coeffs\n",
      "                      cofactor      0 bytes  SymPy.#cofactor\n",
      "                     cofactors      0 bytes  SymPy.#cofactors\n",
      "                       collect      0 bytes  Base.#collect\n",
      "                      combsimp      0 bytes  SymPy.#combsimp\n",
      "                       compare      0 bytes  SymPy.#compare\n",
      "                compare_pretty      0 bytes  SymPy.#compare_pretty\n",
      "                    complement      0 bytes  SymPy.#complement\n",
      "                       compose      0 bytes  SymPy.#compose\n",
      "          compute_leading_term      0 bytes  SymPy.#compute_leading_term\n",
      "              condition_number      0 bytes  SymPy.#condition_number\n",
      "                     conjugate      0 bytes  SymPy.#conjugate\n",
      "              construct_domain      0 bytes  SymPy.#construct_domain\n",
      "                      contains      0 bytes  Base.#contains\n",
      "                       content      0 bytes  SymPy.#content\n",
      "              cosine_transform      0 bytes  SymPy.#cosine_transform\n",
      "      could_extract_minus_sign      0 bytes  SymPy.#could_extract_minus_sign\n",
      "                      coulombc      0 bytes  SymPy.#coulombc\n",
      "                      coulombf      0 bytes  SymPy.#coulombf\n",
      "                      coulombg      0 bytes  SymPy.#coulombg\n",
      "                     count_ops      0 bytes  SymPy.#count_ops\n",
      "                   count_roots      0 bytes  SymPy.#count_roots\n",
      "                           cse      0 bytes  SymPy.#cse\n",
      "                     decompose      0 bytes  SymPy.#decompose\n",
      "                       deflate      0 bytes  SymPy.#deflate\n",
      "                        degree      0 bytes  SymPy.#degree\n",
      "                   degree_list      0 bytes  SymPy.#degree_list\n",
      "                deltaintegrate      0 bytes  SymPy.#deltaintegrate\n",
      "                         denom      0 bytes  SymPy.#denom\n",
      "               diagaonal_solve      0 bytes  SymPy.#diagaonal_solve\n",
      "                   diagonalize      0 bytes  SymPy.#diagonalize\n",
      "                  discriminant      0 bytes  SymPy.#discriminant\n",
      "                 divisor_count      0 bytes  SymPy.#divisor_count\n",
      "                      divisors      0 bytes  SymPy.#divisors\n",
      "                           doc      0 bytes  SymPy.#doc\n",
      "                          doit      0 bytes  SymPy.#doit\n",
      "                  domain_check      0 bytes  SymPy.#domain_check\n",
      "                        dsolve      0 bytes  SymPy.#dsolve\n",
      "                          dual      0 bytes  SymPy.#dual\n",
      "                      dummy_eq      0 bytes  SymPy.#dummy_eq\n",
      "                      elements      0 bytes  SymPy.#elements\n",
      "                        equals      0 bytes  SymPy.#equals\n",
      "               euler_maclaurin      0 bytes  SymPy.#euler_maclaurin\n",
      "                         evalf      0 bytes  SymPy.#evalf\n",
      "                       exclude      0 bytes  SymPy.#exclude\n",
      "                        expand      0 bytes  Base.#expand\n",
      "                   expand_func      0 bytes  SymPy.#expand_func\n",
      "                    expand_log      0 bytes  SymPy.#expand_log\n",
      "             expand_power_base      0 bytes  SymPy.#expand_power_base\n",
      "              expand_power_exp      0 bytes  SymPy.#expand_power_exp\n",
      "                   expand_trig      0 bytes  SymPy.#expand_trig\n",
      "                         exquo      0 bytes  SymPy.#exquo\n",
      "            extract_additively      0 bytes  SymPy.#extract_additively\n",
      "         extract_branch_factor      0 bytes  SymPy.#extract_branch_factor\n",
      "      extract_multiplicatively      0 bytes  SymPy.#extract_multiplicatively\n",
      "                        factor      0 bytes  Base.#factor\n",
      "                   factor_list      0 bytes  SymPy.#factor_list\n",
      "                     factorint      0 bytes  SymPy.#factorint\n",
      "             field_isomorphism      0 bytes  SymPy.#field_isomorphism\n",
      "                       flatten      0 bytes  SymPy.#flatten\n",
      "                fourier_series      0 bytes  SymPy.#fourier_series\n",
      "             fourier_transform      0 bytes  SymPy.#fourier_transform\n",
      "                      fraction      0 bytes  SymPy.#fraction\n",
      "                  free_symbols      0 bytes  SymPy.#free_symbols\n",
      "                          func      0 bytes  SymPy.#func\n",
      "                      gcd_list      0 bytes  SymPy.#gcd_list\n",
      "                         gcdex      0 bytes  SymPy.#gcdex\n",
      "                    gegenbauer      0 bytes  SymPy.#gegenbauer\n",
      "                          getO      0 bytes  SymPy.#getO\n",
      "                          getn      0 bytes  SymPy.#getn\n",
      "                           gff      0 bytes  SymPy.#gff\n",
      "                      gff_list      0 bytes  SymPy.#gff_list\n",
      "                      groebner      0 bytes  SymPy.#groebner\n",
      "                  ground_roots      0 bytes  SymPy.#ground_roots\n",
      "                        gruntz      0 bytes  SymPy.#gruntz\n",
      "                    half_gcdex      0 bytes  SymPy.#half_gcdex\n",
      "                       hankel1      0 bytes  SymPy.#hankel1\n",
      "                       hankel2      0 bytes  SymPy.#hankel2\n",
      "              hankel_transform      0 bytes  SymPy.#hankel_transform\n",
      "                           has      0 bytes  SymPy.#has\n",
      "                       hermite      0 bytes  SymPy.#hermite\n",
      "                       hessian      0 bytes  SymPy.#hessian\n",
      "                      heurisch      0 bytes  SymPy.#heurisch\n",
      "                        horner      0 bytes  SymPy.#horner\n",
      "                        hyp0f1      0 bytes  SymPy.#hyp0f1\n",
      "                        hyp1f1      0 bytes  SymPy.#hyp1f1\n",
      "                        hyp1f2      0 bytes  SymPy.#hyp1f2\n",
      "                        hyp2f0      0 bytes  SymPy.#hyp2f0\n",
      "                        hyp2f1      0 bytes  SymPy.#hyp2f1\n",
      "                        hyp2f2      0 bytes  SymPy.#hyp2f2\n",
      "                        hyp2f3      0 bytes  SymPy.#hyp2f3\n",
      "                        hyp3f2      0 bytes  SymPy.#hyp3f2\n",
      "                         hyper      0 bytes  SymPy.#hyper\n",
      "                       hyper2d      0 bytes  SymPy.#hyper2d\n",
      "                     hypercomb      0 bytes  SymPy.#hypercomb\n",
      "                   hyperexpand      0 bytes  SymPy.#hyperexpand\n",
      "                     hypersimp      0 bytes  SymPy.#hypersimp\n",
      "                        hyperu      0 bytes  SymPy.#hyperu\n",
      "                          igcd      0 bytes  SymPy.#igcd\n",
      "                          ilcm      0 bytes  SymPy.#ilcm\n",
      "                      imageset      0 bytes  SymPy.#imageset\n",
      "                           inf      0 bytes  SymPy.#inf\n",
      "               integer_nthroot      0 bytes  SymPy.#integer_nthroot\n",
      "                     integrate      0 bytes  SymPy.#integrate\n",
      "                   interpolate      0 bytes  SymPy.#interpolate\n",
      "                     intervals      0 bytes  SymPy.#intervals\n",
      "                       inverse      0 bytes  SymPy.#inverse\n",
      "                   inverse_ADJ      0 bytes  SymPy.#inverse_ADJ\n",
      "                    inverse_GE      0 bytes  SymPy.#inverse_GE\n",
      "                    inverse_LU      0 bytes  SymPy.#inverse_LU\n",
      "      inverse_cosine_transform      0 bytes  SymPy.#inverse_cosine_transform\n",
      "     inverse_fourier_transform      0 bytes  SymPy.#inverse_fourier_transform\n",
      "      inverse_hankel_transform      0 bytes  SymPy.#inverse_hankel_transform\n",
      "     inverse_laplace_transform      0 bytes  SymPy.#inverse_laplace_transform\n",
      "      inverse_mellin_transform      0 bytes  SymPy.#inverse_mellin_transform\n",
      "        inverse_sine_transform      0 bytes  SymPy.#inverse_sine_transform\n",
      "                        invert      0 bytes  SymPy.#invert\n",
      "                  is_FiniteSet      0 bytes  SymPy.#is_FiniteSet\n",
      "                   is_Interval      0 bytes  SymPy.#is_Interval\n",
      "                      is_Union      0 bytes  SymPy.#is_Union\n",
      "             is_anti_symmetric      0 bytes  SymPy.#is_anti_symmetric\n",
      "                is_commutative      0 bytes  SymPy.#is_commutative\n",
      "                    is_complex      0 bytes  SymPy.#is_complex\n",
      "                   is_constant      0 bytes  SymPy.#is_constant\n",
      "                 is_cyclotomic      0 bytes  SymPy.#is_cyclotomic\n",
      "                   is_diagonal      0 bytes  SymPy.#is_diagonal\n",
      "             is_diagonalizable      0 bytes  SymPy.#is_diagonalizable\n",
      "                   is_disjoint      0 bytes  SymPy.#is_disjoint\n",
      "                       is_even      0 bytes  SymPy.#is_even\n",
      "                     is_ground      0 bytes  SymPy.#is_ground\n",
      "                is_homogeneous      0 bytes  SymPy.#is_homogeneous\n",
      "                    is_integer      0 bytes  SymPy.#is_integer\n",
      "                is_irreducible      0 bytes  SymPy.#is_irreducible\n",
      "             is_left_unbounded      0 bytes  SymPy.#is_left_unbounded\n",
      "                     is_linear      0 bytes  SymPy.#is_linear\n",
      "                      is_lower      0 bytes  SymPy.#is_lower\n",
      "           is_lower_hessenberg      0 bytes  SymPy.#is_lower_hessenberg\n",
      "                      is_monic      0 bytes  SymPy.#is_monic\n",
      "                   is_monomial      0 bytes  SymPy.#is_monomial\n",
      "               is_multivariate      0 bytes  SymPy.#is_multivariate\n",
      "                  is_nilpotent      0 bytes  SymPy.#is_nilpotent\n",
      "                     is_number      0 bytes  SymPy.#is_number\n",
      "                        is_odd      0 bytes  SymPy.#is_odd\n",
      "                        is_one      0 bytes  SymPy.#is_one\n",
      "                 is_polynomial      0 bytes  SymPy.#is_polynomial\n",
      "                  is_primitive      0 bytes  SymPy.#is_primitive\n",
      "             is_primitive_root      0 bytes  SymPy.#is_primitive_root\n",
      "              is_proper_subset      0 bytes  SymPy.#is_proper_subset\n",
      "               is_quad_residue      0 bytes  SymPy.#is_quad_residue\n",
      "                  is_quadratic      0 bytes  SymPy.#is_quadratic\n",
      "                   is_rational      0 bytes  SymPy.#is_rational\n",
      "          is_rational_function      0 bytes  SymPy.#is_rational_function\n",
      "                       is_real      0 bytes  SymPy.#is_real\n",
      "            is_right_unbounded      0 bytes  SymPy.#is_right_unbounded\n",
      "                        is_sqf      0 bytes  SymPy.#is_sqf\n",
      "                     is_square      0 bytes  SymPy.#is_square\n",
      "                     is_subset      0 bytes  SymPy.#is_subset\n",
      "                   is_superset      0 bytes  SymPy.#is_superset\n",
      "                   is_symbolic      0 bytes  SymPy.#is_symbolic\n",
      "                  is_symmetric      0 bytes  SymPy.#is_symmetric\n",
      "                 is_univariate      0 bytes  SymPy.#is_univariate\n",
      "                      is_upper      0 bytes  SymPy.#is_upper\n",
      "           is_upper_hessenberg      0 bytes  SymPy.#is_upper_hessenberg\n",
      "                       is_zero      0 bytes  SymPy.#is_zero\n",
      "           is_zero_dimensional      0 bytes  SymPy.#is_zero_dimensional\n",
      "                       isprime      0 bytes  Base.#isprime\n",
      "                        jacobi      0 bytes  SymPy.#jacobi\n",
      "                 jacobi_symbol      0 bytes  SymPy.#jacobi_symbol\n",
      "                      jacobian      0 bytes  SymPy.#jacobian\n",
      "                  jordan_cells      0 bytes  SymPy.#jordan_cells\n",
      "                   jordan_form      0 bytes  SymPy.#jordan_form\n",
      "                        jprint      0 bytes  SymPy.#jprint\n",
      "                    julia_code      0 bytes  SymPy.#julia_code\n",
      "                           kei      0 bytes  SymPy.#kei\n",
      "                           ker      0 bytes  SymPy.#ker\n",
      "                       l1_norm      0 bytes  SymPy.#l1_norm\n",
      "                      laguerre      0 bytes  SymPy.#laguerre\n",
      "                      lambdify      0 bytes  SymPy.#lambdify\n",
      "             laplace_transform      0 bytes  SymPy.#laplace_transform\n",
      "                      lcm_list      0 bytes  SymPy.#lcm_list\n",
      "                      leadterm      0 bytes  SymPy.#leadterm\n",
      "                     left_open      0 bytes  SymPy.#left_open\n",
      "                      legendre      0 bytes  SymPy.#legendre\n",
      "               legendre_symbol      0 bytes  SymPy.#legendre_symbol\n",
      "                        legenp      0 bytes  SymPy.#legenp\n",
      "                        legenq      0 bytes  SymPy.#legenq\n",
      "                           lhs      0 bytes  SymPy.#lhs\n",
      "                          lift      0 bytes  SymPy.#lift\n",
      "                         limit      0 bytes  SymPy.#limit\n",
      "                        limits      0 bytes  SymPy.#limits\n",
      "                line_integrate      0 bytes  SymPy.#line_integrate\n",
      "                      linsolve      0 bytes  SymPy.#linsolve\n",
      "                    logcombine      0 bytes  SymPy.#logcombine\n",
      "                      lommels1      0 bytes  SymPy.#lommels1\n",
      "                      lommels2      0 bytes  SymPy.#lommels2\n",
      "        lower_triangular_solve      0 bytes  SymPy.#lower_triangular_solve\n",
      "                         ltrim      0 bytes  SymPy.#ltrim\n",
      "                      max_norm      0 bytes  SymPy.#max_norm\n",
      "                       measure      0 bytes  SymPy.#measure\n",
      "                       meijerg      0 bytes  SymPy.#meijerg\n",
      "              mellin_transform      0 bytes  SymPy.#mellin_transform\n",
      "                       members      0 bytes  SymPy.#members\n",
      "            minimal_polynomial      0 bytes  SymPy.#minimal_polynomial\n",
      "                    minorEntry      0 bytes  SymPy.#minorEntry\n",
      "                   minorMatrix      0 bytes  SymPy.#minorMatrix\n",
      "                       minpoly      0 bytes  SymPy.#minpoly\n",
      "                         monic      0 bytes  SymPy.#monic\n",
      "                        monoms      0 bytes  SymPy.#monoms\n",
      "                    mul_ground      0 bytes  SymPy.#mul_ground\n",
      "      multinomial_coefficients      0 bytes  SymPy.#multinomial_coefficients\n",
      "                  multiplicity      0 bytes  SymPy.#multiplicity\n",
      "                       n_order      0 bytes  SymPy.#n_order\n",
      "                           neg      0 bytes  SymPy.#neg\n",
      "                     nextprime      0 bytes  SymPy.#nextprime\n",
      "                          norm      0 bytes  Base.LinAlg.#norm\n",
      "                    normalized      0 bytes  SymPy.#normalized\n",
      "                   npartitions      0 bytes  SymPy.#npartitions\n",
      "                        nroots      0 bytes  SymPy.#nroots\n",
      "                     nsimplify      0 bytes  SymPy.#nsimplify\n",
      "                        nsolve      0 bytes  SymPy.#nsolve\n",
      "                           nth      0 bytes  SymPy.#nth\n",
      "          nth_power_roots_poly      0 bytes  SymPy.#nth_power_roots_poly\n",
      "                     nullspace      0 bytes  Base.LinAlg.#nullspace\n",
      "                         numer      0 bytes  SymPy.#numer\n",
      "                   object_meth      0 bytes  SymPy.#object_meth\n",
      "                            oo     16 bytes  SymPy.Sym\n",
      "                          pcfd      0 bytes  SymPy.#pcfd\n",
      "                          pcfu      0 bytes  SymPy.#pcfu\n",
      "                          pcfv      0 bytes  SymPy.#pcfv\n",
      "                          pcfw      0 bytes  SymPy.#pcfw\n",
      "                          pdiv      0 bytes  SymPy.#pdiv\n",
      "                           per      0 bytes  SymPy.#per\n",
      "                 perfect_power      0 bytes  SymPy.#perfect_power\n",
      "                   permuteBkwd      0 bytes  SymPy.#permuteBkwd\n",
      "                    permuteFwd      0 bytes  SymPy.#permuteFwd\n",
      "                        pexquo      0 bytes  SymPy.#pexquo\n",
      "                     piecewise      0 bytes  SymPy.#piecewise\n",
      "                piecewise_fold      0 bytes  SymPy.#piecewise_fold\n",
      "                 plot_implicit      0 bytes  SymPy.#plot_implicit\n",
      "       plot_parametric_surface      0 bytes  SymPy.#plot_parametric_surface\n",
      "                   pollard_pm1      0 bytes  SymPy.#pollard_pm1\n",
      "                   pollard_rho      0 bytes  SymPy.#pollard_rho\n",
      "                          poly      0 bytes  SymPy.#poly\n",
      "                poly_from_expr      0 bytes  SymPy.#poly_from_expr\n",
      "                       polydiv      0 bytes  SymPy.#polydiv\n",
      "                    polydivrem      0 bytes  SymPy.#polydivrem\n",
      "                       polyrem      0 bytes  SymPy.#polyrem\n",
      "                     polyroots      0 bytes  SymPy.#polyroots\n",
      "                        posify      0 bytes  SymPy.#posify\n",
      "                     powdenest      0 bytes  SymPy.#powdenest\n",
      "                      powerset      0 bytes  SymPy.#powerset\n",
      "                       powsimp      0 bytes  SymPy.#powsimp\n",
      "                        pprint      0 bytes  SymPy.#pprint\n",
      "                          pquo      0 bytes  SymPy.#pquo\n",
      "                          prem      0 bytes  SymPy.#prem\n",
      "                     prevprime      0 bytes  SymPy.#prevprime\n",
      "                         prime      0 bytes  SymPy.#prime\n",
      "                  primefactors      0 bytes  SymPy.#primefactors\n",
      "                       primepi      0 bytes  SymPy.#primepi\n",
      "                    primerange      0 bytes  SymPy.#primerange\n",
      "                     primitive      0 bytes  SymPy.#primitive\n",
      "             primitive_element      0 bytes  SymPy.#primitive_element\n",
      "                     primorial      0 bytes  SymPy.#primorial\n",
      "                 print_nonzero      0 bytes  SymPy.#print_nonzero\n",
      "                           quo      0 bytes  SymPy.#quo\n",
      "                       radsimp      0 bytes  SymPy.#radsimp\n",
      "              rat_clear_denoms      0 bytes  SymPy.#rat_clear_denoms\n",
      "                        ratint      0 bytes  SymPy.#ratint\n",
      "                       ratsimp      0 bytes  SymPy.#ratsimp\n",
      "                      rcollect      0 bytes  SymPy.#rcollect\n",
      "                            re      0 bytes  SymPy.#re\n",
      "                    real_roots      0 bytes  SymPy.#real_roots\n",
      "                       reduced      0 bytes  SymPy.#reduced\n",
      "                        refine      0 bytes  SymPy.#refine\n",
      "                   refine_root      0 bytes  SymPy.#refine_root\n",
      "                       removeO      0 bytes  SymPy.#removeO\n",
      "                       residue      0 bytes  SymPy.#residue\n",
      "                     resultant      0 bytes  SymPy.#resultant\n",
      "                       retract      0 bytes  SymPy.#retract\n",
      "                       rewrite      0 bytes  SymPy.#rewrite\n",
      "                           rhs      0 bytes  SymPy.#rhs\n",
      "                    right_open      0 bytes  SymPy.#right_open\n",
      "                          root      0 bytes  SymPy.#root\n",
      "                          rref      0 bytes  SymPy.#rref\n",
      "                   satisfiable      0 bytes  SymPy.#satisfiable\n",
      "                        scalex      0 bytes  SymPy.#scalex\n",
      "                      scorergi      0 bytes  SymPy.#scorergi\n",
      "                      scorerhi      0 bytes  SymPy.#scorerhi\n",
      "                      separate      0 bytes  SymPy.#separate\n",
      "                  separatevars      0 bytes  SymPy.#separatevars\n",
      "                        series      0 bytes  SymPy.#series\n",
      "                    set_domain      0 bytes  SymPy.#set_domain\n",
      "                   set_modulus      0 bytes  SymPy.#set_modulus\n",
      "                         shift      0 bytes  SymPy.#shift\n",
      "                        shiftx      0 bytes  SymPy.#shiftx\n",
      "                         sieve      0 bytes  SymPy.#sieve\n",
      "                          sign      0 bytes  Base.#sign\n",
      "                      simplify      0 bytes  SymPy.#simplify\n",
      "                sine_transform      0 bytes  SymPy.#sine_transform\n",
      "               singular_values      0 bytes  SymPy.#singular_values\n",
      "                         solve      0 bytes  SymPy.#solve\n",
      "             solve_poly_system      0 bytes  SymPy.#solve_poly_system\n",
      "                      solveset      0 bytes  SymPy.#solveset\n",
      "              solveset_complex      0 bytes  SymPy.#solveset_complex\n",
      "                 solveset_real      0 bytes  SymPy.#solveset_real\n",
      "                      sort_key      0 bytes  SymPy.#sort_key\n",
      "                     spherharm      0 bytes  SymPy.#spherharm\n",
      "                           sqf      0 bytes  SymPy.#sqf\n",
      "                      sqf_list      0 bytes  SymPy.#sqf_list\n",
      "                      sqf_norm      0 bytes  SymPy.#sqf_norm\n",
      "                      sqf_part      0 bytes  SymPy.#sqf_part\n",
      "                           sqr      0 bytes  SymPy.#sqr\n",
      "                    sqrtdenest      0 bytes  SymPy.#sqrtdenest\n",
      "                        square      0 bytes  SymPy.#square\n",
      "                       struveh      0 bytes  SymPy.#struveh\n",
      "                       struvel      0 bytes  SymPy.#struvel\n",
      "                         sturm      0 bytes  SymPy.#sturm\n",
      "                    sub_ground      0 bytes  SymPy.#sub_ground\n",
      "                 subresultants      0 bytes  SymPy.#subresultants\n",
      "                          subs      0 bytes  SymPy.#subs\n",
      "                     summation      0 bytes  SymPy.#summation\n",
      "                           sup      0 bytes  SymPy.#sup\n",
      "                       symbols      0 bytes  SymPy.#symbols\n",
      "                   symfunction      0 bytes  SymPy.#symfunction\n",
      "                    symmetrize      0 bytes  SymPy.#symmetrize\n",
      "                       sympify      0 bytes  SymPy.#sympify\n",
      "                         sympy      8 bytes  PyCall.PyObject\n",
      "                    sympy_meth      0 bytes  SymPy.#sympy_meth\n",
      "                sympy_plotting      0 bytes  Void\n",
      "                     terms_gcd      0 bytes  SymPy.#terms_gcd\n",
      "                      to_exact      0 bytes  SymPy.#to_exact\n",
      "                      to_field      0 bytes  SymPy.#to_field\n",
      "               to_number_field      0 bytes  SymPy.#to_number_field\n",
      "                       to_ring      0 bytes  SymPy.#to_ring\n",
      "                      together      0 bytes  SymPy.#together\n",
      "                  total_degree      0 bytes  SymPy.#total_degree\n",
      "                       totient      0 bytes  SymPy.#totient\n",
      "                      trailing      0 bytes  SymPy.#trailing\n",
      "                     transform      0 bytes  SymPy.#transform\n",
      "                 trigintegrate      0 bytes  SymPy.#trigintegrate\n",
      "                      trigsimp      0 bytes  SymPy.#trigsimp\n",
      "                         trunc      0 bytes  Base.#trunc\n",
      "                         unify      0 bytes  SymPy.#unify\n",
      "        upper_triangular_solve      0 bytes  SymPy.#upper_triangular_solve\n",
      "                     variables      0 bytes  SymPy.#variables\n",
      "                          vech      0 bytes  SymPy.#vech\n",
      "                         viete      0 bytes  SymPy.#viete\n",
      "                        webere      0 bytes  SymPy.#webere\n",
      "                         whitm      0 bytes  SymPy.#whitm\n",
      "                         whitw      0 bytes  SymPy.#whitw\n",
      "                      xreplace      0 bytes  SymPy.#xreplace\n",
      "                             ¬      0 bytes  SymPy.#¬\n",
      "                             Χ      0 bytes  SymPy.#Χ\n",
      "                             ∧      0 bytes  SymPy.#∧\n",
      "                             ∨      0 bytes  SymPy.#∨\n",
      "                             ≪      0 bytes  SymPy.#≪\n",
      "                             ≫      0 bytes  SymPy.#≫\n",
      "                            ⩵      0 bytes  SymPy.#⩵\n"
     ]
    }
   ],
   "source": [
    "whos(SymPy);"
   ]
  },
  {
   "cell_type": "code",
   "execution_count": null,
   "metadata": {
    "collapsed": true
   },
   "outputs": [],
   "source": []
  }
 ],
 "metadata": {
  "anaconda-cloud": {},
  "kernelspec": {
   "display_name": "Julia 0.5.0",
   "language": "julia",
   "name": "julia-0.5"
  },
  "language_info": {
   "file_extension": ".jl",
   "mimetype": "application/julia",
   "name": "julia",
   "version": "0.5.0"
  }
 },
 "nbformat": 4,
 "nbformat_minor": 0
}
