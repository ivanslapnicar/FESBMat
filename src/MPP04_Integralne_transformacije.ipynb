{
 "cells": [
  {
   "cell_type": "markdown",
   "metadata": {},
   "source": [
    "# Integralne transformacije\n",
    "\n",
    "---\n",
    "\n",
    "Integralna transformacija funkcije $f(t)$ na intervalu $[a,b]$ je\n",
    "\n",
    "$$\n",
    "F(s)=\\int_a^b K(s,t)f(t) \\, dt.\n",
    "$$\n",
    "\n",
    "Funkcija $K(s,t)$ je __jezgra__ transformacije.\n",
    "\n",
    "## Laplace-ova transformacija\n",
    "\n",
    "Za $a=0$, $b=\\infty$ i $K(s,t)=e^{-st}$ imamo __Laplace-ovu__ transformaciju:\n",
    "\n",
    "$$\n",
    "(\\mathcal{L}u)(s)\\equiv U(s)=\\int_0^\\infty u(t)e^{-st}\\, dt.\n",
    "$$\n",
    "\n",
    "Funkcije koje su \n",
    "* po djelovima neprekidne na svakom konačnom intervalu i \n",
    "* koje su __eksponencijalnog rasta__, odnosno za koje postoje konstante  $M>0$ i $a>0$ takve da je\n",
    "\n",
    "$$\n",
    "\\big|f(t)\\big|\\leq Me^{at}\n",
    "$$\n",
    "\n",
    "sigurno imaju Laplace-ovu transformaciju.\n",
    "\n",
    "> Ovo su __dovoljni uvjeti__, ali ne i __nužni__. \n",
    "\n",
    "Laplace-ova transformacija je __linearni operator__.\n",
    "\n",
    "Lapleaceova transformacija ima __inverz__:\n",
    "$$\n",
    "\\mathcal{L}^{-1}U(s)=u(t)=\\frac{1}{2\\pi i}\\int_{a-i\\infty}^{a+i\\infty} U(s)e^{st}\\, ds.\n",
    "$$\n",
    "\n",
    "Parovi transformacija i njihovih inverza se nalaze u [tablicama](http://integral-table.com/downloads/LaplaceTable.pdf).\n",
    "\n",
    "Posebno su važne formule za deriviranje:\n",
    "\n",
    "$$\n",
    "(\\mathcal{L}'u)(s)=sU(s)-u(0), \\\\\n",
    "(\\mathcal{L}''u)(s)=s^2U(s)-su(0)-u'(0).\n",
    "$$"
   ]
  },
  {
   "cell_type": "markdown",
   "metadata": {},
   "source": [
    "### Primjer - problem početnih vrijednosti\n",
    "\n",
    "Riješimo problem\n",
    "\n",
    "$$\n",
    "u''+u=0, \\quad t>0, \\quad u(0)=0, \\quad u'(0)=1.\n",
    "$$\n",
    "\n",
    "Laplaceova transformacija cijele jednadžbe daje\n",
    "\n",
    "$$\n",
    "s^2U(s)-su(0)-u'(0)+U(s)=0.\n",
    "$$\n",
    "\n",
    "Uvrštavanje početnih uvjeta daje\n",
    "\n",
    "$$\n",
    "s^2U(s)-su(0)-1+U(s)=0\n",
    "$$\n",
    "\n",
    "pa je \n",
    "\n",
    "$$\n",
    "U(s)=\\frac{1}{1+s^2}.\n",
    "$$\n",
    "\n",
    "Primjena inverzne transformacije daje rješenje\n",
    "\n",
    "$$\n",
    "u(t)=\\mathcal{L}^{-1}\\bigg(\\frac{1}{1+s^2}\\bigg)= \\sin t.\n",
    "$$"
   ]
  },
  {
   "cell_type": "code",
   "execution_count": 1,
   "metadata": {
    "collapsed": true
   },
   "outputs": [],
   "source": [
    "using SymPy"
   ]
  },
  {
   "cell_type": "code",
   "execution_count": 2,
   "metadata": {
    "collapsed": false
   },
   "outputs": [
    {
     "data": {
      "text/plain": [
       "(x,t,s)"
      ]
     },
     "execution_count": 2,
     "metadata": {},
     "output_type": "execute_result"
    }
   ],
   "source": [
    "x,t,s=symbols(\"x t s\")"
   ]
  },
  {
   "cell_type": "code",
   "execution_count": 3,
   "metadata": {
    "collapsed": false
   },
   "outputs": [
    {
     "data": {
      "text/latex": [
       "$$\\sin{\\left (t \\right )} \\theta\\left(t\\right)$$"
      ],
      "text/plain": [
       "sin(t)⋅Heaviside(t)"
      ]
     },
     "execution_count": 3,
     "metadata": {},
     "output_type": "execute_result"
    }
   ],
   "source": [
    "u=inverse_laplace_transform(1/(1+s^2),s,t)"
   ]
  },
  {
   "cell_type": "markdown",
   "metadata": {},
   "source": [
    "### Primjer difuzije\n",
    "\n",
    "(Vidi [J. Logan, Applied Mathematics, 2nd ed., str. 226][JL97])\n",
    "\n",
    "[JL97]: #1 \"J. Logan, 'Applied mathematics', 2nd ed., Wiley, New York, 1997\"\n",
    "\n",
    "\n",
    "Neka $u(x,t)$ daje koncentraciju kemikalije na polu-beskonačnom prostoru $x>0$ koji je u početku bez kemikalije.\n",
    "Neka za vremena $t>0$ na rubu $x=0$ dajemo jediničnu koncentraciju kemikalije i želimo znati kako se kemikalija širi. \n",
    "Nake je difuzijska konstanata jednaka $1$.\n",
    "\n",
    "Matematički model je\n",
    "\n",
    "$$\n",
    "u_t-u_{xx}=0, \\quad x>0, t>0, \\\\\n",
    "u(x,0)=0, \\quad x>0, \\\\\n",
    "u(0,t)=1, \\quad t>0, \\\\\n",
    "u(x,t) \\ \\textrm{omeđena}.\n",
    "$$\n",
    "\n",
    "Laplaceova transformacija jednadžbe po vremenu $t$, pri čemu se prostorna varijabla $x$ ne transformira, daje\n",
    "diferencijalnu jednadžbu po varijabli $x$\n",
    "\n",
    "$$\n",
    "sU(x,s)-u(x,0)-U_{xx}(x,s)=0.\n",
    "$$\n",
    "\n",
    "Počeni uvjet daje jednadžbu\n",
    "\n",
    "$$\n",
    "sU(x,s)-U_{xx}(x,s)=0.\n",
    "$$\n"
   ]
  },
  {
   "cell_type": "code",
   "execution_count": 4,
   "metadata": {
    "collapsed": false
   },
   "outputs": [
    {
     "data": {
      "text/latex": [
       "$$s$$"
      ],
      "text/plain": [
       "s"
      ]
     },
     "execution_count": 4,
     "metadata": {},
     "output_type": "execute_result"
    }
   ],
   "source": [
    "s=symbols(\"s\",real=true,positive=true)"
   ]
  },
  {
   "cell_type": "code",
   "execution_count": 5,
   "metadata": {
    "collapsed": false
   },
   "outputs": [
    {
     "data": {
      "text/latex": [
       "$$s U{\\left (x \\right )} - \\frac{d^{2}}{d x^{2}}  U{\\left (x \\right )} = 0$$"
      ],
      "text/plain": [
       "           2          \n",
       "          d           \n",
       "s⋅U(x) - ───(U(x)) = 0\n",
       "           2          \n",
       "         dx           "
      ]
     },
     "execution_count": 5,
     "metadata": {},
     "output_type": "execute_result"
    }
   ],
   "source": [
    "U = symbols(\"U\", cls=symfunction)\n",
    "# U=SymFunction('U')\n",
    "diffeq = Eq(s*U(x)-diff(U(x), x, 2), 0)"
   ]
  },
  {
   "cell_type": "code",
   "execution_count": 6,
   "metadata": {
    "collapsed": false
   },
   "outputs": [
    {
     "name": "stdout",
     "output_type": "stream",
     "text": [
      "search: SymFunction symfunction\n",
      "\n"
     ]
    },
    {
     "data": {
      "text/markdown": [
       "Create a symbolic function. These can be used for specifying differential equations. For these objects we can specify derivatives with the transpose operator (e.g., `u''`) as opposed to, say `diff(u(x), x, 2)`.\n",
       "\n",
       "Example:\n",
       "\n",
       "```\n",
       "u = SymFunction(\"u\")\n",
       "u'\n",
       "```\n",
       "\n",
       "Alternatively, we can pass `symfunction` to the `cls` argument of `symbols`. This provides a convenient way to create more than one symbolic function per call.\n",
       "\n",
       "```\n",
       "F, G = symbols(\"F,G\", cls=symfunction)\n",
       "```\n"
      ],
      "text/plain": [
       "Create a symbolic function. These can be used for specifying differential equations. For these objects we can specify derivatives with the transpose operator (e.g., `u''`) as opposed to, say `diff(u(x), x, 2)`.\n",
       "\n",
       "Example:\n",
       "\n",
       "```\n",
       "u = SymFunction(\"u\")\n",
       "u'\n",
       "```\n",
       "\n",
       "Alternatively, we can pass `symfunction` to the `cls` argument of `symbols`. This provides a convenient way to create more than one symbolic function per call.\n",
       "\n",
       "```\n",
       "F, G = symbols(\"F,G\", cls=symfunction)\n",
       "```\n"
      ]
     },
     "execution_count": 6,
     "metadata": {},
     "output_type": "execute_result"
    }
   ],
   "source": [
    "?SymFunction"
   ]
  },
  {
   "cell_type": "code",
   "execution_count": 7,
   "metadata": {
    "collapsed": false
   },
   "outputs": [
    {
     "data": {
      "text/latex": [
       "$$U{\\left (x \\right )} = C_{1} e^{- \\sqrt{s} x} + C_{2} e^{\\sqrt{s} x}$$"
      ],
      "text/plain": [
       "           -√s⋅x       √s⋅x\n",
       "U(x) = C₁⋅ℯ      + C₂⋅ℯ    "
      ]
     },
     "execution_count": 7,
     "metadata": {},
     "output_type": "execute_result"
    }
   ],
   "source": [
    "sympy_meth(:dsolve,diffeq,U(x))"
   ]
  },
  {
   "cell_type": "markdown",
   "metadata": {},
   "source": [
    "Rješili smo jednadžbu po $x$ pa je varijable $s$ konstanta. Zato su $C_1$ i $C_2$ funkcije od $s$,\n",
    "\n",
    "$$\n",
    "C_1 \\equiv a(S), \\quad C_2\\equiv b(s),\n",
    "$$\n",
    "\n",
    "odnosno,\n",
    "\n",
    "$$\n",
    "U(x,s)=a(s) e^{-\\sqrt{s} x} + b(s)e^{\\sqrt{s} x}.\n",
    "$$\n",
    "\n",
    "Zato što želimo omeđeno rješenje, mora biti $b(s)=0$ pa je\n",
    "\n",
    "$$\n",
    "U(x,s)=a(s) e^{-\\sqrt{s} x}.\n",
    "$$\n",
    "\n",
    "Sada iskoristimo početni uvjet:\n",
    "\n",
    "$$\n",
    "U(0,s)=a(s)=\\mathcal{L}(1)=\\frac{1}{s}\n",
    "$$\n",
    "\n",
    "pa je \n",
    "\n",
    "$$\n",
    "U(x,s)=\\frac{1}{s} e^{-\\sqrt{s} x}.\n",
    "$$\n",
    "\n",
    "Iz [tablice](http://integral-table.com/downloads/LaplaceTable.pdf) pod (33) slijedi\n",
    "\n",
    "$$\n",
    "u(x,s)=\\mathop{\\mathrm{erfc}} \\left( \\frac{x}{\\sqrt{4t}}\\right).\n",
    "$$"
   ]
  },
  {
   "cell_type": "code",
   "execution_count": 9,
   "metadata": {
    "collapsed": false
   },
   "outputs": [
    {
     "data": {
      "text/plain": [
       "(1/s,0,true)"
      ]
     },
     "execution_count": 9,
     "metadata": {},
     "output_type": "execute_result"
    }
   ],
   "source": [
    "f=laplace_transform(t^0,t,s)"
   ]
  },
  {
   "cell_type": "code",
   "execution_count": 9,
   "metadata": {
    "collapsed": false
   },
   "outputs": [
    {
     "data": {
      "text/latex": [
       "$$\\left(- \\operatorname{erf}{\\left (\\frac{\\sqrt{t}}{2} \\right )} + 1\\right) \\theta\\left(t\\right)$$"
      ],
      "text/plain": [
       "⎛     ⎛√t⎞    ⎞             \n",
       "⎜- erf⎜──⎟ + 1⎟⋅Heaviside(t)\n",
       "⎝     ⎝2 ⎠    ⎠             "
      ]
     },
     "execution_count": 9,
     "metadata": {},
     "output_type": "execute_result"
    }
   ],
   "source": [
    "inverse_laplace_transform(exp(-sqrt(s)*t)/s,s,t)"
   ]
  },
  {
   "cell_type": "markdown",
   "metadata": {
    "collapsed": true
   },
   "source": [
    "## Fourier-ova transformacija\n",
    "\n",
    "Za funkciju $u(x)$, $x\\in\\mathbb{R}$, definiramo __Fourier-ovu transformaciju__\n",
    "\n",
    "$$\n",
    "(\\mathcal{F} u)(\\xi)\\equiv \\hat u(\\xi) = \\int\\limits_{-\\infty}^\\infty u(x) \\displaystyle e^{i\\xi x} dx.\n",
    "$$\n",
    "\n",
    "Fourier-ova transformacija postoji čim je $u$ apsolutno integrabilna funkcija, odnosno\n",
    "$\\int\\limits_{-infty}^\\infty \\left| u(x)\\right| dx < \\infty$.\n",
    "\n",
    "Promatrat ćemo funkcije __Schwartz-ove klase__ koje, zajedno s derivacijama, \n",
    "opadaju brže od bilo koje potencije:\n",
    "\n",
    "$$\n",
    "\\mathcal{S}=\\left\\{ u\\in C^\\infty : \\left\\|\\displaystyle \\frac{d^k u}{dx^k}\\right\\| = \n",
    "\\mathcal{O} \\left( \\displaystyle \\frac{1}{\\left|x\\right|^N} \\right), \\ \\left|x\\right|\\to \\infty,\\ k=0,1,2,3,\\ldots, \\ \n",
    "\\forall N\\in\\mathbb{N} \\right\\}.\n",
    "$$\n",
    "\n",
    "Inverzna Fourier-ova transformacija zadana je formulom\n",
    "\n",
    "$$\n",
    "(\\mathcal{F}^{-1}\\hat u)(x)\\equiv u(x) = \\frac{1}{2\\pi}\\int\\limits_{-\\infty}^\\infty \\hat u(\\xi) \n",
    "\\displaystyle e^{-i\\xi x} d\\xi.\n",
    "$$\n",
    "\n",
    "Fourier-ove transformacije i inverzne Fourier-ove transformacije možemo naći u [tablicama](http://uspas.fnal.gov/materials/11ODU/FourierTransformPairs.pdf).\n",
    "\n",
    "Posebno, za transformacije derivacija vrijedi\n",
    "\n",
    "$$\n",
    "(\\mathcal{F} u^{(k)}(\\xi)=(-i\\xi)^k \\hat u(\\xi), \\quad u\\in \\mathcal{S}.\n",
    "$$\n",
    "\n",
    "__Konvolucija__ funkcija $u,v\\in\\mathcal{S}$ je funkcija\n",
    "\n",
    "$$\n",
    "(u\\ast v)(x) =\\int\\limits_{-\\infty}^\\infty u(x-y)v(y) dy.\n",
    "$$\n",
    "\n",
    "Vrijedi\n",
    "\n",
    "$$\n",
    "\\mathcal{F}(u\\ast v)(\\xi)=\\hat u(\\xi)\\hat v(\\xi).\n",
    "$$"
   ]
  },
  {
   "cell_type": "markdown",
   "metadata": {},
   "source": [
    "### Primjer - problem rubnih vrijednosti\n",
    "\n",
    "Za funkciju $f\\in\\mathcal{S}$ nađimo $u\\in\\mathcal{S}$ za koju je\n",
    "\n",
    "$$\n",
    "u''-u=f(x), \\quad x\\in\\mathbb{R}.\n",
    "$$\n",
    "\n",
    "Transfomacije jednadžbe daje\n",
    "\n",
    "$$\n",
    "(-i\\xi)^2\\hat u-\\hat u=\\hat f\n",
    "$$\n",
    "\n",
    "pa je\n",
    "\n",
    "$$\n",
    "\\hat u(\\xi)=-\\frac{1}{1+\\xi^2} \\hat f(\\xi).\n",
    "$$\n",
    "\n",
    "Iz tablica vidimo da je \n",
    "\n",
    "$$\n",
    "\\mathcal{F}^{-1}\\left(\\frac{1}{1+\\xi^2}\\right) = \\frac{1}{2} e^{-|x|}\n",
    "$$\n",
    "\n",
    "pa je po teoremu o konvoluciji\n",
    "\n",
    "$$\n",
    "u(x)=-\\frac{1}{2} e^{-|x|} \\ast f(x)=-\\frac{1}{2} \n",
    "\\int\\limits_{-\\infty}^\\infty e^{-|x-y|}f(y)dy.\n",
    "$$"
   ]
  },
  {
   "cell_type": "markdown",
   "metadata": {},
   "source": [
    "### Primjer - jednadžba difuzije\n",
    "\n",
    "Riješimo problem\n",
    "\n",
    "$$\n",
    "u_t-u_{xx}=0,\\quad u(x,0)=f(x), \\quad x\\in\\mathbb{R},\\quad t>0.\n",
    "$$\n",
    "\n",
    "Pretpostavljamo da je $f\\in\\mathcal{S}$. Fourier-ova transformacija jednadžbe po $x$ daje populacijsku \n",
    "jednadžbu\n",
    "\n",
    "$$\n",
    "\\hat u_t=-\\xi^2 k \\hat u\n",
    "$$\n",
    "\n",
    "pa je\n",
    "\n",
    "$$\n",
    "\\hat u(\\xi, t)= C e^{-\\xi^2k t}.\n",
    "$$\n",
    "\n",
    "Početni uvjet daje\n",
    "\n",
    "$$\n",
    "\\hat u(\\xi, 0)=C=\\hat f(\\xi)\n",
    "$$\n",
    "\n",
    "pa je \n",
    "\n",
    "$$\n",
    "\\hat u(\\xi, t)= \\hat f(\\xi) e^{-\\xi^2k t}.\n",
    "$$\n",
    "\n",
    "Iz tablica vidimo da je \n",
    "\n",
    "$$\n",
    "\\mathcal{F}^{-1}\\left(e^{-\\xi^2k t} \\right) = \\frac{1}{\\sqrt{4\\pi k t}} e^{-x^2/(4kt)}\n",
    "$$\n",
    "\n",
    "pa je po teoremu o konvoluciji\n",
    "\n",
    "$$\n",
    "u(x,t)=\\int\\limits_{-\\infty}^\\infty e^{-(x-y)^2/(4kt)}f(y)dy.\n",
    "$$\n"
   ]
  },
  {
   "cell_type": "markdown",
   "metadata": {},
   "source": [
    "### Primjer - Laplace-ova jednadžba\n",
    "\n",
    "Riješimo problem\n",
    "\n",
    "$$\n",
    "u_{xx}+u_{yy}=0,\\quad u(x,0)=f(x), \\quad x\\in\\mathbb{R},\\quad y>0,\n",
    "$$\n",
    "\n",
    "uz dodatni uvijet da je rješenje omeđeno kada $y\\to\\infty$.\n",
    "\n",
    "Pretpostavljamo da je $f\\in\\mathcal{S}$. Fourier-ova transformacija jednadžbe po $x$ daje\n",
    "jednadžbu\n",
    "\n",
    "$$\n",
    "\\hat u_{yy}-\\xi^2 \\hat u=0,\n",
    "$$\n",
    "\n",
    "pa je\n",
    "\n",
    "$$\n",
    "\\hat u(\\xi, y)= a(\\xi) e^{-\\xi y} + b(\\xi) e^{\\xi y}.\n",
    "$$\n",
    "\n",
    "Dodatni uvijet omeđenosti rješenja povlači $b(\\xi)=0$ pa je\n",
    "\n",
    "$$\n",
    "\\hat u(\\xi, y)= a(\\xi) e^{-\\xi y}.\n",
    "$$\n",
    "\n",
    "Međutim, i ovo rješenje će rasti kada je $\\xi<0$ pa stoga uzimamo\n",
    "\n",
    "$$\n",
    "\\hat u(\\xi, y)= a(\\xi) e^{-|\\xi| y}.\n",
    "$$\n",
    "\n",
    "Rubni uvijet daje \n",
    "$$\n",
    "\\hat u(\\xi, 0)=a(\\xi)=\\hat f(\\xi)\n",
    "$$\n",
    "\n",
    "pa je rješenje problema u transformiranoj domeni dano s\n",
    "\n",
    "$$\n",
    "\\hat u(\\xi, y)= \\hat f(\\xi) e^{-|\\xi|y}.\n",
    "$$\n",
    "\n",
    "Iz tablica (?) vidimo da je \n",
    "\n",
    "$$\n",
    "\\mathcal{F}^{-1}\\left(e^{-|\\xi|y} \\right) = \\frac{y}{\\pi}\\frac{1}{x^2+y^2}\n",
    "$$\n",
    "\n",
    "pa je po teoremu o konvoluciji\n",
    "\n",
    "$$\n",
    "u(x,y)=\\frac{y}{\\pi}\\frac{1}{x^2+y^2} \\ast f = \n",
    "\\frac{y}{\\pi}\\int\\limits_{-\\infty}^\\infty \\frac{f(\\tau)d\\tau}{(x-\\tau)^2+y^2}.\n",
    "$$\n",
    "\n",
    "\n"
   ]
  },
  {
   "cell_type": "code",
   "execution_count": 15,
   "metadata": {
    "collapsed": false
   },
   "outputs": [
    {
     "data": {
      "text/latex": [
       "$$\\frac{2 s}{s^{2} + 4 \\pi^{2} x^{2}}$$"
      ],
      "text/plain": [
       "    2⋅s     \n",
       "────────────\n",
       " 2      2  2\n",
       "s  + 4⋅π ⋅x "
      ]
     },
     "execution_count": 15,
     "metadata": {},
     "output_type": "execute_result"
    }
   ],
   "source": [
    "inverse_fourier_transform(exp(-abs(t)*s),t,x)"
   ]
  },
  {
   "cell_type": "code",
   "execution_count": 16,
   "metadata": {
    "collapsed": false
   },
   "outputs": [
    {
     "name": "stdout",
     "output_type": "stream",
     "text": [
      "search: inverse_fourier_transform\n",
      "\n"
     ]
    },
    {
     "data": {
      "text/markdown": [
       "`inverse_fourier_transform`: a SymPy function. The SymPy documentation can be found through: http://docs.sympy.org/latest/search.html?q=inverse_fourier_transform\n"
      ],
      "text/plain": [
       "`inverse_fourier_transform`: a SymPy function. The SymPy documentation can be found through: http://docs.sympy.org/latest/search.html?q=inverse_fourier_transform\n"
      ]
     },
     "execution_count": 16,
     "metadata": {},
     "output_type": "execute_result"
    }
   ],
   "source": [
    "?inverse_fourier_transform"
   ]
  },
  {
   "cell_type": "code",
   "execution_count": null,
   "metadata": {
    "collapsed": true
   },
   "outputs": [],
   "source": []
  }
 ],
 "metadata": {
  "anaconda-cloud": {},
  "kernelspec": {
   "display_name": "Julia 0.5.0",
   "language": "julia",
   "name": "julia-0.5"
  },
  "language_info": {
   "file_extension": ".jl",
   "mimetype": "application/julia",
   "name": "julia",
   "version": "0.5.0"
  }
 },
 "nbformat": 4,
 "nbformat_minor": 0
}
