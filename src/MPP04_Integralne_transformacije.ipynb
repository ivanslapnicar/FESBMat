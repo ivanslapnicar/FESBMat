{
 "cells": [
  {
   "cell_type": "markdown",
   "metadata": {},
   "source": [
    "# Integralne transformacije\n",
    "\n",
    "Integralna transformacija funkcije $f(t)$ na intervalu $[a,b]$ je\n",
    "\n",
    "$$\n",
    "F(s)=\\int_a^b K(s,t)f(t) \\, dt.\n",
    "$$\n",
    "\n",
    "Funkcija $K(s,t)$ je __jezgra__ transformacije.\n",
    "\n",
    "## Laplace-ova transformacija\n",
    "\n",
    "Za $a=0$, $b=\\infty$ i $K(s,t)=e^{-st}$ imamo __Laplace-ovu__ transformaciju.\n",
    "\n",
    "Funkcije koje su \n",
    "* po djelovima neprekidne na svakom konačnom intervalu i \n",
    "* koje su __eksponencijalnog rasta__, odnosno za koje postoje konstante  $M>0$ i $a>0$ takve da je\n",
    "\n",
    "$$\n",
    "|f(t)|\\leq Me^{at}\n",
    "$$\n",
    "\n",
    "sigurno imaju Laplace-ovu transformaciju.\n",
    "\n",
    "> Ovo su __dovoljni uvjeti__, ali ne i __nužni__. \n",
    "\n",
    "Laplace-ova transformacija je __linearni operator__.\n",
    "\n",
    "Lapleaceova transformacija ima __inverz__: ako je \n",
    "\n",
    "$$\n",
    "(\\mathcal{L}u)(s)\\equiv U(s)=\\int_0^\\infty u(t)e^{-st}\\, dt,\n",
    "$$\n",
    "\n",
    "tada je \n",
    "\n",
    "$$\n",
    "\\mathcal{L}^{-1}U(s)=u(t)=\\frac{1}{2\\pi i}\\int_{a-i\\infty}^{a+i\\infty} U(s)e^{st}\\, ds.\n",
    "$$\n",
    "\n",
    "Parovi transformacija i njihovih inverza se nalaze u tablicama.\n",
    "\n",
    "Posebno su važne formule za deriviranje:\n",
    "\n",
    "$$\n",
    "(\\mathcal{L}'u)(s)=sU(s)-u(0), \\\\\n",
    "(\\mathcal{L}''u)(s)=s^2U(s)-su(0)-u'(0).\n",
    "$$"
   ]
  },
  {
   "cell_type": "markdown",
   "metadata": {},
   "source": [
    "### Primjer - problem početnih vrijednosti\n",
    "\n",
    "Riješimo problem\n",
    "\n",
    "$$\n",
    "u''+u=0, \\quad t>0, \\quad u(0)=0, \\quad u'(0)=1.\n",
    "$$\n",
    "\n",
    "Laplaceova transformacija cijele jednadžbe daje\n",
    "\n",
    "$$\n",
    "s^2U(s)-su(0)-u'(0)+U(s)=0.\n",
    "$$\n",
    "\n",
    "Uvrštavanje početnih uvjeta daje\n",
    "\n",
    "$$\n",
    "s^2U(s)-su(0)-1+U(s)=0\n",
    "$$\n",
    "\n",
    "pa je \n",
    "\n",
    "$$\n",
    "U(s)=\\frac{1}{1+s^2}.\n",
    "$$\n",
    "\n",
    "Primjena inverzne transformacije daje rješenje\n",
    "\n",
    "$$\n",
    "u(t)=\\mathcal{L}^{-1}\\bigg(\\frac{1}{1+s^2}\\bigg)= \\sin t.\n",
    "$$"
   ]
  },
  {
   "cell_type": "code",
   "execution_count": 4,
   "metadata": {
    "collapsed": true
   },
   "outputs": [],
   "source": [
    "using SymPy"
   ]
  },
  {
   "cell_type": "code",
   "execution_count": 7,
   "metadata": {
    "collapsed": false
   },
   "outputs": [
    {
     "data": {
      "text/plain": [
       "(x,t,s)"
      ]
     },
     "execution_count": 7,
     "metadata": {},
     "output_type": "execute_result"
    }
   ],
   "source": [
    "x,t,s=symbols(\"x t s\")"
   ]
  },
  {
   "cell_type": "code",
   "execution_count": 6,
   "metadata": {
    "collapsed": false
   },
   "outputs": [
    {
     "data": {
      "text/latex": [
       "$$\\sin{\\left (t \\right )} \\theta\\left(t\\right)$$"
      ],
      "text/plain": [
       "sin(t)⋅Heaviside(t)"
      ]
     },
     "execution_count": 6,
     "metadata": {},
     "output_type": "execute_result"
    }
   ],
   "source": [
    "u=inverse_laplace_transform(1/(1+s^2),s,t)"
   ]
  },
  {
   "cell_type": "markdown",
   "metadata": {},
   "source": [
    "### Primjer difuzije\n",
    "\n",
    "(Vidi [J. Logan, Applied Mathematics, 2nd ed., str. 226][JL97])\n",
    "\n",
    "[JL97]: #1 \"J. Logan, 'Applied mathematics', 2nd ed., Wiley, New York, 1997\"\n",
    "\n",
    "\n",
    "Neka $u(x,t)$ daje koncentraciju kemikalije na polu-beskonačnom prostoru $x>0$ koji je u početku bez kemikalije.\n",
    "Neka za vremena $t>0$ na rubu $x=0$ dajemo jediničnu koncentraciju kemikalije i želimo znati kako se kamikalija širi. \n",
    "Nake je difzujska konstanata jednaka $1$.\n",
    "\n",
    "Matematički model je\n",
    "\n",
    "$$\n",
    "u_t-u_xx=0, \\quad x>0, t>0, \\\\\n",
    "u(x,0)=0, \\quad x>0, \\\\\n",
    "u(0,t)=1, \\quad t>0, \\\\\n",
    "u(x,t) \\ \\textrm{omeđena}.\n",
    "$$\n",
    "\n",
    "Laplaceova transformacija jednadžbe po vremenu $t$, pri čemu se prostorna varijabla $x$ ne transformira, daje\n",
    "diferencijalnu jednadžbu po varijabli $x$\n",
    "\n",
    "$$\n",
    "sU(x,s)-u(x,0)-U_{xx}(x,s)=0.\n",
    "$$\n",
    "\n",
    "Počeni uvjet daje jednadžbu\n",
    "\n",
    "$$\n",
    "sU(x,s)-U_{xx}(x,s)=0.\n",
    "$$\n"
   ]
  },
  {
   "cell_type": "code",
   "execution_count": 15,
   "metadata": {
    "collapsed": false
   },
   "outputs": [
    {
     "data": {
      "text/latex": [
       "$$s U{\\left (x \\right )} - \\frac{d^{2}}{d x^{2}}  U{\\left (x \\right )} = 0$$"
      ],
      "text/plain": [
       "           2          \n",
       "          d           \n",
       "s⋅U(x) - ───(U(x)) = 0\n",
       "           2          \n",
       "         dx           "
      ]
     },
     "execution_count": 15,
     "metadata": {},
     "output_type": "execute_result"
    }
   ],
   "source": [
    "s=symbols(\"s\",real=true,positive=true)\n",
    "U = symbols(\"U\", cls=SymFunction)\n",
    "diffeq = Eq(s*U(x)-diff(U(x), x, 2), 0)"
   ]
  },
  {
   "cell_type": "code",
   "execution_count": 16,
   "metadata": {
    "collapsed": false
   },
   "outputs": [
    {
     "data": {
      "text/latex": [
       "$$U{\\left (x \\right )} = C_{1} e^{- \\sqrt{s} x} + C_{2} e^{\\sqrt{s} x}$$"
      ],
      "text/plain": [
       "              ___           ___  \n",
       "           -╲╱ s ⋅x       ╲╱ s ⋅x\n",
       "U(x) = C₁⋅ℯ         + C₂⋅ℯ       "
      ]
     },
     "execution_count": 16,
     "metadata": {},
     "output_type": "execute_result"
    }
   ],
   "source": [
    "ex = dsolve(diffeq, U(x))"
   ]
  },
  {
   "cell_type": "code",
   "execution_count": 3,
   "metadata": {
    "collapsed": false
   },
   "outputs": [
    {
     "data": {
      "text/plain": [
       "(2/s^3,0,true)"
      ]
     },
     "execution_count": 3,
     "metadata": {},
     "output_type": "execute_result"
    }
   ],
   "source": [
    "f=laplace_transform(t^2,t,s)"
   ]
  },
  {
   "cell_type": "code",
   "execution_count": 4,
   "metadata": {
    "collapsed": false
   },
   "outputs": [
    {
     "data": {
      "text/latex": [
       "$$t^{2} \\theta\\left(t\\right)$$"
      ],
      "text/plain": [
       " 2             \n",
       "t ⋅Heaviside(t)"
      ]
     },
     "execution_count": 4,
     "metadata": {},
     "output_type": "execute_result"
    }
   ],
   "source": [
    "inverse_laplace_transform(f[1],s,t)"
   ]
  },
  {
   "cell_type": "code",
   "execution_count": 5,
   "metadata": {
    "collapsed": false
   },
   "outputs": [
    {
     "data": {
      "text/plain": [
       "(1/s,0,true)"
      ]
     },
     "execution_count": 5,
     "metadata": {},
     "output_type": "execute_result"
    }
   ],
   "source": [
    "laplace_transform(t^0,t,s)"
   ]
  },
  {
   "cell_type": "code",
   "execution_count": 6,
   "metadata": {
    "collapsed": false
   },
   "outputs": [
    {
     "data": {
      "text/plain": [
       "(s/(s^2 - 1),1,true)"
      ]
     },
     "execution_count": 6,
     "metadata": {},
     "output_type": "execute_result"
    }
   ],
   "source": [
    "laplace_transform(cosh(t),t,s)"
   ]
  },
  {
   "cell_type": "code",
   "execution_count": 7,
   "metadata": {
    "collapsed": false
   },
   "outputs": [
    {
     "data": {
      "text/latex": [
       "$$\\mathcal{L}_{t}\\left[\\sinh{\\left (t \\right )}\\right]\\left(s\\right)$$"
      ],
      "text/plain": [
       "LaplaceTransform(sinh(t), t, s)"
      ]
     },
     "execution_count": 7,
     "metadata": {},
     "output_type": "execute_result"
    }
   ],
   "source": [
    "# Zasto ovo ne radi ??\n",
    "laplace_transform(sinh(t),t,s)"
   ]
  },
  {
   "cell_type": "code",
   "execution_count": 8,
   "metadata": {
    "collapsed": false
   },
   "outputs": [
    {
     "data": {
      "text/plain": [
       "(1/(s^2 - 1),1,true)"
      ]
     },
     "execution_count": 8,
     "metadata": {},
     "output_type": "execute_result"
    }
   ],
   "source": [
    "laplace_transform(e^t/2-e^(-t)/2,t,s)"
   ]
  },
  {
   "cell_type": "code",
   "execution_count": 9,
   "metadata": {
    "collapsed": false,
    "scrolled": true
   },
   "outputs": [
    {
     "name": "stdout",
     "output_type": "stream",
     "text": [
      "                         @syms   1360 bytes  Function : (anonymous function)\n",
      "                         @vars   1410 bytes  Function : (anonymous function)\n",
      "                           And   1641 bytes  Function : SymPy.And\n",
      "                             C   2974 bytes  Function : SymPy.C\n",
      "                    Derivative   1598 bytes  Function : SymPy.Derivative\n",
      "                         Dummy   1645 bytes  Function : SymPy.Dummy\n",
      "                             E     16 bytes  SymPy.Sym : E\n",
      "                            EC   1639 bytes  Function : SymPy.EC\n",
      "                            ET   1639 bytes  Function : SymPy.ET\n",
      "                            Eq   1639 bytes  Function : SymPy.Eq\n",
      "                      Equality   1651 bytes  Function : SymPy.Equality\n",
      "                    Equivalent   1655 bytes  Function : SymPy.Equivalent\n",
      "                            Ge   1639 bytes  Function : SymPy.Ge\n",
      "                   GreaterThan   1657 bytes  Function : SymPy.GreaterThan\n",
      "                            Gt   1639 bytes  Function : SymPy.Gt\n",
      "                             H   2974 bytes  Function : SymPy.H\n",
      "                            IM     16 bytes  SymPy.Sym : I\n",
      "                       Implies   1649 bytes  Function : SymPy.Implies\n",
      "                      Integral   1651 bytes  Function : SymPy.Integral\n",
      "                            LC   1639 bytes  Function : SymPy.LC\n",
      "              LDLdecomposition   3034 bytes  Function : SymPy.LDLdecomposition\n",
      "            LDLdecompositionFF   3042 bytes  Function : SymPy.LDLdecompositionFF\n",
      "                      LDLsolve   3002 bytes  Function : SymPy.LDLsolve\n",
      "                            LM   1639 bytes  Function : SymPy.LM\n",
      "                            LT   1639 bytes  Function : SymPy.LT\n",
      "        LUdecomposition_Simple   3058 bytes  Function : SymPy.LUdecomposition_S…\n",
      "                       LUsolve   2998 bytes  Function : SymPy.LUsolve\n",
      "                            Le   1639 bytes  Function : SymPy.Le\n",
      "                      LessThan   1651 bytes  Function : SymPy.LessThan\n",
      "                            Lt   1639 bytes  Function : SymPy.Lt\n",
      "                           Max    536 bytes  Function : SymPy.Max\n",
      "                           Min    536 bytes  Function : SymPy.Min\n",
      "                           Mod   1641 bytes  Function : SymPy.Mod\n",
      "                             N   5965 bytes  Function : SymPy.N\n",
      "                          Nand   1643 bytes  Function : SymPy.Nand\n",
      "                            Ne   1639 bytes  Function : SymPy.Ne\n",
      "                           Nor   1641 bytes  Function : SymPy.Nor\n",
      "                           Not   1641 bytes  Function : SymPy.Not\n",
      "                             O   1637 bytes  Function : SymPy.O\n",
      "                            Or   1639 bytes  Function : SymPy.Or\n",
      "                         Order   1645 bytes  Function : SymPy.Order\n",
      "                            PI     16 bytes  SymPy.Sym : pi\n",
      "                     PoleError   1653 bytes  Function : SymPy.PoleError\n",
      "                          Poly   1983 bytes  Function : SymPy.Poly\n",
      "                          Prod   1586 bytes  Function : SymPy.Prod\n",
      "               QRdecomposition   3030 bytes  Function : SymPy.QRdecomposition\n",
      "                       QRsolve   2998 bytes  Function : SymPy.QRsolve\n",
      "                      Qbounded    586 bytes  Function : SymPy.Qbounded\n",
      "                  Qcommutative    586 bytes  Function : SymPy.Qcommutative\n",
      "                      Qcomplex    586 bytes  Function : SymPy.Qcomplex\n",
      "                         Qeven    586 bytes  Function : SymPy.Qeven\n",
      "                Qextended_real    586 bytes  Function : SymPy.Qextended_real\n",
      "                    Qimaginary    586 bytes  Function : SymPy.Qimaginary\n",
      "                Qinfinitesimal    586 bytes  Function : SymPy.Qinfinitesimal\n",
      "                      Qinteger    586 bytes  Function : SymPy.Qinteger\n",
      "                   Qirrational    586 bytes  Function : SymPy.Qirrational\n",
      "                     Qnegative    586 bytes  Function : SymPy.Qnegative\n",
      "                      Qnonzero    586 bytes  Function : SymPy.Qnonzero\n",
      "                          Qodd    586 bytes  Function : SymPy.Qodd\n",
      "                     Qpositive    586 bytes  Function : SymPy.Qpositive\n",
      "                        Qprime    586 bytes  Function : SymPy.Qprime\n",
      "                         Qreal    586 bytes  Function : SymPy.Qreal\n",
      "                           Rel   1641 bytes  Function : SymPy.Rel\n",
      "             StrictGreaterThan   1669 bytes  Function : SymPy.StrictGreaterThan\n",
      "                StrictLessThan   1663 bytes  Function : SymPy.StrictLessThan\n",
      "                           Sum   1641 bytes  Function : SymPy.Sum\n",
      "                           Sym    112 bytes  DataType : SymPy.Sym\n",
      "                   SymFunction    510 bytes  Function : SymPy.SymFunction\n",
      "                     SymMatrix    112 bytes  DataType : SymPy.SymMatrix\n",
      "                         SymPy   1743 KB     Module : SymPy\n",
      "                            TC   1639 bytes  Function : SymPy.TC\n",
      "                    Unequality   1655 bytes  Function : SymPy.Unequality\n",
      "                          Wild   1643 bytes  Function : SymPy.Wild\n",
      "                           Xor   1641 bytes  Function : SymPy.Xor\n",
      "                           Ylm   1584 bytes  Function : SymPy.Ylm\n",
      "                          _str    891 bytes  Function : SymPy._str\n",
      "                    add_ground   1655 bytes  Function : SymPy.add_ground\n",
      "                       adjoint   2998 bytes  Function : SymPy.adjoint\n",
      "                      adjugate   3002 bytes  Function : SymPy.adjugate\n",
      "                    airyaizero   1574 bytes  Function : SymPy.airyaizero\n",
      "                    airybizero   1574 bytes  Function : SymPy.airybizero\n",
      "                    all_coeffs   1655 bytes  Function : SymPy.all_coeffs\n",
      "                    all_monoms   1655 bytes  Function : SymPy.all_monoms\n",
      "                     all_roots   1653 bytes  Function : SymPy.all_roots\n",
      "                     all_terms   1653 bytes  Function : SymPy.all_terms\n",
      "                        angerj   1566 bytes  Function : SymPy.angerj\n",
      "                         apart   1645 bytes  Function : SymPy.apart\n",
      "                      appellf1   1568 bytes  Function : SymPy.appellf1\n",
      "                      appellf2   1568 bytes  Function : SymPy.appellf2\n",
      "                      appellf3   1568 bytes  Function : SymPy.appellf3\n",
      "                      appellf4   1568 bytes  Function : SymPy.appellf4\n",
      "                           arg   1641 bytes  Function : SymPy.arg\n",
      "                          args    502 bytes  Function : SymPy.args\n",
      "                      args_cnc   1651 bytes  Function : SymPy.args_cnc\n",
      "                  as_coeff_Add   1659 bytes  Function : SymPy.as_coeff_Add\n",
      "                  as_coeff_Mul   1659 bytes  Function : SymPy.as_coeff_Mul\n",
      "                  as_coeff_add   1659 bytes  Function : SymPy.as_coeff_add\n",
      "             as_coeff_exponent   1669 bytes  Function : SymPy.as_coeff_exponent\n",
      "              as_coeff_factors   1667 bytes  Function : SymPy.as_coeff_factors\n",
      "                  as_coeff_mul   1659 bytes  Function : SymPy.as_coeff_mul\n",
      "                as_coeff_terms   1663 bytes  Function : SymPy.as_coeff_terms\n",
      "                as_coefficient   1663 bytes  Function : SymPy.as_coefficient\n",
      "           as_coefficient_dict   1673 bytes  Function : SymPy.as_coefficient_di…\n",
      "          as_content_primitive   1675 bytes  Function : SymPy.as_content_primit…\n",
      "                       as_dict   1649 bytes  Function : SymPy.as_dict\n",
      "                       as_expr   1649 bytes  Function : SymPy.as_expr\n",
      "                as_independent   1663 bytes  Function : SymPy.as_independent\n",
      "               as_leading_term   1665 bytes  Function : SymPy.as_leading_term\n",
      "                       as_list   1649 bytes  Function : SymPy.as_list\n",
      "                as_numer_denom   1663 bytes  Function : SymPy.as_numer_denom\n",
      "            as_ordered_factors   1671 bytes  Function : SymPy.as_ordered_factors\n",
      "              as_ordered_terms   1667 bytes  Function : SymPy.as_ordered_terms\n",
      "                       as_poly   1649 bytes  Function : SymPy.as_poly\n",
      "               as_powers_dicts   1665 bytes  Function : SymPy.as_powers_dicts\n",
      "                  as_real_imag   1659 bytes  Function : SymPy.as_real_imag\n",
      "                        as_sum   1647 bytes  Function : SymPy.as_sum\n",
      "                      as_terms   1651 bytes  Function : SymPy.as_terms\n",
      "                           ask    564 bytes  Function : SymPy.ask\n",
      "                assoc_legendre   1606 bytes  Function : SymPy.assoc_legendre\n",
      "                  assumptions0    501 bytes  Function : SymPy.assumptions0\n",
      "                         atoms   1645 bytes  Function : SymPy.atoms\n",
      "                       backend   8676 bytes  Function : Plots.backend\n",
      "                           bei   1558 bytes  Function : SymPy.bei\n",
      "                           ber   1558 bytes  Function : SymPy.ber\n",
      "                   besseljzero   1576 bytes  Function : SymPy.besseljzero\n",
      "                    besselsimp   1655 bytes  Function : SymPy.besselsimp\n",
      "                   besselyzero   1576 bytes  Function : SymPy.besselyzero\n",
      "                       bihyper   1566 bytes  Function : SymPy.bihyper\n",
      "         binomial_coefficients   1677 bytes  Function : SymPy.binomial_coeffici…\n",
      "    binomial_coefficients_list   1687 bytes  Function : SymPy.binomial_coeffici…\n",
      "              call_matrix_meth   1961 bytes  Function : SymPy.call_matrix_meth\n",
      "                        cancel   1647 bytes  Function : SymPy.cancel\n",
      "                    chebyshevt   1598 bytes  Function : SymPy.chebyshevt\n",
      "                        chebyt   1566 bytes  Function : SymPy.chebyt\n",
      "                        chebyu   1566 bytes  Function : SymPy.chebyu\n",
      "                      cholesky   3002 bytes  Function : SymPy.cholesky\n",
      "                cholesky_solve   3026 bytes  Function : SymPy.cholesky_solve\n",
      "                  clear_denoms   1659 bytes  Function : SymPy.clear_denoms\n",
      "                         coeff   1645 bytes  Function : SymPy.coeff\n",
      "                        coeffs   1647 bytes  Function : SymPy.coeffs\n",
      "                      cofactor   3002 bytes  Function : SymPy.cofactor\n",
      "                     cofactors   1653 bytes  Function : SymPy.cofactors\n",
      "                       collect     27 KB     Function : collect\n",
      "                      combsimp   1651 bytes  Function : SymPy.combsimp\n",
      "                       compare   1649 bytes  Function : SymPy.compare\n",
      "                compare_pretty   1663 bytes  Function : SymPy.compare_pretty\n",
      "                       compose   1649 bytes  Function : SymPy.compose\n",
      "          compute_leading_term   1675 bytes  Function : SymPy.compute_leading_t…\n",
      "              condition_number    979 bytes  Function : SymPy.condition_number\n",
      "                     conjugate   4475 bytes  Function : SymPy.conjugate\n",
      "              construct_domain   1667 bytes  Function : SymPy.construct_domain\n",
      "                       content   1649 bytes  Function : SymPy.content\n",
      "                   contourplot   4541 bytes  Function : SymPy.contourplot\n",
      "              cosine_transform   1667 bytes  Function : SymPy.cosine_transform\n",
      "      could_extract_minus_sign   1683 bytes  Function : SymPy.could_extract_min…\n",
      "                      coulombc   1570 bytes  Function : SymPy.coulombc\n",
      "                      coulombf   1570 bytes  Function : SymPy.coulombf\n",
      "                      coulombg   1570 bytes  Function : SymPy.coulombg\n",
      "                     count_ops   1653 bytes  Function : SymPy.count_ops\n",
      "                   count_roots   1657 bytes  Function : SymPy.count_roots\n",
      "                           cse   1641 bytes  Function : SymPy.cse\n",
      "                     decompose   1653 bytes  Function : SymPy.decompose\n",
      "                       deflate   1649 bytes  Function : SymPy.deflate\n",
      "                        degree   1647 bytes  Function : SymPy.degree\n",
      "                   degree_list   1657 bytes  Function : SymPy.degree_list\n",
      "                deltaintegrate   1663 bytes  Function : SymPy.deltaintegrate\n",
      "                         denom   1645 bytes  Function : SymPy.denom\n",
      "               diagaonal_solve   3030 bytes  Function : SymPy.diagaonal_solve\n",
      "                   diagonalize   3014 bytes  Function : SymPy.diagonalize\n",
      "                  discriminant   1659 bytes  Function : SymPy.discriminant\n",
      "                 divisor_count   1661 bytes  Function : SymPy.divisor_count\n",
      "                      divisors   1651 bytes  Function : SymPy.divisors\n",
      "                           doc    499 bytes  Function : SymPy.doc\n",
      "                          doit   1643 bytes  Function : SymPy.doit\n",
      "                        dsolve   5444 bytes  Function : SymPy.dsolve\n",
      "                          dual   2986 bytes  Function : SymPy.dual\n",
      "                      dummy_eq   1651 bytes  Function : SymPy.dummy_eq\n",
      "                        equals   1647 bytes  Function : SymPy.equals\n",
      "               euler_maclaurin   1665 bytes  Function : SymPy.euler_maclaurin\n",
      "                         evalf   1579 bytes  Function : SymPy.evalf\n",
      "                       exclude   1649 bytes  Function : SymPy.exclude\n",
      "                        expand   4968 bytes  Function : expand\n",
      "                   expand_func   1657 bytes  Function : SymPy.expand_func\n",
      "                    expand_log   1655 bytes  Function : SymPy.expand_log\n",
      "             expand_power_base   1669 bytes  Function : SymPy.expand_power_base\n",
      "              expand_power_exp   1667 bytes  Function : SymPy.expand_power_exp\n",
      "                   expand_trig   1657 bytes  Function : SymPy.expand_trig\n",
      "                         exquo   1645 bytes  Function : SymPy.exquo\n",
      "            extract_additively   1671 bytes  Function : SymPy.extract_additively\n",
      "         extract_branch_factor   1677 bytes  Function : SymPy.extract_branch_fa…\n",
      "      extract_multiplicatively   1683 bytes  Function : SymPy.extract_multiplic…\n",
      "                        factor   3346 bytes  Function : factor\n",
      "                   factor_list   1657 bytes  Function : SymPy.factor_list\n",
      "                     factorint   1653 bytes  Function : SymPy.factorint\n",
      "             field_isomorphism   1669 bytes  Function : SymPy.field_isomorphism\n",
      "                       flatten   1592 bytes  Function : SymPy.flatten\n",
      "             fourier_transform   1669 bytes  Function : SymPy.fourier_transform\n",
      "                      fraction   1651 bytes  Function : SymPy.fraction\n",
      "                  free_symbols   3366 bytes  Function : SymPy.free_symbols\n",
      "                      gcd_list   1651 bytes  Function : SymPy.gcd_list\n",
      "                         gcdex   1645 bytes  Function : SymPy.gcdex\n",
      "                    gegenbauer   1579 bytes  Function : SymPy.gegenbauer\n",
      "                          getO   1643 bytes  Function : SymPy.getO\n",
      "                          getn   1643 bytes  Function : SymPy.getn\n",
      "                           gff   1641 bytes  Function : SymPy.gff\n",
      "                      gff_list   1651 bytes  Function : SymPy.gff_list\n",
      "                      groebner   1651 bytes  Function : SymPy.groebner\n",
      "                  ground_roots   1659 bytes  Function : SymPy.ground_roots\n",
      "                        gruntz   1647 bytes  Function : SymPy.gruntz\n",
      "                    half_gcdex   1655 bytes  Function : SymPy.half_gcdex\n",
      "                       hankel1   1573 bytes  Function : SymPy.hankel1\n",
      "                       hankel2   1573 bytes  Function : SymPy.hankel2\n",
      "              hankel_transform   1667 bytes  Function : SymPy.hankel_transform\n",
      "                           has   4427 bytes  Function : SymPy.has\n",
      "                       hermite   1573 bytes  Function : SymPy.hermite\n",
      "                       hessian   1052 bytes  Function : SymPy.hessian\n",
      "                      heurisch   1651 bytes  Function : SymPy.heurisch\n",
      "                        horner   1647 bytes  Function : SymPy.horner\n",
      "                        hyp0f1   1564 bytes  Function : SymPy.hyp0f1\n",
      "                        hyp1f1   1564 bytes  Function : SymPy.hyp1f1\n",
      "                        hyp1f2   1564 bytes  Function : SymPy.hyp1f2\n",
      "                        hyp2f0   1564 bytes  Function : SymPy.hyp2f0\n",
      "                        hyp2f1   1564 bytes  Function : SymPy.hyp2f1\n",
      "                        hyp2f2   1564 bytes  Function : SymPy.hyp2f2\n",
      "                        hyp2f3   1564 bytes  Function : SymPy.hyp2f3\n",
      "                        hyp3f2   1564 bytes  Function : SymPy.hyp3f2\n",
      "                         hyper    707 bytes  Function : SymPy.hyper\n",
      "                       hyper2d   1566 bytes  Function : SymPy.hyper2d\n",
      "                     hypercomb   1570 bytes  Function : SymPy.hypercomb\n",
      "                   hyperexpand   1657 bytes  Function : SymPy.hyperexpand\n",
      "                     hypersimp   1653 bytes  Function : SymPy.hypersimp\n",
      "                        hyperu   1566 bytes  Function : SymPy.hyperu\n",
      "                          igcd   1643 bytes  Function : SymPy.igcd\n",
      "                          ilcm   1643 bytes  Function : SymPy.ilcm\n",
      "               integer_nthroot   1665 bytes  Function : SymPy.integer_nthroot\n",
      "                     integrate   6074 bytes  Function : SymPy.integrate\n",
      "                   interpolate   1657 bytes  Function : SymPy.interpolate\n",
      "                     intervals   1653 bytes  Function : SymPy.intervals\n",
      "                       inverse    944 bytes  Function : SymPy.inverse\n",
      "                   inverse_ADJ   3014 bytes  Function : SymPy.inverse_ADJ\n",
      "                    inverse_GE   3010 bytes  Function : SymPy.inverse_GE\n",
      "                    inverse_LU   3010 bytes  Function : SymPy.inverse_LU\n",
      "      inverse_cosine_transform   1683 bytes  Function : SymPy.inverse_cosine_tr…\n",
      "     inverse_fourier_transform   1685 bytes  Function : SymPy.inverse_fourier_t…\n",
      "      inverse_hankel_transform   1683 bytes  Function : SymPy.inverse_hankel_tr…\n",
      "     inverse_laplace_transform   2473 bytes  Function : SymPy.inverse_laplace_t…\n",
      "      inverse_mellin_transform   1683 bytes  Function : SymPy.inverse_mellin_tr…\n",
      "        inverse_sine_transform   1679 bytes  Function : SymPy.inverse_sine_tran…\n",
      "                        invert   1647 bytes  Function : SymPy.invert\n",
      "             is_anti_symmetric   3038 bytes  Function : SymPy.is_anti_symmetric\n",
      "                is_commutative    501 bytes  Function : SymPy.is_commutative\n",
      "                    is_complex    501 bytes  Function : SymPy.is_complex\n",
      "                   is_constant   1657 bytes  Function : SymPy.is_constant\n",
      "                 is_cyclotomic    501 bytes  Function : SymPy.is_cyclotomic\n",
      "                   is_diagonal   3014 bytes  Function : SymPy.is_diagonal\n",
      "             is_diagonalizable   3038 bytes  Function : SymPy.is_diagonalizable\n",
      "                       is_even    501 bytes  Function : SymPy.is_even\n",
      "                     is_ground    501 bytes  Function : SymPy.is_ground\n",
      "                is_homogeneous    501 bytes  Function : SymPy.is_homogeneous\n",
      "                    is_integer    501 bytes  Function : SymPy.is_integer\n",
      "                is_irreducible    501 bytes  Function : SymPy.is_irreducible\n",
      "                     is_linear    501 bytes  Function : SymPy.is_linear\n",
      "                      is_lower   3002 bytes  Function : SymPy.is_lower\n",
      "           is_lower_hessenberg   3046 bytes  Function : SymPy.is_lower_hessenbe…\n",
      "                      is_monic    501 bytes  Function : SymPy.is_monic\n",
      "                   is_monomial    501 bytes  Function : SymPy.is_monomial\n",
      "               is_multivariate    501 bytes  Function : SymPy.is_multivariate\n",
      "                  is_nilpotent   3018 bytes  Function : SymPy.is_nilpotent\n",
      "                     is_number    501 bytes  Function : SymPy.is_number\n",
      "                        is_odd    501 bytes  Function : SymPy.is_odd\n",
      "                        is_one    501 bytes  Function : SymPy.is_one\n",
      "                 is_polynomial   1661 bytes  Function : SymPy.is_polynomial\n",
      "                  is_primitive    501 bytes  Function : SymPy.is_primitive\n",
      "             is_primitive_root   1669 bytes  Function : SymPy.is_primitive_root\n",
      "               is_quad_residue   1665 bytes  Function : SymPy.is_quad_residue\n",
      "                  is_quadratic    501 bytes  Function : SymPy.is_quadratic\n",
      "                   is_rational    501 bytes  Function : SymPy.is_rational\n",
      "          is_rational_function   1675 bytes  Function : SymPy.is_rational_funct…\n",
      "                       is_real    501 bytes  Function : SymPy.is_real\n",
      "                        is_sqf    501 bytes  Function : SymPy.is_sqf\n",
      "                     is_square   3006 bytes  Function : SymPy.is_square\n",
      "                   is_symbolic   3014 bytes  Function : SymPy.is_symbolic\n",
      "                  is_symmetric   3018 bytes  Function : SymPy.is_symmetric\n",
      "                 is_univariate    501 bytes  Function : SymPy.is_univariate\n",
      "                      is_upper   3002 bytes  Function : SymPy.is_upper\n",
      "           is_upper_hessenberg   3046 bytes  Function : SymPy.is_upper_hessenbe…\n",
      "                       is_zero   3403 bytes  Function : SymPy.is_zero\n",
      "           is_zero_dimensional   1673 bytes  Function : SymPy.is_zero_dimension…\n",
      "                       isprime   5414 bytes  Function : isprime\n",
      "                        jacobi   1571 bytes  Function : SymPy.jacobi\n",
      "                 jacobi_symbol   1661 bytes  Function : SymPy.jacobi_symbol\n",
      "                      jacobian    718 bytes  Function : SymPy.jacobian\n",
      "                  jordan_cells   3018 bytes  Function : SymPy.jordan_cells\n",
      "                   jordan_form   3014 bytes  Function : SymPy.jordan_form\n",
      "                        jprint   2226 bytes  Function : SymPy.jprint\n",
      "                           kei   1558 bytes  Function : SymPy.kei\n",
      "                           ker   1558 bytes  Function : SymPy.ker\n",
      "                       l1_norm   1649 bytes  Function : SymPy.l1_norm\n",
      "                      laguerre   1575 bytes  Function : SymPy.laguerre\n",
      "             laplace_transform   2449 bytes  Function : SymPy.laplace_transform\n",
      "                      lcm_list   1651 bytes  Function : SymPy.lcm_list\n",
      "                      leadterm   1651 bytes  Function : SymPy.leadterm\n",
      "                      legendre   1575 bytes  Function : SymPy.legendre\n",
      "               legendre_symbol   1665 bytes  Function : SymPy.legendre_symbol\n",
      "                        legenp   1566 bytes  Function : SymPy.legenp\n",
      "                        legenq   1566 bytes  Function : SymPy.legenq\n",
      "                           lhs   1588 bytes  Function : SymPy.lhs\n",
      "                          lift   1643 bytes  Function : SymPy.lift\n",
      "                         limit   9163 bytes  Function : SymPy.limit\n",
      "                        limits   1647 bytes  Function : SymPy.limits\n",
      "                line_integrate   1663 bytes  Function : SymPy.line_integrate\n",
      "                    logcombine   1655 bytes  Function : SymPy.logcombine\n",
      "                      lommels1   1570 bytes  Function : SymPy.lommels1\n",
      "                      lommels2   1570 bytes  Function : SymPy.lommels2\n",
      "        lower_triangular_solve   3058 bytes  Function : SymPy.lower_triangular_…\n",
      "                         ltrim   1645 bytes  Function : SymPy.ltrim\n",
      "                         match     20 KB     Function : match\n",
      "                      max_norm   1651 bytes  Function : SymPy.max_norm\n",
      "                       meijerg   3745 bytes  Function : SymPy.meijerg\n",
      "              mellin_transform   1667 bytes  Function : SymPy.mellin_transform\n",
      "                       members   1174 bytes  Function : SymPy.members\n",
      "            minimal_polynomial   1671 bytes  Function : SymPy.minimal_polynomial\n",
      "                    minorEntry   3010 bytes  Function : SymPy.minorEntry\n",
      "                   minorMatrix   3014 bytes  Function : SymPy.minorMatrix\n",
      "                       minpoly   1649 bytes  Function : SymPy.minpoly\n",
      "                         monic   1645 bytes  Function : SymPy.monic\n",
      "                        monoms   1647 bytes  Function : SymPy.monoms\n",
      "                    mul_ground   1655 bytes  Function : SymPy.mul_ground\n",
      "      multinomial_coefficients   1683 bytes  Function : SymPy.multinomial_coeff…\n",
      "                  multiplicity   1659 bytes  Function : SymPy.multiplicity\n",
      "                       n_order   1649 bytes  Function : SymPy.n_order\n",
      "                           neg   1641 bytes  Function : SymPy.neg\n",
      "                     nextprime   1653 bytes  Function : SymPy.nextprime\n",
      "                          norm     10 KB     Function : norm\n",
      "                    normalized   3010 bytes  Function : SymPy.normalized\n",
      "                   npartitions   1657 bytes  Function : SymPy.npartitions\n",
      "                        nroots   1647 bytes  Function : SymPy.nroots\n",
      "                     nsimplify   1653 bytes  Function : SymPy.nsimplify\n",
      "                        nsolve   2633 bytes  Function : SymPy.nsolve\n",
      "                           nth   1641 bytes  Function : SymPy.nth\n",
      "          nth_power_roots_poly   1675 bytes  Function : SymPy.nth_power_roots_p…\n",
      "                     nullspace   4876 bytes  Function : nullspace\n",
      "                         numer   1645 bytes  Function : SymPy.numer\n",
      "                   object_meth   1974 bytes  Function : SymPy.object_meth\n",
      "                            oo     16 bytes  SymPy.Sym : oo\n",
      "                parametricplot   1783 bytes  Function : SymPy.parametricplot\n",
      "                          pcfd   1562 bytes  Function : SymPy.pcfd\n",
      "                          pcfu   1562 bytes  Function : SymPy.pcfu\n",
      "                          pcfv   1562 bytes  Function : SymPy.pcfv\n",
      "                          pcfw   1562 bytes  Function : SymPy.pcfw\n",
      "                          pdiv   1643 bytes  Function : SymPy.pdiv\n",
      "                           per   1641 bytes  Function : SymPy.per\n",
      "                 perfect_power   1661 bytes  Function : SymPy.perfect_power\n",
      "                   permuteBkwd   3014 bytes  Function : SymPy.permuteBkwd\n",
      "                    permuteFwd   3010 bytes  Function : SymPy.permuteFwd\n",
      "                        pexquo   1647 bytes  Function : SymPy.pexquo\n",
      "                     piecewise   1115 bytes  Function : SymPy.piecewise\n",
      "                          plot     12 KB     Function : Plots.plot\n",
      "                         plot!     17 KB     Function : Plots.plot!\n",
      "                   pollard_pm1   1657 bytes  Function : SymPy.pollard_pm1\n",
      "                   pollard_rho   1657 bytes  Function : SymPy.pollard_rho\n",
      "                          poly   1643 bytes  Function : SymPy.poly\n",
      "                poly_from_expr   1663 bytes  Function : SymPy.poly_from_expr\n",
      "                       polydiv   1585 bytes  Function : SymPy.polydiv\n",
      "                    polydivrem   1591 bytes  Function : SymPy.polydivrem\n",
      "                       polyrem   1585 bytes  Function : SymPy.polyrem\n",
      "                     polyroots   1589 bytes  Function : SymPy.polyroots\n",
      "                        posify   1647 bytes  Function : SymPy.posify\n",
      "                     powdenest   1653 bytes  Function : SymPy.powdenest\n",
      "                       powsimp   1649 bytes  Function : SymPy.powsimp\n",
      "                        pprint   1580 bytes  Function : SymPy.pprint\n",
      "                          pquo   1643 bytes  Function : SymPy.pquo\n",
      "                          prem   1643 bytes  Function : SymPy.prem\n",
      "                     prevprime   1653 bytes  Function : SymPy.prevprime\n",
      "                         prime   1645 bytes  Function : SymPy.prime\n",
      "                  primefactors   1659 bytes  Function : SymPy.primefactors\n",
      "                       primepi   1649 bytes  Function : SymPy.primepi\n",
      "                    primerange   1655 bytes  Function : SymPy.primerange\n",
      "                     primitive   1653 bytes  Function : SymPy.primitive\n",
      "             primitive_element   1669 bytes  Function : SymPy.primitive_element\n",
      "                     primorial   1653 bytes  Function : SymPy.primorial\n",
      "                 print_nonzero   3022 bytes  Function : SymPy.print_nonzero\n",
      "                           quo   1641 bytes  Function : SymPy.quo\n",
      "                       radsimp   1649 bytes  Function : SymPy.radsimp\n",
      "              rat_clear_denoms   1667 bytes  Function : SymPy.rat_clear_denoms\n",
      "                        ratint   1647 bytes  Function : SymPy.ratint\n",
      "                       ratsimp   1649 bytes  Function : SymPy.ratsimp\n",
      "                      rcollect   1651 bytes  Function : SymPy.rcollect\n",
      "                            re   1639 bytes  Function : SymPy.re\n",
      "                    real_roots   1655 bytes  Function : SymPy.real_roots\n",
      "                       reduced   1649 bytes  Function : SymPy.reduced\n",
      "                        refine    597 bytes  Function : SymPy.refine\n",
      "                   refine_root   1657 bytes  Function : SymPy.refine_root\n",
      "                       removeO   1649 bytes  Function : SymPy.removeO\n",
      "                       residue   1649 bytes  Function : SymPy.residue\n",
      "                     resultant   1653 bytes  Function : SymPy.resultant\n",
      "                       retract   1649 bytes  Function : SymPy.retract\n",
      "                       rewrite   1649 bytes  Function : SymPy.rewrite\n",
      "                           rhs   1588 bytes  Function : SymPy.rhs\n",
      "                          root   1643 bytes  Function : SymPy.root\n",
      "                          rref   1957 bytes  Function : SymPy.rref\n",
      "                   satisfiable   1657 bytes  Function : SymPy.satisfiable\n",
      "                      scorergi   1570 bytes  Function : SymPy.scorergi\n",
      "                      scorerhi   1570 bytes  Function : SymPy.scorerhi\n",
      "                      separate   1594 bytes  Function : SymPy.separate\n",
      "                  separatevars   1659 bytes  Function : SymPy.separatevars\n",
      "                        series   1647 bytes  Function : SymPy.series\n",
      "                    set_domain   1655 bytes  Function : SymPy.set_domain\n",
      "                   set_modulus   1657 bytes  Function : SymPy.set_modulus\n",
      "                         sieve   1645 bytes  Function : SymPy.sieve\n",
      "                          sign   8946 bytes  Function : sign\n",
      "                      simplify   1651 bytes  Function : SymPy.simplify\n",
      "                sine_transform   1663 bytes  Function : SymPy.sine_transform\n",
      "               singular_values   3030 bytes  Function : SymPy.singular_values\n",
      "                         solve   4518 bytes  Function : SymPy.solve\n",
      "             solve_poly_system   1669 bytes  Function : SymPy.solve_poly_system\n",
      "                      sort_key   1651 bytes  Function : SymPy.sort_key\n",
      "                     spherharm   1572 bytes  Function : SymPy.spherharm\n",
      "                           sqf   1641 bytes  Function : SymPy.sqf\n",
      "                      sqf_list   1651 bytes  Function : SymPy.sqf_list\n",
      "                      sqf_norm   1651 bytes  Function : SymPy.sqf_norm\n",
      "                      sqf_part   1651 bytes  Function : SymPy.sqf_part\n",
      "                           sqr   1641 bytes  Function : SymPy.sqr\n",
      "                    sqrtdenest   1655 bytes  Function : SymPy.sqrtdenest\n",
      "                        square   1852 bytes  Function : SymPy.square\n",
      "                       struveh   1566 bytes  Function : SymPy.struveh\n",
      "                       struvel   1566 bytes  Function : SymPy.struvel\n",
      "                         sturm   1645 bytes  Function : SymPy.sturm\n",
      "                    sub_ground   1655 bytes  Function : SymPy.sub_ground\n",
      "                 subresultants   1661 bytes  Function : SymPy.subresultants\n",
      "                          subs   9541 bytes  Function : SymPy.subs\n",
      "                     summation   1653 bytes  Function : SymPy.summation\n",
      "                       symbols   2131 bytes  Function : SymPy.symbols\n",
      "                    symmetrize   1655 bytes  Function : SymPy.symmetrize\n",
      "                         sympy      8 bytes  PyCall.PyObject : PyObject <module…\n",
      "                    sympy_meth   9559 bytes  Function : SymPy.sympy_meth\n",
      "                sympy_plotting      0 bytes  Void : nothing\n",
      "                     terms_gcd   1653 bytes  Function : SymPy.terms_gcd\n",
      "                      to_exact   1651 bytes  Function : SymPy.to_exact\n",
      "                      to_field   1651 bytes  Function : SymPy.to_field\n",
      "               to_number_field   1665 bytes  Function : SymPy.to_number_field\n",
      "                       to_ring   1649 bytes  Function : SymPy.to_ring\n",
      "                      together   1651 bytes  Function : SymPy.together\n",
      "                  total_degree   1659 bytes  Function : SymPy.total_degree\n",
      "                       totient   1649 bytes  Function : SymPy.totient\n",
      "                      trailing   1651 bytes  Function : SymPy.trailing\n",
      "                     transform   1653 bytes  Function : SymPy.transform\n",
      "                 trigintegrate   1661 bytes  Function : SymPy.trigintegrate\n",
      "                      trigsimp   1651 bytes  Function : SymPy.trigsimp\n",
      "                         trunc     56 KB     Function : trunc\n",
      "                         unify   1645 bytes  Function : SymPy.unify\n",
      "        upper_triangular_solve   3058 bytes  Function : SymPy.upper_triangular_…\n",
      "                     variables   1653 bytes  Function : SymPy.variables\n",
      "                          vech   2986 bytes  Function : SymPy.vech\n",
      "                         viete   1645 bytes  Function : SymPy.viete\n",
      "                        webere   1566 bytes  Function : SymPy.webere\n",
      "                         whitm   1564 bytes  Function : SymPy.whitm\n",
      "                         whitw   1564 bytes  Function : SymPy.whitw\n",
      "                      xreplace   1651 bytes  Function : SymPy.xreplace\n",
      "                             ¬    482 bytes  Function : SymPy.¬\n",
      "                             ∧    509 bytes  Function : SymPy.∧\n",
      "                             ∨    509 bytes  Function : SymPy.∨\n",
      "                             ≪   1358 bytes  Function : SymPy.≪\n",
      "                             ≫   1370 bytes  Function : SymPy.≫\n",
      "                            ⩵   1370 bytes  Function : SymPy.⩵\n"
     ]
    }
   ],
   "source": [
    "whos(SymPy)"
   ]
  },
  {
   "cell_type": "code",
   "execution_count": null,
   "metadata": {
    "collapsed": true
   },
   "outputs": [],
   "source": []
  }
 ],
 "metadata": {
  "kernelspec": {
   "display_name": "Julia 0.4.0",
   "language": "julia",
   "name": "julia-0.4"
  },
  "language_info": {
   "file_extension": ".jl",
   "mimetype": "application/julia",
   "name": "julia",
   "version": "0.4.0"
  }
 },
 "nbformat": 4,
 "nbformat_minor": 0
}
