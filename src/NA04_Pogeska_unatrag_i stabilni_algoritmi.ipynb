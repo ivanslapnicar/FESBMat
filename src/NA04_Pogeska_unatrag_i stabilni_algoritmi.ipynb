{
 "cells": [
  {
   "cell_type": "markdown",
   "metadata": {},
   "source": [
    "# Teorija smetnje, pogreška unatrag i stabilni algoritmi"
   ]
  },
  {
   "cell_type": "markdown",
   "metadata": {},
   "source": [
    "## Teorija smetnje\n",
    "------\n",
    "\n",
    "### Koliko se promijeni rezulat u ovisnosti o promjeni ulaznih podataka\n",
    "\n",
    "Ako žeimo izračunati vijednost funkcije $f(x)$ ze neki ulazni podatak $x$, želimo ocijeniti \n",
    "apsolutnu pogrešku\n",
    "$$\n",
    "\\| f(x+\\delta x)-f(x)\\|\n",
    "$$\n",
    "u odnosu na promjenu ulaznog podatka za $\\delta x$ i relativnu pogrešku \n",
    "$$\n",
    "\\frac{\\| f(x+\\delta x)-f(x)\\|}{\\| f(x) \\|}\n",
    "$$\n",
    "u odnosu na relativnu promjenu ulaznih podataka $\\displaystyle\\frac{\\delta x}{x}$.\n",
    "\n",
    "Vrijedi\n",
    "$$\n",
    "\\| f(x+\\delta x)-f(x)\\| \\leq \\frac{\\| f(x+\\delta x)-f(x)\\|}{\\| \\delta x \\|} \\|\\delta x\\| \\equiv \\kappa \\|\\delta x\\|.\n",
    "$$\n",
    "Veličina $\\kappa$, koju zovemo _uvjetovanost_ ili _kondicija_, a koja podsjeća na derivaciju, kazuje koliko se najviše uveća smetnja u ulaznim podacima.\n",
    "\n",
    "Slično, u izrazu\n",
    "$$\n",
    "\\frac{\\| f(x+\\delta x)-f(x)\\|}{\\| f(x) \\|}\\leq \\frac{\\| f(x+\\delta x)-f(x)\\|\\cdot  \\|x\\| }{\\|\\delta x\\| \\cdot\\| f(x)\\|}\n",
    "\\cdot \\frac{\\|\\delta x\\|}{\\|x\\|} \\equiv \\kappa \\frac{\\|\\delta x\\|}{\\|x\\|}\n",
    "$$\n",
    "nam $\\kappa$ kazuje koliko se najviše relativno uveća relativna smetnja u ulaznim podacima."
   ]
  },
  {
   "cell_type": "markdown",
   "metadata": {},
   "source": [
    "## Pogreška unatrag\n",
    "-------------\n",
    "\n",
    "Neka vrijednost funkcije $f(x)$ računamo pomoću algoritma $\\mathrm{alg(x)}$.\n",
    "Pogreška algoritma je \n",
    "$$\n",
    "\\|\\mathrm{alg(x)}-f(x)\\|,\n",
    "$$\n",
    "a relativna pogreška je \n",
    "$$\n",
    "\\frac{\\| \\mathrm{alg}(x)-f(x)\\|}{\\| f(x) \\|}.\n",
    "$$\n",
    "Ove pogreške je teško ili čak nemoguće procijeniti direktno. Stoga se promatra _pogreška unatrag_,\n",
    "$$\n",
    "\\mathrm{alg}(x)=f(x+\\delta x),\n",
    "$$\n",
    "odnosno\n",
    "> izračunata vrijenost funkcije za ulazni podatak $x$ jednaka je točnoj vrijednosti funkcije u smetanom ulaznom podatku za neku (nepoznatu) smetnju. \n"
   ]
  },
  {
   "cell_type": "markdown",
   "metadata": {},
   "source": [
    "## Stabilni algoritmi\n",
    "-------------\n",
    "\n",
    "Algoritam je _stabilan_ ako uvijek vrijedi \n",
    "$$\n",
    "\\mathrm{alg}(x)=f(x+\\delta x)\n",
    "$$\n",
    "za neki mali $ \\delta x$."
   ]
  },
  {
   "cell_type": "code",
   "execution_count": null,
   "metadata": {
    "collapsed": true
   },
   "outputs": [],
   "source": []
  }
 ],
 "metadata": {
  "kernelspec": {
   "display_name": "Julia 0.4.0",
   "language": "julia",
   "name": "julia-0.4"
  },
  "language_info": {
   "file_extension": ".jl",
   "mimetype": "application/julia",
   "name": "julia",
   "version": "0.4.0"
  }
 },
 "nbformat": 4,
 "nbformat_minor": 0
}
