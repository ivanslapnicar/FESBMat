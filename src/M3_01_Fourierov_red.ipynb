{
 "metadata": {
  "language": "Julia",
  "name": "",
  "signature": "sha256:951275b0cfb87e82dc115fc5b104ce59f85dcbee057091fac83bbb123dbe7f8b"
 },
 "nbformat": 3,
 "nbformat_minor": 0,
 "worksheets": [
  {
   "cells": [
    {
     "cell_type": "markdown",
     "metadata": {},
     "source": [
      "# Fourierov red\n",
      "\n",
      "## Teorem o konvergenciji \n",
      "\n",
      "Neka je $f$ po djelovima glatka periodi\u010dna funkcija s periodom $T=x_1-x_0$ koja na intervalu $[x_0,x_1]$ zadovoljava __Dirichletove uvjete:__\n",
      "\n",
      "* $f$ je po djelovima neprekidna i njezini prekidi su prve vrste\n",
      "* $f$ je ili monotona ili ima kona\u010dno strogih ekstrema \n",
      "\n",
      "Tada Fourierov red\n",
      "$$\n",
      "S(x)=\\frac{a_0}{2}+\\sum_{n=1}^\\infty a_n \\cos \\frac{2 n \\pi}{T}x + b_n \\sin \\frac{2 n \\pi}{T}x,\n",
      "$$\n",
      "gdje je\n",
      "$$\n",
      "a_0=\\frac{2}{T} \\int_{x_0}^{x_1} f(x) \\, dx, \\\\\n",
      "a_n=\\frac{2}{T} \\int_{x_0}^{x_1} f(x) \\cos \\frac{2 n \\pi}{T}x \\,dx,\\\\\n",
      "b_n=\\frac{2}{T} \\int_{x_0}^{x_1} f(x) \\sin \\frac{2 n \\pi}{T}x \\,dx,\n",
      "$$\n",
      "konvergira u svakoj to\u010dki $x\\in [x_0,x_1]$ i vrijedi \n",
      "$$\n",
      "S(x)=\\begin{cases}\n",
      "     f(x), \\textrm{ ako je } f \\textrm{ neprekinuta u to\u010dki } x,\\\\\n",
      "     \\frac{1}{2} [f(x-0)+f(x+0)], \\textrm{ ina\u010de.}\n",
      "     \\end{cases}\n",
      "     $$"
     ]
    },
    {
     "cell_type": "markdown",
     "metadata": {},
     "source": [
      "## Simboli\u010dko ra\u010dunanje \n",
      "`SymPy` je paket za simboli\u010dko ra\u010dunanje preuzet iz `Python`-a, `Interact` je paket za jednostavno manipuliranje parametrima, a `Winston` je jedan od paketa za crtanje."
     ]
    },
    {
     "cell_type": "code",
     "collapsed": false,
     "input": [
      "using SymPy\n",
      "using Interact\n",
      "using Winston"
     ],
     "language": "python",
     "metadata": {},
     "outputs": [
      {
       "html": [
        "<script charset=\"utf-8\">(function ($, undefined) {\n",
        "\n",
        "    function createElem(tag, attr, content) {\n",
        "\t// TODO: remove jQuery dependency\n",
        "\tvar el = $(\"<\" + tag + \"/>\").attr(attr);\n",
        "\tif (content) {\n",
        "\t    el.append(content);\n",
        "\t}\n",
        "\treturn el[0];\n",
        "    }\n",
        "\n",
        "    // A widget must expose an id field which identifies it to the backend,\n",
        "    // an elem attribute which is will be added to the DOM, and\n",
        "    // a getState() method which returns the value to be sent to the backend\n",
        "    // a sendUpdate() method which sends its current value to the backend\n",
        "    var Widget = {\n",
        "\tid: undefined,\n",
        "\telem: undefined,\n",
        "\tlabel: undefined,\n",
        "\tgetState: function () {\n",
        "\t    return this.elem.value;\n",
        "\t},\n",
        "\tsendUpdate: undefined\n",
        "    };\n",
        "\n",
        "    var Slider = function (typ, id, init) {\n",
        "\tvar attr = { type:  \"range\",\n",
        "\t\t     value: init.value,\n",
        "\t\t     min:   init.min,\n",
        "\t\t     max:   init.max,\n",
        "\t\t     step:  init.step },\n",
        "\t    elem = createElem(\"input\", attr),\n",
        "\t    self = this;\n",
        "\n",
        "\telem.onchange = function () {\n",
        "\t    self.sendUpdate();\n",
        "\t}\n",
        "\n",
        "\tthis.id = id;\n",
        "\tthis.elem = elem;\n",
        "\tthis.label = init.label;\n",
        "\n",
        "\tInputWidgets.commInitializer(this); // Initialize communication\n",
        "    }\n",
        "    Slider.prototype = Widget;\n",
        "\n",
        "    var Checkbox = function (typ, id, init) {\n",
        "\tvar attr = { type: \"checkbox\",\n",
        "\t\t     checked: init.value },\n",
        "\t    elem = createElem(\"input\", attr),\n",
        "\t    self = this;\n",
        "\n",
        "\tthis.getState = function () {\n",
        "\t    return elem.checked;\n",
        "\t}\n",
        "\telem.onchange = function () {\n",
        "\t    self.sendUpdate();\n",
        "\t}\n",
        "\n",
        "\tthis.id = id;\n",
        "\tthis.elem = elem;\n",
        "\tthis.label = init.label;\n",
        "\n",
        "\tInputWidgets.commInitializer(this);\n",
        "    }\n",
        "    Checkbox.prototype = Widget;\n",
        "\n",
        "    var Button = function (typ, id, init) {\n",
        "\tvar attr = { type:    \"button\",\n",
        "\t\t     value:   init.label },\n",
        "\t    elem = createElem(\"input\", attr),\n",
        "\t    self = this;\n",
        "\tthis.getState = function () {\n",
        "\t    return null;\n",
        "\t}\n",
        "\telem.onclick = function () {\n",
        "\t    self.sendUpdate();\n",
        "\t}\n",
        "\n",
        "\tthis.id = id;\n",
        "\tthis.elem = elem;\n",
        "\tthis.label = init.label;\n",
        "\n",
        "\tInputWidgets.commInitializer(this);\n",
        "    }\n",
        "    Button.prototype = Widget;\n",
        "\n",
        "    var Text = function (typ, id, init) {\n",
        "\tvar attr = { type:  \"text\",\n",
        "\t\t     placeholder: init.label,\n",
        "\t\t     value: init.value },\n",
        "\t    elem = createElem(\"input\", attr),\n",
        "\t    self = this;\n",
        "\tthis.getState = function () {\n",
        "\t    return elem.value;\n",
        "\t}\n",
        "\telem.onkeyup = function () {\n",
        "\t    self.sendUpdate();\n",
        "\t}\n",
        "\n",
        "\tthis.id = id;\n",
        "\tthis.elem = elem;\n",
        "\tthis.label = init.label;\n",
        "\n",
        "\tInputWidgets.commInitializer(this);\n",
        "    }\n",
        "    Text.prototype = Widget;\n",
        "\n",
        "    var Textarea = function (typ, id, init) {\n",
        "\tvar attr = { placeholder: init.label },\n",
        "\t    elem = createElem(\"textarea\", attr, init.value),\n",
        "\t    self = this;\n",
        "\tthis.getState = function () {\n",
        "\t    return elem.value;\n",
        "\t}\n",
        "\telem.onchange = function () {\n",
        "\t    self.sendUpdate();\n",
        "\t}\n",
        "\n",
        "\tthis.id = id;\n",
        "\tthis.elem = elem;\n",
        "\tthis.label = init.label;\n",
        "\n",
        "\tInputWidgets.commInitializer(this);\n",
        "    }\n",
        "    Textarea.prototype = Widget;\n",
        "\n",
        "    // RadioButtons\n",
        "    // Dropdown\n",
        "    // HTML\n",
        "    // Latex\n",
        "\n",
        "    var InputWidgets = {\n",
        "\tSlider: Slider,\n",
        "\tCheckbox: Checkbox,\n",
        "\tButton: Button,\n",
        "\tText: Text,\n",
        "\tTextarea: Textarea,\n",
        "\tdebug: false,\n",
        "\tlog: function () {\n",
        "\t    if (InputWidgets.debug) {\n",
        "\t\tconsole.log.apply(console, arguments);\n",
        "\t    }\n",
        "\t},\n",
        "\t// a central way to initalize communication\n",
        "\t// for widgets.\n",
        "\tcommInitializer: function (widget) {\n",
        "\t    widget.sendUpdate = function () {};\n",
        "\t}\n",
        "    };\n",
        "\n",
        "    window.InputWidgets = InputWidgets;\n",
        "\n",
        "})(jQuery, undefined);\n",
        "</script>"
       ],
       "metadata": {},
       "output_type": "display_data"
      },
      {
       "html": [
        "<script charset=\"utf-8\">(function (IPython, $, _, MathJax, Widgets) {\n",
        "    $.event.special.destroyed = {\n",
        "\tremove: function(o) {\n",
        "\t    if (o.handler) {\n",
        "\t\to.handler.apply(this, arguments)\n",
        "\t    }\n",
        "\t}\n",
        "    }\n",
        "\n",
        "    var redrawValue = function (container, type, val) {\n",
        "\tvar selector = $(\"<div/>\");\n",
        "\tvar oa = new IPython.OutputArea(_.extend(selector, {\n",
        "\t    selector: selector,\n",
        "\t    prompt_area: true,\n",
        "\t    events: IPython.events,\n",
        "\t    keyboard_manager: IPython.keyboard_manager\n",
        "\t})); // Hack to work with IPython 2.1.0\n",
        "\n",
        "\tswitch (type) {\n",
        "\tcase \"image/png\":\n",
        "            var _src = 'data:' + type + ';base64,' + val;\n",
        "\t    $(container).find(\"img\").attr('src', _src);\n",
        "\t    break;\n",
        "\tdefault:\n",
        "\t    var toinsert = IPython.OutputArea.append_map[type].apply(\n",
        "\t\toa, [val, {}, selector]\n",
        "\t    );\n",
        "\t    $(container).empty().append(toinsert.contents());\n",
        "\t    selector.remove();\n",
        "\t}\n",
        "\tif (type === \"text/latex\" && MathJax) {\n",
        "\t    MathJax.Hub.Queue([\"Typeset\", MathJax.Hub, toinsert.get(0)]);\n",
        "\t}\n",
        "    }\n",
        "\n",
        "\n",
        "    $(document).ready(function() {\n",
        "\tWidgets.debug = false; // log messages etc in console.\n",
        "\tfunction initComm(evt, data) {\n",
        "\t    var comm_manager = data.kernel.comm_manager;\n",
        "\t    comm_manager.register_target(\"Signal\", function (comm) {\n",
        "\t\tcomm.on_msg(function (msg) {\n",
        "\t\t    //Widgets.log(\"message received\", msg);\n",
        "\t\t    var val = msg.content.data.value;\n",
        "\t\t    $(\".signal-\" + comm.comm_id).each(function() {\n",
        "\t\t\tvar type = $(this).data(\"type\");\n",
        "\t\t\tif (val[type]) {\n",
        "\t\t\t    redrawValue(this, type, val[type], type);\n",
        "\t\t\t}\n",
        "\t\t    });\n",
        "\t\t    delete val;\n",
        "\t\t    delete msg.content.data.value;\n",
        "\t\t});\n",
        "\t    });\n",
        "\n",
        "\t    // coordingate with Comm and redraw Signals\n",
        "\t    // XXX: Test using Reactive here to improve performance\n",
        "\t    $([IPython.events]).on(\n",
        "\t\t'output_appended.OutputArea', function (event, type, value, md, toinsert) {\n",
        "\t\t    if (md && md.reactive) {\n",
        "\t\t\t// console.log(md.comm_id);\n",
        "\t\t\ttoinsert.addClass(\"signal-\" + md.comm_id);\n",
        "\t\t\ttoinsert.data(\"type\", type);\n",
        "\t\t\t// Signal back indicating the mimetype required\n",
        "\t\t\tvar comm_manager = IPython.notebook.kernel.comm_manager;\n",
        "\t\t\tvar comm = comm_manager.comms[md.comm_id];\n",
        "\t\t\tcomm.send({action: \"subscribe_mime\",\n",
        "\t\t\t\t   mime: type});\n",
        "\t\t\ttoinsert.bind(\"destroyed\", function() {\n",
        "\t\t\t    comm.send({action: \"unsubscribe_mime\",\n",
        "\t\t\t\t       mime: type});\n",
        "\t\t\t});\n",
        "\t\t    }\n",
        "\t    });\n",
        "\n",
        "\t    // Set up communication for Widgets\n",
        "\t    Widgets.commInitializer = function (widget) {\n",
        "\t\tvar comm = comm_manager.new_comm(\n",
        "\t\t    \"InputWidget\", {widget_id: widget.id}\n",
        "\t\t);\n",
        "\t\twidget.sendUpdate = function () {\n",
        "\t\t    // `this` is a widget here.\n",
        "\t\t    // TODO: I have a feeling there's some\n",
        "\t\t    //       IPython bookkeeping to be done here.\n",
        "\t\t    // Widgets.log(\"State changed\", this, this.getState());\n",
        "\t\t    comm.send({value: this.getState()});\n",
        "\t\t}\n",
        "\t    };\n",
        "\t}\n",
        "\n",
        "\ttry {\n",
        "\t    // try to initialize right away. otherwise, wait on the status_started event.\n",
        "\t    initComm(undefined, IPython.notebook);\n",
        "\t} catch (e) {\n",
        "\t    $([IPython.events]).on('status_started.Kernel', initComm);\n",
        "\t}\n",
        "    });\n",
        "})(IPython, jQuery, _, MathJax, InputWidgets);\n",
        "</script>"
       ],
       "metadata": {},
       "output_type": "display_data"
      }
     ],
     "prompt_number": 1
    },
    {
     "cell_type": "markdown",
     "metadata": {},
     "source": [
      "Definirajmo simboli\u010dku varijablu $x$, simboli\u010dku cjelobrojnu (integer) varijablu $n$, i granice intervala $x_0$ i $x_1$. "
     ]
    },
    {
     "cell_type": "code",
     "collapsed": false,
     "input": [
      "x=Sym(\"x\")\n",
      "n=symbols(\"n\",integer=true)\n",
      "x_0=Sym(\"x_0\")\n",
      "x_1=Sym(\"x_1\")\n",
      "T=Sym(\"T\")"
     ],
     "language": "python",
     "metadata": {},
     "outputs": [
      {
       "latex": [
        "$$T$$"
       ],
       "metadata": {},
       "output_type": "pyout",
       "prompt_number": 180,
       "text": [
        "T"
       ]
      }
     ],
     "prompt_number": 180
    },
    {
     "cell_type": "markdown",
     "metadata": {},
     "source": [
      "### Definiranje koeficijenata"
     ]
    },
    {
     "cell_type": "code",
     "collapsed": false,
     "input": [
      "a(n)=2*integrate(f(x)*cos(2*PI*n*x/T),(x,x_0,x_1))/T\n",
      "b(n)=2*integrate(f(x)*sin(2*PI*n*x/T),(x,x_0,x_1))/T"
     ],
     "language": "python",
     "metadata": {},
     "outputs": [
      {
       "metadata": {},
       "output_type": "pyout",
       "prompt_number": 206,
       "text": [
        "b (generic function with 1 method)"
       ]
      }
     ],
     "prompt_number": 206
    },
    {
     "cell_type": "markdown",
     "metadata": {},
     "source": [
      "### Zadavanje funkcije $f(x)$ i granica intervala $[x_0,x_1]$\n",
      "\n",
      "Potrebno je koristiti predefiniranu simboli\u010dku varijablu `PI` za razliku od varijabli `pi` ili $\\pi$\n",
      "kojima je definirana `Float64` vrijednost."
     ]
    },
    {
     "cell_type": "code",
     "collapsed": false,
     "input": [
      "f(x)=x\n",
      "x_0=-PI\n",
      "x_1=PI\n",
      "T=x_1-x_0"
     ],
     "language": "python",
     "metadata": {},
     "outputs": [
      {
       "latex": [
        "$$2 \\pi$$"
       ],
       "metadata": {},
       "output_type": "pyout",
       "prompt_number": 210,
       "text": [
        "2*pi"
       ]
      }
     ],
     "prompt_number": 210
    },
    {
     "cell_type": "code",
     "collapsed": false,
     "input": [
      "a(n)"
     ],
     "language": "python",
     "metadata": {},
     "outputs": [
      {
       "latex": [
        "$$\\frac{1}{\\pi} \\begin{cases} \\frac{2 \\pi^{3}}{3} & \\text{for}\\: n = 0 \\\\\\frac{4 \\pi}{n^{2}} \\left(-1\\right)^{n} & \\text{otherwise} \\end{cases}$$"
       ],
       "metadata": {},
       "output_type": "pyout",
       "prompt_number": 207,
       "text": [
        "/      3              \n",
        "|  2*pi               \n",
        "|  -----     for n = 0\n",
        "|    3                \n",
        "|                     \n",
        "<      n              \n",
        "|4*(-1) *pi           \n",
        "|----------  otherwise\n",
        "|     2               \n",
        "|    n                \n",
        "\\                     \n",
        "----------------------\n",
        "          pi          "
       ]
      }
     ],
     "prompt_number": 207
    },
    {
     "cell_type": "markdown",
     "metadata": {},
     "source": [
      "### Ra\u010dunanje i crtanje sume\n",
      "Trebaju nam i numeri\u010dke granice."
     ]
    },
    {
     "cell_type": "code",
     "collapsed": false,
     "input": [
      "x0=N(x_0)\n",
      "x1=N(x_1)\n",
      "@manipulate for K=1:10\n",
      "    S=a(0)/2+sum([a(n)*cos(2*PI*n*x/T)+b(n)*sin(2*PI*n*x/T) for n=1:K])\n",
      "    plot(f,x0,x1)\n",
      "    oplot(S,x0,x1,\"r\")\n",
      "    title(\"Funkcija i \"*string(K)*\" \u010dlanova reda\")\n",
      "end"
     ],
     "language": "python",
     "metadata": {},
     "outputs": [
      {
       "html": [],
       "metadata": {},
       "output_type": "display_data",
       "text": [
        "Slider{Int64}([Input{Int64}] 5,\"K\",5,1:10)"
       ]
      },
      {
       "metadata": {
        "comm_id": "e79ff769-640c-47ca-ab89-9b9930832d28",
        "reactive": true
       },
       "output_type": "pyout",
       "png": "[encoded data removed]",
       "prompt_number": 208,
       "text": [
        "FramedPlot(...)"
       ]
      }
     ],
     "prompt_number": 208
    },
    {
     "cell_type": "markdown",
     "metadata": {},
     "source": [
      "## Kori\u0161tenje funkcije `fourier`\n",
      "\n",
      "Primjer kori\u0161tenja `python` paketa `mpmath` za ra\u010dunanje prvih 5 koeficijenata zadane funkcije je sljede\u0107i (vidi [SymPy dokumentaciju](http://docs.sympy.org/dev/modules/mpmath/calculus/approximation.html#fourier-series-fourier-fourierval)): \n",
      "```\n",
      ">>> from sympy.mpmath import *\n",
      ">>> mp.dps = 15; mp.pretty= True\n",
      ">>> c,s=fourier(lambda x: x, [-pi,pi],5)\n",
      ">>> nprint(c)\n",
      "[0.0, 0.0, 0.0, 0.0, 0.0, 0.0]\n",
      ">>> nprint(s)\n",
      "[0.0, 2.0, -1.0, 0.666667, -0.5, 0.4]\n",
      "```\n",
      "\n",
      "_Alternativno, Julia v0.3.8:_ potrebno je prethodno instalirati pakete `python-mpmath` ili `python3-mpmath`, te pozvati\n",
      "```\n",
      "using PyCall\n",
      "@pyimport mpmath\n",
      "c,s=mpmath.fourier(f,[-pi,pi],5)\n",
      "```"
     ]
    },
    {
     "cell_type": "code",
     "collapsed": false,
     "input": [
      "c,s=sympy.mpmath[:fourier](x -> x^2,[-pi,pi],5)"
     ],
     "language": "python",
     "metadata": {},
     "outputs": [
      {
       "ename": "LoadError",
       "evalue": "PyError (:PyObject_Call) <type 'exceptions.RuntimeError'>\nRuntimeError(\"Julia exception: MethodError(*,(PyObject mpf('-1.88495559215387586959878'),PyObject mpf('-1.88495559215387586959878')))\",)\n  File \"/usr/lib/python2.7/site-packages/sympy/mpmath/calculus/approximation.py\", line 218, in fourier\n    an = 2*ctx.quadgl(lambda t: f(t)*ctx.cos(m*t), interval)/L\n  File \"/usr/lib/python2.7/site-packages/sympy/mpmath/calculus/quadrature.py\", line 810, in quadgl\n    return ctx.quad(*args, **kwargs)\n  File \"/usr/lib/python2.7/site-packages/sympy/mpmath/calculus/quadrature.py\", line 743, in quad\n    v, err = rule.summation(f, points[0], prec, epsilon, m, verbose)\n  File \"/usr/lib/python2.7/site-packages/sympy/mpmath/calculus/quadrature.py\", line 232, in summation\n    results.append(self.sum_next(f, nodes, degree, prec, results, verbose))\n  File \"/usr/lib/python2.7/site-packages/sympy/mpmath/calculus/quadrature.py\", line 254, in sum_next\n    return self.ctx.fdot((w, f(x)) for (x,w) in nodes)\n  File \"/usr/lib/python2.7/site-packages/sympy/mpmath/ctx_mp_python.py\", line 925, in fdot\n    for a, b in A:\n  File \"/usr/lib/python2.7/site-packages/sympy/mpmath/calculus/quadrature.py\", line 254, in <genexpr>\n    return self.ctx.fdot((w, f(x)) for (x,w) in nodes)\n  File \"/usr/lib/python2.7/site-packages/sympy/mpmath/calculus/approximation.py\", line 218, in <lambda>\n    an = 2*ctx.quadgl(lambda t: f(t)*ctx.cos(m*t), interval)/L\n\nwhile loading In[28], in expression starting on line 1",
       "output_type": "pyerr",
       "traceback": [
        "PyError (:PyObject_Call) <type 'exceptions.RuntimeError'>\nRuntimeError(\"Julia exception: MethodError(*,(PyObject mpf('-1.88495559215387586959878'),PyObject mpf('-1.88495559215387586959878')))\",)\n  File \"/usr/lib/python2.7/site-packages/sympy/mpmath/calculus/approximation.py\", line 218, in fourier\n    an = 2*ctx.quadgl(lambda t: f(t)*ctx.cos(m*t), interval)/L\n  File \"/usr/lib/python2.7/site-packages/sympy/mpmath/calculus/quadrature.py\", line 810, in quadgl\n    return ctx.quad(*args, **kwargs)\n  File \"/usr/lib/python2.7/site-packages/sympy/mpmath/calculus/quadrature.py\", line 743, in quad\n    v, err = rule.summation(f, points[0], prec, epsilon, m, verbose)\n  File \"/usr/lib/python2.7/site-packages/sympy/mpmath/calculus/quadrature.py\", line 232, in summation\n    results.append(self.sum_next(f, nodes, degree, prec, results, verbose))\n  File \"/usr/lib/python2.7/site-packages/sympy/mpmath/calculus/quadrature.py\", line 254, in sum_next\n    return self.ctx.fdot((w, f(x)) for (x,w) in nodes)\n  File \"/usr/lib/python2.7/site-packages/sympy/mpmath/ctx_mp_python.py\", line 925, in fdot\n    for a, b in A:\n  File \"/usr/lib/python2.7/site-packages/sympy/mpmath/calculus/quadrature.py\", line 254, in <genexpr>\n    return self.ctx.fdot((w, f(x)) for (x,w) in nodes)\n  File \"/usr/lib/python2.7/site-packages/sympy/mpmath/calculus/approximation.py\", line 218, in <lambda>\n    an = 2*ctx.quadgl(lambda t: f(t)*ctx.cos(m*t), interval)/L\n\nwhile loading In[28], in expression starting on line 1",
        "",
        " in pyerr_check at /home/slap/.julia/v0.3/PyCall/src/exception.jl:60",
        " in pycall at /home/slap/.julia/v0.3/PyCall/src/PyCall.jl:92",
        " in fn at /home/slap/.julia/v0.3/PyCall/src/conversions.jl:188"
       ]
      }
     ],
     "prompt_number": 28
    },
    {
     "cell_type": "code",
     "collapsed": false,
     "input": [
      "@vars x\n",
      "x=symbols(\"x\", real=true)\n",
      "g1=x^2\n",
      "c,s=sympy.mpmath[:fourier](g1,[-pi,pi],5)"
     ],
     "language": "python",
     "metadata": {},
     "outputs": [
      {
       "ename": "LoadError",
       "evalue": "PyError (:PyObject_Call) <type 'exceptions.TypeError'>\nTypeError(\"'PyCall.jlwrap' object is not callable\",)\n  File \"/usr/lib/python2.7/site-packages/sympy/mpmath/calculus/approximation.py\", line 218, in fourier\n    an = 2*ctx.quadgl(lambda t: f(t)*ctx.cos(m*t), interval)/L\n  File \"/usr/lib/python2.7/site-packages/sympy/mpmath/calculus/quadrature.py\", line 810, in quadgl\n    return ctx.quad(*args, **kwargs)\n  File \"/usr/lib/python2.7/site-packages/sympy/mpmath/calculus/quadrature.py\", line 743, in quad\n    v, err = rule.summation(f, points[0], prec, epsilon, m, verbose)\n  File \"/usr/lib/python2.7/site-packages/sympy/mpmath/calculus/quadrature.py\", line 232, in summation\n    results.append(self.sum_next(f, nodes, degree, prec, results, verbose))\n  File \"/usr/lib/python2.7/site-packages/sympy/mpmath/calculus/quadrature.py\", line 254, in sum_next\n    return self.ctx.fdot((w, f(x)) for (x,w) in nodes)\n  File \"/usr/lib/python2.7/site-packages/sympy/mpmath/ctx_mp_python.py\", line 925, in fdot\n    for a, b in A:\n  File \"/usr/lib/python2.7/site-packages/sympy/mpmath/calculus/quadrature.py\", line 254, in <genexpr>\n    return self.ctx.fdot((w, f(x)) for (x,w) in nodes)\n  File \"/usr/lib/python2.7/site-packages/sympy/mpmath/calculus/approximation.py\", line 218, in <lambda>\n    an = 2*ctx.quadgl(lambda t: f(t)*ctx.cos(m*t), interval)/L\n\nwhile loading In[14], in expression starting on line 4",
       "output_type": "pyerr",
       "traceback": [
        "PyError (:PyObject_Call) <type 'exceptions.TypeError'>\nTypeError(\"'PyCall.jlwrap' object is not callable\",)\n  File \"/usr/lib/python2.7/site-packages/sympy/mpmath/calculus/approximation.py\", line 218, in fourier\n    an = 2*ctx.quadgl(lambda t: f(t)*ctx.cos(m*t), interval)/L\n  File \"/usr/lib/python2.7/site-packages/sympy/mpmath/calculus/quadrature.py\", line 810, in quadgl\n    return ctx.quad(*args, **kwargs)\n  File \"/usr/lib/python2.7/site-packages/sympy/mpmath/calculus/quadrature.py\", line 743, in quad\n    v, err = rule.summation(f, points[0], prec, epsilon, m, verbose)\n  File \"/usr/lib/python2.7/site-packages/sympy/mpmath/calculus/quadrature.py\", line 232, in summation\n    results.append(self.sum_next(f, nodes, degree, prec, results, verbose))\n  File \"/usr/lib/python2.7/site-packages/sympy/mpmath/calculus/quadrature.py\", line 254, in sum_next\n    return self.ctx.fdot((w, f(x)) for (x,w) in nodes)\n  File \"/usr/lib/python2.7/site-packages/sympy/mpmath/ctx_mp_python.py\", line 925, in fdot\n    for a, b in A:\n  File \"/usr/lib/python2.7/site-packages/sympy/mpmath/calculus/quadrature.py\", line 254, in <genexpr>\n    return self.ctx.fdot((w, f(x)) for (x,w) in nodes)\n  File \"/usr/lib/python2.7/site-packages/sympy/mpmath/calculus/approximation.py\", line 218, in <lambda>\n    an = 2*ctx.quadgl(lambda t: f(t)*ctx.cos(m*t), interval)/L\n\nwhile loading In[14], in expression starting on line 4",
        "",
        " in pyerr_check at /home/slap/.julia/v0.3/PyCall/src/exception.jl:60",
        " in pycall at /home/slap/.julia/v0.3/PyCall/src/PyCall.jl:92",
        " in fn at /home/slap/.julia/v0.3/PyCall/src/conversions.jl:188"
       ]
      }
     ],
     "prompt_number": 14
    },
    {
     "cell_type": "markdown",
     "metadata": {},
     "source": [
      "U prethodom ra\u010dunu, `c` je polje koeficijenata uz kosinuse, a `s` je polje koeficijenata uz sinuse.\n",
      "Drugim rije\u010dima, \n",
      "$$c[1]=a(0), c[2]=a(1), \\ldots, c[k]=a(k-1),\\ldots \\\\\n",
      "s[1]=b(0)\\equiv 0, s[2]=b(1), \\ldots, s[k]=b(k-1),\\ldots\n",
      "$$ "
     ]
    },
    {
     "cell_type": "code",
     "collapsed": false,
     "input": [
      "c"
     ],
     "language": "python",
     "metadata": {},
     "outputs": [
      {
       "metadata": {},
       "output_type": "pyout",
       "prompt_number": 189,
       "text": [
        "6-element Array{Any,1}:\n",
        " PyObject mpf('0.0')\n",
        " PyObject mpf('0.0')\n",
        " PyObject mpf('0.0')\n",
        " PyObject mpf('0.0')\n",
        " PyObject mpf('0.0')\n",
        " PyObject mpf('0.0')"
       ]
      }
     ],
     "prompt_number": 189
    },
    {
     "cell_type": "code",
     "collapsed": false,
     "input": [
      "s"
     ],
     "language": "python",
     "metadata": {},
     "outputs": [
      {
       "metadata": {},
       "output_type": "pyout",
       "prompt_number": 190,
       "text": [
        "6-element Array{Any,1}:\n",
        " PyObject mpf('0.0')                \n",
        " PyObject mpf('2.0')                \n",
        " PyObject mpf('-1.0')               \n",
        " PyObject mpf('0.66666666666666674')\n",
        " PyObject mpf('-0.5')               \n",
        " PyObject mpf('0.40000000000000002')"
       ]
      }
     ],
     "prompt_number": 190
    },
    {
     "cell_type": "code",
     "collapsed": false,
     "input": [
      "[a(n) for n=0:5]"
     ],
     "language": "python",
     "metadata": {},
     "outputs": [
      {
       "metadata": {},
       "output_type": "pyout",
       "prompt_number": 191,
       "text": [
        "6-element Array{Any,1}:\n",
        " 0\n",
        " 0\n",
        " 0\n",
        " 0\n",
        " 0\n",
        " 0"
       ]
      }
     ],
     "prompt_number": 191
    },
    {
     "cell_type": "code",
     "collapsed": false,
     "input": [
      "[b(n) for n=1:5]"
     ],
     "language": "python",
     "metadata": {},
     "outputs": [
      {
       "metadata": {},
       "output_type": "pyout",
       "prompt_number": 192,
       "text": [
        "5-element Array{Any,1}:\n",
        "    2\n",
        "   -1\n",
        "  2/3\n",
        " -1/2\n",
        "  2/5"
       ]
      }
     ],
     "prompt_number": 192
    },
    {
     "cell_type": "markdown",
     "metadata": {},
     "source": [
      "Alternativno, sve mo\u017eemo spremiti u jedan objekt, `cs`, pri \u010demu je $cs[1]=c$ i $cs[2]=s$, koji se koristi u funkciji `fourierval`:"
     ]
    },
    {
     "cell_type": "code",
     "collapsed": false,
     "input": [
      "cs=sympy.mpmath[:fourier](f,[x0,x1],5)"
     ],
     "language": "python",
     "metadata": {},
     "outputs": [
      {
       "metadata": {},
       "output_type": "pyout",
       "prompt_number": 193,
       "text": [
        "({PyObject mpf('0.0'),PyObject mpf('0.0'),PyObject mpf('0.0'),PyObject mpf('0.0'),PyObject mpf('0.0'),PyObject mpf('0.0')},{PyObject mpf('0.0'),PyObject mpf('2.0'),PyObject mpf('-1.0'),PyObject mpf('0.66666666666666674'),PyObject mpf('-0.5'),PyObject mpf('0.40000000000000002')})"
       ]
      }
     ],
     "prompt_number": 193
    },
    {
     "cell_type": "code",
     "collapsed": false,
     "input": [
      "cs[1].==c, cs[2].==s"
     ],
     "language": "python",
     "metadata": {},
     "outputs": [
      {
       "metadata": {},
       "output_type": "pyout",
       "prompt_number": 194,
       "text": [
        "(Bool[true,true,true,true,true,true],Bool[true,true,true,true,true,true])"
       ]
      }
     ],
     "prompt_number": 194
    },
    {
     "cell_type": "markdown",
     "metadata": {},
     "source": [
      "### Ra\u010dunanje aproksimacije i crtanje"
     ]
    },
    {
     "cell_type": "code",
     "collapsed": false,
     "input": [
      "X = linspace(x0,x1)\n",
      "css=Float64[sympy.mpmath[:fourierval](cs,[x0,x1],x) for x in X]"
     ],
     "language": "python",
     "metadata": {},
     "outputs": [
      {
       "metadata": {},
       "output_type": "pyout",
       "prompt_number": 196,
       "text": [
        "100-element Array{Float64,1}:\n",
        " -1.22465e-15\n",
        " -0.629995   \n",
        " -1.23237    \n",
        " -1.78146    \n",
        " -2.25537    \n",
        " -2.63743    \n",
        " -2.91726    \n",
        " -3.09132    \n",
        " -3.16285    \n",
        " -3.14136    \n",
        " -3.04156    \n",
        " -2.88194    \n",
        " -2.68312    \n",
        "  \u22ee          \n",
        "  2.88194    \n",
        "  3.04156    \n",
        "  3.14136    \n",
        "  3.16285    \n",
        "  3.09132    \n",
        "  2.91726    \n",
        "  2.63743    \n",
        "  2.25537    \n",
        "  1.78146    \n",
        "  1.23237    \n",
        "  0.629995   \n",
        "  1.22465e-15"
       ]
      }
     ],
     "prompt_number": 196
    },
    {
     "cell_type": "code",
     "collapsed": false,
     "input": [
      "plot(f,x0,x1,X,css)"
     ],
     "language": "python",
     "metadata": {},
     "outputs": [
      {
       "metadata": {},
       "output_type": "pyout",
       "png": "[encoded data removed]",
       "prompt_number": 197,
       "text": [
        "FramedPlot(...)"
       ]
      }
     ],
     "prompt_number": 197
    },
    {
     "cell_type": "markdown",
     "metadata": {},
     "source": [
      "### Interaktivno ra\u010dunanje i crtanje"
     ]
    },
    {
     "cell_type": "code",
     "collapsed": false,
     "input": [
      "@manipulate for K=1:20\n",
      "    cs=sympy.mpmath[:fourier](f,[x0,x1],K)\n",
      "    css=Float64[sympy.mpmath[:fourierval](cs,[x0,x1],x) for x in X]\n",
      "    plot(f,x0,x1,X,css)\n",
      "    title(\"Funkcija i \"*string(K)*\" \u010dlanova reda\")\n",
      "end"
     ],
     "language": "python",
     "metadata": {},
     "outputs": [
      {
       "html": [],
       "metadata": {},
       "output_type": "display_data",
       "text": [
        "Slider{Int64}([Input{Int64}] 10,\"K\",10,1:20)"
       ]
      },
      {
       "metadata": {
        "comm_id": "a46fe064-3b5d-4613-8277-eac421d2693e",
        "reactive": true
       },
       "output_type": "pyout",
       "png": "[encoded data removed]",
       "prompt_number": 199,
       "text": [
        "FramedPlot(...)"
       ]
      }
     ],
     "prompt_number": 199
    },
    {
     "cell_type": "markdown",
     "metadata": {},
     "source": [
      "## Numeri\u010dka integracija\n",
      "Fourierove koeficijente \u010demo izra\u010dunati _numeri\u010dkom integracijom_ (vidi [Numeri\u010dko integriranje](http://www.fesb.hr/mat2/)) koriste\u0107i Julia naredbu [quadgk](http://docs.julialang.org/en/latest/stdlib/math/?highlight=quadgk#Base.quadgk).\n",
      "\n",
      "Ovaj dio je izra\u0111en prema bilje\u017enici [lecture-2.ipynb](http://nbviewer.ipython.org/url/math.mit.edu/~stevenj/18.303/lecture-2.ipynb) [Stevena Johnsona](http://math.mit.edu/~stevenj/) izra\u0111enoj za predmet [18.303](http://math.mit.edu/~stevenj/18.303/).\n",
      "\n",
      "Definirajmo funkcije `sinecoef` i `coscoef` koje numeri\u010dki ra\u010dunaju koeficijente. Parametar `abstol` je toleranca numeri\u010dke integracije: \u017eelimo da je gre\u0161ka mala u odnosu na $\\sqrt{\\int_{x_0}^{x_1} |f(x)|^2 dx}$."
     ]
    },
    {
     "cell_type": "code",
     "collapsed": false,
     "input": [
      "Tf=N(T)\n",
      "sinecoef(f, m, x0, x1, Tf) = 2 * quadgk(x -> f(x) * sin(2*m*\u03c0*x/Tf)/Tf, x0,x1, abstol=1e-8 * sqrt(quadgk(x->abs2(f(x)),x0,x1)[1]))[1]\n",
      "coscoef(f, m, x0, x1, Tf) = 2 * quadgk(x -> f(x) * cos(2*m*\u03c0*x/Tf)/Tf, x0,x1, abstol=1e-8 * sqrt(quadgk(x->abs2(f(x)),x0,x1)[1]))[1]\n",
      "\n",
      "# i druga funkcija koja ra\u010duna na vektoru prirodnih brojeva\n",
      "sinecoef(f, M::AbstractVector,x0,x1,Tf) = Float64[sinecoef(f,m,x0,x1,Tf) for m in M]\n",
      "coscoef(f, M::AbstractVector,x0,x1,Tf) = Float64[coscoef(f,m,x0,x1,Tf) for m in M]"
     ],
     "language": "python",
     "metadata": {},
     "outputs": [
      {
       "metadata": {},
       "output_type": "pyout",
       "prompt_number": 201,
       "text": [
        "coscoef (generic function with 2 methods)"
       ]
      }
     ],
     "prompt_number": 201
    },
    {
     "cell_type": "code",
     "collapsed": false,
     "input": [
      "# First, define a function to evaluate N terms of the sine series, given the coefficients b\n",
      "function fouriersum(a, b, x, T)\n",
      "    f = a[1]/2\n",
      "    for n = 1:length(b)\n",
      "        f += a[n+1]* cos(2*n*\u03c0*x/T) + b[n] * sin(2*n*\u03c0*x/T)\n",
      "    end\n",
      "    return f\n",
      "end\n",
      "fouriersum(a, b, X::AbstractVector, T) = Float64[fouriersum(a, b,x,T) for x in X]"
     ],
     "language": "python",
     "metadata": {},
     "outputs": [
      {
       "metadata": {},
       "output_type": "pyout",
       "prompt_number": 202,
       "text": [
        "fouriersum (generic function with 2 methods)"
       ]
      }
     ],
     "prompt_number": 202
    },
    {
     "cell_type": "code",
     "collapsed": false,
     "input": [
      "# Uzmimo vi\u0161e to\u010daka (ina\u010de \"nestane\" Gibbsov efekt!!)\n",
      "X=linspace(x0,x1,1000)\n",
      "@manipulate for n=1:2:99\n",
      "    a = coscoef(f, 0:n, x0, x1, Tf)\n",
      "    b = sinecoef(f, 1:n, x0, x1, Tf)\n",
      "    plot(f,x0,x1,\"b\",X, fouriersum(a, b, X, Tf), \"r-\")\n",
      "    # xlabel(L\"$x$\")\n",
      "    # legend([\"exact f\", \"$n-term sine series\"])\n",
      "    # title(\"Funkcija i \"*string(N)*\" \u010dlanova reda\")\n",
      "end"
     ],
     "language": "python",
     "metadata": {},
     "outputs": [
      {
       "html": [],
       "metadata": {},
       "output_type": "display_data",
       "text": [
        "Slider{Int64}([Input{Int64}] 49,\"n\",49,1:2:99)"
       ]
      },
      {
       "metadata": {
        "comm_id": "016d0400-2c58-45a1-9a0e-d715b6ffd937",
        "reactive": true
       },
       "output_type": "pyout",
       "png": "[encoded data removed]",
       "prompt_number": 203,
       "text": [
        "FramedPlot(...)"
       ]
      }
     ],
     "prompt_number": 203
    },
    {
     "cell_type": "markdown",
     "metadata": {},
     "source": [
      "## Primjeri"
     ]
    },
    {
     "cell_type": "code",
     "collapsed": false,
     "input": [
      "f(x)=x^2\n",
      "x_0=-1\n",
      "x_1=1\n",
      "T=x_1-x_0"
     ],
     "language": "python",
     "metadata": {},
     "outputs": [
      {
       "metadata": {},
       "output_type": "pyout",
       "prompt_number": 22,
       "text": [
        "2"
       ]
      }
     ],
     "prompt_number": 22
    },
    {
     "cell_type": "code",
     "collapsed": false,
     "input": [
      "a(3)"
     ],
     "language": "python",
     "metadata": {},
     "outputs": [
      {
       "latex": [
        "$$0$$"
       ],
       "metadata": {},
       "output_type": "pyout",
       "prompt_number": 23,
       "text": [
        "0"
       ]
      }
     ],
     "prompt_number": 23
    },
    {
     "cell_type": "code",
     "collapsed": false,
     "input": [
      "f(x)"
     ],
     "language": "python",
     "metadata": {},
     "outputs": [
      {
       "latex": [
        "$$x^{2}$$"
       ],
       "metadata": {},
       "output_type": "pyout",
       "prompt_number": 24,
       "text": [
        " 2\n",
        "x "
       ]
      }
     ],
     "prompt_number": 24
    },
    {
     "cell_type": "code",
     "collapsed": false,
     "input": [
      "a(n)"
     ],
     "language": "python",
     "metadata": {},
     "outputs": [
      {
       "latex": [
        "$$\\begin{cases} \\frac{2}{3} & \\text{for}\\: n = 0 \\\\\\frac{4 \\left(-1\\right)^{n}}{\\pi^{2} n^{2}} & \\text{otherwise} \\end{cases}$$"
       ],
       "metadata": {},
       "output_type": "pyout",
       "prompt_number": 25,
       "text": [
        "/  2/3    for n = 0\n",
        "|                  \n",
        "|      n           \n",
        "<4*(-1)            \n",
        "|-------  otherwise\n",
        "|   2  2           \n",
        "\\ pi *n            "
       ]
      }
     ],
     "prompt_number": 25
    },
    {
     "cell_type": "code",
     "collapsed": false,
     "input": [
      "b(2)"
     ],
     "language": "python",
     "metadata": {},
     "outputs": [
      {
       "latex": [
        "$$- \\frac{1}{\\pi}$$"
       ],
       "metadata": {},
       "output_type": "pyout",
       "prompt_number": 28,
       "text": [
        "-1 \n",
        "---\n",
        " pi"
       ]
      }
     ],
     "prompt_number": 28
    },
    {
     "cell_type": "code",
     "collapsed": false,
     "input": [
      "a"
     ],
     "language": "python",
     "metadata": {},
     "outputs": [
      {
       "metadata": {},
       "output_type": "pyout",
       "prompt_number": 29,
       "text": [
        "a (generic function with 1 method)"
       ]
      }
     ],
     "prompt_number": 29
    },
    {
     "cell_type": "code",
     "collapsed": false,
     "input": [
      "b(n)=2*integrate(f(x)*sin(2*PI*n*x/T),(x,x_0,x_1))/T"
     ],
     "language": "python",
     "metadata": {},
     "outputs": [
      {
       "metadata": {},
       "output_type": "pyout",
       "prompt_number": 30,
       "text": [
        "b (generic function with 1 method)"
       ]
      }
     ],
     "prompt_number": 30
    },
    {
     "cell_type": "code",
     "collapsed": false,
     "input": [
      "x"
     ],
     "language": "python",
     "metadata": {},
     "outputs": [
      {
       "latex": [
        "$$x$$"
       ],
       "metadata": {},
       "output_type": "pyout",
       "prompt_number": 47,
       "text": [
        "x"
       ]
      }
     ],
     "prompt_number": 47
    },
    {
     "cell_type": "code",
     "collapsed": false,
     "input": [
      "x0=float64(x_0)\n",
      "x1=float64(x_1)\n",
      "@manipulate for N=1:10\n",
      "    return S=sum([a(n)*cos(2*PI*n*x/T)+b(n)*sin(2*PI*n*x/T) for n=0:N])\n",
      "    plot(f,x0,x1)\n",
      "    oplot(S,x0,x1,\"r\")\n",
      "    title(\"Funkcija i \"*string(N)*\" \u010dlanova reda\")\n",
      "end"
     ],
     "language": "python",
     "metadata": {},
     "outputs": [
      {
       "html": [],
       "metadata": {},
       "output_type": "display_data",
       "text": [
        "Slider{Int64}([Input{Int64}] 5,\"N\",5,1:10)"
       ]
      },
      {
       "latex": [
        "$$0$$"
       ],
       "metadata": {
        "comm_id": "6a36f27b-7f83-4372-93f1-45ae755c35ce",
        "reactive": true
       },
       "output_type": "pyout",
       "prompt_number": 49,
       "text": [
        "0"
       ]
      }
     ],
     "prompt_number": 49
    },
    {
     "cell_type": "code",
     "collapsed": false,
     "input": [
      "@manipulate for N=1:20\n",
      "    return cs=sympy.mpmath[:fourier](f,[x0,x1],N)\n",
      "    css=Float64[sympy.mpmath[:fourierval](cs,[x0,x1],x) for x in X]\n",
      "    plot(f,x0,x1,X,css)\n",
      "    title(\"Funkcija i \"*string(N)*\" \u010dlanova reda\")\n",
      "end"
     ],
     "language": "python",
     "metadata": {},
     "outputs": [
      {
       "html": [],
       "metadata": {},
       "output_type": "display_data",
       "text": [
        "Slider{Int64}([Input{Int64}] 10,\"N\",10,1:20)"
       ]
      },
      {
       "ename": "LoadError",
       "evalue": "PyError (:PyObject_Call) <type 'exceptions.RuntimeError'>\nRuntimeError(\"Julia exception: MethodError(*,(PyObject mpf('-0.6'),PyObject mpf('-0.6')))\",)\n  File \"/usr/lib/python2.7/site-packages/sympy/mpmath/calculus/approximation.py\", line 218, in fourier\n    an = 2*ctx.quadgl(lambda t: f(t)*ctx.cos(m*t), interval)/L\n  File \"/usr/lib/python2.7/site-packages/sympy/mpmath/calculus/quadrature.py\", line 810, in quadgl\n    return ctx.quad(*args, **kwargs)\n  File \"/usr/lib/python2.7/site-packages/sympy/mpmath/calculus/quadrature.py\", line 743, in quad\n    v, err = rule.summation(f, points[0], prec, epsilon, m, verbose)\n  File \"/usr/lib/python2.7/site-packages/sympy/mpmath/calculus/quadrature.py\", line 232, in summation\n    results.append(self.sum_next(f, nodes, degree, prec, results, verbose))\n  File \"/usr/lib/python2.7/site-packages/sympy/mpmath/calculus/quadrature.py\", line 254, in sum_next\n    return self.ctx.fdot((w, f(x)) for (x,w) in nodes)\n  File \"/usr/lib/python2.7/site-packages/sympy/mpmath/ctx_mp_python.py\", line 925, in fdot\n    for a, b in A:\n  File \"/usr/lib/python2.7/site-packages/sympy/mpmath/calculus/quadrature.py\", line 254, in <genexpr>\n    return self.ctx.fdot((w, f(x)) for (x,w) in nodes)\n  File \"/usr/lib/python2.7/site-packages/sympy/mpmath/calculus/approximation.py\", line 218, in <lambda>\n    an = 2*ctx.quadgl(lambda t: f(t)*ctx.cos(m*t), interval)/L\n\nwhile loading In[35], in expression starting on line 1",
       "output_type": "pyerr",
       "traceback": [
        "PyError (:PyObject_Call) <type 'exceptions.RuntimeError'>\nRuntimeError(\"Julia exception: MethodError(*,(PyObject mpf('-0.6'),PyObject mpf('-0.6')))\",)\n  File \"/usr/lib/python2.7/site-packages/sympy/mpmath/calculus/approximation.py\", line 218, in fourier\n    an = 2*ctx.quadgl(lambda t: f(t)*ctx.cos(m*t), interval)/L\n  File \"/usr/lib/python2.7/site-packages/sympy/mpmath/calculus/quadrature.py\", line 810, in quadgl\n    return ctx.quad(*args, **kwargs)\n  File \"/usr/lib/python2.7/site-packages/sympy/mpmath/calculus/quadrature.py\", line 743, in quad\n    v, err = rule.summation(f, points[0], prec, epsilon, m, verbose)\n  File \"/usr/lib/python2.7/site-packages/sympy/mpmath/calculus/quadrature.py\", line 232, in summation\n    results.append(self.sum_next(f, nodes, degree, prec, results, verbose))\n  File \"/usr/lib/python2.7/site-packages/sympy/mpmath/calculus/quadrature.py\", line 254, in sum_next\n    return self.ctx.fdot((w, f(x)) for (x,w) in nodes)\n  File \"/usr/lib/python2.7/site-packages/sympy/mpmath/ctx_mp_python.py\", line 925, in fdot\n    for a, b in A:\n  File \"/usr/lib/python2.7/site-packages/sympy/mpmath/calculus/quadrature.py\", line 254, in <genexpr>\n    return self.ctx.fdot((w, f(x)) for (x,w) in nodes)\n  File \"/usr/lib/python2.7/site-packages/sympy/mpmath/calculus/approximation.py\", line 218, in <lambda>\n    an = 2*ctx.quadgl(lambda t: f(t)*ctx.cos(m*t), interval)/L\n\nwhile loading In[35], in expression starting on line 1",
        "",
        " in pyerr_check at /home/slap/.julia/v0.3/PyCall/src/exception.jl:60",
        " in pycall at /home/slap/.julia/v0.3/PyCall/src/PyCall.jl:92",
        " in fn at /home/slap/.julia/v0.3/PyCall/src/conversions.jl:188",
        " in anonymous at ./no file:2",
        " in lift at /home/slap/.julia/v0.3/Reactive/src/Reactive.jl:298"
       ]
      }
     ],
     "prompt_number": 35
    },
    {
     "cell_type": "code",
     "collapsed": false,
     "input": [
      "f(x)"
     ],
     "language": "python",
     "metadata": {},
     "outputs": [
      {
       "latex": [
        "$$x^{2}$$"
       ],
       "metadata": {},
       "output_type": "pyout",
       "prompt_number": 37,
       "text": [
        " 2\n",
        "x "
       ]
      }
     ],
     "prompt_number": 37
    },
    {
     "cell_type": "code",
     "collapsed": false,
     "input": [
      "f"
     ],
     "language": "python",
     "metadata": {},
     "outputs": [
      {
       "metadata": {},
       "output_type": "pyout",
       "prompt_number": 38,
       "text": [
        "f (generic function with 1 method)"
       ]
      }
     ],
     "prompt_number": 38
    },
    {
     "cell_type": "code",
     "collapsed": false,
     "input": [
      "f(2)"
     ],
     "language": "python",
     "metadata": {},
     "outputs": [
      {
       "metadata": {},
       "output_type": "pyout",
       "prompt_number": 40,
       "text": [
        "4"
       ]
      }
     ],
     "prompt_number": 40
    },
    {
     "cell_type": "code",
     "collapsed": false,
     "input": [
      "cs=sympy.mpmath[:fourier](f,[x0,x1],1)"
     ],
     "language": "python",
     "metadata": {},
     "outputs": [
      {
       "ename": "LoadError",
       "evalue": "PyError (:PyObject_Call) <type 'exceptions.RuntimeError'>\nRuntimeError(\"Julia exception: MethodError(*,(PyObject mpf('-0.6'),PyObject mpf('-0.6')))\",)\n  File \"/usr/lib/python2.7/site-packages/sympy/mpmath/calculus/approximation.py\", line 218, in fourier\n    an = 2*ctx.quadgl(lambda t: f(t)*ctx.cos(m*t), interval)/L\n  File \"/usr/lib/python2.7/site-packages/sympy/mpmath/calculus/quadrature.py\", line 810, in quadgl\n    return ctx.quad(*args, **kwargs)\n  File \"/usr/lib/python2.7/site-packages/sympy/mpmath/calculus/quadrature.py\", line 743, in quad\n    v, err = rule.summation(f, points[0], prec, epsilon, m, verbose)\n  File \"/usr/lib/python2.7/site-packages/sympy/mpmath/calculus/quadrature.py\", line 232, in summation\n    results.append(self.sum_next(f, nodes, degree, prec, results, verbose))\n  File \"/usr/lib/python2.7/site-packages/sympy/mpmath/calculus/quadrature.py\", line 254, in sum_next\n    return self.ctx.fdot((w, f(x)) for (x,w) in nodes)\n  File \"/usr/lib/python2.7/site-packages/sympy/mpmath/ctx_mp_python.py\", line 925, in fdot\n    for a, b in A:\n  File \"/usr/lib/python2.7/site-packages/sympy/mpmath/calculus/quadrature.py\", line 254, in <genexpr>\n    return self.ctx.fdot((w, f(x)) for (x,w) in nodes)\n  File \"/usr/lib/python2.7/site-packages/sympy/mpmath/calculus/approximation.py\", line 218, in <lambda>\n    an = 2*ctx.quadgl(lambda t: f(t)*ctx.cos(m*t), interval)/L\n\nwhile loading In[41], in expression starting on line 1",
       "output_type": "pyerr",
       "traceback": [
        "PyError (:PyObject_Call) <type 'exceptions.RuntimeError'>\nRuntimeError(\"Julia exception: MethodError(*,(PyObject mpf('-0.6'),PyObject mpf('-0.6')))\",)\n  File \"/usr/lib/python2.7/site-packages/sympy/mpmath/calculus/approximation.py\", line 218, in fourier\n    an = 2*ctx.quadgl(lambda t: f(t)*ctx.cos(m*t), interval)/L\n  File \"/usr/lib/python2.7/site-packages/sympy/mpmath/calculus/quadrature.py\", line 810, in quadgl\n    return ctx.quad(*args, **kwargs)\n  File \"/usr/lib/python2.7/site-packages/sympy/mpmath/calculus/quadrature.py\", line 743, in quad\n    v, err = rule.summation(f, points[0], prec, epsilon, m, verbose)\n  File \"/usr/lib/python2.7/site-packages/sympy/mpmath/calculus/quadrature.py\", line 232, in summation\n    results.append(self.sum_next(f, nodes, degree, prec, results, verbose))\n  File \"/usr/lib/python2.7/site-packages/sympy/mpmath/calculus/quadrature.py\", line 254, in sum_next\n    return self.ctx.fdot((w, f(x)) for (x,w) in nodes)\n  File \"/usr/lib/python2.7/site-packages/sympy/mpmath/ctx_mp_python.py\", line 925, in fdot\n    for a, b in A:\n  File \"/usr/lib/python2.7/site-packages/sympy/mpmath/calculus/quadrature.py\", line 254, in <genexpr>\n    return self.ctx.fdot((w, f(x)) for (x,w) in nodes)\n  File \"/usr/lib/python2.7/site-packages/sympy/mpmath/calculus/approximation.py\", line 218, in <lambda>\n    an = 2*ctx.quadgl(lambda t: f(t)*ctx.cos(m*t), interval)/L\n\nwhile loading In[41], in expression starting on line 1",
        "",
        " in pyerr_check at /home/slap/.julia/v0.3/PyCall/src/exception.jl:60",
        " in pycall at /home/slap/.julia/v0.3/PyCall/src/PyCall.jl:92",
        " in fn at /home/slap/.julia/v0.3/PyCall/src/conversions.jl:188"
       ]
      }
     ],
     "prompt_number": 41
    },
    {
     "cell_type": "code",
     "collapsed": false,
     "input": [
      "x0"
     ],
     "language": "python",
     "metadata": {},
     "outputs": [
      {
       "metadata": {},
       "output_type": "pyout",
       "prompt_number": 43,
       "text": [
        "-1.0"
       ]
      }
     ],
     "prompt_number": 43
    },
    {
     "cell_type": "code",
     "collapsed": false,
     "input": [
      "x1"
     ],
     "language": "python",
     "metadata": {},
     "outputs": [
      {
       "metadata": {},
       "output_type": "pyout",
       "prompt_number": 44,
       "text": [
        "1.0"
       ]
      }
     ],
     "prompt_number": 44
    },
    {
     "cell_type": "code",
     "collapsed": false,
     "input": [
      "f(x)=0 : x<0, 1"
     ],
     "language": "python",
     "metadata": {},
     "outputs": [
      {
       "metadata": {},
       "output_type": "pyout",
       "prompt_number": 42,
       "text": [
        "f (generic function with 1 method)"
       ]
      }
     ],
     "prompt_number": 42
    },
    {
     "cell_type": "code",
     "collapsed": false,
     "input": [
      "methods(sympy.Piecewise)"
     ],
     "language": "python",
     "metadata": {},
     "outputs": [
      {
       "html": [
        "1 method for generic function <b>fn</b>:<ul><li> fn(args...) at <a href=\"https://github.com/stevengj/PyCall.jl/tree/db82657a03db54afbffbc8c676036316a09baab8/src/conversions.jl#L188\" target=\"_blank\">/home/slap/.julia/v0.3/PyCall/src/conversions.jl:188</a></ul>"
       ],
       "metadata": {},
       "output_type": "pyout",
       "prompt_number": 47,
       "text": [
        "# 1 method for generic function \"fn\":\n",
        "fn(args...) at /home/slap/.julia/v0.3/PyCall/src/conversions.jl:188"
       ]
      }
     ],
     "prompt_number": 47
    },
    {
     "cell_type": "code",
     "collapsed": false,
     "input": [
      "f(x)=sympy.Piecewise((0,x<=0),(x,x>0))"
     ],
     "language": "python",
     "metadata": {},
     "outputs": [
      {
       "metadata": {},
       "output_type": "pyout",
       "prompt_number": 51,
       "text": [
        "f (generic function with 1 method)"
       ]
      }
     ],
     "prompt_number": 51
    },
    {
     "cell_type": "code",
     "collapsed": false,
     "input": [
      "f(-1)"
     ],
     "language": "python",
     "metadata": {},
     "outputs": [
      {
       "latex": [
        "$$0$$"
       ],
       "metadata": {},
       "output_type": "pyout",
       "prompt_number": 53,
       "text": [
        "0"
       ]
      }
     ],
     "prompt_number": 53
    },
    {
     "cell_type": "code",
     "collapsed": false,
     "input": [
      "plot(f,-1,1)"
     ],
     "language": "python",
     "metadata": {},
     "outputs": [
      {
       "metadata": {},
       "output_type": "pyout",
       "png": "[encoded data removed]",
       "prompt_number": 54,
       "text": [
        "FramedPlot(...)"
       ]
      }
     ],
     "prompt_number": 54
    },
    {
     "cell_type": "code",
     "collapsed": false,
     "input": [],
     "language": "python",
     "metadata": {},
     "outputs": []
    }
   ],
   "metadata": {}
  }
 ]
}