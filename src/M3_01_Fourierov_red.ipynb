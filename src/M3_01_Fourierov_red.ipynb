{
 "cells": [
  {
   "cell_type": "markdown",
   "metadata": {},
   "source": [
    "# Fourierov red\n",
    "\n",
    "## Teorem o konvergenciji \n",
    "\n",
    "Neka je $f$ po djelovima glatka periodična funkcija s periodom $T=x_1-x_0$ koja na intervalu $[x_0,x_1]$ zadovoljava __Dirichletove uvjete:__\n",
    "\n",
    "* $f$ je po djelovima neprekidna i njezini prekidi su prve vrste\n",
    "* $f$ je ili monotona ili ima konačno strogih ekstrema \n",
    "\n",
    "Tada Fourierov red\n",
    "$$\n",
    "S(x)=\\frac{a_0}{2}+\\sum_{n=1}^\\infty a_n \\cos \\frac{2 n \\pi}{T}x + b_n \\sin \\frac{2 n \\pi}{T}x,\n",
    "$$\n",
    "gdje je\n",
    "$$\n",
    "a_0=\\frac{2}{T} \\int_{x_0}^{x_1} f(x) \\, dx, \\\\\n",
    "a_n=\\frac{2}{T} \\int_{x_0}^{x_1} f(x) \\cos \\frac{2 n \\pi}{T}x \\,dx,\\\\\n",
    "b_n=\\frac{2}{T} \\int_{x_0}^{x_1} f(x) \\sin \\frac{2 n \\pi}{T}x \\,dx,\n",
    "$$\n",
    "konvergira u svakoj točki $x\\in [x_0,x_1]$ i vrijedi \n",
    "$$\n",
    "S(x)=\\begin{cases}\n",
    "     f(x), \\textrm{ ako je } f \\textrm{ neprekinuta u točki } x,\\\\\n",
    "     \\frac{1}{2} [f(x-0)+f(x+0)], \\textrm{ inače.}\n",
    "     \\end{cases}\n",
    "     $$"
   ]
  },
  {
   "cell_type": "markdown",
   "metadata": {},
   "source": [
    "## Simboličko računanje \n",
    "`SymPy` je paket za simboličko računanje preuzet iz `Python`-a, `Interact` je paket za jednostavno manipuliranje parametrima, a `Winston` je jedan od paketa za crtanje."
   ]
  },
  {
   "cell_type": "code",
   "execution_count": 1,
   "metadata": {
    "collapsed": false
   },
   "outputs": [
    {
     "data": {
      "text/html": [
       "<div id=\"interact-js-shim\">\n",
       "    <script charset=\"utf-8\">\n",
       "(function (IPython, $, _, MathJax) {\n",
       "    $.event.special.destroyed = {\n",
       "\tremove: function(o) {\n",
       "\t    if (o.handler) {\n",
       "\t\to.handler.apply(this, arguments)\n",
       "\t    }\n",
       "\t}\n",
       "    }\n",
       "\n",
       "    var OutputArea = IPython.version >= \"4.0.0\" ? require(\"notebook/js/outputarea\").OutputArea : IPython.OutputArea;\n",
       "\n",
       "    var redrawValue = function (container, type, val) {\n",
       "\tvar selector = $(\"<div/>\");\n",
       "\tvar oa = new OutputArea(_.extend(selector, {\n",
       "\t    selector: selector,\n",
       "\t    prompt_area: true,\n",
       "\t    events: IPython.events,\n",
       "\t    keyboard_manager: IPython.keyboard_manager\n",
       "\t})); // Hack to work with IPython 2.1.0\n",
       "\n",
       "\tswitch (type) {\n",
       "\tcase \"image/png\":\n",
       "            var _src = 'data:' + type + ';base64,' + val;\n",
       "\t    $(container).find(\"img\").attr('src', _src);\n",
       "\t    break;\n",
       "\tcase \"text/latex\":\n",
       "\t\tif (MathJax){\n",
       "\t\t\tvar math = MathJax.Hub.getAllJax(container)[0];\n",
       "\t\t\tMathJax.Hub.Queue([\"Text\", math, val.replace(/^\\${1,2}|\\${1,2}$/g, '')]);\n",
       "\t\t\tbreak;\n",
       "\t\t}\n",
       "\tdefault:\n",
       "\t    var toinsert = OutputArea.append_map[type].apply(\n",
       "\t\toa, [val, {}, selector]\n",
       "\t    );\n",
       "\t    $(container).empty().append(toinsert.contents());\n",
       "\t    selector.remove();\n",
       "\t}\n",
       "    }\n",
       "\n",
       "\n",
       "    $(document).ready(function() {\n",
       "\tfunction initComm(evt, data) {\n",
       "\t    var comm_manager = data.kernel.comm_manager;\n",
       "        //_.extend(comm_manager.targets, require(\"widgets/js/widget\"))\n",
       "\t    comm_manager.register_target(\"Signal\", function (comm) {\n",
       "            comm.on_msg(function (msg) {\n",
       "                var val = msg.content.data.value;\n",
       "                $(\".signal-\" + comm.comm_id).each(function() {\n",
       "                var type = $(this).data(\"type\");\n",
       "                if (typeof(val[type]) !== \"undefined\" && val[type] !== null) {\n",
       "                    redrawValue(this, type, val[type], type);\n",
       "                }\n",
       "                });\n",
       "                delete val;\n",
       "                delete msg.content.data.value;\n",
       "            });\n",
       "\t    });\n",
       "\n",
       "\t    // coordingate with Comm and redraw Signals\n",
       "\t    // XXX: Test using Reactive here to improve performance\n",
       "\t    $([IPython.events]).on(\n",
       "\t\t'output_appended.OutputArea', function (event, type, value, md, toinsert) {\n",
       "\t\t    if (md && md.reactive) {\n",
       "                // console.log(md.comm_id);\n",
       "                toinsert.addClass(\"signal-\" + md.comm_id);\n",
       "                toinsert.data(\"type\", type);\n",
       "                // Signal back indicating the mimetype required\n",
       "                var comm_manager = IPython.notebook.kernel.comm_manager;\n",
       "                var comm = comm_manager.comms[md.comm_id];\n",
       "                comm.then(function (c) {\n",
       "                    c.send({action: \"subscribe_mime\",\n",
       "                       mime: type});\n",
       "                    toinsert.bind(\"destroyed\", function() {\n",
       "                        c.send({action: \"unsubscribe_mime\",\n",
       "                               mime: type});\n",
       "                    });\n",
       "                })\n",
       "\t\t    }\n",
       "\t    });\n",
       "\t}\n",
       "\n",
       "\ttry {\n",
       "\t    // try to initialize right away. otherwise, wait on the status_started event.\n",
       "\t    initComm(undefined, IPython.notebook);\n",
       "\t} catch (e) {\n",
       "\t    $([IPython.events]).on('kernel_created.Kernel kernel_created.Session', initComm);\n",
       "\t}\n",
       "    });\n",
       "})(IPython, jQuery, _, MathJax);\n",
       "</script>\n",
       "    <script>\n",
       "        window.interactLoadedFlag = true\n",
       "       $(\"#interact-js-shim\").bind(\"destroyed\", function () {\n",
       "           if (window.interactLoadedFlag) {\n",
       "               console.warn(\"JavaScript required by Interact will be removed if you remove this cell or run using Interact more than once.\")\n",
       "           }\n",
       "       })\n",
       "       $([IPython.events]).on(\"kernel_starting.Kernel kernel_restarting.Kernel\", function () { window.interactLoadedFlag = false })\n",
       "   </script>\n",
       "</div>"
      ]
     },
     "metadata": {},
     "output_type": "display_data"
    }
   ],
   "source": [
    "using SymPy\n",
    "using Interact\n",
    "using Winston"
   ]
  },
  {
   "cell_type": "markdown",
   "metadata": {},
   "source": [
    "Definirajmo simboličku varijablu $x$, simboličku cjelobrojnu (integer) varijablu $n$, i granice intervala $x_0$ i $x_1$. "
   ]
  },
  {
   "cell_type": "code",
   "execution_count": 2,
   "metadata": {
    "collapsed": false
   },
   "outputs": [
    {
     "data": {
      "text/latex": [
       "$$T$$"
      ],
      "text/plain": [
       "T"
      ]
     },
     "execution_count": 2,
     "metadata": {},
     "output_type": "execute_result"
    }
   ],
   "source": [
    "x=Sym(\"x\")\n",
    "n=symbols(\"n\",integer=true)\n",
    "x_0=Sym(\"x_0\")\n",
    "x_1=Sym(\"x_1\")\n",
    "T=Sym(\"T\")"
   ]
  },
  {
   "cell_type": "markdown",
   "metadata": {},
   "source": [
    "### Definiranje koeficijenata"
   ]
  },
  {
   "cell_type": "code",
   "execution_count": 3,
   "metadata": {
    "collapsed": false
   },
   "outputs": [
    {
     "data": {
      "text/plain": [
       "b (generic function with 1 method)"
      ]
     },
     "execution_count": 3,
     "metadata": {},
     "output_type": "execute_result"
    }
   ],
   "source": [
    "a(n)=2*integrate(f(x)*cos(2*PI*n*x/T),(x,x_0,x_1))/T\n",
    "b(n)=2*integrate(f(x)*sin(2*PI*n*x/T),(x,x_0,x_1))/T"
   ]
  },
  {
   "cell_type": "markdown",
   "metadata": {},
   "source": [
    "### Zadavanje funkcije $f(x)$ i granica intervala $[x_0,x_1]$\n",
    "\n",
    "Potrebno je koristiti predefiniranu simboličku varijablu `PI` za razliku od varijabli `pi` ili $\\pi$\n",
    "kojima je definirana `Float64` vrijednost."
   ]
  },
  {
   "cell_type": "code",
   "execution_count": 4,
   "metadata": {
    "collapsed": false
   },
   "outputs": [
    {
     "data": {
      "text/latex": [
       "$$2 \\pi$$"
      ],
      "text/plain": [
       "2⋅π"
      ]
     },
     "execution_count": 4,
     "metadata": {},
     "output_type": "execute_result"
    }
   ],
   "source": [
    "f(x)=x\n",
    "x_0=-PI\n",
    "x_1=PI\n",
    "T=x_1-x_0"
   ]
  },
  {
   "cell_type": "code",
   "execution_count": 5,
   "metadata": {
    "collapsed": false
   },
   "outputs": [
    {
     "data": {
      "text/latex": [
       "$$0$$"
      ],
      "text/plain": [
       "0"
      ]
     },
     "execution_count": 5,
     "metadata": {},
     "output_type": "execute_result"
    }
   ],
   "source": [
    "a(1)"
   ]
  },
  {
   "cell_type": "code",
   "execution_count": 6,
   "metadata": {
    "collapsed": false
   },
   "outputs": [
    {
     "data": {
      "text/latex": [
       "\\begin{bmatrix}0\\\\0\\\\0\\\\0\\\\0\\\\0\\end{bmatrix}"
      ],
      "text/plain": [
       "6-element Array{SymPy.Sym,1}\n",
       "⎡0⎤\n",
       "⎢ ⎥\n",
       "⎢0⎥\n",
       "⎢ ⎥\n",
       "⎢0⎥\n",
       "⎢ ⎥\n",
       "⎢0⎥\n",
       "⎢ ⎥\n",
       "⎢0⎥\n",
       "⎢ ⎥\n",
       "⎣0⎦"
      ]
     },
     "execution_count": 6,
     "metadata": {},
     "output_type": "execute_result"
    }
   ],
   "source": [
    "[a(n) for n=0:5]"
   ]
  },
  {
   "cell_type": "code",
   "execution_count": 7,
   "metadata": {
    "collapsed": false
   },
   "outputs": [
    {
     "data": {
      "text/latex": [
       "\\begin{bmatrix}0\\\\2\\\\-1\\\\\\frac{2}{3}\\\\- \\frac{1}{2}\\\\\\frac{2}{5}\\end{bmatrix}"
      ],
      "text/plain": [
       "6-element Array{SymPy.Sym,1}\n",
       "⎡ 0  ⎤\n",
       "⎢    ⎥\n",
       "⎢ 2  ⎥\n",
       "⎢    ⎥\n",
       "⎢ -1 ⎥\n",
       "⎢    ⎥\n",
       "⎢2/3 ⎥\n",
       "⎢    ⎥\n",
       "⎢-1/2⎥\n",
       "⎢    ⎥\n",
       "⎣2/5 ⎦"
      ]
     },
     "execution_count": 7,
     "metadata": {},
     "output_type": "execute_result"
    }
   ],
   "source": [
    "[b(n) for n=0:5]"
   ]
  },
  {
   "cell_type": "markdown",
   "metadata": {},
   "source": [
    "### Računanje i crtanje sume\n",
    "Trebaju nam i numeričke granice."
   ]
  },
  {
   "cell_type": "code",
   "execution_count": 8,
   "metadata": {
    "collapsed": false
   },
   "outputs": [
    {
     "data": {
      "text/html": [],
      "text/plain": [
       "Interact.Options{:SelectionSlider,Int64}(Signal{Int64}(5, nactions=1),\"K\",5,\"5\",Interact.OptionDict(DataStructures.OrderedDict(\"1\"=>1,\"2\"=>2,\"3\"=>3,\"4\"=>4,\"5\"=>5,\"6\"=>6,\"7\"=>7,\"8\"=>8,\"9\"=>9,\"10\"=>10…),Dict(7=>\"7\",4=>\"4\",9=>\"9\",10=>\"10\",2=>\"2\",3=>\"3\",5=>\"5\",8=>\"8\",6=>\"6\",1=>\"1\"…)),Any[],Any[],true,\"horizontal\")"
      ]
     },
     "metadata": {},
     "output_type": "display_data"
    },
    {
     "data": {
      "image/png": "[encoded data removed]",
      "text/plain": [
       "Winston.FramedPlot(...)"
      ]
     },
     "execution_count": 8,
     "metadata": {
      "comm_id": "d169e1b3-bca7-4ed2-8485-67395454f87f",
      "reactive": true
     },
     "output_type": "execute_result"
    }
   ],
   "source": [
    "x0=N(x_0)\n",
    "x1=N(x_1)\n",
    "@manipulate for K=1:10\n",
    "    S=a(0)/2+sum([a(n)*cos(2*PI*n*x/T)+b(n)*sin(2*PI*n*x/T) for n=1:K])\n",
    "    g(x)=S(x)\n",
    "    plot(f,x0,x1)\n",
    "    oplot(g,x0,x1,\"r\")\n",
    "    title(\"Funkcija i \"*string(K)*\" članova reda\")\n",
    "end"
   ]
  },
  {
   "cell_type": "markdown",
   "metadata": {},
   "source": [
    "## Korištenje funkcije `fourier_series()`\n",
    "\n",
    "Prvo pogledajmo simboličko računanje razvoja u Taylor-ov red."
   ]
  },
  {
   "cell_type": "code",
   "execution_count": 9,
   "metadata": {
    "collapsed": false
   },
   "outputs": [
    {
     "data": {
      "text/latex": [
       "$$x - \\frac{x^{3}}{6} + \\frac{x^{5}}{120} + \\mathcal{O}\\left(x^{7}\\right)$$"
      ],
      "text/plain": [
       "     3     5        \n",
       "    x     x     ⎛ 7⎞\n",
       "x - ── + ─── + O⎝x ⎠\n",
       "    6    120        "
      ]
     },
     "execution_count": 9,
     "metadata": {},
     "output_type": "execute_result"
    }
   ],
   "source": [
    "G1=series(sin(x),x,0,7)"
   ]
  },
  {
   "cell_type": "code",
   "execution_count": 10,
   "metadata": {
    "collapsed": false
   },
   "outputs": [
    {
     "data": {
      "text/plain": [
       "1-element Array{Symbol,1}:\n",
       " :x"
      ]
     },
     "execution_count": 10,
     "metadata": {},
     "output_type": "execute_result"
    }
   ],
   "source": [
    "fieldnames(G1)"
   ]
  },
  {
   "cell_type": "code",
   "execution_count": 11,
   "metadata": {
    "collapsed": false
   },
   "outputs": [
    {
     "name": "stderr",
     "output_type": "stream",
     "text": [
      "\n",
      "(process:10912): GLib-CRITICAL **: g_datalist_id_dup_data: assertion 'key_id != 0' failed\n"
     ]
    },
    {
     "data": {
      "text/latex": [
       "$$1 - \\frac{x^{2}}{2} + \\frac{x^{4}}{24} - \\frac{x^{6}}{720} + \\mathcal{O}\\left(x^{7}\\right)$$"
      ],
      "text/plain": [
       "     2    4     6        \n",
       "    x    x     x     ⎛ 7⎞\n",
       "1 - ── + ── - ─── + O⎝x ⎠\n",
       "    2    24   720        "
      ]
     },
     "execution_count": 11,
     "metadata": {},
     "output_type": "execute_result"
    }
   ],
   "source": [
    "G2=series(cos(x),x,0,7)"
   ]
  },
  {
   "cell_type": "code",
   "execution_count": 12,
   "metadata": {
    "collapsed": false
   },
   "outputs": [
    {
     "data": {
      "text/latex": [
       "$$x - \\frac{2 x^{3}}{3} + \\frac{2 x^{5}}{15} + \\mathcal{O}\\left(x^{7}\\right)$$"
      ],
      "text/plain": [
       "       3      5        \n",
       "    2⋅x    2⋅x     ⎛ 7⎞\n",
       "x - ──── + ──── + O⎝x ⎠\n",
       "     3      15         "
      ]
     },
     "execution_count": 12,
     "metadata": {},
     "output_type": "execute_result"
    }
   ],
   "source": [
    "G3=simplify(G1*G2)"
   ]
  },
  {
   "cell_type": "code",
   "execution_count": 13,
   "metadata": {
    "collapsed": false
   },
   "outputs": [
    {
     "data": {
      "text/latex": [
       "$$\\frac{2 x^{5}}{15} - \\frac{2 x^{3}}{3} + x$$"
      ],
      "text/plain": [
       "   5      3    \n",
       "2⋅x    2⋅x     \n",
       "──── - ──── + x\n",
       " 15     3      "
      ]
     },
     "execution_count": 13,
     "metadata": {},
     "output_type": "execute_result"
    }
   ],
   "source": [
    "removeO(G3)"
   ]
  },
  {
   "cell_type": "markdown",
   "metadata": {},
   "source": [
    "Sada razvoj u Fourier-ov red"
   ]
  },
  {
   "cell_type": "code",
   "execution_count": 31,
   "metadata": {
    "collapsed": false
   },
   "outputs": [
    {
     "data": {
      "text/latex": [
       "$$- 4 \\cos{\\left (x \\right )} + \\cos{\\left (2 x \\right )} + \\frac{\\pi^{2}}{3} + \\ldots$$"
      ],
      "text/plain": [
       "                        2    \n",
       "                       π     \n",
       "-4⋅cos(x) + cos(2⋅x) + ── + …\n",
       "                       3     "
      ]
     },
     "execution_count": 31,
     "metadata": {},
     "output_type": "execute_result"
    }
   ],
   "source": [
    "c=fourier_series(x^2,(x,x_0,x_1))"
   ]
  },
  {
   "cell_type": "code",
   "execution_count": 32,
   "metadata": {
    "collapsed": false
   },
   "outputs": [
    {
     "data": {
      "text/latex": [
       "$$- 4 \\cos{\\left (x \\right )} + \\cos{\\left (2 x \\right )} - \\frac{4}{9} \\cos{\\left (3 x \\right )} + \\frac{1}{4} \\cos{\\left (4 x \\right )} - \\frac{4}{25} \\cos{\\left (5 x \\right )} + \\frac{1}{9} \\cos{\\left (6 x \\right )} - \\frac{4}{49} \\cos{\\left (7 x \\right )} + \\frac{1}{16} \\cos{\\left (8 x \\right )} - \\frac{4}{81} \\cos{\\left (9 x \\right )} + \\frac{\\pi^{2}}{3}$$"
      ],
      "text/plain": [
       "                                                                              \n",
       "                       4⋅cos(3⋅x)   cos(4⋅x)   4⋅cos(5⋅x)   cos(6⋅x)   4⋅cos(7\n",
       "-4⋅cos(x) + cos(2⋅x) - ────────── + ──────── - ────────── + ──────── - ───────\n",
       "                           9           4           25          9           49 \n",
       "\n",
       "                               2\n",
       "⋅x)   cos(8⋅x)   4⋅cos(9⋅x)   π \n",
       "─── + ──────── - ────────── + ──\n",
       "         16          81       3 "
      ]
     },
     "execution_count": 32,
     "metadata": {},
     "output_type": "execute_result"
    }
   ],
   "source": [
    "c1=truncate(c,10)"
   ]
  },
  {
   "cell_type": "code",
   "execution_count": 33,
   "metadata": {
    "collapsed": false
   },
   "outputs": [
    {
     "data": {
      "text/plain": [
       "1.0247547650708126"
      ]
     },
     "execution_count": 33,
     "metadata": {},
     "output_type": "execute_result"
    }
   ],
   "source": [
    "N(c1(1))"
   ]
  },
  {
   "cell_type": "markdown",
   "metadata": {},
   "source": [
    "### Računanje aproksimacije i crtanje"
   ]
  },
  {
   "cell_type": "code",
   "execution_count": 35,
   "metadata": {
    "collapsed": false
   },
   "outputs": [
    {
     "data": {
      "text/plain": [
       "50-element Array{Float64,1}:\n",
       " 9.44894\n",
       " 9.16544\n",
       " 8.44804\n",
       " 7.59106\n",
       " 6.83312\n",
       " 6.22292\n",
       " 5.66699\n",
       " 5.07892\n",
       " 4.47014\n",
       " 3.91158\n",
       " ⋮      \n",
       " 4.47014\n",
       " 5.07892\n",
       " 5.66699\n",
       " 6.22292\n",
       " 6.83312\n",
       " 7.59106\n",
       " 8.44804\n",
       " 9.16544\n",
       " 9.44894"
      ]
     },
     "execution_count": 35,
     "metadata": {},
     "output_type": "execute_result"
    }
   ],
   "source": [
    "X = linspace(x0,x1)\n",
    "css=[N(c1(x)) for x in X]"
   ]
  },
  {
   "cell_type": "code",
   "execution_count": 36,
   "metadata": {
    "collapsed": false
   },
   "outputs": [
    {
     "data": {
      "image/png": "[encoded data removed]",
      "text/plain": [
       "Winston.FramedPlot(...)"
      ]
     },
     "execution_count": 36,
     "metadata": {},
     "output_type": "execute_result"
    }
   ],
   "source": [
    "plot(x->x^2,x0,x1,X,css)"
   ]
  },
  {
   "cell_type": "markdown",
   "metadata": {},
   "source": [
    "### Interaktivno računanje i crtanje"
   ]
  },
  {
   "cell_type": "code",
   "execution_count": 48,
   "metadata": {
    "collapsed": false
   },
   "outputs": [
    {
     "data": {
      "text/html": [],
      "text/plain": [
       "Interact.Options{:SelectionSlider,Int64}(Signal{Int64}(10, nactions=1),\"K\",10,\"10\",Interact.OptionDict(DataStructures.OrderedDict(\"1\"=>1,\"2\"=>2,\"3\"=>3,\"4\"=>4,\"5\"=>5,\"6\"=>6,\"7\"=>7,\"8\"=>8,\"9\"=>9,\"10\"=>10…),Dict(18=>\"18\",2=>\"2\",16=>\"16\",11=>\"11\",7=>\"7\",9=>\"9\",10=>\"10\",19=>\"19\",17=>\"17\",8=>\"8\"…)),Any[],Any[],true,\"horizontal\")"
      ]
     },
     "metadata": {},
     "output_type": "display_data"
    },
    {
     "name": "stderr",
     "output_type": "stream",
     "text": [
      "\n",
      "(process:10912): GLib-CRITICAL **: g_datalist_id_dup_data: assertion 'key_id != 0' failed\n",
      "\n",
      "(process:10912): GLib-CRITICAL **: g_datalist_id_dup_data: assertion 'key_id != 0' failed\n",
      "\n",
      "(process:10912): GLib-CRITICAL **: g_datalist_id_dup_data: assertion 'key_id != 0' failed\n",
      "\n",
      "(process:10912): GLib-CRITICAL **: g_datalist_id_dup_data: assertion 'key_id != 0' failed\n",
      "\n",
      "(process:10912): GLib-CRITICAL **: g_datalist_id_dup_data: assertion 'key_id != 0' failed\n"
     ]
    },
    {
     "data": {
      "image/png": "[encoded data removed]",
      "text/plain": [
       "Winston.FramedPlot(...)"
      ]
     },
     "execution_count": 48,
     "metadata": {
      "comm_id": "1dcfa89a-a980-4bf4-ba18-002270a4186c",
      "reactive": true
     },
     "output_type": "execute_result"
    }
   ],
   "source": [
    "f1=x\n",
    "@manipulate for K=1:20\n",
    "    cs=truncate(fourier_series(f1,(x,x_0,x_1)),K)\n",
    "    css=[N(cs(x)) for x in X]\n",
    "    plot(f,x0,x1,X,css)\n",
    "    title(\"Funkcija i \"*string(K)*\" članova reda\")\n",
    "end"
   ]
  },
  {
   "cell_type": "markdown",
   "metadata": {},
   "source": [
    "## Numerička integracija\n",
    "Fourierove koeficijente čemo izračunati _numeričkom integracijom_ (vidi [Numeričko integriranje](http://www.fesb.hr/mat2/)) koristeći Julia naredbu [quadgk](http://docs.julialang.org/en/latest/stdlib/math/?highlight=quadgk#Base.quadgk).\n",
    "\n",
    "Ovaj dio je izrađen prema bilježnici [lecture-2.ipynb](http://nbviewer.ipython.org/url/math.mit.edu/~stevenj/18.303/lecture-2.ipynb) [Stevena Johnsona](http://math.mit.edu/~stevenj/) izrađenoj za predmet [18.303](http://math.mit.edu/~stevenj/18.303/).\n",
    "\n",
    "Definirajmo funkcije `sinecoef` i `coscoef` koje numerički računaju koeficijente. Parametar `abstol` je toleranca numeričke integracije: želimo da je greška mala u odnosu na $\\sqrt{\\int_{x_0}^{x_1} |f(x)|^2 dx}$."
   ]
  },
  {
   "cell_type": "code",
   "execution_count": 49,
   "metadata": {
    "collapsed": false
   },
   "outputs": [
    {
     "data": {
      "text/plain": [
       "coscoef (generic function with 2 methods)"
      ]
     },
     "execution_count": 49,
     "metadata": {},
     "output_type": "execute_result"
    }
   ],
   "source": [
    "Tf=N(T)\n",
    "sinecoef(f, m, x0, x1, Tf) = 2 * quadgk(x -> f(x) * sin(2*m*π*x/Tf)/Tf, x0,x1, abstol=1e-8 * sqrt(quadgk(x->abs2(f(x)),x0,x1)[1]))[1]\n",
    "coscoef(f, m, x0, x1, Tf) = 2 * quadgk(x -> f(x) * cos(2*m*π*x/Tf)/Tf, x0,x1, abstol=1e-8 * sqrt(quadgk(x->abs2(f(x)),x0,x1)[1]))[1]\n",
    "\n",
    "# i druga funkcija koja računa na vektoru prirodnih brojeva\n",
    "sinecoef(f, M::AbstractVector,x0,x1,Tf) = Float64[sinecoef(f,m,x0,x1,Tf) for m in M]\n",
    "coscoef(f, M::AbstractVector,x0,x1,Tf) = Float64[coscoef(f,m,x0,x1,Tf) for m in M]"
   ]
  },
  {
   "cell_type": "code",
   "execution_count": 50,
   "metadata": {
    "collapsed": false
   },
   "outputs": [
    {
     "data": {
      "text/plain": [
       "fouriersum (generic function with 2 methods)"
      ]
     },
     "execution_count": 50,
     "metadata": {},
     "output_type": "execute_result"
    }
   ],
   "source": [
    "# First, define a function to evaluate N terms of the sine series, given the coefficients b\n",
    "function fouriersum(a, b, x, T)\n",
    "    f = a[1]/2\n",
    "    for n = 1:length(b)\n",
    "        f += a[n+1]* cos(2*n*π*x/T) + b[n] * sin(2*n*π*x/T)\n",
    "    end\n",
    "    return f\n",
    "end\n",
    "fouriersum(a, b, X::AbstractVector, T) = Float64[fouriersum(a, b,x,T) for x in X]"
   ]
  },
  {
   "cell_type": "code",
   "execution_count": 51,
   "metadata": {
    "collapsed": false
   },
   "outputs": [
    {
     "data": {
      "text/html": [],
      "text/plain": [
       "Interact.Options{:SelectionSlider,Int64}(Signal{Int64}(49, nactions=1),\"n\",49,\"49\",Interact.OptionDict(DataStructures.OrderedDict(\"1\"=>1,\"3\"=>3,\"5\"=>5,\"7\"=>7,\"9\"=>9,\"11\"=>11,\"13\"=>13,\"15\"=>15,\"17\"=>17,\"19\"=>19…),Dict(89=>\"89\",11=>\"11\",39=>\"39\",85=>\"85\",25=>\"25\",55=>\"55\",29=>\"29\",59=>\"59\",95=>\"95\",57=>\"57\"…)),Any[],Any[],true,\"horizontal\")"
      ]
     },
     "metadata": {},
     "output_type": "display_data"
    },
    {
     "name": "stderr",
     "output_type": "stream",
     "text": [
      "\n",
      "(process:10912): GLib-CRITICAL **: g_datalist_id_dup_data: assertion 'key_id != 0' failed\n"
     ]
    },
    {
     "data": {
      "image/png": "[encoded data removed]",
      "text/plain": [
       "Winston.FramedPlot(...)"
      ]
     },
     "execution_count": 51,
     "metadata": {
      "comm_id": "a2a5eb84-2749-49bc-879b-74d745f4c2f6",
      "reactive": true
     },
     "output_type": "execute_result"
    },
    {
     "name": "stderr",
     "output_type": "stream",
     "text": [
      "\n",
      "(process:10912): GLib-CRITICAL **: g_datalist_id_dup_data: assertion 'key_id != 0' failed\n",
      "\n",
      "(process:10912): GLib-CRITICAL **: g_datalist_id_dup_data: assertion 'key_id != 0' failed\n",
      "\n",
      "(process:10912): GLib-CRITICAL **: g_datalist_id_dup_data: assertion 'key_id != 0' failed\n",
      "\n",
      "(process:10912): GLib-CRITICAL **: g_datalist_id_dup_data: assertion 'key_id != 0' failed\n",
      "\n",
      "(process:10912): GLib-CRITICAL **: g_datalist_id_dup_data: assertion 'key_id != 0' failed\n",
      "\n",
      "(process:10912): GLib-CRITICAL **: g_datalist_id_dup_data: assertion 'key_id != 0' failed\n",
      "\n",
      "(process:10912): GLib-CRITICAL **: g_datalist_id_dup_data: assertion 'key_id != 0' failed\n",
      "\n",
      "(process:10912): GLib-CRITICAL **: g_datalist_id_dup_data: assertion 'key_id != 0' failed\n",
      "\n",
      "(process:10912): GLib-CRITICAL **: g_datalist_id_dup_data: assertion 'key_id != 0' failed\n",
      "\n",
      "(process:10912): GLib-CRITICAL **: g_datalist_id_dup_data: assertion 'key_id != 0' failed\n",
      "\n",
      "(process:10912): GLib-CRITICAL **: g_datalist_id_dup_data: assertion 'key_id != 0' failed\n",
      "\n",
      "(process:10912): GLib-CRITICAL **: g_datalist_id_dup_data: assertion 'key_id != 0' failed\n"
     ]
    }
   ],
   "source": [
    "# Uzmimo više točaka (inače \"nestane\" Gibbsov efekt!!)\n",
    "X=linspace(x0,x1,1000)\n",
    "@manipulate for n=1:2:99\n",
    "    a = coscoef(f, 0:n, x0, x1, Tf)\n",
    "    b = sinecoef(f, 1:n, x0, x1, Tf)\n",
    "    plot(f,x0,x1,\"b\",X, fouriersum(a, b, X, Tf), \"r-\")\n",
    "    # xlabel(L\"$x$\")\n",
    "    # legend([\"exact f\", \"$n-term sine series\"])\n",
    "    # title(\"Funkcija i \"*string(N)*\" članova reda\")\n",
    "end"
   ]
  },
  {
   "cell_type": "markdown",
   "metadata": {},
   "source": [
    "## Primjeri"
   ]
  },
  {
   "cell_type": "code",
   "execution_count": 100,
   "metadata": {
    "collapsed": false
   },
   "outputs": [
    {
     "name": "stderr",
     "output_type": "stream",
     "text": [
      "WARNING: Method definition f(Any) in module Main at In[75]:1 overwritten at In[100]:1.\n"
     ]
    },
    {
     "data": {
      "text/plain": [
       "2"
      ]
     },
     "execution_count": 100,
     "metadata": {},
     "output_type": "execute_result"
    }
   ],
   "source": [
    "f(x)=x^2\n",
    "x_0=-1\n",
    "x_1=1\n",
    "T=x_1-x_0"
   ]
  },
  {
   "cell_type": "code",
   "execution_count": 101,
   "metadata": {
    "collapsed": false
   },
   "outputs": [
    {
     "data": {
      "text/latex": [
       "$$0$$"
      ],
      "text/plain": [
       "0"
      ]
     },
     "execution_count": 101,
     "metadata": {},
     "output_type": "execute_result"
    }
   ],
   "source": [
    "a(3)"
   ]
  },
  {
   "cell_type": "code",
   "execution_count": 103,
   "metadata": {
    "collapsed": false
   },
   "outputs": [
    {
     "data": {
      "text/latex": [
       "$$x^{2}$$"
      ],
      "text/plain": [
       " 2\n",
       "x "
      ]
     },
     "execution_count": 103,
     "metadata": {},
     "output_type": "execute_result"
    }
   ],
   "source": [
    "f(x)"
   ]
  },
  {
   "cell_type": "code",
   "execution_count": 104,
   "metadata": {
    "collapsed": false
   },
   "outputs": [
    {
     "data": {
      "text/latex": [
       "$$\\begin{cases} \\frac{2}{3} & \\text{for}\\: n = 0 \\\\\\frac{4 \\left(-1\\right)^{n}}{\\pi^{2} n^{2}} & \\text{otherwise} \\end{cases}$$"
      ],
      "text/plain": [
       "⎧  2/3    for n = 0\n",
       "⎪                  \n",
       "⎪      n           \n",
       "⎨4⋅(-1)            \n",
       "⎪───────  otherwise\n",
       "⎪  2  2            \n",
       "⎩ π ⋅n             "
      ]
     },
     "execution_count": 104,
     "metadata": {},
     "output_type": "execute_result"
    }
   ],
   "source": [
    "a(n)"
   ]
  },
  {
   "cell_type": "code",
   "execution_count": 105,
   "metadata": {
    "collapsed": false
   },
   "outputs": [
    {
     "data": {
      "text/latex": [
       "$$0$$"
      ],
      "text/plain": [
       "0"
      ]
     },
     "execution_count": 105,
     "metadata": {},
     "output_type": "execute_result"
    }
   ],
   "source": [
    "b(2)"
   ]
  },
  {
   "cell_type": "code",
   "execution_count": 106,
   "metadata": {
    "collapsed": false
   },
   "outputs": [
    {
     "name": "stderr",
     "output_type": "stream",
     "text": [
      "WARNING: Method definition b(Any) in module Main at In[93]:1 overwritten at In[106]:1.\n"
     ]
    },
    {
     "data": {
      "text/plain": [
       "b (generic function with 1 method)"
      ]
     },
     "execution_count": 106,
     "metadata": {},
     "output_type": "execute_result"
    }
   ],
   "source": [
    "b(n)=2*integrate(f(x)*sin(2*PI*n*x/T),(x,x_0,x_1))/T"
   ]
  },
  {
   "cell_type": "code",
   "execution_count": 107,
   "metadata": {
    "collapsed": false
   },
   "outputs": [
    {
     "data": {
      "text/latex": [
       "$$x$$"
      ],
      "text/plain": [
       "x"
      ]
     },
     "execution_count": 107,
     "metadata": {},
     "output_type": "execute_result"
    }
   ],
   "source": [
    "x"
   ]
  },
  {
   "cell_type": "code",
   "execution_count": 113,
   "metadata": {
    "collapsed": false
   },
   "outputs": [
    {
     "data": {
      "text/plain": [
       "4"
      ]
     },
     "execution_count": 113,
     "metadata": {},
     "output_type": "execute_result"
    }
   ],
   "source": [
    "f(2)"
   ]
  },
  {
   "cell_type": "code",
   "execution_count": 114,
   "metadata": {
    "collapsed": false
   },
   "outputs": [
    {
     "data": {
      "image/png": "[encoded data removed]",
      "text/plain": [
       "Winston.FramedPlot(...)"
      ]
     },
     "execution_count": 114,
     "metadata": {},
     "output_type": "execute_result"
    }
   ],
   "source": [
    "plot(f,x_0,x_1)"
   ]
  },
  {
   "cell_type": "code",
   "execution_count": 99,
   "metadata": {
    "collapsed": false
   },
   "outputs": [
    {
     "data": {
      "text/html": [],
      "text/plain": [
       "Interact.Options{:SelectionSlider,Int64}(Signal{Int64}(5, nactions=1),\"N\",5,\"5\",Interact.OptionDict(DataStructures.OrderedDict(\"1\"=>1,\"2\"=>2,\"3\"=>3,\"4\"=>4,\"5\"=>5,\"6\"=>6,\"7\"=>7,\"8\"=>8,\"9\"=>9,\"10\"=>10…),Dict(7=>\"7\",4=>\"4\",9=>\"9\",10=>\"10\",2=>\"2\",3=>\"3\",5=>\"5\",8=>\"8\",6=>\"6\",1=>\"1\"…)),Any[],Any[],true,\"horizontal\")"
      ]
     },
     "metadata": {},
     "output_type": "display_data"
    },
    {
     "ename": "LoadError",
     "evalue": "PyError (:PyObject_Call) <class 'TypeError'>\nTypeError(\"'Zero' object is not callable\",)\n",
     "output_type": "error",
     "traceback": [
      "PyError (:PyObject_Call) <class 'TypeError'>\nTypeError(\"'Zero' object is not callable\",)\n",
      "",
      " in pyerr_check at /home/slap/.julia/v0.5/PyCall/src/exception.jl:56 [inlined]",
      " in pyerr_check at /home/slap/.julia/v0.5/PyCall/src/exception.jl:61 [inlined]",
      " in macro expansion at /home/slap/.julia/v0.5/PyCall/src/exception.jl:81 [inlined]",
      " in #_pycall#66(::Array{Any,1}, ::Function, ::PyCall.PyObject, ::Float64, ::Vararg{Float64,N}) at /home/slap/.julia/v0.5/PyCall/src/PyCall.jl:551",
      " in _pycall(::PyCall.PyObject, ::Float64, ::Vararg{Float64,N}) at /home/slap/.julia/v0.5/PyCall/src/PyCall.jl:539",
      " in #pycall#70(::Array{Any,1}, ::Function, ::PyCall.PyObject, ::Type{PyCall.PyAny}, ::Float64, ::Vararg{Float64,N}) at /home/slap/.julia/v0.5/PyCall/src/PyCall.jl:573",
      " in (::SymPy.Sym)(::Float64) at /home/slap/.julia/v0.5/SymPy/src/call.jl:30",
      " in collect(::Base.Generator{LinSpace{Float64},#g#106{SymPy.Sym}}) at ./array.jl:307",
      " in #fplot_points#137(::Int64, ::Int64, ::Float64, ::Function, ::#g#106{SymPy.Sym}, ::Int64, ::Int64) at /home/slap/.julia/v0.5/Winston/src/plot.jl:519",
      " in fplot_points(::Function, ::Int64, ::Int64) at /home/slap/.julia/v0.5/Winston/src/plot.jl:495",
      " in #plot#103(::Array{Any,1}, ::Function, ::Winston.FramedPlot, ::#g#106{SymPy.Sym}, ::Vararg{Union{AbstractArray{T,1},AbstractArray{T,2},AbstractString,Function,Real},N}) at /home/slap/.julia/v0.5/Winston/src/plot.jl:184",
      " in plot(::Winston.FramedPlot, ::#g#106{SymPy.Sym}, ::Int64, ::Int64, ::String, ::Vararg{String,N}) at /home/slap/.julia/v0.5/Winston/src/plot.jl:115",
      " in #oplot#115(::Array{Any,1}, ::Function, ::#g#106{SymPy.Sym}, ::Vararg{Union{AbstractArray{T,1},AbstractArray{T,2},AbstractString,Function,Real},N}) at /home/slap/.julia/v0.5/Winston/src/plot.jl:243",
      " in oplot(::#g#106{SymPy.Sym}, ::Vararg{Union{AbstractArray{T,1},AbstractArray{T,2},AbstractString,Function,Real},N}) at /home/slap/.julia/v0.5/Winston/src/plot.jl:243",
      " in (::##102#104)(::Int64) at ./In[99]:7",
      " in (::Base.#kw##map)(::Array{Any,1}, ::Base.#map, ::Function, ::Reactive.Signal{Int64}) at ./<missing>:0"
     ]
    }
   ],
   "source": [
    "x0=N(x_0)\n",
    "x1=N(x_1)\n",
    "@manipulate for N=1:10\n",
    "    S=sum([a(n)*cos(2*PI*n*x/T)+b(n)*sin(2*PI*n*x/T) for n=0:N])\n",
    "    g(x)=S(x)\n",
    "    plot(f0,x0,x1)\n",
    "    oplot(g,x0,x1,\"r\")\n",
    "    title(\"Funkcija i \"*string(N)*\" članova reda\")\n",
    "end"
   ]
  },
  {
   "cell_type": "code",
   "execution_count": 35,
   "metadata": {
    "collapsed": false
   },
   "outputs": [
    {
     "data": {
      "text/html": [],
      "text/plain": [
       "Slider{Int64}([Input{Int64}] 10,\"N\",10,1:20)"
      ]
     },
     "metadata": {},
     "output_type": "display_data"
    },
    {
     "ename": "LoadError",
     "evalue": "PyError (:PyObject_Call) <type 'exceptions.RuntimeError'>\nRuntimeError(\"Julia exception: MethodError(*,(PyObject mpf('-0.6'),PyObject mpf('-0.6')))\",)\n  File \"/usr/lib/python2.7/site-packages/sympy/mpmath/calculus/approximation.py\", line 218, in fourier\n    an = 2*ctx.quadgl(lambda t: f(t)*ctx.cos(m*t), interval)/L\n  File \"/usr/lib/python2.7/site-packages/sympy/mpmath/calculus/quadrature.py\", line 810, in quadgl\n    return ctx.quad(*args, **kwargs)\n  File \"/usr/lib/python2.7/site-packages/sympy/mpmath/calculus/quadrature.py\", line 743, in quad\n    v, err = rule.summation(f, points[0], prec, epsilon, m, verbose)\n  File \"/usr/lib/python2.7/site-packages/sympy/mpmath/calculus/quadrature.py\", line 232, in summation\n    results.append(self.sum_next(f, nodes, degree, prec, results, verbose))\n  File \"/usr/lib/python2.7/site-packages/sympy/mpmath/calculus/quadrature.py\", line 254, in sum_next\n    return self.ctx.fdot((w, f(x)) for (x,w) in nodes)\n  File \"/usr/lib/python2.7/site-packages/sympy/mpmath/ctx_mp_python.py\", line 925, in fdot\n    for a, b in A:\n  File \"/usr/lib/python2.7/site-packages/sympy/mpmath/calculus/quadrature.py\", line 254, in <genexpr>\n    return self.ctx.fdot((w, f(x)) for (x,w) in nodes)\n  File \"/usr/lib/python2.7/site-packages/sympy/mpmath/calculus/approximation.py\", line 218, in <lambda>\n    an = 2*ctx.quadgl(lambda t: f(t)*ctx.cos(m*t), interval)/L\n\nwhile loading In[35], in expression starting on line 1",
     "output_type": "error",
     "traceback": [
      "PyError (:PyObject_Call) <type 'exceptions.RuntimeError'>\nRuntimeError(\"Julia exception: MethodError(*,(PyObject mpf('-0.6'),PyObject mpf('-0.6')))\",)\n  File \"/usr/lib/python2.7/site-packages/sympy/mpmath/calculus/approximation.py\", line 218, in fourier\n    an = 2*ctx.quadgl(lambda t: f(t)*ctx.cos(m*t), interval)/L\n  File \"/usr/lib/python2.7/site-packages/sympy/mpmath/calculus/quadrature.py\", line 810, in quadgl\n    return ctx.quad(*args, **kwargs)\n  File \"/usr/lib/python2.7/site-packages/sympy/mpmath/calculus/quadrature.py\", line 743, in quad\n    v, err = rule.summation(f, points[0], prec, epsilon, m, verbose)\n  File \"/usr/lib/python2.7/site-packages/sympy/mpmath/calculus/quadrature.py\", line 232, in summation\n    results.append(self.sum_next(f, nodes, degree, prec, results, verbose))\n  File \"/usr/lib/python2.7/site-packages/sympy/mpmath/calculus/quadrature.py\", line 254, in sum_next\n    return self.ctx.fdot((w, f(x)) for (x,w) in nodes)\n  File \"/usr/lib/python2.7/site-packages/sympy/mpmath/ctx_mp_python.py\", line 925, in fdot\n    for a, b in A:\n  File \"/usr/lib/python2.7/site-packages/sympy/mpmath/calculus/quadrature.py\", line 254, in <genexpr>\n    return self.ctx.fdot((w, f(x)) for (x,w) in nodes)\n  File \"/usr/lib/python2.7/site-packages/sympy/mpmath/calculus/approximation.py\", line 218, in <lambda>\n    an = 2*ctx.quadgl(lambda t: f(t)*ctx.cos(m*t), interval)/L\n\nwhile loading In[35], in expression starting on line 1",
      "",
      " in pyerr_check at /home/slap/.julia/v0.3/PyCall/src/exception.jl:60",
      " in pycall at /home/slap/.julia/v0.3/PyCall/src/PyCall.jl:92",
      " in fn at /home/slap/.julia/v0.3/PyCall/src/conversions.jl:188",
      " in anonymous at ./no file:2",
      " in lift at /home/slap/.julia/v0.3/Reactive/src/Reactive.jl:298"
     ]
    }
   ],
   "source": [
    "@manipulate for N=1:20\n",
    "    return cs=sympy.mpmath[:fourier](f,[x0,x1],N)\n",
    "    css=Float64[sympy.mpmath[:fourierval](cs,[x0,x1],x) for x in X]\n",
    "    plot(f,x0,x1,X,css)\n",
    "    title(\"Funkcija i \"*string(N)*\" članova reda\")\n",
    "end"
   ]
  },
  {
   "cell_type": "code",
   "execution_count": 37,
   "metadata": {
    "collapsed": false
   },
   "outputs": [
    {
     "data": {
      "text/latex": [
       "$$x^{2}$$"
      ],
      "text/plain": [
       " 2\n",
       "x "
      ]
     },
     "execution_count": 37,
     "metadata": {},
     "output_type": "execute_result"
    }
   ],
   "source": [
    "f(x)"
   ]
  },
  {
   "cell_type": "code",
   "execution_count": 38,
   "metadata": {
    "collapsed": false
   },
   "outputs": [
    {
     "data": {
      "text/plain": [
       "f (generic function with 1 method)"
      ]
     },
     "execution_count": 38,
     "metadata": {},
     "output_type": "execute_result"
    }
   ],
   "source": [
    "f"
   ]
  },
  {
   "cell_type": "code",
   "execution_count": 40,
   "metadata": {
    "collapsed": false
   },
   "outputs": [
    {
     "data": {
      "text/plain": [
       "4"
      ]
     },
     "execution_count": 40,
     "metadata": {},
     "output_type": "execute_result"
    }
   ],
   "source": [
    "f(2)"
   ]
  },
  {
   "cell_type": "code",
   "execution_count": 41,
   "metadata": {
    "collapsed": false
   },
   "outputs": [
    {
     "ename": "LoadError",
     "evalue": "PyError (:PyObject_Call) <type 'exceptions.RuntimeError'>\nRuntimeError(\"Julia exception: MethodError(*,(PyObject mpf('-0.6'),PyObject mpf('-0.6')))\",)\n  File \"/usr/lib/python2.7/site-packages/sympy/mpmath/calculus/approximation.py\", line 218, in fourier\n    an = 2*ctx.quadgl(lambda t: f(t)*ctx.cos(m*t), interval)/L\n  File \"/usr/lib/python2.7/site-packages/sympy/mpmath/calculus/quadrature.py\", line 810, in quadgl\n    return ctx.quad(*args, **kwargs)\n  File \"/usr/lib/python2.7/site-packages/sympy/mpmath/calculus/quadrature.py\", line 743, in quad\n    v, err = rule.summation(f, points[0], prec, epsilon, m, verbose)\n  File \"/usr/lib/python2.7/site-packages/sympy/mpmath/calculus/quadrature.py\", line 232, in summation\n    results.append(self.sum_next(f, nodes, degree, prec, results, verbose))\n  File \"/usr/lib/python2.7/site-packages/sympy/mpmath/calculus/quadrature.py\", line 254, in sum_next\n    return self.ctx.fdot((w, f(x)) for (x,w) in nodes)\n  File \"/usr/lib/python2.7/site-packages/sympy/mpmath/ctx_mp_python.py\", line 925, in fdot\n    for a, b in A:\n  File \"/usr/lib/python2.7/site-packages/sympy/mpmath/calculus/quadrature.py\", line 254, in <genexpr>\n    return self.ctx.fdot((w, f(x)) for (x,w) in nodes)\n  File \"/usr/lib/python2.7/site-packages/sympy/mpmath/calculus/approximation.py\", line 218, in <lambda>\n    an = 2*ctx.quadgl(lambda t: f(t)*ctx.cos(m*t), interval)/L\n\nwhile loading In[41], in expression starting on line 1",
     "output_type": "error",
     "traceback": [
      "PyError (:PyObject_Call) <type 'exceptions.RuntimeError'>\nRuntimeError(\"Julia exception: MethodError(*,(PyObject mpf('-0.6'),PyObject mpf('-0.6')))\",)\n  File \"/usr/lib/python2.7/site-packages/sympy/mpmath/calculus/approximation.py\", line 218, in fourier\n    an = 2*ctx.quadgl(lambda t: f(t)*ctx.cos(m*t), interval)/L\n  File \"/usr/lib/python2.7/site-packages/sympy/mpmath/calculus/quadrature.py\", line 810, in quadgl\n    return ctx.quad(*args, **kwargs)\n  File \"/usr/lib/python2.7/site-packages/sympy/mpmath/calculus/quadrature.py\", line 743, in quad\n    v, err = rule.summation(f, points[0], prec, epsilon, m, verbose)\n  File \"/usr/lib/python2.7/site-packages/sympy/mpmath/calculus/quadrature.py\", line 232, in summation\n    results.append(self.sum_next(f, nodes, degree, prec, results, verbose))\n  File \"/usr/lib/python2.7/site-packages/sympy/mpmath/calculus/quadrature.py\", line 254, in sum_next\n    return self.ctx.fdot((w, f(x)) for (x,w) in nodes)\n  File \"/usr/lib/python2.7/site-packages/sympy/mpmath/ctx_mp_python.py\", line 925, in fdot\n    for a, b in A:\n  File \"/usr/lib/python2.7/site-packages/sympy/mpmath/calculus/quadrature.py\", line 254, in <genexpr>\n    return self.ctx.fdot((w, f(x)) for (x,w) in nodes)\n  File \"/usr/lib/python2.7/site-packages/sympy/mpmath/calculus/approximation.py\", line 218, in <lambda>\n    an = 2*ctx.quadgl(lambda t: f(t)*ctx.cos(m*t), interval)/L\n\nwhile loading In[41], in expression starting on line 1",
      "",
      " in pyerr_check at /home/slap/.julia/v0.3/PyCall/src/exception.jl:60",
      " in pycall at /home/slap/.julia/v0.3/PyCall/src/PyCall.jl:92",
      " in fn at /home/slap/.julia/v0.3/PyCall/src/conversions.jl:188"
     ]
    }
   ],
   "source": [
    "cs=sympy.mpmath[:fourier](f,[x0,x1],1)"
   ]
  },
  {
   "cell_type": "code",
   "execution_count": 43,
   "metadata": {
    "collapsed": false
   },
   "outputs": [
    {
     "data": {
      "text/plain": [
       "-1.0"
      ]
     },
     "execution_count": 43,
     "metadata": {},
     "output_type": "execute_result"
    }
   ],
   "source": [
    "x0"
   ]
  },
  {
   "cell_type": "code",
   "execution_count": 44,
   "metadata": {
    "collapsed": false
   },
   "outputs": [
    {
     "data": {
      "text/plain": [
       "1.0"
      ]
     },
     "execution_count": 44,
     "metadata": {},
     "output_type": "execute_result"
    }
   ],
   "source": [
    "x1"
   ]
  },
  {
   "cell_type": "code",
   "execution_count": 42,
   "metadata": {
    "collapsed": false
   },
   "outputs": [
    {
     "data": {
      "text/plain": [
       "f (generic function with 1 method)"
      ]
     },
     "execution_count": 42,
     "metadata": {},
     "output_type": "execute_result"
    }
   ],
   "source": [
    "f(x)=0 : x<0, 1"
   ]
  },
  {
   "cell_type": "code",
   "execution_count": 47,
   "metadata": {
    "collapsed": false
   },
   "outputs": [
    {
     "data": {
      "text/html": [
       "1 method for generic function <b>fn</b>:<ul><li> fn(args...) at <a href=\"https://github.com/stevengj/PyCall.jl/tree/db82657a03db54afbffbc8c676036316a09baab8/src/conversions.jl#L188\" target=\"_blank\">/home/slap/.julia/v0.3/PyCall/src/conversions.jl:188</a></ul>"
      ],
      "text/plain": [
       "# 1 method for generic function \"fn\":\n",
       "fn(args...) at /home/slap/.julia/v0.3/PyCall/src/conversions.jl:188"
      ]
     },
     "execution_count": 47,
     "metadata": {},
     "output_type": "execute_result"
    }
   ],
   "source": [
    "methods(sympy.Piecewise)"
   ]
  },
  {
   "cell_type": "code",
   "execution_count": 51,
   "metadata": {
    "collapsed": false
   },
   "outputs": [
    {
     "data": {
      "text/plain": [
       "f (generic function with 1 method)"
      ]
     },
     "execution_count": 51,
     "metadata": {},
     "output_type": "execute_result"
    }
   ],
   "source": [
    "f(x)=sympy.Piecewise((0,x<=0),(x,x>0))"
   ]
  },
  {
   "cell_type": "code",
   "execution_count": 53,
   "metadata": {
    "collapsed": false
   },
   "outputs": [
    {
     "data": {
      "text/latex": [
       "$$0$$"
      ],
      "text/plain": [
       "0"
      ]
     },
     "execution_count": 53,
     "metadata": {},
     "output_type": "execute_result"
    }
   ],
   "source": [
    "f(-1)"
   ]
  },
  {
   "cell_type": "code",
   "execution_count": 54,
   "metadata": {
    "collapsed": false
   },
   "outputs": [
    {
     "data": {
      "image/png": "[encoded data removed]",
      "text/plain": [
       "FramedPlot(...)"
      ]
     },
     "execution_count": 54,
     "metadata": {},
     "output_type": "execute_result"
    }
   ],
   "source": [
    "plot(f,-1,1)"
   ]
  },
  {
   "cell_type": "code",
   "execution_count": null,
   "metadata": {
    "collapsed": false
   },
   "outputs": [],
   "source": []
  }
 ],
 "metadata": {
  "anaconda-cloud": {},
  "kernelspec": {
   "display_name": "Julia 0.5.1",
   "language": "julia",
   "name": "julia-0.5"
  },
  "language_info": {
   "file_extension": ".jl",
   "mimetype": "application/julia",
   "name": "julia",
   "version": "0.5.1"
  },
  "widgets": {
   "state": {
    "08178403-ae4c-41da-972f-49ec25e054b1": {
     "views": [
      {
       "cell_index": 43
      }
     ]
    },
    "34bfb4d1-1ea4-4ff0-97fe-e3f7dccbe103": {
     "views": [
      {
       "cell_index": 32
      }
     ]
    },
    "4bf42e38-5161-4c11-b2e7-220f36d15113": {
     "views": [
      {
       "cell_index": 28
      }
     ]
    },
    "ded15fad-5b67-446c-be06-320ef77ef2f7": {
     "views": [
      {
       "cell_index": 13
      }
     ]
    },
    "fcb7226c-d3ac-47f0-8726-02e04dc12a60": {
     "views": [
      {
       "cell_index": 28
      }
     ]
    }
   },
   "version": "1.2.0"
  }
 },
 "nbformat": 4,
 "nbformat_minor": 0
}
