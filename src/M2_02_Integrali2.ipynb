{
 "cells": [
  {
   "cell_type": "markdown",
   "metadata": {},
   "source": [
    "### Eulerove i trigonometrijske supstitucije"
   ]
  },
  {
   "cell_type": "code",
   "execution_count": 2,
   "metadata": {
    "collapsed": false
   },
   "outputs": [],
   "source": [
    "using SymPy"
   ]
  },
  {
   "cell_type": "code",
   "execution_count": 3,
   "metadata": {
    "collapsed": false
   },
   "outputs": [
    {
     "data": {
      "text/latex": [
       "$$x$$"
      ],
      "text/plain": [
       "x"
      ]
     },
     "execution_count": 3,
     "metadata": {},
     "output_type": "execute_result"
    }
   ],
   "source": [
    "x=Sym(\"x\")"
   ]
  },
  {
   "cell_type": "code",
   "execution_count": 4,
   "metadata": {
    "collapsed": false
   },
   "outputs": [
    {
     "data": {
      "text/latex": [
       "$$\\int \\frac{1}{x + \\sqrt{x^{2} + 6 x + 10}}\\, dx$$"
      ],
      "text/plain": [
       "  /                         \n",
       " |                          \n",
       " |           1              \n",
       " | ---------------------- dx\n",
       " |        _______________   \n",
       " |       /  2               \n",
       " | x + \\/  x  + 6*x + 10    \n",
       " |                          \n",
       "/                           "
      ]
     },
     "execution_count": 4,
     "metadata": {},
     "output_type": "execute_result"
    }
   ],
   "source": [
    "integrate(1/(x+sqrt(x^2+6*x+10)),x)"
   ]
  },
  {
   "cell_type": "code",
   "execution_count": 5,
   "metadata": {
    "collapsed": false
   },
   "outputs": [
    {
     "data": {
      "text/latex": [
       "$$\\int \\frac{1}{x + \\sqrt{x^{2} + 1} - 3}\\, dx$$"
      ],
      "text/plain": [
       "  /                      \n",
       " |                       \n",
       " |          1            \n",
       " | ------------------- dx\n",
       " |        ________       \n",
       " |       /  2            \n",
       " | x + \\/  x  + 1  - 3   \n",
       " |                       \n",
       "/                        "
      ]
     },
     "execution_count": 5,
     "metadata": {},
     "output_type": "execute_result"
    }
   ],
   "source": [
    "integrate(1/(x-3+sqrt(1+x^2)))"
   ]
  },
  {
   "cell_type": "code",
   "execution_count": 6,
   "metadata": {
    "collapsed": false
   },
   "outputs": [
    {
     "data": {
      "text/latex": [
       "$$\\frac{1}{x + \\sqrt{x^{2} + 1} - 3}$$"
      ],
      "text/plain": [
       "         1         \n",
       "-------------------\n",
       "       ________    \n",
       "      /  2         \n",
       "x + \\/  x  + 1  - 3"
      ]
     },
     "execution_count": 6,
     "metadata": {},
     "output_type": "execute_result"
    }
   ],
   "source": [
    "I1=1/(x-3+sqrt(1+x^2))"
   ]
  },
  {
   "cell_type": "code",
   "execution_count": 7,
   "metadata": {
    "collapsed": false
   },
   "outputs": [
    {
     "data": {
      "text/latex": [
       "$$z$$"
      ],
      "text/plain": [
       "z"
      ]
     },
     "execution_count": 7,
     "metadata": {},
     "output_type": "execute_result"
    }
   ],
   "source": [
    "z=Sym(\"z\")"
   ]
  },
  {
   "cell_type": "code",
   "execution_count": 8,
   "metadata": {
    "collapsed": false
   },
   "outputs": [
    {
     "data": {
      "text/latex": [
       "$$\\frac{1}{\\sqrt{1 + \\frac{\\left(- z^{2} + 1\\right)^{2}}{4 z^{2}}} - 3 + \\frac{- z^{2} + 1}{2 z}}$$"
      ],
      "text/plain": [
       "                   1                   \n",
       "---------------------------------------\n",
       "       _________________               \n",
       "      /               2                \n",
       "     /      /   2    \\            2    \n",
       "    /       \\- z  + 1/         - z  + 1\n",
       "   /    1 + -----------  - 3 + --------\n",
       "  /                2             2*z   \n",
       "\\/              4*z                    "
      ]
     },
     "execution_count": 8,
     "metadata": {},
     "output_type": "execute_result"
    }
   ],
   "source": [
    "I2=subs(I1,x,(1-z^2)/(2*z))"
   ]
  },
  {
   "cell_type": "code",
   "execution_count": 9,
   "metadata": {
    "collapsed": false
   },
   "outputs": [
    {
     "data": {
      "text/latex": [
       "$$- \\frac{2 z}{z^{2} - z \\sqrt{z^{2} + 2 + \\frac{1}{z^{2}}} + 6 z - 1}$$"
      ],
      "text/plain": [
       "               -2*z                \n",
       "-----------------------------------\n",
       "            _____________          \n",
       " 2         /  2       1            \n",
       "z  - z*   /  z  + 2 + --  + 6*z - 1\n",
       "         /             2           \n",
       "       \\/             z            "
      ]
     },
     "execution_count": 9,
     "metadata": {},
     "output_type": "execute_result"
    }
   ],
   "source": [
    "simplify(I2)"
   ]
  },
  {
   "cell_type": "code",
   "execution_count": 10,
   "metadata": {
    "collapsed": false
   },
   "outputs": [
    {
     "data": {
      "text/latex": [
       "$$\\frac{1}{2 x + z - 3}$$"
      ],
      "text/plain": [
       "     1     \n",
       "-----------\n",
       "2*x + z - 3"
      ]
     },
     "execution_count": 10,
     "metadata": {},
     "output_type": "execute_result"
    }
   ],
   "source": [
    "I2=subs(I1,sqrt(x^2+1),x+z)"
   ]
  },
  {
   "cell_type": "code",
   "execution_count": 11,
   "metadata": {
    "collapsed": false
   },
   "outputs": [
    {
     "data": {
      "text/latex": [
       "$$\\frac{1}{z - 3 + \\frac{1}{z} \\left(- z^{2} + 1\\right)}$$"
      ],
      "text/plain": [
       "       1        \n",
       "----------------\n",
       "           2    \n",
       "        - z  + 1\n",
       "z - 3 + --------\n",
       "           z    "
      ]
     },
     "execution_count": 11,
     "metadata": {},
     "output_type": "execute_result"
    }
   ],
   "source": [
    "I3=subs(I2,x,(1-z^2)/(2*z))"
   ]
  },
  {
   "cell_type": "code",
   "execution_count": 12,
   "metadata": {
    "collapsed": false
   },
   "outputs": [
    {
     "data": {
      "text/latex": [
       "$$- \\frac{z^{2} + 1}{2 z^{2} \\left(z - 3 + \\frac{1}{z} \\left(- z^{2} + 1\\right)\\right)}$$"
      ],
      "text/plain": [
       "        / 2    \\       \n",
       "       -\\z  + 1/       \n",
       "-----------------------\n",
       "     /           2    \\\n",
       "   2 |        - z  + 1|\n",
       "2*z *|z - 3 + --------|\n",
       "     \\           z    /"
      ]
     },
     "execution_count": 12,
     "metadata": {},
     "output_type": "execute_result"
    }
   ],
   "source": [
    "# Mnozi s dx\n",
    "I4=I3*(-1)*(1+z^2)/(2*z^2)"
   ]
  },
  {
   "cell_type": "code",
   "execution_count": 13,
   "metadata": {
    "collapsed": false
   },
   "outputs": [
    {
     "data": {
      "text/latex": [
       "$$\\frac{z^{2} + 1}{2 z \\left(3 z - 1\\right)}$$"
      ],
      "text/plain": [
       "     2       \n",
       "    z  + 1   \n",
       "-------------\n",
       "2*z*(3*z - 1)"
      ]
     },
     "execution_count": 13,
     "metadata": {},
     "output_type": "execute_result"
    }
   ],
   "source": [
    "I4=simplify(I4)"
   ]
  },
  {
   "cell_type": "code",
   "execution_count": 14,
   "metadata": {
    "collapsed": false
   },
   "outputs": [
    {
     "data": {
      "text/latex": [
       "$$\\frac{z}{6} - \\frac{1}{2} \\log{\\left (z \\right )} + \\frac{5}{9} \\log{\\left (z - \\frac{1}{3} \\right )}$$"
      ],
      "text/plain": [
       "z   log(z)   5*log(z - 1/3)\n",
       "- - ------ + --------------\n",
       "6     2            9       "
      ]
     },
     "execution_count": 14,
     "metadata": {},
     "output_type": "execute_result"
    }
   ],
   "source": [
    "I5=integrate(I4,z)"
   ]
  },
  {
   "cell_type": "code",
   "execution_count": 15,
   "metadata": {
    "collapsed": false
   },
   "outputs": [
    {
     "data": {
      "text/latex": [
       "$$\\frac{z}{6} - \\frac{1}{2} \\log{\\left (z \\right )} + \\frac{5}{9} \\log{\\left (z - \\frac{1}{3} \\right )}$$"
      ],
      "text/plain": [
       "z   log(z)   5*log(z - 1/3)\n",
       "- - ------ + --------------\n",
       "6     2            9       "
      ]
     },
     "execution_count": 15,
     "metadata": {},
     "output_type": "execute_result"
    }
   ],
   "source": [
    "# Vratimo supstitucije\n",
    "I6=subs(I5,(1-z^2)/(2*z),x)"
   ]
  },
  {
   "cell_type": "code",
   "execution_count": 16,
   "metadata": {
    "collapsed": false
   },
   "outputs": [
    {
     "data": {
      "text/latex": [
       "$$- \\frac{x}{6} + \\frac{1}{6} \\sqrt{x^{2} + 1} - \\frac{1}{2} \\log{\\left (- x + \\sqrt{x^{2} + 1} \\right )} + \\frac{5}{9} \\log{\\left (- x + \\sqrt{x^{2} + 1} - \\frac{1}{3} \\right )}$$"
      ],
      "text/plain": [
       "                                                 /        ________    \\\n",
       "         ________      /        ________\\        |       /  2        1|\n",
       "        /  2           |       /  2     |   5*log|-x + \\/  x  + 1  - -|\n",
       "  x   \\/  x  + 1    log\\-x + \\/  x  + 1 /        \\                   3/\n",
       "- - + ----------- - --------------------- + ---------------------------\n",
       "  6        6                  2                          9             "
      ]
     },
     "execution_count": 16,
     "metadata": {},
     "output_type": "execute_result"
    }
   ],
   "source": [
    "I6=subs(I5,z,-x+sqrt(x^2+1))"
   ]
  },
  {
   "cell_type": "code",
   "execution_count": 17,
   "metadata": {
    "collapsed": false
   },
   "outputs": [
    {
     "data": {
      "text/latex": [
       "$$\\frac{x^{5}}{\\sqrt{4 x^{2} + 9}} + \\frac{27 x^{3}}{8 \\sqrt{4 x^{2} + 9}} + \\frac{81 x}{32 \\sqrt{4 x^{2} + 9}} - \\frac{81}{64} \\operatorname{asinh}{\\left (\\frac{2 x}{3} \\right )}$$"
      ],
      "text/plain": [
       "                                                             /2*x\\\n",
       "       5                 3                           81*asinh|---|\n",
       "      x              27*x               81*x                 \\ 3 /\n",
       "------------- + --------------- + ---------------- - -------------\n",
       "   __________        __________         __________         64     \n",
       "  /    2            /    2             /    2                     \n",
       "\\/  4*x  + 9    8*\\/  4*x  + 9    32*\\/  4*x  + 9                 "
      ]
     },
     "execution_count": 17,
     "metadata": {},
     "output_type": "execute_result"
    }
   ],
   "source": [
    "# Primjer 1.12\n",
    "integrate(x^2*sqrt(4*x^2+9))"
   ]
  },
  {
   "cell_type": "markdown",
   "metadata": {},
   "source": [
    "### Binomni integral"
   ]
  },
  {
   "cell_type": "code",
   "execution_count": 19,
   "metadata": {
    "collapsed": false
   },
   "outputs": [
    {
     "data": {
      "text/latex": [
       "$$\\left(- x^{3} + 3 x\\right)^{0.333333333333333}$$"
      ],
      "text/plain": [
       "            0.333333333333333\n",
       "/   3      \\                 \n",
       "\\- x  + 3*x/                 "
      ]
     },
     "execution_count": 19,
     "metadata": {},
     "output_type": "execute_result"
    }
   ],
   "source": [
    "# Primjer 1.13\n",
    "I7=((3*x-x*x*x)^(1/3))"
   ]
  },
  {
   "cell_type": "code",
   "execution_count": 20,
   "metadata": {
    "collapsed": false
   },
   "outputs": [
    {
     "data": {
      "text/latex": [
       "$$\\int \\left(- x^{3} + 3 x\\right)^{0.333333333333333}\\, dx$$"
      ],
      "text/plain": [
       "  /                                \n",
       " |                                 \n",
       " |             0.333333333333333   \n",
       " | /   3      \\                    \n",
       " | \\- x  + 3*x/                  dx\n",
       " |                                 \n",
       "/                                  "
      ]
     },
     "execution_count": 20,
     "metadata": {},
     "output_type": "execute_result"
    }
   ],
   "source": [
    "integrate(I7,x)"
   ]
  },
  {
   "cell_type": "markdown",
   "metadata": {},
   "source": [
    "### Integriranje razvoja u red potencija"
   ]
  },
  {
   "cell_type": "code",
   "execution_count": 21,
   "metadata": {
    "collapsed": false
   },
   "outputs": [
    {
     "data": {
      "text/latex": [
       "$$1 + x + \\frac{x^{2}}{2} + \\frac{x^{3}}{6} + \\frac{x^{4}}{24} + \\frac{x^{5}}{120} + \\mathcal{O}\\left(x^{6}\\right)$$"
      ],
      "text/plain": [
       "         2    3    4     5        \n",
       "        x    x    x     x     / 6\\\n",
       "1 + x + -- + -- + -- + --- + O\\x /\n",
       "        2    6    24   120        "
      ]
     },
     "execution_count": 21,
     "metadata": {},
     "output_type": "execute_result"
    }
   ],
   "source": [
    "s1=series(exp(x),x)"
   ]
  },
  {
   "cell_type": "code",
   "execution_count": 22,
   "metadata": {
    "collapsed": false
   },
   "outputs": [
    {
     "data": {
      "text/latex": [
       "$$1 + x + \\frac{x^{2}}{2} + \\frac{x^{3}}{6} + \\frac{x^{4}}{24} + \\frac{x^{5}}{120} + \\frac{x^{6}}{720} + \\frac{x^{7}}{5040} + \\frac{x^{8}}{40320} + \\frac{x^{9}}{362880} + \\mathcal{O}\\left(x^{10}\\right)$$"
      ],
      "text/plain": [
       "         2    3    4     5     6     7       8       9           \n",
       "        x    x    x     x     x     x       x       x       / 10\\\n",
       "1 + x + -- + -- + -- + --- + --- + ---- + ----- + ------ + O\\x  /\n",
       "        2    6    24   120   720   5040   40320   362880         "
      ]
     },
     "execution_count": 22,
     "metadata": {},
     "output_type": "execute_result"
    }
   ],
   "source": [
    "s2=series(exp(x),x,0,10)"
   ]
  },
  {
   "cell_type": "markdown",
   "metadata": {},
   "source": [
    "Razvoj u red funkcije $f(x)=e^{-x^2}$"
   ]
  },
  {
   "cell_type": "code",
   "execution_count": 23,
   "metadata": {
    "collapsed": false
   },
   "outputs": [
    {
     "data": {
      "text/latex": [
       "$$1 - x^{2} + \\frac{x^{4}}{2} - \\frac{x^{6}}{6} + \\frac{x^{8}}{24} - \\frac{x^{10}}{120} + \\frac{x^{12}}{720} - \\frac{x^{14}}{5040} + \\frac{x^{16}}{40320} - \\frac{x^{18}}{362880} + \\mathcal{O}\\left(x^{20}\\right)$$"
      ],
      "text/plain": [
       "          4    6    8    10    12    14      16      18           \n",
       "     2   x    x    x    x     x     x       x       x        / 20\\\n",
       "1 - x  + -- - -- + -- - --- + --- - ---- + ----- - ------ + O\\x  /\n",
       "         2    6    24   120   720   5040   40320   362880         "
      ]
     },
     "execution_count": 23,
     "metadata": {},
     "output_type": "execute_result"
    }
   ],
   "source": [
    "s3=subs(s2,x,(-x^2))"
   ]
  },
  {
   "cell_type": "code",
   "execution_count": 24,
   "metadata": {
    "collapsed": false
   },
   "outputs": [
    {
     "data": {
      "text/latex": [
       "$$x - \\frac{x^{3}}{3} + \\frac{x^{5}}{10} - \\frac{x^{7}}{42} + \\frac{x^{9}}{216} - \\frac{x^{11}}{1320} + \\frac{x^{13}}{9360} - \\frac{x^{15}}{75600} + \\frac{x^{17}}{685440} - \\frac{x^{19}}{6894720} + \\mathcal{O}\\left(x^{21}\\right)$$"
      ],
      "text/plain": [
       "     3    5    7     9    11     13      15      17        19           \n",
       "    x    x    x     x    x      x       x       x         x        / 21\\\n",
       "x - -- + -- - -- + --- - ---- + ---- - ----- + ------ - ------- + O\\x  /\n",
       "    3    10   42   216   1320   9360   75600   685440   6894720         "
      ]
     },
     "execution_count": 24,
     "metadata": {},
     "output_type": "execute_result"
    }
   ],
   "source": [
    "s4=integrate(s3,x)"
   ]
  },
  {
   "cell_type": "code",
   "execution_count": 25,
   "metadata": {
    "collapsed": false
   },
   "outputs": [
    {
     "data": {
      "text/latex": [
       "$$- \\frac{x^{19}}{6894720} + \\frac{x^{17}}{685440} - \\frac{x^{15}}{75600} + \\frac{x^{13}}{9360} - \\frac{x^{11}}{1320} + \\frac{x^{9}}{216} - \\frac{x^{7}}{42} + \\frac{x^{5}}{10} - \\frac{x^{3}}{3} + x$$"
      ],
      "text/plain": [
       "     19       17       15     13     11      9    7    5    3    \n",
       "    x        x        x      x      x       x    x    x    x     \n",
       "- ------- + ------ - ----- + ---- - ---- + --- - -- + -- - -- + x\n",
       "  6894720   685440   75600   9360   1320   216   42   10   3     "
      ]
     },
     "execution_count": 25,
     "metadata": {},
     "output_type": "execute_result"
    }
   ],
   "source": [
    "# Uklonimo clan O(x^21) \n",
    "s6=removeO(s4)"
   ]
  },
  {
   "cell_type": "code",
   "execution_count": 26,
   "metadata": {
    "collapsed": false
   },
   "outputs": [
    {
     "data": {
      "text/latex": [
       "$$0.0996676642903364$$"
      ],
      "text/plain": [
       "0.0996676642903364"
      ]
     },
     "execution_count": 26,
     "metadata": {},
     "output_type": "execute_result"
    }
   ],
   "source": [
    "# Izracunajmo vrijednost u tocki x=0.1\n",
    "subs(s6,x,0.1)"
   ]
  },
  {
   "cell_type": "markdown",
   "metadata": {},
   "source": [
    "####  Primjer 1.14 b)"
   ]
  },
  {
   "cell_type": "code",
   "execution_count": 27,
   "metadata": {
    "collapsed": false
   },
   "outputs": [
    {
     "data": {
      "text/latex": [
       "$$x - \\frac{x^{3}}{6} + \\frac{x^{5}}{120} - \\frac{x^{7}}{5040} + \\frac{x^{9}}{362880} + \\mathcal{O}\\left(x^{10}\\right)$$"
      ],
      "text/plain": [
       "     3     5     7       9           \n",
       "    x     x     x       x       / 10\\\n",
       "x - -- + --- - ---- + ------ + O\\x  /\n",
       "    6    120   5040   362880         "
      ]
     },
     "execution_count": 27,
     "metadata": {},
     "output_type": "execute_result"
    }
   ],
   "source": [
    "# maclaurin-ov red za sin(x)\n",
    "s1=series(sin(x),x,0,10)"
   ]
  },
  {
   "cell_type": "code",
   "execution_count": 28,
   "metadata": {
    "collapsed": false
   },
   "outputs": [
    {
     "data": {
      "text/latex": [
       "$$1 - \\frac{x^{2}}{6} + \\frac{x^{4}}{120} - \\frac{x^{6}}{5040} + \\frac{x^{8}}{362880} + \\mathcal{O}\\left(x^{9}\\right)$$"
      ],
      "text/plain": [
       "     2     4     6       8          \n",
       "    x     x     x       x       / 9\\\n",
       "1 - -- + --- - ---- + ------ + O\\x /\n",
       "    6    120   5040   362880        "
      ]
     },
     "execution_count": 28,
     "metadata": {},
     "output_type": "execute_result"
    }
   ],
   "source": [
    "# Razvoj u red za sin(x)/x\n",
    "s2=simplify(s1/x)"
   ]
  },
  {
   "cell_type": "code",
   "execution_count": 29,
   "metadata": {
    "collapsed": false
   },
   "outputs": [
    {
     "data": {
      "text/latex": [
       "$$\\frac{x^{8}}{362880} - \\frac{x^{6}}{5040} + \\frac{x^{4}}{120} - \\frac{x^{2}}{6} + 1$$"
      ],
      "text/plain": [
       "   8       6      4    2    \n",
       "  x       x      x    x     \n",
       "------ - ---- + --- - -- + 1\n",
       "362880   5040   120   6     "
      ]
     },
     "execution_count": 29,
     "metadata": {},
     "output_type": "execute_result"
    }
   ],
   "source": [
    "# Ukonimo O() clan\n",
    "s3=removeO(s2)"
   ]
  },
  {
   "cell_type": "code",
   "execution_count": 30,
   "metadata": {
    "collapsed": false
   },
   "outputs": [
    {
     "data": {
      "text/latex": [
       "$$\\frac{x^{9}}{3265920} - \\frac{x^{7}}{35280} + \\frac{x^{5}}{600} - \\frac{x^{3}}{18} + x$$"
      ],
      "text/plain": [
       "    9        7      5    3    \n",
       "   x        x      x    x     \n",
       "------- - ----- + --- - -- + x\n",
       "3265920   35280   600   18    "
      ]
     },
     "execution_count": 30,
     "metadata": {},
     "output_type": "execute_result"
    }
   ],
   "source": [
    "# Integrirajmo\n",
    "s4=integrate(s3,x)"
   ]
  },
  {
   "cell_type": "code",
   "execution_count": null,
   "metadata": {
    "collapsed": true
   },
   "outputs": [],
   "source": []
  }
 ],
 "metadata": {
  "kernelspec": {
   "display_name": "Julia 0.3.11",
   "language": "julia",
   "name": "julia-0.3"
  },
  "language_info": {
   "file_extension": ".jl",
   "mimetype": "application/julia",
   "name": "julia",
   "version": "0.3.11"
  }
 },
 "nbformat": 4,
 "nbformat_minor": 0
}
