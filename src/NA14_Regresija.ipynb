{
 "cells": [
  {
   "cell_type": "markdown",
   "metadata": {},
   "source": [
    "# Regresija\n",
    "\n",
    "__Regresija__ je provlačenje funkcije $f$ koja ovisi o $n$ parametara kroz točke $(x_i,x_y)$, $i=1,2,\\ldots, m$, pri čemu je $m>n$, tako da se _minimizira norma odstupanja_:\n",
    "\n",
    "$$\n",
    "\\| f(x_i)-y_i\\|_{1,2,\\infty}\\to \\min.\n",
    "$$\n",
    "\n",
    "Regresija u _smislu najmanjih kvadrata_ je\n",
    "\n",
    "$$\n",
    "\\| f(x_i)-y_i\\|_{2}\\to \\min.\n",
    "$$\n",
    "\n",
    "Kada je funkcija $f$ pravac,\n",
    "\n",
    "$$ \n",
    "f(x)=kx+l,\n",
    "$$\n",
    "\n",
    "radi se o __linearnoj regresiji__. U tom slučaju imamo sustav linearnih jednadžbi\n",
    "\n",
    "$$\n",
    "k x_i + l=y_i, \\quad i=1,2,\\ldots,m.\n",
    "$$\n",
    "\n",
    "Ukoliko sve točke _ne leže na istom_ pravcu, sustav nije rješiv pa računamo kvadratičnu prilagodbu.\n"
   ]
  },
  {
   "cell_type": "markdown",
   "metadata": {},
   "source": [
    "## Primjer\n",
    "\n",
    "Provucimo pravac kroz točke $(x_i,y_i)$, $i=1,\\ldots,m$, i izračunajmo kvalitetu prilagodbe. "
   ]
  },
  {
   "cell_type": "code",
   "execution_count": 1,
   "metadata": {
    "collapsed": false
   },
   "outputs": [
    {
     "data": {
      "text/plain": [
       "2-element Array{Float64,1}:\n",
       " 0.307692\n",
       " 1.36923 "
      ]
     },
     "execution_count": 1,
     "metadata": {},
     "output_type": "execute_result"
    }
   ],
   "source": [
    "n=5\n",
    "x=collect([1,2,4,6,7])\n",
    "y=collect([1,3,2,4,3])\n",
    "A=[x ones(5)]\n",
    "kl=A\\y"
   ]
  },
  {
   "cell_type": "code",
   "execution_count": 3,
   "metadata": {
    "collapsed": false
   },
   "outputs": [],
   "source": [
    "# Nacrtajmo točke i pravac\n",
    "using Winston"
   ]
  },
  {
   "cell_type": "code",
   "execution_count": 4,
   "metadata": {
    "collapsed": false
   },
   "outputs": [
    {
     "data": {
      "image/png": "[encoded data removed]",
      "text/plain": [
       "Winston.FramedPlot(...)"
      ]
     },
     "execution_count": 4,
     "metadata": {},
     "output_type": "execute_result"
    }
   ],
   "source": [
    "xx=linspace(0,8,100)\n",
    "yy=kl[1]*xx+kl[2]\n",
    "plot(x,y,\"r*\",xx,yy,\"b\")"
   ]
  },
  {
   "cell_type": "code",
   "execution_count": 5,
   "metadata": {
    "collapsed": false
   },
   "outputs": [
    {
     "data": {
      "text/plain": [
       "0.5147667768205638"
      ]
     },
     "execution_count": 5,
     "metadata": {},
     "output_type": "execute_result"
    }
   ],
   "source": [
    "# Izračunajmo kvalitetu prilagodbe\n",
    "q=sqrt(norm(A*kl-y)/norm(y))"
   ]
  },
  {
   "cell_type": "markdown",
   "metadata": {},
   "source": [
    "## Primjer - Kvadratična regresija\n",
    "\n",
    "Kroz točke možemo provući i kvadratni polinom $y=ax^2+bx+c$. Ukoliko sve točke ne leže na istoj paraboli, sustav linearnih jednadžbi \n",
    "\n",
    "$$\n",
    "ax_i^2+bx_i+c=y_i, \\quad i=1,\\ldots,m,\n",
    "$$\n",
    "\n",
    "nije rješiv pa računamo kvadratičnu prilagodbu. "
   ]
  },
  {
   "cell_type": "code",
   "execution_count": 6,
   "metadata": {
    "collapsed": false
   },
   "outputs": [
    {
     "data": {
      "text/plain": [
       "3-element Array{Float64,1}:\n",
       "  0.689935\n",
       " -2.16071 \n",
       "  1.86364 "
      ]
     },
     "execution_count": 6,
     "metadata": {},
     "output_type": "execute_result"
    }
   ],
   "source": [
    "n=5\n",
    "x=collect([1,2,4,5,6])\n",
    "y=collect([0,1,4,8,14])\n",
    "A=[x.^2 x ones(n)]\n",
    "abc=A\\y"
   ]
  },
  {
   "cell_type": "code",
   "execution_count": 7,
   "metadata": {
    "collapsed": false
   },
   "outputs": [
    {
     "data": {
      "image/png": "[encoded data removed]",
      "text/plain": [
       "Winston.FramedPlot(...)"
      ]
     },
     "execution_count": 7,
     "metadata": {},
     "output_type": "execute_result"
    }
   ],
   "source": [
    "# Nacrtajmo točke i parabolu\n",
    "xx=linspace(0,7,100)\n",
    "yy=abc[1]*xx.^2+abc[2].*xx+abc[3]\n",
    "plot(x,y,\"r*\",xx,yy,\"b\")"
   ]
  },
  {
   "cell_type": "code",
   "execution_count": 8,
   "metadata": {
    "collapsed": false
   },
   "outputs": [
    {
     "data": {
      "text/plain": [
       "0.23696295042459756"
      ]
     },
     "execution_count": 8,
     "metadata": {},
     "output_type": "execute_result"
    }
   ],
   "source": [
    "# Izračunajmo kvalitetu prilagodbe\n",
    "q=sqrt(norm(A*abc-y)/norm(y))"
   ]
  },
  {
   "cell_type": "markdown",
   "metadata": {},
   "source": [
    "## Primjer - Rast svjetske populacije\n",
    "\n",
    "Dosadašnji rast populacije (u milionima) da je u sljedećoj tablici (vidi http://en.wikipedia.org/wiki/World_population). \n",
    "\n",
    "godina | 1750 | 1800 | 1850 | 1900 | 1950 | 1999 | 2008 | 2010 | 2012\n",
    "---| ---: | --: | ---: | ---: | ---: | ---: | ---: | ---: | ---: | ---: |\n",
    "populacija | 791 | 978 | 1262 | 1650 | 2521 | 5978 | 6707 | 6896 | 7052\n",
    "\n",
    "Aproksimirajmo rast populacije eksponencijalnom funkcijom \n",
    "\n",
    "$$\n",
    "P(t)=Ce^{kt}\n",
    "$$\n",
    "\n",
    "i predvidimo populaciju 2050. godine.\n",
    "\n",
    "Sustav jednadžbi \n",
    "\n",
    "$$\n",
    "Ce^{kt_i}=P_i, \\quad i=1,2,\\ldots, 9\n",
    "$$\n",
    "\n",
    "logaritmiranjem prelazi u sustav linearnih jednadžbi\n",
    "\n",
    "$$\n",
    "k \\,t_i + \\ln C =\\ln P_i.\n",
    "$$\n",
    "\n",
    "Sve točke ne leže na istoj krivulji pa sustav nije rješiv i računamo kvadratičnu prilagodbu."
   ]
  },
  {
   "cell_type": "code",
   "execution_count": 9,
   "metadata": {
    "collapsed": false
   },
   "outputs": [
    {
     "data": {
      "text/plain": [
       "2-element Array{Float64,1}:\n",
       "  0.00883442\n",
       " -9.05591   "
      ]
     },
     "execution_count": 9,
     "metadata": {},
     "output_type": "execute_result"
    }
   ],
   "source": [
    "n=9\n",
    "t=collect([1750,1800,1850,1900,1950,1999,2008,2010,2012])\n",
    "P=collect([791,978,1262,1650,2521,5978,6707,6896,7052])\n",
    "A= [t ones(9)]\n",
    "kC=A\\log(P)"
   ]
  },
  {
   "cell_type": "code",
   "execution_count": 10,
   "metadata": {
    "collapsed": false
   },
   "outputs": [
    {
     "data": {
      "image/png": "[encoded data removed]",
      "text/plain": [
       "Winston.FramedPlot(...)"
      ]
     },
     "execution_count": 10,
     "metadata": {},
     "output_type": "execute_result"
    }
   ],
   "source": [
    "# Nacrtajmo točke i krivulju\n",
    "tt=linspace(1740,2015,200)\n",
    "PP=exp(kC[2]).*exp(kC[1].*tt)\n",
    "plot(t,P,\"r*\",tt,PP,\"b\")"
   ]
  },
  {
   "cell_type": "code",
   "execution_count": 11,
   "metadata": {
    "collapsed": false
   },
   "outputs": [
    {
     "data": {
      "text/plain": [
       "8558.212502172595"
      ]
     },
     "execution_count": 11,
     "metadata": {},
     "output_type": "execute_result"
    }
   ],
   "source": [
    "# predvidimo populaciju 2050\n",
    "P2050=exp(kC[2])*exp(kC[1]*2050)"
   ]
  },
  {
   "cell_type": "markdown",
   "metadata": {},
   "source": [
    "Izračunata predikcija je manja od one u tablici. Ako se ograničimo na razdoblje od 1950 godine imamo:"
   ]
  },
  {
   "cell_type": "code",
   "execution_count": 12,
   "metadata": {
    "collapsed": false
   },
   "outputs": [
    {
     "data": {
      "image/png": "[encoded data removed]",
      "text/plain": [
       "Winston.FramedPlot(...)"
      ]
     },
     "execution_count": 12,
     "metadata": {},
     "output_type": "execute_result"
    }
   ],
   "source": [
    "A= [t[5:end] ones(5)]\n",
    "kC=A\\log(P[5:end])\n",
    "tt=linspace(1950,2030,200)\n",
    "PP=exp(kC[2]).*exp(kC[1].*tt)\n",
    "plot(t[5:end],P[5:end],\"r*\",tt,PP,\"b\")"
   ]
  },
  {
   "cell_type": "code",
   "execution_count": 13,
   "metadata": {
    "collapsed": false
   },
   "outputs": [
    {
     "data": {
      "text/plain": [
       "13592.0770645014"
      ]
     },
     "execution_count": 13,
     "metadata": {},
     "output_type": "execute_result"
    }
   ],
   "source": [
    "P2050=exp(kC[2])*exp(kC[1]*2050)"
   ]
  },
  {
   "cell_type": "code",
   "execution_count": null,
   "metadata": {
    "collapsed": true
   },
   "outputs": [],
   "source": []
  }
 ],
 "metadata": {
  "kernelspec": {
   "display_name": "Julia 0.4.0",
   "language": "julia",
   "name": "julia-0.4"
  },
  "language_info": {
   "file_extension": ".jl",
   "mimetype": "application/julia",
   "name": "julia",
   "version": "0.4.0"
  }
 },
 "nbformat": 4,
 "nbformat_minor": 0
}
