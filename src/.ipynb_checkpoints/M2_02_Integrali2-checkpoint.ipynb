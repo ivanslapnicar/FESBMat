{
 "cells": [
  {
   "cell_type": "markdown",
   "metadata": {},
   "source": [
    "### Eulerove i trigonometrijske supstitucije"
   ]
  },
  {
   "cell_type": "code",
   "execution_count": 1,
   "metadata": {},
   "outputs": [],
   "source": [
    "using SymPy"
   ]
  },
  {
   "cell_type": "code",
   "execution_count": 3,
   "metadata": {},
   "outputs": [
    {
     "data": {
      "text/latex": [
       "\\begin{equation*}x\\end{equation*}"
      ],
      "text/plain": [
       "x"
      ]
     },
     "execution_count": 3,
     "metadata": {},
     "output_type": "execute_result"
    }
   ],
   "source": [
    "x=symbols(\"x\",real=true)"
   ]
  },
  {
   "cell_type": "code",
   "execution_count": 4,
   "metadata": {},
   "outputs": [
    {
     "data": {
      "text/latex": [
       "\\begin{equation*}\\int \\frac{1}{x + \\sqrt{x^{2} + 6 x + 10}}\\, dx\\end{equation*}"
      ],
      "text/plain": [
       "⌠                          \n",
       "⎮           1              \n",
       "⎮ ────────────────────── dx\n",
       "⎮        _______________   \n",
       "⎮       ╱  2               \n",
       "⎮ x + ╲╱  x  + 6⋅x + 10    \n",
       "⌡                          "
      ]
     },
     "execution_count": 4,
     "metadata": {},
     "output_type": "execute_result"
    }
   ],
   "source": [
    "integrate(1/(x+sqrt(x^2+6*x+10)),x)"
   ]
  },
  {
   "cell_type": "code",
   "execution_count": 5,
   "metadata": {},
   "outputs": [
    {
     "data": {
      "text/latex": [
       "\\begin{equation*}\\int \\frac{1}{x + \\sqrt{x^{2} + 1} - 3}\\, dx\\end{equation*}"
      ],
      "text/plain": [
       "⌠                       \n",
       "⎮          1            \n",
       "⎮ ─────────────────── dx\n",
       "⎮        ________       \n",
       "⎮       ╱  2            \n",
       "⎮ x + ╲╱  x  + 1  - 3   \n",
       "⌡                       "
      ]
     },
     "execution_count": 5,
     "metadata": {},
     "output_type": "execute_result"
    }
   ],
   "source": [
    "integrate(1/(x-3+sqrt(1+x^2)))"
   ]
  },
  {
   "cell_type": "code",
   "execution_count": 6,
   "metadata": {},
   "outputs": [
    {
     "data": {
      "text/latex": [
       "\\begin{equation*}\\frac{1}{x + \\sqrt{x^{2} + 1} - 3}\\end{equation*}"
      ],
      "text/plain": [
       "         1         \n",
       "───────────────────\n",
       "       ________    \n",
       "      ╱  2         \n",
       "x + ╲╱  x  + 1  - 3"
      ]
     },
     "execution_count": 6,
     "metadata": {},
     "output_type": "execute_result"
    }
   ],
   "source": [
    "I₁=1/(x-3+sqrt(1+x^2))"
   ]
  },
  {
   "cell_type": "code",
   "execution_count": 7,
   "metadata": {},
   "outputs": [
    {
     "data": {
      "text/latex": [
       "\\begin{equation*}z\\end{equation*}"
      ],
      "text/plain": [
       "z"
      ]
     },
     "execution_count": 7,
     "metadata": {},
     "output_type": "execute_result"
    }
   ],
   "source": [
    "z=symbols(\"z\",real=true)"
   ]
  },
  {
   "cell_type": "code",
   "execution_count": 8,
   "metadata": {},
   "outputs": [
    {
     "data": {
      "text/latex": [
       "\\begin{equation*}\\frac{1}{\\sqrt{1 + \\frac{\\left(1 - z^{2}\\right)^{2}}{4 z^{2}}} - 3 + \\frac{1 - z^{2}}{2 z}}\\end{equation*}"
      ],
      "text/plain": [
       "                 1                 \n",
       "───────────────────────────────────\n",
       "       _______________             \n",
       "      ╱             2              \n",
       "     ╱      ⎛     2⎞              2\n",
       "    ╱       ⎝1 - z ⎠         1 - z \n",
       "   ╱    1 + ─────────  - 3 + ──────\n",
       "  ╱               2           2⋅z  \n",
       "╲╱             4⋅z                 "
      ]
     },
     "execution_count": 8,
     "metadata": {},
     "output_type": "execute_result"
    }
   ],
   "source": [
    "I₂=subs(I₁,x,(1-z^2)/(2*z))"
   ]
  },
  {
   "cell_type": "code",
   "execution_count": 9,
   "metadata": {},
   "outputs": [
    {
     "data": {
      "text/latex": [
       "\\begin{equation*}- \\frac{2 z \\left|{z}\\right|}{- z \\sqrt{4 z^{2} + \\left(z^{2} - 1\\right)^{2}} + 6 z \\left|{z}\\right| + \\left(z^{2} - 1\\right) \\left|{z}\\right|}\\end{equation*}"
      ],
      "text/plain": [
       "                     -2⋅z⋅│z│                      \n",
       "───────────────────────────────────────────────────\n",
       "        __________________                         \n",
       "       ╱                2                          \n",
       "      ╱     2   ⎛ 2    ⎞               ⎛ 2    ⎞    \n",
       "- z⋅╲╱   4⋅z  + ⎝z  - 1⎠   + 6⋅z⋅│z│ + ⎝z  - 1⎠⋅│z│"
      ]
     },
     "execution_count": 9,
     "metadata": {},
     "output_type": "execute_result"
    }
   ],
   "source": [
    "simplify(I₂)"
   ]
  },
  {
   "cell_type": "code",
   "execution_count": 10,
   "metadata": {},
   "outputs": [
    {
     "data": {
      "text/latex": [
       "\\begin{equation*}\\frac{1}{2 x + z - 3}\\end{equation*}"
      ],
      "text/plain": [
       "     1     \n",
       "───────────\n",
       "2⋅x + z - 3"
      ]
     },
     "execution_count": 10,
     "metadata": {},
     "output_type": "execute_result"
    }
   ],
   "source": [
    "I₂=subs(I₁,sqrt(x^2+1),x+z)"
   ]
  },
  {
   "cell_type": "code",
   "execution_count": 11,
   "metadata": {},
   "outputs": [
    {
     "data": {
      "text/latex": [
       "\\begin{equation*}\\frac{1}{z - 3 + \\frac{1 - z^{2}}{z}}\\end{equation*}"
      ],
      "text/plain": [
       "      1       \n",
       "──────────────\n",
       "             2\n",
       "        1 - z \n",
       "z - 3 + ──────\n",
       "          z   "
      ]
     },
     "execution_count": 11,
     "metadata": {},
     "output_type": "execute_result"
    }
   ],
   "source": [
    "I₃=subs(I₂,x,(1-z^2)/(2*z))"
   ]
  },
  {
   "cell_type": "code",
   "execution_count": 12,
   "metadata": {},
   "outputs": [
    {
     "data": {
      "text/latex": [
       "\\begin{equation*}- \\frac{z^{2} + 1}{2 z^{2} \\left(z - 3 + \\frac{1 - z^{2}}{z}\\right)}\\end{equation*}"
      ],
      "text/plain": [
       "       ⎛ 2    ⎞      \n",
       "      -⎝z  + 1⎠      \n",
       "─────────────────────\n",
       "     ⎛             2⎞\n",
       "   2 ⎜        1 - z ⎟\n",
       "2⋅z ⋅⎜z - 3 + ──────⎟\n",
       "     ⎝          z   ⎠"
      ]
     },
     "execution_count": 12,
     "metadata": {},
     "output_type": "execute_result"
    }
   ],
   "source": [
    "# Množi s dx\n",
    "I₄=I₃*(-1)*(1+z^2)/(2*z^2)"
   ]
  },
  {
   "cell_type": "code",
   "execution_count": 13,
   "metadata": {},
   "outputs": [
    {
     "data": {
      "text/latex": [
       "\\begin{equation*}\\frac{z^{2} + 1}{2 z \\left(3 z - 1\\right)}\\end{equation*}"
      ],
      "text/plain": [
       "     2       \n",
       "    z  + 1   \n",
       "─────────────\n",
       "2⋅z⋅(3⋅z - 1)"
      ]
     },
     "execution_count": 13,
     "metadata": {},
     "output_type": "execute_result"
    }
   ],
   "source": [
    "I₄=simplify(I₄)"
   ]
  },
  {
   "cell_type": "code",
   "execution_count": 14,
   "metadata": {},
   "outputs": [
    {
     "data": {
      "text/latex": [
       "\\begin{equation*}\\frac{z}{6} - \\frac{\\log{\\left(z \\right)}}{2} + \\frac{5 \\log{\\left(z - \\frac{1}{3} \\right)}}{9}\\end{equation*}"
      ],
      "text/plain": [
       "z   log(z)   5⋅log(z - 1/3)\n",
       "─ - ────── + ──────────────\n",
       "6     2            9       "
      ]
     },
     "execution_count": 14,
     "metadata": {},
     "output_type": "execute_result"
    }
   ],
   "source": [
    "I₅=integrate(I₄,z)"
   ]
  },
  {
   "cell_type": "code",
   "execution_count": 15,
   "metadata": {},
   "outputs": [
    {
     "data": {
      "text/latex": [
       "\\begin{equation*}\\frac{z}{6} - \\frac{\\log{\\left(z \\right)}}{2} + \\frac{5 \\log{\\left(z - \\frac{1}{3} \\right)}}{9}\\end{equation*}"
      ],
      "text/plain": [
       "z   log(z)   5⋅log(z - 1/3)\n",
       "─ - ────── + ──────────────\n",
       "6     2            9       "
      ]
     },
     "execution_count": 15,
     "metadata": {},
     "output_type": "execute_result"
    }
   ],
   "source": [
    "# Vratimo supstitucije\n",
    "I₆=subs(I₅,(1-z^2)/(2*z),x)"
   ]
  },
  {
   "cell_type": "code",
   "execution_count": 16,
   "metadata": {},
   "outputs": [
    {
     "data": {
      "text/latex": [
       "\\begin{equation*}- \\frac{x}{6} + \\frac{\\sqrt{x^{2} + 1}}{6} - \\frac{\\log{\\left(- x + \\sqrt{x^{2} + 1} \\right)}}{2} + \\frac{5 \\log{\\left(- x + \\sqrt{x^{2} + 1} - \\frac{1}{3} \\right)}}{9}\\end{equation*}"
      ],
      "text/plain": [
       "                                                 ⎛        ________    ⎞\n",
       "         ________      ⎛        ________⎞        ⎜       ╱  2        1⎟\n",
       "        ╱  2           ⎜       ╱  2     ⎟   5⋅log⎜-x + ╲╱  x  + 1  - ─⎟\n",
       "  x   ╲╱  x  + 1    log⎝-x + ╲╱  x  + 1 ⎠        ⎝                   3⎠\n",
       "- ─ + ─────────── - ───────────────────── + ───────────────────────────\n",
       "  6        6                  2                          9             "
      ]
     },
     "execution_count": 16,
     "metadata": {},
     "output_type": "execute_result"
    }
   ],
   "source": [
    "I₆=subs(I₅,z,-x+sqrt(x^2+1))"
   ]
  },
  {
   "cell_type": "code",
   "execution_count": 17,
   "metadata": {},
   "outputs": [
    {
     "data": {
      "text/latex": [
       "\\begin{equation*}\\frac{x^{5}}{\\sqrt{4 x^{2} + 9}} + \\frac{27 x^{3}}{8 \\sqrt{4 x^{2} + 9}} - \\frac{81 x \\operatorname{asinh}{\\left(\\frac{2 \\left|{x}\\right|}{3} \\right)}}{64 \\left|{x}\\right|} + \\frac{81 x}{32 \\sqrt{4 x^{2} + 9}}\\end{equation*}"
      ],
      "text/plain": [
       "                                            ⎛2⋅│x│⎞                   \n",
       "       5                 3        81⋅x⋅asinh⎜─────⎟                   \n",
       "      x              27⋅x                   ⎝  3  ⎠         81⋅x      \n",
       "───────────── + ─────────────── - ───────────────── + ────────────────\n",
       "   __________        __________         64⋅│x│              __________\n",
       "  ╱    2            ╱    2                                 ╱    2     \n",
       "╲╱  4⋅x  + 9    8⋅╲╱  4⋅x  + 9                        32⋅╲╱  4⋅x  + 9 "
      ]
     },
     "execution_count": 17,
     "metadata": {},
     "output_type": "execute_result"
    }
   ],
   "source": [
    "# Primjer 1.12\n",
    "integrate(x^2*sqrt(4*x^2+9))"
   ]
  },
  {
   "cell_type": "markdown",
   "metadata": {},
   "source": [
    "### Binomni integral"
   ]
  },
  {
   "cell_type": "code",
   "execution_count": 20,
   "metadata": {},
   "outputs": [
    {
     "data": {
      "text/latex": [
       "\\begin{equation*}\\sqrt[3]{- x^{3} + 3 x}\\end{equation*}"
      ],
      "text/plain": [
       "   ____________\n",
       "3 ╱    3       \n",
       "╲╱  - x  + 3⋅x "
      ]
     },
     "execution_count": 20,
     "metadata": {},
     "output_type": "execute_result"
    }
   ],
   "source": [
    "# Primjer 1.13\n",
    "I₇=((3*x-x*x*x)^(1//3))"
   ]
  },
  {
   "cell_type": "code",
   "execution_count": 21,
   "metadata": {},
   "outputs": [
    {
     "data": {
      "text/latex": [
       "\\begin{equation*}\\int \\sqrt[3]{- x^{3} + 3 x}\\, dx\\end{equation*}"
      ],
      "text/plain": [
       "⌠                   \n",
       "⎮    ____________   \n",
       "⎮ 3 ╱    3          \n",
       "⎮ ╲╱  - x  + 3⋅x  dx\n",
       "⌡                   "
      ]
     },
     "execution_count": 21,
     "metadata": {},
     "output_type": "execute_result"
    }
   ],
   "source": [
    "integrate(I₇,x)"
   ]
  },
  {
   "cell_type": "markdown",
   "metadata": {},
   "source": [
    "### Integriranje razvoja u red potencija"
   ]
  },
  {
   "cell_type": "code",
   "execution_count": 22,
   "metadata": {},
   "outputs": [
    {
     "data": {
      "text/latex": [
       "\\begin{equation*}1 + x + \\frac{x^{2}}{2} + \\frac{x^{3}}{6} + \\frac{x^{4}}{24} + \\frac{x^{5}}{120} + O\\left(x^{6}\\right)\\end{equation*}"
      ],
      "text/plain": [
       "         2    3    4     5        \n",
       "        x    x    x     x     ⎛ 6⎞\n",
       "1 + x + ── + ── + ── + ─── + O⎝x ⎠\n",
       "        2    6    24   120        "
      ]
     },
     "execution_count": 22,
     "metadata": {},
     "output_type": "execute_result"
    }
   ],
   "source": [
    "s₁=series(exp(x),x)"
   ]
  },
  {
   "cell_type": "code",
   "execution_count": 23,
   "metadata": {},
   "outputs": [
    {
     "data": {
      "text/latex": [
       "\\begin{equation*}1 + x + \\frac{x^{2}}{2} + \\frac{x^{3}}{6} + \\frac{x^{4}}{24} + \\frac{x^{5}}{120} + \\frac{x^{6}}{720} + \\frac{x^{7}}{5040} + \\frac{x^{8}}{40320} + \\frac{x^{9}}{362880} + O\\left(x^{10}\\right)\\end{equation*}"
      ],
      "text/plain": [
       "         2    3    4     5     6     7       8       9           \n",
       "        x    x    x     x     x     x       x       x       ⎛ 10⎞\n",
       "1 + x + ── + ── + ── + ─── + ─── + ──── + ───── + ────── + O⎝x  ⎠\n",
       "        2    6    24   120   720   5040   40320   362880         "
      ]
     },
     "execution_count": 23,
     "metadata": {},
     "output_type": "execute_result"
    }
   ],
   "source": [
    "s₂=series(exp(x),x,0,10)"
   ]
  },
  {
   "cell_type": "markdown",
   "metadata": {},
   "source": [
    "Razvoj u red funkcije $f(x)=e^{-x^2}$"
   ]
  },
  {
   "cell_type": "code",
   "execution_count": 24,
   "metadata": {},
   "outputs": [
    {
     "data": {
      "text/latex": [
       "\\begin{equation*}1 - x^{2} + \\frac{x^{4}}{2} - \\frac{x^{6}}{6} + \\frac{x^{8}}{24} - \\frac{x^{10}}{120} + \\frac{x^{12}}{720} - \\frac{x^{14}}{5040} + \\frac{x^{16}}{40320} - \\frac{x^{18}}{362880} + O\\left(x^{20}\\right)\\end{equation*}"
      ],
      "text/plain": [
       "          4    6    8    10    12    14      16      18           \n",
       "     2   x    x    x    x     x     x       x       x        ⎛ 20⎞\n",
       "1 - x  + ── - ── + ── - ─── + ─── - ──── + ───── - ────── + O⎝x  ⎠\n",
       "         2    6    24   120   720   5040   40320   362880         "
      ]
     },
     "execution_count": 24,
     "metadata": {},
     "output_type": "execute_result"
    }
   ],
   "source": [
    "s₃=subs(s₂,x,(-x^2))"
   ]
  },
  {
   "cell_type": "code",
   "execution_count": 25,
   "metadata": {},
   "outputs": [
    {
     "data": {
      "text/latex": [
       "\\begin{equation*}x - \\frac{x^{3}}{3} + \\frac{x^{5}}{10} - \\frac{x^{7}}{42} + \\frac{x^{9}}{216} - \\frac{x^{11}}{1320} + \\frac{x^{13}}{9360} - \\frac{x^{15}}{75600} + \\frac{x^{17}}{685440} - \\frac{x^{19}}{6894720} + O\\left(x^{21}\\right)\\end{equation*}"
      ],
      "text/plain": [
       "     3    5    7     9    11     13      15      17        19           \n",
       "    x    x    x     x    x      x       x       x         x        ⎛ 21⎞\n",
       "x - ── + ── - ── + ─── - ──── + ──── - ───── + ────── - ─────── + O⎝x  ⎠\n",
       "    3    10   42   216   1320   9360   75600   685440   6894720         "
      ]
     },
     "execution_count": 25,
     "metadata": {},
     "output_type": "execute_result"
    }
   ],
   "source": [
    "s₄=integrate(s₃,x)"
   ]
  },
  {
   "cell_type": "code",
   "execution_count": 28,
   "metadata": {},
   "outputs": [
    {
     "data": {
      "text/latex": [
       "\\begin{equation*}- \\frac{x^{19}}{6894720} + \\frac{x^{17}}{685440} - \\frac{x^{15}}{75600} + \\frac{x^{13}}{9360} - \\frac{x^{11}}{1320} + \\frac{x^{9}}{216} - \\frac{x^{7}}{42} + \\frac{x^{5}}{10} - \\frac{x^{3}}{3} + x\\end{equation*}"
      ],
      "text/plain": [
       "     19       17       15     13     11      9    7    5    3    \n",
       "    x        x        x      x      x       x    x    x    x     \n",
       "- ─────── + ────── - ───── + ──── - ──── + ─── - ── + ── - ── + x\n",
       "  6894720   685440   75600   9360   1320   216   42   10   3     "
      ]
     },
     "execution_count": 28,
     "metadata": {},
     "output_type": "execute_result"
    }
   ],
   "source": [
    "# Uklonimo član O(x^21) \n",
    "s₆=s₄.removeO()"
   ]
  },
  {
   "cell_type": "code",
   "execution_count": 30,
   "metadata": {},
   "outputs": [
    {
     "data": {
      "text/latex": [
       "\\begin{equation*}0.0996676642903364\\end{equation*}"
      ],
      "text/plain": [
       "0.0996676642903364"
      ]
     },
     "execution_count": 30,
     "metadata": {},
     "output_type": "execute_result"
    }
   ],
   "source": [
    "# Izračunajmo vrijednost u točki x=0.1\n",
    "subs(s₆,x,0.1)"
   ]
  },
  {
   "cell_type": "markdown",
   "metadata": {},
   "source": [
    "####  Primjer 1.14 b)"
   ]
  },
  {
   "cell_type": "code",
   "execution_count": 31,
   "metadata": {},
   "outputs": [
    {
     "data": {
      "text/latex": [
       "\\begin{equation*}x - \\frac{x^{3}}{6} + \\frac{x^{5}}{120} - \\frac{x^{7}}{5040} + \\frac{x^{9}}{362880} + O\\left(x^{10}\\right)\\end{equation*}"
      ],
      "text/plain": [
       "     3     5     7       9           \n",
       "    x     x     x       x       ⎛ 10⎞\n",
       "x - ── + ─── - ──── + ────── + O⎝x  ⎠\n",
       "    6    120   5040   362880         "
      ]
     },
     "execution_count": 31,
     "metadata": {},
     "output_type": "execute_result"
    }
   ],
   "source": [
    "# Maclaurin-ov red za sin(x)\n",
    "s₁=series(sin(x),x,0,10)"
   ]
  },
  {
   "cell_type": "code",
   "execution_count": 33,
   "metadata": {},
   "outputs": [
    {
     "data": {
      "text/latex": [
       "\\begin{equation*}1 - \\frac{x^{2}}{6} + \\frac{x^{4}}{120} - \\frac{x^{6}}{5040} + \\frac{x^{8}}{362880} + O\\left(x^{9}\\right)\\end{equation*}"
      ],
      "text/plain": [
       "     2     4     6       8          \n",
       "    x     x     x       x       ⎛ 9⎞\n",
       "1 - ── + ─── - ──── + ────── + O⎝x ⎠\n",
       "    6    120   5040   362880        "
      ]
     },
     "execution_count": 33,
     "metadata": {},
     "output_type": "execute_result"
    }
   ],
   "source": [
    "# Razvoj u red za sin(x)/x\n",
    "s₂=simplify(s₁/x)"
   ]
  },
  {
   "cell_type": "code",
   "execution_count": 34,
   "metadata": {},
   "outputs": [
    {
     "data": {
      "text/latex": [
       "\\begin{equation*}\\frac{x^{8}}{362880} - \\frac{x^{6}}{5040} + \\frac{x^{4}}{120} - \\frac{x^{2}}{6} + 1\\end{equation*}"
      ],
      "text/plain": [
       "   8       6      4    2    \n",
       "  x       x      x    x     \n",
       "────── - ──── + ─── - ── + 1\n",
       "362880   5040   120   6     "
      ]
     },
     "execution_count": 34,
     "metadata": {},
     "output_type": "execute_result"
    }
   ],
   "source": [
    "# Ukonimo O() clan\n",
    "s₃=s₂.removeO()"
   ]
  },
  {
   "cell_type": "code",
   "execution_count": 35,
   "metadata": {},
   "outputs": [
    {
     "data": {
      "text/latex": [
       "\\begin{equation*}\\frac{x^{9}}{3265920} - \\frac{x^{7}}{35280} + \\frac{x^{5}}{600} - \\frac{x^{3}}{18} + x\\end{equation*}"
      ],
      "text/plain": [
       "    9        7      5    3    \n",
       "   x        x      x    x     \n",
       "─────── - ───── + ─── - ── + x\n",
       "3265920   35280   600   18    "
      ]
     },
     "execution_count": 35,
     "metadata": {},
     "output_type": "execute_result"
    }
   ],
   "source": [
    "# Integrirajmo\n",
    "s₄=integrate(s₃,x)"
   ]
  },
  {
   "cell_type": "code",
   "execution_count": null,
   "metadata": {
    "collapsed": true
   },
   "outputs": [],
   "source": []
  }
 ],
 "metadata": {
  "kernelspec": {
   "display_name": "Julia 1.4.1",
   "language": "julia",
   "name": "julia-1.4"
  },
  "language_info": {
   "file_extension": ".jl",
   "mimetype": "application/julia",
   "name": "julia",
   "version": "1.4.1"
  }
 },
 "nbformat": 4,
 "nbformat_minor": 1
}
