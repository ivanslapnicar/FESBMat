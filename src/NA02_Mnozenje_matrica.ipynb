{
 "cells": [
  {
   "cell_type": "markdown",
   "metadata": {},
   "source": [
    "# Množenje matrica"
   ]
  },
  {
   "cell_type": "markdown",
   "metadata": {},
   "source": [
    "$$\n",
    "\\begin{bmatrix}    \n",
    "1& 2& 3\\\\\n",
    "  4 &5 &6\\\\\n",
    "  7 &8& 9\n",
    "\\end{bmatrix}\n",
    "\\begin{bmatrix}\n",
    "   1&  2&  0\\\\\n",
    "   4&  3&  2\\\\\n",
    "   1& -1&  1\n",
    " \\end{bmatrix}=\\\\\n",
    " \\begin{bmatrix}\n",
    "   (1\\cdot 1 + 2\\cdot 4+3\\cdot 1) & 1\\cdot 2+2\\cdot 3+3\\cdot(-1))&  \n",
    "    (1\\cdot 0 + 2\\cdot 2 + 3\\cdot 1)\\\\\n",
    "   (4\\cdot 1+5\\cdot 5+6\\cdot 1) & (4\\cdot 2+5\\cdot 3+6\\cdot (-1)) &  \n",
    "   (4\\cdot 0+5\\cdot 2+6\\cdot 1)\\\\\n",
    "   (7\\cdot 1+8\\cdot 5+9\\cdot 1) & (7\\cdot 2+8\\cdot 3+9\\cdot (-1)) &  \n",
    "   (7\\cdot 0+8\\cdot 2+9\\cdot 1)\n",
    " \\end{bmatrix}\n",
    "$$\n",
    "\n",
    "$$\n",
    "\\begin{bmatrix}    \n",
    "  1& 2& 3\\\\\n",
    "  4 &5 &6\\\\\n",
    "  7 &8& 9\n",
    "\\end{bmatrix}\n",
    "\\begin{bmatrix}\n",
    "   1&  2&  0\\\\\n",
    "   4&  3&  2\\\\\n",
    "   1& -1&  1\n",
    " \\end{bmatrix}=\\\\\n",
    " \\begin{bmatrix} 1\\\\ 4\\\\ 7 \\end{bmatrix}\n",
    " \\begin{bmatrix} 1&2&0 \\end{bmatrix} + \n",
    " \\begin{bmatrix} 2\\\\ 5\\\\ 8 \\end{bmatrix}\n",
    " \\begin{bmatrix} 4&3&2 \\end{bmatrix} + \n",
    " \\begin{bmatrix} 3\\\\ 6\\\\ 9 \\end{bmatrix}\n",
    " \\begin{bmatrix} 1&-1&1 \\end{bmatrix}\n",
    "$$\n",
    "\n",
    "$$\n",
    "\\begin{bmatrix}    \n",
    "  1& 2& 3\\\\\n",
    "  4 &5 &6\\\\\n",
    "  7 &8& 9\n",
    "\\end{bmatrix}\n",
    "\\begin{bmatrix}\n",
    "   1&  2&  0\\\\\n",
    "   4&  3&  2\\\\\n",
    "   1& -1&  1\n",
    " \\end{bmatrix}=\\\\\n",
    " \\begin{bmatrix}\n",
    "   1 \\begin{bmatrix} 1\\\\ 4\\\\ 7\\end{bmatrix}+\n",
    "   4 \\begin{bmatrix} 2\\\\ 5\\\\ 8\\end{bmatrix}+\n",
    "   1 \\begin{bmatrix} 3\\\\ 6\\\\ 9\\end{bmatrix} &\n",
    "   2 \\begin{bmatrix} 1\\\\ 4\\\\ 7\\end{bmatrix}+\n",
    "   3 \\begin{bmatrix} 2\\\\ 5\\\\ 8\\end{bmatrix}+\n",
    "   (-1) \\begin{bmatrix} 3\\\\ 6\\\\ 9\\end{bmatrix} &\n",
    "   0 \\begin{bmatrix} 1\\\\ 4\\\\ 7\\end{bmatrix}+\n",
    "   2 \\begin{bmatrix} 2\\\\ 5\\\\ 8\\end{bmatrix}+\n",
    "   1 \\begin{bmatrix} 3\\\\ 6\\\\ 9\\end{bmatrix}\n",
    " \\end{bmatrix}\n",
    "$$\n"
   ]
  },
  {
   "cell_type": "code",
   "execution_count": 1,
   "metadata": {
    "collapsed": false
   },
   "outputs": [
    {
     "data": {
      "text/plain": [
       "5x5 Array{Float64,2}:\n",
       " 5.0  5.0  5.0  5.0  5.0\n",
       " 5.0  5.0  5.0  5.0  5.0\n",
       " 5.0  5.0  5.0  5.0  5.0\n",
       " 5.0  5.0  5.0  5.0  5.0\n",
       " 5.0  5.0  5.0  5.0  5.0"
      ]
     },
     "execution_count": 1,
     "metadata": {},
     "output_type": "execute_result"
    }
   ],
   "source": [
    "n=5\n",
    "A=ones(5,5)\n",
    "B=ones(5,5)\n",
    "C=zeros(n,n)\n",
    "for i=1:n\n",
    "    for j=1:n\n",
    "        for k=1:n\n",
    "            C[i,j]=C[i,j]+A[i,k]*A[k,j]\n",
    "        end\n",
    "    end\n",
    "end\n",
    "C"
   ]
  },
  {
   "cell_type": "code",
   "execution_count": 2,
   "metadata": {
    "collapsed": false
   },
   "outputs": [
    {
     "name": "stdout",
     "output_type": "stream",
     "text": [
      "C[i,j] = (A[i,:] * B[:,j])[] => 5.0\n",
      "C[i,j] = (A[i,:] * B[:,j])[] => 5.0\n",
      "C[i,j] = (A[i,:] * B[:,j])[] => 5.0\n",
      "C[i,j] = (A[i,:] * B[:,j])[] => 5.0\n",
      "C[i,j] = (A[i,:] * B[:,j])[] => 5.0\n",
      "C[i,j] = (A[i,:] * B[:,j])[] => 5.0\n",
      "C[i,j] = (A[i,:] * B[:,j])[] => 5.0\n",
      "C[i,j] = (A[i,:] * B[:,j])[] => 5.0\n",
      "C[i,j] = (A[i,:] * B[:,j])[] => 5.0\n",
      "C[i,j] = (A[i,:] * B[:,j])[] => 5.0\n",
      "C[i,j] = (A[i,:] * B[:,j])[] => 5.0\n",
      "C[i,j] = (A[i,:] * B[:,j])[] => 5.0\n",
      "C[i,j] = (A[i,:] * B[:,j])[] => 5.0\n",
      "C[i,j] = (A[i,:] * B[:,j])[] => 5.0\n",
      "C[i,j] = (A[i,:] * B[:,j])[] => 5.0\n",
      "C[i,j] = (A[i,:] * B[:,j])[] => 5.0\n",
      "C[i,j] = (A[i,:] * B[:,j])[] => 5.0\n",
      "C[i,j] = (A[i,:] * B[:,j])[] => 5.0\n",
      "C[i,j] = (A[i,:] * B[:,j])[] => 5.0\n",
      "C[i,j] = (A[i,:] * B[:,j])[] => 5.0\n",
      "C[i,j] = (A[i,:] * B[:,j])[] => 5.0\n",
      "C[i,j] = (A[i,:] * B[:,j])[] => 5.0\n",
      "C[i,j] = (A[i,:] * B[:,j])[] => 5.0\n",
      "C[i,j] = (A[i,:] * B[:,j])[] => 5.0\n",
      "C[i,j] = (A[i,:] * B[:,j])[] => 5.0\n"
     ]
    }
   ],
   "source": [
    "# _dot\n",
    "for i=1:n\n",
    "    for j=1:n\n",
    "        @show C[i,j]=(A[i,:]*B[:,j])[]\n",
    "    end\n",
    "end"
   ]
  },
  {
   "cell_type": "code",
   "execution_count": 3,
   "metadata": {
    "collapsed": false
   },
   "outputs": [
    {
     "name": "stdout",
     "output_type": "stream",
     "text": [
      "C = C + A[:,i] * A[i,:] => [1.0 1.0 1.0 1.0 1.0\n",
      " 1.0 1.0 1.0 1.0 1.0\n",
      " 1.0 1.0 1.0 1.0 1.0\n",
      " 1.0 1.0 1.0 1.0 1.0\n",
      " 1.0 1.0 1.0 1.0 1.0]\n",
      "C = C + A[:,i] * A[i,:] => [2.0 2.0 2.0 2.0 2.0\n",
      " 2.0 2.0 2.0 2.0 2.0\n",
      " 2.0 2.0 2.0 2.0 2.0\n",
      " 2.0 2.0 2.0 2.0 2.0\n",
      " 2.0 2.0 2.0 2.0 2.0]\n",
      "C = C + A[:,i] * A[i,:] => [3.0 3.0 3.0 3.0 3.0\n",
      " 3.0 3.0 3.0 3.0 3.0\n",
      " 3.0 3.0 3.0 3.0 3.0\n",
      " 3.0 3.0 3.0 3.0 3.0\n",
      " 3.0 3.0 3.0 3.0 3.0]\n",
      "C = C + A[:,i] * A[i,:] => [4.0 4.0 4.0 4.0 4.0\n",
      " 4.0 4.0 4.0 4.0 4.0\n",
      " 4.0 4.0 4.0 4.0 4.0\n",
      " 4.0 4.0 4.0 4.0 4.0\n",
      " 4.0 4.0 4.0 4.0 4.0]\n",
      "C = C + A[:,i] * A[i,:] => [5.0 5.0 5.0 5.0 5.0\n",
      " 5.0 5.0 5.0 5.0 5.0\n",
      " 5.0 5.0 5.0 5.0 5.0\n",
      " 5.0 5.0 5.0 5.0 5.0\n",
      " 5.0 5.0 5.0 5.0 5.0]\n"
     ]
    }
   ],
   "source": [
    "# _syrk\n",
    "C=zeros(n,n)\n",
    "for i=1:n\n",
    "    @show C=C+A[:,i]*A[i,:]\n",
    "end"
   ]
  },
  {
   "cell_type": "code",
   "execution_count": 4,
   "metadata": {
    "collapsed": false
   },
   "outputs": [
    {
     "ename": "LoadError",
     "evalue": "c not defined\nwhile loading In[4], in expression starting on line 3",
     "output_type": "error",
     "traceback": [
      "c not defined\nwhile loading In[4], in expression starting on line 3",
      "",
      " in anonymous at no file:103"
     ]
    }
   ],
   "source": [
    "# _axpy\n",
    "C=zeros(n,n)\n",
    "for i=1:n\n",
    "    for k=1:n\n",
    "        C[:,i]=C[:,i]+A[:,k]*B[k,i]\n",
    "    end\n",
    "    @show c\n",
    "end"
   ]
  },
  {
   "cell_type": "markdown",
   "metadata": {},
   "source": [
    "## Basic Linear Algrbea Subroutines - BLAS\n",
    "\n",
    "Na primjer, `ddot.f` from _NetLib_\n",
    "\n",
    "Uočite _loop unrolling_"
   ]
  },
  {
   "cell_type": "markdown",
   "metadata": {},
   "source": [
    "```\n",
    "DOUBLE PRECISION FUNCTION DDOT(N,DX,INCX,DY,INCY)\n",
    "*     .. Scalar Arguments ..\n",
    "      INTEGER INCX,INCY,N\n",
    "*     ..\n",
    "*     .. Array Arguments ..\n",
    "      DOUBLE PRECISION DX(*),DY(*)\n",
    "*     ..\n",
    "*\n",
    "*  Purpose\n",
    "*  =======\n",
    "*\n",
    "*     forms the dot product of two vectors.\n",
    "*     uses unrolled loops for increments equal to one.\n",
    "*     jack dongarra, linpack, 3/11/78.\n",
    "*     modified 12/3/93, array(1) declarations changed to array(*)\n",
    "*\n",
    "*\n",
    "*     .. Local Scalars ..\n",
    "      DOUBLE PRECISION DTEMP\n",
    "      INTEGER I,IX,IY,M,MP1\n",
    "*     ..\n",
    "*     .. Intrinsic Functions ..\n",
    "      INTRINSIC MOD\n",
    "*     ..\n",
    "      DDOT = 0.0d0\n",
    "      DTEMP = 0.0d0\n",
    "      IF (N.LE.0) RETURN\n",
    "      IF (INCX.EQ.1 .AND. INCY.EQ.1) GO TO 20\n",
    "*\n",
    "*        code for unequal increments or equal increments\n",
    "*          not equal to 1\n",
    "*\n",
    "      IX = 1\n",
    "      IY = 1\n",
    "      IF (INCX.LT.0) IX = (-N+1)*INCX + 1\n",
    "      IF (INCY.LT.0) IY = (-N+1)*INCY + 1\n",
    "      DO 10 I = 1,N\n",
    "          DTEMP = DTEMP + DX(IX)*DY(IY)\n",
    "          IX = IX + INCX\n",
    "          IY = IY + INCY\n",
    "   10 CONTINUE\n",
    "      DDOT = DTEMP\n",
    "      RETURN\n",
    "*\n",
    "*        code for both increments equal to 1\n",
    "*\n",
    "*\n",
    "*        clean-up loop\n",
    "*\n",
    "   20 M = MOD(N,5)\n",
    "      IF (M.EQ.0) GO TO 40\n",
    "      DO 30 I = 1,M\n",
    "          DTEMP = DTEMP + DX(I)*DY(I)\n",
    "   30 CONTINUE\n",
    "      IF (N.LT.5) GO TO 60\n",
    "   40 MP1 = M + 1\n",
    "      DO 50 I = MP1,N,5\n",
    "          DTEMP = DTEMP + DX(I)*DY(I) + DX(I+1)*DY(I+1) +\n",
    "     +            DX(I+2)*DY(I+2) + DX(I+3)*DY(I+3) + DX(I+4)*DY(I+4)\n",
    "   50 CONTINUE\n",
    "   60 DDOT = DTEMP\n",
    "      RETURN\n",
    "      END\n",
    "```\n"
   ]
  },
  {
   "cell_type": "markdown",
   "metadata": {},
   "source": [
    "## Brzina"
   ]
  },
  {
   "cell_type": "code",
   "execution_count": 58,
   "metadata": {
    "collapsed": false
   },
   "outputs": [
    {
     "data": {
      "text/plain": [
       "AB (generic function with 1 method)"
      ]
     },
     "execution_count": 58,
     "metadata": {},
     "output_type": "execute_result"
    }
   ],
   "source": [
    "function AB{T}(A::Array{T},B::Array{T})\n",
    "    n=maximum(size(A))\n",
    "    # C=zeros(n,n)\n",
    "    C=[zeros(A[1,1]) for i=1:n, j=1:n]\n",
    "    for i=1:n\n",
    "        for j=1:n\n",
    "            for k=1:n\n",
    "                C[i,j]=C[i,j]+(A[i,k]*B[k,j])[]\n",
    "            end\n",
    "        end\n",
    "    end\n",
    "    C\n",
    "end"
   ]
  },
  {
   "cell_type": "code",
   "execution_count": 51,
   "metadata": {
    "collapsed": false
   },
   "outputs": [
    {
     "data": {
      "text/plain": [
       "100x100 Array{Float64,2}:\n",
       " 0.511589   0.760529  0.647323   …  0.356745   0.652889   0.862349 \n",
       " 0.110614   0.827552  0.876892      0.920042   0.108556   0.90584  \n",
       " 0.276463   0.893464  0.410662      0.961285   0.580317   0.76955  \n",
       " 0.609009   0.973912  0.323933      0.669161   0.80924    0.251189 \n",
       " 0.641693   0.708929  0.844763      0.341669   0.280555   0.108278 \n",
       " 0.759774   0.636442  0.807089   …  0.571491   0.858746   0.676957 \n",
       " 0.366118   0.716423  0.542553      0.484463   0.736794   0.103351 \n",
       " 0.307768   0.773617  0.87171       0.0687062  0.96458    0.517434 \n",
       " 0.987694   0.171585  0.461027      0.989528   0.593142   0.165842 \n",
       " 0.484751   0.495485  0.193522      0.0985061  0.703039   0.505927 \n",
       " 0.180468   0.501967  0.33542    …  0.996573   0.584011   0.887046 \n",
       " 0.0393713  0.929034  0.0290025     0.144255   0.307976   0.730211 \n",
       " 0.560514   0.15783   0.0438902     0.561093   0.440438   0.359522 \n",
       " ⋮                               ⋱                                 \n",
       " 0.782831   0.720181  0.844313      0.259206   0.246953   0.10739  \n",
       " 0.553084   0.871057  0.625748      0.531588   0.962389   0.797795 \n",
       " 0.309715   0.471257  0.105894   …  0.727589   0.589154   0.381161 \n",
       " 0.21338    0.603482  0.19791       0.255226   0.575709   0.177971 \n",
       " 0.507336   0.625832  0.622007      0.717016   0.764505   0.764226 \n",
       " 0.779249   0.197133  0.80959       0.687156   0.0623748  0.399709 \n",
       " 0.451439   0.489642  0.298473      0.0856089  0.479018   0.896296 \n",
       " 0.50979    0.770148  0.380763   …  0.345952   0.636947   0.935695 \n",
       " 0.0855447  0.570727  0.357048      0.777615   0.555608   0.0954341\n",
       " 0.423764   0.320667  0.758763      0.100697   0.633206   0.761756 \n",
       " 0.911536   0.935527  0.666264      0.680922   0.368785   0.146006 \n",
       " 0.608567   0.67441   0.855303      0.356646   0.964916   0.803167 "
      ]
     },
     "execution_count": 51,
     "metadata": {},
     "output_type": "execute_result"
    }
   ],
   "source": [
    "n=100\n",
    "A=rand(n,n)\n",
    "B=rand(n,n)"
   ]
  },
  {
   "cell_type": "code",
   "execution_count": 52,
   "metadata": {
    "collapsed": false
   },
   "outputs": [
    {
     "name": "stdout",
     "output_type": "stream",
     "text": [
      "elapsed time: 0.006135705 seconds (80160 bytes allocated)\n"
     ]
    },
    {
     "data": {
      "text/plain": [
       "100x100 Array{Float64,2}:\n",
       " 26.99    28.167   25.1423  24.9176  …  24.1629  25.1994  24.2679  25.1705\n",
       " 28.0482  31.1952  25.8012  26.9201     27.0867  26.2732  24.8124  24.8581\n",
       " 26.6097  28.3429  24.414   25.0853     23.7929  24.0577  23.7951  24.3807\n",
       " 27.6527  29.8279  26.7661  25.326      24.4097  24.51    24.2569  24.5229\n",
       " 26.8721  27.9655  26.4351  25.4146     23.8809  25.3145  24.3789  23.8894\n",
       " 24.9488  25.1169  25.3477  24.3692  …  22.9758  22.1073  21.6166  22.5163\n",
       " 24.7224  27.1906  24.0812  22.8383     22.1703  23.8019  22.6132  23.1473\n",
       " 27.0138  27.6711  25.5806  24.4764     23.0897  23.4442  23.4585  23.1104\n",
       " 27.8141  28.988   27.5712  24.9026     24.8154  26.7835  25.4514  29.5548\n",
       " 27.76    28.3015  27.2248  25.2295     24.0389  24.3721  23.6617  25.054 \n",
       " 27.2037  27.257   26.24    26.1698  …  25.5228  26.0959  26.179   26.2447\n",
       " 27.0442  29.9207  27.4927  26.7485     23.8408  25.3542  27.044   25.7804\n",
       " 25.4141  29.7179  25.4705  24.493      25.4337  25.5016  24.9267  24.7118\n",
       "  ⋮                                  ⋱                                    \n",
       " 27.1615  26.2053  25.5613  25.9092     25.584   24.9531  23.2276  25.0097\n",
       " 25.9179  26.4838  26.0949  23.1439     23.714   23.8727  24.0281  25.8324\n",
       " 24.5625  27.0358  23.7149  25.4567  …  24.9653  24.8938  23.18    23.9307\n",
       " 27.4641  28.7082  24.2815  23.5842     23.5424  23.6909  24.542   22.9445\n",
       " 27.2505  29.3703  26.8832  26.6058     25.0641  24.2264  26.0778  24.1261\n",
       " 28.7502  29.0386  29.2019  28.5985     25.4413  25.8986  25.9433  24.6749\n",
       " 26.5755  28.0555  27.3072  24.189      23.8996  23.391   23.9157  23.815 \n",
       " 28.6244  31.0166  28.2676  27.8776  …  25.5016  26.2515  26.8099  25.01  \n",
       " 27.2003  29.5267  28.4752  28.0672     26.1683  26.895   26.7066  28.3633\n",
       " 25.7815  27.1705  24.3952  24.3826     23.4634  23.2971  22.8387  23.31  \n",
       " 28.5128  29.1499  28.7699  25.8416     25.7576  25.6055  25.7588  26.1703\n",
       " 24.7542  25.1902  23.7361  22.5637     21.3168  23.2048  22.4623  22.6601"
      ]
     },
     "execution_count": 52,
     "metadata": {},
     "output_type": "execute_result"
    }
   ],
   "source": [
    "@time C=A*B"
   ]
  },
  {
   "cell_type": "code",
   "execution_count": 62,
   "metadata": {
    "collapsed": false
   },
   "outputs": [
    {
     "data": {
      "text/plain": [
       "2.8571428571428567e7"
      ]
     },
     "execution_count": 62,
     "metadata": {},
     "output_type": "execute_result"
    }
   ],
   "source": [
    "operacija_u_sekundi=(2*n^3)/0.07"
   ]
  },
  {
   "cell_type": "code",
   "execution_count": 63,
   "metadata": {
    "collapsed": false
   },
   "outputs": [
    {
     "ename": "LoadError",
     "evalue": "`Array{T,N}` has no method matching Array{T,N}(::Type{Float64}, ::Float64)\nwhile loading In[63], in expression starting on line 56",
     "output_type": "error",
     "traceback": [
      "`Array{T,N}` has no method matching Array{T,N}(::Type{Float64}, ::Float64)\nwhile loading In[63], in expression starting on line 56",
      "",
      " in AB at In[58]:4"
     ]
    }
   ],
   "source": [
    "@time AB(A,B);"
   ]
  },
  {
   "cell_type": "code",
   "execution_count": 64,
   "metadata": {
    "collapsed": false
   },
   "outputs": [],
   "source": [
    "Ab=[rand(32,32) for i=1:8, j=1:8]\n",
    "Bb=[rand(32,32) for i=1:8, j=1:8];"
   ]
  },
  {
   "cell_type": "code",
   "execution_count": 65,
   "metadata": {
    "collapsed": false
   },
   "outputs": [
    {
     "name": "stdout",
     "output_type": "stream",
     "text": [
      "elapsed time: 0.035610333 seconds (8999664 bytes allocated, 82.20% gc time)\n"
     ]
    }
   ],
   "source": [
    "@time AB(Ab,Bb);"
   ]
  },
  {
   "cell_type": "markdown",
   "metadata": {},
   "source": [
    "## Točnost\n",
    "\n",
    "__Apsloutna pogreška__\n",
    "$$|fl(x\\cdot y)-x\\cdot y|\\leq O(n\\varepsilon) |x|\\cdot |y|$$\n",
    "\n",
    "__Relativna pogreška__\n",
    "$$\\frac{|fl(x\\cdot y)-x\\cdot y|}{|x\\cdot y|}\\leq O(n\\varepsilon) \\frac{|x|\\cdot |y|}{|x\\cdot y|}$$\n"
   ]
  },
  {
   "cell_type": "code",
   "execution_count": 99,
   "metadata": {
    "collapsed": false
   },
   "outputs": [
    {
     "data": {
      "text/plain": [
       "1000000-element Array{Float64,1}:\n",
       " -0.380272 \n",
       "  0.351492 \n",
       " -0.0199727\n",
       "  0.484073 \n",
       " -0.367944 \n",
       "  0.185128 \n",
       "  0.0787329\n",
       " -0.277681 \n",
       " -0.096651 \n",
       "  0.0530972\n",
       "  0.0537208\n",
       " -0.0711645\n",
       "  0.198102 \n",
       "  ⋮        \n",
       "  0.243286 \n",
       " -0.196278 \n",
       "  0.427288 \n",
       "  0.15746  \n",
       "  0.398385 \n",
       "  0.0167999\n",
       " -0.344971 \n",
       "  0.307159 \n",
       "  0.0687675\n",
       "  0.259894 \n",
       "  0.183248 \n",
       "  0.0429108"
      ]
     },
     "execution_count": 99,
     "metadata": {},
     "output_type": "execute_result"
    }
   ],
   "source": [
    "n=1000000\n",
    "x=rand(n)\n",
    "j=int(rand(n)-0.5.<0.0)\n",
    "y=rand(n)-0.5"
   ]
  },
  {
   "cell_type": "code",
   "execution_count": 100,
   "metadata": {
    "collapsed": false
   },
   "outputs": [
    {
     "data": {
      "text/plain": [
       "30.214107751027516"
      ]
     },
     "execution_count": 100,
     "metadata": {},
     "output_type": "execute_result"
    }
   ],
   "source": [
    "d=x⋅y"
   ]
  },
  {
   "cell_type": "code",
   "execution_count": 101,
   "metadata": {
    "collapsed": false
   },
   "outputs": [
    {
     "data": {
      "text/plain": [
       "124896.36753637249"
      ]
     },
     "execution_count": 101,
     "metadata": {},
     "output_type": "execute_result"
    }
   ],
   "source": [
    "ab=abs(x)⋅abs(y)"
   ]
  },
  {
   "cell_type": "code",
   "execution_count": 102,
   "metadata": {
    "collapsed": false
   },
   "outputs": [
    {
     "data": {
      "text/plain": [
       "1000000-element Array{Any,1}:\n",
       " -3.8027218281144659073333968990482389926910400390625e-01  \n",
       "  3.51492449177158050588332116603851318359375e-01          \n",
       " -1.9972713968886335322849845397286117076873779296875e-02  \n",
       "  4.84073204765350428857573206187225878238677978515625e-01 \n",
       " -3.679443993068460816431297644157893955707550048828125e-01\n",
       "  1.8512790849154026062706179800443351268768310546875e-01  \n",
       "  7.873292585968538759289003792218863964080810546875e-02   \n",
       " -2.776810972467214089220988171291537582874298095703125e-01\n",
       " -9.66510497969108595128773231408558785915374755859375e-02 \n",
       "  5.30971799275701261677795628202147781848907470703125e-02 \n",
       "  5.3720817858211145079394555068574845790863037109375e-02  \n",
       " -7.11645410518626508888928583473898470401763916015625e-02 \n",
       "  1.98101652009682549504532289574854075908660888671875e-01 \n",
       "  ⋮                                                        \n",
       "  2.43286127277337893559661097242496907711029052734375e-01 \n",
       " -1.962777617655977469013350855675525963306427001953125e-01\n",
       "  4.272876913665388798335698083974421024322509765625e-01   \n",
       "  1.57459721183896395046986071974970400333404541015625e-01 \n",
       "  3.983852421361120388354493115912191569805145263671875e-01\n",
       "  1.6799894770745726901850503054447472095489501953125e-02  \n",
       " -3.449706644157026769192952997400425374507904052734375e-01\n",
       "  3.071591650057106104299009530222974717617034912109375e-01\n",
       "  6.8767474497622771423266385681927204132080078125e-02     \n",
       "  2.598941775532186415631485942867584526538848876953125e-01\n",
       "  1.83247622806336440959285027929581701755523681640625e-01 \n",
       "  4.29108345423954151698353598476387560367584228515625e-02 "
      ]
     },
     "execution_count": 102,
     "metadata": {},
     "output_type": "execute_result"
    }
   ],
   "source": [
    "xb=[BigFloat(x[k]) for k=1:n]\n",
    "yb=[BigFloat(y[k]) for k=1:n]"
   ]
  },
  {
   "cell_type": "code",
   "execution_count": 103,
   "metadata": {
    "collapsed": false
   },
   "outputs": [
    {
     "data": {
      "text/plain": [
       "3.021410775102717251353050301485621373724427587522307362555493690826902142276822e+01 with 256 bits of precision"
      ]
     },
     "execution_count": 103,
     "metadata": {},
     "output_type": "execute_result"
    }
   ],
   "source": [
    "db=xb⋅yb"
   ]
  },
  {
   "cell_type": "code",
   "execution_count": 104,
   "metadata": {
    "collapsed": false
   },
   "outputs": [
    {
     "data": {
      "text/plain": [
       "3.43488765166735454266857390733890401926374445063091730978577231780946021899581e-13 with 256 bits of precision"
      ]
     },
     "execution_count": 104,
     "metadata": {},
     "output_type": "execute_result"
    }
   ],
   "source": [
    "abserr=abs(d-db)"
   ]
  },
  {
   "cell_type": "code",
   "execution_count": 105,
   "metadata": {
    "collapsed": false
   },
   "outputs": [
    {
     "data": {
      "text/plain": [
       "1.136848944861044752964716228617138591593382871333367386123886581835564449382384e-14 with 256 bits of precision"
      ]
     },
     "execution_count": 105,
     "metadata": {},
     "output_type": "execute_result"
    }
   ],
   "source": [
    "relerr=abserr/d"
   ]
  },
  {
   "cell_type": "code",
   "execution_count": null,
   "metadata": {
    "collapsed": true
   },
   "outputs": [],
   "source": []
  }
 ],
 "metadata": {
  "kernelspec": {
   "display_name": "Julia 0.3.9",
   "language": "julia",
   "name": "julia-0.3"
  },
  "language_info": {
   "file_extension": ".jl",
   "mimetype": "application/julia",
   "name": "julia",
   "version": "0.3.9"
  }
 },
 "nbformat": 4,
 "nbformat_minor": 0
}
