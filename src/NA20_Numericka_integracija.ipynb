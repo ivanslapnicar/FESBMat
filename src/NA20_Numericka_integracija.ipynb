{
 "cells": [
  {
   "cell_type": "markdown",
   "metadata": {},
   "source": [
    "# Numerička integracija\n",
    "\n",
    "---\n",
    "\n",
    "## Newton-Cotes-ove metode\n",
    "\n",
    "### Trapezno pravilo\n",
    "\n",
    "\n",
    "### Simpsonovo pravilo\n"
   ]
  },
  {
   "cell_type": "code",
   "execution_count": 4,
   "metadata": {
    "collapsed": false
   },
   "outputs": [
    {
     "data": {
      "text/plain": [
       "mytrapez (generic function with 1 method)"
      ]
     },
     "execution_count": 4,
     "metadata": {},
     "output_type": "execute_result"
    }
   ],
   "source": [
    "function mytrapez(f::Function,a::Number,b::Number,n::Int64)\n",
    "    # n je broj intervala\n",
    "    X=linspace(a,b,n+1)\n",
    "    Y=map(f,X)\n",
    "    I=(b-a)/n*(Y[1]/2+sum(Y[2:end-1])+Y[end]/2)\n",
    "    # Richardsonova ekstrapolacija\n",
    "    Ihalf=(b-a)/(n/2)*(Y[1]/2+sum(Y[3:2:end-2])+Y[end]/2)\n",
    "    E=(n/2)^2*(I-Ihalf)/(n^2-(n/2)^2)\n",
    "    I,E\n",
    "end "
   ]
  },
  {
   "cell_type": "code",
   "execution_count": 5,
   "metadata": {
    "collapsed": false
   },
   "outputs": [
    {
     "data": {
      "text/plain": [
       "((1.2110515487742433,0.00036371987130023875),(1.2110560275664024,1.172757710943273e-7),(1.2110560275684594,6.856737400084967e-13))"
      ]
     },
     "execution_count": 5,
     "metadata": {},
     "output_type": "execute_result"
    }
   ],
   "source": [
    "f(x)=sqrt(1-(3.0)/4*cos(x)^2)\n",
    "mytrapez(f,0,pi/2,4),mytrapez(f,0,pi/2,10),mytrapez(f,0,pi/2,20)"
   ]
  },
  {
   "cell_type": "markdown",
   "metadata": {},
   "source": [
    "## Gauss-ova kvadratura"
   ]
  },
  {
   "cell_type": "markdown",
   "metadata": {},
   "source": [
    "## Clenshaw-Curtis-ova kvadratura"
   ]
  },
  {
   "cell_type": "code",
   "execution_count": null,
   "metadata": {
    "collapsed": true
   },
   "outputs": [],
   "source": []
  }
 ],
 "metadata": {
  "kernelspec": {
   "display_name": "Julia 0.4.0",
   "language": "julia",
   "name": "julia-0.4"
  },
  "language_info": {
   "file_extension": ".jl",
   "mimetype": "application/julia",
   "name": "julia",
   "version": "0.4.0"
  }
 },
 "nbformat": 4,
 "nbformat_minor": 0
}
