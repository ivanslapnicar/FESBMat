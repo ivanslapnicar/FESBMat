{
 "cells": [
  {
   "cell_type": "markdown",
   "metadata": {},
   "source": [
    "# Numerička integracija\n",
    "\n",
    "---\n",
    "\n",
    "## Newton-Cotes-ova formula\n",
    "\n",
    "Funkcija $f(x):[a,b]\\to\\mathbb{R}$ se interpolira polinomom stupnja $n$ u kroz $n+1$ ravnomjerno raspoređenih točaka te se integral aproksimira integralom interpolacijskog polinoma. Polinom možemo računati u Lagrangeo-vom obliku  \n",
    "(vidi bilježnicu [NA09_Interpolacijski_polinomi.ipynb](NA09_Interpolacijski_polinomi.ipynb)):\n",
    "\n",
    "$$\n",
    "L_k(x)=\\prod_{{i=0}\\atop {i\\neq k}}^n \\frac{x-x_i}{x_k-x_i}\n",
    "$$\n",
    "\n",
    "Tada je \n",
    "\n",
    "$$\n",
    "f(x)\\approx P_n(x)=\\sum_{k=0}^n f(x_k) L_k(x),\n",
    "$$\n",
    "\n",
    "pa je \n",
    "\n",
    "$$\n",
    "\\int_a^b f(x)\\, dx\\approx \\int_a^b P_n(x) \\, dx=\\sum_{k=0}^n f(x_k) \\int_a^b L_k(x)\\, dx =(b-a)\\sum_{k=0}^n \\omega_k f(x_k). \\tag{1}\n",
    "$$\n",
    "\n",
    "Uz supstituciju $x=a+(b-a)t$, __težine__ $\\omega_k$ su\n",
    "\n",
    "$$\n",
    "\\omega_k=\\frac{1}{b-a}\\int_a^b L_k(x)\\, dx = \\int_0^1 \\prod_{{i=0}\\atop {i\\neq k}}^n \\frac{nt-i}{k-i}.\n",
    "$$\n",
    "\n",
    "### Trapezna formula\n",
    "\n",
    "Za $n=1$ Newton-Cotes-ova formula (1) daje \n",
    "\n",
    "$$\\omega_0=\\omega_1=\\frac{1}{2}.$$\n",
    "\n",
    "Interval $[a,b]$ podjelimo na $n$ jednakih podintervala,\n",
    "\n",
    "$$[x_{i-1},x_{i}],\\quad  i=1,2,\\ldots,n,$$ \n",
    "\n",
    "i uvedimo oznake\n",
    "\n",
    "$$ \n",
    "\\Delta x=\\frac{b-a}{n}, \\quad y_i=f(x_i).\n",
    "$$\n",
    "\n",
    "Primijena Newton-Cotes-ove formule na svaki podintevral i zbrajanje daje __trapeznu formulu__:\n",
    "\n",
    "$$\n",
    "Interval $[a,b]$ podjelimo na $n$ jednakih podintervala,\n",
    "\n",
    "$$[x_{i-1},x_{i}],\\quad  i=1,2,\\ldots,n,$$ \n",
    "\n",
    "i uvedimo oznake\n",
    "\n",
    "$$ \n",
    "\\Delta x=\\frac{b-a}{n}, \\quad y_i=f(x_i).\n",
    "$$\n",
    "\n",
    "Primijena Newton-Cotes-ove formule na svaki podinterval i zbrajanje daje __trapeznu formulu__:\n",
    "\n",
    "$$\n",
    "I_n=\\Delta x\\bigg( \\frac{y_0}{2} +y_1+y_2+\\cdots +y_{n-1}+\\frac{y_n}{2}\\bigg).\n",
    "$$\n",
    "\n",
    "Vrijedi\n",
    "\n",
    "$$\n",
    "\\int_a^b f(x)\\, dx=I_n+R,\n",
    "$$ \n",
    "\n",
    "pri čemu je  __pogreška__ $R$ omeđena s\n",
    "\n",
    "$$\n",
    "|R|\\leq \\frac{b-a}{12}(\\Delta x)^2 \\max_{x\\in(a,b)} |f''(x)|.\n",
    "$$\n",
    "\n",
    "Izvod trapezne formule i ocjene pogreške dan je u \n",
    "[R. Scitovski, Numerička matematika, poglavlje 7.1][RS04] i \n",
    "[I. Slapničar, Matematika 2, poglavlje 2.7.2][IS08].\n",
    "\n",
    "[RS04]: http://www.mathos.unios.hr/pim/Materijali/Num.pdf \"R. Scitovski, 'Numerička matematika', Sveučilište u Osijeku, Osijek, 2004.\"\n",
    "\n",
    "[IS08]: http://lavica.fesb.hr/mat2/predavanja/node46.html \"I. Slapničar, 'Matematika 2', FESB, Split, 2008.\"\n",
    "\n",
    "### Simpsonova formula\n",
    "\n",
    "Za $n=2$ Newton-cotes-ova formula (1) daje \n",
    "\n",
    "$$\\omega_0=\\frac{1}{6},\\quad \\omega_1=\\frac{2}{3},\\quad \\omega_2=\\frac{1}{6}.$$\n",
    "\n",
    "Interval $[a,b]$ podjelimo na paran broj $n$ jednakih podintervala, na svaki podinterval\n",
    "\n",
    "$$[x_{2i-1},x_{2i+1}],\\quad i=1,2,\\ldots,\\frac{n}{2},$$\n",
    "\n",
    "primijenimo  Newton-Cotes-ovu formulu i zbrojimo, što daje __Simpsonovu formulu__:\n",
    "\n",
    "$$\n",
    "I_n=\\frac{\\Delta x}{3}\\big(y_0 +4(y_1+y_3\\cdots +y_{n-1})+2(y_2+y_4+\\cdots+y_{n-2})+y_n\\big).\n",
    "$$\n",
    "\n",
    "Vrijedi\n",
    "\n",
    "$$\n",
    "\\int_a^b f(x)\\, dx =I_n+R,\n",
    "$$\n",
    "\n",
    "pri čemu je __pogreška__ $R$ omeđena s\n",
    "\n",
    "$$\n",
    "|R|\\leq \\frac{b-a}{180}(\\Delta x)^4 \\max_{x\\in(a,b)} |f^{(4)}(x)|. \\tag{3}\n",
    "$$\n",
    "\n",
    "Za detalje vidi \n",
    "[R. Scitovski, Numerička matematika, poglavlje 7.3][RS04] i \n",
    "[I. Slapničar, Matematika 2, poglavlje 2.7.3][IS08].\n",
    "\n",
    "### Richardson-ova ekstrapolacija\n",
    "\n",
    "Ocjena pogreške pomoću formula (2) i (3) može biti složena. __Richardsonova ekstrapolacija__ na omogućava da, uz određene uvjete, pogrešku procijenimo koristeći aproksimaciju integrala s $n/2$ točaka.\n",
    "Ako se u ocjeni pogreške javlja član $(\\Delta x)^m$  ($m=2$ za trapeznu formulu i $m=4$ za Simpsonovu formulu), tada je pogreška približno manja od broja\n",
    "\n",
    "$$\n",
    "E=\\frac{\\big(\\frac{n}{2}\\big)^m}{n^m-\\big(\\frac{n}{2}\\big)^m}(I_n-I_{n/2}).\n",
    "$$\n",
    "\n",
    "Predznak broja $E$ daje i predznak pogreške, ondosno, ako je $E>0$, tada je približno\n",
    "\n",
    "$$\\int_a^b f(x)\\, dx\\in[I_n,I_n+E],$$\n",
    "\n",
    "a ako je $E\\leq 0$, tada je približno\n",
    "\n",
    "$$\\int_a^b f(x)\\, dx\\in[I_n+E,I_n].$$\n",
    "\n",
    "Za detalje vidi [I. Slapničar, Matematika 2, poglavlje 2.7.4][IS08]."
   ]
  },
  {
   "cell_type": "code",
   "execution_count": 1,
   "metadata": {
    "collapsed": false
   },
   "outputs": [
    {
     "data": {
      "text/plain": [
       "mytrapez (generic function with 1 method)"
      ]
     },
     "execution_count": 1,
     "metadata": {},
     "output_type": "execute_result"
    }
   ],
   "source": [
    "function mytrapez(f::Function,a::Number,b::Number,n::Int64)\n",
    "    # n je broj intervala\n",
    "    X=linspace(a,b,n+1)\n",
    "    Y=map(f,X)\n",
    "    Δx=(b-a)/n\n",
    "    I=Δx*(Y[1]/2+sum(Y[2:end-1])+Y[end]/2)\n",
    "    # Richardsonova ekstrapolacija\n",
    "    Ihalf=2*Δx*(Y[1]/2+sum(Y[3:2:end-2])+Y[end]/2)\n",
    "    E=(n/2)^2*(I-Ihalf)/(n^2-(n/2)^2)\n",
    "    I,E\n",
    "end "
   ]
  },
  {
   "cell_type": "code",
   "execution_count": 2,
   "metadata": {
    "collapsed": false
   },
   "outputs": [
    {
     "data": {
      "text/plain": [
       "mySimpson (generic function with 1 method)"
      ]
     },
     "execution_count": 2,
     "metadata": {},
     "output_type": "execute_result"
    }
   ],
   "source": [
    "function mySimpson(f::Function,a::Number,b::Number,n::Int64)\n",
    "    # n je broj intervala, djeljiv s 4\n",
    "    X=linspace(a,b,n+1)\n",
    "    Y=map(f,X)\n",
    "    Δx=(b-a)/n\n",
    "    I=Δx/3*(Y[1]+4*sum(Y[2:2:end-1])+2*sum(Y[3:2:end-2])+Y[end])\n",
    "    # Richardsonova ekstrapolacija\n",
    "    Ihalf=2*Δx/3*(Y[1]+4*sum(Y[3:4:end-2])+2*sum(Y[5:4:end-4])+Y[end])\n",
    "    E=(n/2)^4*(I-Ihalf)/(n^4-(n/2)^4)\n",
    "    I,E\n",
    "end "
   ]
  },
  {
   "cell_type": "markdown",
   "metadata": {},
   "source": [
    "### Primjer 1 - Eliptički integral\n",
    "\n",
    "\n",
    "\n",
    "Izračunajmo osminu opsega elipse s polu-osima $2$ i $1$ (vidi  [I. Slapničar, Matematika 2, poglavlje 2.7.1][IS08]):\n",
    "\n",
    "[IS08]: http://lavica.fesb.hr/mat2/predavanja/node46.html \"I. Slapničar, 'Matematika 2', FESB, Split, 2008.\""
   ]
  },
  {
   "cell_type": "code",
   "execution_count": 3,
   "metadata": {
    "collapsed": false
   },
   "outputs": [
    {
     "data": {
      "text/plain": [
       "((1.2110515487742433,0.00036371987130023875),(1.2110560275664024,1.172757710943273e-7),(1.2110560275684592,6.3652786745175644e-15))"
      ]
     },
     "execution_count": 3,
     "metadata": {},
     "output_type": "execute_result"
    }
   ],
   "source": [
    "f(x)=sqrt(1-(3.0)/4*cos(x)^2)\n",
    "mytrapez(f,0,π/2,4), mytrapez(f,0,pi/2,10), mytrapez(f,0,pi/2,24)"
   ]
  },
  {
   "cell_type": "code",
   "execution_count": 4,
   "metadata": {
    "collapsed": false
   },
   "outputs": [
    {
     "data": {
      "text/plain": [
       "((1.2114152686455435,-0.000611077902412586),(1.2110560276465434,-9.950273232028905e-8),(1.211056027568466,-6.556223564047059e-10))"
      ]
     },
     "execution_count": 4,
     "metadata": {},
     "output_type": "execute_result"
    }
   ],
   "source": [
    "mySimpson(f,0,π/2,4), mySimpson(f,0,π/2,16), mySimpson(f,0,π/2,24)"
   ]
  },
  {
   "cell_type": "markdown",
   "metadata": {},
   "source": [
    "### Primjer 2 - $\\pi$\n",
    "\n",
    "Vrijedi \n",
    "\n",
    "$$\n",
    "\\int_0^1 \\frac{4}{1+x^2}\\, dx=\\pi.\n",
    "$$\n",
    "\n",
    "Aproksimirajmo $\\pi$ numeričkom integracijom i provjerimo pogrešku (vidi [R. Scitovski, Numerička matematika, poglavlje 7.3][RS04]).\n",
    "\n",
    "> Pomoću trapezne formula možemo dobiti najviše pet točnih decimala. \n",
    "Simpsonova formula je točnija, ali je konvergencija spora.\n",
    "\n",
    "[RS04]: http://www.mathos.unios.hr/pim/Materijali/Num.pdf \"R. Scitovski, 'Numerička matematika', Sveučilište u Osijeku, Osijek, 2004.\""
   ]
  },
  {
   "cell_type": "code",
   "execution_count": 5,
   "metadata": {
    "collapsed": false
   },
   "outputs": [
    {
     "data": {
      "text/plain": [
       "3.141592653589793238462643383279502884197169399375105820974944592307816406286198"
      ]
     },
     "execution_count": 5,
     "metadata": {},
     "output_type": "execute_result"
    }
   ],
   "source": [
    "πbig=BigFloat(pi)"
   ]
  },
  {
   "cell_type": "code",
   "execution_count": 6,
   "metadata": {
    "collapsed": false
   },
   "outputs": [
    {
     "name": "stdout",
     "output_type": "stream",
     "text": [
      "πapprox = mytrapez(f,0,1,10) = (3.1399259889071587,0.0016666250320562053)"
     ]
    },
    {
     "data": {
      "text/plain": [
       "-1.666664682634555812309880018294349956446743125105820974944592307816406286198029e-03"
      ]
     },
     "execution_count": 6,
     "metadata": {},
     "output_type": "execute_result"
    },
    {
     "name": "stdout",
     "output_type": "stream",
     "text": [
      "\n"
     ]
    }
   ],
   "source": [
    "f(x)=4/(1+x^2)\n",
    "@show πapprox=mytrapez(f,0,1,10)\n",
    "πapprox[1]-πbig"
   ]
  },
  {
   "cell_type": "code",
   "execution_count": 7,
   "metadata": {
    "collapsed": false
   },
   "outputs": [
    {
     "name": "stdout",
     "output_type": "stream",
     "text": [
      "πapprox = mytrapez(f,0,1,100) = (3.1415759869231286,1.66666666251795e-5)"
     ]
    },
    {
     "data": {
      "text/plain": [
       "-1.666666666467787203105955763210420601949703135582097494459230781640628619802945e-05"
      ]
     },
     "execution_count": 7,
     "metadata": {},
     "output_type": "execute_result"
    },
    {
     "name": "stdout",
     "output_type": "stream",
     "text": [
      "\n"
     ]
    }
   ],
   "source": [
    "@show πapprox=mytrapez(f,0,1,100)\n",
    "πapprox[1]-πbig"
   ]
  },
  {
   "cell_type": "code",
   "execution_count": 8,
   "metadata": {
    "collapsed": false
   },
   "outputs": [
    {
     "name": "stdout",
     "output_type": "stream",
     "text": [
      "πapprox = mySimpson(f,0,1,16) = (3.141592651224822,9.91774099882529e-9)"
     ]
    },
    {
     "data": {
      "text/plain": [
       "-2.364971452347017073514000073718958950156355820974944592307816406286198029453625e-09"
      ]
     },
     "execution_count": 8,
     "metadata": {},
     "output_type": "execute_result"
    },
    {
     "name": "stdout",
     "output_type": "stream",
     "text": [
      "\n"
     ]
    }
   ],
   "source": [
    "@show πapprox=mySimpson(f,0,1,16)\n",
    "πapprox[1]-πbig"
   ]
  },
  {
   "cell_type": "code",
   "execution_count": 9,
   "metadata": {
    "collapsed": false
   },
   "outputs": [
    {
     "name": "stdout",
     "output_type": "stream",
     "text": [
      "πapprox = mySimpson(f,0,1,64) = (3.1415926535892162,2.4253192047278085e-12)"
     ]
    },
    {
     "data": {
      "text/plain": [
       "-5.769943482751460737218416213332177344808209749445923078164062861980294536250318e-13"
      ]
     },
     "execution_count": 9,
     "metadata": {},
     "output_type": "execute_result"
    },
    {
     "name": "stdout",
     "output_type": "stream",
     "text": [
      "\n"
     ]
    }
   ],
   "source": [
    "@show πapprox=mySimpson(f,0,1,64)\n",
    "πapprox[1]-πbig"
   ]
  },
  {
   "cell_type": "markdown",
   "metadata": {},
   "source": [
    "## Gauss-ova kvadratura"
   ]
  },
  {
   "cell_type": "markdown",
   "metadata": {},
   "source": [
    "## Clenshaw-Curtis-ova kvadratura"
   ]
  },
  {
   "cell_type": "code",
   "execution_count": null,
   "metadata": {
    "collapsed": true
   },
   "outputs": [],
   "source": []
  }
 ],
 "metadata": {
  "kernelspec": {
   "display_name": "Julia 0.4.0",
   "language": "julia",
   "name": "julia-0.4"
  },
  "language_info": {
   "file_extension": ".jl",
   "mimetype": "application/julia",
   "name": "julia",
   "version": "0.4.0"
  }
 },
 "nbformat": 4,
 "nbformat_minor": 0
}
