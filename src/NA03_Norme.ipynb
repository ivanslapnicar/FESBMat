{
 "cells": [
  {
   "cell_type": "markdown",
   "metadata": {},
   "source": [
    "# Norme\n",
    "\n",
    "---\n",
    "\n",
    "Norma na vektorskom prostoru $X$ je svaka funkcija $\\| \\phantom{x} \\| : X\\to \\mathbb{R}$ sa sljedećim svojstvima:\n",
    "\n",
    "1. $\\| x\\|=0\\| \\Leftrightarrow x=0$\n",
    "2. $\\| \\lambda x\\|=|\\lambda| \\|x\\|$\n",
    "3. $\\| x+y\\| \\leq \\|x\\|+\\|y\\|$ (nejednakost trokuta)"
   ]
  },
  {
   "cell_type": "markdown",
   "metadata": {},
   "source": [
    "## Vektorske norme\n",
    "\n",
    "Za $X=\\mathbb{R}^n$ imamo\n",
    "\n",
    "$$\\|x\\|_p=\\big(\\sum_{i=1}^n |x_i|^p\\big)^{1/p}$$\n",
    "\n",
    "Posebno:\n",
    "\n",
    "* $\\|x\\|_1=\\sum_{i=1}^n |x_i|$\n",
    "* $\\|x\\|_2=\\sqrt{\\sum_{i=1}^n x_i^2}$\n",
    "* $\\|x\\|_\\infty = \\max\\limits_{i=1,\\ldots,n} |x_i| $"
   ]
  },
  {
   "cell_type": "code",
   "execution_count": 1,
   "metadata": {
    "collapsed": false
   },
   "outputs": [
    {
     "data": {
      "text/plain": [
       "5-element Array{Int64,1}:\n",
       " -2\n",
       " -1\n",
       "  2\n",
       "  2\n",
       "  2"
      ]
     },
     "execution_count": 1,
     "metadata": {},
     "output_type": "execute_result"
    }
   ],
   "source": [
    "x=rand(-4:4,5)"
   ]
  },
  {
   "cell_type": "code",
   "execution_count": 2,
   "metadata": {
    "collapsed": false
   },
   "outputs": [
    {
     "data": {
      "text/plain": [
       "(9.0,4.123105625617661,2.0)"
      ]
     },
     "execution_count": 2,
     "metadata": {},
     "output_type": "execute_result"
    }
   ],
   "source": [
    "norm(x,1), norm(x), norm(x,Inf)"
   ]
  },
  {
   "cell_type": "markdown",
   "metadata": {},
   "source": [
    "## Matrične norme\n",
    "\n",
    "Iz svake vektorske norme možemo izvesti matričnu normu (_inducirane norme_):\n",
    "\n",
    "$$\\|A\\| = \\max\\limits_{x\\neq 0} \\frac{\\|Ax\\|}{\\|x\\|}=\\max\\limits_{\\|x\\|=1} \\|Ax\\|$$\n",
    "\n",
    "Posebno:\n",
    "\n",
    "* $\\|A\\|_1=\\max\\limits_{j=1:n} \\sum_{i=1}^n |a_{ij}|$  - najveća 1-norma stupca\n",
    "* $\\|A\\|_{\\infty}=\\max\\limits_{i=1:n} \\sum_{j=1}^n |a_{ij}|$ - najveća 1-norma retka\n",
    "* $\\|A\\|_2$ - najveća singularna vrijednost  matrice $A$\n",
    "\n",
    "_Frobeniusova_ ili _Euklidska_ norma\n",
    "\n",
    "$$\\|A\\|_F =\\sqrt{\\sum_{i,j=1}^n a_{ij}^2}$$\n",
    "\n",
    "nije inducirana norma.\n",
    "\n",
    "Matrične norme još imaju i dodatno svojstvo \n",
    "\n",
    "$$\n",
    "\\|A\\cdot B\\|\\leq \\|A\\| \\cdot \\| B\\|.\n",
    "$$"
   ]
  },
  {
   "cell_type": "code",
   "execution_count": 3,
   "metadata": {
    "collapsed": false
   },
   "outputs": [
    {
     "data": {
      "text/plain": [
       "5×5 Array{Int64,2}:\n",
       "  1  -2   3  -4  -1\n",
       " -3   1   2  -2  -1\n",
       " -1  -1   3   2   2\n",
       " -1   3   0  -3  -4\n",
       " -4   3  -4  -3   0"
      ]
     },
     "execution_count": 3,
     "metadata": {},
     "output_type": "execute_result"
    }
   ],
   "source": [
    "A=rand(-4:4,5,5)"
   ]
  },
  {
   "cell_type": "code",
   "execution_count": 4,
   "metadata": {
    "collapsed": false
   },
   "outputs": [
    {
     "data": {
      "text/plain": [
       "(14.0,8.97461274594312,8.97461274594312,14.0,12.409673645990857)"
      ]
     },
     "execution_count": 4,
     "metadata": {},
     "output_type": "execute_result"
    }
   ],
   "source": [
    "norm(A,1), norm(A), norm(A,2), norm(A,Inf), vecnorm(A)"
   ]
  },
  {
   "cell_type": "code",
   "execution_count": null,
   "metadata": {
    "collapsed": true
   },
   "outputs": [],
   "source": []
  }
 ],
 "metadata": {
  "anaconda-cloud": {},
  "kernelspec": {
   "display_name": "Julia 0.5.0",
   "language": "julia",
   "name": "julia-0.5"
  },
  "language_info": {
   "file_extension": ".jl",
   "mimetype": "application/julia",
   "name": "julia",
   "version": "0.5.0"
  }
 },
 "nbformat": 4,
 "nbformat_minor": 0
}
