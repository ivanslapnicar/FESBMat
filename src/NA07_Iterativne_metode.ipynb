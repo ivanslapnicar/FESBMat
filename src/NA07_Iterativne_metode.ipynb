{
 "cells": [
  {
   "cell_type": "markdown",
   "metadata": {},
   "source": [
    "# Iterativne metode\n",
    "---\n",
    "\n",
    "Za velike sustave, a posebno za sustave s malom ispunom (malo elemenata različitih od nule), te ukoliko je matrica sustava __strogo dijagonalno dominantna__, rješenje se može brzo naći __iterativnim metodama__\n",
    "(vidi [Numerička matematika, poglavlje 3.8][RS04]):\n",
    "\n",
    "__Definicija.__ Funkcija $F:\\mathbb{R}^n\\to \\mathbb{R}^n$ je __kontrakcija__ ako postoji broj $q<1$ za koji vrijedi\n",
    "\n",
    "$$\n",
    "\\| F(x)-F(y)\\| < q\\|x-y\\|\\qquad \\forall x,y.\n",
    "$$\n",
    "\n",
    "__ Banachov teorem o fiksnoj točki.__ Ako je $F$ kontrakcija, tada niz definiran s\n",
    "\n",
    "$$ \n",
    "x_{k+1}=F(x_k)\n",
    "$$\n",
    "\n",
    "konvergira prema jedinstvenom vektoru $\\tilde x$ za kojeg vrijedi\n",
    "\n",
    "$$\n",
    "\\tilde x = F(\\tilde x).\n",
    "$$\n",
    "\n",
    "$\\tilde x$ se zove __fiksna točka__ funkcije $F$. Za pogrešku u $k$-tom koraku vrijede ocjene\n",
    "\n",
    "$$\n",
    "\\|x_k- \\tilde x\\| \\leq \\frac{q}{1-q} \\|x_k-x_{k-1}\\|\n",
    "$$\n",
    "\n",
    "i \n",
    "\n",
    "$$\n",
    "\\|x_k- \\tilde x\\| \\leq \\frac{q^k}{1-q} \\|x_1-x_{0}\\|,\n",
    "$$\n",
    "\n",
    "pri čemu je druga ocjena bolja. Brzina konvergencije je __linearna__,\n",
    "\n",
    "$$\n",
    "\\|x_{k+1}-\\tilde x\\| \\leq q\\| x_k-\\tilde x\\|.\n",
    "$$\n",
    "\n",
    "[RS04]: http://www.mathos.unios.hr/pim/Materijali/Num.pdf \"R. Scitovski, 'Numerička matematika', Sveučilište u Osijeku, Osijek, 2004.\""
   ]
  },
  {
   "cell_type": "markdown",
   "metadata": {},
   "source": [
    "\n",
    "## Jacobijeva i Gauss-Seidelova metoda\n",
    "\n",
    "Neke je \n",
    "\n",
    "$$F(x)=Bx+c,$$\n",
    "\n",
    "pri čemu je $B$ nesignularna matrica. Tada je\n",
    "\n",
    "$$\n",
    "\\| F(x)-F(y)\\|=\\| Bx+c-(By+c)\\|=\\|B(x-y)\\| \\leq \\|B\\| \\|x-y\\|,\n",
    "$$\n",
    "\n",
    "pa je $F$ kontrakcija ako i samo ako je\n",
    "\n",
    "$$\n",
    " \\|B\\|=q<1.\n",
    "$$\n",
    "\n",
    "Neka je zadan sustav  $Ax=b$. Matricu $A$ rastavimo kao\n",
    "\n",
    "$$\n",
    "A=D(L+I+U)\n",
    "$$\n",
    "\n",
    "pri čemu je $D$ dijagonalna matrica, $L$ strogo donje trokutasta matrica i $U$ strogo gornje trokutasta matrica.\n",
    "\n",
    "__Jacobijeva metoda__:  Neka je \n",
    "\n",
    "$$\n",
    "B=-(L+U), \\quad c=D^{-1}b.\n",
    "$$\n",
    "\n",
    "\n",
    "Ako je matrica $A$ _strogo dijagonalno dominantna_, \n",
    "\n",
    "$$\n",
    "\\| B\\|_{\\infty} = \\max_i \\sum_{{j=1} \\atop {j\\neq i}}^n \\frac{|a_{ij}|}{|a_{ii}|}<1,\n",
    "$$\n",
    "\n",
    "tada je preslikavanje $F$ kontrakcija (moguće je uzeti i druge norme).\n",
    "\n",
    "Niz \n",
    "\n",
    "$$\n",
    "x_{k+1}=-(L+U)x_k+c\n",
    "$$\n",
    "\n",
    "očito konvergira prema rješenju sustava $x$.\n",
    "\n",
    "__Gauss-Seidel-ova metoda__:  Neka je \n",
    "\n",
    "$$\n",
    "B=-(I+L)^{-1}U, \\quad c=(I+L)^{-1}D^{-1}b.\n",
    "$$\n",
    "\n",
    "> Bez dokaza navodimo sljedeću tvrdnju: ako je matrica $A$ strogo dijagonalno dominantna,\n",
    "onda je preslikavanje $F$ kontrakcija pa\n",
    "\n",
    "niz\n",
    "\n",
    "$$\n",
    "x_{k+1}=-(I+L)^{-1}Ux_k+(I+L)^{-1}D^{-1}b,\n",
    "$$\n",
    "\n",
    "odnosno\n",
    "\n",
    "$$\n",
    "x_{k+1}=-Lx_{k+1}-Ux_k+D^{-1}b,\n",
    "$$\n",
    "\n",
    "konvergira prema rješenju sustava $x$."
   ]
  },
  {
   "cell_type": "code",
   "execution_count": 1,
   "metadata": {
    "collapsed": false
   },
   "outputs": [
    {
     "data": {
      "text/plain": [
       "myjacobi (generic function with 1 method)"
      ]
     },
     "execution_count": 1,
     "metadata": {},
     "output_type": "execute_result"
    }
   ],
   "source": [
    "function myjacobi{T}(A::Array{T},b::Array{T},x::Array{T})\n",
    "    D=diag(A)\n",
    "    L=tril(A,-1)./D\n",
    "    U=triu(A,1)./D\n",
    "    tol=1000*eps()\n",
    "    d=1.0\n",
    "    B=-(L+U)\n",
    "    c=b./D\n",
    "    q=norm(B,Inf)\n",
    "    # @show q\n",
    "    while d>tol\n",
    "        y=B*x+c\n",
    "        d=norm(x-y,Inf)\n",
    "        # @show d\n",
    "        x=y\n",
    "    end\n",
    "    x,d\n",
    "end"
   ]
  },
  {
   "cell_type": "code",
   "execution_count": 2,
   "metadata": {
    "collapsed": false
   },
   "outputs": [
    {
     "data": {
      "text/plain": [
       "8-element Array{Float64,1}:\n",
       " 0.640555\n",
       " 0.380441\n",
       " 0.851706\n",
       " 0.186973\n",
       " 0.691431\n",
       " 0.792726\n",
       " 0.143831\n",
       " 0.302258"
      ]
     },
     "execution_count": 2,
     "metadata": {},
     "output_type": "execute_result"
    }
   ],
   "source": [
    "n=8\n",
    "A=rand(n,n)\n",
    "# Napravimo matricu dijagonalno diminantnom\n",
    "A=A+n*I\n",
    "b=rand(n)"
   ]
  },
  {
   "cell_type": "code",
   "execution_count": 3,
   "metadata": {
    "collapsed": false
   },
   "outputs": [
    {
     "data": {
      "text/plain": [
       "8-element Array{Float64,1}:\n",
       " 0.642757\n",
       " 0.698345\n",
       " 0.53025 \n",
       " 0.809845\n",
       " 0.263982\n",
       " 0.989551\n",
       " 0.566611\n",
       " 0.817258"
      ]
     },
     "execution_count": 3,
     "metadata": {},
     "output_type": "execute_result"
    }
   ],
   "source": [
    "# Pocetni vektor\n",
    "x0=rand(n)"
   ]
  },
  {
   "cell_type": "code",
   "execution_count": 4,
   "metadata": {
    "collapsed": false
   },
   "outputs": [
    {
     "data": {
      "text/plain": [
       "([0.064049,0.0284097,0.0748989,-0.000122385,0.0728253,0.0851809,0.000615056,0.0189842],1.7049903155985646e-13)"
      ]
     },
     "execution_count": 4,
     "metadata": {},
     "output_type": "execute_result"
    }
   ],
   "source": [
    "x,d=myjacobi(A,b,x0)"
   ]
  },
  {
   "cell_type": "code",
   "execution_count": 5,
   "metadata": {
    "collapsed": false
   },
   "outputs": [
    {
     "data": {
      "text/plain": [
       "8-element Array{Float64,1}:\n",
       " 3.96017e-13\n",
       " 4.00291e-13\n",
       " 5.09703e-13\n",
       " 5.30354e-13\n",
       " 3.19966e-13\n",
       " 3.83249e-13\n",
       " 3.70981e-13\n",
       " 3.65263e-13"
      ]
     },
     "execution_count": 5,
     "metadata": {},
     "output_type": "execute_result"
    }
   ],
   "source": [
    "r=A*x-b"
   ]
  },
  {
   "cell_type": "code",
   "execution_count": 6,
   "metadata": {
    "collapsed": false
   },
   "outputs": [
    {
     "data": {
      "text/plain": [
       "6.594025128365284e-13"
      ]
     },
     "execution_count": 6,
     "metadata": {},
     "output_type": "execute_result"
    }
   ],
   "source": [
    "# Provjerimo i normu relativnog reziduala\n",
    "norm(r)/(norm(A)*norm(x))"
   ]
  },
  {
   "cell_type": "code",
   "execution_count": 7,
   "metadata": {
    "collapsed": false
   },
   "outputs": [
    {
     "data": {
      "text/plain": [
       "mygaussseidel (generic function with 1 method)"
      ]
     },
     "execution_count": 7,
     "metadata": {},
     "output_type": "execute_result"
    }
   ],
   "source": [
    "function mygaussseidel{T}(A::Array{T},b::Array{T},x::Array{T})\n",
    "    D=diag(A)\n",
    "    L=tril(A,-1)./D\n",
    "    U=triu(A,1)./D\n",
    "    tol=1000*eps()\n",
    "    d=1.0\n",
    "    # B=-inv(I+L)*U\n",
    "    B=-(I+L)\\U\n",
    "    c=(I+L)\\(b./D)\n",
    "    @show norm(U,Inf)\n",
    "    y=Array(Float64,n)\n",
    "    while d>tol\n",
    "        y=B*x+c\n",
    "        d=norm(x-y)\n",
    "        x=y\n",
    "    end\n",
    "    x,d\n",
    "end"
   ]
  },
  {
   "cell_type": "code",
   "execution_count": 8,
   "metadata": {
    "collapsed": false
   },
   "outputs": [
    {
     "name": "stdout",
     "output_type": "stream",
     "text": [
      "norm(U,Inf) = 0.36534196879765435\n"
     ]
    },
    {
     "data": {
      "text/plain": [
       "([0.064049,0.0284097,0.0748989,-0.000122385,0.0728253,0.0851809,0.000615056,0.0189842],3.373286393500679e-14)"
      ]
     },
     "execution_count": 8,
     "metadata": {},
     "output_type": "execute_result"
    }
   ],
   "source": [
    "x,d=mygaussseidel(A,b,x0)"
   ]
  },
  {
   "cell_type": "code",
   "execution_count": 9,
   "metadata": {
    "collapsed": false
   },
   "outputs": [
    {
     "data": {
      "text/plain": [
       "8-element Array{Float64,1}:\n",
       "  1.32117e-14\n",
       "  1.69864e-14\n",
       "  2.33147e-15\n",
       " -1.16573e-15\n",
       " -1.55431e-15\n",
       " -3.55271e-15\n",
       " -1.38778e-16\n",
       "  0.0        "
      ]
     },
     "execution_count": 9,
     "metadata": {},
     "output_type": "execute_result"
    }
   ],
   "source": [
    "A*x-b"
   ]
  },
  {
   "cell_type": "markdown",
   "metadata": {
    "collapsed": true
   },
   "source": [
    "Izmjerimo brzinu za veće matrice:"
   ]
  },
  {
   "cell_type": "code",
   "execution_count": 10,
   "metadata": {
    "collapsed": false
   },
   "outputs": [
    {
     "data": {
      "text/plain": [
       "1024-element Array{Float64,1}:\n",
       " 0.843517 \n",
       " 0.312239 \n",
       " 0.57996  \n",
       " 0.995244 \n",
       " 0.950374 \n",
       " 0.717269 \n",
       " 0.48749  \n",
       " 0.249597 \n",
       " 0.267766 \n",
       " 0.884959 \n",
       " 0.0025356\n",
       " 0.476996 \n",
       " 0.513873 \n",
       " ⋮        \n",
       " 0.740755 \n",
       " 0.910416 \n",
       " 0.217702 \n",
       " 0.19419  \n",
       " 0.568304 \n",
       " 0.676044 \n",
       " 0.558603 \n",
       " 0.578416 \n",
       " 0.734463 \n",
       " 0.612342 \n",
       " 0.0124803\n",
       " 0.79211  "
      ]
     },
     "execution_count": 10,
     "metadata": {},
     "output_type": "execute_result"
    }
   ],
   "source": [
    "n=1024\n",
    "A=rand(n,n)\n",
    "# Napravimo matricu dijagonalno diminantnom\n",
    "A=A+n*I\n",
    "b=rand(n)\n",
    "# Pocetni vektor\n",
    "x0=rand(n)"
   ]
  },
  {
   "cell_type": "code",
   "execution_count": 11,
   "metadata": {
    "collapsed": false
   },
   "outputs": [
    {
     "name": "stdout",
     "output_type": "stream",
     "text": [
      "norm(U,Inf) = 0.5105608936395252\n",
      "  0.122723 seconds (379 allocations: 64.438 MB, 4.22% gc time)\n"
     ]
    },
    {
     "data": {
      "text/plain": [
       "([0.000524302,-4.20178e-5,-7.13344e-9,-6.41972e-6,0.000798009,1.10988e-5,-1.17524e-5,0.000348728,6.23678e-5,-1.93863e-5  …  0.000757723,0.000631108,-5.17668e-5,0.000394772,6.27773e-5,-0.000156002,0.000730403,0.000761369,0.000416125,0.000337533],1.221601681562387e-13)"
      ]
     },
     "execution_count": 11,
     "metadata": {},
     "output_type": "execute_result"
    }
   ],
   "source": [
    "@time mygaussseidel(A,b,x0)"
   ]
  },
  {
   "cell_type": "code",
   "execution_count": 12,
   "metadata": {
    "collapsed": false
   },
   "outputs": [
    {
     "name": "stdout",
     "output_type": "stream",
     "text": [
      "  0.083965 seconds (14 allocations: 8.016 MB)\n"
     ]
    },
    {
     "data": {
      "text/plain": [
       "1024-element Array{Float64,1}:\n",
       "  0.000524302\n",
       " -4.20178e-5 \n",
       " -7.13344e-9 \n",
       " -6.41972e-6 \n",
       "  0.000798009\n",
       "  1.10988e-5 \n",
       " -1.17524e-5 \n",
       "  0.000348728\n",
       "  6.23678e-5 \n",
       " -1.93863e-5 \n",
       "  0.00062468 \n",
       "  0.000136238\n",
       "  0.000361757\n",
       "  ⋮          \n",
       "  0.000105741\n",
       "  0.000777459\n",
       "  0.000757723\n",
       "  0.000631108\n",
       " -5.17668e-5 \n",
       "  0.000394772\n",
       "  6.27773e-5 \n",
       " -0.000156002\n",
       "  0.000730403\n",
       "  0.000761369\n",
       "  0.000416125\n",
       "  0.000337533"
      ]
     },
     "execution_count": 12,
     "metadata": {},
     "output_type": "execute_result"
    }
   ],
   "source": [
    "# Usporedimo brzinu s Gaussovom metodom\n",
    "@time A\\b"
   ]
  },
  {
   "cell_type": "markdown",
   "metadata": {},
   "source": [
    "### Primjeri \n",
    "\n",
    "Primjeri mnogih zanimljivih matrica raznih svojstava se nalaze na \n",
    "[Matrix Market](http://math.nist.gov/MatrixMarket/) (vidi, na primjer, [matricu krova Omni arene u Atlanti](http://math.nist.gov/MatrixMarket/data/Harwell-Boeing/bcsstruc2/bcsstk14.html))."
   ]
  },
  {
   "cell_type": "code",
   "execution_count": null,
   "metadata": {
    "collapsed": true
   },
   "outputs": [],
   "source": []
  }
 ],
 "metadata": {
  "anaconda-cloud": {},
  "kernelspec": {
   "display_name": "Julia 0.5.0",
   "language": "julia",
   "name": "julia-0.5"
  },
  "language_info": {
   "file_extension": ".jl",
   "mimetype": "application/julia",
   "name": "julia",
   "version": "0.5.0"
  }
 },
 "nbformat": 4,
 "nbformat_minor": 0
}
