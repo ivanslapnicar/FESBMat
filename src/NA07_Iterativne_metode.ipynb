{
 "cells": [
  {
   "cell_type": "markdown",
   "metadata": {},
   "source": [
    "# Iterativne metode\n",
    "---\n",
    "\n",
    "Za velike sustave, a posebno za sustave s malom ispunom (malo elemenata različitih od nule), te ukoliko je matrica sustava __strogo dijagonalno dominantna__, rješenje se može brzo naći __iterativnim metodama__\n",
    "(vidi [Numerička matematika, poglavlje 3.8][RS04]):\n",
    "\n",
    "__Definicija.__ Funkcija $F:\\mathbb{R}^n\\to \\mathbb{R}^n$ je __kontrakcija__ ako postoji broj $q<1$ za koji vrijedi\n",
    "\n",
    "$$\n",
    "\\| F(x)-F(y)\\| < q\\|x-y\\|\\qquad \\forall x,y.\n",
    "$$\n",
    "\n",
    "__ Banachov teorem o fiksnoj točki.__ Ako je $F$ kontrakcija, tada niz definiran s\n",
    "\n",
    "$$ \n",
    "x_{k+1}=F(x_k)\n",
    "$$\n",
    "\n",
    "konvergira prema jedinstvenom vektoru $\\tilde x$ za kojeg vrijedi\n",
    "\n",
    "$$\n",
    "\\tilde x = F(\\tilde x).\n",
    "$$\n",
    "\n",
    "$\\tilde x$ se zove __fiksna točka__ funkcije $F$. Za pogrešku u $k$-tom koraku vrijede ocjene\n",
    "\n",
    "$$\n",
    "\\|x_k- \\tilde x\\| \\leq \\frac{q}{1-q} \\|x_k-x_{k-1}\\|\n",
    "$$\n",
    "\n",
    "i \n",
    "\n",
    "$$\n",
    "\\|x_k- \\tilde x\\| \\leq \\frac{q^k}{1-q} \\|x_1-x_{0}\\|,\n",
    "$$\n",
    "\n",
    "pri čemu je druga ocjena bolja. Brzina konvergencije je __linearna__,\n",
    "\n",
    "$$\n",
    "\\|x_{k+1}-\\tilde x\\| \\leq q\\| x_k-\\tilde x\\|.\n",
    "$$\n",
    "\n",
    "[RS04]: http://www.mathos.unios.hr/pim/Materijali/Num.pdf \"R. Scitovski, 'Numerička matematika', Sveučilište u Osijeku, Osijek, 2004.\""
   ]
  },
  {
   "cell_type": "markdown",
   "metadata": {},
   "source": [
    "\n",
    "## Jacobijeva i Gauss-Seidelova metoda\n",
    "\n",
    "Neke je \n",
    "\n",
    "$$F(x)=Bx+c,$$\n",
    "\n",
    "pri čemu je $B$ nesignularna matrica. Tada je\n",
    "\n",
    "$$\n",
    "\\| F(x)-F(y)\\|=\\| Bx+c-(By+c)\\|=\\|B(x-y)\\| \\leq \\|B\\| \\|x-y\\|,\n",
    "$$\n",
    "\n",
    "pa je $F$ kontrakcija ako i samo ako je\n",
    "\n",
    "$$\n",
    " \\|B\\|=q<1.\n",
    "$$\n",
    "\n",
    "Neka je zadan sustav  $Ax=b$. Matricu $A$ rastavimo kao\n",
    "\n",
    "$$\n",
    "A=D(L+I+U)\n",
    "$$\n",
    "\n",
    "pri čemu je $D$ dijagonalna matrica, $L$ strogo donje trokutasta matrica i $U$ strogo gornje trokutasta matrica.\n",
    "\n",
    "__Jacobijeva metoda__:  Neka je \n",
    "\n",
    "$$\n",
    "B=-(L+U), \\quad c=D^{-1}b.\n",
    "$$\n",
    "\n",
    "\n",
    "Ako je matrica $A$ _strogo dijagonalno dominantna_, \n",
    "\n",
    "$$\n",
    "\\| B\\|_{\\infty} = \\max_i \\sum_{{j=1} \\atop {j\\neq i}}^n \\frac{|a_{ij}|}{|a_{ii}|}<1,\n",
    "$$\n",
    "\n",
    "tada je preslikavanje $F$ kontrakcija (moguće je uzeti i druge norme).\n",
    "\n",
    "Niz \n",
    "\n",
    "$$\n",
    "x_{k+1}=-(L+U)x_k+c\n",
    "$$\n",
    "\n",
    "očito konvergira prema rješenju sustava $x$.\n",
    "\n",
    "__Gauss-Seidel-ova metoda__:  Neka je \n",
    "\n",
    "$$\n",
    "B=-(I+L)^{-1}U, \\quad c=(I+L)^{-1}D^{-1}b.\n",
    "$$\n",
    "\n",
    "> Bez dokaza navodimo sljedeću tvrdnju: ako je matrica $A$ strogo dijagonalno dominantna,\n",
    "onda je preslikavanje $F$ kontrakcija pa\n",
    "\n",
    "niz\n",
    "\n",
    "$$\n",
    "x_{k+1}=-(I+L)^{-1}Ux_k+(I+L)^{-1}D^{-1}b,\n",
    "$$\n",
    "\n",
    "odnosno\n",
    "\n",
    "$$\n",
    "x_{k+1}=-Lx_{k+1}-Ux_k+D^{-1}b,\n",
    "$$\n",
    "\n",
    "konvergira prema rješenju sustava $x$."
   ]
  },
  {
   "cell_type": "code",
   "execution_count": 1,
   "metadata": {
    "collapsed": false
   },
   "outputs": [
    {
     "data": {
      "text/plain": [
       "myjacobi (generic function with 1 method)"
      ]
     },
     "execution_count": 1,
     "metadata": {},
     "output_type": "execute_result"
    }
   ],
   "source": [
    "function myjacobi{T}(A::Array{T},b::Array{T},x::Array{T})\n",
    "    D=diag(A)\n",
    "    L=tril(A,-1)./D\n",
    "    U=triu(A,1)./D\n",
    "    tol=1000*eps()\n",
    "    d=1.0\n",
    "    B=-(L+U)\n",
    "    c=b./D\n",
    "    q=norm(B,Inf)\n",
    "    # @show q\n",
    "    while d>tol\n",
    "        y=B*x+c\n",
    "        d=norm(x-y,Inf)\n",
    "        # @show d\n",
    "        x=y\n",
    "    end\n",
    "    x,d\n",
    "end"
   ]
  },
  {
   "cell_type": "code",
   "execution_count": 2,
   "metadata": {
    "collapsed": false
   },
   "outputs": [
    {
     "data": {
      "text/plain": [
       "8-element Array{Float64,1}:\n",
       " 0.933066\n",
       " 0.512621\n",
       " 0.799691\n",
       " 0.25167 \n",
       " 0.961562\n",
       " 0.682494\n",
       " 0.321993\n",
       " 0.843944"
      ]
     },
     "execution_count": 2,
     "metadata": {},
     "output_type": "execute_result"
    }
   ],
   "source": [
    "n=8\n",
    "A=rand(n,n)\n",
    "# Napravimo matricu dijagonalno diminantnom\n",
    "A=A+n*I\n",
    "b=rand(n)"
   ]
  },
  {
   "cell_type": "code",
   "execution_count": 3,
   "metadata": {
    "collapsed": false
   },
   "outputs": [
    {
     "data": {
      "text/plain": [
       "8-element Array{Float64,1}:\n",
       " 0.784113\n",
       " 0.411935\n",
       " 0.623285\n",
       " 0.42074 \n",
       " 0.482278\n",
       " 0.429304\n",
       " 0.816264\n",
       " 0.5388  "
      ]
     },
     "execution_count": 3,
     "metadata": {},
     "output_type": "execute_result"
    }
   ],
   "source": [
    "# Pocetni vektor\n",
    "x0=rand(n)"
   ]
  },
  {
   "cell_type": "code",
   "execution_count": 4,
   "metadata": {
    "collapsed": false
   },
   "outputs": [
    {
     "data": {
      "text/plain": [
       "([0.08145989835754842,0.031436917685961754,0.07384268622193434,0.013124155405534625,0.09469231329106201,0.0564469606615721,0.009624386434595258,0.08673070243022284],1.749086986357895e-13)"
      ]
     },
     "execution_count": 4,
     "metadata": {},
     "output_type": "execute_result"
    }
   ],
   "source": [
    "x,d=myjacobi(A,b,x0)"
   ]
  },
  {
   "cell_type": "code",
   "execution_count": 5,
   "metadata": {
    "collapsed": false
   },
   "outputs": [
    {
     "data": {
      "text/plain": [
       "8-element Array{Float64,1}:\n",
       " -5.60108e-13\n",
       " -6.00298e-13\n",
       " -5.57221e-13\n",
       " -3.18079e-13\n",
       " -4.31766e-13\n",
       " -6.04405e-13\n",
       " -4.92828e-13\n",
       " -3.81251e-13"
      ]
     },
     "execution_count": 5,
     "metadata": {},
     "output_type": "execute_result"
    }
   ],
   "source": [
    "r=A*x-b"
   ]
  },
  {
   "cell_type": "code",
   "execution_count": 6,
   "metadata": {
    "collapsed": false
   },
   "outputs": [
    {
     "data": {
      "text/plain": [
       "6.410178492353015e-13"
      ]
     },
     "execution_count": 6,
     "metadata": {},
     "output_type": "execute_result"
    }
   ],
   "source": [
    "# Provjerimo i normu relativnog reziduala\n",
    "norm(r)/(norm(A)*norm(x))"
   ]
  },
  {
   "cell_type": "code",
   "execution_count": 7,
   "metadata": {
    "collapsed": false
   },
   "outputs": [
    {
     "data": {
      "text/plain": [
       "mygaussseidel (generic function with 1 method)"
      ]
     },
     "execution_count": 7,
     "metadata": {},
     "output_type": "execute_result"
    }
   ],
   "source": [
    "function mygaussseidel{T}(A::Array{T},b::Array{T},x::Array{T})\n",
    "    D=diag(A)\n",
    "    L=tril(A,-1)./D\n",
    "    U=triu(A,1)./D\n",
    "    tol=1000*eps()\n",
    "    d=1.0\n",
    "    # B=-inv(I+L)*U\n",
    "    B=-(I+L)\\U\n",
    "    c=(I+L)\\(b./D)\n",
    "    @show norm(U,Inf)\n",
    "    y=Array(Float64,n)\n",
    "    while d>tol\n",
    "        y=B*x+c\n",
    "        d=norm(x-y)\n",
    "        x=y\n",
    "    end\n",
    "    x,d\n",
    "end"
   ]
  },
  {
   "cell_type": "code",
   "execution_count": 8,
   "metadata": {
    "collapsed": false
   },
   "outputs": [
    {
     "name": "stdout",
     "output_type": "stream",
     "text": [
      "norm(U,Inf) = 0.4674968591646874\n"
     ]
    },
    {
     "data": {
      "text/plain": [
       "([0.08145989835759558,0.03143691768601004,0.07384268622197873,0.01312415540556118,0.09469231329109608,0.0564469606616239,0.009624386434634853,0.08673070243025455],5.29863235922966e-14)"
      ]
     },
     "execution_count": 8,
     "metadata": {},
     "output_type": "execute_result"
    }
   ],
   "source": [
    "x,d=mygaussseidel(A,b,x0)"
   ]
  },
  {
   "cell_type": "code",
   "execution_count": 9,
   "metadata": {
    "collapsed": false
   },
   "outputs": [
    {
     "data": {
      "text/plain": [
       "8-element Array{Float64,1}:\n",
       "  1.80966e-14\n",
       " -1.09912e-14\n",
       " -1.12133e-14\n",
       " -2.88658e-15\n",
       " -8.32667e-15\n",
       " -1.66533e-15\n",
       " -8.32667e-16\n",
       "  1.11022e-16"
      ]
     },
     "execution_count": 9,
     "metadata": {},
     "output_type": "execute_result"
    }
   ],
   "source": [
    "A*x-b"
   ]
  },
  {
   "cell_type": "markdown",
   "metadata": {
    "collapsed": true
   },
   "source": [
    "Izmjerimo brzinu za veće matrice:"
   ]
  },
  {
   "cell_type": "code",
   "execution_count": 10,
   "metadata": {
    "collapsed": false
   },
   "outputs": [
    {
     "data": {
      "text/plain": [
       "1024-element Array{Float64,1}:\n",
       " 0.293893  \n",
       " 0.919613  \n",
       " 0.530223  \n",
       " 0.653864  \n",
       " 0.595288  \n",
       " 0.206696  \n",
       " 0.534516  \n",
       " 0.860746  \n",
       " 0.673113  \n",
       " 0.853028  \n",
       " 0.151758  \n",
       " 0.919802  \n",
       " 0.605653  \n",
       " ⋮         \n",
       " 0.365993  \n",
       " 0.00484674\n",
       " 0.474296  \n",
       " 0.73692   \n",
       " 0.896445  \n",
       " 0.193321  \n",
       " 0.526836  \n",
       " 0.13176   \n",
       " 0.854836  \n",
       " 0.0715227 \n",
       " 0.332822  \n",
       " 0.137223  "
      ]
     },
     "execution_count": 10,
     "metadata": {},
     "output_type": "execute_result"
    }
   ],
   "source": [
    "n=1024\n",
    "A=rand(n,n)\n",
    "# Napravimo matricu dijagonalno diminantnom\n",
    "A=A+n*I\n",
    "b=rand(n)\n",
    "# Pocetni vektor\n",
    "x0=rand(n)"
   ]
  },
  {
   "cell_type": "code",
   "execution_count": 11,
   "metadata": {
    "collapsed": false
   },
   "outputs": [
    {
     "name": "stdout",
     "output_type": "stream",
     "text": [
      "norm(U,Inf) = 0.5123223744864945\n",
      "  0.130296 seconds (480 allocations: 64.435 MB, 3.52% gc time)\n"
     ]
    },
    {
     "data": {
      "text/plain": [
       "([-0.000126315,0.000591754,0.000775514,0.000137983,0.000767703,0.000493101,0.000725518,0.00066491,0.000470076,0.000204314  …  0.000102581,0.000160371,0.000201809,-1.56075e-5,0.000673463,0.000765883,0.000621777,0.000543865,8.68445e-5,0.000795901],1.2114217235809634e-13)"
      ]
     },
     "execution_count": 11,
     "metadata": {},
     "output_type": "execute_result"
    }
   ],
   "source": [
    "@time mygaussseidel(A,b,x0)"
   ]
  },
  {
   "cell_type": "code",
   "execution_count": 13,
   "metadata": {
    "collapsed": false
   },
   "outputs": [
    {
     "name": "stdout",
     "output_type": "stream",
     "text": [
      "  0.159628 seconds (15 allocations: 8.016 MB)\n"
     ]
    },
    {
     "data": {
      "text/plain": [
       "1024-element Array{Float64,1}:\n",
       " -0.000126315\n",
       "  0.000591754\n",
       "  0.000775514\n",
       "  0.000137983\n",
       "  0.000767703\n",
       "  0.000493101\n",
       "  0.000725518\n",
       "  0.00066491 \n",
       "  0.000470076\n",
       "  0.000204314\n",
       " -6.65766e-5 \n",
       "  0.000708557\n",
       "  0.000153128\n",
       "  ⋮          \n",
       "  0.000561193\n",
       " -4.76999e-5 \n",
       "  0.000102581\n",
       "  0.000160371\n",
       "  0.000201809\n",
       " -1.56075e-5 \n",
       "  0.000673463\n",
       "  0.000765883\n",
       "  0.000621777\n",
       "  0.000543865\n",
       "  8.68445e-5 \n",
       "  0.000795901"
      ]
     },
     "execution_count": 13,
     "metadata": {},
     "output_type": "execute_result"
    }
   ],
   "source": [
    "# Usporedimo brzinu s Gaussovom metodom\n",
    "@time A\\b"
   ]
  },
  {
   "cell_type": "markdown",
   "metadata": {},
   "source": [
    "### Primjeri \n",
    "\n",
    "Primjeri mnogih zanimljivih matrica raznih svojstava se nalaze na \n",
    "[Matrix Market](http://math.nist.gov/MatrixMarket/) (vidi, na primjer, [matricu krova Omni arene u Atlanti](http://math.nist.gov/MatrixMarket/data/Harwell-Boeing/bcsstruc2/bcsstk14.html))."
   ]
  },
  {
   "cell_type": "code",
   "execution_count": null,
   "metadata": {
    "collapsed": true
   },
   "outputs": [],
   "source": []
  }
 ],
 "metadata": {
  "kernelspec": {
   "display_name": "Julia 0.4.5",
   "language": "julia",
   "name": "julia-0.4"
  },
  "language_info": {
   "file_extension": ".jl",
   "mimetype": "application/julia",
   "name": "julia",
   "version": "0.4.5"
  }
 },
 "nbformat": 4,
 "nbformat_minor": 0
}
