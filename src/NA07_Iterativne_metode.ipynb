{
 "cells": [
  {
   "cell_type": "markdown",
   "metadata": {},
   "source": [
    "# Iterativne metode\n",
    "\n",
    "Za velike sustave, a posebno za sustave s malom ispunom (malo elemenata različitih od nule), te ukoliko je matrica sustava _strogo dijagonalno dominantna_, rješenje se može brzo naći _iterativnim metodama_.\n",
    "\n",
    "__Definicija.__ Funkcija $F:\\mathbb{R}^n\\to \\mathbb{R}^n$ ke _kontrakcija_ ako postoji broj $q<1$ za koji vrijedi\n",
    "\n",
    "$$\n",
    "\\| F(x)-F(y)\\| < q\\|x-y\\|\\qquad \\forall x,y.\n",
    "$$\n",
    "\n",
    "__ Banachov teorem o fiksnoj točki.__ Ako je $F$ kontrakcija, tada niz definiran s\n",
    "\n",
    "$$ \n",
    "x_{k+1}=F(x_k)\n",
    "$$\n",
    "konvergira prema jedinstvenom vektoru $\\tilde x$ za kojeg vrijedi\n",
    "\n",
    "$$\n",
    "\\tilde x = F(\\tilde x).\n",
    "$$\n",
    "\n",
    "$\\tilde x$ se zove _fiksna točka_ funkcije $F$. Za pogrešku u $k$-tom koraku vrijede ocjene\n",
    "\n",
    "$$\n",
    "\\|x_k- \\tilde x\\| \\leq \\frac{q}{1-q} \\|x_k-x_{k-1}\\|\n",
    "$$\n",
    "\n",
    "i \n",
    "\n",
    "$$\n",
    "\\|x_k- \\tilde x\\| \\leq \\frac{q^k}{1-q} \\|x_1-x_{0}\\|,\n",
    "$$\n",
    "\n",
    "pri čemu je druga ocjena bolja. Brzina konvergencije je _linearna_,\n",
    "\n",
    "$$\n",
    "|x_{k+1}-\\tilde x\\| \\leq q\\| x_k-\\tilde x\\|.\n",
    "$$"
   ]
  },
  {
   "cell_type": "markdown",
   "metadata": {},
   "source": [
    "\n",
    "## Jacobijeva i Gauss-Seidelova metoda\n",
    "\n",
    "Neke je \n",
    "\n",
    "$$F(x)=Bx+c,$$\n",
    "pri čemu je $B$ nesignularna matrica. Tada je\n",
    "\n",
    "$$\n",
    "\\| F(x)-F(y)\\|=\\| Bx+c-(By+c)\\|=\\|B(x-y)\\| \\leq \\|B\\| \\|x-y\\|,\n",
    "$$\n",
    "pa je $F$ kontrakcija ako i samo ako je\n",
    "\n",
    "$$\n",
    " \\|B\\|=q<1.\n",
    "$$\n",
    "\n",
    "Neka je zadan sustav  $Ax=b$. Matricu $A$ rastavimo kao\n",
    "\n",
    "$$\n",
    "A=D(L+I+U)\n",
    "$$\n",
    "\n",
    "pri čemu je $D$ dijagonalna matrica, $L$ strogo donje trokutasta matrica i $U$ strogo gornje trokutasta matrica.\n",
    "\n",
    "__Jacobijeva metoda__  Neka je \n",
    "\n",
    "$$\n",
    "B=-(L+U), \\quad c=D^{-1}b.\n",
    "$$\n",
    "\n",
    "\n",
    "Ako je matrica $A$ _strogo dijagonalno dominantna_, \n",
    "\n",
    "$$\n",
    "\\| B\\|_{\\infty} = \\max_i \\sum_{{j=1} \\atop {j\\neq i}}^n \\frac{|a_{ij}|}{|a_{ii}|}<1,\n",
    "$$\n",
    "\n",
    "tada je preslikavanje $F$ kontrakcija (moguće je uzeti i druge norme).\n",
    "\n",
    "Niz \n",
    "\n",
    "$$\n",
    "x_{k+1}=-(L+U)x_k+c\n",
    "$$\n",
    "očito konvergira prema rješenju sustava $x$.\n",
    "\n",
    "__Gauss-Seidel-ova metoda__  Neka je \n",
    "\n",
    "$$\n",
    "B=-(I+L)^{-1}U, \\quad c=(I+L)D^{-1}b.\n",
    "$$\n",
    "\n",
    "> Bez dokaza navodimo sljedeću tvrdnju: ako je matrica $A$ strogo dijagonalno dominantna,\n",
    "onda je preslikavanje $F$ kontrakcija pa\n",
    "\n",
    "niz\n",
    "\n",
    "$$\n",
    "x_{k+1}=-(I+L)^{-1}Ux_k+(I+L)^{-1}D^{-1}b,\n",
    "$$\n",
    "\n",
    "odnosno\n",
    "\n",
    "$$\n",
    "x_{k+1}=-Lx_{k+1}-Ux_k+D^{-1}b,\n",
    "$$\n",
    "konvergira prema rješenju sustava $x$."
   ]
  },
  {
   "cell_type": "code",
   "execution_count": 1,
   "metadata": {
    "collapsed": false
   },
   "outputs": [
    {
     "data": {
      "text/plain": [
       "myjacobi (generic function with 1 method)"
      ]
     },
     "execution_count": 1,
     "metadata": {},
     "output_type": "execute_result"
    }
   ],
   "source": [
    "function myjacobi{T}(A::Array{T},b::Array{T},x::Array{T})\n",
    "    D=diag(A)\n",
    "    L=tril(A,-1)./D\n",
    "    U=triu(A,1)./D\n",
    "    tol=1000*eps()\n",
    "    d=1.0\n",
    "    B=-(L+U)\n",
    "    c=b./D\n",
    "    q=norm(B,Inf)\n",
    "    # @show q\n",
    "    while d>tol\n",
    "        y=B*x+c\n",
    "        d=norm(x-y,Inf)\n",
    "        # @show d\n",
    "        x=y\n",
    "    end\n",
    "    x,d\n",
    "end"
   ]
  },
  {
   "cell_type": "code",
   "execution_count": 2,
   "metadata": {
    "collapsed": false
   },
   "outputs": [
    {
     "data": {
      "text/plain": [
       "8-element Array{Float64,1}:\n",
       " 0.931058\n",
       " 0.275412\n",
       " 0.725106\n",
       " 0.521461\n",
       " 0.378733\n",
       " 0.366146\n",
       " 0.80108 \n",
       " 0.306817"
      ]
     },
     "execution_count": 2,
     "metadata": {},
     "output_type": "execute_result"
    }
   ],
   "source": [
    "n=8\n",
    "A=rand(n,n)\n",
    "# Napravimo matricu dijagonalno diminantnom\n",
    "A=A+n*I\n",
    "b=rand(n)"
   ]
  },
  {
   "cell_type": "code",
   "execution_count": 3,
   "metadata": {
    "collapsed": false
   },
   "outputs": [
    {
     "data": {
      "text/plain": [
       "8-element Array{Float64,1}:\n",
       " 0.7195   \n",
       " 0.0921156\n",
       " 0.0183131\n",
       " 0.459354 \n",
       " 0.307917 \n",
       " 0.887001 \n",
       " 0.817155 \n",
       " 0.0380676"
      ]
     },
     "execution_count": 3,
     "metadata": {},
     "output_type": "execute_result"
    }
   ],
   "source": [
    "# Pocetni vektor\n",
    "x0=rand(n)"
   ]
  },
  {
   "cell_type": "code",
   "execution_count": 4,
   "metadata": {
    "collapsed": false
   },
   "outputs": [
    {
     "data": {
      "text/plain": [
       "([0.09366964448327827,0.004984789818145638,0.06272799295095896,0.049576884695403334,0.023279948924882752,0.022994472214605325,0.079489910357517,0.02450699941934978],1.0304951336692625e-13)"
      ]
     },
     "execution_count": 4,
     "metadata": {},
     "output_type": "execute_result"
    }
   ],
   "source": [
    "x,d=myjacobi(A,b,x0)"
   ]
  },
  {
   "cell_type": "code",
   "execution_count": 5,
   "metadata": {
    "collapsed": false
   },
   "outputs": [
    {
     "data": {
      "text/plain": [
       "8-element Array{Float64,1}:\n",
       " 1.80744e-13\n",
       " 3.35121e-13\n",
       " 2.81775e-13\n",
       " 2.46581e-13\n",
       " 3.5022e-13 \n",
       " 2.8183e-13 \n",
       " 3.12417e-13\n",
       " 2.45526e-13"
      ]
     },
     "execution_count": 5,
     "metadata": {},
     "output_type": "execute_result"
    }
   ],
   "source": [
    "r=A*x-b"
   ]
  },
  {
   "cell_type": "code",
   "execution_count": 6,
   "metadata": {
    "collapsed": false
   },
   "outputs": [
    {
     "data": {
      "text/plain": [
       "4.381722474898043e-13"
      ]
     },
     "execution_count": 6,
     "metadata": {},
     "output_type": "execute_result"
    }
   ],
   "source": [
    "# Provjerimo i normu relativnog reziduala\n",
    "norm(r)/(norm(A)*norm(x))"
   ]
  },
  {
   "cell_type": "code",
   "execution_count": 7,
   "metadata": {
    "collapsed": false
   },
   "outputs": [
    {
     "data": {
      "text/plain": [
       "mygaussseidel (generic function with 1 method)"
      ]
     },
     "execution_count": 7,
     "metadata": {},
     "output_type": "execute_result"
    }
   ],
   "source": [
    "function mygaussseidel{T}(A::Array{T},b::Array{T},x::Array{T})\n",
    "    D=diag(A)\n",
    "    L=tril(A,-1)./D\n",
    "    U=triu(A,1)./D\n",
    "    tol=1000*eps()\n",
    "    d=1.0\n",
    "    # B=-inv(I+L)*U\n",
    "    B=-(I+L)\\U\n",
    "    c=(I+L)\\(b./D)\n",
    "    @show norm(U,Inf)\n",
    "    y=Array(Float64,n)\n",
    "    while d>tol\n",
    "        y=B*x+c\n",
    "        d=norm(x-y)\n",
    "        x=y\n",
    "    end\n",
    "    x,d\n",
    "end"
   ]
  },
  {
   "cell_type": "code",
   "execution_count": 8,
   "metadata": {
    "collapsed": false
   },
   "outputs": [
    {
     "name": "stdout",
     "output_type": "stream",
     "text": [
      "norm(U,Inf) = 0.42164164036392376"
     ]
    },
    {
     "data": {
      "text/plain": [
       "([0.09366964448326616,0.004984789818118812,0.0627279929509359,0.04957688469538252,0.02327994892485161,0.022994472214580827,0.07948991035749098,0.02450699941932893],5.768666202662859e-14)"
      ]
     },
     "execution_count": 8,
     "metadata": {},
     "output_type": "execute_result"
    }
   ],
   "source": [
    "x,d=mygaussseidel(A,b,x0)"
   ]
  },
  {
   "cell_type": "code",
   "execution_count": 9,
   "metadata": {
    "collapsed": false
   },
   "outputs": [
    {
     "data": {
      "text/plain": [
       "8-element Array{Float64,1}:\n",
       "  1.9984e-14 \n",
       "  6.43929e-15\n",
       "  2.10942e-15\n",
       " -2.10942e-15\n",
       " -1.02141e-14\n",
       " -7.10543e-15\n",
       " -1.88738e-15\n",
       "  0.0        "
      ]
     },
     "execution_count": 9,
     "metadata": {},
     "output_type": "execute_result"
    }
   ],
   "source": [
    "A*x-b"
   ]
  },
  {
   "cell_type": "markdown",
   "metadata": {
    "collapsed": true
   },
   "source": [
    "Izmjerimo brzinu za veće matrice:"
   ]
  },
  {
   "cell_type": "code",
   "execution_count": 10,
   "metadata": {
    "collapsed": false
   },
   "outputs": [
    {
     "data": {
      "text/plain": [
       "1024-element Array{Float64,1}:\n",
       " 0.215218\n",
       " 0.128948\n",
       " 0.556209\n",
       " 0.404911\n",
       " 0.822037\n",
       " 0.721692\n",
       " 0.393329\n",
       " 0.303818\n",
       " 0.534684\n",
       " 0.062478\n",
       " 0.933135\n",
       " 0.507366\n",
       " 0.190429\n",
       " ⋮       \n",
       " 0.071266\n",
       " 0.504735\n",
       " 0.944084\n",
       " 0.650793\n",
       " 0.120106\n",
       " 0.27715 \n",
       " 0.253939\n",
       " 0.537266\n",
       " 0.11264 \n",
       " 0.102757\n",
       " 0.197823\n",
       " 0.848118"
      ]
     },
     "execution_count": 10,
     "metadata": {},
     "output_type": "execute_result"
    }
   ],
   "source": [
    "n=1024\n",
    "A=rand(n,n)\n",
    "# Napravimo matricu dijagonalno diminantnom\n",
    "A=A+n*I\n",
    "b=rand(n)\n",
    "# Pocetni vektor\n",
    "x0=rand(n)"
   ]
  },
  {
   "cell_type": "code",
   "execution_count": 11,
   "metadata": {
    "collapsed": false
   },
   "outputs": [
    {
     "name": "stdout",
     "output_type": "stream",
     "text": [
      "\n",
      "norm(U,Inf) = 0.509895442999995\n",
      "  "
     ]
    },
    {
     "data": {
      "text/plain": [
       "([9.78989e-5,0.000795695,0.000144791,3.33491e-5,0.000530303,0.000607834,0.000433661,0.000141143,0.000555825,0.000195994  …  0.00029204,-9.23717e-5,0.000281464,0.00015239,0.000371843,0.000782195,0.000287545,-5.5357e-6,0.000515041,4.04675e-5],1.1587563314601634e-13)"
      ]
     },
     "execution_count": 11,
     "metadata": {},
     "output_type": "execute_result"
    },
    {
     "name": "stdout",
     "output_type": "stream",
     "text": [
      "0.399059 seconds (742 allocations: 80.448 MB, 1.88% gc time)\n"
     ]
    }
   ],
   "source": [
    "@time mygaussseidel(A,b,x0)"
   ]
  }
 ],
 "metadata": {
  "kernelspec": {
   "display_name": "Julia 0.4.0",
   "language": "julia",
   "name": "julia-0.4"
  },
  "language_info": {
   "file_extension": ".jl",
   "mimetype": "application/julia",
   "name": "julia",
   "version": "0.4.0"
  }
 },
 "nbformat": 4,
 "nbformat_minor": 0
}
