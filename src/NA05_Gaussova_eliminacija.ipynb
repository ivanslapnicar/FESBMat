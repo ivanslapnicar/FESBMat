{
 "cells": [
  {
   "cell_type": "markdown",
   "metadata": {},
   "source": [
    "# Gaussova eliminacija\n",
    "---\n",
    "\n",
    "## Općenito\n",
    "\n",
    "Sustav $Ax=b$\n",
    "se rješava u tri koraka (__bez pivotiranja__):\n",
    "\n",
    "1. $A=LU$ (LU rastav, $O\\big(\\displaystyle\\frac{2}{3}n^3\\big)$ operacija),\n",
    "2. $Ly=b$ (donje trokutrasti sustav, $n^2$ operacija),\n",
    "3. $Ux=y$ (gornje torkutasti sustav, $n^2$ operacija).\n",
    "\n",
    "Ukoliko pivotiramo, tada je\n",
    "\n",
    "1. $PA=LU$, \n",
    "2. $Ly=P^T b$,\n",
    "3. $Ux=y$. "
   ]
  },
  {
   "cell_type": "markdown",
   "metadata": {},
   "source": [
    "## LU rastav"
   ]
  },
  {
   "cell_type": "code",
   "execution_count": 1,
   "metadata": {
    "collapsed": false
   },
   "outputs": [
    {
     "data": {
      "text/plain": [
       "mylu (generic function with 1 method)"
      ]
     },
     "execution_count": 1,
     "metadata": {},
     "output_type": "execute_result"
    }
   ],
   "source": [
    "function mylu{T}(A1::Array{T}) # Strang, page 100\n",
    "    A=deepcopy(A1)\n",
    "    n,m=size(A)\n",
    "    U=map(Float64,[zero(A[1,1]) for i=1:n, j=1:n]) # This acccepts blocks and numbers\n",
    "    L=map(Float64,[zero(A[1,1]) for i=1:n, j=1:n])\n",
    "    for k=1:n\n",
    "        L[k,k]=one(A[1,1])\n",
    "        for i=k+1:n\n",
    "            L[i,k]=A[i,k]/A[k,k]\n",
    "            for j=k+1:n\n",
    "                A[i,j]=A[i,j]-L[i,k]*A[k,j]\n",
    "            end\n",
    "        end\n",
    "        for j=k:n\n",
    "            U[k,j]=A[k,j]\n",
    "        end\n",
    "    end\n",
    "    L,U\n",
    "end"
   ]
  },
  {
   "cell_type": "code",
   "execution_count": 2,
   "metadata": {
    "collapsed": false
   },
   "outputs": [
    {
     "data": {
      "text/plain": [
       "6x6 Array{Float64,2}:\n",
       " 0.132     0.154593   0.446747  0.839979   0.225722   0.146359\n",
       " 0.758223  0.0487137  0.553288  0.585641   0.822021   0.949379\n",
       " 0.703628  0.647772   0.958893  0.527862   0.0481949  0.284395\n",
       " 0.992122  0.483191   0.356015  0.212731   0.115228   0.171817\n",
       " 0.376613  0.383655   0.907656  0.505303   0.556123   0.612723\n",
       " 0.393091  0.777503   0.274843  0.0238599  0.503972   0.951103"
      ]
     },
     "execution_count": 2,
     "metadata": {},
     "output_type": "execute_result"
    }
   ],
   "source": [
    "A=rand(6,6)\n",
    "# A=[2.0 2;3 4]"
   ]
  },
  {
   "cell_type": "code",
   "execution_count": 3,
   "metadata": {
    "collapsed": false
   },
   "outputs": [
    {
     "data": {
      "text/plain": [
       "(\n",
       "6x6 Array{Float64,2}:\n",
       " 1.0       0.0       0.0        0.0       0.0      0.0\n",
       " 5.74412   1.0       0.0        0.0       0.0      0.0\n",
       " 5.33052   0.210048  1.0        0.0       0.0      0.0\n",
       " 7.51608   0.808714  1.37434    1.0       0.0      0.0\n",
       " 2.85313   0.068414  0.229331  -0.587194  1.0      0.0\n",
       " 2.97797  -0.377857  1.81668    0.964776  3.95654  1.0,\n",
       "\n",
       "6x6 Array{Float64,2}:\n",
       " 0.132   0.154593   0.446747   0.839979   0.225722   0.146359\n",
       " 0.0    -0.839287  -2.01288   -4.2393    -0.474552   0.108673\n",
       " 0.0     0.0       -0.999703  -3.05921   -1.05534   -0.518604\n",
       " 0.0     0.0        0.0        1.53215    0.252857  -0.30338 \n",
       " 0.0     0.0        0.0        0.0        0.335073   0.128495\n",
       " 0.0     0.0        0.0        0.0        0.0        1.28275 )"
      ]
     },
     "execution_count": 3,
     "metadata": {},
     "output_type": "execute_result"
    }
   ],
   "source": [
    "L,U=mylu(A)"
   ]
  },
  {
   "cell_type": "code",
   "execution_count": 4,
   "metadata": {
    "collapsed": false
   },
   "outputs": [
    {
     "data": {
      "text/plain": [
       "6x6 Array{Float64,2}:\n",
       "  0.0          0.0   0.0           0.0           0.0          0.0        \n",
       "  0.0          0.0   0.0          -2.22045e-16   0.0          0.0        \n",
       "  0.0          0.0   1.11022e-16   0.0          -2.22045e-16  0.0        \n",
       "  0.0          0.0   2.22045e-16  -2.22045e-16   0.0          0.0        \n",
       "  0.0          0.0  -1.11022e-16  -1.11022e-16   0.0          0.0        \n",
       " -5.55112e-17  0.0  -2.22045e-16   2.22045e-16   0.0          1.11022e-16"
      ]
     },
     "execution_count": 4,
     "metadata": {},
     "output_type": "execute_result"
    }
   ],
   "source": [
    "L*U-A"
   ]
  },
  {
   "cell_type": "markdown",
   "metadata": {},
   "source": [
    "## Trokutasti sustavi"
   ]
  },
  {
   "cell_type": "code",
   "execution_count": 5,
   "metadata": {
    "collapsed": false
   },
   "outputs": [
    {
     "data": {
      "text/plain": [
       "myL (generic function with 1 method)"
      ]
     },
     "execution_count": 5,
     "metadata": {},
     "output_type": "execute_result"
    }
   ],
   "source": [
    "function myU{T}(U::Array{T},b1::Array{T})\n",
    "    b=deepcopy(b1)\n",
    "    n=length(b)\n",
    "    for i=n:-1:1\n",
    "       for j=n:-1:i+1\n",
    "            b[i]=b[i]-U[i,j]*b[j]\n",
    "       end\n",
    "        b[i]=b[i]/U[i,i]\n",
    "    end\n",
    "    b\n",
    "end\n",
    "\n",
    "function myL{T}(L::Array{T},b1::Array{T})\n",
    "    b=deepcopy(b1)\n",
    "    n=length(b)\n",
    "    for i=1:n\n",
    "        for j=1:i-1\n",
    "            b[i]=b[i]-L[i,j]*b[j]\n",
    "        end\n",
    "        b[i]=b[i]/L[i,i]\n",
    "    end\n",
    "    b\n",
    "end"
   ]
  },
  {
   "cell_type": "code",
   "execution_count": 6,
   "metadata": {
    "collapsed": false
   },
   "outputs": [
    {
     "data": {
      "text/plain": [
       "6-element Array{Float64,1}:\n",
       " 0.802953  \n",
       " 0.283068  \n",
       " 0.746185  \n",
       " 0.00440057\n",
       " 0.270635  \n",
       " 0.277588  "
      ]
     },
     "execution_count": 6,
     "metadata": {},
     "output_type": "execute_result"
    }
   ],
   "source": [
    "b=rand(6)"
   ]
  },
  {
   "cell_type": "code",
   "execution_count": 8,
   "metadata": {
    "collapsed": false
   },
   "outputs": [
    {
     "data": {
      "text/plain": [
       "6-element Array{Float64,1}:\n",
       " -0.257545 \n",
       " -0.0318854\n",
       " -0.0867349\n",
       "  1.33462  \n",
       " -2.03352  \n",
       "  1.49347  "
      ]
     },
     "execution_count": 8,
     "metadata": {},
     "output_type": "execute_result"
    }
   ],
   "source": [
    "# Rijesimo sustav pomocu ugradjene funkcije:\n",
    "x=A\\b"
   ]
  },
  {
   "cell_type": "code",
   "execution_count": 10,
   "metadata": {
    "collapsed": false
   },
   "outputs": [
    {
     "data": {
      "text/plain": [
       "6-element Array{Float64,1}:\n",
       "  0.802953\n",
       " -4.32919 \n",
       " -2.62464 \n",
       "  1.07755 \n",
       " -0.489474\n",
       "  1.91575 "
      ]
     },
     "execution_count": 10,
     "metadata": {},
     "output_type": "execute_result"
    }
   ],
   "source": [
    "# Rijesimo sustav pomocu nasih funkcija\n",
    "y=myL(L,b)"
   ]
  },
  {
   "cell_type": "code",
   "execution_count": 11,
   "metadata": {
    "collapsed": false
   },
   "outputs": [
    {
     "data": {
      "text/plain": [
       "6-element Array{Float64,1}:\n",
       " -0.257545 \n",
       " -0.0318854\n",
       " -0.0867349\n",
       "  1.33462  \n",
       " -2.03352  \n",
       "  1.49347  "
      ]
     },
     "execution_count": 11,
     "metadata": {},
     "output_type": "execute_result"
    }
   ],
   "source": [
    "x1=myU(U,y)"
   ]
  },
  {
   "cell_type": "code",
   "execution_count": 12,
   "metadata": {
    "collapsed": false
   },
   "outputs": [
    {
     "data": {
      "text/plain": [
       "6-element Array{Float64,1}:\n",
       " -1.66533e-15\n",
       "  3.71231e-15\n",
       " -1.56819e-15\n",
       " -2.22045e-16\n",
       "  2.66454e-15\n",
       " -1.9984e-15 "
      ]
     },
     "execution_count": 12,
     "metadata": {},
     "output_type": "execute_result"
    }
   ],
   "source": [
    "# Usporedimo rjesenja\n",
    "x-x1"
   ]
  },
  {
   "cell_type": "markdown",
   "metadata": {},
   "source": [
    "## Brzina\n",
    "\n",
    "Program `mylu()` je jako spor. Između ostalog, alocira nepotrebno tri matrice i ne računa s blok matricama.\n",
    "\n",
    "Program se može reformulirati na načun da su i $L$ i $U$ spremljene u polje $A$, pri čemu se dijagonala od $L$ ne sprema, jer su svi elementi jednaki 1 (vidi [Introduction to Linear Algebra, str. 100][St09]):\n",
    "\n",
    "[St09]: https://books.google.hr/books?id=M19gPgAACAAJ&dq=strang%20introduction&hl=hr&source=gbs_book_other_versions \"Gilbert Strang, 'Introduction to Linear Algebra, 4th Edition', Wellesley-Cambridge Press, 2009\"\n"
   ]
  },
  {
   "cell_type": "code",
   "execution_count": 13,
   "metadata": {
    "collapsed": false
   },
   "outputs": [
    {
     "data": {
      "text/plain": [
       "mylu1 (generic function with 1 method)"
      ]
     },
     "execution_count": 13,
     "metadata": {},
     "output_type": "execute_result"
    }
   ],
   "source": [
    "function mylu1{T}(A1::Array{T}) # Strang, page 100\n",
    "    A=deepcopy(A1)\n",
    "    n,m=size(A)\n",
    "    for k=1:n-1\n",
    "        rho=k+1:n\n",
    "        A[rho,k]=A[rho,k]/A[k,k]\n",
    "        A[rho,rho]=A[rho,rho]-A[rho,k]*A[k,rho]\n",
    "    end\n",
    "    A\n",
    "end"
   ]
  },
  {
   "cell_type": "code",
   "execution_count": 14,
   "metadata": {
    "collapsed": false
   },
   "outputs": [
    {
     "data": {
      "text/plain": [
       "6x6 Array{Float64,2}:\n",
       " 0.132     0.154593   0.446747   0.839979   0.225722   0.146359\n",
       " 5.74412  -0.839287  -2.01288   -4.2393    -0.474552   0.108673\n",
       " 5.33052   0.210048  -0.999703  -3.05921   -1.05534   -0.518604\n",
       " 7.51608   0.808714   1.37434    1.53215    0.252857  -0.30338 \n",
       " 2.85313   0.068414   0.229331  -0.587194   0.335073   0.128495\n",
       " 2.97797  -0.377857   1.81668    0.964776   3.95654    1.28275 "
      ]
     },
     "execution_count": 14,
     "metadata": {},
     "output_type": "execute_result"
    }
   ],
   "source": [
    "mylu1(A)"
   ]
  },
  {
   "cell_type": "code",
   "execution_count": 15,
   "metadata": {
    "collapsed": false
   },
   "outputs": [
    {
     "data": {
      "text/plain": [
       "(\n",
       "6x6 Array{Float64,2}:\n",
       " 1.0       0.0       0.0        0.0       0.0      0.0\n",
       " 5.74412   1.0       0.0        0.0       0.0      0.0\n",
       " 5.33052   0.210048  1.0        0.0       0.0      0.0\n",
       " 7.51608   0.808714  1.37434    1.0       0.0      0.0\n",
       " 2.85313   0.068414  0.229331  -0.587194  1.0      0.0\n",
       " 2.97797  -0.377857  1.81668    0.964776  3.95654  1.0,\n",
       "\n",
       "6x6 Array{Float64,2}:\n",
       " 0.132   0.154593   0.446747   0.839979   0.225722   0.146359\n",
       " 0.0    -0.839287  -2.01288   -4.2393    -0.474552   0.108673\n",
       " 0.0     0.0       -0.999703  -3.05921   -1.05534   -0.518604\n",
       " 0.0     0.0        0.0        1.53215    0.252857  -0.30338 \n",
       " 0.0     0.0        0.0        0.0        0.335073   0.128495\n",
       " 0.0     0.0        0.0        0.0        0.0        1.28275 )"
      ]
     },
     "execution_count": 15,
     "metadata": {},
     "output_type": "execute_result"
    }
   ],
   "source": [
    "L,U"
   ]
  },
  {
   "cell_type": "markdown",
   "metadata": {},
   "source": [
    "Usporedimo brzine LAPACK-ovog programa `lu()` i našeg naivnog programa `mylu()`na većoj dimenziji. \n",
    "\n",
    "Izvedite program par puta radi točnijeg mjerenja brzine."
   ]
  },
  {
   "cell_type": "code",
   "execution_count": 16,
   "metadata": {
    "collapsed": false
   },
   "outputs": [
    {
     "data": {
      "text/plain": [
       "512x512 Array{Float64,2}:\n",
       " 0.109918   0.985276  0.401844   …  0.919105   0.363217   0.488099 \n",
       " 0.191513   0.960464  0.114248      0.739007   0.803859   0.670272 \n",
       " 0.0983882  0.950281  0.93983       0.04521    0.463925   0.338652 \n",
       " 0.458489   0.270772  0.0140325     0.933857   0.153856   0.468201 \n",
       " 0.6782     0.862362  0.945953      0.244356   0.752529   0.252474 \n",
       " 0.431948   0.88091   0.991914   …  0.708224   0.277841   0.436533 \n",
       " 0.728808   0.360097  0.700012      0.844578   0.515834   0.341612 \n",
       " 0.466947   0.900377  0.616093      0.631104   0.138039   0.394266 \n",
       " 0.762671   0.399981  0.158861      0.768777   0.190259   0.974341 \n",
       " 0.0566351  0.586371  0.106709      0.119497   0.233956   0.43166  \n",
       " 0.421252   0.619623  0.793158   …  0.898798   0.0930392  0.596757 \n",
       " 0.563059   0.315915  0.31745       0.360436   0.896925   0.926553 \n",
       " 0.539583   0.190803  0.635582      0.623575   0.275202   0.0438689\n",
       " ⋮                               ⋱             ⋮                   \n",
       " 0.692297   0.177663  0.225769   …  0.499226   0.675353   0.652383 \n",
       " 0.472558   0.872429  0.933234      0.075184   0.174054   0.642441 \n",
       " 0.0284523  0.385836  0.734962      0.783354   0.445765   0.0602216\n",
       " 0.0146433  0.534241  0.137833      0.920269   0.373549   0.523268 \n",
       " 0.610561   0.583425  0.211692      0.807901   0.0198943  0.711978 \n",
       " 0.907961   0.835762  0.350805   …  0.217797   0.689217   0.0142489\n",
       " 0.445886   0.104358  0.743527      0.0865813  0.990103   0.114817 \n",
       " 0.977315   0.305051  0.108882      0.923409   0.834185   0.289406 \n",
       " 0.411192   0.751966  0.0530432     0.321307   0.667805   0.705992 \n",
       " 0.883914   0.156855  0.816604      0.920251   0.346707   0.825637 \n",
       " 0.929872   0.4707    0.48799    …  0.448336   0.11539    0.536292 \n",
       " 0.405404   0.453551  0.257624      0.181491   0.347264   0.765931 "
      ]
     },
     "execution_count": 16,
     "metadata": {},
     "output_type": "execute_result"
    }
   ],
   "source": [
    "n=512\n",
    "A=rand(n,n)"
   ]
  },
  {
   "cell_type": "code",
   "execution_count": 18,
   "metadata": {
    "collapsed": false
   },
   "outputs": [
    {
     "name": "stdout",
     "output_type": "stream",
     "text": [
      "  0.227573 seconds (38 allocations: 6.009 MB)\n"
     ]
    }
   ],
   "source": [
    "@time lu(A);"
   ]
  },
  {
   "cell_type": "code",
   "execution_count": 23,
   "metadata": {
    "collapsed": false
   },
   "outputs": [
    {
     "name": "stdout",
     "output_type": "stream",
     "text": [
      "  0.400249 seconds (17.26 k allocations: 1.004 GB, 11.32% gc time)\n"
     ]
    }
   ],
   "source": [
    "@time mylu1(A);"
   ]
  },
  {
   "cell_type": "markdown",
   "metadata": {},
   "source": [
    "### Blok varijanta\n",
    "\n",
    "`mylu()` je nekoliko desetaka puta sporiji od `lu()`. `mylu1()` je malo sporiji od `lu()`.\n",
    "\n",
    "Probajmo s blokovima:\n",
    "\n",
    "Preradimo `mylu1()` za rad s blokovima (nemamo ugrađeno pivotiranje!)"
   ]
  },
  {
   "cell_type": "code",
   "execution_count": 24,
   "metadata": {
    "collapsed": false
   },
   "outputs": [
    {
     "data": {
      "text/plain": [
       "mylu2 (generic function with 1 method)"
      ]
     },
     "execution_count": 24,
     "metadata": {},
     "output_type": "execute_result"
    }
   ],
   "source": [
    "function mylu2{T}(A1::Array{T}) # Strang, page 100\n",
    "    A=deepcopy(A1)\n",
    "    n,m=size(A)\n",
    "    for k=1:n-1\n",
    "        for rho=k+1:n\n",
    "            A[rho,k]=A[rho,k]/A[k,k]\n",
    "            for l=k+1:n\n",
    "                A[rho,l]=A[rho,l]-A[rho,k]*A[k,l]\n",
    "            end\n",
    "        end\n",
    "    end\n",
    "    A\n",
    "end"
   ]
  },
  {
   "cell_type": "markdown",
   "metadata": {},
   "source": [
    "Napravimo prvo mali test:"
   ]
  },
  {
   "cell_type": "code",
   "execution_count": 25,
   "metadata": {
    "collapsed": false
   },
   "outputs": [],
   "source": [
    "# Probajte k,l=32,16 i k,l=64,8\n",
    "k,l=4,4\n",
    "Ab=[rand(k,k) for i=1:l, j=1:l];"
   ]
  },
  {
   "cell_type": "code",
   "execution_count": 26,
   "metadata": {
    "collapsed": false
   },
   "outputs": [
    {
     "data": {
      "text/plain": [
       "4x4 Array{Any,2}:\n",
       " 4x4 Array{Float64,2}:\n",
       " 0.627394  0.937433  0.236114  0.0285289\n",
       " 0.944431  0.59517   0.133578  0.0535359\n",
       " 0.240881  0.911798  0.927484  0.670148 \n",
       " 0.535661  0.438238  0.606858  0.908721                       …  4x4 Array{Float64,2}:\n",
       " 0.892993  0.248542  0.943182  0.254505\n",
       " 0.630506  0.142468  0.173213  0.996037\n",
       " 0.848496  0.713084  0.72389   0.586501\n",
       " 0.304917  0.643188  0.566909  0.965626                    \n",
       " 4x4 Array{Float64,2}:\n",
       " -0.610402   0.820624   0.891641   -0.541814 \n",
       "  0.843149  -0.352619   0.0352166   0.0462925\n",
       "  0.791437  -0.996808  -0.550929    1.50436  \n",
       " -1.21507    0.353969   0.905602    0.394136      4x4 Array{Float64,2}:\n",
       " -0.140392    0.501716   0.189376   0.205934\n",
       " -0.453556    0.473212  -0.021755   0.768033\n",
       "  0.61402    -0.606642  -0.760756   0.594389\n",
       " -0.0230623  -0.542647   0.668989  -0.262401\n",
       " 4x4 Array{Float64,2}:\n",
       " -0.583315   0.68588     0.101461   0.64874 \n",
       "  0.496684  -0.0540695  -0.508392   0.766046\n",
       "  3.0366    -2.61196    -1.92395    2.40587 \n",
       " -0.296379   0.372124    0.773945  -0.333847         4x4 Array{Float64,2}:\n",
       "  39.1826  -55.5428   -9.88515  -47.0017 \n",
       "  -3.4591    4.48623   1.27593    3.31012\n",
       " -85.4168  125.024    20.6964   102.95   \n",
       "  21.0728  -30.2102   -5.41209  -25.1075             \n",
       " 4x4 Array{Float64,2}:\n",
       "  1.0709    -0.723149  -1.36489    1.93257 \n",
       " -0.970216   0.995016   0.576154  -0.400763\n",
       " -1.60429    1.28456    1.29717   -0.289097\n",
       "  1.70906   -0.83149   -0.703595   0.913633             4x4 Array{Float64,2}:\n",
       " -2.3134    -3.20502    5.33017   -3.26547 \n",
       " -0.805625  -2.69737    3.9622    -3.36118 \n",
       "  0.849766   0.742826  -0.889943   0.572823\n",
       "  3.64327    3.11577   -6.79807    4.08896     "
      ]
     },
     "execution_count": 26,
     "metadata": {},
     "output_type": "execute_result"
    }
   ],
   "source": [
    "A0=mylu2(Ab)"
   ]
  },
  {
   "cell_type": "code",
   "execution_count": 27,
   "metadata": {
    "collapsed": false
   },
   "outputs": [],
   "source": [
    "# Provjera\n",
    "U=triu(A0)\n",
    "L=tril(A0)\n",
    "for i=1:maximum(size(L))\n",
    "    L[i,i]=eye(L[1,1])\n",
    "end"
   ]
  },
  {
   "cell_type": "code",
   "execution_count": 28,
   "metadata": {
    "collapsed": false
   },
   "outputs": [
    {
     "data": {
      "text/plain": [
       "4x4 Array{Any,2}:\n",
       " 4x4 Array{Float64,2}:\n",
       " 0.0  0.0  0.0  0.0\n",
       " 0.0  0.0  0.0  0.0\n",
       " 0.0  0.0  0.0  0.0\n",
       " 0.0  0.0  0.0  0.0                                                                                                                                                  …  4x4 Array{Float64,2}:\n",
       " 0.0  0.0  0.0  0.0\n",
       " 0.0  0.0  0.0  0.0\n",
       " 0.0  0.0  0.0  0.0\n",
       " 0.0  0.0  0.0  0.0                                                                                                                                                \n",
       " 4x4 Array{Float64,2}:\n",
       " -1.11022e-16  0.0          0.0          -5.55112e-17\n",
       " -5.55112e-17  0.0          2.77556e-17   0.0        \n",
       "  0.0          0.0          5.55112e-17   0.0        \n",
       "  1.38778e-16  8.32667e-17  2.22045e-16   1.11022e-16             4x4 Array{Float64,2}:\n",
       " 0.0  0.0  0.0  0.0\n",
       " 0.0  0.0  0.0  0.0\n",
       " 0.0  0.0  0.0  0.0\n",
       " 0.0  0.0  0.0  0.0                                                                                                                                                \n",
       " 4x4 Array{Float64,2}:\n",
       "  2.22045e-16   5.55112e-17   1.11022e-16   1.11022e-16\n",
       "  0.0          -5.55112e-17   5.55112e-17   0.0        \n",
       " -6.66134e-16  -4.44089e-16  -2.22045e-16  -2.22045e-16\n",
       "  5.55112e-17   1.11022e-16   5.55112e-17  -5.55112e-17     4x4 Array{Float64,2}:\n",
       "  6.43929e-15  -4.44089e-16   8.88178e-16   0.0        \n",
       "  2.22045e-16  -2.22045e-16  -1.11022e-16   0.0        \n",
       "  1.19904e-14  -8.21565e-15   2.22045e-16  -7.99361e-15\n",
       " -2.22045e-16  -1.33227e-15   4.44089e-16   2.22045e-15\n",
       " 4x4 Array{Float64,2}:\n",
       "  0.0           1.11022e-16   0.0           0.0        \n",
       "  2.22045e-16  -5.55112e-17   8.32667e-17   0.0        \n",
       "  2.22045e-16   3.33067e-16   1.11022e-16   0.0        \n",
       " -2.22045e-16  -2.22045e-16  -5.55112e-17  -1.11022e-16     4x4 Array{Float64,2}:\n",
       " -6.66134e-16   1.55431e-15   4.44089e-16   1.11022e-15\n",
       " -6.88338e-15  -2.22045e-15  -2.44249e-15  -1.9984e-15 \n",
       "  2.66454e-15   3.9968e-15    0.0          -3.55271e-15\n",
       " -1.77636e-15  -1.77636e-15   4.44089e-16   1.33227e-15"
      ]
     },
     "execution_count": 28,
     "metadata": {},
     "output_type": "execute_result"
    }
   ],
   "source": [
    "Res=L*U-Ab"
   ]
  },
  {
   "cell_type": "code",
   "execution_count": 29,
   "metadata": {
    "collapsed": false
   },
   "outputs": [
    {
     "data": {
      "text/plain": [
       "unblock (generic function with 1 method)"
      ]
     },
     "execution_count": 29,
     "metadata": {},
     "output_type": "execute_result"
    }
   ],
   "source": [
    "# pretvaranje blok matrice u obicnu\n",
    "unblock(A) = mapreduce(identity, hcat, [mapreduce(identity, vcat, A[:,i]) for i = 1:size(A,2)])"
   ]
  },
  {
   "cell_type": "code",
   "execution_count": 30,
   "metadata": {
    "collapsed": false
   },
   "outputs": [
    {
     "data": {
      "text/plain": [
       "2.0376304266661176e-14"
      ]
     },
     "execution_count": 30,
     "metadata": {},
     "output_type": "execute_result"
    }
   ],
   "source": [
    "norm(unblock(Res))"
   ]
  },
  {
   "cell_type": "markdown",
   "metadata": {},
   "source": [
    "Sada probajmo veću dimenziju:"
   ]
  },
  {
   "cell_type": "code",
   "execution_count": 31,
   "metadata": {
    "collapsed": true
   },
   "outputs": [],
   "source": [
    "# Probajmo vece dimenzije (n=k*l)\n",
    "k,l=32,16\n",
    "Ab=[rand(k,k) for i=1:l, j=1:l];"
   ]
  },
  {
   "cell_type": "code",
   "execution_count": 35,
   "metadata": {
    "collapsed": false
   },
   "outputs": [
    {
     "name": "stdout",
     "output_type": "stream",
     "text": [
      "  0.252547 seconds (8.79 k allocations: 26.526 MB, 0.50% gc time)\n"
     ]
    }
   ],
   "source": [
    "@time mylu2(Ab);"
   ]
  },
  {
   "cell_type": "markdown",
   "metadata": {},
   "source": [
    "Vidimo da je `mylu2()` gotovo jednako brz kao `lu()`, uz napomenu da `mylu2()` nema ugrađeno pivotiranje. "
   ]
  },
  {
   "cell_type": "markdown",
   "metadata": {},
   "source": [
    "## Pivotiranje\n",
    "\n",
    "Stanardne implementacije uvijek računaju Gaussovu eliminaciju s _parcijalnim pivotiranjem_:\n",
    "\n",
    "> u svakom koraku se retci pivotiranju tako da pivotni element ima najveću apsolutnu vrijednst u danom stupcu. Na taj \n",
    "> način je \n",
    "> \n",
    "> $$|L_{ij}| \\leq 1,$$\n",
    "> \n",
    "> što u praksi dovoljno spriječava rast elemenata.\n"
   ]
  },
  {
   "cell_type": "code",
   "execution_count": 36,
   "metadata": {
    "collapsed": false
   },
   "outputs": [
    {
     "data": {
      "text/plain": [
       "(\n",
       "5x5 Array{Float64,2}:\n",
       " 1.0        0.0        0.0       0.0       0.0\n",
       " 0.874008   1.0        0.0       0.0       0.0\n",
       " 0.563144   0.839234   1.0       0.0       0.0\n",
       " 0.938453  -0.52993   -0.860008  1.0       0.0\n",
       " 0.07838   -0.450629  -0.172189  0.858843  1.0,\n",
       "\n",
       "5x5 Array{Float64,2}:\n",
       " 0.888449   0.729541   0.827686   0.410832     0.774184 \n",
       " 0.0       -0.477083  -0.171609   0.493423    -0.385795 \n",
       " 0.0        0.0        0.411301  -0.00647101   0.860461 \n",
       " 0.0        0.0        0.0        0.54949      0.805759 \n",
       " 0.0        0.0        0.0        0.0         -0.0697291,\n",
       "\n",
       "[1,3,2,5,4])"
      ]
     },
     "execution_count": 36,
     "metadata": {},
     "output_type": "execute_result"
    }
   ],
   "source": [
    "A=rand(5,5)\n",
    "L,U,P=lu(A)"
   ]
  },
  {
   "cell_type": "code",
   "execution_count": 37,
   "metadata": {
    "collapsed": false
   },
   "outputs": [
    {
     "data": {
      "text/plain": [
       "5x5 Array{Float64,2}:\n",
       " 0.0   0.0           0.0          0.0          0.0\n",
       " 0.0   0.0           0.0          0.0          0.0\n",
       " 0.0   0.0           0.0          0.0          0.0\n",
       " 0.0   0.0           0.0          1.11022e-16  0.0\n",
       " 0.0  -5.55112e-17  -1.38778e-17  0.0          0.0"
      ]
     },
     "execution_count": 37,
     "metadata": {},
     "output_type": "execute_result"
    }
   ],
   "source": [
    "L*U-A[P,:]"
   ]
  },
  {
   "cell_type": "markdown",
   "metadata": {},
   "source": [
    "### Potpuno pivotiranje\n",
    "\n",
    "Sljedeći program računa Gaussovu eliminaciju s _potpunim pivotiranjem_ - u svakom koraku retci i stupci zamijene na način da se na pivotnu poziciju dovede element koji ima najveću apsolutnu vrijednost u trenutnoj podmatrici."
   ]
  },
  {
   "cell_type": "code",
   "execution_count": 38,
   "metadata": {
    "collapsed": false
   },
   "outputs": [
    {
     "data": {
      "text/plain": [
       "gecp (generic function with 1 method)"
      ]
     },
     "execution_count": 38,
     "metadata": {},
     "output_type": "execute_result"
    }
   ],
   "source": [
    "function gecp{T}(A1::Array{T})\n",
    "    # Gaussova eliminacija s potpunim pivotiranjem\n",
    "    # Izlaz: Pr*L*U*Pc'=A ili Pr'*A*Pc=L*U\n",
    "    A=deepcopy(A1)\n",
    "    n,m=size(A)\n",
    "    Pr=eye(n,n)\n",
    "    Pc=eye(n,n)\n",
    "    D=zeros(n)\n",
    "    for i=1:n-1\n",
    "        am1,im1=findmax(abs(A[i:n,i:n]),1)\n",
    "        am,JJ=findmax(am1)\n",
    "        II=mod(im1[JJ],(n-i+1))\n",
    "        if II==0\n",
    "            II=n-i+1\n",
    "        end\n",
    "        imax=II+i-1\n",
    "        jmax=JJ+i-1\n",
    "        #  zamijena redaka\n",
    "        if (imax != i)\n",
    "            temp = Pr[:,i]\n",
    "            Pr[:,i] = Pr[:,imax]\n",
    "            Pr[:,imax] = temp\n",
    "            temp = A[i,:]\n",
    "            A[i,:] = A[imax,:]\n",
    "            A[imax,:] = temp\n",
    "        end\n",
    "        # zamijena stupaca\n",
    "        if (jmax != i)\n",
    "            temp = Pc[:,i]\n",
    "            Pc[:,i] = Pc[:,jmax]\n",
    "            Pc[:,jmax] = temp\n",
    "            temp = A[:,i]\n",
    "            A[:,i] = A[:,jmax]\n",
    "            A[:,jmax] = temp\n",
    "        end\n",
    "        # eliminacija\n",
    "        D[i]=A[i,i]\n",
    "        A[i+1:n,i] = A[i+1:n,i]/D[i]\n",
    "        A[i+1:n,i+1:n] = A[i+1:n,i+1:n] - A[i+1:n,i]*A[i,i+1:n]\n",
    "        A[i,i+1:n]=A[i,i+1:n]/D[i]\n",
    "    end\n",
    "    D[n]=A[n,n]\n",
    "    L=eye(n,n)+tril(A,-1)\n",
    "    U=eye(n,n)+triu(A,1)\n",
    "    U=diagm(D)*U\n",
    "    L,U,Pr,Pc\n",
    "end"
   ]
  },
  {
   "cell_type": "code",
   "execution_count": 39,
   "metadata": {
    "collapsed": false
   },
   "outputs": [
    {
     "data": {
      "text/plain": [
       "5-element Array{Float64,1}:\n",
       " 0.196101 \n",
       " 0.0962655\n",
       " 0.839942 \n",
       " 0.378201 \n",
       " 0.443998 "
      ]
     },
     "execution_count": 39,
     "metadata": {},
     "output_type": "execute_result"
    }
   ],
   "source": [
    "n=5\n",
    "A=rand(n,n)\n",
    "b=rand(n)"
   ]
  },
  {
   "cell_type": "code",
   "execution_count": 40,
   "metadata": {
    "collapsed": false
   },
   "outputs": [
    {
     "data": {
      "text/plain": [
       "(\n",
       "5x5 Array{Float64,2}:\n",
       " 1.0       0.0       0.0        0.0        0.0\n",
       " 0.791796  1.0       0.0        0.0        0.0\n",
       " 0.71467   0.764441  1.0        0.0        0.0\n",
       " 0.676437  0.264556  0.591514   1.0        0.0\n",
       " 0.945698  0.823232  0.529724  -0.0315266  1.0,\n",
       "\n",
       "5x5 Array{Float64,2}:\n",
       " 0.929529  0.027989   0.565329   0.341097   0.831957 \n",
       " 0.0       0.691343  -0.259979   0.286085  -0.0858094\n",
       " 0.0       0.0        0.58509   -0.406798   0.182008 \n",
       " 0.0       0.0        0.0        0.599241  -0.0524726\n",
       " 0.0       0.0        0.0        0.0       -0.475278 ,\n",
       "\n",
       "5x5 Array{Float64,2}:\n",
       " 1.0  0.0  0.0  0.0  0.0\n",
       " 0.0  1.0  0.0  0.0  0.0\n",
       " 0.0  0.0  0.0  1.0  0.0\n",
       " 0.0  0.0  1.0  0.0  0.0\n",
       " 0.0  0.0  0.0  0.0  1.0,\n",
       "\n",
       "5x5 Array{Float64,2}:\n",
       " 0.0  0.0  1.0  0.0  0.0\n",
       " 0.0  1.0  0.0  0.0  0.0\n",
       " 0.0  0.0  0.0  1.0  0.0\n",
       " 1.0  0.0  0.0  0.0  0.0\n",
       " 0.0  0.0  0.0  0.0  1.0)"
      ]
     },
     "execution_count": 40,
     "metadata": {},
     "output_type": "execute_result"
    }
   ],
   "source": [
    "L,U,Pr,Pc=gecp(A)"
   ]
  },
  {
   "cell_type": "code",
   "execution_count": 41,
   "metadata": {
    "collapsed": false
   },
   "outputs": [
    {
     "data": {
      "text/plain": [
       "5x5 Array{Float64,2}:\n",
       " 0.0  0.0   0.0          0.0  0.0\n",
       " 0.0  0.0   0.0          0.0  0.0\n",
       " 0.0  0.0   0.0          0.0  0.0\n",
       " 0.0  0.0   0.0          0.0  0.0\n",
       " 0.0  0.0  -1.11022e-16  0.0  0.0"
      ]
     },
     "execution_count": 41,
     "metadata": {},
     "output_type": "execute_result"
    }
   ],
   "source": [
    "Pr*L*U*Pc'-A"
   ]
  },
  {
   "cell_type": "code",
   "execution_count": 42,
   "metadata": {
    "collapsed": false
   },
   "outputs": [
    {
     "data": {
      "text/plain": [
       "5-element Array{Float64,1}:\n",
       "  0.196101 \n",
       " -0.0590062\n",
       "  0.283161 \n",
       "  0.555409 \n",
       "  0.174635 "
      ]
     },
     "execution_count": 42,
     "metadata": {},
     "output_type": "execute_result"
    }
   ],
   "source": [
    "y=myL(L,Pr'*b)"
   ]
  },
  {
   "cell_type": "code",
   "execution_count": 43,
   "metadata": {
    "collapsed": false
   },
   "outputs": [
    {
     "data": {
      "text/plain": [
       "5-element Array{Float64,1}:\n",
       " -0.52938  \n",
       " -0.0422872\n",
       "  1.22031  \n",
       "  0.894681 \n",
       " -0.367437 "
      ]
     },
     "execution_count": 43,
     "metadata": {},
     "output_type": "execute_result"
    }
   ],
   "source": [
    "z=myU(U,y)"
   ]
  },
  {
   "cell_type": "code",
   "execution_count": 44,
   "metadata": {
    "collapsed": false
   },
   "outputs": [
    {
     "data": {
      "text/plain": [
       "5-element Array{Float64,1}:\n",
       "  1.22031  \n",
       " -0.0422872\n",
       "  0.894681 \n",
       " -0.52938  \n",
       " -0.367437 "
      ]
     },
     "execution_count": 44,
     "metadata": {},
     "output_type": "execute_result"
    }
   ],
   "source": [
    "x=Pc*z"
   ]
  },
  {
   "cell_type": "code",
   "execution_count": 45,
   "metadata": {
    "collapsed": false
   },
   "outputs": [
    {
     "data": {
      "text/plain": [
       "5-element Array{Float64,1}:\n",
       "  5.55112e-17\n",
       "  1.11022e-16\n",
       "  3.33067e-16\n",
       "  5.55112e-17\n",
       " -5.55112e-17"
      ]
     },
     "execution_count": 45,
     "metadata": {},
     "output_type": "execute_result"
    }
   ],
   "source": [
    "A*x-b"
   ]
  },
  {
   "cell_type": "markdown",
   "metadata": {},
   "source": [
    "## Točnost\n",
    "\n",
    "Neka je zadan sustav $Ax=b$, pri čemu je matrica $A$ regularna.\n",
    "\n",
    "Da bi primijenili koncepte iz bilježnice [NA04_Pogreska_unatrag_i stabilni_algoritmi](NA04_Pogreska_unatrag_i_stabilni_algoritmi.ipynb), potrebno je:\n",
    "\n",
    "1. napraviti teoriju smetnje za dani problem\n",
    "2. analizirati pogreške algoritma (Gaussove eliminacije)\n",
    "\n",
    "### Teorija smetnje\n",
    "\n",
    "Neka je \n",
    "\n",
    "$$\n",
    "(A+\\delta A)\\hat x=(b+\\delta b)\n",
    "$$\n",
    "\n",
    "za neki $\\hat x=x+\\delta x$.\n",
    "\n",
    "Želimo ocijeniti \n",
    "\n",
    "$$\n",
    "\\frac{\\| \\hat x - x \\|}{\\| x\\|} \\equiv \\frac{\\| \\delta x\\|}{\\| x\\|}.\n",
    "$$\n",
    "\n",
    "Uvedimo oznake (npr. prema [Matrix Computations, poglavlje 2.6.2][GVL13])\n",
    "\n",
    "$$\n",
    "\\delta A=\\varepsilon F, \\quad \\delta b=\\varepsilon f, \\qquad \\hat x=x(\\varepsilon),\n",
    "$$\n",
    "čime smo dobili jednodimenzionalni problem \n",
    "\n",
    "$$\n",
    "(A+\\varepsilon F)x(\\varepsilon)=b+\\varepsilon f.\n",
    "$$\n",
    "\n",
    "za neke (nepoznate) matricu $F$ i vektor $f$. \n",
    "\n",
    "Deriviranje po $\\varepsilon$ daje\n",
    "\n",
    "$$\n",
    "Fx(\\varepsilon)+(A+\\varepsilon F)\\dot x(\\varepsilon)=f.\n",
    "$$\n",
    "\n",
    "Uvrštavanje $\\varepsilon=0$ daje\n",
    "\n",
    "$$\n",
    "F x+A\\dot x(0)=f,\n",
    "$$\n",
    "\n",
    "odnosno\n",
    "\n",
    "$$\n",
    "\\dot x(0)=A^{-1}(f-Fx).\n",
    "$$\n",
    "\n",
    "Taylorov razvoj oko $x(0)$ glasi\n",
    "\n",
    "$$\n",
    "x(\\varepsilon)=x(0)+\\varepsilon \\dot x(0) +O(\\varepsilon^2),\n",
    "$$\n",
    "\n",
    "odnosno, uz zanemarivanje člana $O(\\varepsilon^2)$,\n",
    "\n",
    "$$\n",
    "\\hat x-x=\\varepsilon A^{-1}(f-Fx)=A^{-1} (\\varepsilon f + \\varepsilon F x) = A^{-1} (\\delta b + \\delta A x).\n",
    "$$\n",
    "\n",
    "Svojstva norme povlače\n",
    "\n",
    "$$\n",
    "\\| \\hat x-x\\|\\leq \\| A^{-1} \\| (\\| \\delta b \\|  + \\| \\delta A \\| \\cdot \\|  x\\| ).\n",
    "$$\n",
    "\n",
    "Konačno, zbog $\\| b\\| \\leq \\| A\\| \\| x\\|$, imamo\n",
    "\n",
    "$$\n",
    "\\frac{\\| \\hat x-x\\|}{\\| x\\|}\\leq \\| A\\|  \\cdot \\| A^{-1} \\| \\bigg(\\frac{\\| \\delta b \\|}{\\|b\\|}  + \\frac{\\| \\delta A \\|}{ \\|  A\\|} \\bigg). \\tag{1}\n",
    "$$\n",
    "\n",
    "Broj \n",
    "$$\n",
    "\\kappa(A)\\equiv \\| A\\|  \\cdot \\| A^{-1} \\|\n",
    "$$ \n",
    "\n",
    "je __uvjetovanost__ (__kondicija__)  matrice $A$ i kazuje nam \n",
    "\n",
    "> koliko se relativno uvećaju relativne promjene u polaznim podacima (matrici $A$ i vektoru $b$).\n",
    "\n",
    "Pogledajmo primjer iz [Numeričke matematike, str. 42][RS04]:\n",
    "\n",
    "\n",
    "[GVL13]: https://books.google.hr/books?id=X5YfsuCWpxMC&printsec=frontcover&hl=hr#v=onepage&q&f=false \"G. Golub and C. F Van Loan, 'Matrix Computations', 4th Edition, John Hopkins, Baltimore, 2013\" \n",
    "\n",
    "[RS04]: http://www.mathos.unios.hr/pim/Materijali/Num.pdf \"R. Scitovski, 'Numerička matematika', Sveučilište u Osijeku, Osijek, 2004.\""
   ]
  },
  {
   "cell_type": "code",
   "execution_count": 46,
   "metadata": {
    "collapsed": false
   },
   "outputs": [
    {
     "data": {
      "text/plain": [
       "2x2 Array{Float64,2}:\n",
       " 0.234  0.458\n",
       " 0.383  0.75 "
      ]
     },
     "execution_count": 46,
     "metadata": {},
     "output_type": "execute_result"
    }
   ],
   "source": [
    "A= [0.234 0.458; 0.383 0.750]"
   ]
  },
  {
   "cell_type": "code",
   "execution_count": 47,
   "metadata": {
    "collapsed": false
   },
   "outputs": [
    {
     "data": {
      "text/plain": [
       "2-element Array{Float64,1}:\n",
       " 0.224\n",
       " 0.367"
      ]
     },
     "execution_count": 47,
     "metadata": {},
     "output_type": "execute_result"
    }
   ],
   "source": [
    "b=[0.224;0.367]"
   ]
  },
  {
   "cell_type": "code",
   "execution_count": 48,
   "metadata": {
    "collapsed": false
   },
   "outputs": [
    {
     "data": {
      "text/plain": [
       "2-element Array{Float64,1}:\n",
       " -1.0\n",
       "  1.0"
      ]
     },
     "execution_count": 48,
     "metadata": {},
     "output_type": "execute_result"
    }
   ],
   "source": [
    "x=A\\b"
   ]
  },
  {
   "cell_type": "code",
   "execution_count": 49,
   "metadata": {
    "collapsed": false
   },
   "outputs": [
    {
     "data": {
      "text/plain": [
       "2-element Array{Float64,1}:\n",
       " -0.241744\n",
       "  0.612791"
      ]
     },
     "execution_count": 49,
     "metadata": {},
     "output_type": "execute_result"
    }
   ],
   "source": [
    "δb=[0.00009; 0.000005]\n",
    "x1=A\\(b+δb)"
   ]
  },
  {
   "cell_type": "code",
   "execution_count": 50,
   "metadata": {
    "collapsed": false
   },
   "outputs": [
    {
     "data": {
      "text/plain": [
       "(11322.197586092605,0.0002096449170953002,0.6020311134825742)"
      ]
     },
     "execution_count": 50,
     "metadata": {},
     "output_type": "execute_result"
    }
   ],
   "source": [
    "cond(A), norm(δb)/norm(b), norm(x1-x)/norm(x)"
   ]
  },
  {
   "cell_type": "code",
   "execution_count": 51,
   "metadata": {
    "collapsed": false
   },
   "outputs": [
    {
     "data": {
      "text/plain": [
       "2-element Array{Float64,1}:\n",
       " 0.129518\n",
       " 0.423193"
      ]
     },
     "execution_count": 51,
     "metadata": {},
     "output_type": "execute_result"
    }
   ],
   "source": [
    "δA=[-0.001 0;0 0]\n",
    "x2=(A+δA)\\b"
   ]
  },
  {
   "cell_type": "code",
   "execution_count": 52,
   "metadata": {
    "collapsed": false
   },
   "outputs": [
    {
     "data": {
      "text/plain": [
       "(11322.197586092605,0.0010134105230118603,0.896804787832142)"
      ]
     },
     "execution_count": 52,
     "metadata": {},
     "output_type": "execute_result"
    }
   ],
   "source": [
    "cond(A), norm(δA)/norm(A), norm(x2-x)/norm(x)"
   ]
  },
  {
   "cell_type": "markdown",
   "metadata": {},
   "source": [
    "### Pogreška Gaussove eliminacije\n",
    "\n",
    "Prema [Matrix Computations, poglavlje 3.3][GVL13], za izračunate faktore\n",
    "$\\hat L$ i $\\hat U$ vrijedi\n",
    "\n",
    "$$\n",
    "\\hat L\\cdot \\hat U = A+\\delta A\n",
    "$$\n",
    "\n",
    "gdje je (nejednakost se čita po elementima matrica, $\\varepsilon$ je sada točnost stroja)\n",
    "\n",
    "$$\n",
    "| \\delta A|\\leq 3(n-1) \\varepsilon (|A|+|\\hat L| \\cdot |\\hat U|) +O(\\varepsilon^2).\n",
    "$$\n",
    "\n",
    "Zanemarivanje člana $O(\\varepsilon^2)$ i prelazak na normu daju\n",
    "\n",
    "$$\n",
    "\\|\\delta A \\| \\approx \\leq  O(n)\\varepsilon (\\| A\\| + \\| \\hat L\\| \\cdot \\| \\hat U\\|),\n",
    "$$\n",
    "\n",
    "pa je \n",
    "\n",
    "$$\n",
    " \\frac{\\|\\delta A \\|}{\\|A\\|} \\leq O(n)\\varepsilon \\bigg(1+\\frac{\\| \\hat L\\| \\cdot \\| \\hat U\\|}{\\|A\\|}\\bigg).\n",
    "$$\n",
    "\n",
    "Ukoliko se Gaussova eliminacija radi s pivotiranjem, tada će najvjerojatnije zadnji kvocijent također biti malen \n",
    "($\\approx 1$). Također, pogreška kod rješavanja trokutastih sustava nije veća od navedene pa, uvrštavanjme u (1), slijedi \n",
    "da za relativnu pogrešku izračunatog rješenja vrijedi\n",
    "\n",
    "$$\n",
    "\\frac{\\| \\hat x-x\\|}{\\| x\\|}\\leq \\kappa(A) O(n\\varepsilon).\n",
    "$$\n",
    "\n",
    "> __Ukoliko je kondicija matrice velika, rješenje može biti netočno.__\n",
    "\n",
    "[GVL13]: https://books.google.hr/books?id=X5YfsuCWpxMC&printsec=frontcover&hl=hr#v=onepage&q&f=false \"G. Golub and C. F Van Loan, 'Matrix Computations', 4th Edition, John Hopkins, Baltimore, 2013\" "
   ]
  },
  {
   "cell_type": "code",
   "execution_count": 53,
   "metadata": {
    "collapsed": false
   },
   "outputs": [
    {
     "data": {
      "text/plain": [
       "10-element Array{Float64,1}:\n",
       " 0.607348\n",
       " 0.240677\n",
       " 0.703843\n",
       " 0.281695\n",
       " 0.649881\n",
       " 0.184879\n",
       " 0.42333 \n",
       " 0.636226\n",
       " 0.517925\n",
       " 0.878924"
      ]
     },
     "execution_count": 53,
     "metadata": {},
     "output_type": "execute_result"
    }
   ],
   "source": [
    "n=10\n",
    "v=rand(n)"
   ]
  },
  {
   "cell_type": "code",
   "execution_count": 54,
   "metadata": {
    "collapsed": false
   },
   "outputs": [
    {
     "data": {
      "text/plain": [
       "10x10 Array{Float64,2}:\n",
       " 1.0        1.0          1.0        …  1.0        1.0         1.0     \n",
       " 0.607348   0.240677     0.703843      0.636226   0.517925    0.878924\n",
       " 0.368871   0.0579256    0.495395      0.404783   0.268247    0.772507\n",
       " 0.224033   0.0139414    0.34868       0.257533   0.138932    0.678975\n",
       " 0.136066   0.00335537   0.245416      0.163849   0.0719563   0.596768\n",
       " 0.0826393  0.000807562  0.172734   …  0.104245   0.037268    0.524513\n",
       " 0.0501908  0.000194362  0.121578      0.0663235  0.0193021   0.461007\n",
       " 0.0304833  4.67785e-5   0.0855717     0.0421967  0.00999703  0.40519 \n",
       " 0.0185139  1.12585e-5   0.0602291     0.0268466  0.00517772  0.356131\n",
       " 0.0112444  2.70967e-6   0.0423918     0.0170805  0.00268167  0.313012"
      ]
     },
     "execution_count": 54,
     "metadata": {},
     "output_type": "execute_result"
    }
   ],
   "source": [
    "# Vandermonmde-oove matrice imaju veliku kondiciju.\n",
    "A=Array(Float64,n,n)\n",
    "for i=1:n\n",
    "    A[:,i]=v.^(i-1)\n",
    "end\n",
    "A=A'"
   ]
  },
  {
   "cell_type": "code",
   "execution_count": 55,
   "metadata": {
    "collapsed": false
   },
   "outputs": [
    {
     "data": {
      "text/plain": [
       "10-element Array{Float64,1}:\n",
       " 0.176222 \n",
       " 0.514327 \n",
       " 0.170147 \n",
       " 0.452078 \n",
       " 0.0455566\n",
       " 0.852881 \n",
       " 0.720554 \n",
       " 0.602203 \n",
       " 0.712276 \n",
       " 0.798477 "
      ]
     },
     "execution_count": 55,
     "metadata": {},
     "output_type": "execute_result"
    }
   ],
   "source": [
    "b=rand(n)"
   ]
  },
  {
   "cell_type": "code",
   "execution_count": 56,
   "metadata": {
    "collapsed": false
   },
   "outputs": [
    {
     "data": {
      "text/plain": [
       "10-element Array{Float64,1}:\n",
       "     7.0861e7 \n",
       "     1.58042e6\n",
       "    -5.17549e6\n",
       "    -2.1107e6 \n",
       "     1.19591e8\n",
       "    -2.57728e5\n",
       "     3.65903e6\n",
       "    -1.77173e8\n",
       "    -1.09871e7\n",
       " 12197.8      "
      ]
     },
     "execution_count": 56,
     "metadata": {},
     "output_type": "execute_result"
    }
   ],
   "source": [
    "x=A\\b"
   ]
  },
  {
   "cell_type": "code",
   "execution_count": 57,
   "metadata": {
    "collapsed": false
   },
   "outputs": [
    {
     "data": {
      "text/plain": [
       "7.492325039096141e9"
      ]
     },
     "execution_count": 57,
     "metadata": {},
     "output_type": "execute_result"
    }
   ],
   "source": [
    "cond(A)"
   ]
  },
  {
   "cell_type": "code",
   "execution_count": 58,
   "metadata": {
    "collapsed": false
   },
   "outputs": [
    {
     "data": {
      "text/plain": [
       "10-element Array{BigFloat,1}:\n",
       "  7.086096455440146804509689118783702769154126827495550138924238137754096152196263e+07\n",
       "  1.580422275885546389727987844856505092156359271397171187062791511633971663443229e+06\n",
       " -5.175489994935727685413969718989317356182318719998619656737629309183403633523838e+06\n",
       " -2.11069891625235027333227162014122074578125166016309593969821366165165842224424e+06 \n",
       "  1.195910004115113399692296870223893932186573932558791159189569121120346698677215e+08\n",
       " -2.577283650921890931693621885131516669064466511633198125802767497613508030515626e+05\n",
       "  3.659028196264402320190360219246187263387252138071620857302718088808222514044612e+06\n",
       " -1.771726043768045057458867151470849185671742068502712263097109162278267033062749e+08\n",
       " -1.098709142445369723038902222078316409640557179257769823886389690356418564986456e+07\n",
       "  1.219781569728255440714468176388617449519739932160040971362976196947624778856822e+04"
      ]
     },
     "execution_count": 58,
     "metadata": {},
     "output_type": "execute_result"
    }
   ],
   "source": [
    "Ab=Array(BigFloat,n,n)\n",
    "bb=Array(BigFloat,n)\n",
    "for i=1:n\n",
    "    for j=1:n\n",
    "        Ab[i,j]=convert(BigFloat,A[i,j])\n",
    "    end\n",
    "    bb[i]=convert(BigFloat,b[i])\n",
    "end\n",
    "xb=Ab\\bb"
   ]
  },
  {
   "cell_type": "code",
   "execution_count": 59,
   "metadata": {
    "collapsed": false
   },
   "outputs": [
    {
     "data": {
      "text/plain": [
       "2.742728950333173979768028662629979375598101330704049401973633036524945694970124e-09"
      ]
     },
     "execution_count": 59,
     "metadata": {},
     "output_type": "execute_result"
    }
   ],
   "source": [
    "norm(xb-x)/norm(xb)"
   ]
  },
  {
   "cell_type": "markdown",
   "metadata": {},
   "source": [
    "### Umjetno loša kondicija"
   ]
  },
  {
   "cell_type": "code",
   "execution_count": 60,
   "metadata": {
    "collapsed": false
   },
   "outputs": [
    {
     "name": "stdout",
     "output_type": "stream",
     "text": [
      "(x,cond(A)) = ([-1.0,2.0],6.854101966249685)\n"
     ]
    },
    {
     "data": {
      "text/plain": [
       "([-1.0,2.0],50000.00017991671,[8.881784197001252e-16,-4.440892098500626e-16])"
      ]
     },
     "execution_count": 60,
     "metadata": {},
     "output_type": "execute_result"
    }
   ],
   "source": [
    "A=[1 1; 1 2]\n",
    "b=[1;3]\n",
    "x=A\\b\n",
    "@show x,cond(A)\n",
    "A1=[1e-4 1e-4;1 2]\n",
    "b1=[1e-4;3]\n",
    "x1=A1\\b1\n",
    "x,cond(A1),x-x1"
   ]
  },
  {
   "cell_type": "markdown",
   "metadata": {
    "collapsed": true
   },
   "source": [
    "## Rezidual\n",
    "\n",
    "\n",
    "Izračunato rješenje $\\hat x$ sustava $Ax=b$ je točno rješenje nekog sličnog sustava (vidi [Afternotes on Numerical Analysis, str. 128][Ste96]):\n",
    "\n",
    "\n",
    "$$ \n",
    "(A+\\delta A)\\hat x=b. \\tag{1}\n",
    "$$\n",
    "\n",
    "__Rezidual__ (ili __ostatak__) definiramo kao \n",
    "\n",
    "$$\n",
    "r=b-A\\hat x.\n",
    "$$\n",
    "\n",
    "Tada je \n",
    "\n",
    "$$\n",
    "0=b-(A+\\delta A)\\hat x=r- \\delta A\\hat x\n",
    "$$\n",
    "\n",
    "pa je \n",
    "\n",
    "$$ \n",
    "\\| r\\| \\leq \\| \\delta A\\hat x \\| \\leq \\| \\delta A\\| \\cdot \\|\\hat x \\|,\n",
    "$$\n",
    "\n",
    "odnosno\n",
    "\n",
    "$$\n",
    "\\frac{\\|  \\delta A\\|}{\\|A \\|} \\geq \\frac{\\|r\\|}{\\| A\\| \\cdot \\|\\hat x \\|}.\n",
    "$$\n",
    "\n",
    "Dakle,\n",
    "\n",
    "> ako  _relativni rezidual_ \n",
    ">\n",
    "> $$ \\frac{r}{\\| A\\| \\cdot \\|\\hat x \\|}$$\n",
    "> \n",
    "> ima veliku normu, tada __rješenje nije izračunato stabilno.__\n",
    "\n",
    "S druge strane, ako relativni rezidual ima malu normu, tada je rješenje izračunato stabilno. Naime, za\n",
    "\n",
    "$$\n",
    "\\delta A=\\frac{r\\hat x^T}{\\|\\hat x\\|^2}\n",
    "$$\n",
    "\n",
    "vrijedi (1):\n",
    "\n",
    "$$\n",
    "b-(A+\\delta A)\\hat x=(b-A\\hat x)-\\delta A \\hat x = r-\\frac{r\\hat x^T \\hat x}{\\|\\hat x\\|^2}\n",
    "= r-\\frac{r \\|\\hat x^T \\hat x\\|}{\\|\\hat x\\|^2}=r-r=0.\n",
    "$$\n",
    "\n",
    "Također vrijedi\n",
    "\n",
    "$$\n",
    "\\frac{\\|  \\delta A\\|}{\\|A \\|}  \\leq  \\frac{\\|r\\|\\|\\hat x \\|}{\\| A\\| \\cdot \\|\\hat x \\|^2}=\n",
    "\\frac{\\|r\\|}{\\| A\\| \\cdot \\|\\hat x \\|}.\n",
    "$$\n",
    "\n",
    "\n",
    "\n",
    "\n",
    "[Ste96]: https://books.google.hr/books?id=w-2PWh01kWcC&printsec=frontcover&hl=hr#v=onepage&q&f=false    \"G. W. Stewart, 'Afternotes on Numerical Analysis', SIAM, Philadelphia, 1996\""
   ]
  },
  {
   "cell_type": "code",
   "execution_count": 61,
   "metadata": {
    "collapsed": false
   },
   "outputs": [
    {
     "data": {
      "text/plain": [
       "2-element Array{Float64,1}:\n",
       " 0.0\n",
       " 0.0"
      ]
     },
     "execution_count": 61,
     "metadata": {},
     "output_type": "execute_result"
    }
   ],
   "source": [
    "r=b-A*x"
   ]
  },
  {
   "cell_type": "code",
   "execution_count": 62,
   "metadata": {
    "collapsed": false
   },
   "outputs": [
    {
     "data": {
      "text/plain": [
       "0.0"
      ]
     },
     "execution_count": 62,
     "metadata": {},
     "output_type": "execute_result"
    }
   ],
   "source": [
    "norm(r)/(norm(A)*norm(x))"
   ]
  },
  {
   "cell_type": "code",
   "execution_count": null,
   "metadata": {
    "collapsed": true
   },
   "outputs": [],
   "source": []
  }
 ],
 "metadata": {
  "kernelspec": {
   "display_name": "Julia 0.4.5",
   "language": "julia",
   "name": "julia-0.4"
  },
  "language_info": {
   "file_extension": ".jl",
   "mimetype": "application/julia",
   "name": "julia",
   "version": "0.4.5"
  }
 },
 "nbformat": 4,
 "nbformat_minor": 0
}
