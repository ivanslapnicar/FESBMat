{
 "cells": [
  {
   "cell_type": "markdown",
   "metadata": {},
   "source": [
    "# Gaussova eliminacija"
   ]
  },
  {
   "cell_type": "markdown",
   "metadata": {},
   "source": [
    "## Općenito\n",
    "\n",
    "Sustav $Ax=b$ se rješava u tri koraka (__bez pivotiranja__)\n",
    "\n",
    "1. $A=LU$ (LU rastav, $O(\\frac{2}{3}n^3)$ operacija)\n",
    "2. $Ly=b$ (donje trokutrasti sustav, $n^2$ operacija)\n",
    "3. $Ux=y$ (gornje torkutasti sustav, $n^2$ operacija)\n",
    "\n",
    "Ukoliko pivotiramo, tada je\n",
    "\n",
    "1. $PA=LU$ \n",
    "2. $Ly=P^T b$\n",
    "3. $Ux=y$ "
   ]
  },
  {
   "cell_type": "markdown",
   "metadata": {},
   "source": [
    "## LU rastav"
   ]
  },
  {
   "cell_type": "code",
   "execution_count": 1,
   "metadata": {
    "collapsed": false
   },
   "outputs": [
    {
     "data": {
      "text/plain": [
       "mylu (generic function with 1 method)"
      ]
     },
     "execution_count": 1,
     "metadata": {},
     "output_type": "execute_result"
    }
   ],
   "source": [
    "function mylu{T}(A1::Array{T}) # Strang, page 100\n",
    "    A=deepcopy(A1)\n",
    "    n,m=size(A)\n",
    "    U=map(Float64,[zero(A[1,1]) for i=1:n, j=1:n]) # This acccepts blocks and numbers\n",
    "    L=map(Float64,[zero(A[1,1]) for i=1:n, j=1:n])\n",
    "    for k=1:n\n",
    "        L[k,k]=one(A[1,1])\n",
    "        for i=k+1:n\n",
    "            L[i,k]=A[i,k]/A[k,k]\n",
    "            for j=k+1:n\n",
    "                A[i,j]=A[i,j]-L[i,k]*A[k,j]\n",
    "            end\n",
    "        end\n",
    "        for j=k:n\n",
    "            U[k,j]=A[k,j]\n",
    "        end\n",
    "    end\n",
    "    L,U\n",
    "end"
   ]
  },
  {
   "cell_type": "code",
   "execution_count": 2,
   "metadata": {
    "collapsed": false
   },
   "outputs": [
    {
     "data": {
      "text/plain": [
       "6x6 Array{Float64,2}:\n",
       " 0.694002  0.958648  0.656373  0.864156   0.655747  0.108587\n",
       " 0.784736  0.59294   0.778007  0.827322   0.298356  0.640561\n",
       " 0.869287  0.581859  0.138718  0.427552   0.739744  0.70391 \n",
       " 0.650794  0.810501  0.542283  0.598646   0.780692  0.193462\n",
       " 0.180298  0.440662  0.261833  0.53353    0.338341  0.356706\n",
       " 0.416135  0.818816  0.267732  0.0166475  0.914003  0.894401"
      ]
     },
     "execution_count": 2,
     "metadata": {},
     "output_type": "execute_result"
    }
   ],
   "source": [
    "A=rand(6,6)\n",
    "# A=[2.0 2;3 4]"
   ]
  },
  {
   "cell_type": "code",
   "execution_count": 3,
   "metadata": {
    "collapsed": false
   },
   "outputs": [
    {
     "data": {
      "text/plain": [
       "(\n",
       "6x6 Array{Float64,2}:\n",
       " 1.0        0.0        0.0        0.0       0.0      0.0\n",
       " 1.13074    1.0        0.0        0.0       0.0      0.0\n",
       " 1.25257    1.26042    1.0        0.0       0.0      0.0\n",
       " 0.93774    0.180152   0.10936    1.0       0.0      0.0\n",
       " 0.259795  -0.390211  -0.14451   -1.36984   1.0      0.0\n",
       " 0.599616  -0.496896   0.148289   3.78942  -1.52944  1.0,\n",
       "\n",
       "6x6 Array{Float64,2}:\n",
       " 0.694002   0.958648   0.656373    0.864156   0.655747   0.108587  \n",
       " 0.0       -0.491041   0.0358197  -0.149813  -0.443124   0.517778  \n",
       " 0.0        0.0       -0.728584   -0.466039   0.476894  -0.0847179 \n",
       " 0.0        0.0        0.0        -0.133753   0.193447   0.00762118\n",
       " 0.0        0.0        0.0         0.0        0.328977   0.528736  \n",
       " 0.0        0.0        0.0         0.0        0.0        1.87893   )"
      ]
     },
     "execution_count": 3,
     "metadata": {},
     "output_type": "execute_result"
    }
   ],
   "source": [
    "L,U=mylu(A)"
   ]
  },
  {
   "cell_type": "code",
   "execution_count": 4,
   "metadata": {
    "collapsed": false
   },
   "outputs": [
    {
     "data": {
      "text/plain": [
       "6x6 Array{Float64,2}:\n",
       " 0.0          0.0  0.0  0.0  0.0  0.0\n",
       " 0.0          0.0  0.0  0.0  0.0  0.0\n",
       " 1.11022e-16  0.0  0.0  0.0  0.0  0.0\n",
       " 0.0          0.0  0.0  0.0  0.0  0.0\n",
       " 0.0          0.0  0.0  0.0  0.0  0.0\n",
       " 0.0          0.0  0.0  0.0  0.0  0.0"
      ]
     },
     "execution_count": 4,
     "metadata": {},
     "output_type": "execute_result"
    }
   ],
   "source": [
    "L*U-A"
   ]
  },
  {
   "cell_type": "markdown",
   "metadata": {},
   "source": [
    "## Trokutasti sustavi"
   ]
  },
  {
   "cell_type": "code",
   "execution_count": 5,
   "metadata": {
    "collapsed": false
   },
   "outputs": [
    {
     "data": {
      "text/plain": [
       "myL (generic function with 1 method)"
      ]
     },
     "execution_count": 5,
     "metadata": {},
     "output_type": "execute_result"
    }
   ],
   "source": [
    "function myU{T}(U::Array{T},b1::Array{T})\n",
    "    b=deepcopy(b1)\n",
    "    n=length(b)\n",
    "    for i=n:-1:1\n",
    "       for j=n:-1:i+1\n",
    "            b[i]=b[i]-U[i,j]*b[j]\n",
    "       end\n",
    "        b[i]=b[i]/U[i,i]\n",
    "    end\n",
    "    b\n",
    "end\n",
    "\n",
    "function myL{T}(L::Array{T},b1::Array{T})\n",
    "    b=deepcopy(b1)\n",
    "    n=length(b)\n",
    "    for i=1:n\n",
    "        for j=1:i-1\n",
    "            b[i]=b[i]-L[i,j]*b[j]\n",
    "        end\n",
    "        b[i]=b[i]/L[i,i]\n",
    "    end\n",
    "    b\n",
    "end"
   ]
  },
  {
   "cell_type": "code",
   "execution_count": 6,
   "metadata": {
    "collapsed": false
   },
   "outputs": [
    {
     "data": {
      "text/plain": [
       "6-element Array{Float64,1}:\n",
       " 0.844135\n",
       " 0.281712\n",
       " 0.345159\n",
       " 0.387557\n",
       " 0.354447\n",
       " 0.648639"
      ]
     },
     "execution_count": 6,
     "metadata": {},
     "output_type": "execute_result"
    }
   ],
   "source": [
    "b=rand(6)"
   ]
  },
  {
   "cell_type": "code",
   "execution_count": 7,
   "metadata": {
    "collapsed": false
   },
   "outputs": [
    {
     "data": {
      "text/plain": [
       "6-element Array{Float64,1}:\n",
       "  0.0901867\n",
       "  2.92866  \n",
       " -1.1668   \n",
       " -0.194855 \n",
       " -1.67618  \n",
       "  0.0679026"
      ]
     },
     "execution_count": 7,
     "metadata": {},
     "output_type": "execute_result"
    }
   ],
   "source": [
    "x=A\\b"
   ]
  },
  {
   "cell_type": "code",
   "execution_count": 8,
   "metadata": {
    "collapsed": false
   },
   "outputs": [
    {
     "data": {
      "text/plain": [
       "6-element Array{Float64,1}:\n",
       "  0.844135\n",
       " -0.672785\n",
       "  0.135808\n",
       " -0.297671\n",
       " -0.51552 \n",
       "  0.127584"
      ]
     },
     "execution_count": 8,
     "metadata": {},
     "output_type": "execute_result"
    }
   ],
   "source": [
    "y=myL(L,b)"
   ]
  },
  {
   "cell_type": "code",
   "execution_count": 9,
   "metadata": {
    "collapsed": false
   },
   "outputs": [
    {
     "data": {
      "text/plain": [
       "6-element Array{Float64,1}:\n",
       "  0.0901867\n",
       "  2.92866  \n",
       " -1.1668   \n",
       " -0.194855 \n",
       " -1.67618  \n",
       "  0.0679026"
      ]
     },
     "execution_count": 9,
     "metadata": {},
     "output_type": "execute_result"
    }
   ],
   "source": [
    "x1=myU(U,y)"
   ]
  },
  {
   "cell_type": "code",
   "execution_count": 10,
   "metadata": {
    "collapsed": false
   },
   "outputs": [
    {
     "data": {
      "text/plain": [
       "6-element Array{Float64,1}:\n",
       " -9.71445e-17\n",
       "  0.0        \n",
       " -6.66134e-16\n",
       "  7.21645e-16\n",
       " -4.44089e-16\n",
       "  8.32667e-17"
      ]
     },
     "execution_count": 10,
     "metadata": {},
     "output_type": "execute_result"
    }
   ],
   "source": [
    "x-x1"
   ]
  },
  {
   "cell_type": "markdown",
   "metadata": {},
   "source": [
    "## Brzina"
   ]
  },
  {
   "cell_type": "markdown",
   "metadata": {},
   "source": [
    "Program `mylu()` je jako spor. Između ostalog, alocira nepotrebno tri matrice.\n",
    "\n",
    "Program se može reformulirati na načun da su i $L$ i $U$ spremljene u polje $A$, pri čemu se dijagonala od $L$ ne sprema, jer su svi elementi jednaki 1."
   ]
  },
  {
   "cell_type": "code",
   "execution_count": 11,
   "metadata": {
    "collapsed": false
   },
   "outputs": [
    {
     "data": {
      "text/plain": [
       "mylu1 (generic function with 1 method)"
      ]
     },
     "execution_count": 11,
     "metadata": {},
     "output_type": "execute_result"
    }
   ],
   "source": [
    "function mylu1{T}(A1::Array{T}) # Strang, page 100\n",
    "    A=deepcopy(A1)\n",
    "    n,m=size(A)\n",
    "    for k=1:n-1\n",
    "        rho=k+1:n\n",
    "        A[rho,k]=A[rho,k]/A[k,k]\n",
    "        A[rho,rho]=A[rho,rho]-A[rho,k]*A[k,rho]\n",
    "    end\n",
    "    A\n",
    "end"
   ]
  },
  {
   "cell_type": "code",
   "execution_count": 12,
   "metadata": {
    "collapsed": false
   },
   "outputs": [
    {
     "data": {
      "text/plain": [
       "6x6 Array{Float64,2}:\n",
       " 0.694002   0.958648   0.656373    0.864156   0.655747   0.108587  \n",
       " 1.13074   -0.491041   0.0358197  -0.149813  -0.443124   0.517778  \n",
       " 1.25257    1.26042   -0.728584   -0.466039   0.476894  -0.0847179 \n",
       " 0.93774    0.180152   0.10936    -0.133753   0.193447   0.00762118\n",
       " 0.259795  -0.390211  -0.14451    -1.36984    0.328977   0.528736  \n",
       " 0.599616  -0.496896   0.148289    3.78942   -1.52944    1.87893   "
      ]
     },
     "execution_count": 12,
     "metadata": {},
     "output_type": "execute_result"
    }
   ],
   "source": [
    "mylu1(A)"
   ]
  },
  {
   "cell_type": "code",
   "execution_count": 13,
   "metadata": {
    "collapsed": false
   },
   "outputs": [
    {
     "data": {
      "text/plain": [
       "(\n",
       "6x6 Array{Float64,2}:\n",
       " 1.0        0.0        0.0        0.0       0.0      0.0\n",
       " 1.13074    1.0        0.0        0.0       0.0      0.0\n",
       " 1.25257    1.26042    1.0        0.0       0.0      0.0\n",
       " 0.93774    0.180152   0.10936    1.0       0.0      0.0\n",
       " 0.259795  -0.390211  -0.14451   -1.36984   1.0      0.0\n",
       " 0.599616  -0.496896   0.148289   3.78942  -1.52944  1.0,\n",
       "\n",
       "6x6 Array{Float64,2}:\n",
       " 0.694002   0.958648   0.656373    0.864156   0.655747   0.108587  \n",
       " 0.0       -0.491041   0.0358197  -0.149813  -0.443124   0.517778  \n",
       " 0.0        0.0       -0.728584   -0.466039   0.476894  -0.0847179 \n",
       " 0.0        0.0        0.0        -0.133753   0.193447   0.00762118\n",
       " 0.0        0.0        0.0         0.0        0.328977   0.528736  \n",
       " 0.0        0.0        0.0         0.0        0.0        1.87893   )"
      ]
     },
     "execution_count": 13,
     "metadata": {},
     "output_type": "execute_result"
    }
   ],
   "source": [
    "L,U"
   ]
  },
  {
   "cell_type": "markdown",
   "metadata": {},
   "source": [
    "Usporedimo brzine LAPACK-ovog programa `lu()` i našeg naivnog programa `mylu()`na većoj dimenziji. \n",
    "\n",
    "Izvedite program par puta radi točnijeg mjerenja brzine."
   ]
  },
  {
   "cell_type": "code",
   "execution_count": 14,
   "metadata": {
    "collapsed": false
   },
   "outputs": [
    {
     "data": {
      "text/plain": [
       "512x512 Array{Float64,2}:\n",
       " 0.903796    0.738309   0.695912  …  0.0902884  0.818886    0.446701 \n",
       " 0.0717313   0.600272   0.235524     0.132131   0.261135    0.873703 \n",
       " 0.909408    0.947099   0.978692     0.453131   0.881104    0.722411 \n",
       " 0.54517     0.432489   0.328485     0.810108   0.00890598  0.925249 \n",
       " 0.85106     0.921674   0.139709     0.185145   0.786884    0.476957 \n",
       " 0.541853    0.980055   0.702073  …  0.797795   0.301344    0.935229 \n",
       " 0.731343    0.341836   0.563567     0.263423   0.99831     0.80876  \n",
       " 0.153017    0.400878   0.109396     0.958214   0.232474    0.870347 \n",
       " 0.0570459   0.195312   0.316343     0.0690949  0.660693    0.262871 \n",
       " 0.552332    0.209838   0.219945     0.147531   0.150723    0.731427 \n",
       " 0.520277    0.68459    0.373622  …  0.497      0.32923     0.0992118\n",
       " 0.551132    0.222228   0.903428     0.283562   0.886816    0.950251 \n",
       " 0.0791112   0.300856   0.922835     0.386875   0.489645    0.923038 \n",
       " ⋮                                ⋱             ⋮                    \n",
       " 0.781574    0.495392   0.633694  …  0.0498833  0.875323    0.745664 \n",
       " 0.193355    0.808447   0.369743     0.333788   0.873496    0.329472 \n",
       " 0.570663    0.725053   0.628504     0.514797   0.46168     0.785398 \n",
       " 0.429954    0.840938   0.119083     0.0930435  0.828027    0.286546 \n",
       " 0.00576784  0.362861   0.124561     0.853679   0.71607     0.546174 \n",
       " 0.395267    0.0981133  0.803422  …  0.900134   0.159142    0.575557 \n",
       " 0.767708    0.7719     0.196141     0.381596   0.0928864   0.496599 \n",
       " 0.534836    0.283527   0.66658      0.347164   0.686163    0.296263 \n",
       " 0.652344    0.110386   0.284374     0.586705   0.701884    0.340421 \n",
       " 0.816752    0.162846   0.863324     0.619364   0.578299    0.051302 \n",
       " 0.0575567   0.648515   0.221412  …  0.0637962  0.368936    0.415692 \n",
       " 0.74311     0.552721   0.115411     0.546098   0.830644    0.546998 "
      ]
     },
     "execution_count": 14,
     "metadata": {},
     "output_type": "execute_result"
    }
   ],
   "source": [
    "n=512\n",
    "A=rand(n,n)"
   ]
  },
  {
   "cell_type": "code",
   "execution_count": 15,
   "metadata": {
    "collapsed": false
   },
   "outputs": [
    {
     "name": "stdout",
     "output_type": "stream",
     "text": [
      "  "
     ]
    }
   ],
   "source": [
    "@time lu(A);"
   ]
  },
  {
   "cell_type": "code",
   "execution_count": 16,
   "metadata": {
    "collapsed": false
   },
   "outputs": [
    {
     "name": "stdout",
     "output_type": "stream",
     "text": [
      "0.189969 seconds (177.58 k allocations: 14.420 MB, 2.34% gc time)\n",
      "  "
     ]
    }
   ],
   "source": [
    "@time mylu1(A);"
   ]
  },
  {
   "cell_type": "markdown",
   "metadata": {},
   "source": [
    "### Blok varijanta\n",
    "\n",
    "`mylu()` je nekoliko desetaka puta sporiji.\n",
    "\n",
    "Probajmo s blokovima:\n",
    "\n",
    "Preradimo `mylu1()` za rad s blokovima (nemamo ugrađeno pivotiranje!)"
   ]
  },
  {
   "cell_type": "code",
   "execution_count": 17,
   "metadata": {
    "collapsed": false
   },
   "outputs": [
    {
     "data": {
      "text/plain": [
       "mylu2 (generic function with 1 method)"
      ]
     },
     "execution_count": 17,
     "metadata": {},
     "output_type": "execute_result"
    }
   ],
   "source": [
    "function mylu2{T}(A1::Array{T}) # Strang, page 100\n",
    "    A=deepcopy(A1)\n",
    "    n,m=size(A)\n",
    "    for k=1:n-1\n",
    "        for rho=k+1:n\n",
    "            A[rho,k]=A[rho,k]/A[k,k]\n",
    "            for l=k+1:n\n",
    "                A[rho,l]=A[rho,l]-A[rho,k]*A[k,l]\n",
    "            end\n",
    "        end\n",
    "    end\n",
    "    A\n",
    "end"
   ]
  },
  {
   "cell_type": "markdown",
   "metadata": {},
   "source": [
    "Napravimo prvo mali test:"
   ]
  },
  {
   "cell_type": "code",
   "execution_count": 18,
   "metadata": {
    "collapsed": false
   },
   "outputs": [],
   "source": [
    "# Probajte k,l=32,16 i k,l=64,8\n",
    "k,l=4,4\n",
    "Ab=[rand(k,k) for i=1:l, j=1:l];"
   ]
  },
  {
   "cell_type": "code",
   "execution_count": 19,
   "metadata": {
    "collapsed": false
   },
   "outputs": [
    {
     "data": {
      "text/plain": [
       "4x4 Array{Any,2}:\n",
       " 4x4 Array{Float64,2}:\n",
       " 0.612029  0.696121  0.19648   0.372235\n",
       " 0.186628  0.224185  0.312353  0.205039\n",
       " 0.981409  0.164931  0.560429  0.313918\n",
       " 0.192397  0.762444  0.504759  0.525801                  …  4x4 Array{Float64,2}:\n",
       " 0.399887  0.50596   0.06536   0.611653\n",
       " 0.230605  0.730287  0.839388  0.729475\n",
       " 0.715488  0.318252  0.598433  0.639638\n",
       " 0.712234  0.367139  0.170803  0.875623                        \n",
       " 4x4 Array{Float64,2}:\n",
       "  0.393898   -1.69764   0.0968984   1.00255\n",
       " -5.71644   -31.0488    7.48604    13.45   \n",
       " -5.97127   -25.8495    7.30293    11.7698 \n",
       "  1.13856     7.48456  -1.41951    -1.62566     4x4 Array{Float64,2}:\n",
       " -0.450881   1.20328   2.03232   0.807206\n",
       " -4.55215   18.7946   20.1531   10.0765  \n",
       " -4.81435   15.805    15.7394    8.45582 \n",
       "  0.164645  -4.79444  -4.24579  -3.06917                 \n",
       " 4x4 Array{Float64,2}:\n",
       " -2.75834    -5.61298   2.08025    3.76764\n",
       "  0.0968047   1.68812  -0.299278   0.5294 \n",
       "  3.54162    16.0145   -3.30137   -6.50282\n",
       "  1.38672     7.08763  -0.927189  -2.26339         4x4 Array{Float64,2}:\n",
       " -0.921499   0.820558    1.3237     0.0024763\n",
       " -0.866769   0.579251    0.392955   0.646268 \n",
       "  1.58421   -0.0872587  -0.919256  -1.06753  \n",
       " -0.896957   0.540859   -0.720489   0.117982 \n",
       " 4x4 Array{Float64,2}:\n",
       " -4.35478  -21.0276   5.2318   10.0284 \n",
       " -1.09484   -6.43362  2.29852   3.11331\n",
       " -3.15436  -18.9688   3.94963   8.76067\n",
       " -5.28638  -27.6444   7.23168  11.5224                      4x4 Array{Float64,2}:\n",
       "  2.20435    0.979328   0.797225  -2.16182\n",
       "  1.41443    0.628618  -0.377382  -3.21075\n",
       " -1.31225   -0.535214  -0.864291   1.30428\n",
       "  0.502857  -0.754048   0.473853  -1.00971            "
      ]
     },
     "execution_count": 19,
     "metadata": {},
     "output_type": "execute_result"
    },
    {
     "name": "stdout",
     "output_type": "stream",
     "text": [
      "0.387931 seconds (17.26 k allocations: 1.004 GB, 9.62% gc time)\n"
     ]
    }
   ],
   "source": [
    "A0=mylu2(Ab)"
   ]
  },
  {
   "cell_type": "code",
   "execution_count": 20,
   "metadata": {
    "collapsed": false
   },
   "outputs": [],
   "source": [
    "# Provjera\n",
    "U=triu(A0)\n",
    "L=tril(A0)\n",
    "for i=1:maximum(size(L))\n",
    "    L[i,i]=eye(L[1,1])\n",
    "end"
   ]
  },
  {
   "cell_type": "code",
   "execution_count": 21,
   "metadata": {
    "collapsed": false
   },
   "outputs": [
    {
     "data": {
      "text/plain": [
       "4x4 Array{Any,2}:\n",
       " 4x4 Array{Float64,2}:\n",
       " 0.0  0.0  0.0  0.0\n",
       " 0.0  0.0  0.0  0.0\n",
       " 0.0  0.0  0.0  0.0\n",
       " 0.0  0.0  0.0  0.0                                                                                                                                              …  4x4 Array{Float64,2}:\n",
       " 0.0  0.0  0.0  0.0\n",
       " 0.0  0.0  0.0  0.0\n",
       " 0.0  0.0  0.0  0.0\n",
       " 0.0  0.0  0.0  0.0                                                                                                                                                \n",
       " 4x4 Array{Float64,2}:\n",
       "  0.0           0.0           5.55112e-17  0.0        \n",
       "  2.66454e-15   6.66134e-16   2.88658e-15  1.11022e-15\n",
       "  0.0          -2.22045e-16   1.55431e-15  0.0        \n",
       " -5.55112e-17   2.22045e-16  -3.33067e-16  3.33067e-16     4x4 Array{Float64,2}:\n",
       " 0.0          0.0           2.22045e-16   0.0        \n",
       " 4.44089e-16  0.0          -1.11022e-15   0.0        \n",
       " 4.44089e-16  4.44089e-16  -8.88178e-16  -4.44089e-16\n",
       " 0.0          0.0           4.44089e-16  -2.22045e-16        \n",
       " 4x4 Array{Float64,2}:\n",
       " -2.22045e-16  2.22045e-16   0.0           0.0        \n",
       "  0.0          0.0           0.0           0.0        \n",
       "  4.44089e-16  4.44089e-16  -1.11022e-15  -4.44089e-16\n",
       "  5.55112e-16  2.22045e-16   0.0           2.22045e-16     4x4 Array{Float64,2}:\n",
       " -1.11022e-16  -2.22045e-16   0.0           0.0        \n",
       "  0.0           0.0           0.0           0.0        \n",
       "  0.0           4.44089e-16  -4.44089e-16  -2.22045e-16\n",
       "  0.0           4.44089e-16  -2.22045e-16   0.0        \n",
       " 4x4 Array{Float64,2}:\n",
       "  8.88178e-16  -2.22045e-16  0.0          -4.44089e-16\n",
       " -1.11022e-16   2.22045e-16  0.0          -2.22045e-16\n",
       " -6.66134e-16   2.22045e-16  8.88178e-16   0.0        \n",
       "  4.44089e-16   2.22045e-16  1.11022e-15   2.22045e-16     4x4 Array{Float64,2}:\n",
       "  2.22045e-16  -2.22045e-16   6.66134e-16   2.22045e-16\n",
       "  0.0           0.0          -2.22045e-16   0.0        \n",
       " -2.22045e-16   0.0           1.11022e-16  -2.22045e-16\n",
       " -4.44089e-16  -2.22045e-16   1.55431e-15   0.0        "
      ]
     },
     "execution_count": 21,
     "metadata": {},
     "output_type": "execute_result"
    }
   ],
   "source": [
    "Res=L*U-Ab"
   ]
  },
  {
   "cell_type": "code",
   "execution_count": 22,
   "metadata": {
    "collapsed": false
   },
   "outputs": [
    {
     "data": {
      "text/plain": [
       "unblock (generic function with 1 method)"
      ]
     },
     "execution_count": 22,
     "metadata": {},
     "output_type": "execute_result"
    }
   ],
   "source": [
    "# pretvaranje blok matrice u obicnu\n",
    "unblock(A) = mapreduce(identity, hcat, [mapreduce(identity, vcat, A[:,i]) for i = 1:size(A,2)])"
   ]
  },
  {
   "cell_type": "code",
   "execution_count": 23,
   "metadata": {
    "collapsed": false
   },
   "outputs": [
    {
     "data": {
      "text/plain": [
       "1.3880650088705668e-14"
      ]
     },
     "execution_count": 23,
     "metadata": {},
     "output_type": "execute_result"
    }
   ],
   "source": [
    "norm(unblock(Res))"
   ]
  },
  {
   "cell_type": "markdown",
   "metadata": {},
   "source": [
    "Sada probajmo veću dimenziju"
   ]
  },
  {
   "cell_type": "code",
   "execution_count": 24,
   "metadata": {
    "collapsed": true
   },
   "outputs": [],
   "source": [
    "# Probajmo vece dimenzije (n=k*l)\n",
    "k,l=32,16\n",
    "Ab=[rand(k,k) for i=1:l, j=1:l];"
   ]
  },
  {
   "cell_type": "code",
   "execution_count": 25,
   "metadata": {
    "collapsed": false
   },
   "outputs": [
    {
     "name": "stdout",
     "output_type": "stream",
     "text": [
      "  "
     ]
    }
   ],
   "source": [
    "@time mylu2(Ab);"
   ]
  },
  {
   "cell_type": "markdown",
   "metadata": {},
   "source": [
    "Vidimo da je `mylu2()` gotovo jednako brz kao `lu()`, uz napomenu da `mylu2()` nema ugrađeno pivotiranje. "
   ]
  },
  {
   "cell_type": "markdown",
   "metadata": {},
   "source": [
    "## Pivotiranje\n",
    "\n",
    "Stanardne implementacije uvijek računaju Gaussovu eliminaciju s _parcijalnim pivotiranjem_:\n",
    "\n",
    "> u svakom koraku se rietci pivotiranju tako da pivotni element ima najveću apsolutnu vrijednsti u danom stupcu. Na taj \n",
    "> način je \n",
    "> \n",
    "> $$|L_{ij}| \\leq 1,$$\n",
    "> što u praksi dovoljno spriječava rast elemenata.\n"
   ]
  },
  {
   "cell_type": "code",
   "execution_count": 26,
   "metadata": {
    "collapsed": false
   },
   "outputs": [
    {
     "data": {
      "text/plain": [
       "(\n",
       "5x5 Array{Float64,2}:\n",
       " 1.0        0.0         0.0       0.0       0.0\n",
       " 0.203265   1.0         0.0       0.0       0.0\n",
       " 0.261295   0.957551    1.0       0.0       0.0\n",
       " 0.211457   0.422875   -0.249327  1.0       0.0\n",
       " 0.428942  -0.0959707   0.922999  0.110296  1.0,\n",
       "\n",
       "5x5 Array{Float64,2}:\n",
       " 0.847692  0.391778  0.982708   0.802882    0.122705\n",
       " 0.0       0.724498  0.280257  -0.0442058   0.674159\n",
       " 0.0       0.0       0.353751   0.0837194  -0.266715\n",
       " 0.0       0.0       0.0        0.0562533   0.574858\n",
       " 0.0       0.0       0.0        0.0         1.18878 ,\n",
       "\n",
       "[2,5,1,4,3])"
      ]
     },
     "execution_count": 26,
     "metadata": {},
     "output_type": "execute_result"
    }
   ],
   "source": [
    "A=rand(5,5)\n",
    "L,U,P=lu(A)"
   ]
  },
  {
   "cell_type": "code",
   "execution_count": 27,
   "metadata": {
    "collapsed": false
   },
   "outputs": [
    {
     "name": "stdout",
     "output_type": "stream",
     "text": [
      "0.071067 seconds (8.79 k allocations: 26.526 MB, 5.17% gc time)\n"
     ]
    },
    {
     "data": {
      "text/plain": [
       "5x5 Array{Float64,2}:\n",
       "  0.0          0.0   0.0          0.0  0.0\n",
       "  0.0          0.0   0.0          0.0  0.0\n",
       " -2.77556e-17  0.0  -1.11022e-16  0.0  0.0\n",
       " -2.77556e-17  0.0   2.77556e-17  0.0  0.0\n",
       "  0.0          0.0   0.0          0.0  0.0"
      ]
     },
     "execution_count": 27,
     "metadata": {},
     "output_type": "execute_result"
    }
   ],
   "source": [
    "L*U-A[P,:]"
   ]
  },
  {
   "cell_type": "markdown",
   "metadata": {},
   "source": [
    "### Potpuno pivotiranje\n",
    "\n",
    "Sljedeći program računa Gaussovu eliminaciju s _potpunim pivotiranjem_ - u svakom koraku retci i stupci zamijene na način da se na pivotnu poziciju dovede element koji ima najveću apsolutnu vrijednost u trenutnoj podmatrici."
   ]
  },
  {
   "cell_type": "code",
   "execution_count": 28,
   "metadata": {
    "collapsed": false
   },
   "outputs": [
    {
     "data": {
      "text/plain": [
       "gecp (generic function with 1 method)"
      ]
     },
     "execution_count": 28,
     "metadata": {},
     "output_type": "execute_result"
    }
   ],
   "source": [
    "function gecp{T}(A1::Array{T})\n",
    "    # Gaussova eliminacija s potpunim pivotiranjem\n",
    "    # Izlaz: Pr*L*U*Pc'=A ili Pr'*A*Pc=L*U\n",
    "    A=deepcopy(A1)\n",
    "    n,m=size(A)\n",
    "    Pr=eye(n,n)\n",
    "    Pc=eye(n,n)\n",
    "    D=zeros(n)\n",
    "    for i=1:n-1\n",
    "        am1,im1=findmax(abs(A[i:n,i:n]),1)\n",
    "        am,JJ=findmax(am1)\n",
    "        II=mod(im1[JJ],(n-i+1))\n",
    "        if II==0\n",
    "            II=n-i+1\n",
    "        end\n",
    "        imax=II+i-1\n",
    "        jmax=JJ+i-1\n",
    "        #  zamijena redaka\n",
    "        if (imax != i)\n",
    "            temp = Pr[:,i]\n",
    "            Pr[:,i] = Pr[:,imax]\n",
    "            Pr[:,imax] = temp\n",
    "            temp = A[i,:]\n",
    "            A[i,:] = A[imax,:]\n",
    "            A[imax,:] = temp\n",
    "        end\n",
    "        # zamijena stupaca\n",
    "        if (jmax != i)\n",
    "            temp = Pc[:,i]\n",
    "            Pc[:,i] = Pc[:,jmax]\n",
    "            Pc[:,jmax] = temp\n",
    "            temp = A[:,i]\n",
    "            A[:,i] = A[:,jmax]\n",
    "            A[:,jmax] = temp\n",
    "        end\n",
    "        # eliminacija\n",
    "        D[i]=A[i,i]\n",
    "        A[i+1:n,i] = A[i+1:n,i]/D[i]\n",
    "        A[i+1:n,i+1:n] = A[i+1:n,i+1:n] - A[i+1:n,i]*A[i,i+1:n]\n",
    "        A[i,i+1:n]=A[i,i+1:n]/D[i]\n",
    "    end\n",
    "    D[n]=A[n,n]\n",
    "    L=eye(n,n)+tril(A,-1)\n",
    "    U=eye(n,n)+triu(A,1)\n",
    "    U=diagm(D)*U\n",
    "    L,U,Pr,Pc\n",
    "end"
   ]
  },
  {
   "cell_type": "code",
   "execution_count": 29,
   "metadata": {
    "collapsed": false
   },
   "outputs": [
    {
     "data": {
      "text/plain": [
       "5-element Array{Float64,1}:\n",
       " 0.970802\n",
       " 0.947262\n",
       " 0.583406\n",
       " 0.974863\n",
       " 0.495018"
      ]
     },
     "execution_count": 29,
     "metadata": {},
     "output_type": "execute_result"
    }
   ],
   "source": [
    "n=5\n",
    "A=rand(n,n)\n",
    "b=rand(n)"
   ]
  },
  {
   "cell_type": "code",
   "execution_count": 30,
   "metadata": {
    "collapsed": false
   },
   "outputs": [
    {
     "data": {
      "text/plain": [
       "(\n",
       "5x5 Array{Float64,2}:\n",
       " 1.0        0.0        0.0        0.0       0.0\n",
       " 0.403938   1.0        0.0        0.0       0.0\n",
       " 0.387639  -0.112222   1.0        0.0       0.0\n",
       " 0.710276   0.539328  -0.750881   1.0       0.0\n",
       " 0.218263   0.277415   0.789361  -0.253873  1.0,\n",
       "\n",
       "5x5 Array{Float64,2}:\n",
       " 0.913058  0.28805   0.401305   0.747311  0.430187\n",
       " 0.0       0.711384  0.22746    0.295997  0.674495\n",
       " 0.0       0.0       0.512794  -0.231761  0.333971\n",
       " 0.0       0.0       0.0       -0.399404  0.153552\n",
       " 0.0       0.0       0.0        0.0       0.243453,\n",
       "\n",
       "5x5 Array{Float64,2}:\n",
       " 1.0  0.0  0.0  0.0  0.0\n",
       " 0.0  0.0  0.0  0.0  1.0\n",
       " 0.0  0.0  0.0  1.0  0.0\n",
       " 0.0  0.0  1.0  0.0  0.0\n",
       " 0.0  1.0  0.0  0.0  0.0,\n",
       "\n",
       "5x5 Array{Float64,2}:\n",
       " 0.0  0.0  0.0  0.0  1.0\n",
       " 0.0  1.0  0.0  0.0  0.0\n",
       " 0.0  0.0  0.0  1.0  0.0\n",
       " 1.0  0.0  0.0  0.0  0.0\n",
       " 0.0  0.0  1.0  0.0  0.0)"
      ]
     },
     "execution_count": 30,
     "metadata": {},
     "output_type": "execute_result"
    }
   ],
   "source": [
    "L,U,Pr,Pc=gecp(A)"
   ]
  },
  {
   "cell_type": "code",
   "execution_count": 31,
   "metadata": {
    "collapsed": false
   },
   "outputs": [
    {
     "data": {
      "text/plain": [
       "5x5 Array{Float64,2}:\n",
       " 0.0   0.0          0.0  0.0  0.0\n",
       " 0.0   0.0          0.0  0.0  0.0\n",
       " 0.0  -1.11022e-16  0.0  0.0  0.0\n",
       " 0.0   0.0          0.0  0.0  0.0\n",
       " 0.0   0.0          0.0  0.0  0.0"
      ]
     },
     "execution_count": 31,
     "metadata": {},
     "output_type": "execute_result"
    }
   ],
   "source": [
    "Pr*L*U*Pc'-A"
   ]
  },
  {
   "cell_type": "code",
   "execution_count": 32,
   "metadata": {
    "collapsed": false
   },
   "outputs": [
    {
     "data": {
      "text/plain": [
       "5-element Array{Float64,1}:\n",
       " 0.970802\n",
       " 0.102874\n",
       " 0.610088\n",
       " 0.296488\n",
       " 0.300524"
      ]
     },
     "execution_count": 32,
     "metadata": {},
     "output_type": "execute_result"
    }
   ],
   "source": [
    "y=myL(L,Pr'*b)"
   ]
  },
  {
   "cell_type": "code",
   "execution_count": 33,
   "metadata": {
    "collapsed": false
   },
   "outputs": [
    {
     "data": {
      "text/plain": [
       "5-element Array{Float64,1}:\n",
       "  0.8996  \n",
       " -0.999052\n",
       "  0.264769\n",
       " -0.267751\n",
       "  1.23442 "
      ]
     },
     "execution_count": 33,
     "metadata": {},
     "output_type": "execute_result"
    }
   ],
   "source": [
    "z=myU(U,y)"
   ]
  },
  {
   "cell_type": "code",
   "execution_count": 34,
   "metadata": {
    "collapsed": false
   },
   "outputs": [
    {
     "data": {
      "text/plain": [
       "5-element Array{Float64,1}:\n",
       "  1.23442 \n",
       " -0.999052\n",
       " -0.267751\n",
       "  0.8996  \n",
       "  0.264769"
      ]
     },
     "execution_count": 34,
     "metadata": {},
     "output_type": "execute_result"
    }
   ],
   "source": [
    "x=Pc*z"
   ]
  },
  {
   "cell_type": "code",
   "execution_count": 35,
   "metadata": {
    "collapsed": false
   },
   "outputs": [
    {
     "data": {
      "text/plain": [
       "5-element Array{Float64,1}:\n",
       " -1.11022e-16\n",
       " -1.11022e-16\n",
       "  0.0        \n",
       " -2.22045e-16\n",
       "  0.0        "
      ]
     },
     "execution_count": 35,
     "metadata": {},
     "output_type": "execute_result"
    }
   ],
   "source": [
    "A*x-b"
   ]
  },
  {
   "cell_type": "markdown",
   "metadata": {},
   "source": [
    "## Točnost\n",
    "\n",
    "Neka je zadan sustav $Ax=b$, pri čemu je matrica $A$ regularna.\n",
    "\n",
    "Da bi primijenili koncepte iz bilježnice [NA04_Porgeska_unatrag_i stabilni_algoritmi](NA04_Pogeska_unatrag_i stabilni_algoritmi.ipynb), potrebno je:\n",
    "\n",
    "1. napraviti teoriju smetnje za danai problem\n",
    "2. analizirati pogreške algoritma (Gaussove eliminacije)\n",
    "\n",
    "### Teorija smetnje\n",
    "\n",
    "Neka je \n",
    "\n",
    "$$\n",
    "(A+\\delta A)\\hat x=(b+\\delta b)\n",
    "$$\n",
    "za neki $\\hat x=x+\\delta x$.\n",
    "\n",
    "Želimo ocijeniti \n",
    "$$\n",
    "\\frac{\\| \\hat x - x \\|}{\\| x\\|} \\equiv \\frac{\\| \\delta x\\|}{\\| x\\|}.\n",
    "$$\n",
    "\n",
    "Uvedimo oznake (npr. prema [G. Golub and C. F. Van Loan, Matrix Computations, str. 87, poglavlje 2.6.2][GVL13])\n",
    "\n",
    "$$\n",
    "\\delta A=\\varepsilon F, \\quad \\delta b=\\varepsilon f, \\qquad \\hat x=x(\\varepsilon),\n",
    "$$\n",
    "čime smo dobili jednodimenzionalni problem \n",
    "\n",
    "$$\n",
    "(A+\\varepsilon F)x(\\varepsilon)=b+\\varepsilon f.\n",
    "$$\n",
    "\n",
    "za neke (nepoznate) matricu $F$ i vektor $f$. \n",
    "\n",
    "Deriviranje po $\\varepsilon$ daje\n",
    "\n",
    "$$\n",
    "Fx(\\varepsilon)+(A+\\varepsilon F)\\dot x(\\varepsilon)=f.\n",
    "$$\n",
    "\n",
    "Uvrštavanje $\\varepsilon=0$ daje\n",
    "\n",
    "$$\n",
    "F x+A\\dot x(0)=f,\n",
    "$$\n",
    "odnosno\n",
    "$$\n",
    "\\dot x(0)=A^{-1}(f-Fx).\n",
    "$$\n",
    "\n",
    "Taylorov razvoj oko $x(0)$ glasi\n",
    "\n",
    "$$\n",
    "x(\\varepsilon)=x(0)+\\varepsilon \\dot x(0) +O(\\varepsilon^2),\n",
    "$$\n",
    "odnosno, uz zanemarivanje člana $O(\\varepsilon^2)$,\n",
    "\n",
    "$$\n",
    "\\hat x-x=\\varepsilon A^{-1}(f-Fx)=A^{-1} (\\varepsilon f + \\varepsilon F x) = A^{-1} (\\delta b + \\delta A x).\n",
    "$$\n",
    "\n",
    "Svojstva norme povlače\n",
    "\n",
    "$$\n",
    "\\| \\hat x-x\\|\\leq \\| A^{-1} \\| (\\| \\delta b \\|  + \\| \\delta A \\| \\cdot \\|  x\\| ).\n",
    "$$\n",
    "\n",
    "Konačno, zbog $\\| b\\| \\leq \\| A\\| \\| x\\|$ imamo\n",
    "\n",
    "$$\n",
    "\\frac{\\| \\hat x-x\\|}{\\| x\\|}\\leq \\| A\\|  \\cdot \\| A^{-1} \\| \\bigg(\\frac{\\| \\delta b \\|}{\\|b\\|}  + \\frac{\\| \\delta A \\|}{ \\|  A\\|} \\bigg). \\tag{1}\n",
    "$$\n",
    "\n",
    "Broj \n",
    "$$\n",
    "\\kappa(A)\\equiv \\| A\\|  \\cdot \\| A^{-1} \\|\n",
    "$$ \n",
    "\n",
    "je _uvjetovanost_ (_kondicija_)  matrice $A$ i kazuje nam \n",
    "\n",
    "> koliko se relativno uvećaju relativne promjene u polaznim podacima (matrici $A$ i vektoru $b$).\n",
    "\n",
    "Pogledajmo primjer iz [R. Scitovski, Numerička matematika, str. 42][RS04]:\n",
    "\n",
    "\n",
    "\n",
    "\n",
    "[GVL13]: https://books.google.hr/books?id=X5YfsuCWpxMC&printsec=frontcover&hl=hr#v=onepage&q&f=false \"G. Golub and C. F Van Loan, 'Matrix Computations', 4th Edition, John Hopkins, Baltimore, 2013\" \n",
    "\n",
    "[RS04]: http://www.mathos.unios.hr/pim/Materijali/Num.pdf \"R. Scitovski, 'Numerička matematika', Sveučilište u Osijeku, osijek, 2004.\""
   ]
  },
  {
   "cell_type": "code",
   "execution_count": 36,
   "metadata": {
    "collapsed": false
   },
   "outputs": [
    {
     "data": {
      "text/plain": [
       "2x2 Array{Float64,2}:\n",
       " 0.234  0.458\n",
       " 0.383  0.75 "
      ]
     },
     "execution_count": 36,
     "metadata": {},
     "output_type": "execute_result"
    }
   ],
   "source": [
    "A= [0.234 0.458; 0.383 0.750]"
   ]
  },
  {
   "cell_type": "code",
   "execution_count": 37,
   "metadata": {
    "collapsed": false
   },
   "outputs": [
    {
     "data": {
      "text/plain": [
       "2-element Array{Float64,1}:\n",
       " 0.224\n",
       " 0.367"
      ]
     },
     "execution_count": 37,
     "metadata": {},
     "output_type": "execute_result"
    }
   ],
   "source": [
    "b=[0.224;0.367]"
   ]
  },
  {
   "cell_type": "code",
   "execution_count": 38,
   "metadata": {
    "collapsed": false
   },
   "outputs": [
    {
     "data": {
      "text/plain": [
       "2-element Array{Float64,1}:\n",
       " -1.0\n",
       "  1.0"
      ]
     },
     "execution_count": 38,
     "metadata": {},
     "output_type": "execute_result"
    }
   ],
   "source": [
    "x=A\\b"
   ]
  },
  {
   "cell_type": "code",
   "execution_count": 39,
   "metadata": {
    "collapsed": false
   },
   "outputs": [
    {
     "data": {
      "text/plain": [
       "2-element Array{Float64,1}:\n",
       " -0.241744\n",
       "  0.612791"
      ]
     },
     "execution_count": 39,
     "metadata": {},
     "output_type": "execute_result"
    }
   ],
   "source": [
    "δb=[0.00009; 0.000005]\n",
    "x1=A\\(b+δb)"
   ]
  },
  {
   "cell_type": "code",
   "execution_count": 40,
   "metadata": {
    "collapsed": false
   },
   "outputs": [
    {
     "data": {
      "text/plain": [
       "(11322.197586092605,0.0002096449170953002,0.6020311134825742)"
      ]
     },
     "execution_count": 40,
     "metadata": {},
     "output_type": "execute_result"
    }
   ],
   "source": [
    "cond(A), norm(δb)/norm(b), norm(x1-x)/norm(x)"
   ]
  },
  {
   "cell_type": "code",
   "execution_count": 41,
   "metadata": {
    "collapsed": false
   },
   "outputs": [
    {
     "data": {
      "text/plain": [
       "2-element Array{Float64,1}:\n",
       " 0.129518\n",
       " 0.423193"
      ]
     },
     "execution_count": 41,
     "metadata": {},
     "output_type": "execute_result"
    }
   ],
   "source": [
    "δA=[-0.001 0;0 0]\n",
    "x2=(A+δA)\\b"
   ]
  },
  {
   "cell_type": "code",
   "execution_count": 42,
   "metadata": {
    "collapsed": false
   },
   "outputs": [
    {
     "data": {
      "text/plain": [
       "(11322.197586092605,0.0010134105230118603,0.896804787832142)"
      ]
     },
     "execution_count": 42,
     "metadata": {},
     "output_type": "execute_result"
    }
   ],
   "source": [
    "cond(A), norm(δA)/norm(A), norm(x2-x)/norm(x)"
   ]
  },
  {
   "cell_type": "markdown",
   "metadata": {},
   "source": [
    "### Pogreška Gaussove eliminacije\n",
    "\n",
    "Prema [G. Golub and C. F. Van Loan, Matrix Computations, str. 122, poglavlje 3.3][GVL13], za izračunate faktore\n",
    "$\\hat L$ i $\\hat U$ vrijedi\n",
    "\n",
    "$$\n",
    "\\hat L\\cdot \\hat U = A+\\delta A\n",
    "$$\n",
    "\n",
    "gdje je (nejednakost se čita po elementima matrica, $\\varepsilon$ je sada točnost stroja)\n",
    "\n",
    "$$\n",
    "| \\delta A|\\leq 3(n-1) \\varepsilon (|A|+|\\hat L| \\cdot |\\hat U|) +O(n^2).\n",
    "$$\n",
    "\n",
    "Zanemarivanje člana $O(\\varepsilon^2)$ i prelazak na normu daju\n",
    "\n",
    "$$\n",
    "\\|\\delta A \\| \\approx \\leq  O(n)\\varepsilon (\\| A\\| + \\| \\hat L\\| \\cdot \\| \\hat U\\|),\n",
    "$$\n",
    "\n",
    "pa je \n",
    "\n",
    "$$\n",
    " \\frac{\\|\\delta A \\|}{\\|A\\|} \\leq O(n)\\varepsilon \\bigg(1+\\frac{\\| \\hat L\\| \\cdot \\| \\hat U\\|}{\\|A\\|}\\bigg).\n",
    "$$\n",
    "\n",
    "Ukoliko se Gaussova eliminacija radi s pivotiranjem, tada će najvjerojatnije zadnji kvocijent također biti malen \n",
    "($\\approx 1$). Također, pogreška kod rješavanja trokutastih sustava nije veća od navedene pa, uvrštavanjme u (1) slijedi \n",
    "da za relativnu pogreška izračunatog rješenja vrijedi\n",
    "\n",
    "$$\n",
    "\\frac{\\| \\hat x-x\\|}{\\| x\\|}\\leq \\kappa(A) O(n\\varepsilon).\n",
    "$$\n",
    "\n",
    "> __Ukoliko je kondicija matrice velika, rješenje može biti netočno.__"
   ]
  },
  {
   "cell_type": "code",
   "execution_count": 43,
   "metadata": {
    "collapsed": false
   },
   "outputs": [
    {
     "data": {
      "text/plain": [
       "10-element Array{Float64,1}:\n",
       " 0.67457   \n",
       " 0.568465  \n",
       " 0.00404135\n",
       " 0.867243  \n",
       " 0.494696  \n",
       " 0.155616  \n",
       " 0.591977  \n",
       " 0.5308    \n",
       " 0.798096  \n",
       " 0.305927  "
      ]
     },
     "execution_count": 43,
     "metadata": {},
     "output_type": "execute_result"
    }
   ],
   "source": [
    "n=10\n",
    "v=rand(n)"
   ]
  },
  {
   "cell_type": "code",
   "execution_count": 44,
   "metadata": {
    "collapsed": false
   },
   "outputs": [
    {
     "data": {
      "text/plain": [
       "10x10 Array{Float64,2}:\n",
       " 1.0        1.0         1.0          …  1.0         1.0       1.0        \n",
       " 0.67457    0.568465    0.00404135      0.5308      0.798096  0.305927   \n",
       " 0.455044   0.323153    1.63325e-5      0.281748    0.636957  0.0935911  \n",
       " 0.306959   0.183701    6.60056e-8      0.149552    0.508352  0.028632   \n",
       " 0.207065   0.104428    2.66752e-10     0.0793821   0.405714  0.00875929 \n",
       " 0.13968    0.0593635   1.07804e-12  …  0.042136    0.323798  0.0026797  \n",
       " 0.0942239  0.0337461   4.35674e-15     0.0223658   0.258422  0.000819791\n",
       " 0.0635606  0.0191835   1.76071e-17     0.0118718   0.206246  0.000250796\n",
       " 0.042876   0.0109051   7.11567e-20     0.00630152  0.164604  7.67251e-5 \n",
       " 0.0289229  0.00619918  2.87569e-22     0.00334485  0.13137   2.34722e-5 "
      ]
     },
     "execution_count": 44,
     "metadata": {},
     "output_type": "execute_result"
    }
   ],
   "source": [
    "A=Array(Float64,n,n)\n",
    "for i=1:n\n",
    "    A[:,i]=v.^(i-1)\n",
    "end\n",
    "A=A'"
   ]
  },
  {
   "cell_type": "code",
   "execution_count": 45,
   "metadata": {
    "collapsed": false
   },
   "outputs": [
    {
     "data": {
      "text/plain": [
       "10-element Array{Float64,1}:\n",
       " 0.993882 \n",
       " 0.414292 \n",
       " 0.852137 \n",
       " 0.0519895\n",
       " 0.216377 \n",
       " 0.994487 \n",
       " 0.543635 \n",
       " 0.658461 \n",
       " 0.933354 \n",
       " 0.916854 "
      ]
     },
     "execution_count": 45,
     "metadata": {},
     "output_type": "execute_result"
    }
   ],
   "source": [
    "b=rand(n)"
   ]
  },
  {
   "cell_type": "code",
   "execution_count": 46,
   "metadata": {
    "collapsed": false
   },
   "outputs": [
    {
     "data": {
      "text/plain": [
       "10-element Array{Float64,1}:\n",
       "       3.33836e6\n",
       "       8.90701e7\n",
       "   -2891.05     \n",
       "   40326.6      \n",
       "       1.70399e7\n",
       "   34699.8      \n",
       "      -5.24642e7\n",
       "      -5.65679e7\n",
       "      -2.4768e5 \n",
       " -240730.0      "
      ]
     },
     "execution_count": 46,
     "metadata": {},
     "output_type": "execute_result"
    }
   ],
   "source": [
    "x=A\\b"
   ]
  },
  {
   "cell_type": "code",
   "execution_count": 47,
   "metadata": {
    "collapsed": false
   },
   "outputs": [
    {
     "data": {
      "text/plain": [
       "2.5638805957595735e9"
      ]
     },
     "execution_count": 47,
     "metadata": {},
     "output_type": "execute_result"
    }
   ],
   "source": [
    "cond(A)"
   ]
  },
  {
   "cell_type": "code",
   "execution_count": 48,
   "metadata": {
    "collapsed": false
   },
   "outputs": [
    {
     "data": {
      "text/plain": [
       "10-element Array{BigFloat,1}:\n",
       "  3.338363566816710975148955811438766764140435919473479216260326930254518450327471e+06\n",
       "  8.907007912964351751077219761002907068624740435504628016407497974457313306403037e+07\n",
       " -2.891046037891099715901809005389843873396782116660560384277966440649619992701596e+03\n",
       "  4.032658073023228114091579799265556228852233540799552370038666491398393170237661e+04\n",
       "  1.703992961867523931371723658420525520157733585337082852231250041976319202843816e+07\n",
       "  3.469977266768251705419927600185071351065282449139070917468003311133281418557857e+04\n",
       " -5.246421716879110538664569484407950967877869569745112530262855328608209542869817e+07\n",
       " -5.656787938038539282753576237187281037290067592972374013637913399592403591478083e+07\n",
       " -2.476800590615323529405209696929777946368560616709724193403424893179490926191726e+05\n",
       " -2.407300203753361490162770134580227598357801405732032558530660548514302325943339e+05"
      ]
     },
     "execution_count": 48,
     "metadata": {},
     "output_type": "execute_result"
    }
   ],
   "source": [
    "Ab=Array(BigFloat,n,n)\n",
    "bb=Array(BigFloat,n)\n",
    "for i=1:n\n",
    "    for j=1:n\n",
    "        Ab[i,j]=convert(BigFloat,A[i,j])\n",
    "    end\n",
    "    bb[i]=convert(BigFloat,b[i])\n",
    "end\n",
    "xb=Ab\\bb"
   ]
  },
  {
   "cell_type": "code",
   "execution_count": 49,
   "metadata": {
    "collapsed": false
   },
   "outputs": [
    {
     "data": {
      "text/plain": [
       "6.536293332258814538491735317715866101813876083404201203436491015903454844835148e-10"
      ]
     },
     "execution_count": 49,
     "metadata": {},
     "output_type": "execute_result"
    }
   ],
   "source": [
    "norm(xb-x)/norm(xb)"
   ]
  },
  {
   "cell_type": "markdown",
   "metadata": {},
   "source": [
    "### Umjetno loša kondicija"
   ]
  },
  {
   "cell_type": "code",
   "execution_count": 50,
   "metadata": {
    "collapsed": false
   },
   "outputs": [
    {
     "name": "stdout",
     "output_type": "stream",
     "text": [
      "(x,cond(A)) = ([-1.0,2.0],6.854101966249685)"
     ]
    },
    {
     "data": {
      "text/plain": [
       "([-1.0,2.0],50000.00017991671,[8.881784197001252e-16,-4.440892098500626e-16])"
      ]
     },
     "execution_count": 50,
     "metadata": {},
     "output_type": "execute_result"
    }
   ],
   "source": [
    "A=[1 1; 1 2]\n",
    "b=[1;3]\n",
    "x=A\\b\n",
    "@show x,cond(A)\n",
    "A1=[1e-4 1e-4;1 2]\n",
    "b1=[1e-4;3]\n",
    "x1=A1\\b1\n",
    "x,cond(A1),x-x1"
   ]
  },
  {
   "cell_type": "markdown",
   "metadata": {
    "collapsed": true
   },
   "source": [
    "## Rezidual\n",
    "\n",
    "(Prema [G. W. Stewart, Afternotes on Numerical Analysis, str. 128.][Ste96])\n",
    "\n",
    "Izračunato rješenje $\\hat x$ sustava $Ax=b$ je točno rješenje nekog sličnog sustava\n",
    "\n",
    "$$ \n",
    "(A+\\delta A)\\hat x=b. \\tag{1}\n",
    "$$\n",
    "\n",
    "_rezidual_ (ili _ostatak_) definiramo kao \n",
    "\n",
    "$$\n",
    "r=b-A\\hat x.\n",
    "$$\n",
    "\n",
    "Tada je \n",
    "\n",
    "$$\n",
    "0=b-(A+\\delta A)\\hat x=r- \\delta A\\hat x\n",
    "$$\n",
    "pa je \n",
    "\n",
    "$$ \n",
    "\\| r\\| \\leq \\| \\delta A\\hat x \\| \\leq \\| \\delta A\\| \\cdot \\|\\hat x \\|,\n",
    "$$\n",
    "\n",
    "odnosno\n",
    "\n",
    "$$\n",
    "\\frac{\\|  \\delta A\\|}{\\|A \\|} \\geq \\frac{\\|r\\|}{\\| A\\| \\cdot \\|\\hat x \\|}.\n",
    "$$\n",
    "\n",
    "Dakle,\n",
    "> ako  _relativni rezidual_ \n",
    ">\n",
    "> $$ \\frac{r}{\\| A\\| \\cdot \\|\\hat x \\|}$$\n",
    "ima veliku normu, tada __rješenje nije izračunato stabilno.__\n",
    "\n",
    "S druge strane, ako relativni rezidual ima malu normu, tada je rješenje izračunato stabilno. Naime, za\n",
    "\n",
    "$$\n",
    "\\delta A=\\frac{r\\hat x^T}{\\|\\hat x\\|^2}\n",
    "$$\n",
    "vrijedi (1):\n",
    "\n",
    "$$\n",
    "b-(A+\\delta A)\\hat x=(b-A\\hat x)-\\delta A \\hat x = r-\\frac{r\\hat x^T \\hat x}{\\|\\hat x\\|^2}\n",
    "= r-\\frac{r \\|\\hat x^T \\hat x\\|}{\\|\\hat x\\|^2}=r-r=0.\n",
    "$$\n",
    "Također vrijedi\n",
    "\n",
    "$$\n",
    "\\frac{\\|  \\delta A\\|}{\\|A \\|}  \\leq  \\frac{\\|r\\|\\|\\hat x \\|}{\\| A\\| \\cdot \\|\\hat x \\|^2}=\n",
    "\\frac{\\|r\\|}{\\| A\\| \\cdot \\|\\hat x \\|}.\n",
    "$$\n",
    "\n",
    "\n",
    "\n",
    "\n",
    "[Ste96]: https://books.google.hr/books?id=w-2PWh01kWcC&printsec=frontcover&hl=hr#v=onepage&q&f=false    \"G. W. Stewart, 'Afternotes on Numerical Analysis', SIAM, Philadelphi, 1996\""
   ]
  },
  {
   "cell_type": "code",
   "execution_count": 51,
   "metadata": {
    "collapsed": false
   },
   "outputs": [
    {
     "name": "stdout",
     "output_type": "stream",
     "text": [
      "\n"
     ]
    },
    {
     "data": {
      "text/plain": [
       "2-element Array{Float64,1}:\n",
       " 0.0\n",
       " 0.0"
      ]
     },
     "execution_count": 51,
     "metadata": {},
     "output_type": "execute_result"
    }
   ],
   "source": [
    "r=b-A*x"
   ]
  },
  {
   "cell_type": "code",
   "execution_count": 52,
   "metadata": {
    "collapsed": false
   },
   "outputs": [
    {
     "data": {
      "text/plain": [
       "0.0"
      ]
     },
     "execution_count": 52,
     "metadata": {},
     "output_type": "execute_result"
    }
   ],
   "source": [
    "norm(r)/(norm(A)*norm(x))"
   ]
  },
  {
   "cell_type": "code",
   "execution_count": null,
   "metadata": {
    "collapsed": true
   },
   "outputs": [],
   "source": []
  }
 ],
 "metadata": {
  "kernelspec": {
   "display_name": "Julia 0.4.0",
   "language": "julia",
   "name": "julia-0.4"
  },
  "language_info": {
   "file_extension": ".jl",
   "mimetype": "application/julia",
   "name": "julia",
   "version": "0.4.0"
  }
 },
 "nbformat": 4,
 "nbformat_minor": 0
}
