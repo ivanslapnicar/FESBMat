{
 "cells": [
  {
   "cell_type": "markdown",
   "metadata": {},
   "source": [
    "# Gaussova eliminacija"
   ]
  },
  {
   "cell_type": "markdown",
   "metadata": {},
   "source": [
    "## Općenito\n",
    "\n",
    "Sustav $Ax=b$ se rješava u tri koraka (__bez pivotiranja__)\n",
    "\n",
    "1. $A=LU$ (LU rastav, $O(\\frac{2}{3}n^3)$ operacija)\n",
    "2. $Ly=b$ (donje trokutrasti sustav, $n^2$ operacija)\n",
    "3. $Ux=y$ (gornje torkutasti sustav, $n^2$ operacija)\n",
    "\n",
    "Ukoliko pivotiramo, tada je\n",
    "\n",
    "1. $PA=LU$ \n",
    "2. $Ly=P^T b$\n",
    "3. $Ux=y$ "
   ]
  },
  {
   "cell_type": "markdown",
   "metadata": {},
   "source": [
    "## LU rastav"
   ]
  },
  {
   "cell_type": "code",
   "execution_count": 1,
   "metadata": {
    "collapsed": false
   },
   "outputs": [
    {
     "data": {
      "text/plain": [
       "mylu (generic function with 1 method)"
      ]
     },
     "execution_count": 1,
     "metadata": {},
     "output_type": "execute_result"
    }
   ],
   "source": [
    "function mylu{T}(A1::Array{T}) # Strang, page 100\n",
    "    A=deepcopy(A1)\n",
    "    n,m=size(A)\n",
    "    U=map(Float64,[zero(A[1,1]) for i=1:n, j=1:n]) # This acccepts blocks and numbers\n",
    "    L=map(Float64,[zero(A[1,1]) for i=1:n, j=1:n])\n",
    "    for k=1:n\n",
    "        L[k,k]=one(A[1,1])\n",
    "        for i=k+1:n\n",
    "            L[i,k]=A[i,k]/A[k,k]\n",
    "            for j=k+1:n\n",
    "                A[i,j]=A[i,j]-L[i,k]*A[k,j]\n",
    "            end\n",
    "        end\n",
    "        for j=k:n\n",
    "            U[k,j]=A[k,j]\n",
    "        end\n",
    "    end\n",
    "    L,U\n",
    "end"
   ]
  },
  {
   "cell_type": "code",
   "execution_count": 2,
   "metadata": {
    "collapsed": false
   },
   "outputs": [
    {
     "data": {
      "text/plain": [
       "6x6 Array{Float64,2}:\n",
       " 0.928851  0.826131   0.179541   0.193666  0.970172   0.32579 \n",
       " 0.895041  0.103842   0.856939   0.76241   0.70185    0.725512\n",
       " 0.825504  0.141956   0.994111   0.444585  0.665407   0.201752\n",
       " 0.969686  0.0287001  0.0771153  0.995251  0.0924995  0.98151 \n",
       " 0.34744   0.287551   0.137898   0.451277  0.884962   0.171592\n",
       " 0.154071  0.705012   0.725469   0.662972  0.786284   0.490006"
      ]
     },
     "execution_count": 2,
     "metadata": {},
     "output_type": "execute_result"
    }
   ],
   "source": [
    "A=rand(6,6)\n",
    "# A=[2.0 2;3 4]"
   ]
  },
  {
   "cell_type": "code",
   "execution_count": 3,
   "metadata": {
    "collapsed": false
   },
   "outputs": [
    {
     "data": {
      "text/plain": [
       "(\n",
       "6x6 Array{Float64,2}:\n",
       " 1.0        0.0         0.0        0.0        0.0      0.0\n",
       " 0.9636     1.0         0.0        0.0        0.0      0.0\n",
       " 0.888736   0.855592    1.0        0.0        0.0      0.0\n",
       " 1.04396    1.20446    -3.74566    1.0        0.0      0.0\n",
       " 0.374053   0.0310106   0.198619  -0.558099   1.0      0.0\n",
       " 0.165873  -0.82052     5.04      -3.05173   -8.47973  1.0,\n",
       "\n",
       "6x6 Array{Float64,2}:\n",
       " 0.928851   0.826131  0.179541   0.193666   0.970172     0.32579 \n",
       " 0.0       -0.692218  0.683933   0.575793  -0.233008     0.411581\n",
       " 0.0        0.0       0.249379  -0.220178   0.00253942  -0.439935\n",
       " 0.0        0.0       0.0       -0.725161  -0.630163    -1.50218 \n",
       " 0.0        0.0       0.0        0.0        0.177094    -0.714022\n",
       " 0.0        0.0       0.0        0.0        0.0         -7.64802 )"
      ]
     },
     "execution_count": 3,
     "metadata": {},
     "output_type": "execute_result"
    }
   ],
   "source": [
    "L,U=mylu(A)"
   ]
  },
  {
   "cell_type": "code",
   "execution_count": 4,
   "metadata": {
    "collapsed": false
   },
   "outputs": [
    {
     "data": {
      "text/plain": [
       "6x6 Array{Float64,2}:\n",
       " 0.0  0.0  0.0   0.0          0.0          0.0\n",
       " 0.0  0.0  0.0   0.0          0.0          0.0\n",
       " 0.0  0.0  0.0   5.55112e-17  0.0          0.0\n",
       " 0.0  0.0  0.0   0.0          0.0          0.0\n",
       " 0.0  0.0  0.0  -5.55112e-17  0.0          0.0\n",
       " 0.0  0.0  0.0   0.0          4.44089e-16  0.0"
      ]
     },
     "execution_count": 4,
     "metadata": {},
     "output_type": "execute_result"
    }
   ],
   "source": [
    "L*U-A"
   ]
  },
  {
   "cell_type": "markdown",
   "metadata": {},
   "source": [
    "## Trokutasti sustavi"
   ]
  },
  {
   "cell_type": "code",
   "execution_count": 5,
   "metadata": {
    "collapsed": false
   },
   "outputs": [
    {
     "data": {
      "text/plain": [
       "myL (generic function with 1 method)"
      ]
     },
     "execution_count": 5,
     "metadata": {},
     "output_type": "execute_result"
    }
   ],
   "source": [
    "function myU{T}(U::Array{T},b1::Array{T})\n",
    "    b=deepcopy(b1)\n",
    "    n=length(b)\n",
    "    for i=n:-1:1\n",
    "       for j=n:-1:i+1\n",
    "            b[i]=b[i]-U[i,j]*b[j]\n",
    "       end\n",
    "        b[i]=b[i]/U[i,i]\n",
    "    end\n",
    "    b\n",
    "end\n",
    "\n",
    "function myL{T}(L::Array{T},b1::Array{T})\n",
    "    b=deepcopy(b1)\n",
    "    n=length(b)\n",
    "    for i=1:n\n",
    "        for j=1:i-1\n",
    "            b[i]=b[i]-L[i,j]*b[j]\n",
    "        end\n",
    "        b[i]=b[i]/L[i,i]\n",
    "    end\n",
    "    b\n",
    "end"
   ]
  },
  {
   "cell_type": "code",
   "execution_count": 6,
   "metadata": {
    "collapsed": false
   },
   "outputs": [
    {
     "data": {
      "text/plain": [
       "6-element Array{Float64,1}:\n",
       " 0.398146\n",
       " 0.915821\n",
       " 0.446334\n",
       " 0.67038 \n",
       " 0.933759\n",
       " 0.941788"
      ]
     },
     "execution_count": 6,
     "metadata": {},
     "output_type": "execute_result"
    }
   ],
   "source": [
    "b=rand(6)"
   ]
  },
  {
   "cell_type": "code",
   "execution_count": 8,
   "metadata": {
    "collapsed": false
   },
   "outputs": [
    {
     "data": {
      "text/plain": [
       "6-element Array{Float64,1}:\n",
       " -0.479773\n",
       " -0.440174\n",
       " -0.131435\n",
       "  0.643558\n",
       "  0.994701\n",
       "  0.433889"
      ]
     },
     "execution_count": 8,
     "metadata": {},
     "output_type": "execute_result"
    }
   ],
   "source": [
    "x=A\\b"
   ]
  },
  {
   "cell_type": "code",
   "execution_count": 9,
   "metadata": {
    "collapsed": false
   },
   "outputs": [
    {
     "data": {
      "text/plain": [
       "6-element Array{Float64,1}:\n",
       "  0.398146\n",
       "  0.532168\n",
       " -0.362831\n",
       " -1.74529 \n",
       " -0.133651\n",
       " -3.31839 "
      ]
     },
     "execution_count": 9,
     "metadata": {},
     "output_type": "execute_result"
    }
   ],
   "source": [
    "y=myL(L,b)"
   ]
  },
  {
   "cell_type": "code",
   "execution_count": 10,
   "metadata": {
    "collapsed": false
   },
   "outputs": [
    {
     "data": {
      "text/plain": [
       "6-element Array{Float64,1}:\n",
       " -0.479773\n",
       " -0.440174\n",
       " -0.131435\n",
       "  0.643558\n",
       "  0.994701\n",
       "  0.433889"
      ]
     },
     "execution_count": 10,
     "metadata": {},
     "output_type": "execute_result"
    }
   ],
   "source": [
    "x1=myU(U,y)"
   ]
  },
  {
   "cell_type": "code",
   "execution_count": 11,
   "metadata": {
    "collapsed": false
   },
   "outputs": [
    {
     "data": {
      "text/plain": [
       "6-element Array{Float64,1}:\n",
       " -1.11022e-16\n",
       "  5.55112e-16\n",
       "  8.32667e-17\n",
       "  6.66134e-16\n",
       " -1.11022e-16\n",
       " -5.55112e-16"
      ]
     },
     "execution_count": 11,
     "metadata": {},
     "output_type": "execute_result"
    }
   ],
   "source": [
    "x-x1"
   ]
  },
  {
   "cell_type": "markdown",
   "metadata": {},
   "source": [
    "## Brzina"
   ]
  },
  {
   "cell_type": "markdown",
   "metadata": {},
   "source": [
    "Program `mylu()` je jako spor. Između ostalog, alocira nepotrebno tri matrice.\n",
    "\n",
    "Program se može reformulirati na načun da su i $L$ i $U$ spremljene u polje $A$, pri čemu se dijagonala od $L$ ne sprema, jer su svi elementi jednaki 1."
   ]
  },
  {
   "cell_type": "code",
   "execution_count": 12,
   "metadata": {
    "collapsed": false
   },
   "outputs": [
    {
     "data": {
      "text/plain": [
       "mylu1 (generic function with 1 method)"
      ]
     },
     "execution_count": 12,
     "metadata": {},
     "output_type": "execute_result"
    }
   ],
   "source": [
    "function mylu1{T}(A1::Array{T}) # Strang, page 100\n",
    "    A=deepcopy(A1)\n",
    "    n,m=size(A)\n",
    "    for k=1:n-1\n",
    "        rho=k+1:n\n",
    "        A[rho,k]=A[rho,k]/A[k,k]\n",
    "        A[rho,rho]=A[rho,rho]-A[rho,k]*A[k,rho]\n",
    "    end\n",
    "    A\n",
    "end"
   ]
  },
  {
   "cell_type": "code",
   "execution_count": 13,
   "metadata": {
    "collapsed": false
   },
   "outputs": [
    {
     "data": {
      "text/plain": [
       "6x6 Array{Float64,2}:\n",
       " 0.928851   0.826131    0.179541   0.193666   0.970172     0.32579 \n",
       " 0.9636    -0.692218    0.683933   0.575793  -0.233008     0.411581\n",
       " 0.888736   0.855592    0.249379  -0.220178   0.00253942  -0.439935\n",
       " 1.04396    1.20446    -3.74566   -0.725161  -0.630163    -1.50218 \n",
       " 0.374053   0.0310106   0.198619  -0.558099   0.177094    -0.714022\n",
       " 0.165873  -0.82052     5.04      -3.05173   -8.47973     -7.64802 "
      ]
     },
     "execution_count": 13,
     "metadata": {},
     "output_type": "execute_result"
    }
   ],
   "source": [
    "mylu1(A)"
   ]
  },
  {
   "cell_type": "code",
   "execution_count": 14,
   "metadata": {
    "collapsed": false
   },
   "outputs": [
    {
     "data": {
      "text/plain": [
       "(\n",
       "6x6 Array{Float64,2}:\n",
       " 1.0        0.0         0.0        0.0        0.0      0.0\n",
       " 0.9636     1.0         0.0        0.0        0.0      0.0\n",
       " 0.888736   0.855592    1.0        0.0        0.0      0.0\n",
       " 1.04396    1.20446    -3.74566    1.0        0.0      0.0\n",
       " 0.374053   0.0310106   0.198619  -0.558099   1.0      0.0\n",
       " 0.165873  -0.82052     5.04      -3.05173   -8.47973  1.0,\n",
       "\n",
       "6x6 Array{Float64,2}:\n",
       " 0.928851   0.826131  0.179541   0.193666   0.970172     0.32579 \n",
       " 0.0       -0.692218  0.683933   0.575793  -0.233008     0.411581\n",
       " 0.0        0.0       0.249379  -0.220178   0.00253942  -0.439935\n",
       " 0.0        0.0       0.0       -0.725161  -0.630163    -1.50218 \n",
       " 0.0        0.0       0.0        0.0        0.177094    -0.714022\n",
       " 0.0        0.0       0.0        0.0        0.0         -7.64802 )"
      ]
     },
     "execution_count": 14,
     "metadata": {},
     "output_type": "execute_result"
    }
   ],
   "source": [
    "L,U"
   ]
  },
  {
   "cell_type": "markdown",
   "metadata": {},
   "source": [
    "Usporedimo brzine LAPACK-ovog programa `lu()` i našeg naivnog programa `mylu()`na većoj dimenziji. \n",
    "\n",
    "Izvedite program par puta radi točnijeg mjerenja brzine."
   ]
  },
  {
   "cell_type": "code",
   "execution_count": 15,
   "metadata": {
    "collapsed": false
   },
   "outputs": [
    {
     "data": {
      "text/plain": [
       "512x512 Array{Float64,2}:\n",
       " 0.902792    0.0529483   0.114961     …  0.189585   0.331006  0.0942038 \n",
       " 0.459294    0.753521    0.602996        0.231372   0.927549  0.12609   \n",
       " 0.972858    0.404017    0.156277        0.626693   0.205268  0.95323   \n",
       " 0.762735    0.362801    0.892138        0.287035   0.782965  0.79254   \n",
       " 0.490025    0.542825    0.810292        0.603035   0.719931  0.00376585\n",
       " 0.998519    0.167613    0.930185     …  0.702441   0.676787  0.211241  \n",
       " 0.914578    0.506561    0.522011        0.404128   0.974807  0.508973  \n",
       " 0.594145    0.171204    0.484604        0.55249    0.60707   0.104811  \n",
       " 0.729423    0.976428    0.000842566     0.0450883  0.479209  0.418361  \n",
       " 0.213938    0.697895    0.339668        0.490263   0.609231  0.946934  \n",
       " 0.465744    0.23645     0.437169     …  0.446787   0.50403   0.340749  \n",
       " 0.716006    0.837383    0.0900643       0.877639   0.933053  0.440147  \n",
       " 0.792665    0.833628    0.986618        0.55228    0.513088  0.160584  \n",
       " ⋮                                    ⋱             ⋮                   \n",
       " 0.121023    0.746861    0.974736     …  0.130798   0.23272   0.620078  \n",
       " 0.391746    0.870118    0.0215546       0.125532   0.435466  0.256831  \n",
       " 0.107882    0.045756    0.549986        0.221039   0.951754  0.612648  \n",
       " 0.00988484  0.20528     0.0314943       0.151018   0.628748  0.206506  \n",
       " 0.571719    0.0688859   0.339721        0.316668   0.257886  0.766219  \n",
       " 0.204671    0.341048    0.923705     …  0.171482   0.790695  0.454208  \n",
       " 0.259362    0.409825    0.340588        0.0637254  0.325187  0.798989  \n",
       " 0.590349    0.291157    0.701065        0.289354   0.599139  0.549229  \n",
       " 0.527263    0.946642    0.991548        0.761525   0.543763  0.99787   \n",
       " 0.513931    0.205336    0.886937        0.237019   0.811336  0.0227259 \n",
       " 0.294982    0.00931057  0.443707     …  0.976758   0.400032  0.794372  \n",
       " 0.520562    0.998485    0.765446        0.229791   0.282769  0.0845087 "
      ]
     },
     "execution_count": 15,
     "metadata": {},
     "output_type": "execute_result"
    }
   ],
   "source": [
    "n=512\n",
    "A=rand(n,n)"
   ]
  },
  {
   "cell_type": "code",
   "execution_count": 17,
   "metadata": {
    "collapsed": false
   },
   "outputs": [
    {
     "name": "stdout",
     "output_type": "stream",
     "text": [
      "  0.159373 seconds (55 allocations: 6.010 MB)\n"
     ]
    }
   ],
   "source": [
    "@time lu(A);"
   ]
  },
  {
   "cell_type": "code",
   "execution_count": 19,
   "metadata": {
    "collapsed": false
   },
   "outputs": [
    {
     "name": "stdout",
     "output_type": "stream",
     "text": [
      "  0.387017 seconds (17.26 k allocations: 1.004 GB, 7.93% gc time)\n"
     ]
    }
   ],
   "source": [
    "@time mylu1(A);"
   ]
  },
  {
   "cell_type": "markdown",
   "metadata": {},
   "source": [
    "### Blok varijanta\n",
    "\n",
    "`mylu()` je nekoliko desetaka puta sporiji. `mylu1()` je malo sporiji.\n",
    "\n",
    "Probajmo s blokovima:\n",
    "\n",
    "Preradimo `mylu1()` za rad s blokovima (nemamo ugrađeno pivotiranje!)"
   ]
  },
  {
   "cell_type": "code",
   "execution_count": 21,
   "metadata": {
    "collapsed": false
   },
   "outputs": [
    {
     "data": {
      "text/plain": [
       "mylu2 (generic function with 1 method)"
      ]
     },
     "execution_count": 21,
     "metadata": {},
     "output_type": "execute_result"
    }
   ],
   "source": [
    "function mylu2{T}(A1::Array{T}) # Strang, page 100\n",
    "    A=deepcopy(A1)\n",
    "    n,m=size(A)\n",
    "    for k=1:n-1\n",
    "        for rho=k+1:n\n",
    "            A[rho,k]=A[rho,k]/A[k,k]\n",
    "            for l=k+1:n\n",
    "                A[rho,l]=A[rho,l]-A[rho,k]*A[k,l]\n",
    "            end\n",
    "        end\n",
    "    end\n",
    "    A\n",
    "end"
   ]
  },
  {
   "cell_type": "markdown",
   "metadata": {},
   "source": [
    "Napravimo prvo mali test:"
   ]
  },
  {
   "cell_type": "code",
   "execution_count": 22,
   "metadata": {
    "collapsed": false
   },
   "outputs": [],
   "source": [
    "# Probajte k,l=32,16 i k,l=64,8\n",
    "k,l=4,4\n",
    "Ab=[rand(k,k) for i=1:l, j=1:l];"
   ]
  },
  {
   "cell_type": "code",
   "execution_count": 23,
   "metadata": {
    "collapsed": false
   },
   "outputs": [
    {
     "data": {
      "text/plain": [
       "4x4 Array{Any,2}:\n",
       " 4x4 Array{Float64,2}:\n",
       " 0.417082  0.165465   0.390313  0.13527 \n",
       " 0.82179   0.902387   0.809553  0.345416\n",
       " 0.429799  0.872422   0.181622  0.165782\n",
       " 0.742942  0.0559246  0.449096  0.339387  …  4x4 Array{Float64,2}:\n",
       " 0.615058  0.0748728  0.499947  0.332858\n",
       " 0.799362  0.0237195  0.314149  0.119406\n",
       " 0.578529  0.597041   0.362772  0.141244\n",
       " 0.627861  0.97874    0.966568  0.751086                            \n",
       " 4x4 Array{Float64,2}:\n",
       " -9.23696   3.60158   -1.7303    2.74318\n",
       " -9.03583   3.08368   -1.6778    3.39122\n",
       " -7.31174   3.22409   -2.05427   2.85337\n",
       " -2.15468  -0.184459   0.652457  2.0528      4x4 Array{Float64,2}:\n",
       " 2.72953   -0.960275   1.58832    1.24685 \n",
       " 2.54755   -1.70329    1.68185    0.489873\n",
       " 1.71969   -0.919584   1.58836    1.16362 \n",
       " 0.207942  -1.96691   -0.532115  -0.247906                    \n",
       " 4x4 Array{Float64,2}:\n",
       " -12.5264  5.06691  -2.05647  2.8186 \n",
       " -17.1998  6.67422  -3.8237   4.64157\n",
       " -10.6573  4.86332  -1.99745  1.85448\n",
       " -13.5718  6.5743   -3.81032  3.39721                 4x4 Array{Float64,2}:\n",
       " -0.555523  3.04493    1.6667    3.09477 \n",
       " -0.679941  3.05219    0.929834  2.3771  \n",
       " -0.766114  2.73733    1.22165   2.58182 \n",
       " -0.423572  0.423211  -0.158421  0.145336                        \n",
       " 4x4 Array{Float64,2}:\n",
       " -11.0053   4.91784  -2.20228  3.08723 \n",
       "  -7.39089  5.28499  -3.04488  0.338839\n",
       "  -9.63262  2.75525  -1.00372  4.00167 \n",
       "  -9.11744  4.23882  -1.9544   2.60867          4x4 Array{Float64,2}:\n",
       " -0.272736    -0.620067    -1.1945    -0.788956\n",
       " -0.857231     0.00449701   0.284874   1.56036 \n",
       "  0.00664004  -0.894962    -0.65881   -2.29371 \n",
       " -0.346227     1.27053      2.08852    3.11769 "
      ]
     },
     "execution_count": 23,
     "metadata": {},
     "output_type": "execute_result"
    }
   ],
   "source": [
    "A0=mylu2(Ab)"
   ]
  },
  {
   "cell_type": "code",
   "execution_count": 24,
   "metadata": {
    "collapsed": false
   },
   "outputs": [],
   "source": [
    "# Provjera\n",
    "U=triu(A0)\n",
    "L=tril(A0)\n",
    "for i=1:maximum(size(L))\n",
    "    L[i,i]=eye(L[1,1])\n",
    "end"
   ]
  },
  {
   "cell_type": "code",
   "execution_count": 25,
   "metadata": {
    "collapsed": false
   },
   "outputs": [
    {
     "data": {
      "text/plain": [
       "4x4 Array{Any,2}:\n",
       " 4x4 Array{Float64,2}:\n",
       " 0.0  0.0  0.0  0.0\n",
       " 0.0  0.0  0.0  0.0\n",
       " 0.0  0.0  0.0  0.0\n",
       " 0.0  0.0  0.0  0.0                                                                                                                                                  …  4x4 Array{Float64,2}:\n",
       " 0.0  0.0  0.0  0.0\n",
       " 0.0  0.0  0.0  0.0\n",
       " 0.0  0.0  0.0  0.0\n",
       " 0.0  0.0  0.0  0.0                                                                                                                                        \n",
       " 4x4 Array{Float64,2}:\n",
       "  2.22045e-16   1.11022e-16   2.22045e-16   0.0        \n",
       " -6.66134e-16  -5.55112e-17  -6.66134e-16  -4.44089e-16\n",
       "  0.0          -2.77556e-16  -4.44089e-16  -2.22045e-16\n",
       "  1.11022e-16   1.11022e-16   2.22045e-16  -5.55112e-17     4x4 Array{Float64,2}:\n",
       " 2.22045e-16  0.0  0.0  0.0\n",
       " 0.0          0.0  0.0  0.0\n",
       " 0.0          0.0  0.0  0.0\n",
       " 0.0          0.0  0.0  0.0                                                                                                        \n",
       " 4x4 Array{Float64,2}:\n",
       "  0.0           2.22045e-16  -2.22045e-16  -4.44089e-16\n",
       " -1.11022e-15  -4.996e-16    -4.44089e-16  -6.66134e-16\n",
       "  2.22045e-16   2.22045e-16   3.33067e-16   2.22045e-16\n",
       "  4.44089e-16  -3.33067e-16  -7.77156e-16  -3.33067e-16     4x4 Array{Float64,2}:\n",
       " 0.0   0.0          0.0          -2.22045e-16\n",
       " 0.0  -2.22045e-16  0.0           0.0        \n",
       " 0.0   2.22045e-16  2.22045e-16  -2.22045e-16\n",
       " 0.0   0.0          0.0           0.0                                        \n",
       " 4x4 Array{Float64,2}:\n",
       " -2.22045e-16   2.22045e-16   0.0           0.0        \n",
       "  0.0          -3.33067e-16  -6.66134e-16   0.0        \n",
       "  0.0           2.22045e-16   2.22045e-16  -2.22045e-16\n",
       " -2.22045e-16   4.44089e-16  -4.44089e-16  -2.22045e-16     4x4 Array{Float64,2}:\n",
       " 1.11022e-16  -2.22045e-16  0.0           2.22045e-16\n",
       " 0.0          -2.22045e-16  2.22045e-16   0.0        \n",
       " 0.0          -2.22045e-16  0.0           0.0        \n",
       " 0.0          -2.22045e-16  0.0          -2.22045e-16"
      ]
     },
     "execution_count": 25,
     "metadata": {},
     "output_type": "execute_result"
    }
   ],
   "source": [
    "Res=L*U-Ab"
   ]
  },
  {
   "cell_type": "code",
   "execution_count": 26,
   "metadata": {
    "collapsed": false
   },
   "outputs": [
    {
     "data": {
      "text/plain": [
       "unblock (generic function with 1 method)"
      ]
     },
     "execution_count": 26,
     "metadata": {},
     "output_type": "execute_result"
    }
   ],
   "source": [
    "# pretvaranje blok matrice u obicnu\n",
    "unblock(A) = mapreduce(identity, hcat, [mapreduce(identity, vcat, A[:,i]) for i = 1:size(A,2)])"
   ]
  },
  {
   "cell_type": "code",
   "execution_count": 27,
   "metadata": {
    "collapsed": false
   },
   "outputs": [
    {
     "data": {
      "text/plain": [
       "6.001655326510322e-15"
      ]
     },
     "execution_count": 27,
     "metadata": {},
     "output_type": "execute_result"
    }
   ],
   "source": [
    "norm(unblock(Res))"
   ]
  },
  {
   "cell_type": "markdown",
   "metadata": {},
   "source": [
    "Sada probajmo veću dimenziju:"
   ]
  },
  {
   "cell_type": "code",
   "execution_count": 28,
   "metadata": {
    "collapsed": true
   },
   "outputs": [],
   "source": [
    "# Probajmo vece dimenzije (n=k*l)\n",
    "k,l=32,16\n",
    "Ab=[rand(k,k) for i=1:l, j=1:l];"
   ]
  },
  {
   "cell_type": "code",
   "execution_count": 31,
   "metadata": {
    "collapsed": false
   },
   "outputs": [
    {
     "name": "stdout",
     "output_type": "stream",
     "text": [
      "  0.166623 seconds (8.79 k allocations: 26.526 MB, 0.94% gc time)\n"
     ]
    }
   ],
   "source": [
    "@time mylu2(Ab);"
   ]
  },
  {
   "cell_type": "markdown",
   "metadata": {},
   "source": [
    "Vidimo da je `mylu2()` gotovo jednako brz kao `lu()`, uz napomenu da `mylu2()` nema ugrađeno pivotiranje. "
   ]
  },
  {
   "cell_type": "markdown",
   "metadata": {},
   "source": [
    "## Pivotiranje\n",
    "\n",
    "Stanardne implementacije uvijek računaju Gaussovu eliminaciju s _parcijalnim pivotiranjem_:\n",
    "\n",
    "> u svakom koraku se retci pivotiranju tako da pivotni element ima najveću apsolutnu vrijednst u danom stupcu. Na taj \n",
    "> način je \n",
    "> \n",
    "> $$|L_{ij}| \\leq 1,$$\n",
    "> što u praksi dovoljno spriječava rast elemenata.\n"
   ]
  },
  {
   "cell_type": "code",
   "execution_count": 32,
   "metadata": {
    "collapsed": false
   },
   "outputs": [
    {
     "data": {
      "text/plain": [
       "(\n",
       "5x5 Array{Float64,2}:\n",
       " 1.0       0.0       0.0        0.0        0.0\n",
       " 0.14147   1.0       0.0        0.0        0.0\n",
       " 0.178195  0.421298  1.0        0.0        0.0\n",
       " 0.462087  0.390092  0.148616   1.0        0.0\n",
       " 0.57052   0.890231  0.50088   -0.0497234  1.0,\n",
       "\n",
       "5x5 Array{Float64,2}:\n",
       " 0.814091  0.380744  0.491771   0.595496   0.412362\n",
       " 0.0       0.48304   0.302009   0.72673    0.455245\n",
       " 0.0       0.0       0.708493  -0.256694   0.196174\n",
       " 0.0       0.0       0.0        0.311776   0.183652\n",
       " 0.0       0.0       0.0        0.0       -0.561589,\n",
       "\n",
       "[2,1,5,3,4])"
      ]
     },
     "execution_count": 32,
     "metadata": {},
     "output_type": "execute_result"
    }
   ],
   "source": [
    "A=rand(5,5)\n",
    "L,U,P=lu(A)"
   ]
  },
  {
   "cell_type": "code",
   "execution_count": 33,
   "metadata": {
    "collapsed": false
   },
   "outputs": [
    {
     "data": {
      "text/plain": [
       "5x5 Array{Float64,2}:\n",
       " 0.0   0.0          0.0  0.0          0.0\n",
       " 0.0   0.0          0.0  0.0          0.0\n",
       " 0.0   0.0          0.0  0.0          0.0\n",
       " 0.0   0.0          0.0  1.11022e-16  0.0\n",
       " 0.0  -1.11022e-16  0.0  0.0          0.0"
      ]
     },
     "execution_count": 33,
     "metadata": {},
     "output_type": "execute_result"
    }
   ],
   "source": [
    "L*U-A[P,:]"
   ]
  },
  {
   "cell_type": "markdown",
   "metadata": {},
   "source": [
    "### Potpuno pivotiranje\n",
    "\n",
    "Sljedeći program računa Gaussovu eliminaciju s _potpunim pivotiranjem_ - u svakom koraku retci i stupci zamijene na način da se na pivotnu poziciju dovede element koji ima najveću apsolutnu vrijednost u trenutnoj podmatrici."
   ]
  },
  {
   "cell_type": "code",
   "execution_count": 34,
   "metadata": {
    "collapsed": false
   },
   "outputs": [
    {
     "data": {
      "text/plain": [
       "gecp (generic function with 1 method)"
      ]
     },
     "execution_count": 34,
     "metadata": {},
     "output_type": "execute_result"
    }
   ],
   "source": [
    "function gecp{T}(A1::Array{T})\n",
    "    # Gaussova eliminacija s potpunim pivotiranjem\n",
    "    # Izlaz: Pr*L*U*Pc'=A ili Pr'*A*Pc=L*U\n",
    "    A=deepcopy(A1)\n",
    "    n,m=size(A)\n",
    "    Pr=eye(n,n)\n",
    "    Pc=eye(n,n)\n",
    "    D=zeros(n)\n",
    "    for i=1:n-1\n",
    "        am1,im1=findmax(abs(A[i:n,i:n]),1)\n",
    "        am,JJ=findmax(am1)\n",
    "        II=mod(im1[JJ],(n-i+1))\n",
    "        if II==0\n",
    "            II=n-i+1\n",
    "        end\n",
    "        imax=II+i-1\n",
    "        jmax=JJ+i-1\n",
    "        #  zamijena redaka\n",
    "        if (imax != i)\n",
    "            temp = Pr[:,i]\n",
    "            Pr[:,i] = Pr[:,imax]\n",
    "            Pr[:,imax] = temp\n",
    "            temp = A[i,:]\n",
    "            A[i,:] = A[imax,:]\n",
    "            A[imax,:] = temp\n",
    "        end\n",
    "        # zamijena stupaca\n",
    "        if (jmax != i)\n",
    "            temp = Pc[:,i]\n",
    "            Pc[:,i] = Pc[:,jmax]\n",
    "            Pc[:,jmax] = temp\n",
    "            temp = A[:,i]\n",
    "            A[:,i] = A[:,jmax]\n",
    "            A[:,jmax] = temp\n",
    "        end\n",
    "        # eliminacija\n",
    "        D[i]=A[i,i]\n",
    "        A[i+1:n,i] = A[i+1:n,i]/D[i]\n",
    "        A[i+1:n,i+1:n] = A[i+1:n,i+1:n] - A[i+1:n,i]*A[i,i+1:n]\n",
    "        A[i,i+1:n]=A[i,i+1:n]/D[i]\n",
    "    end\n",
    "    D[n]=A[n,n]\n",
    "    L=eye(n,n)+tril(A,-1)\n",
    "    U=eye(n,n)+triu(A,1)\n",
    "    U=diagm(D)*U\n",
    "    L,U,Pr,Pc\n",
    "end"
   ]
  },
  {
   "cell_type": "code",
   "execution_count": 35,
   "metadata": {
    "collapsed": false
   },
   "outputs": [
    {
     "data": {
      "text/plain": [
       "5-element Array{Float64,1}:\n",
       " 0.534202\n",
       " 0.682644\n",
       " 0.71686 \n",
       " 0.473825\n",
       " 0.919802"
      ]
     },
     "execution_count": 35,
     "metadata": {},
     "output_type": "execute_result"
    }
   ],
   "source": [
    "n=5\n",
    "A=rand(n,n)\n",
    "b=rand(n)"
   ]
  },
  {
   "cell_type": "code",
   "execution_count": 36,
   "metadata": {
    "collapsed": false
   },
   "outputs": [
    {
     "data": {
      "text/plain": [
       "(\n",
       "5x5 Array{Float64,2}:\n",
       " 1.0         0.0        0.0        0.0       0.0\n",
       " 0.0911512   1.0        0.0        0.0       0.0\n",
       " 0.682288    0.768991   1.0        0.0       0.0\n",
       " 0.78931    -0.257312  -0.11616    1.0       0.0\n",
       " 0.767545    0.312559   0.318382  -0.928332  1.0,\n",
       "\n",
       "5x5 Array{Float64,2}:\n",
       " 0.975517  0.502101   0.657609   0.689226   0.534002 \n",
       " 0.0       0.816636   0.730769   0.309203   0.766391 \n",
       " 0.0       0.0       -0.877071   0.114622  -0.793538 \n",
       " 0.0       0.0        0.0       -0.324985  -0.0852189\n",
       " 0.0       0.0        0.0        0.0        0.0105081,\n",
       "\n",
       "5x5 Array{Float64,2}:\n",
       " 1.0  0.0  0.0  0.0  0.0\n",
       " 0.0  0.0  0.0  0.0  1.0\n",
       " 0.0  0.0  0.0  1.0  0.0\n",
       " 0.0  1.0  0.0  0.0  0.0\n",
       " 0.0  0.0  1.0  0.0  0.0,\n",
       "\n",
       "5x5 Array{Float64,2}:\n",
       " 0.0  0.0  0.0  1.0  0.0\n",
       " 0.0  1.0  0.0  0.0  0.0\n",
       " 1.0  0.0  0.0  0.0  0.0\n",
       " 0.0  0.0  1.0  0.0  0.0\n",
       " 0.0  0.0  0.0  0.0  1.0)"
      ]
     },
     "execution_count": 36,
     "metadata": {},
     "output_type": "execute_result"
    }
   ],
   "source": [
    "L,U,Pr,Pc=gecp(A)"
   ]
  },
  {
   "cell_type": "code",
   "execution_count": 37,
   "metadata": {
    "collapsed": false
   },
   "outputs": [
    {
     "data": {
      "text/plain": [
       "5x5 Array{Float64,2}:\n",
       " 0.0  0.0  0.0  0.0           0.0        \n",
       " 0.0  0.0  0.0  0.0          -5.55112e-17\n",
       " 0.0  0.0  0.0  0.0           0.0        \n",
       " 0.0  0.0  0.0  0.0           0.0        \n",
       " 0.0  0.0  0.0  1.11022e-16   0.0        "
      ]
     },
     "execution_count": 37,
     "metadata": {},
     "output_type": "execute_result"
    }
   ],
   "source": [
    "Pr*L*U*Pc'-A"
   ]
  },
  {
   "cell_type": "code",
   "execution_count": 38,
   "metadata": {
    "collapsed": false
   },
   "outputs": [
    {
     "data": {
      "text/plain": [
       "5-element Array{Float64,1}:\n",
       " 0.534202\n",
       " 0.425132\n",
       " 0.2284  \n",
       " 0.431132\n",
       " 0.467256"
      ]
     },
     "execution_count": 38,
     "metadata": {},
     "output_type": "execute_result"
    }
   ],
   "source": [
    "y=myL(L,Pr'*b)"
   ]
  },
  {
   "cell_type": "code",
   "execution_count": 39,
   "metadata": {
    "collapsed": false
   },
   "outputs": [
    {
     "data": {
      "text/plain": [
       "5-element Array{Float64,1}:\n",
       "  13.0706 \n",
       "   1.46023\n",
       " -42.189  \n",
       " -12.9867 \n",
       "  44.4664 "
      ]
     },
     "execution_count": 39,
     "metadata": {},
     "output_type": "execute_result"
    }
   ],
   "source": [
    "z=myU(U,y)"
   ]
  },
  {
   "cell_type": "code",
   "execution_count": 40,
   "metadata": {
    "collapsed": false
   },
   "outputs": [
    {
     "data": {
      "text/plain": [
       "5-element Array{Float64,1}:\n",
       " -12.9867 \n",
       "   1.46023\n",
       "  13.0706 \n",
       " -42.189  \n",
       "  44.4664 "
      ]
     },
     "execution_count": 40,
     "metadata": {},
     "output_type": "execute_result"
    }
   ],
   "source": [
    "x=Pc*z"
   ]
  },
  {
   "cell_type": "code",
   "execution_count": 41,
   "metadata": {
    "collapsed": false
   },
   "outputs": [
    {
     "data": {
      "text/plain": [
       "5-element Array{Float64,1}:\n",
       " -4.44089e-16\n",
       "  8.88178e-16\n",
       "  0.0        \n",
       "  7.54952e-15\n",
       " -2.22045e-15"
      ]
     },
     "execution_count": 41,
     "metadata": {},
     "output_type": "execute_result"
    }
   ],
   "source": [
    "A*x-b"
   ]
  },
  {
   "cell_type": "markdown",
   "metadata": {},
   "source": [
    "## Točnost\n",
    "\n",
    "Neka je zadan sustav $Ax=b$, pri čemu je matrica $A$ regularna.\n",
    "\n",
    "Da bi primijenili koncepte iz bilježnice [NA04_Pogreska_unatrag_i stabilni_algoritmi](NA04_Pogreska_unatrag_i_stabilni_algoritmi.ipynb), potrebno je:\n",
    "\n",
    "1. napraviti teoriju smetnje za dani problem\n",
    "2. analizirati pogreške algoritma (Gaussove eliminacije)\n",
    "\n",
    "### Teorija smetnje\n",
    "\n",
    "Neka je \n",
    "\n",
    "$$\n",
    "(A+\\delta A)\\hat x=(b+\\delta b)\n",
    "$$\n",
    "za neki $\\hat x=x+\\delta x$.\n",
    "\n",
    "Želimo ocijeniti \n",
    "$$\n",
    "\\frac{\\| \\hat x - x \\|}{\\| x\\|} \\equiv \\frac{\\| \\delta x\\|}{\\| x\\|}.\n",
    "$$\n",
    "\n",
    "Uvedimo oznake (npr. prema [G. Golub and C. F. Van Loan, Matrix Computations, str. 87, poglavlje 2.6.2][GVL13])\n",
    "\n",
    "$$\n",
    "\\delta A=\\varepsilon F, \\quad \\delta b=\\varepsilon f, \\qquad \\hat x=x(\\varepsilon),\n",
    "$$\n",
    "čime smo dobili jednodimenzionalni problem \n",
    "\n",
    "$$\n",
    "(A+\\varepsilon F)x(\\varepsilon)=b+\\varepsilon f.\n",
    "$$\n",
    "\n",
    "za neke (nepoznate) matricu $F$ i vektor $f$. \n",
    "\n",
    "Deriviranje po $\\varepsilon$ daje\n",
    "\n",
    "$$\n",
    "Fx(\\varepsilon)+(A+\\varepsilon F)\\dot x(\\varepsilon)=f.\n",
    "$$\n",
    "\n",
    "Uvrštavanje $\\varepsilon=0$ daje\n",
    "\n",
    "$$\n",
    "F x+A\\dot x(0)=f,\n",
    "$$\n",
    "odnosno\n",
    "$$\n",
    "\\dot x(0)=A^{-1}(f-Fx).\n",
    "$$\n",
    "\n",
    "Taylorov razvoj oko $x(0)$ glasi\n",
    "\n",
    "$$\n",
    "x(\\varepsilon)=x(0)+\\varepsilon \\dot x(0) +O(\\varepsilon^2),\n",
    "$$\n",
    "odnosno, uz zanemarivanje člana $O(\\varepsilon^2)$,\n",
    "\n",
    "$$\n",
    "\\hat x-x=\\varepsilon A^{-1}(f-Fx)=A^{-1} (\\varepsilon f + \\varepsilon F x) = A^{-1} (\\delta b + \\delta A x).\n",
    "$$\n",
    "\n",
    "Svojstva norme povlače\n",
    "\n",
    "$$\n",
    "\\| \\hat x-x\\|\\leq \\| A^{-1} \\| (\\| \\delta b \\|  + \\| \\delta A \\| \\cdot \\|  x\\| ).\n",
    "$$\n",
    "\n",
    "Konačno, zbog $\\| b\\| \\leq \\| A\\| \\| x\\|$ imamo\n",
    "\n",
    "$$\n",
    "\\frac{\\| \\hat x-x\\|}{\\| x\\|}\\leq \\| A\\|  \\cdot \\| A^{-1} \\| \\bigg(\\frac{\\| \\delta b \\|}{\\|b\\|}  + \\frac{\\| \\delta A \\|}{ \\|  A\\|} \\bigg). \\tag{1}\n",
    "$$\n",
    "\n",
    "Broj \n",
    "$$\n",
    "\\kappa(A)\\equiv \\| A\\|  \\cdot \\| A^{-1} \\|\n",
    "$$ \n",
    "\n",
    "je _uvjetovanost_ (_kondicija_)  matrice $A$ i kazuje nam \n",
    "\n",
    "> koliko se relativno uvećaju relativne promjene u polaznim podacima (matrici $A$ i vektoru $b$).\n",
    "\n",
    "Pogledajmo primjer iz [R. Scitovski, Numerička matematika, str. 42][RS04]:\n",
    "\n",
    "\n",
    "\n",
    "\n",
    "[GVL13]: https://books.google.hr/books?id=X5YfsuCWpxMC&printsec=frontcover&hl=hr#v=onepage&q&f=false \"G. Golub and C. F Van Loan, 'Matrix Computations', 4th Edition, John Hopkins, Baltimore, 2013\" \n",
    "\n",
    "[RS04]: http://www.mathos.unios.hr/pim/Materijali/Num.pdf \"R. Scitovski, 'Numerička matematika', Sveučilište u Osijeku, osijek, 2004.\""
   ]
  },
  {
   "cell_type": "code",
   "execution_count": 42,
   "metadata": {
    "collapsed": false
   },
   "outputs": [
    {
     "data": {
      "text/plain": [
       "2x2 Array{Float64,2}:\n",
       " 0.234  0.458\n",
       " 0.383  0.75 "
      ]
     },
     "execution_count": 42,
     "metadata": {},
     "output_type": "execute_result"
    }
   ],
   "source": [
    "A= [0.234 0.458; 0.383 0.750]"
   ]
  },
  {
   "cell_type": "code",
   "execution_count": 43,
   "metadata": {
    "collapsed": false
   },
   "outputs": [
    {
     "data": {
      "text/plain": [
       "2-element Array{Float64,1}:\n",
       " 0.224\n",
       " 0.367"
      ]
     },
     "execution_count": 43,
     "metadata": {},
     "output_type": "execute_result"
    }
   ],
   "source": [
    "b=[0.224;0.367]"
   ]
  },
  {
   "cell_type": "code",
   "execution_count": 44,
   "metadata": {
    "collapsed": false
   },
   "outputs": [
    {
     "data": {
      "text/plain": [
       "2-element Array{Float64,1}:\n",
       " -1.0\n",
       "  1.0"
      ]
     },
     "execution_count": 44,
     "metadata": {},
     "output_type": "execute_result"
    }
   ],
   "source": [
    "x=A\\b"
   ]
  },
  {
   "cell_type": "code",
   "execution_count": 45,
   "metadata": {
    "collapsed": false
   },
   "outputs": [
    {
     "data": {
      "text/plain": [
       "2-element Array{Float64,1}:\n",
       " -0.241744\n",
       "  0.612791"
      ]
     },
     "execution_count": 45,
     "metadata": {},
     "output_type": "execute_result"
    }
   ],
   "source": [
    "δb=[0.00009; 0.000005]\n",
    "x1=A\\(b+δb)"
   ]
  },
  {
   "cell_type": "code",
   "execution_count": 46,
   "metadata": {
    "collapsed": false
   },
   "outputs": [
    {
     "data": {
      "text/plain": [
       "(11322.197586092605,0.0002096449170953002,0.6020311134825742)"
      ]
     },
     "execution_count": 46,
     "metadata": {},
     "output_type": "execute_result"
    }
   ],
   "source": [
    "cond(A), norm(δb)/norm(b), norm(x1-x)/norm(x)"
   ]
  },
  {
   "cell_type": "code",
   "execution_count": 47,
   "metadata": {
    "collapsed": false
   },
   "outputs": [
    {
     "data": {
      "text/plain": [
       "2-element Array{Float64,1}:\n",
       " 0.129518\n",
       " 0.423193"
      ]
     },
     "execution_count": 47,
     "metadata": {},
     "output_type": "execute_result"
    }
   ],
   "source": [
    "δA=[-0.001 0;0 0]\n",
    "x2=(A+δA)\\b"
   ]
  },
  {
   "cell_type": "code",
   "execution_count": 48,
   "metadata": {
    "collapsed": false
   },
   "outputs": [
    {
     "data": {
      "text/plain": [
       "(11322.197586092605,0.0010134105230118603,0.896804787832142)"
      ]
     },
     "execution_count": 48,
     "metadata": {},
     "output_type": "execute_result"
    }
   ],
   "source": [
    "cond(A), norm(δA)/norm(A), norm(x2-x)/norm(x)"
   ]
  },
  {
   "cell_type": "markdown",
   "metadata": {},
   "source": [
    "### Pogreška Gaussove eliminacije\n",
    "\n",
    "Prema [G. Golub and C. F. Van Loan, Matrix Computations, str. 122, poglavlje 3.3][GVL13], za izračunate faktore\n",
    "$\\hat L$ i $\\hat U$ vrijedi\n",
    "\n",
    "$$\n",
    "\\hat L\\cdot \\hat U = A+\\delta A\n",
    "$$\n",
    "\n",
    "gdje je (nejednakost se čita po elementima matrica, $\\varepsilon$ je sada točnost stroja)\n",
    "\n",
    "$$\n",
    "| \\delta A|\\leq 3(n-1) \\varepsilon (|A|+|\\hat L| \\cdot |\\hat U|) +O(\\varepsilon^2).\n",
    "$$\n",
    "\n",
    "Zanemarivanje člana $O(\\varepsilon^2)$ i prelazak na normu daju\n",
    "\n",
    "$$\n",
    "\\|\\delta A \\| \\approx \\leq  O(n)\\varepsilon (\\| A\\| + \\| \\hat L\\| \\cdot \\| \\hat U\\|),\n",
    "$$\n",
    "\n",
    "pa je \n",
    "\n",
    "$$\n",
    " \\frac{\\|\\delta A \\|}{\\|A\\|} \\leq O(n)\\varepsilon \\bigg(1+\\frac{\\| \\hat L\\| \\cdot \\| \\hat U\\|}{\\|A\\|}\\bigg).\n",
    "$$\n",
    "\n",
    "Ukoliko se Gaussova eliminacija radi s pivotiranjem, tada će najvjerojatnije zadnji kvocijent također biti malen \n",
    "($\\approx 1$). Također, pogreška kod rješavanja trokutastih sustava nije veća od navedene pa, uvrštavanjme u (1), slijedi \n",
    "da za relativnu pogrešku izračunatog rješenja vrijedi\n",
    "\n",
    "$$\n",
    "\\frac{\\| \\hat x-x\\|}{\\| x\\|}\\leq \\kappa(A) O(n\\varepsilon).\n",
    "$$\n",
    "\n",
    "> __Ukoliko je kondicija matrice velika, rješenje može biti netočno.__\n",
    "\n",
    "[GVL13]: https://books.google.hr/books?id=X5YfsuCWpxMC&printsec=frontcover&hl=hr#v=onepage&q&f=false \"G. Golub and C. F Van Loan, 'Matrix Computations', 4th Edition, John Hopkins, Baltimore, 2013\" "
   ]
  },
  {
   "cell_type": "code",
   "execution_count": 49,
   "metadata": {
    "collapsed": false
   },
   "outputs": [
    {
     "data": {
      "text/plain": [
       "10-element Array{Float64,1}:\n",
       " 0.607311\n",
       " 0.160587\n",
       " 0.714493\n",
       " 0.693856\n",
       " 0.845259\n",
       " 0.725358\n",
       " 0.612459\n",
       " 0.969179\n",
       " 0.120647\n",
       " 0.207438"
      ]
     },
     "execution_count": 49,
     "metadata": {},
     "output_type": "execute_result"
    }
   ],
   "source": [
    "n=10\n",
    "v=rand(n)"
   ]
  },
  {
   "cell_type": "code",
   "execution_count": 50,
   "metadata": {
    "collapsed": false
   },
   "outputs": [
    {
     "data": {
      "text/plain": [
       "10x10 Array{Float64,2}:\n",
       " 1.0        1.0          1.0        …  1.0       1.0          1.0        \n",
       " 0.607311   0.160587     0.714493      0.969179  0.120647     0.207438   \n",
       " 0.368827   0.0257881    0.5105        0.939307  0.0145556    0.0430305  \n",
       " 0.223993   0.00414123   0.364748      0.910356  0.00175608   0.00892617 \n",
       " 0.136033   0.000665027  0.26061       0.882298  0.000211865  0.00185163 \n",
       " 0.0826144  0.000106795  0.186204   …  0.855104  2.55608e-5   0.000384098\n",
       " 0.0501727  1.71498e-5   0.133041      0.828749  3.08382e-6   7.96764e-5 \n",
       " 0.0304704  2.75403e-6   0.0950571     0.803206  3.72053e-7   1.65279e-5 \n",
       " 0.018505   4.42261e-7   0.0679176     0.77845   4.48869e-8   3.42852e-6 \n",
       " 0.0112383  7.10213e-8   0.0485266     0.754457  5.41545e-9   7.11205e-7 "
      ]
     },
     "execution_count": 50,
     "metadata": {},
     "output_type": "execute_result"
    }
   ],
   "source": [
    "A=Array(Float64,n,n)\n",
    "for i=1:n\n",
    "    A[:,i]=v.^(i-1)\n",
    "end\n",
    "A=A'"
   ]
  },
  {
   "cell_type": "code",
   "execution_count": 51,
   "metadata": {
    "collapsed": false
   },
   "outputs": [
    {
     "data": {
      "text/plain": [
       "10-element Array{Float64,1}:\n",
       " 0.740709 \n",
       " 0.635757 \n",
       " 0.434511 \n",
       " 0.0410912\n",
       " 0.933363 \n",
       " 0.0419936\n",
       " 0.388915 \n",
       " 0.688959 \n",
       " 0.913519 \n",
       " 0.990192 "
      ]
     },
     "execution_count": 51,
     "metadata": {},
     "output_type": "execute_result"
    }
   ],
   "source": [
    "b=rand(n)"
   ]
  },
  {
   "cell_type": "code",
   "execution_count": 52,
   "metadata": {
    "collapsed": false
   },
   "outputs": [
    {
     "data": {
      "text/plain": [
       "10-element Array{Float64,1}:\n",
       "     -1.20831e8\n",
       "     -2.55682e5\n",
       "      3.37009e8\n",
       "     -1.64906e8\n",
       "      7.92754e5\n",
       "     -1.92645e8\n",
       "      1.40568e8\n",
       " -25894.8      \n",
       "  90239.4      \n",
       "      2.03737e5"
      ]
     },
     "execution_count": 52,
     "metadata": {},
     "output_type": "execute_result"
    }
   ],
   "source": [
    "x=A\\b"
   ]
  },
  {
   "cell_type": "code",
   "execution_count": 53,
   "metadata": {
    "collapsed": false
   },
   "outputs": [
    {
     "data": {
      "text/plain": [
       "8.727631413981882e9"
      ]
     },
     "execution_count": 53,
     "metadata": {},
     "output_type": "execute_result"
    }
   ],
   "source": [
    "cond(A)"
   ]
  },
  {
   "cell_type": "code",
   "execution_count": 54,
   "metadata": {
    "collapsed": false
   },
   "outputs": [
    {
     "data": {
      "text/plain": [
       "10-element Array{BigFloat,1}:\n",
       " -1.208308132110681397309551749412551159116691244224550790812878072715993467066749e+08\n",
       " -2.556821001821039150785073490755804853226168555667054556807705907161020950659327e+05\n",
       "  3.370086013682936823083447120187754186046432909490619657254388641202007632773779e+08\n",
       " -1.649056086418036393499804525582264910157120177603335005995248151959166030587366e+08\n",
       "  7.927539300129839799402206076771155036276701460547188720956855623093728521193877e+05\n",
       " -1.926448780996507859829761843933474208204814581568959305086546310072215387788094e+08\n",
       "  1.405675454147319388875055076067426408764858365860927599644299934494545687162966e+08\n",
       " -2.58947706548268862112532441256641636640889256576286000179793436565427568685929e+04 \n",
       "  9.023937253638861061689066343261740030865130642914046089801138194832966562444675e+04\n",
       "  2.03737478493676684636532562048449316505659606338496526990948895197098884737959e+05 "
      ]
     },
     "execution_count": 54,
     "metadata": {},
     "output_type": "execute_result"
    }
   ],
   "source": [
    "Ab=Array(BigFloat,n,n)\n",
    "bb=Array(BigFloat,n)\n",
    "for i=1:n\n",
    "    for j=1:n\n",
    "        Ab[i,j]=convert(BigFloat,A[i,j])\n",
    "    end\n",
    "    bb[i]=convert(BigFloat,b[i])\n",
    "end\n",
    "xb=Ab\\bb"
   ]
  },
  {
   "cell_type": "code",
   "execution_count": 55,
   "metadata": {
    "collapsed": false
   },
   "outputs": [
    {
     "data": {
      "text/plain": [
       "5.652350705763762643556379575170409479165859073632640749492837177735901035825800e-09"
      ]
     },
     "execution_count": 55,
     "metadata": {},
     "output_type": "execute_result"
    }
   ],
   "source": [
    "norm(xb-x)/norm(xb)"
   ]
  },
  {
   "cell_type": "markdown",
   "metadata": {},
   "source": [
    "### Umjetno loša kondicija"
   ]
  },
  {
   "cell_type": "code",
   "execution_count": 56,
   "metadata": {
    "collapsed": false
   },
   "outputs": [
    {
     "name": "stdout",
     "output_type": "stream",
     "text": [
      "(x,cond(A)) = ([-1.0,2.0],6.854101966249685)"
     ]
    },
    {
     "data": {
      "text/plain": [
       "([-1.0,2.0],50000.00017991671,[8.881784197001252e-16,-4.440892098500626e-16])"
      ]
     },
     "execution_count": 56,
     "metadata": {},
     "output_type": "execute_result"
    },
    {
     "name": "stdout",
     "output_type": "stream",
     "text": [
      "\n"
     ]
    }
   ],
   "source": [
    "A=[1 1; 1 2]\n",
    "b=[1;3]\n",
    "x=A\\b\n",
    "@show x,cond(A)\n",
    "A1=[1e-4 1e-4;1 2]\n",
    "b1=[1e-4;3]\n",
    "x1=A1\\b1\n",
    "x,cond(A1),x-x1"
   ]
  },
  {
   "cell_type": "markdown",
   "metadata": {
    "collapsed": true
   },
   "source": [
    "## Rezidual\n",
    "\n",
    "(Prema [G. W. Stewart, Afternotes on Numerical Analysis, str. 128.][Ste96])\n",
    "\n",
    "Izračunato rješenje $\\hat x$ sustava $Ax=b$ je točno rješenje nekog sličnog sustava\n",
    "\n",
    "$$ \n",
    "(A+\\delta A)\\hat x=b. \\tag{1}\n",
    "$$\n",
    "\n",
    "_Rezidual_ (ili _ostatak_) definiramo kao \n",
    "\n",
    "$$\n",
    "r=b-A\\hat x.\n",
    "$$\n",
    "\n",
    "Tada je \n",
    "\n",
    "$$\n",
    "0=b-(A+\\delta A)\\hat x=r- \\delta A\\hat x\n",
    "$$\n",
    "pa je \n",
    "\n",
    "$$ \n",
    "\\| r\\| \\leq \\| \\delta A\\hat x \\| \\leq \\| \\delta A\\| \\cdot \\|\\hat x \\|,\n",
    "$$\n",
    "\n",
    "odnosno\n",
    "\n",
    "$$\n",
    "\\frac{\\|  \\delta A\\|}{\\|A \\|} \\geq \\frac{\\|r\\|}{\\| A\\| \\cdot \\|\\hat x \\|}.\n",
    "$$\n",
    "\n",
    "Dakle,\n",
    "> ako  _relativni rezidual_ \n",
    ">\n",
    "> $$ \\frac{r}{\\| A\\| \\cdot \\|\\hat x \\|}$$\n",
    "ima veliku normu, tada __rješenje nije izračunato stabilno.__\n",
    "\n",
    "S druge strane, ako relativni rezidual ima malu normu, tada je rješenje izračunato stabilno. Naime, za\n",
    "\n",
    "$$\n",
    "\\delta A=\\frac{r\\hat x^T}{\\|\\hat x\\|^2}\n",
    "$$\n",
    "vrijedi (1):\n",
    "\n",
    "$$\n",
    "b-(A+\\delta A)\\hat x=(b-A\\hat x)-\\delta A \\hat x = r-\\frac{r\\hat x^T \\hat x}{\\|\\hat x\\|^2}\n",
    "= r-\\frac{r \\|\\hat x^T \\hat x\\|}{\\|\\hat x\\|^2}=r-r=0.\n",
    "$$\n",
    "Također vrijedi\n",
    "\n",
    "$$\n",
    "\\frac{\\|  \\delta A\\|}{\\|A \\|}  \\leq  \\frac{\\|r\\|\\|\\hat x \\|}{\\| A\\| \\cdot \\|\\hat x \\|^2}=\n",
    "\\frac{\\|r\\|}{\\| A\\| \\cdot \\|\\hat x \\|}.\n",
    "$$\n",
    "\n",
    "\n",
    "\n",
    "\n",
    "[Ste96]: https://books.google.hr/books?id=w-2PWh01kWcC&printsec=frontcover&hl=hr#v=onepage&q&f=false    \"G. W. Stewart, 'Afternotes on Numerical Analysis', SIAM, Philadelphi, 1996\""
   ]
  },
  {
   "cell_type": "code",
   "execution_count": 57,
   "metadata": {
    "collapsed": false
   },
   "outputs": [
    {
     "data": {
      "text/plain": [
       "2-element Array{Float64,1}:\n",
       " 0.0\n",
       " 0.0"
      ]
     },
     "execution_count": 57,
     "metadata": {},
     "output_type": "execute_result"
    }
   ],
   "source": [
    "r=b-A*x"
   ]
  },
  {
   "cell_type": "code",
   "execution_count": 58,
   "metadata": {
    "collapsed": false
   },
   "outputs": [
    {
     "data": {
      "text/plain": [
       "0.0"
      ]
     },
     "execution_count": 58,
     "metadata": {},
     "output_type": "execute_result"
    }
   ],
   "source": [
    "norm(r)/(norm(A)*norm(x))"
   ]
  },
  {
   "cell_type": "code",
   "execution_count": null,
   "metadata": {
    "collapsed": true
   },
   "outputs": [],
   "source": []
  }
 ],
 "metadata": {
  "kernelspec": {
   "display_name": "Julia 0.4.0",
   "language": "julia",
   "name": "julia-0.4"
  },
  "language_info": {
   "file_extension": ".jl",
   "mimetype": "application/julia",
   "name": "julia",
   "version": "0.4.0"
  }
 },
 "nbformat": 4,
 "nbformat_minor": 0
}
