{
 "cells": [
  {
   "cell_type": "markdown",
   "metadata": {},
   "source": [
    "# Gaussova eliminacija"
   ]
  },
  {
   "cell_type": "markdown",
   "metadata": {},
   "source": [
    "## Općenito\n",
    "\n",
    "Sustav $Ax=b$ se rješava u tri koraka (__bez pivotiranja__)\n",
    "\n",
    "1. $A=LU$ (LU rastav, $O(\\frac{2}{3}n^3)$ operacija)\n",
    "2. $Ly=b$ (donje trokutrasti sustav, $n^2$ operacija)\n",
    "3. $Ux=y$ (gornje torkutasti sustav, $n^2$ operacija)\n",
    "\n",
    "Ukoliko pivotiramo, tada je\n",
    "\n",
    "1. $PA=LU$ \n",
    "2. $Ly=P^T b$\n",
    "3. $Ux=y$ "
   ]
  },
  {
   "cell_type": "markdown",
   "metadata": {},
   "source": [
    "## LU rastav"
   ]
  },
  {
   "cell_type": "code",
   "execution_count": 1,
   "metadata": {
    "collapsed": false
   },
   "outputs": [
    {
     "data": {
      "text/plain": [
       "mylu (generic function with 1 method)"
      ]
     },
     "execution_count": 1,
     "metadata": {},
     "output_type": "execute_result"
    }
   ],
   "source": [
    "function mylu{T}(A1::Array{T}) # Strang, page 100\n",
    "    A=deepcopy(A1)\n",
    "    n,m=size(A)\n",
    "    U=map(Float64,[zero(A[1,1]) for i=1:n, j=1:n]) # This acccepts blocks and numbers\n",
    "    L=map(Float64,[zero(A[1,1]) for i=1:n, j=1:n])\n",
    "    for k=1:n\n",
    "        L[k,k]=one(A[1,1])\n",
    "        for i=k+1:n\n",
    "            L[i,k]=A[i,k]/A[k,k]\n",
    "            for j=k+1:n\n",
    "                A[i,j]=A[i,j]-L[i,k]*A[k,j]\n",
    "            end\n",
    "        end\n",
    "        for j=k:n\n",
    "            U[k,j]=A[k,j]\n",
    "        end\n",
    "    end\n",
    "    L,U\n",
    "end"
   ]
  },
  {
   "cell_type": "code",
   "execution_count": 2,
   "metadata": {
    "collapsed": false
   },
   "outputs": [
    {
     "data": {
      "text/plain": [
       "6x6 Array{Float64,2}:\n",
       " 0.572742  0.345477  0.41618   0.1079    0.0915292  0.711516  \n",
       " 0.918662  0.406217  0.621473  0.322772  0.382369   0.00569496\n",
       " 0.466936  0.780852  0.46122   0.251193  0.994715   0.805163  \n",
       " 0.911242  0.9977    0.145054  0.624245  0.872087   0.94439   \n",
       " 0.388126  0.033171  0.538476  0.153353  0.648229   0.306619  \n",
       " 0.9793    0.395671  0.992422  0.609758  0.211017   0.306964  "
      ]
     },
     "execution_count": 2,
     "metadata": {},
     "output_type": "execute_result"
    }
   ],
   "source": [
    "A=rand(6,6)\n",
    "# A=[2.0 2;3 4]"
   ]
  },
  {
   "cell_type": "code",
   "execution_count": 3,
   "metadata": {
    "collapsed": false
   },
   "outputs": [
    {
     "data": {
      "text/plain": [
       "(\n",
       "6x6 Array{Float64,2}:\n",
       " 1.0        0.0        0.0       0.0         0.0     0.0\n",
       " 1.60397    1.0        0.0       0.0         0.0     0.0\n",
       " 0.815264  -3.37483    1.0       0.0         0.0     0.0\n",
       " 1.59102   -3.02899   19.5732    1.0         0.0     0.0\n",
       " 0.677662   1.35849   -9.50975  -0.511892    1.0     0.0\n",
       " 1.70984    1.31857  -10.1814   -0.577586  -10.4546  1.0,\n",
       "\n",
       "6x6 Array{Float64,2}:\n",
       " 0.572742   0.345477   0.41618      0.1079      0.0915292   0.711516\n",
       " 0.0       -0.147918  -0.0460677    0.149703    0.235559   -1.13556 \n",
       " 0.0        0.0       -0.0335476    0.66845     1.71507    -3.60723 \n",
       " 0.0        0.0        0.0        -12.1777    -32.1293     66.9777  \n",
       " 0.0        0.0        0.0          0.0         0.129292    1.34863 \n",
       " 0.0        0.0        0.0          0.0         0.0        16.6457  )"
      ]
     },
     "execution_count": 3,
     "metadata": {},
     "output_type": "execute_result"
    }
   ],
   "source": [
    "L,U=mylu(A)"
   ]
  },
  {
   "cell_type": "code",
   "execution_count": 4,
   "metadata": {
    "collapsed": false
   },
   "outputs": [
    {
     "data": {
      "text/plain": [
       "6x6 Array{Float64,2}:\n",
       " 0.0  0.0  0.0   0.0           0.0           0.0        \n",
       " 0.0  0.0  0.0   0.0           0.0           0.0        \n",
       " 0.0  0.0  0.0   0.0           0.0           0.0        \n",
       " 0.0  0.0  0.0  -1.55431e-15  -1.77636e-15  -3.77476e-15\n",
       " 0.0  0.0  0.0   0.0           1.11022e-15   3.33067e-15\n",
       " 0.0  0.0  0.0  -4.44089e-16   1.77636e-15   8.88178e-16"
      ]
     },
     "execution_count": 4,
     "metadata": {},
     "output_type": "execute_result"
    }
   ],
   "source": [
    "L*U-A"
   ]
  },
  {
   "cell_type": "markdown",
   "metadata": {},
   "source": [
    "## Trokutasti sustavi"
   ]
  },
  {
   "cell_type": "code",
   "execution_count": 5,
   "metadata": {
    "collapsed": false
   },
   "outputs": [
    {
     "data": {
      "text/plain": [
       "myL (generic function with 1 method)"
      ]
     },
     "execution_count": 5,
     "metadata": {},
     "output_type": "execute_result"
    }
   ],
   "source": [
    "function myU{T}(U::Array{T},b1::Array{T})\n",
    "    b=deepcopy(b1)\n",
    "    n=length(b)\n",
    "    for i=n:-1:1\n",
    "       for j=n:-1:i+1\n",
    "            b[i]=b[i]-U[i,j]*b[j]\n",
    "       end\n",
    "        b[i]=b[i]/U[i,i]\n",
    "    end\n",
    "    b\n",
    "end\n",
    "\n",
    "function myL{T}(L::Array{T},b1::Array{T})\n",
    "    b=deepcopy(b1)\n",
    "    n=length(b)\n",
    "    for i=1:n\n",
    "        for j=1:i-1\n",
    "            b[i]=b[i]-L[i,j]*b[j]\n",
    "        end\n",
    "        b[i]=b[i]/L[i,i]\n",
    "    end\n",
    "    b\n",
    "end"
   ]
  },
  {
   "cell_type": "code",
   "execution_count": 6,
   "metadata": {
    "collapsed": false
   },
   "outputs": [
    {
     "data": {
      "text/plain": [
       "6-element Array{Float64,1}:\n",
       " 0.0243455 \n",
       " 0.930382  \n",
       " 0.534567  \n",
       " 0.00546513\n",
       " 0.310271  \n",
       " 0.0227217 "
      ]
     },
     "execution_count": 6,
     "metadata": {},
     "output_type": "execute_result"
    }
   ],
   "source": [
    "b=rand(6)"
   ]
  },
  {
   "cell_type": "code",
   "execution_count": 7,
   "metadata": {
    "collapsed": false
   },
   "outputs": [
    {
     "data": {
      "text/plain": [
       "6-element Array{Float64,1}:\n",
       "  0.905914\n",
       "  0.916703\n",
       "  0.28446 \n",
       " -2.17203 \n",
       "  0.669806\n",
       " -1.06328 "
      ]
     },
     "execution_count": 7,
     "metadata": {},
     "output_type": "execute_result"
    }
   ],
   "source": [
    "x=A\\b"
   ]
  },
  {
   "cell_type": "code",
   "execution_count": 8,
   "metadata": {
    "collapsed": false
   },
   "outputs": [
    {
     "data": {
      "text/plain": [
       "6-element Array{Float64,1}:\n",
       "   0.0243455\n",
       "   0.891332 \n",
       "   3.52282  \n",
       " -66.2862   \n",
       "  -1.34736  \n",
       " -17.699    "
      ]
     },
     "execution_count": 8,
     "metadata": {},
     "output_type": "execute_result"
    }
   ],
   "source": [
    "y=myL(L,b)"
   ]
  },
  {
   "cell_type": "code",
   "execution_count": 9,
   "metadata": {
    "collapsed": false
   },
   "outputs": [
    {
     "data": {
      "text/plain": [
       "6-element Array{Float64,1}:\n",
       "  0.905914\n",
       "  0.916703\n",
       "  0.28446 \n",
       " -2.17203 \n",
       "  0.669806\n",
       " -1.06328 "
      ]
     },
     "execution_count": 9,
     "metadata": {},
     "output_type": "execute_result"
    }
   ],
   "source": [
    "x1=myU(U,y)"
   ]
  },
  {
   "cell_type": "code",
   "execution_count": 10,
   "metadata": {
    "collapsed": false
   },
   "outputs": [
    {
     "data": {
      "text/plain": [
       "6-element Array{Float64,1}:\n",
       " -6.77236e-15\n",
       " -8.88178e-15\n",
       "  1.95954e-14\n",
       " -1.24345e-14\n",
       "  4.21885e-15\n",
       " -2.22045e-16"
      ]
     },
     "execution_count": 10,
     "metadata": {},
     "output_type": "execute_result"
    }
   ],
   "source": [
    "x-x1"
   ]
  },
  {
   "cell_type": "markdown",
   "metadata": {},
   "source": [
    "## Brzina"
   ]
  },
  {
   "cell_type": "markdown",
   "metadata": {},
   "source": [
    "Program `mylu()` je jako spor. Između ostalog, alocira nepotrebno tri matrice.\n",
    "\n",
    "Program se može reformulirati na načun da su i $L$ i $U$ spremljene u polje $A$, pri čemu se dijagonala od $L$ ne sprema, jer su svi elementi jednaki 1."
   ]
  },
  {
   "cell_type": "code",
   "execution_count": 11,
   "metadata": {
    "collapsed": false
   },
   "outputs": [
    {
     "data": {
      "text/plain": [
       "mylu1 (generic function with 1 method)"
      ]
     },
     "execution_count": 11,
     "metadata": {},
     "output_type": "execute_result"
    }
   ],
   "source": [
    "function mylu1{T}(A1::Array{T}) # Strang, page 100\n",
    "    A=deepcopy(A1)\n",
    "    n,m=size(A)\n",
    "    for k=1:n-1\n",
    "        rho=k+1:n\n",
    "        A[rho,k]=A[rho,k]/A[k,k]\n",
    "        A[rho,rho]=A[rho,rho]-A[rho,k]*A[k,rho]\n",
    "    end\n",
    "    A\n",
    "end"
   ]
  },
  {
   "cell_type": "code",
   "execution_count": 12,
   "metadata": {
    "collapsed": false
   },
   "outputs": [
    {
     "data": {
      "text/plain": [
       "6x6 Array{Float64,2}:\n",
       " 0.572742   0.345477    0.41618      0.1079      0.0915292   0.711516\n",
       " 1.60397   -0.147918   -0.0460677    0.149703    0.235559   -1.13556 \n",
       " 0.815264  -3.37483    -0.0335476    0.66845     1.71507    -3.60723 \n",
       " 1.59102   -3.02899    19.5732     -12.1777    -32.1293     66.9777  \n",
       " 0.677662   1.35849    -9.50975     -0.511892    0.129292    1.34863 \n",
       " 1.70984    1.31857   -10.1814      -0.577586  -10.4546     16.6457  "
      ]
     },
     "execution_count": 12,
     "metadata": {},
     "output_type": "execute_result"
    }
   ],
   "source": [
    "mylu1(A)"
   ]
  },
  {
   "cell_type": "code",
   "execution_count": 13,
   "metadata": {
    "collapsed": false
   },
   "outputs": [
    {
     "data": {
      "text/plain": [
       "(\n",
       "6x6 Array{Float64,2}:\n",
       " 1.0        0.0        0.0       0.0         0.0     0.0\n",
       " 1.60397    1.0        0.0       0.0         0.0     0.0\n",
       " 0.815264  -3.37483    1.0       0.0         0.0     0.0\n",
       " 1.59102   -3.02899   19.5732    1.0         0.0     0.0\n",
       " 0.677662   1.35849   -9.50975  -0.511892    1.0     0.0\n",
       " 1.70984    1.31857  -10.1814   -0.577586  -10.4546  1.0,\n",
       "\n",
       "6x6 Array{Float64,2}:\n",
       " 0.572742   0.345477   0.41618      0.1079      0.0915292   0.711516\n",
       " 0.0       -0.147918  -0.0460677    0.149703    0.235559   -1.13556 \n",
       " 0.0        0.0       -0.0335476    0.66845     1.71507    -3.60723 \n",
       " 0.0        0.0        0.0        -12.1777    -32.1293     66.9777  \n",
       " 0.0        0.0        0.0          0.0         0.129292    1.34863 \n",
       " 0.0        0.0        0.0          0.0         0.0        16.6457  )"
      ]
     },
     "execution_count": 13,
     "metadata": {},
     "output_type": "execute_result"
    }
   ],
   "source": [
    "L,U"
   ]
  },
  {
   "cell_type": "markdown",
   "metadata": {},
   "source": [
    "Usporedimo brzine LAPACK-ovog programa `lu()` i našeg naivnog programa `mylu()`na većoj dimenziji. \n",
    "\n",
    "Izvedite program par puta radi točnijeg mjerenja brzine."
   ]
  },
  {
   "cell_type": "code",
   "execution_count": 14,
   "metadata": {
    "collapsed": false
   },
   "outputs": [
    {
     "data": {
      "text/plain": [
       "512x512 Array{Float64,2}:\n",
       " 0.879008    0.0765234  0.619828    …  0.306852  0.419349   0.0318452\n",
       " 0.978776    0.342315   0.584766       0.470737  0.817043   0.697399 \n",
       " 0.00211954  0.600403   0.723049       0.913511  0.540738   0.383263 \n",
       " 0.0513583   0.548405   0.722061       0.72406   0.36884    0.583743 \n",
       " 0.673156    0.630861   0.45636        0.654216  0.293304   0.0456388\n",
       " 0.434668    0.936868   0.866398    …  0.860935  0.177937   0.131977 \n",
       " 0.0486402   0.895425   0.773846       0.051719  0.793414   0.0656182\n",
       " 0.335845    0.345502   0.21187        0.59085   0.375575   0.531287 \n",
       " 0.233454    0.708725   0.817826       0.529515  0.484588   0.783603 \n",
       " 0.635393    0.829388   0.460663       0.131837  0.895702   0.543087 \n",
       " 0.716301    0.633068   0.526266    …  0.368188  0.241099   0.994956 \n",
       " 0.0598042   0.119478   0.943496       0.74961   0.455477   0.750463 \n",
       " 0.191756    0.811144   0.0686469      0.23966   0.712608   0.716227 \n",
       " ⋮                                  ⋱            ⋮                   \n",
       " 0.160335    0.307924   0.810645    …  0.270643  0.540148   0.896625 \n",
       " 0.450343    0.674954   0.491597       0.688956  0.827907   0.882976 \n",
       " 0.533244    0.704025   0.306256       0.430708  0.365642   0.58849  \n",
       " 0.664491    0.315345   0.791308       0.714645  0.62461    0.427251 \n",
       " 0.851057    0.463097   0.620355       0.850057  0.167673   0.841758 \n",
       " 0.981202    0.96314    0.313127    …  0.215212  0.0634293  0.448844 \n",
       " 0.719383    0.298711   0.63714        0.885306  0.118609   0.18256  \n",
       " 0.638295    0.243065   0.861443       0.132082  0.0699858  0.140523 \n",
       " 0.230118    0.856746   0.00263003     0.749935  0.991988   0.139874 \n",
       " 0.500832    0.839611   0.687363       0.375514  0.0980952  0.3324   \n",
       " 0.12365     0.870107   0.241935    …  0.800528  0.212052   0.151389 \n",
       " 0.623594    0.0419486  0.669574       0.14253   0.864906   0.91983  "
      ]
     },
     "execution_count": 14,
     "metadata": {},
     "output_type": "execute_result"
    }
   ],
   "source": [
    "n=512\n",
    "A=rand(n,n)"
   ]
  },
  {
   "cell_type": "code",
   "execution_count": 15,
   "metadata": {
    "collapsed": false
   },
   "outputs": [
    {
     "name": "stdout",
     "output_type": "stream",
     "text": [
      "  "
     ]
    }
   ],
   "source": [
    "@time lu(A);"
   ]
  },
  {
   "cell_type": "code",
   "execution_count": 16,
   "metadata": {
    "collapsed": false
   },
   "outputs": [
    {
     "name": "stdout",
     "output_type": "stream",
     "text": [
      "0.153377 seconds (177.58 k allocations: 14.420 MB, 3.03% gc time)\n",
      "  "
     ]
    }
   ],
   "source": [
    "@time mylu1(A);"
   ]
  },
  {
   "cell_type": "markdown",
   "metadata": {},
   "source": [
    "### Blok varijanta\n",
    "\n",
    "`mylu()` je nekoliko desetaka puta sporiji.\n",
    "\n",
    "Probajmo s blokovima:\n",
    "\n",
    "Preradimo `mylu1()` za rad s blokovima (nemamo ugrađeno pivotiranje!)"
   ]
  },
  {
   "cell_type": "code",
   "execution_count": 17,
   "metadata": {
    "collapsed": false
   },
   "outputs": [
    {
     "data": {
      "text/plain": [
       "mylu2 (generic function with 1 method)"
      ]
     },
     "execution_count": 17,
     "metadata": {},
     "output_type": "execute_result"
    }
   ],
   "source": [
    "function mylu2{T}(A1::Array{T}) # Strang, page 100\n",
    "    A=deepcopy(A1)\n",
    "    n,m=size(A)\n",
    "    for k=1:n-1\n",
    "        for rho=k+1:n\n",
    "            A[rho,k]=A[rho,k]/A[k,k]\n",
    "            for l=k+1:n\n",
    "                A[rho,l]=A[rho,l]-A[rho,k]*A[k,l]\n",
    "            end\n",
    "        end\n",
    "    end\n",
    "    A\n",
    "end"
   ]
  },
  {
   "cell_type": "markdown",
   "metadata": {},
   "source": [
    "Napravimo prvo mali test:"
   ]
  },
  {
   "cell_type": "code",
   "execution_count": 18,
   "metadata": {
    "collapsed": false
   },
   "outputs": [],
   "source": [
    "# Probajte k,l=32,16 i k,l=64,8\n",
    "k,l=4,4\n",
    "Ab=[rand(k,k) for i=1:l, j=1:l];"
   ]
  },
  {
   "cell_type": "code",
   "execution_count": 19,
   "metadata": {
    "collapsed": false
   },
   "outputs": [
    {
     "data": {
      "text/plain": [
       "4x4 Array{Any,2}:\n",
       " 4x4 Array{Float64,2}:\n",
       " 0.678858  0.662695   0.295691  0.720758\n",
       " 0.075622  0.855589   0.746546  0.449273\n",
       " 0.901516  0.301884   0.503178  0.456996\n",
       " 0.45916   0.0633566  0.948613  0.423762                              …  4x4 Array{Float64,2}:\n",
       " 0.518495  0.718859  0.662116   0.30917  \n",
       " 0.4364    0.769264  0.795726   0.0751198\n",
       " 0.844604  0.108336  0.525455   0.727627 \n",
       " 0.925806  0.229162  0.0192927  0.147921             \n",
       " 4x4 Array{Float64,2}:\n",
       " -1.35546    0.737376    2.21878   -0.716719\n",
       "  0.671226  -0.0250903  -0.900465   0.853136\n",
       " -0.225808   0.784549    1.55605   -0.999857\n",
       "  1.37584    0.205724   -1.26639    0.916994                 4x4 Array{Float64,2}:\n",
       " -0.283142    0.544117  -0.212943  -1.06509 \n",
       "  0.0823935   0.207579   0.370494   0.888356\n",
       " -0.115731   -0.195113  -0.56117   -0.620051\n",
       " -0.564426   -0.287248  -0.331463   1.08581 \n",
       " 4x4 Array{Float64,2}:\n",
       "  0.931489    0.0660938   -0.960304   1.18999  \n",
       "  0.960611    0.00858041  -0.75833    0.441672 \n",
       " -0.0297255   0.0765407    0.974907   0.0626357\n",
       "  0.576494   -0.0488828    0.955     -0.636915      4x4 Array{Float64,2}:\n",
       " -0.0711212  -0.625467   0.257779   0.889092\n",
       "  0.568882   -0.647271  -0.127323   1.25889 \n",
       " -0.345149    1.46688    0.568978  -1.20962 \n",
       "  1.08327     0.878631   0.650295  -1.01785 \n",
       " 4x4 Array{Float64,2}:\n",
       "  2.36518   -0.862783   -2.45132    1.86586 \n",
       "  1.79984   -0.0976223  -1.53477    0.746602\n",
       " -0.15356    0.147463   -0.245714   0.833426\n",
       " -0.171851   0.0974385   1.40081   -0.729777                 4x4 Array{Float64,2}:\n",
       " 26.6246   -33.3325   -6.88174    7.10258 \n",
       " 13.5546   -12.1236   -2.17236    1.36708 \n",
       " -1.85263    1.3691   -0.360753  -0.680191\n",
       "  2.99303   -6.39636  -1.75949    1.35732         "
      ]
     },
     "execution_count": 19,
     "metadata": {},
     "output_type": "execute_result"
    },
    {
     "name": "stdout",
     "output_type": "stream",
     "text": [
      "0.413389 seconds (17.26 k allocations: 1.004 GB, 8.47% gc time)\n"
     ]
    }
   ],
   "source": [
    "A0=mylu2(Ab)"
   ]
  },
  {
   "cell_type": "code",
   "execution_count": 20,
   "metadata": {
    "collapsed": false
   },
   "outputs": [],
   "source": [
    "# Provjera\n",
    "U=triu(A0)\n",
    "L=tril(A0)\n",
    "for i=1:maximum(size(L))\n",
    "    L[i,i]=eye(L[1,1])\n",
    "end"
   ]
  },
  {
   "cell_type": "code",
   "execution_count": 21,
   "metadata": {
    "collapsed": false
   },
   "outputs": [
    {
     "data": {
      "text/plain": [
       "4x4 Array{Any,2}:\n",
       " 4x4 Array{Float64,2}:\n",
       " 0.0  0.0  0.0  0.0\n",
       " 0.0  0.0  0.0  0.0\n",
       " 0.0  0.0  0.0  0.0\n",
       " 0.0  0.0  0.0  0.0                                                                                                                                                  …  4x4 Array{Float64,2}:\n",
       " 0.0  0.0  0.0  0.0\n",
       " 0.0  0.0  0.0  0.0\n",
       " 0.0  0.0  0.0  0.0\n",
       " 0.0  0.0  0.0  0.0                                                                                                                                            \n",
       " 4x4 Array{Float64,2}:\n",
       " -2.22045e-16   1.66533e-16  -1.11022e-16  -5.55112e-17\n",
       "  2.22045e-16   0.0           0.0           0.0        \n",
       "  0.0          -2.22045e-16  -2.22045e-16  -5.55112e-17\n",
       "  1.11022e-16   1.11022e-16   0.0          -2.22045e-16     4x4 Array{Float64,2}:\n",
       " 0.0  0.0  0.0  0.0\n",
       " 0.0  0.0  0.0  0.0\n",
       " 0.0  0.0  0.0  0.0\n",
       " 0.0  0.0  0.0  0.0                                                                                                                                            \n",
       " 4x4 Array{Float64,2}:\n",
       " 1.11022e-16   2.22045e-16  0.0           0.0        \n",
       " 1.38778e-16   1.11022e-16  5.55112e-17  -1.11022e-16\n",
       " 0.0          -5.55112e-17  1.11022e-16   0.0        \n",
       " 2.22045e-16   2.22045e-16  1.11022e-16   0.0                     4x4 Array{Float64,2}:\n",
       " 0.0          0.0  0.0   1.11022e-16\n",
       " 0.0          0.0  0.0  -1.11022e-16\n",
       " 0.0          0.0  0.0   2.22045e-16\n",
       " 1.11022e-16  0.0  0.0   0.0                                                                                \n",
       " 4x4 Array{Float64,2}:\n",
       "  0.0          -2.77556e-17  0.0   0.0        \n",
       "  2.77556e-16   0.0          0.0   0.0        \n",
       "  5.55112e-17   3.46945e-17  0.0   0.0        \n",
       " -2.22045e-16  -5.55112e-17  0.0  -5.55112e-17                                         4x4 Array{Float64,2}:\n",
       " -6.66134e-16  -1.11022e-15  2.22045e-16   4.44089e-16\n",
       " -4.44089e-16   6.66134e-16  0.0          -1.11022e-16\n",
       "  2.22045e-16   2.22045e-16  0.0           0.0        \n",
       "  0.0           0.0          0.0           2.22045e-16"
      ]
     },
     "execution_count": 21,
     "metadata": {},
     "output_type": "execute_result"
    }
   ],
   "source": [
    "Res=L*U-Ab"
   ]
  },
  {
   "cell_type": "code",
   "execution_count": 22,
   "metadata": {
    "collapsed": false
   },
   "outputs": [
    {
     "data": {
      "text/plain": [
       "unblock (generic function with 1 method)"
      ]
     },
     "execution_count": 22,
     "metadata": {},
     "output_type": "execute_result"
    }
   ],
   "source": [
    "# pretvaranje blok matrice u obicnu\n",
    "unblock(A) = mapreduce(identity, hcat, [mapreduce(identity, vcat, A[:,i]) for i = 1:size(A,2)])"
   ]
  },
  {
   "cell_type": "code",
   "execution_count": 23,
   "metadata": {
    "collapsed": false
   },
   "outputs": [
    {
     "data": {
      "text/plain": [
       "8.207746519412836e-15"
      ]
     },
     "execution_count": 23,
     "metadata": {},
     "output_type": "execute_result"
    }
   ],
   "source": [
    "norm(unblock(Res))"
   ]
  },
  {
   "cell_type": "markdown",
   "metadata": {},
   "source": [
    "Sada probajmo veću dimenziju"
   ]
  },
  {
   "cell_type": "code",
   "execution_count": 24,
   "metadata": {
    "collapsed": true
   },
   "outputs": [],
   "source": [
    "# Probajmo vece dimenzije (n=k*l)\n",
    "k,l=32,16\n",
    "Ab=[rand(k,k) for i=1:l, j=1:l];"
   ]
  },
  {
   "cell_type": "code",
   "execution_count": 25,
   "metadata": {
    "collapsed": false
   },
   "outputs": [
    {
     "name": "stdout",
     "output_type": "stream",
     "text": [
      "  "
     ]
    }
   ],
   "source": [
    "@time mylu2(Ab);"
   ]
  },
  {
   "cell_type": "markdown",
   "metadata": {},
   "source": [
    "Vidimo da je `mylu2()` gotovo jednako brz kao `lu()`, uz napomenu da `mylu2()` nema ugrađeno pivotiranje. "
   ]
  },
  {
   "cell_type": "markdown",
   "metadata": {},
   "source": [
    "## Točnost\n",
    "\n",
    "Neka je zadan sustav $Ax=b$, pri čemu je matrica $A$ regularna.\n",
    "\n",
    "Da bi primijenili koncepte iz bilježnice [NA04_Porgeska_unatrag_i stabilni_algoritmi](NA04_Pogeska_unatrag_i stabilni_algoritmi.ipynb), potrebno je:\n",
    "\n",
    "1. napraviti teoriju smetnje za danai problem\n",
    "2. analizirati pogreške algoritma (Gaussove eliminacije)\n",
    "\n",
    "### Teorija smetnje\n",
    "\n",
    "Neka je \n",
    "\n",
    "$$\n",
    "(A+\\delta A)\\hat x=(b+\\delta b)\n",
    "$$\n",
    "za neki $\\hat x=x+\\delta x$.\n",
    "\n",
    "Želimo ocijeniti \n",
    "$$\n",
    "\\frac{\\| \\hat x - x \\|}{\\| x\\|} \\equiv \\frac{\\| \\delta x\\|}{\\| x\\|}.\n",
    "$$\n",
    "\n",
    "Uvedimo oznake (npr. prema [G. Golub and C. F. Van Loan, Matrix Computations, str. 87, poglavlje 2.6.2][GVL13])\n",
    "\n",
    "$$\n",
    "\\delta A=\\varepsilon F, \\quad \\delta b=\\varepsilon f, \\qquad \\hat x=x(\\varepsilon),\n",
    "$$\n",
    "čime smo dobili jednodimenzionalni problem \n",
    "\n",
    "$$\n",
    "(A+\\varepsilon F)x(\\varepsilon)=b+\\varepsilon f.\n",
    "$$\n",
    "\n",
    "za neke (nepoznate) matricu $F$ i vektor $f$. \n",
    "\n",
    "Deriviranje po $\\varepsilon$ daje\n",
    "\n",
    "$$\n",
    "Fx(\\varepsilon)+(A+\\varepsilon F)\\dot x(\\varepsilon)=f.\n",
    "$$\n",
    "\n",
    "Uvrštavanje $\\varepsilon=0$ daje\n",
    "\n",
    "$$\n",
    "F x+A\\dot x(0)=f,\n",
    "$$\n",
    "odnosno\n",
    "$$\n",
    "\\dot x(0)=A^{-1}(f-Fx).\n",
    "$$\n",
    "\n",
    "Taylorov razvoj oko $x(0)$ glasi\n",
    "\n",
    "$$\n",
    "x(\\varepsilon)=x(0)+\\varepsilon \\dot x(0) +O(\\varepsilon^2),\n",
    "$$\n",
    "odnosno, uz zanemarivanje člana $O(\\varepsilon^2)$,\n",
    "$$\n",
    "\\hat x-x=\\varepsilon A^{-1}(f-Fx)=A^{-1} (\\varepsilon f + \\varepsilon F x) = A^{-1} (\\delta b + \\delta A x).\n",
    "$$\n",
    "\n",
    "Svojstva norme povlače\n",
    "\n",
    "$$\n",
    "\\| \\hat x-x\\|\\leq \\| A^{-1} \\| (\\| \\delta b \\|  + \\| \\delta A \\| \\cdot \\|  x\\| ).\n",
    "$$\n",
    "\n",
    "Konačno, zbog $\\| b\\| \\leq \\| A\\| \\| x\\|$ imamo\n",
    "\n",
    "$$\n",
    "\\frac{\\| \\hat x-x\\|}{\\| x\\|}\\leq \\| A\\|  \\cdot \\| A^{-1} \\| \\bigg(\\frac{\\| \\delta b \\|}{\\|b\\|}  + \\frac{\\| \\delta A \\|}{ \\|  A\\|} \\bigg). \\tag{1}\n",
    "$$\n",
    "\n",
    "Broj \n",
    "$$\n",
    "\\kappa(A)\\equiv \\| A\\|  \\cdot \\| A^{-1} \\|\n",
    "$$ \n",
    "\n",
    "je _uvjetovanost_ (_kondicija_)  matrice $A$ i kazuje nam \n",
    "\n",
    "> koliko se relativno uvećaju relativne promjene u polaznim podacima (matrici $A$ i vektoru $b$).\n",
    "\n",
    "Pogledajmo primjer iz [R. Scitovski, Numerička matematika, str. 42][RS04]:\n",
    "\n",
    "\n",
    "\n",
    "\n",
    "[GVL13]: https://books.google.hr/books?id=X5YfsuCWpxMC&printsec=frontcover&hl=hr#v=onepage&q&f=false \"G. Golub and C. F Van Loan, 'Matrix Computations', 4th Edition, John Hopkins, Baltimore, 2013\" \n",
    "\n",
    "[RS04]: http://www.mathos.unios.hr/pim/Materijali/Num.pdf \"R. Scitovski, 'Numerička matematika', Sveučilište u Osijeku, osijek, 2004.\""
   ]
  },
  {
   "cell_type": "code",
   "execution_count": 26,
   "metadata": {
    "collapsed": false
   },
   "outputs": [
    {
     "data": {
      "text/plain": [
       "2x2 Array{Float64,2}:\n",
       " 0.234  0.458\n",
       " 0.383  0.75 "
      ]
     },
     "execution_count": 26,
     "metadata": {},
     "output_type": "execute_result"
    }
   ],
   "source": [
    "A= [0.234 0.458; 0.383 0.750]"
   ]
  },
  {
   "cell_type": "code",
   "execution_count": 27,
   "metadata": {
    "collapsed": false
   },
   "outputs": [
    {
     "data": {
      "text/plain": [
       "2-element Array{Float64,1}:\n",
       " 0.224\n",
       " 0.367"
      ]
     },
     "execution_count": 27,
     "metadata": {},
     "output_type": "execute_result"
    }
   ],
   "source": [
    "b=[0.224;0.367]"
   ]
  },
  {
   "cell_type": "code",
   "execution_count": 28,
   "metadata": {
    "collapsed": false
   },
   "outputs": [
    {
     "data": {
      "text/plain": [
       "2-element Array{Float64,1}:\n",
       " -1.0\n",
       "  1.0"
      ]
     },
     "execution_count": 28,
     "metadata": {},
     "output_type": "execute_result"
    }
   ],
   "source": [
    "x=A\\b"
   ]
  },
  {
   "cell_type": "code",
   "execution_count": 29,
   "metadata": {
    "collapsed": false
   },
   "outputs": [
    {
     "data": {
      "text/plain": [
       "2-element Array{Float64,1}:\n",
       " -0.241744\n",
       "  0.612791"
      ]
     },
     "execution_count": 29,
     "metadata": {},
     "output_type": "execute_result"
    },
    {
     "name": "stdout",
     "output_type": "stream",
     "text": [
      "0.048136 seconds (8.79 k allocations: 26.526 MB, 7.00% gc time)\n"
     ]
    }
   ],
   "source": [
    "δb=[0.00009; 0.000005]\n",
    "x1=A\\(b+δb)"
   ]
  },
  {
   "cell_type": "code",
   "execution_count": 30,
   "metadata": {
    "collapsed": false
   },
   "outputs": [
    {
     "data": {
      "text/plain": [
       "(11322.197586092605,0.0002096449170953002,0.6020311134825742)"
      ]
     },
     "execution_count": 30,
     "metadata": {},
     "output_type": "execute_result"
    }
   ],
   "source": [
    "cond(A), norm(δb)/norm(b), norm(x1-x)/norm(x)"
   ]
  },
  {
   "cell_type": "code",
   "execution_count": 31,
   "metadata": {
    "collapsed": false
   },
   "outputs": [
    {
     "data": {
      "text/plain": [
       "2-element Array{Float64,1}:\n",
       " 0.129518\n",
       " 0.423193"
      ]
     },
     "execution_count": 31,
     "metadata": {},
     "output_type": "execute_result"
    }
   ],
   "source": [
    "δA=[-0.001 0;0 0]\n",
    "x2=(A+δA)\\b"
   ]
  },
  {
   "cell_type": "code",
   "execution_count": 32,
   "metadata": {
    "collapsed": false
   },
   "outputs": [
    {
     "data": {
      "text/plain": [
       "(11322.197586092605,0.0010134105230118603,0.896804787832142)"
      ]
     },
     "execution_count": 32,
     "metadata": {},
     "output_type": "execute_result"
    }
   ],
   "source": [
    "cond(A), norm(δA)/norm(A), norm(x2-x)/norm(x)"
   ]
  },
  {
   "cell_type": "markdown",
   "metadata": {},
   "source": [
    "### Pogreška Gaussove eliminacije\n",
    "\n",
    "Prema [G. Golub and C. F. Van Loan, Matrix Computations, str. 122, poglavlje 3.3][GVL13], za izračunate faktore\n",
    "$\\hat L$ i $\\hat U$ vrijedi\n",
    "\n",
    "$$\n",
    "\\hat L\\cdot \\hat U = A+\\delta A\n",
    "$$\n",
    "\n",
    "gdje je (nejednakost se čita po elementima matrica, $\\varepsilon$ je sada točnost stroja)\n",
    "\n",
    "$$\n",
    "| \\delta A|\\leq 3(n-1) \\varepsilon (|A|+|\\hat L| \\cdot |\\hat U|) +O(n^2).\n",
    "$$\n",
    "\n",
    "Zanemarivanje člana $O(\\varepsilon^2)$ i prelazak na normu daju\n",
    "\n",
    "$$\n",
    "\\|\\delta A \\| \\approx \\leq  O(n)\\varepsilon (\\| A\\| + \\| \\hat L\\| \\cdot \\| \\hat U\\|),\n",
    "$$\n",
    "\n",
    "pa je \n",
    "\n",
    "$$\n",
    " \\frac{\\|\\delta A \\|}{\\|A\\|} \\leq O(n)\\varepsilon \\bigg(1+\\frac{\\| \\hat L\\| \\cdot \\| \\hat U\\|}{\\|A\\|}\\bigg).\n",
    "$$\n",
    "\n",
    "Ukoliko se Gaussova eliminacija radi s pivotiranjem, tada će najvjerojatnije zadnji kvocijent također biti malen \n",
    "($\\approx 1$). Također, pogreška kod rješavanja trokutastih sustava nije veća od navedene pa, uvrštavanjme u (1) slijedi \n",
    "da za relativnu pogreška izračunatog rješenja vrijedi\n",
    "\n",
    "$$\n",
    "\\frac{\\| \\hat x-x\\|}{\\| x\\|}\\leq \\kappa(A) O(n\\varepsilon).\n",
    "$$\n",
    "\n",
    "> __Ukoliko je kondicija matrice velika, rješenje može biti netočno.__"
   ]
  },
  {
   "cell_type": "code",
   "execution_count": 33,
   "metadata": {
    "collapsed": false
   },
   "outputs": [
    {
     "data": {
      "text/plain": [
       "10-element Array{Float64,1}:\n",
       " 0.47599 \n",
       " 0.559261\n",
       " 0.328928\n",
       " 0.897325\n",
       " 0.425351\n",
       " 0.478643\n",
       " 0.258632\n",
       " 0.834128\n",
       " 0.183083\n",
       " 0.387216"
      ]
     },
     "execution_count": 33,
     "metadata": {},
     "output_type": "execute_result"
    }
   ],
   "source": [
    "n=10\n",
    "v=rand(n)"
   ]
  },
  {
   "cell_type": "code",
   "execution_count": 34,
   "metadata": {
    "collapsed": false
   },
   "outputs": [
    {
     "data": {
      "text/plain": [
       "10x10 Array{Float64,2}:\n",
       " 1.0         1.0         1.0          …  1.0       1.0          1.0        \n",
       " 0.47599     0.559261    0.328928        0.834128  0.183083     0.387216   \n",
       " 0.226567    0.312773    0.108194        0.695769  0.0335195    0.149936   \n",
       " 0.107843    0.174922    0.035588        0.580361  0.00613685   0.0580578  \n",
       " 0.0513324   0.0978272   0.0117059       0.484095  0.00112355   0.0224809  \n",
       " 0.0244337   0.0547109   0.0038504    …  0.403797  0.000205704  0.00870498 \n",
       " 0.0116302   0.0305977   0.00126651      0.336819  3.76609e-5   0.00337071 \n",
       " 0.00553587  0.0171121   0.00041659      0.28095   6.89508e-6   0.00130519 \n",
       " 0.00263502  0.00957015  0.000137028     0.234348  1.26237e-6   0.000505392\n",
       " 0.00125424  0.00535222  4.50725e-5      0.195476  2.3112e-7    0.000195696"
      ]
     },
     "execution_count": 34,
     "metadata": {},
     "output_type": "execute_result"
    }
   ],
   "source": [
    "A=Array(Float64,n,n)\n",
    "for i=1:n\n",
    "    A[:,i]=v.^(i-1)\n",
    "end\n",
    "A=A'"
   ]
  },
  {
   "cell_type": "code",
   "execution_count": 35,
   "metadata": {
    "collapsed": false
   },
   "outputs": [
    {
     "data": {
      "text/plain": [
       "10-element Array{Float64,1}:\n",
       " 0.553354 \n",
       " 0.847866 \n",
       " 0.0578554\n",
       " 0.32206  \n",
       " 0.758364 \n",
       " 0.260547 \n",
       " 0.0155135\n",
       " 0.578822 \n",
       " 0.148934 \n",
       " 0.517928 "
      ]
     },
     "execution_count": 35,
     "metadata": {},
     "output_type": "execute_result"
    }
   ],
   "source": [
    "x=rand(n)"
   ]
  },
  {
   "cell_type": "code",
   "execution_count": 36,
   "metadata": {
    "collapsed": false
   },
   "outputs": [
    {
     "data": {
      "text/plain": [
       "10-element Array{Float64,1}:\n",
       " 4.06124 \n",
       " 2.20751 \n",
       " 1.33945 \n",
       " 0.896848\n",
       " 0.651413\n",
       " 0.502883\n",
       " 0.404916\n",
       " 0.335168\n",
       " 0.282392\n",
       " 0.240646"
      ]
     },
     "execution_count": 36,
     "metadata": {},
     "output_type": "execute_result"
    }
   ],
   "source": [
    "b=A*x"
   ]
  },
  {
   "cell_type": "code",
   "execution_count": 37,
   "metadata": {
    "collapsed": false
   },
   "outputs": [
    {
     "data": {
      "text/plain": [
       "5.3808151517104004e10"
      ]
     },
     "execution_count": 37,
     "metadata": {},
     "output_type": "execute_result"
    }
   ],
   "source": [
    "cond(A)"
   ]
  },
  {
   "cell_type": "code",
   "execution_count": 38,
   "metadata": {
    "collapsed": false
   },
   "outputs": [
    {
     "data": {
      "text/plain": [
       "10-element Array{Float64,1}:\n",
       " 0.553354 \n",
       " 0.847866 \n",
       " 0.0578554\n",
       " 0.32206  \n",
       " 0.758364 \n",
       " 0.260547 \n",
       " 0.0155135\n",
       " 0.578822 \n",
       " 0.148934 \n",
       " 0.517928 "
      ]
     },
     "execution_count": 38,
     "metadata": {},
     "output_type": "execute_result"
    }
   ],
   "source": [
    "x1=A\\b"
   ]
  },
  {
   "cell_type": "code",
   "execution_count": 39,
   "metadata": {
    "collapsed": false
   },
   "outputs": [
    {
     "data": {
      "text/plain": [
       "1.6509389310821128e-7"
      ]
     },
     "execution_count": 39,
     "metadata": {},
     "output_type": "execute_result"
    }
   ],
   "source": [
    "norm(x1-x)/norm(x)"
   ]
  },
  {
   "cell_type": "code",
   "execution_count": null,
   "metadata": {
    "collapsed": true
   },
   "outputs": [],
   "source": []
  }
 ],
 "metadata": {
  "kernelspec": {
   "display_name": "Julia 0.4.0",
   "language": "julia",
   "name": "julia-0.4"
  },
  "language_info": {
   "file_extension": ".jl",
   "mimetype": "application/julia",
   "name": "julia",
   "version": "0.4.0"
  }
 },
 "nbformat": 4,
 "nbformat_minor": 0
}
