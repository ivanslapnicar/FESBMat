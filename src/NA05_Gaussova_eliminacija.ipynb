{
 "cells": [
  {
   "cell_type": "markdown",
   "metadata": {},
   "source": [
    "# Gaussova eliminacija"
   ]
  },
  {
   "cell_type": "markdown",
   "metadata": {},
   "source": [
    "## Općenito\n",
    "\n",
    "Sustav $Ax=b$ se rješava u tri koraka (__bez pivotiranja__)\n",
    "\n",
    "1. $A=LU$ (LU rastav, $O(\\frac{2}{3}n^3)$ operacija)\n",
    "2. $Ly=b$ (donje trokutrasti sustav, $n^2$ operacija)\n",
    "3. $Ux=y$ (gornje torkutasti sustav, $n^2$ operacija)\n",
    "\n",
    "Ukoliko pivotiramo, tada je\n",
    "\n",
    "1. $PA=LU$ \n",
    "2. $Ly=P^T b$\n",
    "3. $Ux=y$ "
   ]
  },
  {
   "cell_type": "markdown",
   "metadata": {},
   "source": [
    "## LU rastav"
   ]
  },
  {
   "cell_type": "code",
   "execution_count": 1,
   "metadata": {
    "collapsed": false
   },
   "outputs": [
    {
     "data": {
      "text/plain": [
       "mylu (generic function with 1 method)"
      ]
     },
     "execution_count": 1,
     "metadata": {},
     "output_type": "execute_result"
    }
   ],
   "source": [
    "function mylu{T}(A1::Array{T}) # Strang, page 100\n",
    "    A=deepcopy(A1)\n",
    "    n,m=size(A)\n",
    "    U=map(Float64,[zero(A[1,1]) for i=1:n, j=1:n]) # This acccepts blocks and numbers\n",
    "    L=map(Float64,[zero(A[1,1]) for i=1:n, j=1:n])\n",
    "    for k=1:n\n",
    "        L[k,k]=one(A[1,1])\n",
    "        for i=k+1:n\n",
    "            L[i,k]=A[i,k]/A[k,k]\n",
    "            for j=k+1:n\n",
    "                A[i,j]=A[i,j]-L[i,k]*A[k,j]\n",
    "            end\n",
    "        end\n",
    "        for j=k:n\n",
    "            U[k,j]=A[k,j]\n",
    "        end\n",
    "    end\n",
    "    L,U\n",
    "end"
   ]
  },
  {
   "cell_type": "code",
   "execution_count": 2,
   "metadata": {
    "collapsed": false
   },
   "outputs": [
    {
     "data": {
      "text/plain": [
       "6x6 Array{Float64,2}:\n",
       " 0.0286382  0.996928   0.419462   0.851321   0.376926  0.306283 \n",
       " 0.491405   0.266544   0.656151   0.413214   0.934482  0.379227 \n",
       " 0.793622   0.690088   0.334575   0.0426215  0.681999  0.526546 \n",
       " 0.983122   0.0377224  0.639114   0.965501   0.808232  0.812517 \n",
       " 0.277411   0.64395    0.832936   0.313845   0.497412  0.0829397\n",
       " 0.228316   0.0805823  0.0929685  0.379679   0.764184  0.807339 "
      ]
     },
     "execution_count": 2,
     "metadata": {},
     "output_type": "execute_result"
    }
   ],
   "source": [
    "A=rand(6,6)\n",
    "# A=[2.0 2;3 4]"
   ]
  },
  {
   "cell_type": "code",
   "execution_count": 3,
   "metadata": {
    "collapsed": false
   },
   "outputs": [
    {
     "data": {
      "text/plain": [
       "(\n",
       "6x6 Array{Float64,2}:\n",
       "  1.0      0.0        0.0        0.0        0.0      0.0\n",
       " 17.1591   1.0        0.0        0.0        0.0      0.0\n",
       " 27.712    1.59959    1.0        0.0        0.0      0.0\n",
       " 34.329    2.03006    0.582492   1.0        0.0      0.0\n",
       "  9.68675  0.535223  -0.327895  -0.584029   1.0      0.0\n",
       "  7.97243  0.467188   0.236195   0.404056  -1.00315  1.0,\n",
       "\n",
       "6x6 Array{Float64,2}:\n",
       " 0.0286382    0.996928   0.419462    0.851321   0.376926   0.306283\n",
       " 0.0        -16.8398    -6.54142   -14.1946    -5.53322   -4.8763  \n",
       " 0.0          0.0       -0.825962   -0.843559  -0.912501  -0.161085\n",
       " 0.0          0.0        0.0         1.04787   -0.36698    0.291144\n",
       " 0.0          0.0        0.0         0.0       -0.705807  -0.156823\n",
       " 0.0          0.0        0.0         0.0        0.0        0.406761)"
      ]
     },
     "execution_count": 3,
     "metadata": {},
     "output_type": "execute_result"
    }
   ],
   "source": [
    "L,U=mylu(A)"
   ]
  },
  {
   "cell_type": "code",
   "execution_count": 4,
   "metadata": {
    "collapsed": false
   },
   "outputs": [
    {
     "data": {
      "text/plain": [
       "6x6 Array{Float64,2}:\n",
       " 0.0   0.0           0.0           0.0           0.0           0.0        \n",
       " 0.0  -1.11022e-15   2.22045e-16   0.0          -4.44089e-16  -4.44089e-16\n",
       " 0.0   6.66134e-16  -2.22045e-16  -1.33227e-15  -4.44089e-16   4.44089e-16\n",
       " 0.0  -9.32587e-15  -4.44089e-16  -1.11022e-15   1.11022e-16   2.22045e-16\n",
       " 0.0  -8.88178e-16  -2.22045e-16   2.22045e-16   1.11022e-16   0.0        \n",
       " 0.0   2.22045e-16   0.0           0.0           0.0           1.11022e-16"
      ]
     },
     "execution_count": 4,
     "metadata": {},
     "output_type": "execute_result"
    }
   ],
   "source": [
    "L*U-A"
   ]
  },
  {
   "cell_type": "markdown",
   "metadata": {},
   "source": [
    "## Trokutasti sustavi"
   ]
  },
  {
   "cell_type": "code",
   "execution_count": 5,
   "metadata": {
    "collapsed": false
   },
   "outputs": [
    {
     "data": {
      "text/plain": [
       "myL (generic function with 1 method)"
      ]
     },
     "execution_count": 5,
     "metadata": {},
     "output_type": "execute_result"
    }
   ],
   "source": [
    "function myU{T}(U::Array{T},b1::Array{T})\n",
    "    b=deepcopy(b1)\n",
    "    n=length(b)\n",
    "    for i=n:-1:1\n",
    "       for j=n:-1:i+1\n",
    "            b[i]=b[i]-U[i,j]*b[j]\n",
    "       end\n",
    "        b[i]=b[i]/U[i,i]\n",
    "    end\n",
    "    b\n",
    "end\n",
    "\n",
    "function myL{T}(L::Array{T},b1::Array{T})\n",
    "    b=deepcopy(b1)\n",
    "    n=length(b)\n",
    "    for i=1:n\n",
    "        for j=1:i-1\n",
    "            b[i]=b[i]-L[i,j]*b[j]\n",
    "        end\n",
    "        b[i]=b[i]/L[i,i]\n",
    "    end\n",
    "    b\n",
    "end"
   ]
  },
  {
   "cell_type": "code",
   "execution_count": 6,
   "metadata": {
    "collapsed": false
   },
   "outputs": [
    {
     "data": {
      "text/plain": [
       "6-element Array{Float64,1}:\n",
       " 0.00973218\n",
       " 0.641216  \n",
       " 0.838202  \n",
       " 0.00588544\n",
       " 0.196349  \n",
       " 0.578017  "
      ]
     },
     "execution_count": 6,
     "metadata": {},
     "output_type": "execute_result"
    }
   ],
   "source": [
    "b=rand(6)"
   ]
  },
  {
   "cell_type": "code",
   "execution_count": 7,
   "metadata": {
    "collapsed": false
   },
   "outputs": [
    {
     "data": {
      "text/plain": [
       "6-element Array{Float64,1}:\n",
       "  0.0725106\n",
       "  0.333818 \n",
       " -0.59867  \n",
       " -0.585785 \n",
       "  1.3375   \n",
       " -0.259456 "
      ]
     },
     "execution_count": 7,
     "metadata": {},
     "output_type": "execute_result"
    }
   ],
   "source": [
    "x=A\\b"
   ]
  },
  {
   "cell_type": "code",
   "execution_count": 8,
   "metadata": {
    "collapsed": false
   },
   "outputs": [
    {
     "data": {
      "text/plain": [
       "6-element Array{Float64,1}:\n",
       "  0.00973218\n",
       "  0.474221  \n",
       " -0.190055  \n",
       " -1.1802    \n",
       " -0.903331  \n",
       " -0.105537  "
      ]
     },
     "execution_count": 8,
     "metadata": {},
     "output_type": "execute_result"
    }
   ],
   "source": [
    "y=myL(L,b)"
   ]
  },
  {
   "cell_type": "code",
   "execution_count": 9,
   "metadata": {
    "collapsed": false
   },
   "outputs": [
    {
     "data": {
      "text/plain": [
       "6-element Array{Float64,1}:\n",
       "  0.0725106\n",
       "  0.333818 \n",
       " -0.59867  \n",
       " -0.585785 \n",
       "  1.3375   \n",
       " -0.259456 "
      ]
     },
     "execution_count": 9,
     "metadata": {},
     "output_type": "execute_result"
    }
   ],
   "source": [
    "x1=myU(U,y)"
   ]
  },
  {
   "cell_type": "code",
   "execution_count": 10,
   "metadata": {
    "collapsed": false
   },
   "outputs": [
    {
     "data": {
      "text/plain": [
       "6-element Array{Float64,1}:\n",
       " -3.13638e-15\n",
       " -2.77556e-16\n",
       "  1.9984e-15 \n",
       "  4.44089e-16\n",
       " -6.43929e-15\n",
       "  4.94049e-15"
      ]
     },
     "execution_count": 10,
     "metadata": {},
     "output_type": "execute_result"
    }
   ],
   "source": [
    "x-x1"
   ]
  },
  {
   "cell_type": "markdown",
   "metadata": {},
   "source": [
    "## Brzina"
   ]
  },
  {
   "cell_type": "markdown",
   "metadata": {},
   "source": [
    "Program `mylu()` je jako spor. Između ostalog, alocira nepotrebno tri matrice.\n",
    "\n",
    "Program se može reformulirati na načun da su i $L$ i $U$ spremljene u polje $A$, pri čemu se dijagonala od $L$ ne sprema, jer su svi elementi jednaki 1."
   ]
  },
  {
   "cell_type": "code",
   "execution_count": 11,
   "metadata": {
    "collapsed": false
   },
   "outputs": [
    {
     "data": {
      "text/plain": [
       "mylu1 (generic function with 1 method)"
      ]
     },
     "execution_count": 11,
     "metadata": {},
     "output_type": "execute_result"
    }
   ],
   "source": [
    "function mylu1{T}(A1::Array{T}) # Strang, page 100\n",
    "    A=deepcopy(A1)\n",
    "    n,m=size(A)\n",
    "    for k=1:n-1\n",
    "        rho=k+1:n\n",
    "        A[rho,k]=A[rho,k]/A[k,k]\n",
    "        A[rho,rho]=A[rho,rho]-A[rho,k]*A[k,rho]\n",
    "    end\n",
    "    A\n",
    "end"
   ]
  },
  {
   "cell_type": "code",
   "execution_count": 12,
   "metadata": {
    "collapsed": false
   },
   "outputs": [
    {
     "data": {
      "text/plain": [
       "6x6 Array{Float64,2}:\n",
       "  0.0286382    0.996928   0.419462    0.851321   0.376926   0.306283\n",
       " 17.1591     -16.8398    -6.54142   -14.1946    -5.53322   -4.8763  \n",
       " 27.712        1.59959   -0.825962   -0.843559  -0.912501  -0.161085\n",
       " 34.329        2.03006    0.582492    1.04787   -0.36698    0.291144\n",
       "  9.68675      0.535223  -0.327895   -0.584029  -0.705807  -0.156823\n",
       "  7.97243      0.467188   0.236195    0.404056  -1.00315    0.406761"
      ]
     },
     "execution_count": 12,
     "metadata": {},
     "output_type": "execute_result"
    }
   ],
   "source": [
    "mylu1(A)"
   ]
  },
  {
   "cell_type": "code",
   "execution_count": 13,
   "metadata": {
    "collapsed": false
   },
   "outputs": [
    {
     "data": {
      "text/plain": [
       "(\n",
       "6x6 Array{Float64,2}:\n",
       "  1.0      0.0        0.0        0.0        0.0      0.0\n",
       " 17.1591   1.0        0.0        0.0        0.0      0.0\n",
       " 27.712    1.59959    1.0        0.0        0.0      0.0\n",
       " 34.329    2.03006    0.582492   1.0        0.0      0.0\n",
       "  9.68675  0.535223  -0.327895  -0.584029   1.0      0.0\n",
       "  7.97243  0.467188   0.236195   0.404056  -1.00315  1.0,\n",
       "\n",
       "6x6 Array{Float64,2}:\n",
       " 0.0286382    0.996928   0.419462    0.851321   0.376926   0.306283\n",
       " 0.0        -16.8398    -6.54142   -14.1946    -5.53322   -4.8763  \n",
       " 0.0          0.0       -0.825962   -0.843559  -0.912501  -0.161085\n",
       " 0.0          0.0        0.0         1.04787   -0.36698    0.291144\n",
       " 0.0          0.0        0.0         0.0       -0.705807  -0.156823\n",
       " 0.0          0.0        0.0         0.0        0.0        0.406761)"
      ]
     },
     "execution_count": 13,
     "metadata": {},
     "output_type": "execute_result"
    }
   ],
   "source": [
    "L,U"
   ]
  },
  {
   "cell_type": "markdown",
   "metadata": {},
   "source": [
    "Usporedimo brzine LAPACK-ovog programa `lu()` i našeg naivnog programa `mylu()`na većoj dimenziji. \n",
    "\n",
    "Izvedite program par puta radi točnijeg mjerenja brzine."
   ]
  },
  {
   "cell_type": "code",
   "execution_count": 14,
   "metadata": {
    "collapsed": false
   },
   "outputs": [
    {
     "data": {
      "text/plain": [
       "512x512 Array{Float64,2}:\n",
       " 0.420964   0.842604    0.00987771  …  0.0377011   0.850471   0.515657 \n",
       " 0.34277    0.217502    0.806407       0.25799     0.163236   0.69811  \n",
       " 0.102501   0.00454236  0.819973       0.903898    0.33709    0.605441 \n",
       " 0.717142   0.560323    0.0689171      0.296568    0.234182   0.974818 \n",
       " 0.970251   0.152696    0.620573       0.284084    0.0632172  0.796746 \n",
       " 0.757579   0.499103    0.56142     …  0.321354    0.687077   0.0387579\n",
       " 0.220312   0.531842    0.928252       0.777819    0.422078   0.406508 \n",
       " 0.998365   0.652645    0.677373       0.252459    0.783683   0.577668 \n",
       " 0.139444   0.129599    0.1195         0.242708    0.805566   0.952466 \n",
       " 0.663471   0.287256    0.592841       0.824083    0.627295   0.544591 \n",
       " 0.177768   0.959652    0.776663    …  0.95663     0.584324   0.901959 \n",
       " 0.127012   0.110917    0.0487915      0.398639    0.418546   0.168855 \n",
       " 0.8671     0.804874    0.605825       0.329196    0.444365   0.272595 \n",
       " ⋮                                  ⋱              ⋮                   \n",
       " 0.831184   0.623983    0.374521    …  0.734719    0.135502   0.837216 \n",
       " 0.0709766  0.562899    0.330469       0.613083    0.278937   0.765045 \n",
       " 0.457773   0.650871    0.724838       0.0788874   0.165727   0.39678  \n",
       " 0.082502   0.639804    0.168387       0.736423    0.657528   0.269161 \n",
       " 0.137803   0.461979    0.836678       0.226763    0.78912    0.141934 \n",
       " 0.78555    0.294854    0.103661    …  0.312482    0.547281   0.18101  \n",
       " 0.501658   0.252198    0.657999       0.162817    0.289636   0.938508 \n",
       " 0.295079   0.223305    0.878989       0.732038    0.126968   0.73795  \n",
       " 0.161349   0.457914    0.819535       0.478797    0.870831   0.694722 \n",
       " 0.366342   0.47787     0.6605         0.103413    0.816285   0.127505 \n",
       " 0.152604   0.788873    0.145806    …  0.00295091  0.744179   0.555464 \n",
       " 0.359212   0.620759    0.816042       0.543452    0.696724   0.0272525"
      ]
     },
     "execution_count": 14,
     "metadata": {},
     "output_type": "execute_result"
    }
   ],
   "source": [
    "n=512\n",
    "A=rand(n,n)"
   ]
  },
  {
   "cell_type": "code",
   "execution_count": 15,
   "metadata": {
    "collapsed": false
   },
   "outputs": [
    {
     "name": "stdout",
     "output_type": "stream",
     "text": [
      "  "
     ]
    }
   ],
   "source": [
    "@time lu(A);"
   ]
  },
  {
   "cell_type": "code",
   "execution_count": 16,
   "metadata": {
    "collapsed": false
   },
   "outputs": [
    {
     "name": "stdout",
     "output_type": "stream",
     "text": [
      "0.156163 seconds (177.58 k allocations: 14.420 MB, 2.91% gc time)\n",
      "  "
     ]
    }
   ],
   "source": [
    "@time mylu1(A);"
   ]
  },
  {
   "cell_type": "markdown",
   "metadata": {},
   "source": [
    "### Blok varijanta\n",
    "\n",
    "`mylu()` je nekoliko desetaka puta sporiji. `mylu1()` je malo sporiji.\n",
    "\n",
    "Probajmo s blokovima:\n",
    "\n",
    "Preradimo `mylu1()` za rad s blokovima (nemamo ugrađeno pivotiranje!)"
   ]
  },
  {
   "cell_type": "code",
   "execution_count": 17,
   "metadata": {
    "collapsed": false
   },
   "outputs": [
    {
     "data": {
      "text/plain": [
       "mylu2 (generic function with 1 method)"
      ]
     },
     "execution_count": 17,
     "metadata": {},
     "output_type": "execute_result"
    }
   ],
   "source": [
    "function mylu2{T}(A1::Array{T}) # Strang, page 100\n",
    "    A=deepcopy(A1)\n",
    "    n,m=size(A)\n",
    "    for k=1:n-1\n",
    "        for rho=k+1:n\n",
    "            A[rho,k]=A[rho,k]/A[k,k]\n",
    "            for l=k+1:n\n",
    "                A[rho,l]=A[rho,l]-A[rho,k]*A[k,l]\n",
    "            end\n",
    "        end\n",
    "    end\n",
    "    A\n",
    "end"
   ]
  },
  {
   "cell_type": "markdown",
   "metadata": {},
   "source": [
    "Napravimo prvo mali test:"
   ]
  },
  {
   "cell_type": "code",
   "execution_count": 18,
   "metadata": {
    "collapsed": false
   },
   "outputs": [],
   "source": [
    "# Probajte k,l=32,16 i k,l=64,8\n",
    "k,l=4,4\n",
    "Ab=[rand(k,k) for i=1:l, j=1:l];"
   ]
  },
  {
   "cell_type": "code",
   "execution_count": 19,
   "metadata": {
    "collapsed": false
   },
   "outputs": [
    {
     "data": {
      "text/plain": [
       "4x4 Array{Any,2}:\n",
       " 4x4 Array{Float64,2}:\n",
       " 0.980802  0.0139078  0.431553   0.539358\n",
       " 0.904431  0.395608   0.0848852  0.683929\n",
       " 0.807037  0.203334   0.708745   0.323855\n",
       " 0.222566  0.540591   0.760389   0.232899              …  4x4 Array{Float64,2}:\n",
       " 0.512     0.0663652  0.883554  0.913826\n",
       " 0.57078   0.225595   0.356429  0.86303 \n",
       " 0.995059  0.248058   0.462482  0.2388  \n",
       " 0.875004  0.544303   0.871858  0.585355                \n",
       " 4x4 Array{Float64,2}:\n",
       "  0.230729   0.639786  -0.103634    0.85274 \n",
       " -1.8426     0.814709   2.71627    -1.28311 \n",
       " -0.0203742  0.329107  -0.0236792   0.519537\n",
       "  0.934637   1.13836   -2.07375     1.58295      4x4 Array{Float64,2}:\n",
       " -0.367953  -0.0941262  -1.08854  -0.32616 \n",
       " -0.27383    0.81178     2.13082   1.09918 \n",
       " -0.140088  -0.282747    0.29729   0.346121\n",
       "  0.239581   0.0351531  -1.47019  -2.23079     \n",
       " 4x4 Array{Float64,2}:\n",
       "  2.04505    -0.253828  -2.35392    1.7226  \n",
       "  3.95954    -0.502491  -5.03649    3.11375 \n",
       " -0.467458    0.609575   0.979375  -0.178589\n",
       "  0.0563669   0.933972  -1.03086    1.13034      4x4 Array{Float64,2}:\n",
       "  0.477224   0.740939  -2.15157   -2.33779 \n",
       "  0.439117   1.52022   -1.55168   -2.14128 \n",
       " -0.52516   -0.227646  -0.87911    0.316221\n",
       "  0.834287  -0.734882  -0.130171  -0.111297    \n",
       " 4x4 Array{Float64,2}:\n",
       "  0.701526    1.19434   -2.35585   1.77955  \n",
       "  0.744158    0.628693  -1.72371   1.32854  \n",
       "  4.52947    -1.15646   -4.84013   3.29777  \n",
       " -0.0646158  -0.19995    0.883934  0.0979242     4x4 Array{Float64,2}:\n",
       " -0.678471     5.70251  -2.56666    -4.59116\n",
       "  0.248067     7.76016   4.29235    -3.68238\n",
       " -0.96387    -10.0421    0.0778795   7.1627 \n",
       " -0.0866416   -4.95735  -0.766114    3.68145"
      ]
     },
     "execution_count": 19,
     "metadata": {},
     "output_type": "execute_result"
    },
    {
     "name": "stdout",
     "output_type": "stream",
     "text": [
      "0.404228 seconds (17.26 k allocations: 1.004 GB, 9.24% gc time)\n"
     ]
    }
   ],
   "source": [
    "A0=mylu2(Ab)"
   ]
  },
  {
   "cell_type": "code",
   "execution_count": 20,
   "metadata": {
    "collapsed": false
   },
   "outputs": [],
   "source": [
    "# Provjera\n",
    "U=triu(A0)\n",
    "L=tril(A0)\n",
    "for i=1:maximum(size(L))\n",
    "    L[i,i]=eye(L[1,1])\n",
    "end"
   ]
  },
  {
   "cell_type": "code",
   "execution_count": 21,
   "metadata": {
    "collapsed": false
   },
   "outputs": [
    {
     "data": {
      "text/plain": [
       "4x4 Array{Any,2}:\n",
       " 4x4 Array{Float64,2}:\n",
       " 0.0  0.0  0.0  0.0\n",
       " 0.0  0.0  0.0  0.0\n",
       " 0.0  0.0  0.0  0.0\n",
       " 0.0  0.0  0.0  0.0                                                                                                                                              …  4x4 Array{Float64,2}:\n",
       " 0.0  0.0  0.0  0.0\n",
       " 0.0  0.0  0.0  0.0\n",
       " 0.0  0.0  0.0  0.0\n",
       " 0.0  0.0  0.0  0.0                                                                                                                                            \n",
       " 4x4 Array{Float64,2}:\n",
       " 0.0  1.11022e-16   0.0          -1.11022e-16\n",
       " 0.0  1.11022e-16  -3.33067e-16  -5.55112e-17\n",
       " 0.0  0.0           5.55112e-17   0.0        \n",
       " 0.0  0.0          -1.11022e-16   0.0                                                 4x4 Array{Float64,2}:\n",
       " 0.0  0.0   0.0          0.0\n",
       " 0.0  0.0  -2.22045e-16  0.0\n",
       " 0.0  0.0   0.0          0.0\n",
       " 0.0  0.0   0.0          0.0                                                                                                        \n",
       " 4x4 Array{Float64,2}:\n",
       "  1.66533e-16  0.0          -1.11022e-16   1.11022e-16\n",
       " -2.22045e-16  2.22045e-16  -2.22045e-16   1.11022e-16\n",
       "  1.11022e-16  5.55112e-17  -1.11022e-16  -1.11022e-16\n",
       " -5.55112e-17  0.0           0.0          -1.11022e-16     4x4 Array{Float64,2}:\n",
       " 0.0  0.0  2.22045e-16  -2.22045e-16\n",
       " 0.0  0.0  2.22045e-16  -4.44089e-16\n",
       " 0.0  0.0  0.0           1.11022e-16\n",
       " 0.0  0.0  0.0           0.0                                                                                \n",
       " 4x4 Array{Float64,2}:\n",
       " -2.22045e-16  1.11022e-16  0.0          1.11022e-16\n",
       " -5.55112e-17  0.0          1.11022e-16  0.0        \n",
       " -1.11022e-16  2.22045e-16  4.44089e-16  1.11022e-16\n",
       "  0.0          0.0          0.0          0.0                     4x4 Array{Float64,2}:\n",
       " 0.0           4.44089e-16   0.0           2.22045e-16\n",
       " 0.0           0.0          -2.22045e-16  -2.22045e-16\n",
       " 1.11022e-16  -4.44089e-16   0.0          -4.44089e-16\n",
       " 0.0           4.44089e-16   0.0          -2.22045e-16"
      ]
     },
     "execution_count": 21,
     "metadata": {},
     "output_type": "execute_result"
    }
   ],
   "source": [
    "Res=L*U-Ab"
   ]
  },
  {
   "cell_type": "code",
   "execution_count": 22,
   "metadata": {
    "collapsed": false
   },
   "outputs": [
    {
     "data": {
      "text/plain": [
       "unblock (generic function with 1 method)"
      ]
     },
     "execution_count": 22,
     "metadata": {},
     "output_type": "execute_result"
    }
   ],
   "source": [
    "# pretvaranje blok matrice u obicnu\n",
    "unblock(A) = mapreduce(identity, hcat, [mapreduce(identity, vcat, A[:,i]) for i = 1:size(A,2)])"
   ]
  },
  {
   "cell_type": "code",
   "execution_count": 23,
   "metadata": {
    "collapsed": false
   },
   "outputs": [
    {
     "data": {
      "text/plain": [
       "1.2223255408216555e-15"
      ]
     },
     "execution_count": 23,
     "metadata": {},
     "output_type": "execute_result"
    }
   ],
   "source": [
    "norm(unblock(Res))"
   ]
  },
  {
   "cell_type": "markdown",
   "metadata": {},
   "source": [
    "Sada probajmo veću dimenziju:"
   ]
  },
  {
   "cell_type": "code",
   "execution_count": 24,
   "metadata": {
    "collapsed": true
   },
   "outputs": [],
   "source": [
    "# Probajmo vece dimenzije (n=k*l)\n",
    "k,l=32,16\n",
    "Ab=[rand(k,k) for i=1:l, j=1:l];"
   ]
  },
  {
   "cell_type": "code",
   "execution_count": 25,
   "metadata": {
    "collapsed": false
   },
   "outputs": [
    {
     "name": "stdout",
     "output_type": "stream",
     "text": [
      "  "
     ]
    }
   ],
   "source": [
    "@time mylu2(Ab);"
   ]
  },
  {
   "cell_type": "markdown",
   "metadata": {},
   "source": [
    "Vidimo da je `mylu2()` gotovo jednako brz kao `lu()`, uz napomenu da `mylu2()` nema ugrađeno pivotiranje. "
   ]
  },
  {
   "cell_type": "markdown",
   "metadata": {},
   "source": [
    "## Pivotiranje\n",
    "\n",
    "Stanardne implementacije uvijek računaju Gaussovu eliminaciju s _parcijalnim pivotiranjem_:\n",
    "\n",
    "> u svakom koraku se retci pivotiranju tako da pivotni element ima najveću apsolutnu vrijednst u danom stupcu. Na taj \n",
    "> način je \n",
    "> \n",
    "> $$|L_{ij}| \\leq 1,$$\n",
    "> što u praksi dovoljno spriječava rast elemenata.\n"
   ]
  },
  {
   "cell_type": "code",
   "execution_count": 26,
   "metadata": {
    "collapsed": false
   },
   "outputs": [
    {
     "data": {
      "text/plain": [
       "(\n",
       "5x5 Array{Float64,2}:\n",
       " 1.0         0.0        0.0         0.0       0.0\n",
       " 0.0477668   1.0        0.0         0.0       0.0\n",
       " 0.766207   -0.871317   1.0         0.0       0.0\n",
       " 0.927159    0.113133  -0.216876    1.0       0.0\n",
       " 0.887795    0.515538  -0.0408529  -0.219176  1.0,\n",
       "\n",
       "5x5 Array{Float64,2}:\n",
       " 0.764691  0.753711  0.369407  0.236753  0.0825824\n",
       " 0.0       0.611039  0.817107  0.720657  0.196987 \n",
       " 0.0       0.0       1.13232   0.981444  0.616188 \n",
       " 0.0       0.0       0.0       0.569025  0.775278 \n",
       " 0.0       0.0       0.0       0.0       0.276186 ,\n",
       "\n",
       "[5,4,1,3,2])"
      ]
     },
     "execution_count": 26,
     "metadata": {},
     "output_type": "execute_result"
    }
   ],
   "source": [
    "A=rand(5,5)\n",
    "L,U,P=lu(A)"
   ]
  },
  {
   "cell_type": "code",
   "execution_count": 27,
   "metadata": {
    "collapsed": false
   },
   "outputs": [
    {
     "name": "stdout",
     "output_type": "stream",
     "text": [
      "0.057176 seconds (8.79 k allocations: 26.526 MB, 6.73% gc time)\n"
     ]
    },
    {
     "data": {
      "text/plain": [
       "5x5 Array{Float64,2}:\n",
       " 0.0  0.0   0.0          0.0  0.0\n",
       " 0.0  0.0   0.0          0.0  0.0\n",
       " 0.0  0.0  -1.11022e-16  0.0  0.0\n",
       " 0.0  0.0   0.0          0.0  0.0\n",
       " 0.0  0.0   0.0          0.0  0.0"
      ]
     },
     "execution_count": 27,
     "metadata": {},
     "output_type": "execute_result"
    }
   ],
   "source": [
    "L*U-A[P,:]"
   ]
  },
  {
   "cell_type": "markdown",
   "metadata": {},
   "source": [
    "### Potpuno pivotiranje\n",
    "\n",
    "Sljedeći program računa Gaussovu eliminaciju s _potpunim pivotiranjem_ - u svakom koraku retci i stupci zamijene na način da se na pivotnu poziciju dovede element koji ima najveću apsolutnu vrijednost u trenutnoj podmatrici."
   ]
  },
  {
   "cell_type": "code",
   "execution_count": 28,
   "metadata": {
    "collapsed": false
   },
   "outputs": [
    {
     "data": {
      "text/plain": [
       "gecp (generic function with 1 method)"
      ]
     },
     "execution_count": 28,
     "metadata": {},
     "output_type": "execute_result"
    }
   ],
   "source": [
    "function gecp{T}(A1::Array{T})\n",
    "    # Gaussova eliminacija s potpunim pivotiranjem\n",
    "    # Izlaz: Pr*L*U*Pc'=A ili Pr'*A*Pc=L*U\n",
    "    A=deepcopy(A1)\n",
    "    n,m=size(A)\n",
    "    Pr=eye(n,n)\n",
    "    Pc=eye(n,n)\n",
    "    D=zeros(n)\n",
    "    for i=1:n-1\n",
    "        am1,im1=findmax(abs(A[i:n,i:n]),1)\n",
    "        am,JJ=findmax(am1)\n",
    "        II=mod(im1[JJ],(n-i+1))\n",
    "        if II==0\n",
    "            II=n-i+1\n",
    "        end\n",
    "        imax=II+i-1\n",
    "        jmax=JJ+i-1\n",
    "        #  zamijena redaka\n",
    "        if (imax != i)\n",
    "            temp = Pr[:,i]\n",
    "            Pr[:,i] = Pr[:,imax]\n",
    "            Pr[:,imax] = temp\n",
    "            temp = A[i,:]\n",
    "            A[i,:] = A[imax,:]\n",
    "            A[imax,:] = temp\n",
    "        end\n",
    "        # zamijena stupaca\n",
    "        if (jmax != i)\n",
    "            temp = Pc[:,i]\n",
    "            Pc[:,i] = Pc[:,jmax]\n",
    "            Pc[:,jmax] = temp\n",
    "            temp = A[:,i]\n",
    "            A[:,i] = A[:,jmax]\n",
    "            A[:,jmax] = temp\n",
    "        end\n",
    "        # eliminacija\n",
    "        D[i]=A[i,i]\n",
    "        A[i+1:n,i] = A[i+1:n,i]/D[i]\n",
    "        A[i+1:n,i+1:n] = A[i+1:n,i+1:n] - A[i+1:n,i]*A[i,i+1:n]\n",
    "        A[i,i+1:n]=A[i,i+1:n]/D[i]\n",
    "    end\n",
    "    D[n]=A[n,n]\n",
    "    L=eye(n,n)+tril(A,-1)\n",
    "    U=eye(n,n)+triu(A,1)\n",
    "    U=diagm(D)*U\n",
    "    L,U,Pr,Pc\n",
    "end"
   ]
  },
  {
   "cell_type": "code",
   "execution_count": 29,
   "metadata": {
    "collapsed": false
   },
   "outputs": [
    {
     "data": {
      "text/plain": [
       "5-element Array{Float64,1}:\n",
       " 0.25267 \n",
       " 0.812403\n",
       " 0.815209\n",
       " 0.457422\n",
       " 0.358541"
      ]
     },
     "execution_count": 29,
     "metadata": {},
     "output_type": "execute_result"
    }
   ],
   "source": [
    "n=5\n",
    "A=rand(n,n)\n",
    "b=rand(n)"
   ]
  },
  {
   "cell_type": "code",
   "execution_count": 30,
   "metadata": {
    "collapsed": false
   },
   "outputs": [
    {
     "data": {
      "text/plain": [
       "(\n",
       "5x5 Array{Float64,2}:\n",
       " 1.0        0.0       0.0       0.0       0.0\n",
       " 0.0351423  1.0       0.0       0.0       0.0\n",
       " 0.692114   0.731753  1.0       0.0       0.0\n",
       " 0.320083   0.479005  0.28299   1.0       0.0\n",
       " 0.32043    0.58712   0.41791  -0.204042  1.0,\n",
       "\n",
       "5x5 Array{Float64,2}:\n",
       " 0.907666  0.418957   0.61279    0.341787   0.153519 \n",
       " 0.0       0.679073   0.5851     0.469467   0.187559 \n",
       " 0.0       0.0       -0.594571  -0.216837   0.504112 \n",
       " 0.0       0.0        0.0        0.446352  -0.0220349\n",
       " 0.0       0.0        0.0        0.0       -0.236912 ,\n",
       "\n",
       "5x5 Array{Float64,2}:\n",
       " 0.0  0.0  1.0  0.0  0.0\n",
       " 0.0  0.0  0.0  0.0  1.0\n",
       " 0.0  1.0  0.0  0.0  0.0\n",
       " 1.0  0.0  0.0  0.0  0.0\n",
       " 0.0  0.0  0.0  1.0  0.0,\n",
       "\n",
       "5x5 Array{Float64,2}:\n",
       " 0.0  1.0  0.0  0.0  0.0\n",
       " 0.0  0.0  0.0  1.0  0.0\n",
       " 0.0  0.0  1.0  0.0  0.0\n",
       " 0.0  0.0  0.0  0.0  1.0\n",
       " 1.0  0.0  0.0  0.0  0.0)"
      ]
     },
     "execution_count": 30,
     "metadata": {},
     "output_type": "execute_result"
    }
   ],
   "source": [
    "L,U,Pr,Pc=gecp(A)"
   ]
  },
  {
   "cell_type": "code",
   "execution_count": 31,
   "metadata": {
    "collapsed": false
   },
   "outputs": [
    {
     "data": {
      "text/plain": [
       "5x5 Array{Float64,2}:\n",
       " 0.0  0.0  0.0   0.0          0.0\n",
       " 0.0  0.0  0.0   5.55112e-17  0.0\n",
       " 0.0  0.0  0.0  -2.77556e-17  0.0\n",
       " 0.0  0.0  0.0   0.0          0.0\n",
       " 0.0  0.0  0.0   0.0          0.0"
      ]
     },
     "execution_count": 31,
     "metadata": {},
     "output_type": "execute_result"
    }
   ],
   "source": [
    "Pr*L*U*Pc'-A"
   ]
  },
  {
   "cell_type": "code",
   "execution_count": 32,
   "metadata": {
    "collapsed": false
   },
   "outputs": [
    {
     "data": {
      "text/plain": [
       "5-element Array{Float64,1}:\n",
       "  0.457422 \n",
       "  0.799134 \n",
       " -0.648688 \n",
       "  0.0129112\n",
       "  0.470371 "
      ]
     },
     "execution_count": 32,
     "metadata": {},
     "output_type": "execute_result"
    }
   ],
   "source": [
    "y=myL(L,Pr'*b)"
   ]
  },
  {
   "cell_type": "code",
   "execution_count": 33,
   "metadata": {
    "collapsed": false
   },
   "outputs": [
    {
     "data": {
      "text/plain": [
       "5-element Array{Float64,1}:\n",
       "  0.204772 \n",
       "  2.2616   \n",
       " -0.567144 \n",
       " -0.0690878\n",
       " -1.98542  "
      ]
     },
     "execution_count": 33,
     "metadata": {},
     "output_type": "execute_result"
    }
   ],
   "source": [
    "z=myU(U,y)"
   ]
  },
  {
   "cell_type": "code",
   "execution_count": 34,
   "metadata": {
    "collapsed": false
   },
   "outputs": [
    {
     "data": {
      "text/plain": [
       "5-element Array{Float64,1}:\n",
       "  2.2616   \n",
       " -0.0690878\n",
       " -0.567144 \n",
       " -1.98542  \n",
       "  0.204772 "
      ]
     },
     "execution_count": 34,
     "metadata": {},
     "output_type": "execute_result"
    }
   ],
   "source": [
    "x=Pc*z"
   ]
  },
  {
   "cell_type": "code",
   "execution_count": 35,
   "metadata": {
    "collapsed": false
   },
   "outputs": [
    {
     "data": {
      "text/plain": [
       "5-element Array{Float64,1}:\n",
       " -2.22045e-16\n",
       " -1.11022e-16\n",
       " -2.22045e-16\n",
       "  5.55112e-17\n",
       "  0.0        "
      ]
     },
     "execution_count": 35,
     "metadata": {},
     "output_type": "execute_result"
    }
   ],
   "source": [
    "A*x-b"
   ]
  },
  {
   "cell_type": "markdown",
   "metadata": {},
   "source": [
    "## Točnost\n",
    "\n",
    "Neka je zadan sustav $Ax=b$, pri čemu je matrica $A$ regularna.\n",
    "\n",
    "Da bi primijenili koncepte iz bilježnice [NA04_Pogreska_unatrag_i stabilni_algoritmi](NA04_Pogreska_unatrag_i_stabilni_algoritmi.ipynb), potrebno je:\n",
    "\n",
    "1. napraviti teoriju smetnje za dani problem\n",
    "2. analizirati pogreške algoritma (Gaussove eliminacije)\n",
    "\n",
    "### Teorija smetnje\n",
    "\n",
    "Neka je \n",
    "\n",
    "$$\n",
    "(A+\\delta A)\\hat x=(b+\\delta b)\n",
    "$$\n",
    "za neki $\\hat x=x+\\delta x$.\n",
    "\n",
    "Želimo ocijeniti \n",
    "$$\n",
    "\\frac{\\| \\hat x - x \\|}{\\| x\\|} \\equiv \\frac{\\| \\delta x\\|}{\\| x\\|}.\n",
    "$$\n",
    "\n",
    "Uvedimo oznake (npr. prema [G. Golub and C. F. Van Loan, Matrix Computations, str. 87, poglavlje 2.6.2][GVL13])\n",
    "\n",
    "$$\n",
    "\\delta A=\\varepsilon F, \\quad \\delta b=\\varepsilon f, \\qquad \\hat x=x(\\varepsilon),\n",
    "$$\n",
    "čime smo dobili jednodimenzionalni problem \n",
    "\n",
    "$$\n",
    "(A+\\varepsilon F)x(\\varepsilon)=b+\\varepsilon f.\n",
    "$$\n",
    "\n",
    "za neke (nepoznate) matricu $F$ i vektor $f$. \n",
    "\n",
    "Deriviranje po $\\varepsilon$ daje\n",
    "\n",
    "$$\n",
    "Fx(\\varepsilon)+(A+\\varepsilon F)\\dot x(\\varepsilon)=f.\n",
    "$$\n",
    "\n",
    "Uvrštavanje $\\varepsilon=0$ daje\n",
    "\n",
    "$$\n",
    "F x+A\\dot x(0)=f,\n",
    "$$\n",
    "odnosno\n",
    "$$\n",
    "\\dot x(0)=A^{-1}(f-Fx).\n",
    "$$\n",
    "\n",
    "Taylorov razvoj oko $x(0)$ glasi\n",
    "\n",
    "$$\n",
    "x(\\varepsilon)=x(0)+\\varepsilon \\dot x(0) +O(\\varepsilon^2),\n",
    "$$\n",
    "odnosno, uz zanemarivanje člana $O(\\varepsilon^2)$,\n",
    "\n",
    "$$\n",
    "\\hat x-x=\\varepsilon A^{-1}(f-Fx)=A^{-1} (\\varepsilon f + \\varepsilon F x) = A^{-1} (\\delta b + \\delta A x).\n",
    "$$\n",
    "\n",
    "Svojstva norme povlače\n",
    "\n",
    "$$\n",
    "\\| \\hat x-x\\|\\leq \\| A^{-1} \\| (\\| \\delta b \\|  + \\| \\delta A \\| \\cdot \\|  x\\| ).\n",
    "$$\n",
    "\n",
    "Konačno, zbog $\\| b\\| \\leq \\| A\\| \\| x\\|$ imamo\n",
    "\n",
    "$$\n",
    "\\frac{\\| \\hat x-x\\|}{\\| x\\|}\\leq \\| A\\|  \\cdot \\| A^{-1} \\| \\bigg(\\frac{\\| \\delta b \\|}{\\|b\\|}  + \\frac{\\| \\delta A \\|}{ \\|  A\\|} \\bigg). \\tag{1}\n",
    "$$\n",
    "\n",
    "Broj \n",
    "$$\n",
    "\\kappa(A)\\equiv \\| A\\|  \\cdot \\| A^{-1} \\|\n",
    "$$ \n",
    "\n",
    "je _uvjetovanost_ (_kondicija_)  matrice $A$ i kazuje nam \n",
    "\n",
    "> koliko se relativno uvećaju relativne promjene u polaznim podacima (matrici $A$ i vektoru $b$).\n",
    "\n",
    "Pogledajmo primjer iz [R. Scitovski, Numerička matematika, str. 42][RS04]:\n",
    "\n",
    "\n",
    "\n",
    "\n",
    "[GVL13]: https://books.google.hr/books?id=X5YfsuCWpxMC&printsec=frontcover&hl=hr#v=onepage&q&f=false \"G. Golub and C. F Van Loan, 'Matrix Computations', 4th Edition, John Hopkins, Baltimore, 2013\" \n",
    "\n",
    "[RS04]: http://www.mathos.unios.hr/pim/Materijali/Num.pdf \"R. Scitovski, 'Numerička matematika', Sveučilište u Osijeku, osijek, 2004.\""
   ]
  },
  {
   "cell_type": "code",
   "execution_count": 36,
   "metadata": {
    "collapsed": false
   },
   "outputs": [
    {
     "data": {
      "text/plain": [
       "2x2 Array{Float64,2}:\n",
       " 0.234  0.458\n",
       " 0.383  0.75 "
      ]
     },
     "execution_count": 36,
     "metadata": {},
     "output_type": "execute_result"
    }
   ],
   "source": [
    "A= [0.234 0.458; 0.383 0.750]"
   ]
  },
  {
   "cell_type": "code",
   "execution_count": 37,
   "metadata": {
    "collapsed": false
   },
   "outputs": [
    {
     "data": {
      "text/plain": [
       "2-element Array{Float64,1}:\n",
       " 0.224\n",
       " 0.367"
      ]
     },
     "execution_count": 37,
     "metadata": {},
     "output_type": "execute_result"
    }
   ],
   "source": [
    "b=[0.224;0.367]"
   ]
  },
  {
   "cell_type": "code",
   "execution_count": 38,
   "metadata": {
    "collapsed": false
   },
   "outputs": [
    {
     "data": {
      "text/plain": [
       "2-element Array{Float64,1}:\n",
       " -1.0\n",
       "  1.0"
      ]
     },
     "execution_count": 38,
     "metadata": {},
     "output_type": "execute_result"
    }
   ],
   "source": [
    "x=A\\b"
   ]
  },
  {
   "cell_type": "code",
   "execution_count": 39,
   "metadata": {
    "collapsed": false
   },
   "outputs": [
    {
     "data": {
      "text/plain": [
       "2-element Array{Float64,1}:\n",
       " -0.241744\n",
       "  0.612791"
      ]
     },
     "execution_count": 39,
     "metadata": {},
     "output_type": "execute_result"
    }
   ],
   "source": [
    "δb=[0.00009; 0.000005]\n",
    "x1=A\\(b+δb)"
   ]
  },
  {
   "cell_type": "code",
   "execution_count": 40,
   "metadata": {
    "collapsed": false
   },
   "outputs": [
    {
     "data": {
      "text/plain": [
       "(11322.197586092605,0.0002096449170953002,0.6020311134825742)"
      ]
     },
     "execution_count": 40,
     "metadata": {},
     "output_type": "execute_result"
    }
   ],
   "source": [
    "cond(A), norm(δb)/norm(b), norm(x1-x)/norm(x)"
   ]
  },
  {
   "cell_type": "code",
   "execution_count": 41,
   "metadata": {
    "collapsed": false
   },
   "outputs": [
    {
     "data": {
      "text/plain": [
       "2-element Array{Float64,1}:\n",
       " 0.129518\n",
       " 0.423193"
      ]
     },
     "execution_count": 41,
     "metadata": {},
     "output_type": "execute_result"
    }
   ],
   "source": [
    "δA=[-0.001 0;0 0]\n",
    "x2=(A+δA)\\b"
   ]
  },
  {
   "cell_type": "code",
   "execution_count": 42,
   "metadata": {
    "collapsed": false
   },
   "outputs": [
    {
     "data": {
      "text/plain": [
       "(11322.197586092605,0.0010134105230118603,0.896804787832142)"
      ]
     },
     "execution_count": 42,
     "metadata": {},
     "output_type": "execute_result"
    }
   ],
   "source": [
    "cond(A), norm(δA)/norm(A), norm(x2-x)/norm(x)"
   ]
  },
  {
   "cell_type": "markdown",
   "metadata": {},
   "source": [
    "### Pogreška Gaussove eliminacije\n",
    "\n",
    "Prema [G. Golub and C. F. Van Loan, Matrix Computations, str. 122, poglavlje 3.3][GVL13], za izračunate faktore\n",
    "$\\hat L$ i $\\hat U$ vrijedi\n",
    "\n",
    "$$\n",
    "\\hat L\\cdot \\hat U = A+\\delta A\n",
    "$$\n",
    "\n",
    "gdje je (nejednakost se čita po elementima matrica, $\\varepsilon$ je sada točnost stroja)\n",
    "\n",
    "$$\n",
    "| \\delta A|\\leq 3(n-1) \\varepsilon (|A|+|\\hat L| \\cdot |\\hat U|) +O(\\varepsilon^2).\n",
    "$$\n",
    "\n",
    "Zanemarivanje člana $O(\\varepsilon^2)$ i prelazak na normu daju\n",
    "\n",
    "$$\n",
    "\\|\\delta A \\| \\approx \\leq  O(n)\\varepsilon (\\| A\\| + \\| \\hat L\\| \\cdot \\| \\hat U\\|),\n",
    "$$\n",
    "\n",
    "pa je \n",
    "\n",
    "$$\n",
    " \\frac{\\|\\delta A \\|}{\\|A\\|} \\leq O(n)\\varepsilon \\bigg(1+\\frac{\\| \\hat L\\| \\cdot \\| \\hat U\\|}{\\|A\\|}\\bigg).\n",
    "$$\n",
    "\n",
    "Ukoliko se Gaussova eliminacija radi s pivotiranjem, tada će najvjerojatnije zadnji kvocijent također biti malen \n",
    "($\\approx 1$). Također, pogreška kod rješavanja trokutastih sustava nije veća od navedene pa, uvrštavanjme u (1), slijedi \n",
    "da za relativnu pogrešku izračunatog rješenja vrijedi\n",
    "\n",
    "$$\n",
    "\\frac{\\| \\hat x-x\\|}{\\| x\\|}\\leq \\kappa(A) O(n\\varepsilon).\n",
    "$$\n",
    "\n",
    "> __Ukoliko je kondicija matrice velika, rješenje može biti netočno.__\n",
    "\n",
    "[GVL13]: https://books.google.hr/books?id=X5YfsuCWpxMC&printsec=frontcover&hl=hr#v=onepage&q&f=false \"G. Golub and C. F Van Loan, 'Matrix Computations', 4th Edition, John Hopkins, Baltimore, 2013\" "
   ]
  },
  {
   "cell_type": "code",
   "execution_count": 43,
   "metadata": {
    "collapsed": false
   },
   "outputs": [
    {
     "data": {
      "text/plain": [
       "10-element Array{Float64,1}:\n",
       " 0.797814 \n",
       " 0.444895 \n",
       " 0.709601 \n",
       " 0.597694 \n",
       " 0.705077 \n",
       " 0.361814 \n",
       " 0.360566 \n",
       " 0.0324751\n",
       " 0.922115 \n",
       " 0.533028 "
      ]
     },
     "execution_count": 43,
     "metadata": {},
     "output_type": "execute_result"
    }
   ],
   "source": [
    "n=10\n",
    "v=rand(n)"
   ]
  },
  {
   "cell_type": "code",
   "execution_count": 44,
   "metadata": {
    "collapsed": false
   },
   "outputs": [
    {
     "data": {
      "text/plain": [
       "10x10 Array{Float64,2}:\n",
       " 1.0       1.0          1.0        …  1.0          1.0       1.0       \n",
       " 0.797814  0.444895     0.709601      0.0324751    0.922115  0.533028  \n",
       " 0.636507  0.197931     0.503533      0.00105463   0.850296  0.284119  \n",
       " 0.507814  0.0880587    0.357308      3.42493e-5   0.78407   0.151444  \n",
       " 0.405141  0.0391769    0.253546      1.11225e-6   0.723003  0.0807237 \n",
       " 0.323227  0.0174296    0.179916   …  3.61205e-8   0.666692  0.043028  \n",
       " 0.257875  0.00775433   0.127669      1.17302e-9   0.614767  0.0229352 \n",
       " 0.205736  0.00344986   0.0905938     3.80939e-11  0.566885  0.0122251 \n",
       " 0.164139  0.00153483   0.0642854     1.2371e-12   0.522733  0.00651632\n",
       " 0.130953  0.000682837  0.045617      4.01751e-14  0.48202   0.00347338"
      ]
     },
     "execution_count": 44,
     "metadata": {},
     "output_type": "execute_result"
    }
   ],
   "source": [
    "A=Array(Float64,n,n)\n",
    "for i=1:n\n",
    "    A[:,i]=v.^(i-1)\n",
    "end\n",
    "A=A'"
   ]
  },
  {
   "cell_type": "code",
   "execution_count": 45,
   "metadata": {
    "collapsed": false
   },
   "outputs": [
    {
     "data": {
      "text/plain": [
       "10-element Array{Float64,1}:\n",
       " 0.42553 \n",
       " 0.371556\n",
       " 0.148544\n",
       " 0.860282\n",
       " 0.905312\n",
       " 0.320869\n",
       " 0.738031\n",
       " 0.97861 \n",
       " 0.249419\n",
       " 0.371056"
      ]
     },
     "execution_count": 45,
     "metadata": {},
     "output_type": "execute_result"
    }
   ],
   "source": [
    "b=rand(n)"
   ]
  },
  {
   "cell_type": "code",
   "execution_count": 46,
   "metadata": {
    "collapsed": false
   },
   "outputs": [
    {
     "data": {
      "text/plain": [
       "10-element Array{Float64,1}:\n",
       "     -2.35296e5\n",
       " -76790.8      \n",
       "      1.45411e7\n",
       "      1.36093e6\n",
       "     -1.50267e7\n",
       "      7.18195e6\n",
       "     -7.02774e6\n",
       "    442.539    \n",
       "   8121.48     \n",
       "     -7.26e5   "
      ]
     },
     "execution_count": 46,
     "metadata": {},
     "output_type": "execute_result"
    }
   ],
   "source": [
    "x=A\\b"
   ]
  },
  {
   "cell_type": "code",
   "execution_count": 47,
   "metadata": {
    "collapsed": false
   },
   "outputs": [
    {
     "data": {
      "text/plain": [
       "4.406777549324911e9"
      ]
     },
     "execution_count": 47,
     "metadata": {},
     "output_type": "execute_result"
    }
   ],
   "source": [
    "cond(A)"
   ]
  },
  {
   "cell_type": "code",
   "execution_count": 48,
   "metadata": {
    "collapsed": false
   },
   "outputs": [
    {
     "data": {
      "text/plain": [
       "10-element Array{BigFloat,1}:\n",
       " -2.352962154099944677391051554557723188000947314788677695782357969102015674385169e+05\n",
       " -7.679082279698689397743472191244564092552794805157778301136802860956015994332717e+04\n",
       "  1.454112671268589420111460025315177277958333835971048593165989887106462236946462e+07\n",
       "  1.360933484061750177750226027753807363448904005726737933642085260271461118693593e+06\n",
       " -1.502674350543754528633033745322596020035683598832053399921036971025125871474275e+07\n",
       "  7.181949768330400080429285979976183043561292783866435060046161786486792298948892e+06\n",
       " -7.027743232595135731092502637368001177216286980060280339288289626039988531577596e+06\n",
       "  4.425386214536011051316283906438406001327557944473881380280867406938887307583459e+02\n",
       "  8.121475867804788956539731663493749122877931725744566408932893638864623877555401e+03\n",
       " -7.259997777973229163419105668324928795908368595974054419318437363914253260132919e+05"
      ]
     },
     "execution_count": 48,
     "metadata": {},
     "output_type": "execute_result"
    }
   ],
   "source": [
    "Ab=Array(BigFloat,n,n)\n",
    "bb=Array(BigFloat,n)\n",
    "for i=1:n\n",
    "    for j=1:n\n",
    "        Ab[i,j]=convert(BigFloat,A[i,j])\n",
    "    end\n",
    "    bb[i]=convert(BigFloat,b[i])\n",
    "end\n",
    "xb=Ab\\bb"
   ]
  },
  {
   "cell_type": "code",
   "execution_count": 49,
   "metadata": {
    "collapsed": false
   },
   "outputs": [
    {
     "data": {
      "text/plain": [
       "1.11676516081762812644413651825164845797768932886252142021092364910332110193646e-08"
      ]
     },
     "execution_count": 49,
     "metadata": {},
     "output_type": "execute_result"
    }
   ],
   "source": [
    "norm(xb-x)/norm(xb)"
   ]
  },
  {
   "cell_type": "markdown",
   "metadata": {},
   "source": [
    "### Umjetno loša kondicija"
   ]
  },
  {
   "cell_type": "code",
   "execution_count": 50,
   "metadata": {
    "collapsed": false
   },
   "outputs": [
    {
     "name": "stdout",
     "output_type": "stream",
     "text": [
      "(x,cond(A)) = ([-1.0,2.0],6.854101966249685)"
     ]
    },
    {
     "data": {
      "text/plain": [
       "([-1.0,2.0],50000.00017991671,[8.881784197001252e-16,-4.440892098500626e-16])"
      ]
     },
     "execution_count": 50,
     "metadata": {},
     "output_type": "execute_result"
    }
   ],
   "source": [
    "A=[1 1; 1 2]\n",
    "b=[1;3]\n",
    "x=A\\b\n",
    "@show x,cond(A)\n",
    "A1=[1e-4 1e-4;1 2]\n",
    "b1=[1e-4;3]\n",
    "x1=A1\\b1\n",
    "x,cond(A1),x-x1"
   ]
  },
  {
   "cell_type": "markdown",
   "metadata": {
    "collapsed": true
   },
   "source": [
    "## Rezidual\n",
    "\n",
    "(Prema [G. W. Stewart, Afternotes on Numerical Analysis, str. 128.][Ste96])\n",
    "\n",
    "Izračunato rješenje $\\hat x$ sustava $Ax=b$ je točno rješenje nekog sličnog sustava\n",
    "\n",
    "$$ \n",
    "(A+\\delta A)\\hat x=b. \\tag{1}\n",
    "$$\n",
    "\n",
    "_Rezidual_ (ili _ostatak_) definiramo kao \n",
    "\n",
    "$$\n",
    "r=b-A\\hat x.\n",
    "$$\n",
    "\n",
    "Tada je \n",
    "\n",
    "$$\n",
    "0=b-(A+\\delta A)\\hat x=r- \\delta A\\hat x\n",
    "$$\n",
    "pa je \n",
    "\n",
    "$$ \n",
    "\\| r\\| \\leq \\| \\delta A\\hat x \\| \\leq \\| \\delta A\\| \\cdot \\|\\hat x \\|,\n",
    "$$\n",
    "\n",
    "odnosno\n",
    "\n",
    "$$\n",
    "\\frac{\\|  \\delta A\\|}{\\|A \\|} \\geq \\frac{\\|r\\|}{\\| A\\| \\cdot \\|\\hat x \\|}.\n",
    "$$\n",
    "\n",
    "Dakle,\n",
    "> ako  _relativni rezidual_ \n",
    ">\n",
    "> $$ \\frac{r}{\\| A\\| \\cdot \\|\\hat x \\|}$$\n",
    "ima veliku normu, tada __rješenje nije izračunato stabilno.__\n",
    "\n",
    "S druge strane, ako relativni rezidual ima malu normu, tada je rješenje izračunato stabilno. Naime, za\n",
    "\n",
    "$$\n",
    "\\delta A=\\frac{r\\hat x^T}{\\|\\hat x\\|^2}\n",
    "$$\n",
    "vrijedi (1):\n",
    "\n",
    "$$\n",
    "b-(A+\\delta A)\\hat x=(b-A\\hat x)-\\delta A \\hat x = r-\\frac{r\\hat x^T \\hat x}{\\|\\hat x\\|^2}\n",
    "= r-\\frac{r \\|\\hat x^T \\hat x\\|}{\\|\\hat x\\|^2}=r-r=0.\n",
    "$$\n",
    "Također vrijedi\n",
    "\n",
    "$$\n",
    "\\frac{\\|  \\delta A\\|}{\\|A \\|}  \\leq  \\frac{\\|r\\|\\|\\hat x \\|}{\\| A\\| \\cdot \\|\\hat x \\|^2}=\n",
    "\\frac{\\|r\\|}{\\| A\\| \\cdot \\|\\hat x \\|}.\n",
    "$$\n",
    "\n",
    "\n",
    "\n",
    "\n",
    "[Ste96]: https://books.google.hr/books?id=w-2PWh01kWcC&printsec=frontcover&hl=hr#v=onepage&q&f=false    \"G. W. Stewart, 'Afternotes on Numerical Analysis', SIAM, Philadelphi, 1996\""
   ]
  },
  {
   "cell_type": "code",
   "execution_count": 51,
   "metadata": {
    "collapsed": false
   },
   "outputs": [
    {
     "name": "stdout",
     "output_type": "stream",
     "text": [
      "\n"
     ]
    },
    {
     "data": {
      "text/plain": [
       "2-element Array{Float64,1}:\n",
       " 0.0\n",
       " 0.0"
      ]
     },
     "execution_count": 51,
     "metadata": {},
     "output_type": "execute_result"
    }
   ],
   "source": [
    "r=b-A*x"
   ]
  },
  {
   "cell_type": "code",
   "execution_count": 52,
   "metadata": {
    "collapsed": false
   },
   "outputs": [
    {
     "data": {
      "text/plain": [
       "0.0"
      ]
     },
     "execution_count": 52,
     "metadata": {},
     "output_type": "execute_result"
    }
   ],
   "source": [
    "norm(r)/(norm(A)*norm(x))"
   ]
  },
  {
   "cell_type": "code",
   "execution_count": null,
   "metadata": {
    "collapsed": true
   },
   "outputs": [],
   "source": []
  }
 ],
 "metadata": {
  "kernelspec": {
   "display_name": "Julia 0.4.0",
   "language": "julia",
   "name": "julia-0.4"
  },
  "language_info": {
   "file_extension": ".jl",
   "mimetype": "application/julia",
   "name": "julia",
   "version": "0.4.0"
  }
 },
 "nbformat": 4,
 "nbformat_minor": 0
}
