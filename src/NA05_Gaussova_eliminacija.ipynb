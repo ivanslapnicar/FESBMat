{
 "cells": [
  {
   "cell_type": "markdown",
   "metadata": {},
   "source": [
    "# Gaussova eliminacija\n",
    "---\n",
    "\n",
    "## Općenito\n",
    "\n",
    "Sustav $Ax=b$\n",
    "se rješava u tri koraka (__bez pivotiranja__):\n",
    "\n",
    "1. $A=LU$ (LU rastav, $O\\big(\\displaystyle\\frac{2}{3}n^3\\big)$ operacija),\n",
    "2. $Ly=b$ (donje trokutrasti sustav, $n^2$ operacija),\n",
    "3. $Ux=y$ (gornje torkutasti sustav, $n^2$ operacija).\n",
    "\n",
    "Ukoliko pivotiramo, tada je\n",
    "\n",
    "1. $PA=LU$, \n",
    "2. $Ly=P^T b$,\n",
    "3. $Ux=y$. "
   ]
  },
  {
   "cell_type": "markdown",
   "metadata": {},
   "source": [
    "## LU rastav"
   ]
  },
  {
   "cell_type": "code",
   "execution_count": 1,
   "metadata": {
    "collapsed": false
   },
   "outputs": [
    {
     "data": {
      "text/plain": [
       "mylu (generic function with 1 method)"
      ]
     },
     "execution_count": 1,
     "metadata": {},
     "output_type": "execute_result"
    }
   ],
   "source": [
    "function mylu{T}(A1::Array{T}) # Strang, page 100\n",
    "    A=deepcopy(A1)\n",
    "    n,m=size(A)\n",
    "    U=map(Float64,[zero(A[1,1]) for i=1:n, j=1:n]) # This acccepts blocks and numbers\n",
    "    L=map(Float64,[zero(A[1,1]) for i=1:n, j=1:n])\n",
    "    for k=1:n\n",
    "        L[k,k]=one(A[1,1])\n",
    "        for i=k+1:n\n",
    "            L[i,k]=A[i,k]/A[k,k]\n",
    "            for j=k+1:n\n",
    "                A[i,j]=A[i,j]-L[i,k]*A[k,j]\n",
    "            end\n",
    "        end\n",
    "        for j=k:n\n",
    "            U[k,j]=A[k,j]\n",
    "        end\n",
    "    end\n",
    "    L,U\n",
    "end"
   ]
  },
  {
   "cell_type": "code",
   "execution_count": 2,
   "metadata": {
    "collapsed": false
   },
   "outputs": [
    {
     "data": {
      "text/plain": [
       "6×6 Array{Float64,2}:\n",
       " 0.757035  0.26423   0.258824  0.444582  0.253857   0.725721 \n",
       " 0.401192  0.596872  0.215737  0.461797  0.186466   0.492341 \n",
       " 0.76668   0.115212  0.89138   0.25982   0.795885   0.654272 \n",
       " 0.683031  0.700968  0.523178  0.429414  0.480718   0.676572 \n",
       " 0.946519  0.136968  0.224276  0.55007   0.51893    0.091643 \n",
       " 0.54143   0.459622  0.845367  0.563744  0.0815604  0.0321507"
      ]
     },
     "execution_count": 2,
     "metadata": {},
     "output_type": "execute_result"
    }
   ],
   "source": [
    "A=rand(6,6)\n",
    "# A=[2.0 2;3 4]"
   ]
  },
  {
   "cell_type": "code",
   "execution_count": 3,
   "metadata": {
    "collapsed": false
   },
   "outputs": [
    {
     "data": {
      "text/plain": [
       "(\n",
       "[1.0 0.0 … 0.0 0.0; 0.529952 1.0 … 0.0 0.0; … ; 1.2503 -0.423337 … 1.0 0.0; 0.715199 0.592424 … -2.15358 1.0],\n",
       "\n",
       "[0.757035 0.26423 … 0.253857 0.725721; 0.0 0.456843 … 0.0519339 0.107744; … ; 0.0 0.0 … 0.28954 -0.809514; 0.0 0.0 … 0.0 -2.34985])"
      ]
     },
     "execution_count": 3,
     "metadata": {},
     "output_type": "execute_result"
    }
   ],
   "source": [
    "L,U=mylu(A)"
   ]
  },
  {
   "cell_type": "code",
   "execution_count": 4,
   "metadata": {
    "collapsed": false
   },
   "outputs": [
    {
     "data": {
      "text/plain": [
       "6×6 Array{Float64,2}:\n",
       "  0.0          0.0  0.0   0.0          0.0   0.0        \n",
       "  0.0          0.0  0.0   0.0          0.0   0.0        \n",
       " -1.11022e-16  0.0  0.0   0.0          0.0   0.0        \n",
       "  0.0          0.0  0.0  -1.11022e-16  0.0  -1.11022e-16\n",
       "  0.0          0.0  0.0   0.0          0.0   0.0        \n",
       "  0.0          0.0  0.0   0.0          0.0   2.22045e-16"
      ]
     },
     "execution_count": 4,
     "metadata": {},
     "output_type": "execute_result"
    }
   ],
   "source": [
    "L*U-A"
   ]
  },
  {
   "cell_type": "markdown",
   "metadata": {},
   "source": [
    "## Trokutasti sustavi"
   ]
  },
  {
   "cell_type": "code",
   "execution_count": 5,
   "metadata": {
    "collapsed": false
   },
   "outputs": [
    {
     "data": {
      "text/plain": [
       "myL (generic function with 1 method)"
      ]
     },
     "execution_count": 5,
     "metadata": {},
     "output_type": "execute_result"
    }
   ],
   "source": [
    "function myU{T}(U::Array{T},b1::Array{T})\n",
    "    b=deepcopy(b1)\n",
    "    n=length(b)\n",
    "    for i=n:-1:1\n",
    "       for j=n:-1:i+1\n",
    "            b[i]=b[i]-U[i,j]*b[j]\n",
    "       end\n",
    "        b[i]=b[i]/U[i,i]\n",
    "    end\n",
    "    b\n",
    "end\n",
    "\n",
    "function myL{T}(L::Array{T},b1::Array{T})\n",
    "    b=deepcopy(b1)\n",
    "    n=length(b)\n",
    "    for i=1:n\n",
    "        for j=1:i-1\n",
    "            b[i]=b[i]-L[i,j]*b[j]\n",
    "        end\n",
    "        b[i]=b[i]/L[i,i]\n",
    "    end\n",
    "    b\n",
    "end"
   ]
  },
  {
   "cell_type": "code",
   "execution_count": 6,
   "metadata": {
    "collapsed": false
   },
   "outputs": [
    {
     "data": {
      "text/plain": [
       "6-element Array{Float64,1}:\n",
       " 0.992829\n",
       " 0.265753\n",
       " 0.705782\n",
       " 0.748381\n",
       " 0.301704\n",
       " 0.307774"
      ]
     },
     "execution_count": 6,
     "metadata": {},
     "output_type": "execute_result"
    }
   ],
   "source": [
    "b=rand(6)"
   ]
  },
  {
   "cell_type": "code",
   "execution_count": 7,
   "metadata": {
    "collapsed": false
   },
   "outputs": [
    {
     "data": {
      "text/plain": [
       "6-element Array{Float64,1}:\n",
       "  2.02928 \n",
       "  0.339448\n",
       "  0.291538\n",
       " -1.95671 \n",
       " -1.38635 \n",
       "  0.707293"
      ]
     },
     "execution_count": 7,
     "metadata": {},
     "output_type": "execute_result"
    }
   ],
   "source": [
    "# Rijesimo sustav pomocu ugradjene funkcije:\n",
    "x=A\\b"
   ]
  },
  {
   "cell_type": "code",
   "execution_count": 8,
   "metadata": {
    "collapsed": false
   },
   "outputs": [
    {
     "data": {
      "text/plain": [
       "6-element Array{Float64,1}:\n",
       "  0.992829\n",
       " -0.260399\n",
       " -0.386555\n",
       "  0.240171\n",
       " -0.973968\n",
       " -1.66203 "
      ]
     },
     "execution_count": 8,
     "metadata": {},
     "output_type": "execute_result"
    }
   ],
   "source": [
    "# Rijesimo sustav pomocu nasih funkcija\n",
    "y=myL(L,b)"
   ]
  },
  {
   "cell_type": "code",
   "execution_count": 9,
   "metadata": {
    "collapsed": false
   },
   "outputs": [
    {
     "data": {
      "text/plain": [
       "6-element Array{Float64,1}:\n",
       "  2.02928 \n",
       "  0.339448\n",
       "  0.291538\n",
       " -1.95671 \n",
       " -1.38635 \n",
       "  0.707293"
      ]
     },
     "execution_count": 9,
     "metadata": {},
     "output_type": "execute_result"
    }
   ],
   "source": [
    "x1=myU(U,y)"
   ]
  },
  {
   "cell_type": "code",
   "execution_count": 10,
   "metadata": {
    "collapsed": false
   },
   "outputs": [
    {
     "data": {
      "text/plain": [
       "6-element Array{Float64,1}:\n",
       "  4.44089e-16\n",
       "  2.22045e-16\n",
       " -5.55112e-17\n",
       " -2.22045e-16\n",
       " -4.44089e-16\n",
       "  0.0        "
      ]
     },
     "execution_count": 10,
     "metadata": {},
     "output_type": "execute_result"
    }
   ],
   "source": [
    "# Usporedimo rjesenja\n",
    "x-x1"
   ]
  },
  {
   "cell_type": "markdown",
   "metadata": {},
   "source": [
    "## Brzina\n",
    "\n",
    "Program `mylu()` je jako spor. Između ostalog, alocira nepotrebno tri matrice i ne računa s blok matricama.\n",
    "\n",
    "Program se može reformulirati na načun da su i $L$ i $U$ spremljene u polje $A$, pri čemu se dijagonala od $L$ ne sprema, jer su svi elementi jednaki 1 (vidi [Introduction to Linear Algebra, str. 100][St09]):\n",
    "\n",
    "[St09]: https://books.google.hr/books?id=M19gPgAACAAJ&dq=strang%20introduction&hl=hr&source=gbs_book_other_versions \"Gilbert Strang, 'Introduction to Linear Algebra, 4th Edition', Wellesley-Cambridge Press, 2009\"\n"
   ]
  },
  {
   "cell_type": "code",
   "execution_count": 13,
   "metadata": {
    "collapsed": false
   },
   "outputs": [
    {
     "name": "stderr",
     "output_type": "stream",
     "text": [
      "WARNING: Method definition mylu1(Array{#T<:Any, N<:Any}) in module Main at In[11]:2 overwritten at In[13]:2.\n"
     ]
    },
    {
     "data": {
      "text/plain": [
       "mylu1 (generic function with 1 method)"
      ]
     },
     "execution_count": 13,
     "metadata": {},
     "output_type": "execute_result"
    }
   ],
   "source": [
    "function mylu1{T}(A1::Array{T}) # Strang, page 100\n",
    "    A=deepcopy(A1)\n",
    "    n,m=size(A)\n",
    "    for k=1:n-1\n",
    "        rho=k+1:n\n",
    "        A[rho,k]=A[rho,k]/A[k,k]\n",
    "        A[rho,rho]=A[rho,rho]-A[rho,k]⋅A[k,rho]\n",
    "    end\n",
    "    A\n",
    "end"
   ]
  },
  {
   "cell_type": "code",
   "execution_count": 14,
   "metadata": {
    "collapsed": false
   },
   "outputs": [
    {
     "data": {
      "text/plain": [
       "6×6 Array{Float64,2}:\n",
       " 0.757035   0.26423   0.258824    0.444582   0.253857   0.725721\n",
       " 0.529952  -1.04283  -1.42397    -1.17791   -1.45324   -1.14736 \n",
       " 1.01274    1.46188   5.78618     5.15462    5.69069    5.54907 \n",
       " 0.902245   0.90018   0.936365  -10.0419    -9.99062   -9.79477 \n",
       " 1.2503     1.44101   0.884707    0.987985   9.58192    9.15463 \n",
       " 0.715199   1.13161   0.992048    0.986623   0.954355   0.358374"
      ]
     },
     "execution_count": 14,
     "metadata": {},
     "output_type": "execute_result"
    }
   ],
   "source": [
    "mylu1(A)"
   ]
  },
  {
   "cell_type": "code",
   "execution_count": 15,
   "metadata": {
    "collapsed": false
   },
   "outputs": [
    {
     "data": {
      "text/plain": [
       "(\n",
       "[1.0 0.0 … 0.0 0.0; 0.529952 1.0 … 0.0 0.0; … ; 1.2503 -0.423337 … 1.0 0.0; 0.715199 0.592424 … -2.15358 1.0],\n",
       "\n",
       "[0.757035 0.26423 … 0.253857 0.725721; 0.0 0.456843 … 0.0519339 0.107744; … ; 0.0 0.0 … 0.28954 -0.809514; 0.0 0.0 … 0.0 -2.34985])"
      ]
     },
     "execution_count": 15,
     "metadata": {},
     "output_type": "execute_result"
    }
   ],
   "source": [
    "L,U"
   ]
  },
  {
   "cell_type": "markdown",
   "metadata": {},
   "source": [
    "Usporedimo brzine LAPACK-ovog programa `lu()` i našeg naivnog programa `mylu()`na većoj dimenziji. \n",
    "\n",
    "Izvedite program par puta radi točnijeg mjerenja brzine."
   ]
  },
  {
   "cell_type": "code",
   "execution_count": 18,
   "metadata": {
    "collapsed": false
   },
   "outputs": [
    {
     "data": {
      "text/plain": [
       "512×512 Array{Float64,2}:\n",
       " 0.0919826  0.292905    0.733022    …  0.64603     0.0549127  0.994975 \n",
       " 0.857994   0.347594    0.967299       0.529304    0.735214   0.845291 \n",
       " 0.667015   0.77826     0.670837       0.300541    0.990565   0.145595 \n",
       " 0.64483    0.900804    0.169006       0.273833    0.575034   0.0933216\n",
       " 0.451702   0.230523    0.00474206     0.139794    0.656611   0.449463 \n",
       " 0.869137   0.585344    0.317795    …  0.244687    0.652848   0.874196 \n",
       " 0.944877   0.698254    0.659188       0.792391    0.13794    0.0689758\n",
       " 0.432484   0.390065    0.237245       0.692193    0.839645   0.487413 \n",
       " 0.837263   0.949234    0.646632       0.0198505   0.400077   0.39341  \n",
       " 0.653559   0.998439    0.00446579     0.163045    0.316857   0.972019 \n",
       " 0.984158   0.878862    0.535231    …  0.130175    0.678641   0.179855 \n",
       " 0.549629   0.418897    0.760914       0.860842    0.532577   0.0682183\n",
       " 0.45418    0.887498    0.625917       0.815489    0.748958   0.768026 \n",
       " ⋮                                  ⋱              ⋮                   \n",
       " 0.316305   0.10047     0.393404    …  0.537904    0.624905   0.511913 \n",
       " 0.745438   0.00533742  0.966401       0.698854    0.275122   0.492239 \n",
       " 0.231176   0.55005     0.306765       0.197833    0.216528   0.966278 \n",
       " 0.696903   0.86213     0.530727       0.0692333   0.778706   0.760693 \n",
       " 0.945409   0.732862    0.221314       0.840999    0.580515   0.621938 \n",
       " 0.813888   0.373976    0.172493    …  0.402201    0.815089   0.67572  \n",
       " 0.261613   0.518933    0.190423       0.71139     0.650768   0.478292 \n",
       " 0.571567   0.892716    0.761298       0.00100123  0.894316   0.147164 \n",
       " 0.520674   0.0777235   0.340558       0.586373    0.734411   0.634978 \n",
       " 0.0932071  0.814286    0.465941       0.477584    0.318559   0.302657 \n",
       " 0.153379   0.0726528   0.365657    …  0.568575    0.837274   0.829591 \n",
       " 0.627026   0.699722    0.0488032      0.899562    0.869928   0.633239 "
      ]
     },
     "execution_count": 18,
     "metadata": {},
     "output_type": "execute_result"
    }
   ],
   "source": [
    "n=512\n",
    "A=rand(n,n)"
   ]
  },
  {
   "cell_type": "code",
   "execution_count": 21,
   "metadata": {
    "collapsed": false
   },
   "outputs": [
    {
     "name": "stdout",
     "output_type": "stream",
     "text": [
      "  0.047075 seconds (25 allocations: 6.009 MB)\n"
     ]
    }
   ],
   "source": [
    "@time lu(A);"
   ]
  },
  {
   "cell_type": "code",
   "execution_count": 22,
   "metadata": {
    "collapsed": false
   },
   "outputs": [
    {
     "name": "stdout",
     "output_type": "stream",
     "text": [
      "  0.259748 seconds (10.14 k allocations: 687.223 MB, 8.11% gc time)\n"
     ]
    }
   ],
   "source": [
    "@time mylu1(A);"
   ]
  },
  {
   "cell_type": "markdown",
   "metadata": {},
   "source": [
    "### Blok varijanta\n",
    "\n",
    "`mylu()` je nekoliko desetaka puta sporiji od `lu()`. `mylu1()` je malo sporiji od `lu()`.\n",
    "\n",
    "Probajmo s blokovima:\n",
    "\n",
    "Preradimo `mylu1()` za rad s blokovima (nemamo ugrađeno pivotiranje!)"
   ]
  },
  {
   "cell_type": "code",
   "execution_count": 23,
   "metadata": {
    "collapsed": false
   },
   "outputs": [
    {
     "data": {
      "text/plain": [
       "mylu2 (generic function with 1 method)"
      ]
     },
     "execution_count": 23,
     "metadata": {},
     "output_type": "execute_result"
    }
   ],
   "source": [
    "function mylu2{T}(A1::Array{T}) # Strang, page 100\n",
    "    A=deepcopy(A1)\n",
    "    n,m=size(A)\n",
    "    for k=1:n-1\n",
    "        for rho=k+1:n\n",
    "            A[rho,k]=A[rho,k]/A[k,k]\n",
    "            for l=k+1:n\n",
    "                A[rho,l]=A[rho,l]-A[rho,k]*A[k,l]\n",
    "            end\n",
    "        end\n",
    "    end\n",
    "    A\n",
    "end"
   ]
  },
  {
   "cell_type": "markdown",
   "metadata": {},
   "source": [
    "Napravimo prvo mali test:"
   ]
  },
  {
   "cell_type": "code",
   "execution_count": 24,
   "metadata": {
    "collapsed": false
   },
   "outputs": [
    {
     "data": {
      "text/plain": [
       "4×4 Array{Array{Float64,2},2}:\n",
       " [0.947704 0.158683 0.0365133 0.430097; 0.428234 0.351874 0.269765 0.933251; 0.355974 0.0656793 0.0935246 0.527602; 0.438834 0.191424 0.816444 0.747859]  …  [0.0568117 0.882411 0.319672 0.67604; 0.900933 0.921685 0.489064 0.0914812; 0.909417 0.123832 0.160815 0.802153; 0.0409489 0.971473 0.215725 0.515026]  \n",
       " [0.659467 0.241069 0.631979 0.81001; 0.879621 0.807997 0.786473 0.880301; 0.192972 0.0446128 0.0623748 0.512638; 0.0579153 0.918366 0.144209 0.889487]      [0.143023 0.554266 0.578937 0.0400173; 0.914674 0.765108 0.766956 0.477176; 0.0185753 0.467021 0.28996 0.101813; 0.835942 0.447649 0.979307 0.726227]   \n",
       " [0.780562 0.161735 0.797171 0.91304; 0.89842 0.855968 0.432512 0.123992; 0.660866 0.325465 0.741242 0.749813; 0.548014 0.760475 0.898777 0.818984]          [0.453629 0.482695 0.480605 0.492865; 0.0743455 0.333364 0.60314 0.815718; 0.990425 0.964408 0.298062 0.801174; 0.334847 0.259367 0.395519 0.872074]    \n",
       " [0.783752 0.00306074 0.139413 0.479298; 0.717558 0.197544 0.217523 0.425799; 0.925749 0.623101 0.711268 0.00668794; 0.148105 0.521492 0.365414 0.08093]     [0.286429 0.0658003 0.372695 0.0371888; 0.814624 0.772658 0.343407 0.728566; 0.494295 0.576599 0.0729295 0.384634; 0.937064 0.871537 0.941373 0.0459092]"
      ]
     },
     "execution_count": 24,
     "metadata": {},
     "output_type": "execute_result"
    }
   ],
   "source": [
    "# Probajte k,l=32,16 i k,l=64,8\n",
    "k,l=4,4\n",
    "Ab=[rand(k,k) for i=1:l, j=1:l]"
   ]
  },
  {
   "cell_type": "code",
   "execution_count": 25,
   "metadata": {
    "collapsed": false
   },
   "outputs": [
    {
     "data": {
      "text/plain": [
       "4×4 Array{Array{Float64,2},2}:\n",
       " [0.947704 0.158683 0.0365133 0.430097; 0.428234 0.351874 0.269765 0.933251; 0.355974 0.0656793 0.0935246 0.527602; 0.438834 0.191424 0.816444 0.747859]   …  [0.0568117 0.882411 0.319672 0.67604; 0.900933 0.921685 0.489064 0.0914812; 0.909417 0.123832 0.160815 0.802153; 0.0409489 0.971473 0.215725 0.515026]   \n",
       " [0.294233 0.169451 -0.00419721 0.705395; 1.16477 2.16882 -4.05093 0.658628; -0.225043 0.0445881 1.16346 -0.0615455; 0.211502 3.56203 -4.00642 -0.550831]     [-0.0514242 -0.546302 0.25051 -0.534327; 2.55155 -2.39987 -0.156712 2.4016; -1.06436 0.540223 0.166268 -0.651702; 1.28085 -1.99081 -0.06724 3.75484]     \n",
       " [0.250836 -0.322055 0.688604 0.992707; 2.04311 2.51486 -6.35424 0.335318; 0.451977 0.428448 -0.910583 0.85042; 0.726875 2.12779 -3.96571 0.819561]           [0.531372 0.157745 -0.201386 0.271535; 1.96238 0.635309 -0.936208 1.47811; 1.72471 1.19023 -0.701353 0.335577; -0.150522 -0.587271 -0.309525 0.852971]   \n",
       " [0.546416 -0.566417 1.18458 0.197777; 0.735584 0.192905 -0.447087 0.221006; 1.92126 1.39194 -5.34463 0.937572; 0.702831 1.73555 -3.8997 0.289399]            [-0.868243 -2.44794 0.713028 -0.574557; 0.424465 -0.422681 0.608036 0.330379; -0.025057 -0.611693 0.352429 -0.313861; 0.810216 -0.637073 0.813129 0.1902]"
      ]
     },
     "execution_count": 25,
     "metadata": {},
     "output_type": "execute_result"
    }
   ],
   "source": [
    "A0=mylu2(Ab)"
   ]
  },
  {
   "cell_type": "code",
   "execution_count": 26,
   "metadata": {
    "collapsed": false
   },
   "outputs": [],
   "source": [
    "# Provjera\n",
    "U=triu(A0)\n",
    "L=tril(A0)\n",
    "for i=1:maximum(size(L))\n",
    "    L[i,i]=eye(L[1,1])\n",
    "end"
   ]
  },
  {
   "cell_type": "code",
   "execution_count": 27,
   "metadata": {
    "collapsed": false
   },
   "outputs": [
    {
     "data": {
      "text/plain": [
       "4×4 Array{Array{Float64,2},2}:\n",
       " [0.0 0.0 0.0 0.0; 0.0 0.0 0.0 0.0; 0.0 0.0 0.0 0.0; 0.0 0.0 0.0 0.0]                                                                                                               …  [0.0 0.0 0.0 0.0; 0.0 0.0 0.0 0.0; 0.0 0.0 0.0 0.0; 0.0 0.0 0.0 0.0]                           \n",
       " [0.0 2.77556e-17 1.11022e-16 -1.11022e-16; -1.11022e-16 2.22045e-16 0.0 1.11022e-16; 2.77556e-17 1.38778e-17 6.93889e-18 0.0; 1.11022e-16 -4.44089e-16 -2.77556e-16 -2.22045e-16]     [0.0 0.0 0.0 0.0; -2.22045e-16 0.0 0.0 0.0; 0.0 0.0 0.0 0.0; 0.0 0.0 0.0 2.22045e-16]          \n",
       " [0.0 2.77556e-17 1.11022e-16 0.0; -3.33067e-16 -1.11022e-16 -5.55112e-17 -2.22045e-16; 0.0 0.0 1.11022e-16 0.0; 0.0 1.11022e-16 0.0 1.11022e-16]                                      [0.0 0.0 5.55112e-17 0.0; 0.0 2.22045e-16 1.11022e-16 0.0; 0.0 0.0 0.0 0.0; 0.0 0.0 0.0 0.0]   \n",
       " [-1.11022e-16 4.16334e-17 5.55112e-17 0.0; 0.0 0.0 0.0 5.55112e-17; -4.44089e-16 -2.22045e-16 -1.11022e-16 3.33067e-16; 5.55112e-17 -2.22045e-16 -5.55112e-17 -8.32667e-17]           [0.0 -2.22045e-16 0.0 0.0; 0.0 -1.11022e-16 0.0 0.0; 0.0 0.0 0.0 -2.22045e-16; 0.0 0.0 0.0 0.0]"
      ]
     },
     "execution_count": 27,
     "metadata": {},
     "output_type": "execute_result"
    }
   ],
   "source": [
    "Res=L*U-Ab"
   ]
  },
  {
   "cell_type": "code",
   "execution_count": 28,
   "metadata": {
    "collapsed": false
   },
   "outputs": [
    {
     "data": {
      "text/plain": [
       "unblock (generic function with 1 method)"
      ]
     },
     "execution_count": 28,
     "metadata": {},
     "output_type": "execute_result"
    }
   ],
   "source": [
    "# pretvaranje blok matrice u obicnu\n",
    "unblock(A) = mapreduce(identity, hcat, [mapreduce(identity, vcat, A[:,i]) for i = 1:size(A,2)])"
   ]
  },
  {
   "cell_type": "code",
   "execution_count": 29,
   "metadata": {
    "collapsed": false
   },
   "outputs": [
    {
     "data": {
      "text/plain": [
       "1.490802012417364e-15"
      ]
     },
     "execution_count": 29,
     "metadata": {},
     "output_type": "execute_result"
    }
   ],
   "source": [
    "norm(unblock(Res))"
   ]
  },
  {
   "cell_type": "markdown",
   "metadata": {},
   "source": [
    "Sada probajmo veću dimenziju:"
   ]
  },
  {
   "cell_type": "code",
   "execution_count": 33,
   "metadata": {
    "collapsed": true
   },
   "outputs": [],
   "source": [
    "# Probajmo vece dimenzije (n=k*l)\n",
    "k,l=32,16\n",
    "Ab=[rand(k,k) for i=1:l, j=1:l];"
   ]
  },
  {
   "cell_type": "code",
   "execution_count": 34,
   "metadata": {
    "collapsed": false
   },
   "outputs": [
    {
     "name": "stdout",
     "output_type": "stream",
     "text": [
      "  0.091593 seconds (7.29 k allocations: 26.653 MB, 7.56% gc time)\n"
     ]
    }
   ],
   "source": [
    "@time mylu2(Ab);"
   ]
  },
  {
   "cell_type": "markdown",
   "metadata": {},
   "source": [
    "Vidimo da je `mylu2()` gotovo jednako brz kao `lu()`, uz napomenu da `mylu2()` nema ugrađeno pivotiranje. "
   ]
  },
  {
   "cell_type": "markdown",
   "metadata": {},
   "source": [
    "## Pivotiranje\n",
    "\n",
    "Stanardne implementacije uvijek računaju Gaussovu eliminaciju s _parcijalnim pivotiranjem_:\n",
    "\n",
    "> u svakom koraku se retci pivotiranju tako da pivotni element ima najveću apsolutnu vrijednst u danom stupcu. Na taj \n",
    "> način je \n",
    "> \n",
    "> $$|L_{ij}| \\leq 1,$$\n",
    "> \n",
    "> što u praksi dovoljno spriječava rast elemenata.\n"
   ]
  },
  {
   "cell_type": "code",
   "execution_count": 35,
   "metadata": {
    "collapsed": false
   },
   "outputs": [
    {
     "data": {
      "text/plain": [
       "(\n",
       "[1.0 0.0 … 0.0 0.0; 0.521994 1.0 … 0.0 0.0; … ; 0.506594 0.742406 … 1.0 0.0; 0.479534 0.394967 … 0.116674 1.0],\n",
       "\n",
       "[0.824772 0.304595 … 0.887334 0.202908; 0.0 0.500854 … -0.0179088 0.501239; … ; 0.0 0.0 … -0.449324 -0.171969; 0.0 0.0 … 0.0 -0.344188],\n",
       "\n",
       "[5,4,3,2,1])"
      ]
     },
     "execution_count": 35,
     "metadata": {},
     "output_type": "execute_result"
    }
   ],
   "source": [
    "A=rand(5,5)\n",
    "L,U,P=lu(A)"
   ]
  },
  {
   "cell_type": "code",
   "execution_count": 36,
   "metadata": {
    "collapsed": false
   },
   "outputs": [
    {
     "data": {
      "text/plain": [
       "5×5 Array{Float64,2}:\n",
       "  0.0          0.0  0.0  0.0  0.0\n",
       " -5.55112e-17  0.0  0.0  0.0  0.0\n",
       " -2.77556e-17  0.0  0.0  0.0  0.0\n",
       "  0.0          0.0  0.0  0.0  0.0\n",
       " -5.55112e-17  0.0  0.0  0.0  0.0"
      ]
     },
     "execution_count": 36,
     "metadata": {},
     "output_type": "execute_result"
    }
   ],
   "source": [
    "L*U-A[P,:]"
   ]
  },
  {
   "cell_type": "markdown",
   "metadata": {},
   "source": [
    "### Potpuno pivotiranje\n",
    "\n",
    "Sljedeći program računa Gaussovu eliminaciju s _potpunim pivotiranjem_ - u svakom koraku retci i stupci zamijene na način da se na pivotnu poziciju dovede element koji ima najveću apsolutnu vrijednost u trenutnoj podmatrici."
   ]
  },
  {
   "cell_type": "code",
   "execution_count": 44,
   "metadata": {
    "collapsed": false
   },
   "outputs": [
    {
     "name": "stderr",
     "output_type": "stream",
     "text": [
      "WARNING: Method definition gecp(Array{#T<:Any, N<:Any}) in module Main at In[40]:4 overwritten at In[44]:4.\n"
     ]
    },
    {
     "data": {
      "text/plain": [
       "gecp (generic function with 1 method)"
      ]
     },
     "execution_count": 44,
     "metadata": {},
     "output_type": "execute_result"
    }
   ],
   "source": [
    "function gecp{T}(A1::Array{T})\n",
    "    # Gaussova eliminacija s potpunim pivotiranjem\n",
    "    # Izlaz: Pr*L*U*Pc'=A ili Pr'*A*Pc=L*U\n",
    "    A=deepcopy(A1)\n",
    "    n,m=size(A)\n",
    "    Pr=eye(n,n)\n",
    "    Pc=eye(n,n)\n",
    "    D=zeros(n)\n",
    "    for i=1:n-1\n",
    "        am1,im1=findmax(abs(A[i:n,i:n]),1)\n",
    "        am,JJ=findmax(am1)\n",
    "        II=mod(im1[JJ],(n-i+1))\n",
    "        if II==0\n",
    "            II=n-i+1\n",
    "        end\n",
    "        imax=II+i-1\n",
    "        jmax=JJ+i-1\n",
    "        #  zamijena redaka\n",
    "        if (imax != i)\n",
    "            temp = Pr[:,i]\n",
    "            Pr[:,i] = Pr[:,imax]\n",
    "            Pr[:,imax] = temp\n",
    "            temp = A[i,:]\n",
    "            A[i,:] = A[imax,:]\n",
    "            A[imax,:] = temp\n",
    "        end\n",
    "        # zamijena stupaca\n",
    "        if (jmax != i)\n",
    "            temp = Pc[:,i]\n",
    "            Pc[:,i] = Pc[:,jmax]\n",
    "            Pc[:,jmax] = temp\n",
    "            temp = A[:,i]\n",
    "            A[:,i] = A[:,jmax]\n",
    "            A[:,jmax] = temp\n",
    "        end\n",
    "        # eliminacija\n",
    "        D[i]=A[i,i]\n",
    "        A[i+1:n,i] = A[i+1:n,i]/D[i]\n",
    "        A[i+1:n,i+1:n] = A[i+1:n,i+1:n] - A[i+1:n,i]*A[i,i+1:n]'\n",
    "        A[i,i+1:n]=A[i,i+1:n]/D[i]\n",
    "    end\n",
    "    D[n]=A[n,n]\n",
    "    L=eye(n,n)+tril(A,-1)\n",
    "    U=eye(n,n)+triu(A,1)\n",
    "    U=diagm(D)*U\n",
    "    L,U,Pr,Pc\n",
    "end"
   ]
  },
  {
   "cell_type": "code",
   "execution_count": 45,
   "metadata": {
    "collapsed": false
   },
   "outputs": [
    {
     "data": {
      "text/plain": [
       "5-element Array{Float64,1}:\n",
       " 0.294559\n",
       " 0.351749\n",
       " 0.69913 \n",
       " 0.109168\n",
       " 0.419442"
      ]
     },
     "execution_count": 45,
     "metadata": {},
     "output_type": "execute_result"
    }
   ],
   "source": [
    "n=5\n",
    "A=rand(n,n)\n",
    "b=rand(n)"
   ]
  },
  {
   "cell_type": "code",
   "execution_count": 46,
   "metadata": {
    "collapsed": false
   },
   "outputs": [
    {
     "data": {
      "text/plain": [
       "(\n",
       "[1.0 0.0 … 0.0 0.0; 0.383386 1.0 … 0.0 0.0; … ; 0.64982 0.333702 … 1.0 0.0; 0.99698 0.251847 … 0.940898 1.0],\n",
       "\n",
       "[0.983242 0.204353 … 0.687532 0.167024; 0.0 0.806194 … 0.309776 0.476813; … ; 0.0 0.0 … -0.230477 -0.167206; 0.0 0.0 … 0.0 0.221589],\n",
       "\n",
       "[0.0 0.0 … 0.0 0.0; 0.0 0.0 … 0.0 1.0; … ; 1.0 0.0 … 0.0 0.0; 0.0 0.0 … 1.0 0.0],\n",
       "\n",
       "[0.0 1.0 … 0.0 0.0; 0.0 0.0 … 0.0 0.0; … ; 0.0 0.0 … 1.0 0.0; 1.0 0.0 … 0.0 0.0])"
      ]
     },
     "execution_count": 46,
     "metadata": {},
     "output_type": "execute_result"
    }
   ],
   "source": [
    "L,U,Pr,Pc=gecp(A)"
   ]
  },
  {
   "cell_type": "code",
   "execution_count": 47,
   "metadata": {
    "collapsed": false
   },
   "outputs": [
    {
     "data": {
      "text/plain": [
       "5×5 Array{Float64,2}:\n",
       " 0.0  0.0  0.0           0.0          0.0\n",
       " 0.0  0.0  0.0           0.0          0.0\n",
       " 0.0  0.0  1.11022e-16   0.0          0.0\n",
       " 0.0  0.0  0.0           0.0          0.0\n",
       " 0.0  0.0  2.77556e-17  -5.55112e-17  0.0"
      ]
     },
     "execution_count": 47,
     "metadata": {},
     "output_type": "execute_result"
    }
   ],
   "source": [
    "Pr*L*U*Pc'-A"
   ]
  },
  {
   "cell_type": "code",
   "execution_count": 48,
   "metadata": {
    "collapsed": false
   },
   "outputs": [
    {
     "data": {
      "text/plain": [
       "5-element Array{Float64,1}:\n",
       "  0.109168\n",
       "  0.657277\n",
       " -0.183956\n",
       "  0.218331\n",
       " -0.308184"
      ]
     },
     "execution_count": 48,
     "metadata": {},
     "output_type": "execute_result"
    }
   ],
   "source": [
    "y=myL(L,Pr'*b)"
   ]
  },
  {
   "cell_type": "code",
   "execution_count": 49,
   "metadata": {
    "collapsed": false
   },
   "outputs": [
    {
     "data": {
      "text/plain": [
       "5-element Array{Float64,1}:\n",
       "  0.125303 \n",
       "  1.68781  \n",
       " -0.375156 \n",
       "  0.0616839\n",
       " -1.39079  "
      ]
     },
     "execution_count": 49,
     "metadata": {},
     "output_type": "execute_result"
    }
   ],
   "source": [
    "z=myU(U,y)"
   ]
  },
  {
   "cell_type": "code",
   "execution_count": 50,
   "metadata": {
    "collapsed": false
   },
   "outputs": [
    {
     "data": {
      "text/plain": [
       "5-element Array{Float64,1}:\n",
       "  1.68781  \n",
       " -0.375156 \n",
       " -1.39079  \n",
       "  0.0616839\n",
       "  0.125303 "
      ]
     },
     "execution_count": 50,
     "metadata": {},
     "output_type": "execute_result"
    }
   ],
   "source": [
    "x=Pc*z"
   ]
  },
  {
   "cell_type": "code",
   "execution_count": 51,
   "metadata": {
    "collapsed": false
   },
   "outputs": [
    {
     "data": {
      "text/plain": [
       "5-element Array{Float64,1}:\n",
       " -1.11022e-16\n",
       "  1.11022e-16\n",
       " -1.11022e-16\n",
       "  5.55112e-17\n",
       " -5.55112e-17"
      ]
     },
     "execution_count": 51,
     "metadata": {},
     "output_type": "execute_result"
    }
   ],
   "source": [
    "A*x-b"
   ]
  },
  {
   "cell_type": "markdown",
   "metadata": {},
   "source": [
    "## Točnost\n",
    "\n",
    "Neka je zadan sustav $Ax=b$, pri čemu je matrica $A$ regularna.\n",
    "\n",
    "Da bi primijenili koncepte iz bilježnice [NA04_Pogreska_unatrag_i stabilni_algoritmi](NA04_Pogreska_unatrag_i_stabilni_algoritmi.ipynb), potrebno je:\n",
    "\n",
    "1. napraviti teoriju smetnje za dani problem\n",
    "2. analizirati pogreške algoritma (Gaussove eliminacije)\n",
    "\n",
    "### Teorija smetnje\n",
    "\n",
    "Neka je \n",
    "\n",
    "$$\n",
    "(A+\\delta A)\\hat x=(b+\\delta b)\n",
    "$$\n",
    "\n",
    "za neki $\\hat x=x+\\delta x$.\n",
    "\n",
    "Želimo ocijeniti \n",
    "\n",
    "$$\n",
    "\\frac{\\| \\hat x - x \\|}{\\| x\\|} \\equiv \\frac{\\| \\delta x\\|}{\\| x\\|}.\n",
    "$$\n",
    "\n",
    "Uvedimo oznake (npr. prema [Matrix Computations, poglavlje 2.6.2][GVL13])\n",
    "\n",
    "$$\n",
    "\\delta A=\\varepsilon F, \\quad \\delta b=\\varepsilon f, \\qquad \\hat x=x(\\varepsilon),\n",
    "$$\n",
    "čime smo dobili jednodimenzionalni problem \n",
    "\n",
    "$$\n",
    "(A+\\varepsilon F)x(\\varepsilon)=b+\\varepsilon f.\n",
    "$$\n",
    "\n",
    "za neke (nepoznate) matricu $F$ i vektor $f$. \n",
    "\n",
    "Deriviranje po $\\varepsilon$ daje\n",
    "\n",
    "$$\n",
    "Fx(\\varepsilon)+(A+\\varepsilon F)\\dot x(\\varepsilon)=f.\n",
    "$$\n",
    "\n",
    "Uvrštavanje $\\varepsilon=0$ daje\n",
    "\n",
    "$$\n",
    "F x+A\\dot x(0)=f,\n",
    "$$\n",
    "\n",
    "odnosno\n",
    "\n",
    "$$\n",
    "\\dot x(0)=A^{-1}(f-Fx).\n",
    "$$\n",
    "\n",
    "Taylorov razvoj oko $x(0)$ glasi\n",
    "\n",
    "$$\n",
    "x(\\varepsilon)=x(0)+\\varepsilon \\dot x(0) +O(\\varepsilon^2),\n",
    "$$\n",
    "\n",
    "odnosno, uz zanemarivanje člana $O(\\varepsilon^2)$,\n",
    "\n",
    "$$\n",
    "\\hat x-x=\\varepsilon A^{-1}(f-Fx)=A^{-1} (\\varepsilon f + \\varepsilon F x) = A^{-1} (\\delta b + \\delta A x).\n",
    "$$\n",
    "\n",
    "Svojstva norme povlače\n",
    "\n",
    "$$\n",
    "\\| \\hat x-x\\|\\leq \\| A^{-1} \\| (\\| \\delta b \\|  + \\| \\delta A \\| \\cdot \\|  x\\| ).\n",
    "$$\n",
    "\n",
    "Konačno, zbog $\\| b\\| \\leq \\| A\\| \\| x\\|$, imamo\n",
    "\n",
    "$$\n",
    "\\frac{\\| \\hat x-x\\|}{\\| x\\|}\\leq \\| A\\|  \\cdot \\| A^{-1} \\| \\bigg(\\frac{\\| \\delta b \\|}{\\|b\\|}  + \\frac{\\| \\delta A \\|}{ \\|  A\\|} \\bigg). \\tag{1}\n",
    "$$\n",
    "\n",
    "Broj \n",
    "$$\n",
    "\\kappa(A)\\equiv \\| A\\|  \\cdot \\| A^{-1} \\|\n",
    "$$ \n",
    "\n",
    "je __uvjetovanost__ (__kondicija__)  matrice $A$ i kazuje nam \n",
    "\n",
    "> koliko se relativno uvećaju relativne promjene u polaznim podacima (matrici $A$ i vektoru $b$).\n",
    "\n",
    "Pogledajmo primjer iz [Numeričke matematike, str. 42][RS04]:\n",
    "\n",
    "\n",
    "[GVL13]: https://books.google.hr/books?id=X5YfsuCWpxMC&printsec=frontcover&hl=hr#v=onepage&q&f=false \"G. Golub and C. F Van Loan, 'Matrix Computations', 4th Edition, John Hopkins, Baltimore, 2013\" \n",
    "\n",
    "[RS04]: http://www.mathos.unios.hr/pim/Materijali/Num.pdf \"R. Scitovski, 'Numerička matematika', Sveučilište u Osijeku, Osijek, 2004.\""
   ]
  },
  {
   "cell_type": "code",
   "execution_count": 52,
   "metadata": {
    "collapsed": false
   },
   "outputs": [
    {
     "data": {
      "text/plain": [
       "2×2 Array{Float64,2}:\n",
       " 0.234  0.458\n",
       " 0.383  0.75 "
      ]
     },
     "execution_count": 52,
     "metadata": {},
     "output_type": "execute_result"
    }
   ],
   "source": [
    "A= [0.234 0.458; 0.383 0.750]"
   ]
  },
  {
   "cell_type": "code",
   "execution_count": 53,
   "metadata": {
    "collapsed": false
   },
   "outputs": [
    {
     "data": {
      "text/plain": [
       "2-element Array{Float64,1}:\n",
       " 0.224\n",
       " 0.367"
      ]
     },
     "execution_count": 53,
     "metadata": {},
     "output_type": "execute_result"
    }
   ],
   "source": [
    "b=[0.224;0.367]"
   ]
  },
  {
   "cell_type": "code",
   "execution_count": 54,
   "metadata": {
    "collapsed": false
   },
   "outputs": [
    {
     "data": {
      "text/plain": [
       "2-element Array{Float64,1}:\n",
       " -1.0\n",
       "  1.0"
      ]
     },
     "execution_count": 54,
     "metadata": {},
     "output_type": "execute_result"
    }
   ],
   "source": [
    "x=A\\b"
   ]
  },
  {
   "cell_type": "code",
   "execution_count": 55,
   "metadata": {
    "collapsed": false
   },
   "outputs": [
    {
     "data": {
      "text/plain": [
       "2-element Array{Float64,1}:\n",
       " -0.241744\n",
       "  0.612791"
      ]
     },
     "execution_count": 55,
     "metadata": {},
     "output_type": "execute_result"
    }
   ],
   "source": [
    "δb=[0.00009; 0.000005]\n",
    "x1=A\\(b+δb)"
   ]
  },
  {
   "cell_type": "code",
   "execution_count": 56,
   "metadata": {
    "collapsed": false
   },
   "outputs": [
    {
     "data": {
      "text/plain": [
       "(11322.197586092605,0.0002096449170953002,0.6020311134825742)"
      ]
     },
     "execution_count": 56,
     "metadata": {},
     "output_type": "execute_result"
    }
   ],
   "source": [
    "cond(A), norm(δb)/norm(b), norm(x1-x)/norm(x)"
   ]
  },
  {
   "cell_type": "code",
   "execution_count": 57,
   "metadata": {
    "collapsed": false
   },
   "outputs": [
    {
     "data": {
      "text/plain": [
       "2-element Array{Float64,1}:\n",
       " 0.129518\n",
       " 0.423193"
      ]
     },
     "execution_count": 57,
     "metadata": {},
     "output_type": "execute_result"
    }
   ],
   "source": [
    "δA=[-0.001 0;0 0]\n",
    "x2=(A+δA)\\b"
   ]
  },
  {
   "cell_type": "code",
   "execution_count": 58,
   "metadata": {
    "collapsed": false
   },
   "outputs": [
    {
     "data": {
      "text/plain": [
       "(11322.197586092605,0.0010134105230118603,0.896804787832142)"
      ]
     },
     "execution_count": 58,
     "metadata": {},
     "output_type": "execute_result"
    }
   ],
   "source": [
    "cond(A), norm(δA)/norm(A), norm(x2-x)/norm(x)"
   ]
  },
  {
   "cell_type": "markdown",
   "metadata": {},
   "source": [
    "### Pogreška Gaussove eliminacije\n",
    "\n",
    "Prema [Matrix Computations, poglavlje 3.3][GVL13], za izračunate faktore\n",
    "$\\hat L$ i $\\hat U$ vrijedi\n",
    "\n",
    "$$\n",
    "\\hat L\\cdot \\hat U = A+\\delta A\n",
    "$$\n",
    "\n",
    "gdje je (nejednakost se čita po elementima matrica, $\\varepsilon$ je sada točnost stroja)\n",
    "\n",
    "$$\n",
    "| \\delta A|\\leq 3(n-1) \\varepsilon (|A|+|\\hat L| \\cdot |\\hat U|) +O(\\varepsilon^2).\n",
    "$$\n",
    "\n",
    "Zanemarivanje člana $O(\\varepsilon^2)$ i prelazak na normu daju\n",
    "\n",
    "$$\n",
    "\\|\\delta A \\| \\approx \\leq  O(n)\\varepsilon (\\| A\\| + \\| \\hat L\\| \\cdot \\| \\hat U\\|),\n",
    "$$\n",
    "\n",
    "pa je \n",
    "\n",
    "$$\n",
    " \\frac{\\|\\delta A \\|}{\\|A\\|} \\leq O(n)\\varepsilon \\bigg(1+\\frac{\\| \\hat L\\| \\cdot \\| \\hat U\\|}{\\|A\\|}\\bigg).\n",
    "$$\n",
    "\n",
    "Ukoliko se Gaussova eliminacija radi s pivotiranjem, tada će najvjerojatnije zadnji kvocijent također biti malen \n",
    "($\\approx 1$). Također, pogreška kod rješavanja trokutastih sustava nije veća od navedene pa, uvrštavanjme u (1), slijedi \n",
    "da za relativnu pogrešku izračunatog rješenja vrijedi\n",
    "\n",
    "$$\n",
    "\\frac{\\| \\hat x-x\\|}{\\| x\\|}\\leq \\kappa(A) O(n\\varepsilon).\n",
    "$$\n",
    "\n",
    "> __Ukoliko je kondicija matrice velika, rješenje može biti netočno.__\n",
    "\n",
    "[GVL13]: https://books.google.hr/books?id=X5YfsuCWpxMC&printsec=frontcover&hl=hr#v=onepage&q&f=false \"G. Golub and C. F Van Loan, 'Matrix Computations', 4th Edition, John Hopkins, Baltimore, 2013\" "
   ]
  },
  {
   "cell_type": "code",
   "execution_count": 59,
   "metadata": {
    "collapsed": false
   },
   "outputs": [
    {
     "data": {
      "text/plain": [
       "10-element Array{Float64,1}:\n",
       " 0.685816 \n",
       " 0.0897764\n",
       " 0.331064 \n",
       " 0.0372276\n",
       " 0.589024 \n",
       " 0.472516 \n",
       " 0.715734 \n",
       " 0.379478 \n",
       " 0.211293 \n",
       " 0.910941 "
      ]
     },
     "execution_count": 59,
     "metadata": {},
     "output_type": "execute_result"
    }
   ],
   "source": [
    "n=10\n",
    "v=rand(n)"
   ]
  },
  {
   "cell_type": "code",
   "execution_count": 60,
   "metadata": {
    "collapsed": false
   },
   "outputs": [
    {
     "data": {
      "text/plain": [
       "10×10 Array{Float64,2}:\n",
       " 1.0        1.0          1.0          …  1.0          1.0         1.0     \n",
       " 0.685816   0.0897764    0.331064        0.379478     0.211293    0.910941\n",
       " 0.470343   0.00805981   0.109603        0.144004     0.0446448   0.829814\n",
       " 0.322569   0.000723581  0.0362857       0.0546462    0.00943314  0.755912\n",
       " 0.221223   6.49605e-5   0.0120129       0.020737     0.00199316  0.688591\n",
       " 0.151718   5.83193e-6   0.00397703   …  0.00786925   0.00042114  0.627266\n",
       " 0.104051   5.2357e-7    0.00131665      0.00298621   8.8984e-5   0.571403\n",
       " 0.0713596  4.70042e-8   0.000435895     0.0011332    1.88017e-5  0.520514\n",
       " 0.0489396  4.21987e-9   0.000144309     0.000430025  3.97267e-6  0.474158\n",
       " 0.0335635  3.78845e-10  4.77755e-5      0.000163185  8.39399e-7  0.43193 "
      ]
     },
     "execution_count": 60,
     "metadata": {},
     "output_type": "execute_result"
    }
   ],
   "source": [
    "# Vandermonmde-oove matrice imaju veliku kondiciju.\n",
    "A=Array(Float64,n,n)\n",
    "for i=1:n\n",
    "    A[:,i]=v.^(i-1)\n",
    "end\n",
    "A=A'"
   ]
  },
  {
   "cell_type": "code",
   "execution_count": 61,
   "metadata": {
    "collapsed": false
   },
   "outputs": [
    {
     "data": {
      "text/plain": [
       "10-element Array{Float64,1}:\n",
       " 0.334644 \n",
       " 0.0811179\n",
       " 0.589614 \n",
       " 0.187764 \n",
       " 0.203573 \n",
       " 0.28884  \n",
       " 0.697674 \n",
       " 0.708069 \n",
       " 0.947738 \n",
       " 0.980163 "
      ]
     },
     "execution_count": 61,
     "metadata": {},
     "output_type": "execute_result"
    }
   ],
   "source": [
    "b=rand(n)"
   ]
  },
  {
   "cell_type": "code",
   "execution_count": 62,
   "metadata": {
    "collapsed": false
   },
   "outputs": [
    {
     "data": {
      "text/plain": [
       "10-element Array{Float64,1}:\n",
       "     -4.79216e5\n",
       " -80610.2      \n",
       "     -1.44658e6\n",
       "  26033.6      \n",
       "      5.48085e5\n",
       "     -1.01539e6\n",
       "      2.61181e5\n",
       "      1.91869e6\n",
       "      2.68998e5\n",
       "  -1200.16     "
      ]
     },
     "execution_count": 62,
     "metadata": {},
     "output_type": "execute_result"
    }
   ],
   "source": [
    "x=A\\b"
   ]
  },
  {
   "cell_type": "code",
   "execution_count": 63,
   "metadata": {
    "collapsed": false
   },
   "outputs": [
    {
     "data": {
      "text/plain": [
       "6.923611014281535e7"
      ]
     },
     "execution_count": 63,
     "metadata": {},
     "output_type": "execute_result"
    }
   ],
   "source": [
    "cond(A)"
   ]
  },
  {
   "cell_type": "code",
   "execution_count": 64,
   "metadata": {
    "collapsed": false
   },
   "outputs": [
    {
     "data": {
      "text/plain": [
       "10-element Array{BigFloat,1}:\n",
       " -4.792158503668085782666477516051190605395196444863196051513226993039490422534515e+05\n",
       " -8.061018496756140623567151989892980328620704884736550927917870865139192526945689e+04\n",
       " -1.446575492464216620006139152470522853113916314459885974120964336074577165601753e+06\n",
       "  2.60336092314774617703561270785112543866059724626562942793465087499468563492546e+04 \n",
       "  5.480846585606001585596888532808330745481192808726843282271922504309250616374176e+05\n",
       " -1.015388838504983553890382090225869901811778368634711862024030634880889541411244e+06\n",
       "  2.611813513018825426000281531077747947724734807897540650625343754299238967605611e+05\n",
       "  1.918692928913689090127992433184809986005057929766108990895560669016197026205215e+06\n",
       "  2.689983089593238674556097236794854235412431694707032140113175080617422960595239e+05\n",
       " -1.200156019719334741434207459004556398892564828521402837954932777927462476072208e+03"
      ]
     },
     "execution_count": 64,
     "metadata": {},
     "output_type": "execute_result"
    }
   ],
   "source": [
    "Ab=Array(BigFloat,n,n)\n",
    "bb=Array(BigFloat,n)\n",
    "for i=1:n\n",
    "    for j=1:n\n",
    "        Ab[i,j]=convert(BigFloat,A[i,j])\n",
    "    end\n",
    "    bb[i]=convert(BigFloat,b[i])\n",
    "end\n",
    "xb=Ab\\bb"
   ]
  },
  {
   "cell_type": "code",
   "execution_count": 65,
   "metadata": {
    "collapsed": false
   },
   "outputs": [
    {
     "data": {
      "text/plain": [
       "1.290039177873875592197949019130908033581575644778761003122730583348990459824275e-11"
      ]
     },
     "execution_count": 65,
     "metadata": {},
     "output_type": "execute_result"
    }
   ],
   "source": [
    "norm(xb-x)/norm(xb)"
   ]
  },
  {
   "cell_type": "markdown",
   "metadata": {},
   "source": [
    "### Umjetno loša kondicija"
   ]
  },
  {
   "cell_type": "code",
   "execution_count": 66,
   "metadata": {
    "collapsed": false
   },
   "outputs": [
    {
     "name": "stdout",
     "output_type": "stream",
     "text": [
      "(x,cond(A)) = ([-1.0,2.0],6.854101966249685)\n"
     ]
    },
    {
     "data": {
      "text/plain": [
       "([-1.0,2.0],50000.00017991671,[8.88178e-16,-4.44089e-16])"
      ]
     },
     "execution_count": 66,
     "metadata": {},
     "output_type": "execute_result"
    }
   ],
   "source": [
    "A=[1 1; 1 2]\n",
    "b=[1;3]\n",
    "x=A\\b\n",
    "@show x,cond(A)\n",
    "A1=[1e-4 1e-4;1 2]\n",
    "b1=[1e-4;3]\n",
    "x1=A1\\b1\n",
    "x,cond(A1),x-x1"
   ]
  },
  {
   "cell_type": "markdown",
   "metadata": {
    "collapsed": true
   },
   "source": [
    "## Rezidual\n",
    "\n",
    "\n",
    "Izračunato rješenje $\\hat x$ sustava $Ax=b$ je točno rješenje nekog sličnog sustava (vidi [Afternotes on Numerical Analysis, str. 128][Ste96]):\n",
    "\n",
    "\n",
    "$$ \n",
    "(A+\\delta A)\\hat x=b. \\tag{1}\n",
    "$$\n",
    "\n",
    "__Rezidual__ (ili __ostatak__) definiramo kao \n",
    "\n",
    "$$\n",
    "r=b-A\\hat x.\n",
    "$$\n",
    "\n",
    "Tada je \n",
    "\n",
    "$$\n",
    "0=b-(A+\\delta A)\\hat x=r- \\delta A\\hat x\n",
    "$$\n",
    "\n",
    "pa je \n",
    "\n",
    "$$ \n",
    "\\| r\\| \\leq \\| \\delta A\\hat x \\| \\leq \\| \\delta A\\| \\cdot \\|\\hat x \\|,\n",
    "$$\n",
    "\n",
    "odnosno\n",
    "\n",
    "$$\n",
    "\\frac{\\|  \\delta A\\|}{\\|A \\|} \\geq \\frac{\\|r\\|}{\\| A\\| \\cdot \\|\\hat x \\|}.\n",
    "$$\n",
    "\n",
    "Dakle,\n",
    "\n",
    "> ako  _relativni rezidual_ \n",
    ">\n",
    "> $$ \\frac{r}{\\| A\\| \\cdot \\|\\hat x \\|}$$\n",
    "> \n",
    "> ima veliku normu, tada __rješenje nije izračunato stabilno.__\n",
    "\n",
    "S druge strane, ako relativni rezidual ima malu normu, tada je rješenje izračunato stabilno. Naime, za\n",
    "\n",
    "$$\n",
    "\\delta A=\\frac{r\\hat x^T}{\\|\\hat x\\|^2}\n",
    "$$\n",
    "\n",
    "vrijedi (1):\n",
    "\n",
    "$$\n",
    "b-(A+\\delta A)\\hat x=(b-A\\hat x)-\\delta A \\hat x = r-\\frac{r\\hat x^T \\hat x}{\\|\\hat x\\|^2}\n",
    "= r-\\frac{r \\|\\hat x^T \\hat x\\|}{\\|\\hat x\\|^2}=r-r=0.\n",
    "$$\n",
    "\n",
    "Također vrijedi\n",
    "\n",
    "$$\n",
    "\\frac{\\|  \\delta A\\|}{\\|A \\|}  \\leq  \\frac{\\|r\\|\\|\\hat x \\|}{\\| A\\| \\cdot \\|\\hat x \\|^2}=\n",
    "\\frac{\\|r\\|}{\\| A\\| \\cdot \\|\\hat x \\|}.\n",
    "$$\n",
    "\n",
    "\n",
    "\n",
    "\n",
    "[Ste96]: https://books.google.hr/books?id=w-2PWh01kWcC&printsec=frontcover&hl=hr#v=onepage&q&f=false    \"G. W. Stewart, 'Afternotes on Numerical Analysis', SIAM, Philadelphia, 1996\""
   ]
  },
  {
   "cell_type": "code",
   "execution_count": 67,
   "metadata": {
    "collapsed": false
   },
   "outputs": [
    {
     "data": {
      "text/plain": [
       "2-element Array{Float64,1}:\n",
       " 0.0\n",
       " 0.0"
      ]
     },
     "execution_count": 67,
     "metadata": {},
     "output_type": "execute_result"
    }
   ],
   "source": [
    "r=b-A*x"
   ]
  },
  {
   "cell_type": "code",
   "execution_count": 68,
   "metadata": {
    "collapsed": false
   },
   "outputs": [
    {
     "data": {
      "text/plain": [
       "0.0"
      ]
     },
     "execution_count": 68,
     "metadata": {},
     "output_type": "execute_result"
    }
   ],
   "source": [
    "norm(r)/(norm(A)*norm(x))"
   ]
  },
  {
   "cell_type": "code",
   "execution_count": null,
   "metadata": {
    "collapsed": true
   },
   "outputs": [],
   "source": []
  }
 ],
 "metadata": {
  "anaconda-cloud": {},
  "kernelspec": {
   "display_name": "Julia 0.5.0",
   "language": "julia",
   "name": "julia-0.5"
  },
  "language_info": {
   "file_extension": ".jl",
   "mimetype": "application/julia",
   "name": "julia",
   "version": "0.5.0"
  }
 },
 "nbformat": 4,
 "nbformat_minor": 0
}
