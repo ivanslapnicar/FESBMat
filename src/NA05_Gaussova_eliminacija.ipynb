{
 "cells": [
  {
   "cell_type": "markdown",
   "metadata": {},
   "source": [
    "# Gaussova eliminacija\n",
    "---\n",
    "\n",
    "## Općenito\n",
    "\n",
    "Sustav $Ax=b$\n",
    "se rješava u tri koraka (__bez pivotiranja__):\n",
    "\n",
    "1. $A=LU$ (LU rastav, $O\\big(\\displaystyle\\frac{2}{3}n^3\\big)$ operacija),\n",
    "2. $Ly=b$ (donje trokutrasti sustav, $n^2$ operacija),\n",
    "3. $Ux=y$ (gornje torkutasti sustav, $n^2$ operacija).\n",
    "\n",
    "Ukoliko pivotiramo, tada je\n",
    "\n",
    "1. $PA=LU$, \n",
    "2. $Ly=P^T b$,\n",
    "3. $Ux=y$. "
   ]
  },
  {
   "cell_type": "markdown",
   "metadata": {},
   "source": [
    "## LU rastav"
   ]
  },
  {
   "cell_type": "code",
   "execution_count": 1,
   "metadata": {
    "collapsed": false
   },
   "outputs": [
    {
     "data": {
      "text/plain": [
       "mylu (generic function with 1 method)"
      ]
     },
     "execution_count": 1,
     "metadata": {},
     "output_type": "execute_result"
    }
   ],
   "source": [
    "function mylu{T}(A1::Array{T}) # Strang, page 100\n",
    "    A=deepcopy(A1)\n",
    "    n,m=size(A)\n",
    "    U=map(Float64,[zero(A[1,1]) for i=1:n, j=1:n]) # This acccepts blocks and numbers\n",
    "    L=map(Float64,[zero(A[1,1]) for i=1:n, j=1:n])\n",
    "    for k=1:n\n",
    "        L[k,k]=one(A[1,1])\n",
    "        for i=k+1:n\n",
    "            L[i,k]=A[i,k]/A[k,k]\n",
    "            for j=k+1:n\n",
    "                A[i,j]=A[i,j]-L[i,k]*A[k,j]\n",
    "            end\n",
    "        end\n",
    "        for j=k:n\n",
    "            U[k,j]=A[k,j]\n",
    "        end\n",
    "    end\n",
    "    L,U\n",
    "end"
   ]
  },
  {
   "cell_type": "code",
   "execution_count": 2,
   "metadata": {
    "collapsed": false
   },
   "outputs": [
    {
     "data": {
      "text/plain": [
       "6x6 Array{Float64,2}:\n",
       " 0.653018    0.386455   0.601849   0.0801381  0.73574   0.129083\n",
       " 0.509359    0.0778841  0.889809   0.759393   0.477421  0.47311 \n",
       " 0.641238    0.169071   0.858514   0.664296   0.979717  0.378952\n",
       " 0.508776    0.0946753  0.975459   0.87416    0.844835  0.992135\n",
       " 0.00376703  0.770302   0.0306788  0.519082   0.250509  0.83525 \n",
       " 0.775469    0.935316   0.76713    0.987087   0.309463  0.466184"
      ]
     },
     "execution_count": 2,
     "metadata": {},
     "output_type": "execute_result"
    }
   ],
   "source": [
    "A=rand(6,6)\n",
    "# A=[2.0 2;3 4]"
   ]
  },
  {
   "cell_type": "code",
   "execution_count": 3,
   "metadata": {
    "collapsed": false
   },
   "outputs": [
    {
     "data": {
      "text/plain": [
       "(\n",
       "6x6 Array{Float64,2}:\n",
       " 1.0          0.0         0.0        0.0     0.0      0.0\n",
       " 0.780008     1.0         0.0        0.0     0.0      0.0\n",
       " 0.981961     0.941216    1.0        0.0     0.0      0.0\n",
       " 0.779115     0.923345   -0.924138   1.0     0.0      0.0\n",
       " 0.00576865  -3.43573   -11.4841    20.3863  1.0      0.0\n",
       " 1.18752     -2.131      -7.4004    17.9772  1.04623  1.0,\n",
       "\n",
       "6x6 Array{Float64,2}:\n",
       " 0.653018   0.386455   0.601849   0.0801381   0.73574    0.129083 \n",
       " 0.0       -0.223554   0.420362   0.696885   -0.096462   0.372423 \n",
       " 0.0        0.0       -0.128131  -0.0703156   0.348041  -0.0983333\n",
       " 0.0        0.0        0.0        0.103276    0.682314   0.456816 \n",
       " 0.0        0.0        0.0        0.0        -9.99809   -8.32799  \n",
       " 0.0        0.0        0.0        0.0         0.0        0.879518 )"
      ]
     },
     "execution_count": 3,
     "metadata": {},
     "output_type": "execute_result"
    }
   ],
   "source": [
    "L,U=mylu(A)"
   ]
  },
  {
   "cell_type": "code",
   "execution_count": 4,
   "metadata": {
    "collapsed": false
   },
   "outputs": [
    {
     "data": {
      "text/plain": [
       "6x6 Array{Float64,2}:\n",
       " 0.0          0.0  0.0  0.0           0.0           0.0        \n",
       " 0.0          0.0  0.0  0.0           0.0           0.0        \n",
       " 0.0          0.0  0.0  0.0           0.0           0.0        \n",
       " 0.0          0.0  0.0  0.0           0.0           0.0        \n",
       " 4.33681e-19  0.0  0.0  0.0           6.66134e-16   0.0        \n",
       " 1.11022e-16  0.0  0.0  1.11022e-16  -1.33227e-15  -1.11022e-15"
      ]
     },
     "execution_count": 4,
     "metadata": {},
     "output_type": "execute_result"
    }
   ],
   "source": [
    "L*U-A"
   ]
  },
  {
   "cell_type": "markdown",
   "metadata": {},
   "source": [
    "## Trokutasti sustavi"
   ]
  },
  {
   "cell_type": "code",
   "execution_count": 6,
   "metadata": {
    "collapsed": false
   },
   "outputs": [
    {
     "data": {
      "text/plain": [
       "myL (generic function with 1 method)"
      ]
     },
     "execution_count": 6,
     "metadata": {},
     "output_type": "execute_result"
    }
   ],
   "source": [
    "function myU{T}(U::Array{T},b1::Array{T})\n",
    "    b=deepcopy(b1)\n",
    "    n=length(b)\n",
    "    for i=n:-1:1\n",
    "       for j=n:-1:i+1\n",
    "            b[i]=b[i]-U[i,j]*b[j]\n",
    "       end\n",
    "        b[i]=b[i]/U[i,i]\n",
    "    end\n",
    "    b\n",
    "end\n",
    "\n",
    "function myL{T}(L::Array{T},b1::Array{T})\n",
    "    b=deepcopy(b1)\n",
    "    n=length(b)\n",
    "    for i=1:n\n",
    "        for j=1:i-1\n",
    "            b[i]=b[i]-L[i,j]*b[j]\n",
    "        end\n",
    "        b[i]=b[i]/L[i,i]\n",
    "    end\n",
    "    b\n",
    "end"
   ]
  },
  {
   "cell_type": "code",
   "execution_count": 7,
   "metadata": {
    "collapsed": false
   },
   "outputs": [
    {
     "data": {
      "text/plain": [
       "6-element Array{Float64,1}:\n",
       " 0.518376\n",
       " 0.298284\n",
       " 0.124805\n",
       " 0.291274\n",
       " 0.595325\n",
       " 0.461642"
      ]
     },
     "execution_count": 7,
     "metadata": {},
     "output_type": "execute_result"
    }
   ],
   "source": [
    "b=rand(6)"
   ]
  },
  {
   "cell_type": "code",
   "execution_count": 8,
   "metadata": {
    "collapsed": false
   },
   "outputs": [
    {
     "data": {
      "text/plain": [
       "6-element Array{Float64,1}:\n",
       " -2.79803  \n",
       "  1.81014  \n",
       "  3.00531  \n",
       " -1.24616  \n",
       " -0.0383612\n",
       " -0.268443 "
      ]
     },
     "execution_count": 8,
     "metadata": {},
     "output_type": "execute_result"
    }
   ],
   "source": [
    "# Rijesimo sustav pomocu ugradjene funkcije:\n",
    "x=A\\b"
   ]
  },
  {
   "cell_type": "code",
   "execution_count": 9,
   "metadata": {
    "collapsed": false
   },
   "outputs": [
    {
     "data": {
      "text/plain": [
       "6-element Array{Float64,1}:\n",
       "  0.518376\n",
       " -0.106053\n",
       " -0.284402\n",
       " -0.277503\n",
       "  2.61913 \n",
       " -0.236101"
      ]
     },
     "execution_count": 9,
     "metadata": {},
     "output_type": "execute_result"
    }
   ],
   "source": [
    "# Rijesimo sustav pomocu nasih funkcija\n",
    "y=myL(L,b)"
   ]
  },
  {
   "cell_type": "code",
   "execution_count": 10,
   "metadata": {
    "collapsed": false
   },
   "outputs": [
    {
     "data": {
      "text/plain": [
       "6-element Array{Float64,1}:\n",
       " -2.79803  \n",
       "  1.81014  \n",
       "  3.00531  \n",
       " -1.24616  \n",
       " -0.0383612\n",
       " -0.268443 "
      ]
     },
     "execution_count": 10,
     "metadata": {},
     "output_type": "execute_result"
    }
   ],
   "source": [
    "x1=myU(U,y)"
   ]
  },
  {
   "cell_type": "code",
   "execution_count": 11,
   "metadata": {
    "collapsed": false
   },
   "outputs": [
    {
     "data": {
      "text/plain": [
       "6-element Array{Float64,1}:\n",
       "  4.44089e-16\n",
       " -2.22045e-16\n",
       "  4.44089e-16\n",
       " -2.22045e-16\n",
       " -1.31839e-16\n",
       " -2.22045e-16"
      ]
     },
     "execution_count": 11,
     "metadata": {},
     "output_type": "execute_result"
    }
   ],
   "source": [
    "# Usporedimo rjesenja\n",
    "x-x1"
   ]
  },
  {
   "cell_type": "markdown",
   "metadata": {},
   "source": [
    "## Brzina\n",
    "\n",
    "Program `mylu()` je jako spor. Između ostalog, alocira nepotrebno tri matrice i ne računa s blok matricama.\n",
    "\n",
    "Program se može reformulirati na načun da su i $L$ i $U$ spremljene u polje $A$, pri čemu se dijagonala od $L$ ne sprema, jer su svi elementi jednaki 1 (vidi [Introduction to Linear Algebra, str. 100][St09]):\n",
    "\n",
    "[St09]: https://books.google.hr/books?id=M19gPgAACAAJ&dq=strang%20introduction&hl=hr&source=gbs_book_other_versions \"Gilbert Strang, 'Introduction to Linear Algebra, 4th Edition', Wellesley-Cambridge Press, 2009\"\n"
   ]
  },
  {
   "cell_type": "code",
   "execution_count": 12,
   "metadata": {
    "collapsed": false
   },
   "outputs": [
    {
     "data": {
      "text/plain": [
       "mylu1 (generic function with 1 method)"
      ]
     },
     "execution_count": 12,
     "metadata": {},
     "output_type": "execute_result"
    }
   ],
   "source": [
    "function mylu1{T}(A1::Array{T}) # Strang, page 100\n",
    "    A=deepcopy(A1)\n",
    "    n,m=size(A)\n",
    "    for k=1:n-1\n",
    "        rho=k+1:n\n",
    "        A[rho,k]=A[rho,k]/A[k,k]\n",
    "        A[rho,rho]=A[rho,rho]-A[rho,k]*A[k,rho]\n",
    "    end\n",
    "    A\n",
    "end"
   ]
  },
  {
   "cell_type": "code",
   "execution_count": 13,
   "metadata": {
    "collapsed": false
   },
   "outputs": [
    {
     "data": {
      "text/plain": [
       "6x6 Array{Float64,2}:\n",
       " 0.653018     0.386455    0.601849   0.0801381   0.73574    0.129083 \n",
       " 0.780008    -0.223554    0.420362   0.696885   -0.096462   0.372423 \n",
       " 0.981961     0.941216   -0.128131  -0.0703156   0.348041  -0.0983333\n",
       " 0.779115     0.923345   -0.924138   0.103276    0.682314   0.456816 \n",
       " 0.00576865  -3.43573   -11.4841    20.3863     -9.99809   -8.32799  \n",
       " 1.18752     -2.131      -7.4004    17.9772      1.04623    0.879518 "
      ]
     },
     "execution_count": 13,
     "metadata": {},
     "output_type": "execute_result"
    }
   ],
   "source": [
    "mylu1(A)"
   ]
  },
  {
   "cell_type": "code",
   "execution_count": 14,
   "metadata": {
    "collapsed": false
   },
   "outputs": [
    {
     "data": {
      "text/plain": [
       "(\n",
       "6x6 Array{Float64,2}:\n",
       " 1.0          0.0         0.0        0.0     0.0      0.0\n",
       " 0.780008     1.0         0.0        0.0     0.0      0.0\n",
       " 0.981961     0.941216    1.0        0.0     0.0      0.0\n",
       " 0.779115     0.923345   -0.924138   1.0     0.0      0.0\n",
       " 0.00576865  -3.43573   -11.4841    20.3863  1.0      0.0\n",
       " 1.18752     -2.131      -7.4004    17.9772  1.04623  1.0,\n",
       "\n",
       "6x6 Array{Float64,2}:\n",
       " 0.653018   0.386455   0.601849   0.0801381   0.73574    0.129083 \n",
       " 0.0       -0.223554   0.420362   0.696885   -0.096462   0.372423 \n",
       " 0.0        0.0       -0.128131  -0.0703156   0.348041  -0.0983333\n",
       " 0.0        0.0        0.0        0.103276    0.682314   0.456816 \n",
       " 0.0        0.0        0.0        0.0        -9.99809   -8.32799  \n",
       " 0.0        0.0        0.0        0.0         0.0        0.879518 )"
      ]
     },
     "execution_count": 14,
     "metadata": {},
     "output_type": "execute_result"
    }
   ],
   "source": [
    "L,U"
   ]
  },
  {
   "cell_type": "markdown",
   "metadata": {},
   "source": [
    "Usporedimo brzine LAPACK-ovog programa `lu()` i našeg naivnog programa `mylu()`na većoj dimenziji. \n",
    "\n",
    "Izvedite program par puta radi točnijeg mjerenja brzine."
   ]
  },
  {
   "cell_type": "code",
   "execution_count": 15,
   "metadata": {
    "collapsed": false
   },
   "outputs": [
    {
     "data": {
      "text/plain": [
       "512x512 Array{Float64,2}:\n",
       " 0.192478   0.809943   0.855846   …  0.610998   0.526602    0.224027 \n",
       " 0.0935146  0.852439   0.0613699     0.506184   0.847527    0.120355 \n",
       " 0.0211303  0.325117   0.633091      0.618872   0.920787    0.131382 \n",
       " 0.457873   0.613817   0.590023      0.0640139  0.667477    0.777776 \n",
       " 0.483842   0.12264    0.949276      0.481269   0.331783    0.958864 \n",
       " 0.957335   0.164872   0.201933   …  0.213216   0.116016    0.86668  \n",
       " 0.0681968  0.478824   0.237192      0.730866   0.92843     0.748659 \n",
       " 0.44437    0.483323   0.0234203     0.566899   0.465529    0.0222732\n",
       " 0.376585   0.183728   0.815143      0.576108   0.0435919   0.901596 \n",
       " 0.818301   0.677237   0.240211      0.96246    0.0989068   0.396855 \n",
       " 0.308748   0.0852666  0.608998   …  0.763359   0.776179    0.247996 \n",
       " 0.850243   0.216705   0.142205      0.574962   0.278542    0.192442 \n",
       " 0.509391   0.0971858  0.723013      0.576057   0.110299    0.310514 \n",
       " ⋮                                ⋱             ⋮                    \n",
       " 0.627493   0.717741   0.503317   …  0.0739395  0.00399457  0.460742 \n",
       " 0.734282   0.688544   0.628761      0.694767   0.617679    0.284976 \n",
       " 0.770485   0.898364   0.0552584     0.437232   0.722607    0.713926 \n",
       " 0.677941   0.568549   0.794624      0.677109   0.911505    0.726776 \n",
       " 0.853452   0.158531   0.0252089     0.421999   0.622301    0.416655 \n",
       " 0.131287   0.371717   0.48922    …  0.251883   0.122119    0.59449  \n",
       " 0.0421742  0.362734   0.344091      0.867326   0.183342    0.102274 \n",
       " 0.514323   0.402929   0.757361      0.0894801  0.977371    0.151592 \n",
       " 0.0537336  0.391804   0.508962      0.789513   0.00639255  0.674409 \n",
       " 0.467338   0.997191   0.914009      0.822724   0.967578    0.489397 \n",
       " 0.263801   0.871424   0.637329   …  0.0869625  0.305582    0.425778 \n",
       " 0.460737   0.282197   0.904311      0.591319   0.348607    0.856655 "
      ]
     },
     "execution_count": 15,
     "metadata": {},
     "output_type": "execute_result"
    }
   ],
   "source": [
    "n=512\n",
    "A=rand(n,n)"
   ]
  },
  {
   "cell_type": "code",
   "execution_count": 18,
   "metadata": {
    "collapsed": false
   },
   "outputs": [
    {
     "name": "stdout",
     "output_type": "stream",
     "text": [
      "  0.242977 seconds (38 allocations: 6.009 MB)\n"
     ]
    }
   ],
   "source": [
    "@time lu(A);"
   ]
  },
  {
   "cell_type": "code",
   "execution_count": 22,
   "metadata": {
    "collapsed": false
   },
   "outputs": [
    {
     "name": "stdout",
     "output_type": "stream",
     "text": [
      "  0.404241 seconds (17.26 k allocations: 1.004 GB, 11.09% gc time)\n"
     ]
    }
   ],
   "source": [
    "@time mylu1(A);"
   ]
  },
  {
   "cell_type": "markdown",
   "metadata": {},
   "source": [
    "### Blok varijanta\n",
    "\n",
    "`mylu()` je nekoliko desetaka puta sporiji od `lu()`. `mylu1()` je malo sporiji od `lu()`.\n",
    "\n",
    "Probajmo s blokovima:\n",
    "\n",
    "Preradimo `mylu1()` za rad s blokovima (nemamo ugrađeno pivotiranje!)"
   ]
  },
  {
   "cell_type": "code",
   "execution_count": 24,
   "metadata": {
    "collapsed": false
   },
   "outputs": [
    {
     "data": {
      "text/plain": [
       "mylu2 (generic function with 1 method)"
      ]
     },
     "execution_count": 24,
     "metadata": {},
     "output_type": "execute_result"
    }
   ],
   "source": [
    "function mylu2{T}(A1::Array{T}) # Strang, page 100\n",
    "    A=deepcopy(A1)\n",
    "    n,m=size(A)\n",
    "    for k=1:n-1\n",
    "        for rho=k+1:n\n",
    "            A[rho,k]=A[rho,k]/A[k,k]\n",
    "            for l=k+1:n\n",
    "                A[rho,l]=A[rho,l]-A[rho,k]*A[k,l]\n",
    "            end\n",
    "        end\n",
    "    end\n",
    "    A\n",
    "end"
   ]
  },
  {
   "cell_type": "markdown",
   "metadata": {},
   "source": [
    "Napravimo prvo mali test:"
   ]
  },
  {
   "cell_type": "code",
   "execution_count": 26,
   "metadata": {
    "collapsed": false
   },
   "outputs": [
    {
     "data": {
      "text/plain": [
       "4x4 Array{Any,2}:\n",
       " 4x4 Array{Float64,2}:\n",
       " 0.996814   0.51028   0.713424  0.580486 \n",
       " 0.0595706  0.969683  0.106152  0.0841541\n",
       " 0.835064   0.181397  0.595753  0.352613 \n",
       " 0.755699   0.742151  0.143258  0.579418   …  4x4 Array{Float64,2}:\n",
       " 0.0441784  0.801592    0.576787  0.953355\n",
       " 0.120594   0.0268804   0.669226  0.852856\n",
       " 0.257314   0.00726953  0.329245  0.600861\n",
       " 0.637395   0.363352    0.537672  0.956655\n",
       " 4x4 Array{Float64,2}:\n",
       " 0.932054   0.564471  0.79351   0.707334\n",
       " 0.12528    0.878006  0.747165  0.80843 \n",
       " 0.362067   0.717824  0.255609  0.697612\n",
       " 0.0292027  0.636593  0.114183  0.182938         4x4 Array{Float64,2}:\n",
       " 0.342204  0.368878  0.766023  0.585654\n",
       " 0.616303  0.830738  0.157813  0.112795\n",
       " 0.4515    0.389463  0.759445  0.168638\n",
       " 0.330274  0.830202  0.048666  0.322114            \n",
       " 4x4 Array{Float64,2}:\n",
       " 0.726116  0.804829  0.166022  0.191416\n",
       " 0.842827  0.316111  0.420858  0.512057\n",
       " 0.412365  0.511836  0.963591  0.287114\n",
       " 0.498671  0.129929  0.244025  0.795893             4x4 Array{Float64,2}:\n",
       " 0.0109987  0.377176  0.616813  0.462918\n",
       " 0.604275   0.230134  0.781832  0.332633\n",
       " 0.491696   0.633104  0.1459    0.991995\n",
       " 0.0469171  0.671355  0.835472  0.602318        \n",
       " 4x4 Array{Float64,2}:\n",
       " 0.821838  0.637635   0.66379   0.10507 \n",
       " 0.594632  0.414213   0.94429   0.669485\n",
       " 0.854997  0.947069   0.805654  0.390988\n",
       " 0.773496  0.0349418  0.714311  0.189448         4x4 Array{Float64,2}:\n",
       " 0.355038  0.956381  0.834658    0.79289 \n",
       " 0.422844  0.992783  0.00157629  0.497074\n",
       " 0.63752   0.668652  0.147741    0.599883\n",
       " 0.40508   0.199795  0.19619     0.125482    "
      ]
     },
     "execution_count": 26,
     "metadata": {},
     "output_type": "execute_result"
    }
   ],
   "source": [
    "# Probajte k,l=32,16 i k,l=64,8\n",
    "k,l=4,4\n",
    "Ab=[rand(k,k) for i=1:l, j=1:l]"
   ]
  },
  {
   "cell_type": "code",
   "execution_count": 27,
   "metadata": {
    "collapsed": false
   },
   "outputs": [
    {
     "data": {
      "text/plain": [
       "4x4 Array{Any,2}:\n",
       " 4x4 Array{Float64,2}:\n",
       " 0.996814   0.51028   0.713424  0.580486 \n",
       " 0.0595706  0.969683  0.106152  0.0841541\n",
       " 0.835064   0.181397  0.595753  0.352613 \n",
       " 0.755699   0.742151  0.143258  0.579418               …  4x4 Array{Float64,2}:\n",
       " 0.0441784  0.801592    0.576787  0.953355\n",
       " 0.120594   0.0268804   0.669226  0.852856\n",
       " 0.257314   0.00726953  0.329245  0.600861\n",
       " 0.637395   0.363352    0.537672  0.956655    \n",
       " 4x4 Array{Float64,2}:\n",
       " 2.60695  -0.214092  -1.66901  -0.344203 \n",
       " 7.65175  -0.440027  -7.42453  -1.68841  \n",
       " 3.63641  -0.423958  -3.84033  -0.0404668\n",
       " 1.19478   0.392133  -1.26909  -0.165892                  4x4 Array{Float64,2}:\n",
       " 0.901704  -1.57788     0.140221  -0.384984\n",
       " 3.31794   -4.62356    -0.608846  -0.730428\n",
       " 1.35594   -2.47144     0.231901  -0.590359\n",
       " 0.662495  -0.0685667  -0.395859  -0.230125\n",
       " 4x4 Array{Float64,2}:\n",
       " -2.71237   0.894472   3.12274    1.01743 \n",
       "  0.37765  -0.231118   0.194184   0.420791\n",
       "  3.15934   0.439257  -1.85893   -1.60216 \n",
       "  3.96489  -1.25693   -4.1392     0.102929             4x4 Array{Float64,2}:\n",
       "  0.335803  -2.34976  -2.7382     2.68668 \n",
       "  0.429508  -2.09171  -1.83283    2.91421 \n",
       "  0.985808   2.39749  -0.828684  -0.233466\n",
       " -1.19913   -3.61818   0.810674   3.08234     \n",
       " 4x4 Array{Float64,2}:\n",
       " -1.85622    1.07046    3.15455   -0.0342384\n",
       "  4.98045   -0.414564  -3.98021   -1.35177  \n",
       "  0.437877   0.873566   0.756791  -0.35132  \n",
       " -0.304321   0.185343   1.62236   -0.382382      4x4 Array{Float64,2}:\n",
       " 0.119857   3.08084   1.25149    4.6668 \n",
       " 1.15547    3.98419  -0.370918   5.99297\n",
       " 0.0540768  1.46408   0.0318034  3.00303\n",
       " 0.410702   1.41675  -0.124506   2.615              "
      ]
     },
     "execution_count": 27,
     "metadata": {},
     "output_type": "execute_result"
    }
   ],
   "source": [
    "A0=mylu2(Ab)"
   ]
  },
  {
   "cell_type": "code",
   "execution_count": 28,
   "metadata": {
    "collapsed": false
   },
   "outputs": [],
   "source": [
    "# Provjera\n",
    "U=triu(A0)\n",
    "L=tril(A0)\n",
    "for i=1:maximum(size(L))\n",
    "    L[i,i]=eye(L[1,1])\n",
    "end"
   ]
  },
  {
   "cell_type": "code",
   "execution_count": 29,
   "metadata": {
    "collapsed": false
   },
   "outputs": [
    {
     "data": {
      "text/plain": [
       "4x4 Array{Any,2}:\n",
       " 4x4 Array{Float64,2}:\n",
       " 0.0  0.0  0.0  0.0\n",
       " 0.0  0.0  0.0  0.0\n",
       " 0.0  0.0  0.0  0.0\n",
       " 0.0  0.0  0.0  0.0                                                                                                                                                  …  4x4 Array{Float64,2}:\n",
       " 0.0  0.0  0.0  0.0\n",
       " 0.0  0.0  0.0  0.0\n",
       " 0.0  0.0  0.0  0.0\n",
       " 0.0  0.0  0.0  0.0                                                                                                                                                \n",
       " 4x4 Array{Float64,2}:\n",
       " -1.11022e-16  -5.55112e-16  -6.66134e-16  -4.44089e-16\n",
       " -4.44089e-16  -4.44089e-16  -2.22045e-16  -9.99201e-16\n",
       "  2.22045e-16   1.11022e-16   5.55112e-17   1.11022e-16\n",
       "  8.32667e-17   0.0           1.94289e-16   0.0             4x4 Array{Float64,2}:\n",
       " 0.0  0.0          0.0  0.0\n",
       " 0.0  4.44089e-16  0.0  0.0\n",
       " 0.0  2.22045e-16  0.0  0.0\n",
       " 0.0  0.0          0.0  0.0                                                                                                                \n",
       " 4x4 Array{Float64,2}:\n",
       " 2.22045e-16   1.11022e-16   2.77556e-16   2.22045e-16\n",
       " 2.22045e-16   1.11022e-16   0.0           1.11022e-16\n",
       " 0.0          -2.22045e-16  -4.44089e-16  -2.22045e-16\n",
       " 0.0           0.0           0.0           1.11022e-16         4x4 Array{Float64,2}:\n",
       " 0.0   0.0          -2.22045e-16   2.22045e-16\n",
       " 0.0  -2.22045e-16   2.22045e-16   2.22045e-16\n",
       " 0.0  -2.22045e-16   0.0          -1.11022e-16\n",
       " 0.0   4.44089e-16   0.0           0.0                                            \n",
       " 4x4 Array{Float64,2}:\n",
       "  1.11022e-16   2.22045e-16   4.44089e-16   5.27356e-16\n",
       " -2.22045e-16   0.0          -5.55112e-16  -4.44089e-16\n",
       "  0.0          -1.11022e-16   1.11022e-16   0.0        \n",
       "  0.0          -5.55112e-17   1.11022e-16   8.32667e-17     4x4 Array{Float64,2}:\n",
       "  0.0           0.0           0.0           0.0        \n",
       " -2.22045e-16  -2.22045e-16  -2.22045e-16  -4.44089e-16\n",
       "  0.0           2.22045e-16  -2.22045e-16   2.22045e-16\n",
       "  0.0           0.0           0.0           0.0        "
      ]
     },
     "execution_count": 29,
     "metadata": {},
     "output_type": "execute_result"
    }
   ],
   "source": [
    "Res=L*U-Ab"
   ]
  },
  {
   "cell_type": "code",
   "execution_count": 30,
   "metadata": {
    "collapsed": false
   },
   "outputs": [
    {
     "data": {
      "text/plain": [
       "unblock (generic function with 1 method)"
      ]
     },
     "execution_count": 30,
     "metadata": {},
     "output_type": "execute_result"
    }
   ],
   "source": [
    "# pretvaranje blok matrice u obicnu\n",
    "unblock(A) = mapreduce(identity, hcat, [mapreduce(identity, vcat, A[:,i]) for i = 1:size(A,2)])"
   ]
  },
  {
   "cell_type": "code",
   "execution_count": 31,
   "metadata": {
    "collapsed": false
   },
   "outputs": [
    {
     "data": {
      "text/plain": [
       "7.514228677962759e-15"
      ]
     },
     "execution_count": 31,
     "metadata": {},
     "output_type": "execute_result"
    }
   ],
   "source": [
    "norm(unblock(Res))"
   ]
  },
  {
   "cell_type": "markdown",
   "metadata": {},
   "source": [
    "Sada probajmo veću dimenziju:"
   ]
  },
  {
   "cell_type": "code",
   "execution_count": 34,
   "metadata": {
    "collapsed": true
   },
   "outputs": [],
   "source": [
    "# Probajmo vece dimenzije (n=k*l)\n",
    "k,l=32,16\n",
    "Ab=[rand(k,k) for i=1:l, j=1:l];"
   ]
  },
  {
   "cell_type": "code",
   "execution_count": 37,
   "metadata": {
    "collapsed": false
   },
   "outputs": [
    {
     "name": "stdout",
     "output_type": "stream",
     "text": [
      "  0.281164 seconds (8.79 k allocations: 26.526 MB, 8.39% gc time)\n"
     ]
    }
   ],
   "source": [
    "@time mylu2(Ab);"
   ]
  },
  {
   "cell_type": "markdown",
   "metadata": {},
   "source": [
    "Vidimo da je `mylu2()` gotovo jednako brz kao `lu()`, uz napomenu da `mylu2()` nema ugrađeno pivotiranje. "
   ]
  },
  {
   "cell_type": "markdown",
   "metadata": {},
   "source": [
    "## Pivotiranje\n",
    "\n",
    "Stanardne implementacije uvijek računaju Gaussovu eliminaciju s _parcijalnim pivotiranjem_:\n",
    "\n",
    "> u svakom koraku se retci pivotiranju tako da pivotni element ima najveću apsolutnu vrijednst u danom stupcu. Na taj \n",
    "> način je \n",
    "> \n",
    "> $$|L_{ij}| \\leq 1,$$\n",
    "> \n",
    "> što u praksi dovoljno spriječava rast elemenata.\n"
   ]
  },
  {
   "cell_type": "code",
   "execution_count": 36,
   "metadata": {
    "collapsed": false
   },
   "outputs": [
    {
     "data": {
      "text/plain": [
       "(\n",
       "5x5 Array{Float64,2}:\n",
       " 1.0        0.0        0.0       0.0       0.0\n",
       " 0.874008   1.0        0.0       0.0       0.0\n",
       " 0.563144   0.839234   1.0       0.0       0.0\n",
       " 0.938453  -0.52993   -0.860008  1.0       0.0\n",
       " 0.07838   -0.450629  -0.172189  0.858843  1.0,\n",
       "\n",
       "5x5 Array{Float64,2}:\n",
       " 0.888449   0.729541   0.827686   0.410832     0.774184 \n",
       " 0.0       -0.477083  -0.171609   0.493423    -0.385795 \n",
       " 0.0        0.0        0.411301  -0.00647101   0.860461 \n",
       " 0.0        0.0        0.0        0.54949      0.805759 \n",
       " 0.0        0.0        0.0        0.0         -0.0697291,\n",
       "\n",
       "[1,3,2,5,4])"
      ]
     },
     "execution_count": 36,
     "metadata": {},
     "output_type": "execute_result"
    }
   ],
   "source": [
    "A=rand(5,5)\n",
    "L,U,P=lu(A)"
   ]
  },
  {
   "cell_type": "code",
   "execution_count": 37,
   "metadata": {
    "collapsed": false
   },
   "outputs": [
    {
     "data": {
      "text/plain": [
       "5x5 Array{Float64,2}:\n",
       " 0.0   0.0           0.0          0.0          0.0\n",
       " 0.0   0.0           0.0          0.0          0.0\n",
       " 0.0   0.0           0.0          0.0          0.0\n",
       " 0.0   0.0           0.0          1.11022e-16  0.0\n",
       " 0.0  -5.55112e-17  -1.38778e-17  0.0          0.0"
      ]
     },
     "execution_count": 37,
     "metadata": {},
     "output_type": "execute_result"
    }
   ],
   "source": [
    "L*U-A[P,:]"
   ]
  },
  {
   "cell_type": "markdown",
   "metadata": {},
   "source": [
    "### Potpuno pivotiranje\n",
    "\n",
    "Sljedeći program računa Gaussovu eliminaciju s _potpunim pivotiranjem_ - u svakom koraku retci i stupci zamijene na način da se na pivotnu poziciju dovede element koji ima najveću apsolutnu vrijednost u trenutnoj podmatrici."
   ]
  },
  {
   "cell_type": "code",
   "execution_count": 38,
   "metadata": {
    "collapsed": false
   },
   "outputs": [
    {
     "data": {
      "text/plain": [
       "gecp (generic function with 1 method)"
      ]
     },
     "execution_count": 38,
     "metadata": {},
     "output_type": "execute_result"
    }
   ],
   "source": [
    "function gecp{T}(A1::Array{T})\n",
    "    # Gaussova eliminacija s potpunim pivotiranjem\n",
    "    # Izlaz: Pr*L*U*Pc'=A ili Pr'*A*Pc=L*U\n",
    "    A=deepcopy(A1)\n",
    "    n,m=size(A)\n",
    "    Pr=eye(n,n)\n",
    "    Pc=eye(n,n)\n",
    "    D=zeros(n)\n",
    "    for i=1:n-1\n",
    "        am1,im1=findmax(abs(A[i:n,i:n]),1)\n",
    "        am,JJ=findmax(am1)\n",
    "        II=mod(im1[JJ],(n-i+1))\n",
    "        if II==0\n",
    "            II=n-i+1\n",
    "        end\n",
    "        imax=II+i-1\n",
    "        jmax=JJ+i-1\n",
    "        #  zamijena redaka\n",
    "        if (imax != i)\n",
    "            temp = Pr[:,i]\n",
    "            Pr[:,i] = Pr[:,imax]\n",
    "            Pr[:,imax] = temp\n",
    "            temp = A[i,:]\n",
    "            A[i,:] = A[imax,:]\n",
    "            A[imax,:] = temp\n",
    "        end\n",
    "        # zamijena stupaca\n",
    "        if (jmax != i)\n",
    "            temp = Pc[:,i]\n",
    "            Pc[:,i] = Pc[:,jmax]\n",
    "            Pc[:,jmax] = temp\n",
    "            temp = A[:,i]\n",
    "            A[:,i] = A[:,jmax]\n",
    "            A[:,jmax] = temp\n",
    "        end\n",
    "        # eliminacija\n",
    "        D[i]=A[i,i]\n",
    "        A[i+1:n,i] = A[i+1:n,i]/D[i]\n",
    "        A[i+1:n,i+1:n] = A[i+1:n,i+1:n] - A[i+1:n,i]*A[i,i+1:n]\n",
    "        A[i,i+1:n]=A[i,i+1:n]/D[i]\n",
    "    end\n",
    "    D[n]=A[n,n]\n",
    "    L=eye(n,n)+tril(A,-1)\n",
    "    U=eye(n,n)+triu(A,1)\n",
    "    U=diagm(D)*U\n",
    "    L,U,Pr,Pc\n",
    "end"
   ]
  },
  {
   "cell_type": "code",
   "execution_count": 39,
   "metadata": {
    "collapsed": false
   },
   "outputs": [
    {
     "data": {
      "text/plain": [
       "5-element Array{Float64,1}:\n",
       " 0.196101 \n",
       " 0.0962655\n",
       " 0.839942 \n",
       " 0.378201 \n",
       " 0.443998 "
      ]
     },
     "execution_count": 39,
     "metadata": {},
     "output_type": "execute_result"
    }
   ],
   "source": [
    "n=5\n",
    "A=rand(n,n)\n",
    "b=rand(n)"
   ]
  },
  {
   "cell_type": "code",
   "execution_count": 40,
   "metadata": {
    "collapsed": false
   },
   "outputs": [
    {
     "data": {
      "text/plain": [
       "(\n",
       "5x5 Array{Float64,2}:\n",
       " 1.0       0.0       0.0        0.0        0.0\n",
       " 0.791796  1.0       0.0        0.0        0.0\n",
       " 0.71467   0.764441  1.0        0.0        0.0\n",
       " 0.676437  0.264556  0.591514   1.0        0.0\n",
       " 0.945698  0.823232  0.529724  -0.0315266  1.0,\n",
       "\n",
       "5x5 Array{Float64,2}:\n",
       " 0.929529  0.027989   0.565329   0.341097   0.831957 \n",
       " 0.0       0.691343  -0.259979   0.286085  -0.0858094\n",
       " 0.0       0.0        0.58509   -0.406798   0.182008 \n",
       " 0.0       0.0        0.0        0.599241  -0.0524726\n",
       " 0.0       0.0        0.0        0.0       -0.475278 ,\n",
       "\n",
       "5x5 Array{Float64,2}:\n",
       " 1.0  0.0  0.0  0.0  0.0\n",
       " 0.0  1.0  0.0  0.0  0.0\n",
       " 0.0  0.0  0.0  1.0  0.0\n",
       " 0.0  0.0  1.0  0.0  0.0\n",
       " 0.0  0.0  0.0  0.0  1.0,\n",
       "\n",
       "5x5 Array{Float64,2}:\n",
       " 0.0  0.0  1.0  0.0  0.0\n",
       " 0.0  1.0  0.0  0.0  0.0\n",
       " 0.0  0.0  0.0  1.0  0.0\n",
       " 1.0  0.0  0.0  0.0  0.0\n",
       " 0.0  0.0  0.0  0.0  1.0)"
      ]
     },
     "execution_count": 40,
     "metadata": {},
     "output_type": "execute_result"
    }
   ],
   "source": [
    "L,U,Pr,Pc=gecp(A)"
   ]
  },
  {
   "cell_type": "code",
   "execution_count": 41,
   "metadata": {
    "collapsed": false
   },
   "outputs": [
    {
     "data": {
      "text/plain": [
       "5x5 Array{Float64,2}:\n",
       " 0.0  0.0   0.0          0.0  0.0\n",
       " 0.0  0.0   0.0          0.0  0.0\n",
       " 0.0  0.0   0.0          0.0  0.0\n",
       " 0.0  0.0   0.0          0.0  0.0\n",
       " 0.0  0.0  -1.11022e-16  0.0  0.0"
      ]
     },
     "execution_count": 41,
     "metadata": {},
     "output_type": "execute_result"
    }
   ],
   "source": [
    "Pr*L*U*Pc'-A"
   ]
  },
  {
   "cell_type": "code",
   "execution_count": 42,
   "metadata": {
    "collapsed": false
   },
   "outputs": [
    {
     "data": {
      "text/plain": [
       "5-element Array{Float64,1}:\n",
       "  0.196101 \n",
       " -0.0590062\n",
       "  0.283161 \n",
       "  0.555409 \n",
       "  0.174635 "
      ]
     },
     "execution_count": 42,
     "metadata": {},
     "output_type": "execute_result"
    }
   ],
   "source": [
    "y=myL(L,Pr'*b)"
   ]
  },
  {
   "cell_type": "code",
   "execution_count": 43,
   "metadata": {
    "collapsed": false
   },
   "outputs": [
    {
     "data": {
      "text/plain": [
       "5-element Array{Float64,1}:\n",
       " -0.52938  \n",
       " -0.0422872\n",
       "  1.22031  \n",
       "  0.894681 \n",
       " -0.367437 "
      ]
     },
     "execution_count": 43,
     "metadata": {},
     "output_type": "execute_result"
    }
   ],
   "source": [
    "z=myU(U,y)"
   ]
  },
  {
   "cell_type": "code",
   "execution_count": 44,
   "metadata": {
    "collapsed": false
   },
   "outputs": [
    {
     "data": {
      "text/plain": [
       "5-element Array{Float64,1}:\n",
       "  1.22031  \n",
       " -0.0422872\n",
       "  0.894681 \n",
       " -0.52938  \n",
       " -0.367437 "
      ]
     },
     "execution_count": 44,
     "metadata": {},
     "output_type": "execute_result"
    }
   ],
   "source": [
    "x=Pc*z"
   ]
  },
  {
   "cell_type": "code",
   "execution_count": 45,
   "metadata": {
    "collapsed": false
   },
   "outputs": [
    {
     "data": {
      "text/plain": [
       "5-element Array{Float64,1}:\n",
       "  5.55112e-17\n",
       "  1.11022e-16\n",
       "  3.33067e-16\n",
       "  5.55112e-17\n",
       " -5.55112e-17"
      ]
     },
     "execution_count": 45,
     "metadata": {},
     "output_type": "execute_result"
    }
   ],
   "source": [
    "A*x-b"
   ]
  },
  {
   "cell_type": "markdown",
   "metadata": {},
   "source": [
    "## Točnost\n",
    "\n",
    "Neka je zadan sustav $Ax=b$, pri čemu je matrica $A$ regularna.\n",
    "\n",
    "Da bi primijenili koncepte iz bilježnice [NA04_Pogreska_unatrag_i stabilni_algoritmi](NA04_Pogreska_unatrag_i_stabilni_algoritmi.ipynb), potrebno je:\n",
    "\n",
    "1. napraviti teoriju smetnje za dani problem\n",
    "2. analizirati pogreške algoritma (Gaussove eliminacije)\n",
    "\n",
    "### Teorija smetnje\n",
    "\n",
    "Neka je \n",
    "\n",
    "$$\n",
    "(A+\\delta A)\\hat x=(b+\\delta b)\n",
    "$$\n",
    "\n",
    "za neki $\\hat x=x+\\delta x$.\n",
    "\n",
    "Želimo ocijeniti \n",
    "\n",
    "$$\n",
    "\\frac{\\| \\hat x - x \\|}{\\| x\\|} \\equiv \\frac{\\| \\delta x\\|}{\\| x\\|}.\n",
    "$$\n",
    "\n",
    "Uvedimo oznake (npr. prema [Matrix Computations, poglavlje 2.6.2][GVL13])\n",
    "\n",
    "$$\n",
    "\\delta A=\\varepsilon F, \\quad \\delta b=\\varepsilon f, \\qquad \\hat x=x(\\varepsilon),\n",
    "$$\n",
    "čime smo dobili jednodimenzionalni problem \n",
    "\n",
    "$$\n",
    "(A+\\varepsilon F)x(\\varepsilon)=b+\\varepsilon f.\n",
    "$$\n",
    "\n",
    "za neke (nepoznate) matricu $F$ i vektor $f$. \n",
    "\n",
    "Deriviranje po $\\varepsilon$ daje\n",
    "\n",
    "$$\n",
    "Fx(\\varepsilon)+(A+\\varepsilon F)\\dot x(\\varepsilon)=f.\n",
    "$$\n",
    "\n",
    "Uvrštavanje $\\varepsilon=0$ daje\n",
    "\n",
    "$$\n",
    "F x+A\\dot x(0)=f,\n",
    "$$\n",
    "\n",
    "odnosno\n",
    "\n",
    "$$\n",
    "\\dot x(0)=A^{-1}(f-Fx).\n",
    "$$\n",
    "\n",
    "Taylorov razvoj oko $x(0)$ glasi\n",
    "\n",
    "$$\n",
    "x(\\varepsilon)=x(0)+\\varepsilon \\dot x(0) +O(\\varepsilon^2),\n",
    "$$\n",
    "\n",
    "odnosno, uz zanemarivanje člana $O(\\varepsilon^2)$,\n",
    "\n",
    "$$\n",
    "\\hat x-x=\\varepsilon A^{-1}(f-Fx)=A^{-1} (\\varepsilon f + \\varepsilon F x) = A^{-1} (\\delta b + \\delta A x).\n",
    "$$\n",
    "\n",
    "Svojstva norme povlače\n",
    "\n",
    "$$\n",
    "\\| \\hat x-x\\|\\leq \\| A^{-1} \\| (\\| \\delta b \\|  + \\| \\delta A \\| \\cdot \\|  x\\| ).\n",
    "$$\n",
    "\n",
    "Konačno, zbog $\\| b\\| \\leq \\| A\\| \\| x\\|$, imamo\n",
    "\n",
    "$$\n",
    "\\frac{\\| \\hat x-x\\|}{\\| x\\|}\\leq \\| A\\|  \\cdot \\| A^{-1} \\| \\bigg(\\frac{\\| \\delta b \\|}{\\|b\\|}  + \\frac{\\| \\delta A \\|}{ \\|  A\\|} \\bigg). \\tag{1}\n",
    "$$\n",
    "\n",
    "Broj \n",
    "$$\n",
    "\\kappa(A)\\equiv \\| A\\|  \\cdot \\| A^{-1} \\|\n",
    "$$ \n",
    "\n",
    "je __uvjetovanost__ (__kondicija__)  matrice $A$ i kazuje nam \n",
    "\n",
    "> koliko se relativno uvećaju relativne promjene u polaznim podacima (matrici $A$ i vektoru $b$).\n",
    "\n",
    "Pogledajmo primjer iz [Numeričke matematike, str. 42][RS04]:\n",
    "\n",
    "\n",
    "[GVL13]: https://books.google.hr/books?id=X5YfsuCWpxMC&printsec=frontcover&hl=hr#v=onepage&q&f=false \"G. Golub and C. F Van Loan, 'Matrix Computations', 4th Edition, John Hopkins, Baltimore, 2013\" \n",
    "\n",
    "[RS04]: http://www.mathos.unios.hr/pim/Materijali/Num.pdf \"R. Scitovski, 'Numerička matematika', Sveučilište u Osijeku, Osijek, 2004.\""
   ]
  },
  {
   "cell_type": "code",
   "execution_count": 46,
   "metadata": {
    "collapsed": false
   },
   "outputs": [
    {
     "data": {
      "text/plain": [
       "2x2 Array{Float64,2}:\n",
       " 0.234  0.458\n",
       " 0.383  0.75 "
      ]
     },
     "execution_count": 46,
     "metadata": {},
     "output_type": "execute_result"
    }
   ],
   "source": [
    "A= [0.234 0.458; 0.383 0.750]"
   ]
  },
  {
   "cell_type": "code",
   "execution_count": 47,
   "metadata": {
    "collapsed": false
   },
   "outputs": [
    {
     "data": {
      "text/plain": [
       "2-element Array{Float64,1}:\n",
       " 0.224\n",
       " 0.367"
      ]
     },
     "execution_count": 47,
     "metadata": {},
     "output_type": "execute_result"
    }
   ],
   "source": [
    "b=[0.224;0.367]"
   ]
  },
  {
   "cell_type": "code",
   "execution_count": 48,
   "metadata": {
    "collapsed": false
   },
   "outputs": [
    {
     "data": {
      "text/plain": [
       "2-element Array{Float64,1}:\n",
       " -1.0\n",
       "  1.0"
      ]
     },
     "execution_count": 48,
     "metadata": {},
     "output_type": "execute_result"
    }
   ],
   "source": [
    "x=A\\b"
   ]
  },
  {
   "cell_type": "code",
   "execution_count": 49,
   "metadata": {
    "collapsed": false
   },
   "outputs": [
    {
     "data": {
      "text/plain": [
       "2-element Array{Float64,1}:\n",
       " -0.241744\n",
       "  0.612791"
      ]
     },
     "execution_count": 49,
     "metadata": {},
     "output_type": "execute_result"
    }
   ],
   "source": [
    "δb=[0.00009; 0.000005]\n",
    "x1=A\\(b+δb)"
   ]
  },
  {
   "cell_type": "code",
   "execution_count": 50,
   "metadata": {
    "collapsed": false
   },
   "outputs": [
    {
     "data": {
      "text/plain": [
       "(11322.197586092605,0.0002096449170953002,0.6020311134825742)"
      ]
     },
     "execution_count": 50,
     "metadata": {},
     "output_type": "execute_result"
    }
   ],
   "source": [
    "cond(A), norm(δb)/norm(b), norm(x1-x)/norm(x)"
   ]
  },
  {
   "cell_type": "code",
   "execution_count": 51,
   "metadata": {
    "collapsed": false
   },
   "outputs": [
    {
     "data": {
      "text/plain": [
       "2-element Array{Float64,1}:\n",
       " 0.129518\n",
       " 0.423193"
      ]
     },
     "execution_count": 51,
     "metadata": {},
     "output_type": "execute_result"
    }
   ],
   "source": [
    "δA=[-0.001 0;0 0]\n",
    "x2=(A+δA)\\b"
   ]
  },
  {
   "cell_type": "code",
   "execution_count": 52,
   "metadata": {
    "collapsed": false
   },
   "outputs": [
    {
     "data": {
      "text/plain": [
       "(11322.197586092605,0.0010134105230118603,0.896804787832142)"
      ]
     },
     "execution_count": 52,
     "metadata": {},
     "output_type": "execute_result"
    }
   ],
   "source": [
    "cond(A), norm(δA)/norm(A), norm(x2-x)/norm(x)"
   ]
  },
  {
   "cell_type": "markdown",
   "metadata": {},
   "source": [
    "### Pogreška Gaussove eliminacije\n",
    "\n",
    "Prema [Matrix Computations, poglavlje 3.3][GVL13], za izračunate faktore\n",
    "$\\hat L$ i $\\hat U$ vrijedi\n",
    "\n",
    "$$\n",
    "\\hat L\\cdot \\hat U = A+\\delta A\n",
    "$$\n",
    "\n",
    "gdje je (nejednakost se čita po elementima matrica, $\\varepsilon$ je sada točnost stroja)\n",
    "\n",
    "$$\n",
    "| \\delta A|\\leq 3(n-1) \\varepsilon (|A|+|\\hat L| \\cdot |\\hat U|) +O(\\varepsilon^2).\n",
    "$$\n",
    "\n",
    "Zanemarivanje člana $O(\\varepsilon^2)$ i prelazak na normu daju\n",
    "\n",
    "$$\n",
    "\\|\\delta A \\| \\approx \\leq  O(n)\\varepsilon (\\| A\\| + \\| \\hat L\\| \\cdot \\| \\hat U\\|),\n",
    "$$\n",
    "\n",
    "pa je \n",
    "\n",
    "$$\n",
    " \\frac{\\|\\delta A \\|}{\\|A\\|} \\leq O(n)\\varepsilon \\bigg(1+\\frac{\\| \\hat L\\| \\cdot \\| \\hat U\\|}{\\|A\\|}\\bigg).\n",
    "$$\n",
    "\n",
    "Ukoliko se Gaussova eliminacija radi s pivotiranjem, tada će najvjerojatnije zadnji kvocijent također biti malen \n",
    "($\\approx 1$). Također, pogreška kod rješavanja trokutastih sustava nije veća od navedene pa, uvrštavanjme u (1), slijedi \n",
    "da za relativnu pogrešku izračunatog rješenja vrijedi\n",
    "\n",
    "$$\n",
    "\\frac{\\| \\hat x-x\\|}{\\| x\\|}\\leq \\kappa(A) O(n\\varepsilon).\n",
    "$$\n",
    "\n",
    "> __Ukoliko je kondicija matrice velika, rješenje može biti netočno.__\n",
    "\n",
    "[GVL13]: https://books.google.hr/books?id=X5YfsuCWpxMC&printsec=frontcover&hl=hr#v=onepage&q&f=false \"G. Golub and C. F Van Loan, 'Matrix Computations', 4th Edition, John Hopkins, Baltimore, 2013\" "
   ]
  },
  {
   "cell_type": "code",
   "execution_count": 53,
   "metadata": {
    "collapsed": false
   },
   "outputs": [
    {
     "data": {
      "text/plain": [
       "10-element Array{Float64,1}:\n",
       " 0.607348\n",
       " 0.240677\n",
       " 0.703843\n",
       " 0.281695\n",
       " 0.649881\n",
       " 0.184879\n",
       " 0.42333 \n",
       " 0.636226\n",
       " 0.517925\n",
       " 0.878924"
      ]
     },
     "execution_count": 53,
     "metadata": {},
     "output_type": "execute_result"
    }
   ],
   "source": [
    "n=10\n",
    "v=rand(n)"
   ]
  },
  {
   "cell_type": "code",
   "execution_count": 54,
   "metadata": {
    "collapsed": false
   },
   "outputs": [
    {
     "data": {
      "text/plain": [
       "10x10 Array{Float64,2}:\n",
       " 1.0        1.0          1.0        …  1.0        1.0         1.0     \n",
       " 0.607348   0.240677     0.703843      0.636226   0.517925    0.878924\n",
       " 0.368871   0.0579256    0.495395      0.404783   0.268247    0.772507\n",
       " 0.224033   0.0139414    0.34868       0.257533   0.138932    0.678975\n",
       " 0.136066   0.00335537   0.245416      0.163849   0.0719563   0.596768\n",
       " 0.0826393  0.000807562  0.172734   …  0.104245   0.037268    0.524513\n",
       " 0.0501908  0.000194362  0.121578      0.0663235  0.0193021   0.461007\n",
       " 0.0304833  4.67785e-5   0.0855717     0.0421967  0.00999703  0.40519 \n",
       " 0.0185139  1.12585e-5   0.0602291     0.0268466  0.00517772  0.356131\n",
       " 0.0112444  2.70967e-6   0.0423918     0.0170805  0.00268167  0.313012"
      ]
     },
     "execution_count": 54,
     "metadata": {},
     "output_type": "execute_result"
    }
   ],
   "source": [
    "# Vandermonmde-oove matrice imaju veliku kondiciju.\n",
    "A=Array(Float64,n,n)\n",
    "for i=1:n\n",
    "    A[:,i]=v.^(i-1)\n",
    "end\n",
    "A=A'"
   ]
  },
  {
   "cell_type": "code",
   "execution_count": 55,
   "metadata": {
    "collapsed": false
   },
   "outputs": [
    {
     "data": {
      "text/plain": [
       "10-element Array{Float64,1}:\n",
       " 0.176222 \n",
       " 0.514327 \n",
       " 0.170147 \n",
       " 0.452078 \n",
       " 0.0455566\n",
       " 0.852881 \n",
       " 0.720554 \n",
       " 0.602203 \n",
       " 0.712276 \n",
       " 0.798477 "
      ]
     },
     "execution_count": 55,
     "metadata": {},
     "output_type": "execute_result"
    }
   ],
   "source": [
    "b=rand(n)"
   ]
  },
  {
   "cell_type": "code",
   "execution_count": 56,
   "metadata": {
    "collapsed": false
   },
   "outputs": [
    {
     "data": {
      "text/plain": [
       "10-element Array{Float64,1}:\n",
       "     7.0861e7 \n",
       "     1.58042e6\n",
       "    -5.17549e6\n",
       "    -2.1107e6 \n",
       "     1.19591e8\n",
       "    -2.57728e5\n",
       "     3.65903e6\n",
       "    -1.77173e8\n",
       "    -1.09871e7\n",
       " 12197.8      "
      ]
     },
     "execution_count": 56,
     "metadata": {},
     "output_type": "execute_result"
    }
   ],
   "source": [
    "x=A\\b"
   ]
  },
  {
   "cell_type": "code",
   "execution_count": 57,
   "metadata": {
    "collapsed": false
   },
   "outputs": [
    {
     "data": {
      "text/plain": [
       "7.492325039096141e9"
      ]
     },
     "execution_count": 57,
     "metadata": {},
     "output_type": "execute_result"
    }
   ],
   "source": [
    "cond(A)"
   ]
  },
  {
   "cell_type": "code",
   "execution_count": 58,
   "metadata": {
    "collapsed": false
   },
   "outputs": [
    {
     "data": {
      "text/plain": [
       "10-element Array{BigFloat,1}:\n",
       "  7.086096455440146804509689118783702769154126827495550138924238137754096152196263e+07\n",
       "  1.580422275885546389727987844856505092156359271397171187062791511633971663443229e+06\n",
       " -5.175489994935727685413969718989317356182318719998619656737629309183403633523838e+06\n",
       " -2.11069891625235027333227162014122074578125166016309593969821366165165842224424e+06 \n",
       "  1.195910004115113399692296870223893932186573932558791159189569121120346698677215e+08\n",
       " -2.577283650921890931693621885131516669064466511633198125802767497613508030515626e+05\n",
       "  3.659028196264402320190360219246187263387252138071620857302718088808222514044612e+06\n",
       " -1.771726043768045057458867151470849185671742068502712263097109162278267033062749e+08\n",
       " -1.098709142445369723038902222078316409640557179257769823886389690356418564986456e+07\n",
       "  1.219781569728255440714468176388617449519739932160040971362976196947624778856822e+04"
      ]
     },
     "execution_count": 58,
     "metadata": {},
     "output_type": "execute_result"
    }
   ],
   "source": [
    "Ab=Array(BigFloat,n,n)\n",
    "bb=Array(BigFloat,n)\n",
    "for i=1:n\n",
    "    for j=1:n\n",
    "        Ab[i,j]=convert(BigFloat,A[i,j])\n",
    "    end\n",
    "    bb[i]=convert(BigFloat,b[i])\n",
    "end\n",
    "xb=Ab\\bb"
   ]
  },
  {
   "cell_type": "code",
   "execution_count": 59,
   "metadata": {
    "collapsed": false
   },
   "outputs": [
    {
     "data": {
      "text/plain": [
       "2.742728950333173979768028662629979375598101330704049401973633036524945694970124e-09"
      ]
     },
     "execution_count": 59,
     "metadata": {},
     "output_type": "execute_result"
    }
   ],
   "source": [
    "norm(xb-x)/norm(xb)"
   ]
  },
  {
   "cell_type": "markdown",
   "metadata": {},
   "source": [
    "### Umjetno loša kondicija"
   ]
  },
  {
   "cell_type": "code",
   "execution_count": 60,
   "metadata": {
    "collapsed": false
   },
   "outputs": [
    {
     "name": "stdout",
     "output_type": "stream",
     "text": [
      "(x,cond(A)) = ([-1.0,2.0],6.854101966249685)\n"
     ]
    },
    {
     "data": {
      "text/plain": [
       "([-1.0,2.0],50000.00017991671,[8.881784197001252e-16,-4.440892098500626e-16])"
      ]
     },
     "execution_count": 60,
     "metadata": {},
     "output_type": "execute_result"
    }
   ],
   "source": [
    "A=[1 1; 1 2]\n",
    "b=[1;3]\n",
    "x=A\\b\n",
    "@show x,cond(A)\n",
    "A1=[1e-4 1e-4;1 2]\n",
    "b1=[1e-4;3]\n",
    "x1=A1\\b1\n",
    "x,cond(A1),x-x1"
   ]
  },
  {
   "cell_type": "markdown",
   "metadata": {
    "collapsed": true
   },
   "source": [
    "## Rezidual\n",
    "\n",
    "\n",
    "Izračunato rješenje $\\hat x$ sustava $Ax=b$ je točno rješenje nekog sličnog sustava (vidi [Afternotes on Numerical Analysis, str. 128][Ste96]):\n",
    "\n",
    "\n",
    "$$ \n",
    "(A+\\delta A)\\hat x=b. \\tag{1}\n",
    "$$\n",
    "\n",
    "__Rezidual__ (ili __ostatak__) definiramo kao \n",
    "\n",
    "$$\n",
    "r=b-A\\hat x.\n",
    "$$\n",
    "\n",
    "Tada je \n",
    "\n",
    "$$\n",
    "0=b-(A+\\delta A)\\hat x=r- \\delta A\\hat x\n",
    "$$\n",
    "\n",
    "pa je \n",
    "\n",
    "$$ \n",
    "\\| r\\| \\leq \\| \\delta A\\hat x \\| \\leq \\| \\delta A\\| \\cdot \\|\\hat x \\|,\n",
    "$$\n",
    "\n",
    "odnosno\n",
    "\n",
    "$$\n",
    "\\frac{\\|  \\delta A\\|}{\\|A \\|} \\geq \\frac{\\|r\\|}{\\| A\\| \\cdot \\|\\hat x \\|}.\n",
    "$$\n",
    "\n",
    "Dakle,\n",
    "\n",
    "> ako  _relativni rezidual_ \n",
    ">\n",
    "> $$ \\frac{r}{\\| A\\| \\cdot \\|\\hat x \\|}$$\n",
    "> \n",
    "> ima veliku normu, tada __rješenje nije izračunato stabilno.__\n",
    "\n",
    "S druge strane, ako relativni rezidual ima malu normu, tada je rješenje izračunato stabilno. Naime, za\n",
    "\n",
    "$$\n",
    "\\delta A=\\frac{r\\hat x^T}{\\|\\hat x\\|^2}\n",
    "$$\n",
    "\n",
    "vrijedi (1):\n",
    "\n",
    "$$\n",
    "b-(A+\\delta A)\\hat x=(b-A\\hat x)-\\delta A \\hat x = r-\\frac{r\\hat x^T \\hat x}{\\|\\hat x\\|^2}\n",
    "= r-\\frac{r \\|\\hat x^T \\hat x\\|}{\\|\\hat x\\|^2}=r-r=0.\n",
    "$$\n",
    "\n",
    "Također vrijedi\n",
    "\n",
    "$$\n",
    "\\frac{\\|  \\delta A\\|}{\\|A \\|}  \\leq  \\frac{\\|r\\|\\|\\hat x \\|}{\\| A\\| \\cdot \\|\\hat x \\|^2}=\n",
    "\\frac{\\|r\\|}{\\| A\\| \\cdot \\|\\hat x \\|}.\n",
    "$$\n",
    "\n",
    "\n",
    "\n",
    "\n",
    "[Ste96]: https://books.google.hr/books?id=w-2PWh01kWcC&printsec=frontcover&hl=hr#v=onepage&q&f=false    \"G. W. Stewart, 'Afternotes on Numerical Analysis', SIAM, Philadelphia, 1996\""
   ]
  },
  {
   "cell_type": "code",
   "execution_count": 61,
   "metadata": {
    "collapsed": false
   },
   "outputs": [
    {
     "data": {
      "text/plain": [
       "2-element Array{Float64,1}:\n",
       " 0.0\n",
       " 0.0"
      ]
     },
     "execution_count": 61,
     "metadata": {},
     "output_type": "execute_result"
    }
   ],
   "source": [
    "r=b-A*x"
   ]
  },
  {
   "cell_type": "code",
   "execution_count": 62,
   "metadata": {
    "collapsed": false
   },
   "outputs": [
    {
     "data": {
      "text/plain": [
       "0.0"
      ]
     },
     "execution_count": 62,
     "metadata": {},
     "output_type": "execute_result"
    }
   ],
   "source": [
    "norm(r)/(norm(A)*norm(x))"
   ]
  },
  {
   "cell_type": "code",
   "execution_count": null,
   "metadata": {
    "collapsed": true
   },
   "outputs": [],
   "source": []
  }
 ],
 "metadata": {
  "kernelspec": {
   "display_name": "Julia 0.4.5",
   "language": "julia",
   "name": "julia-0.4"
  },
  "language_info": {
   "file_extension": ".jl",
   "mimetype": "application/julia",
   "name": "julia",
   "version": "0.4.5"
  }
 },
 "nbformat": 4,
 "nbformat_minor": 0
}
