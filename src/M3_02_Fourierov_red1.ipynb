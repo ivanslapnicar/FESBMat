{
 "metadata": {
  "language": "Julia",
  "name": "",
  "signature": "sha256:b9e157d4bf19f593b241f8d1f4a26e3caefbda3bc49770155a6e673fb332edcd"
 },
 "nbformat": 3,
 "nbformat_minor": 0,
 "worksheets": [
  {
   "cells": [
    {
     "cell_type": "markdown",
     "metadata": {},
     "source": [
      "# Fourierov red\n",
      "\n",
      "## Teorem o konvergenciji \n",
      "\n",
      "Neka je $f$ po djelovima glatka periodi\u010dna funkcija s periodom $T=x_1-x_0$ koja na intervalu $[x_0,x_1]$ zadovoljava __Dirichletove uvjete:__\n",
      "\n",
      "* $f$ je po djelovima neprekidna i njezini prekidi su prve vrste\n",
      "* $f$ je ili monotona ili ima kona\u010dno strogih ekstrema \n",
      "\n",
      "Tada Fourierov red\n",
      "$$\n",
      "S(x)=\\frac{a_0}{2}+\\sum_{n=1}^\\infty a_n \\cos \\frac{2 n \\pi}{T}x + b_n \\sin \\frac{2 n \\pi}{T}x,\n",
      "$$\n",
      "gdje je\n",
      "$$\n",
      "a_0=\\frac{2}{T} \\int_{x_0}^{x_1} f(x) \\, dx, \\\\\n",
      "a_n=\\frac{2}{T} \\int_{x_0}^{x_1} f(x) \\cos \\frac{2 n \\pi}{T}x \\,dx,\\\\\n",
      "b_n=\\frac{2}{T} \\int_{x_0}^{x_1} f(x) \\sin \\frac{2 n \\pi}{T}x \\,dx,\n",
      "$$\n",
      "konvergira u svakoj to\u010dki $x\\in [x_0,x_1]$ i vrijedi \n",
      "$$\n",
      "S(x)=\\begin{cases}\n",
      "     f(x), \\textrm{ ako je } f \\textrm{ neprekinuta u to\u010dki } x,\\\\\n",
      "     \\frac{1}{2} [f(x-0)+f(x+0)], \\textrm{ ina\u010de.}\n",
      "     \\end{cases}\n",
      "     $$"
     ]
    },
    {
     "cell_type": "markdown",
     "metadata": {},
     "source": [
      "## Simboli\u010dko ra\u010dunanje \n",
      "`SymPy` je paket za simboli\u010dko ra\u010dunanje preuzet iz `Python`-a, `Interact` je paket za jednostavno manipuliranje parametrima, a `Winston` je jedan od paketa za crtanje."
     ]
    },
    {
     "cell_type": "code",
     "collapsed": false,
     "input": [
      "using SymPy\n",
      "using Interact\n",
      "using Winston"
     ],
     "language": "python",
     "metadata": {},
     "outputs": [
      {
       "html": [
        "<script charset=\"utf-8\">(function ($, undefined) {\n",
        "\n",
        "    function createElem(tag, attr, content) {\n",
        "\t// TODO: remove jQuery dependency\n",
        "\tvar el = $(\"<\" + tag + \"/>\").attr(attr);\n",
        "\tif (content) {\n",
        "\t    el.append(content);\n",
        "\t}\n",
        "\treturn el[0];\n",
        "    }\n",
        "\n",
        "    // A widget must expose an id field which identifies it to the backend,\n",
        "    // an elem attribute which is will be added to the DOM, and\n",
        "    // a getState() method which returns the value to be sent to the backend\n",
        "    // a sendUpdate() method which sends its current value to the backend\n",
        "    var Widget = {\n",
        "\tid: undefined,\n",
        "\telem: undefined,\n",
        "\tlabel: undefined,\n",
        "\tgetState: function () {\n",
        "\t    return this.elem.value;\n",
        "\t},\n",
        "\tsendUpdate: undefined\n",
        "    };\n",
        "\n",
        "    var Slider = function (typ, id, init) {\n",
        "\tvar attr = { type:  \"range\",\n",
        "\t\t     value: init.value,\n",
        "\t\t     min:   init.min,\n",
        "\t\t     max:   init.max,\n",
        "\t\t     step:  init.step },\n",
        "\t    elem = createElem(\"input\", attr),\n",
        "\t    self = this;\n",
        "\n",
        "\telem.onchange = function () {\n",
        "\t    self.sendUpdate();\n",
        "\t}\n",
        "\n",
        "\tthis.id = id;\n",
        "\tthis.elem = elem;\n",
        "\tthis.label = init.label;\n",
        "\n",
        "\tInputWidgets.commInitializer(this); // Initialize communication\n",
        "    }\n",
        "    Slider.prototype = Widget;\n",
        "\n",
        "    var Checkbox = function (typ, id, init) {\n",
        "\tvar attr = { type: \"checkbox\",\n",
        "\t\t     checked: init.value },\n",
        "\t    elem = createElem(\"input\", attr),\n",
        "\t    self = this;\n",
        "\n",
        "\tthis.getState = function () {\n",
        "\t    return elem.checked;\n",
        "\t}\n",
        "\telem.onchange = function () {\n",
        "\t    self.sendUpdate();\n",
        "\t}\n",
        "\n",
        "\tthis.id = id;\n",
        "\tthis.elem = elem;\n",
        "\tthis.label = init.label;\n",
        "\n",
        "\tInputWidgets.commInitializer(this);\n",
        "    }\n",
        "    Checkbox.prototype = Widget;\n",
        "\n",
        "    var Button = function (typ, id, init) {\n",
        "\tvar attr = { type:    \"button\",\n",
        "\t\t     value:   init.label },\n",
        "\t    elem = createElem(\"input\", attr),\n",
        "\t    self = this;\n",
        "\tthis.getState = function () {\n",
        "\t    return null;\n",
        "\t}\n",
        "\telem.onclick = function () {\n",
        "\t    self.sendUpdate();\n",
        "\t}\n",
        "\n",
        "\tthis.id = id;\n",
        "\tthis.elem = elem;\n",
        "\tthis.label = init.label;\n",
        "\n",
        "\tInputWidgets.commInitializer(this);\n",
        "    }\n",
        "    Button.prototype = Widget;\n",
        "\n",
        "    var Text = function (typ, id, init) {\n",
        "\tvar attr = { type:  \"text\",\n",
        "\t\t     placeholder: init.label,\n",
        "\t\t     value: init.value },\n",
        "\t    elem = createElem(\"input\", attr),\n",
        "\t    self = this;\n",
        "\tthis.getState = function () {\n",
        "\t    return elem.value;\n",
        "\t}\n",
        "\telem.onkeyup = function () {\n",
        "\t    self.sendUpdate();\n",
        "\t}\n",
        "\n",
        "\tthis.id = id;\n",
        "\tthis.elem = elem;\n",
        "\tthis.label = init.label;\n",
        "\n",
        "\tInputWidgets.commInitializer(this);\n",
        "    }\n",
        "    Text.prototype = Widget;\n",
        "\n",
        "    var Textarea = function (typ, id, init) {\n",
        "\tvar attr = { placeholder: init.label },\n",
        "\t    elem = createElem(\"textarea\", attr, init.value),\n",
        "\t    self = this;\n",
        "\tthis.getState = function () {\n",
        "\t    return elem.value;\n",
        "\t}\n",
        "\telem.onchange = function () {\n",
        "\t    self.sendUpdate();\n",
        "\t}\n",
        "\n",
        "\tthis.id = id;\n",
        "\tthis.elem = elem;\n",
        "\tthis.label = init.label;\n",
        "\n",
        "\tInputWidgets.commInitializer(this);\n",
        "    }\n",
        "    Textarea.prototype = Widget;\n",
        "\n",
        "    // RadioButtons\n",
        "    // Dropdown\n",
        "    // HTML\n",
        "    // Latex\n",
        "\n",
        "    var InputWidgets = {\n",
        "\tSlider: Slider,\n",
        "\tCheckbox: Checkbox,\n",
        "\tButton: Button,\n",
        "\tText: Text,\n",
        "\tTextarea: Textarea,\n",
        "\tdebug: false,\n",
        "\tlog: function () {\n",
        "\t    if (InputWidgets.debug) {\n",
        "\t\tconsole.log.apply(console, arguments);\n",
        "\t    }\n",
        "\t},\n",
        "\t// a central way to initalize communication\n",
        "\t// for widgets.\n",
        "\tcommInitializer: function (widget) {\n",
        "\t    widget.sendUpdate = function () {};\n",
        "\t}\n",
        "    };\n",
        "\n",
        "    window.InputWidgets = InputWidgets;\n",
        "\n",
        "})(jQuery, undefined);\n",
        "</script>"
       ],
       "metadata": {},
       "output_type": "display_data"
      },
      {
       "html": [
        "<script charset=\"utf-8\">(function (IPython, $, _, MathJax, Widgets) {\n",
        "    $.event.special.destroyed = {\n",
        "\tremove: function(o) {\n",
        "\t    if (o.handler) {\n",
        "\t\to.handler.apply(this, arguments)\n",
        "\t    }\n",
        "\t}\n",
        "    }\n",
        "\n",
        "    var redrawValue = function (container, type, val) {\n",
        "\tvar selector = $(\"<div/>\");\n",
        "\tvar oa = new IPython.OutputArea(_.extend(selector, {\n",
        "\t    selector: selector,\n",
        "\t    prompt_area: true,\n",
        "\t    events: IPython.events,\n",
        "\t    keyboard_manager: IPython.keyboard_manager\n",
        "\t})); // Hack to work with IPython 2.1.0\n",
        "\n",
        "\tswitch (type) {\n",
        "\tcase \"image/png\":\n",
        "            var _src = 'data:' + type + ';base64,' + val;\n",
        "\t    $(container).find(\"img\").attr('src', _src);\n",
        "\t    break;\n",
        "\tdefault:\n",
        "\t    var toinsert = IPython.OutputArea.append_map[type].apply(\n",
        "\t\toa, [val, {}, selector]\n",
        "\t    );\n",
        "\t    $(container).empty().append(toinsert.contents());\n",
        "\t    selector.remove();\n",
        "\t}\n",
        "\tif (type === \"text/latex\" && MathJax) {\n",
        "\t    MathJax.Hub.Queue([\"Typeset\", MathJax.Hub, toinsert.get(0)]);\n",
        "\t}\n",
        "    }\n",
        "\n",
        "\n",
        "    $(document).ready(function() {\n",
        "\tWidgets.debug = false; // log messages etc in console.\n",
        "\tfunction initComm(evt, data) {\n",
        "\t    var comm_manager = data.kernel.comm_manager;\n",
        "\t    comm_manager.register_target(\"Signal\", function (comm) {\n",
        "\t\tcomm.on_msg(function (msg) {\n",
        "\t\t    //Widgets.log(\"message received\", msg);\n",
        "\t\t    var val = msg.content.data.value;\n",
        "\t\t    $(\".signal-\" + comm.comm_id).each(function() {\n",
        "\t\t\tvar type = $(this).data(\"type\");\n",
        "\t\t\tif (val[type]) {\n",
        "\t\t\t    redrawValue(this, type, val[type], type);\n",
        "\t\t\t}\n",
        "\t\t    });\n",
        "\t\t    delete val;\n",
        "\t\t    delete msg.content.data.value;\n",
        "\t\t});\n",
        "\t    });\n",
        "\n",
        "\t    // coordingate with Comm and redraw Signals\n",
        "\t    // XXX: Test using Reactive here to improve performance\n",
        "\t    $([IPython.events]).on(\n",
        "\t\t'output_appended.OutputArea', function (event, type, value, md, toinsert) {\n",
        "\t\t    if (md && md.reactive) {\n",
        "\t\t\t// console.log(md.comm_id);\n",
        "\t\t\ttoinsert.addClass(\"signal-\" + md.comm_id);\n",
        "\t\t\ttoinsert.data(\"type\", type);\n",
        "\t\t\t// Signal back indicating the mimetype required\n",
        "\t\t\tvar comm_manager = IPython.notebook.kernel.comm_manager;\n",
        "\t\t\tvar comm = comm_manager.comms[md.comm_id];\n",
        "\t\t\tcomm.send({action: \"subscribe_mime\",\n",
        "\t\t\t\t   mime: type});\n",
        "\t\t\ttoinsert.bind(\"destroyed\", function() {\n",
        "\t\t\t    comm.send({action: \"unsubscribe_mime\",\n",
        "\t\t\t\t       mime: type});\n",
        "\t\t\t});\n",
        "\t\t    }\n",
        "\t    });\n",
        "\n",
        "\t    // Set up communication for Widgets\n",
        "\t    Widgets.commInitializer = function (widget) {\n",
        "\t\tvar comm = comm_manager.new_comm(\n",
        "\t\t    \"InputWidget\", {widget_id: widget.id}\n",
        "\t\t);\n",
        "\t\twidget.sendUpdate = function () {\n",
        "\t\t    // `this` is a widget here.\n",
        "\t\t    // TODO: I have a feeling there's some\n",
        "\t\t    //       IPython bookkeeping to be done here.\n",
        "\t\t    // Widgets.log(\"State changed\", this, this.getState());\n",
        "\t\t    comm.send({value: this.getState()});\n",
        "\t\t}\n",
        "\t    };\n",
        "\t}\n",
        "\n",
        "\ttry {\n",
        "\t    // try to initialize right away. otherwise, wait on the status_started event.\n",
        "\t    initComm(undefined, IPython.notebook);\n",
        "\t} catch (e) {\n",
        "\t    $([IPython.events]).on('status_started.Kernel', initComm);\n",
        "\t}\n",
        "    });\n",
        "})(IPython, jQuery, _, MathJax, InputWidgets);\n",
        "</script>"
       ],
       "metadata": {},
       "output_type": "display_data"
      }
     ],
     "prompt_number": 1
    },
    {
     "cell_type": "markdown",
     "metadata": {},
     "source": [
      "Definirajmo simboli\u010dku varijablu $x$, simboli\u010dku cjelobrojnu (integer) varijablu $n$, i granice intervala $x_0$ i $x_1$. "
     ]
    },
    {
     "cell_type": "code",
     "collapsed": false,
     "input": [
      "x=Sym(\"x\")\n",
      "n=symbols(\"n\",integer=true)\n",
      "x_0=Sym(\"x_0\")\n",
      "x_1=Sym(\"x_1\")"
     ],
     "language": "python",
     "metadata": {},
     "outputs": [
      {
       "latex": [
        "$$x_{1}$$"
       ],
       "metadata": {},
       "output_type": "pyout",
       "prompt_number": 2,
       "text": [
        "x_1"
       ]
      }
     ],
     "prompt_number": 2
    },
    {
     "cell_type": "markdown",
     "metadata": {},
     "source": [
      "### Ra\u010dunanje koeficijenata"
     ]
    },
    {
     "cell_type": "code",
     "collapsed": false,
     "input": [
      "a(f,n,x_0,x_1)=2*integrate(f(x)*cos(2*PI*n*x/(x_1-x_0)),(x,x_0,x_1))/(x_1-x_0)\n",
      "b(f,n,x_0,x_1)=2*integrate(f(x)*sin(2*PI*n*x/(x_1-x_0)),(x,x_0,x_1))/(x_1-x_0)"
     ],
     "language": "python",
     "metadata": {},
     "outputs": [
      {
       "metadata": {},
       "output_type": "pyout",
       "prompt_number": 3,
       "text": [
        "b (generic function with 1 method)"
       ]
      }
     ],
     "prompt_number": 3
    },
    {
     "cell_type": "markdown",
     "metadata": {},
     "source": [
      "### Zadavanje funkcije $f(x)$ i granica intervala $[x_0,x_1]$\n",
      "\n",
      "Potrebno je koristiti predefiniranu simboli\u010dku varijablu `PI` za razliku od varijabli `pi` ili $\\pi$\n",
      "kojima je definirana `Float64` vrijednost."
     ]
    },
    {
     "cell_type": "code",
     "collapsed": false,
     "input": [
      "f(x)=x\n",
      "x_0=-PI\n",
      "x_1=PI"
     ],
     "language": "python",
     "metadata": {},
     "outputs": [
      {
       "latex": [
        "$$\\pi$$"
       ],
       "metadata": {},
       "output_type": "pyout",
       "prompt_number": 4,
       "text": [
        "pi"
       ]
      }
     ],
     "prompt_number": 4
    },
    {
     "cell_type": "markdown",
     "metadata": {},
     "source": [
      "__Pogledajmo koeficijente__"
     ]
    },
    {
     "cell_type": "code",
     "collapsed": false,
     "input": [
      "a(f,n,x_0,x_1)"
     ],
     "language": "python",
     "metadata": {},
     "outputs": [
      {
       "latex": [
        "$$0$$"
       ],
       "metadata": {},
       "output_type": "pyout",
       "prompt_number": 5,
       "text": [
        "0"
       ]
      }
     ],
     "prompt_number": 5
    },
    {
     "cell_type": "code",
     "collapsed": false,
     "input": [
      "b(f,n,x_0,x_1)"
     ],
     "language": "python",
     "metadata": {},
     "outputs": [
      {
       "latex": [
        "$$\\frac{1}{\\pi} \\begin{cases} 0 & \\text{for}\\: n = 0 \\\\- \\frac{2 \\pi}{n} \\left(-1\\right)^{n} & \\text{otherwise} \\end{cases}$$"
       ],
       "metadata": {},
       "output_type": "pyout",
       "prompt_number": 6,
       "text": [
        "/     0        for n = 0\n",
        "|                       \n",
        "|       n               \n",
        "<-2*(-1) *pi            \n",
        "|------------  otherwise\n",
        "|     n                 \n",
        "\\                       \n",
        "------------------------\n",
        "           pi           "
       ]
      }
     ],
     "prompt_number": 6
    },
    {
     "cell_type": "markdown",
     "metadata": {},
     "source": [
      "### Ra\u010dunanje i crtanje sume\n",
      "Za crtanje nam trebaju numeri\u010dke granice."
     ]
    },
    {
     "cell_type": "code",
     "collapsed": false,
     "input": [
      "x0=N(x_0)\n",
      "x1=N(x_1)\n",
      "@manipulate for K=1:10\n",
      "    S=a(f,0,x_0,x_1)/2+sum([a(f,n,x_0,x_1)*cos(2*PI*n*x/(x_1-x_0))+b(f,n,x_0,x_1)*sin(2*PI*n*x/(x_1-x_0)) for n=1:K])\n",
      "    plot(f,x0,x1)\n",
      "    oplot(S,x0,x1,\"r\")\n",
      "    title(\"Funkcija i \"*string(K)*\" \u010dlanova reda\")\n",
      "end"
     ],
     "language": "python",
     "metadata": {},
     "outputs": [
      {
       "html": [],
       "metadata": {},
       "output_type": "display_data",
       "text": [
        "Slider{Int64}([Input{Int64}] 5,\"K\",5,1:10)"
       ]
      },
      {
       "metadata": {
        "comm_id": "3161fcbe-2849-43a0-9e38-2e06fa9578df",
        "reactive": true
       },
       "output_type": "pyout",
       "png": "[encoded data removed]",
       "prompt_number": 7,
       "text": [
        "FramedPlot(...)"
       ]
      }
     ],
     "prompt_number": 7
    },
    {
     "cell_type": "markdown",
     "metadata": {},
     "source": [
      "## Numeri\u010dka integracija\n",
      "Fourierove koeficijente \u010demo izra\u010dunati _numeri\u010dkom integracijom_ (vidi [Numeri\u010dko integriranje](http://www.fesb.hr/mat2/)) koriste\u0107i Julia naredbu [quadgk](http://docs.julialang.org/en/latest/stdlib/math/?highlight=quadgk#Base.quadgk).\n",
      "\n",
      "Ovaj dio je izra\u0111en prema bilje\u017enici [lecture-2.ipynb](http://nbviewer.ipython.org/url/math.mit.edu/~stevenj/18.303/lecture-2.ipynb) [Stevena Johnsona](http://math.mit.edu/~stevenj/) izra\u0111enoj za predmet [18.303](http://math.mit.edu/~stevenj/18.303/).\n",
      "\n",
      "Definirajmo funkcije `sinecoef` i `coscoef` koje numeri\u010dki ra\u010dunaju koeficijente. Parametar `abstol` je toleranca numeri\u010dke integracije: \u017eelimo da je gre\u0161ka mala u odnosu na $\\sqrt{\\int_{x_0}^{x_1} |f(x)|^2 dx}$."
     ]
    },
    {
     "cell_type": "code",
     "collapsed": false,
     "input": [
      "Tf=x1-x0\n",
      "sinecoef(f, m, x0, x1, Tf) = 2 * quadgk(x -> f(x) * sin(2*m*\u03c0*x/Tf)/Tf, x0,x1, abstol=1e-8 * sqrt(quadgk(x->abs2(f(x)),x0,x1)[1]))[1]\n",
      "coscoef(f, m, x0, x1, Tf) = 2 * quadgk(x -> f(x) * cos(2*m*\u03c0*x/Tf)/Tf, x0,x1, abstol=1e-8 * sqrt(quadgk(x->abs2(f(x)),x0,x1)[1]))[1]\n",
      "\n",
      "# i druga funkcija koja ra\u010duna na vektoru prirodnih brojeva\n",
      "sinecoef(f, M::AbstractVector,x0,x1,Tf) = Float64[sinecoef(f,m,x0,x1,Tf) for m in M]\n",
      "coscoef(f, M::AbstractVector,x0,x1,Tf) = Float64[coscoef(f,m,x0,x1,Tf) for m in M]"
     ],
     "language": "python",
     "metadata": {},
     "outputs": [
      {
       "metadata": {},
       "output_type": "pyout",
       "prompt_number": 8,
       "text": [
        "coscoef (generic function with 2 methods)"
       ]
      }
     ],
     "prompt_number": 8
    },
    {
     "cell_type": "code",
     "collapsed": false,
     "input": [
      "# First, define a function to evaluate N terms of the sine series, given the coefficients b\n",
      "function fouriersum(a, b, x, T)\n",
      "    f = a[1]/2\n",
      "    for n = 1:length(b)\n",
      "        f += a[n+1]* cos(2*n*\u03c0*x/T) + b[n] * sin(2*n*\u03c0*x/T)\n",
      "    end\n",
      "    return f\n",
      "end\n",
      "fouriersum(a, b, X::AbstractVector, T) = Float64[fouriersum(a, b,x,T) for x in X]"
     ],
     "language": "python",
     "metadata": {},
     "outputs": [
      {
       "metadata": {},
       "output_type": "pyout",
       "prompt_number": 9,
       "text": [
        "fouriersum (generic function with 2 methods)"
       ]
      }
     ],
     "prompt_number": 9
    },
    {
     "cell_type": "code",
     "collapsed": false,
     "input": [
      "# Uzmimo vi\u0161e to\u010daka (ina\u010de \"nestane\" Gibbsov efekt!!)\n",
      "X=linspace(x0,x1,1000)\n",
      "@manipulate for n=1:1:99\n",
      "    a = coscoef(f, 0:n, x0, x1, Tf)\n",
      "    b = sinecoef(f, 1:n, x0, x1, Tf)\n",
      "    plot(f,x0,x1,\"b\",X, fouriersum(a, b, X, Tf), \"r-\")\n",
      "    title(\"Funkcija i \"*string(n)*\" \u010dlanova reda\")\n",
      "end"
     ],
     "language": "python",
     "metadata": {},
     "outputs": [
      {
       "html": [],
       "metadata": {},
       "output_type": "display_data",
       "text": [
        "Slider{Int64}([Input{Int64}] 50,\"n\",50,1:1:99)"
       ]
      },
      {
       "metadata": {
        "comm_id": "33a15152-e032-456c-990b-91f4beb80f47",
        "reactive": true
       },
       "output_type": "pyout",
       "png": "[encoded data removed]",
       "prompt_number": 14,
       "text": [
        "FramedPlot(...)"
       ]
      }
     ],
     "prompt_number": 14
    },
    {
     "cell_type": "markdown",
     "metadata": {},
     "source": [
      "## Primjeri"
     ]
    },
    {
     "cell_type": "code",
     "collapsed": false,
     "input": [
      "f(x)=x^2\n",
      "x_0=-1\n",
      "x_1=1"
     ],
     "language": "python",
     "metadata": {},
     "outputs": [
      {
       "metadata": {},
       "output_type": "pyout",
       "prompt_number": 15,
       "text": [
        "1"
       ]
      }
     ],
     "prompt_number": 15
    },
    {
     "cell_type": "code",
     "collapsed": false,
     "input": [
      "a(f,n,x_0,x_1) "
     ],
     "language": "python",
     "metadata": {},
     "outputs": [
      {
       "latex": [
        "$$\\begin{cases} \\frac{2}{3} & \\text{for}\\: n = 0 \\\\\\frac{4 \\left(-1\\right)^{n}}{\\pi^{2} n^{2}} & \\text{otherwise} \\end{cases}$$"
       ],
       "metadata": {},
       "output_type": "pyout",
       "prompt_number": 16,
       "text": [
        "/  2/3    for n = 0\n",
        "|                  \n",
        "|      n           \n",
        "<4*(-1)            \n",
        "|-------  otherwise\n",
        "|   2  2           \n",
        "\\ pi *n            "
       ]
      }
     ],
     "prompt_number": 16
    },
    {
     "cell_type": "code",
     "collapsed": false,
     "input": [
      "x0=N(x_0)\n",
      "x1=N(x_1)\n",
      "@manipulate for K=1:10\n",
      "    S=a(f,0,x_0,x_1)/2+sum([a(f,n,x_0,x_1)*cos(2*PI*n*x/(x_1-x_0))+b(f,n,x_0,x_1)*sin(2*PI*n*x/(x_1-x_0)) for n=1:K])\n",
      "    plot(f,x0,x1)\n",
      "    oplot(S,x0,x1,\"r\")\n",
      "    title(\"Funkcija i \"*string(K)*\" \u010dlanova reda\")\n",
      "end"
     ],
     "language": "python",
     "metadata": {},
     "outputs": [
      {
       "html": [],
       "metadata": {},
       "output_type": "display_data",
       "text": [
        "Slider{Int64}([Input{Int64}] 5,\"K\",5,1:10)"
       ]
      },
      {
       "metadata": {
        "comm_id": "c62b8567-a97a-4c4b-85e2-76c07fda32e3",
        "reactive": true
       },
       "output_type": "pyout",
       "png": "[encoded data removed]",
       "prompt_number": 17,
       "text": [
        "FramedPlot(...)"
       ]
      }
     ],
     "prompt_number": 17
    },
    {
     "cell_type": "code",
     "collapsed": false,
     "input": [
      "Tf=x1-x0\n",
      "X=linspace(x0,x1,1000)\n",
      "@manipulate for n=1:1:99\n",
      "    a = coscoef(f, 0:n, x0, x1, Tf)\n",
      "    b = sinecoef(f, 1:n, x0, x1, Tf)\n",
      "    plot(f,x0,x1,\"b\",X, fouriersum(a, b, X, Tf), \"r-\")\n",
      "    title(\"Funkcija i \"*string(n)*\" \u010dlanova reda\")\n",
      "end"
     ],
     "language": "python",
     "metadata": {},
     "outputs": [
      {
       "html": [],
       "metadata": {},
       "output_type": "display_data",
       "text": [
        "Slider{Int64}([Input{Int64}] 50,\"n\",50,1:1:99)"
       ]
      },
      {
       "metadata": {
        "comm_id": "24267915-6153-4a77-9fa8-59b4ce567c0e",
        "reactive": true
       },
       "output_type": "pyout",
       "png": "[encoded data removed]",
       "prompt_number": 21,
       "text": [
        "FramedPlot(...)"
       ]
      }
     ],
     "prompt_number": 21
    },
    {
     "cell_type": "code",
     "collapsed": false,
     "input": [
      "# Funkcija zadana po djelovima\n",
      "f(x)=x+abs(x)\n",
      "x_0=-1\n",
      "x_1=1"
     ],
     "language": "python",
     "metadata": {},
     "outputs": [
      {
       "metadata": {},
       "output_type": "pyout",
       "prompt_number": 22,
       "text": [
        "1"
       ]
      }
     ],
     "prompt_number": 22
    },
    {
     "cell_type": "markdown",
     "metadata": {},
     "source": [
      "Na ovu funkciju, zadanu po djelovima, ne mogu se direktno primijeniti simboli\u010dke formule, ve\u0107 bi ih trebalo \"ru\u010dno\" prilagoditi na odgovaraju\u010di interval. Numeri\u010dko ra\u010dunanje radi. Funkcija se jo\u0161 mo\u017ee zadati i kao\n",
      "```\n",
      "f(x)=sympy.Piecewise((0,x<=0), (x,x>0))\n",
      "```\n",
      "ili\n",
      "```\n",
      "f(x)=x*sympy.Heaviside(x)\n",
      "```"
     ]
    },
    {
     "cell_type": "code",
     "collapsed": false,
     "input": [
      "a(f,n,x_0,x_1)"
     ],
     "language": "python",
     "metadata": {},
     "outputs": [
      {
       "ename": "LoadError",
       "evalue": "PyError (:PyObject_Call) <type 'exceptions.AttributeError'>\nAttributeError(\"'ExprCondPair' object has no attribute 'is_polynomial'\",)\n  File \"/usr/lib/python2.7/site-packages/sympy/utilities/decorator.py\", line 35, in threaded_func\n    return func(expr, *args, **kwargs)\n  File \"/usr/lib/python2.7/site-packages/sympy/integrals/integrals.py\", line 1289, in integrate\n    risch=risch, manual=manual)\n  File \"/usr/lib/python2.7/site-packages/sympy/integrals/integrals.py\", line 555, in doit\n    conds=conds)\n  File \"/usr/lib/python2.7/site-packages/sympy/integrals/integrals.py\", line 944, in _eval_integral\n    result = manualintegrate(g, x)\n  File \"/usr/lib/python2.7/site-packages/sympy/integrals/manualintegrate.py\", line 947, in manualintegrate\n    return _manualintegrate(integral_steps(f, var))\n  File \"/usr/lib/python2.7/site-packages/sympy/integrals/manualintegrate.py\", line 805, in integral_steps\n    fallback_rule)(integral)\n  File \"/usr/lib/python2.7/site-packages/sympy/strategies/core.py\", line 86, in do_one_rl\n    result = rl(expr)\n  File \"/usr/lib/python2.7/site-packages/sympy/strategies/core.py\", line 66, in null_safe_rl\n    result = rule(expr)\n  File \"/usr/lib/python2.7/site-packages/sympy/integrals/manualintegrate.py\", line 204, in _alternatives\n    result = rule(integral)\n  File \"/usr/lib/python2.7/site-packages/sympy/strategies/core.py\", line 34, in conditioned_rl\n    return rule(expr)\n  File \"/usr/lib/python2.7/site-packages/sympy/integrals/manualintegrate.py\", line 168, in _rewriter\n    substep = integral_steps(rewritten, symbol)\n  File \"/usr/lib/python2.7/site-packages/sympy/integrals/manualintegrate.py\", line 805, in integral_steps\n    fallback_rule)(integral)\n  File \"/usr/lib/python2.7/site-packages/sympy/strategies/core.py\", line 86, in do_one_rl\n    result = rl(expr)\n  File \"/usr/lib/python2.7/site-packages/sympy/strategies/core.py\", line 66, in null_safe_rl\n    result = rule(expr)\n  File \"/usr/lib/python2.7/site-packages/sympy/strategies/core.py\", line 96, in switch_rl\n    return rl(expr)\n  File \"/usr/lib/python2.7/site-packages/sympy/integrals/manualintegrate.py\", line 300, in add_rule\n    for g in integrand.as_ordered_terms()],\n  File \"/usr/lib/python2.7/site-packages/sympy/integrals/manualintegrate.py\", line 805, in integral_steps\n    fallback_rule)(integral)\n  File \"/usr/lib/python2.7/site-packages/sympy/strategies/core.py\", line 86, in do_one_rl\n    result = rl(expr)\n  File \"/usr/lib/python2.7/site-packages/sympy/strategies/core.py\", line 66, in null_safe_rl\n    result = rule(expr)\n  File \"/usr/lib/python2.7/site-packages/sympy/integrals/manualintegrate.py\", line 204, in _alternatives\n    result = rule(integral)\n  File \"/usr/lib/python2.7/site-packages/sympy/strategies/core.py\", line 34, in conditioned_rl\n    return rule(expr)\n  File \"/usr/lib/python2.7/site-packages/sympy/integrals/manualintegrate.py\", line 400, in parts_rule\n    result = _parts_rule(v * du, symbol)\n  File \"/usr/lib/python2.7/site-packages/sympy/integrals/manualintegrate.py\", line 350, in _parts_rule\n    result = rule(integrand)\n  File \"/usr/lib/python2.7/site-packages/sympy/integrals/manualintegrate.py\", line 321, in pull_out_polys\n    polys = [arg for arg in integrand.args if arg.is_polynomial(symbol)]\n\nwhile loading In[23], in expression starting on line 1",
       "output_type": "pyerr",
       "traceback": [
        "PyError (:PyObject_Call) <type 'exceptions.AttributeError'>\nAttributeError(\"'ExprCondPair' object has no attribute 'is_polynomial'\",)\n  File \"/usr/lib/python2.7/site-packages/sympy/utilities/decorator.py\", line 35, in threaded_func\n    return func(expr, *args, **kwargs)\n  File \"/usr/lib/python2.7/site-packages/sympy/integrals/integrals.py\", line 1289, in integrate\n    risch=risch, manual=manual)\n  File \"/usr/lib/python2.7/site-packages/sympy/integrals/integrals.py\", line 555, in doit\n    conds=conds)\n  File \"/usr/lib/python2.7/site-packages/sympy/integrals/integrals.py\", line 944, in _eval_integral\n    result = manualintegrate(g, x)\n  File \"/usr/lib/python2.7/site-packages/sympy/integrals/manualintegrate.py\", line 947, in manualintegrate\n    return _manualintegrate(integral_steps(f, var))\n  File \"/usr/lib/python2.7/site-packages/sympy/integrals/manualintegrate.py\", line 805, in integral_steps\n    fallback_rule)(integral)\n  File \"/usr/lib/python2.7/site-packages/sympy/strategies/core.py\", line 86, in do_one_rl\n    result = rl(expr)\n  File \"/usr/lib/python2.7/site-packages/sympy/strategies/core.py\", line 66, in null_safe_rl\n    result = rule(expr)\n  File \"/usr/lib/python2.7/site-packages/sympy/integrals/manualintegrate.py\", line 204, in _alternatives\n    result = rule(integral)\n  File \"/usr/lib/python2.7/site-packages/sympy/strategies/core.py\", line 34, in conditioned_rl\n    return rule(expr)\n  File \"/usr/lib/python2.7/site-packages/sympy/integrals/manualintegrate.py\", line 168, in _rewriter\n    substep = integral_steps(rewritten, symbol)\n  File \"/usr/lib/python2.7/site-packages/sympy/integrals/manualintegrate.py\", line 805, in integral_steps\n    fallback_rule)(integral)\n  File \"/usr/lib/python2.7/site-packages/sympy/strategies/core.py\", line 86, in do_one_rl\n    result = rl(expr)\n  File \"/usr/lib/python2.7/site-packages/sympy/strategies/core.py\", line 66, in null_safe_rl\n    result = rule(expr)\n  File \"/usr/lib/python2.7/site-packages/sympy/strategies/core.py\", line 96, in switch_rl\n    return rl(expr)\n  File \"/usr/lib/python2.7/site-packages/sympy/integrals/manualintegrate.py\", line 300, in add_rule\n    for g in integrand.as_ordered_terms()],\n  File \"/usr/lib/python2.7/site-packages/sympy/integrals/manualintegrate.py\", line 805, in integral_steps\n    fallback_rule)(integral)\n  File \"/usr/lib/python2.7/site-packages/sympy/strategies/core.py\", line 86, in do_one_rl\n    result = rl(expr)\n  File \"/usr/lib/python2.7/site-packages/sympy/strategies/core.py\", line 66, in null_safe_rl\n    result = rule(expr)\n  File \"/usr/lib/python2.7/site-packages/sympy/integrals/manualintegrate.py\", line 204, in _alternatives\n    result = rule(integral)\n  File \"/usr/lib/python2.7/site-packages/sympy/strategies/core.py\", line 34, in conditioned_rl\n    return rule(expr)\n  File \"/usr/lib/python2.7/site-packages/sympy/integrals/manualintegrate.py\", line 400, in parts_rule\n    result = _parts_rule(v * du, symbol)\n  File \"/usr/lib/python2.7/site-packages/sympy/integrals/manualintegrate.py\", line 350, in _parts_rule\n    result = rule(integrand)\n  File \"/usr/lib/python2.7/site-packages/sympy/integrals/manualintegrate.py\", line 321, in pull_out_polys\n    polys = [arg for arg in integrand.args if arg.is_polynomial(symbol)]\n\nwhile loading In[23], in expression starting on line 1",
        "",
        " in pyerr_check at /home/slap/.julia/v0.3/PyCall/src/exception.jl:60",
        " in pycall at /home/slap/.julia/v0.3/PyCall/src/PyCall.jl:92",
        " in fn at /home/slap/.julia/v0.3/PyCall/src/conversions.jl:188",
        " in call_sympy_fun at /home/slap/.julia/v0.3/SymPy/src/utils.jl:190",
        " in sympy_meth at /home/slap/.julia/v0.3/SymPy/src/utils.jl:192",
        " in integrate at /home/slap/.julia/v0.3/SymPy/src/SymPy.jl:148",
        " in a at ./In[3]:1"
       ]
      }
     ],
     "prompt_number": 23
    },
    {
     "cell_type": "code",
     "collapsed": false,
     "input": [
      "x0=N(x_0)\n",
      "x1=N(x_1)\n",
      "Tf=x1-x0\n",
      "X=linspace(x0,x1,1000)\n",
      "@manipulate for n=1:2:99\n",
      "    a = coscoef(f, 0:n, x0, x1, Tf)\n",
      "    b = sinecoef(f, 1:n, x0, x1, Tf)\n",
      "    plot(f,x0,x1,\"b\",X, fouriersum(a, b, X, Tf), \"r-\")\n",
      "    title(\"Funkcija i \"*string(n)*\" \u010dlanova reda\")\n",
      "end"
     ],
     "language": "python",
     "metadata": {},
     "outputs": [
      {
       "html": [],
       "metadata": {},
       "output_type": "display_data",
       "text": [
        "Slider{Int64}([Input{Int64}] 49,\"n\",49,1:2:99)"
       ]
      },
      {
       "metadata": {
        "comm_id": "5bc659cc-ee9a-4efd-b8a7-1eee49f77980",
        "reactive": true
       },
       "output_type": "pyout",
       "png": "[encoded data removed]",
       "prompt_number": 24,
       "text": [
        "FramedPlot(...)"
       ]
      }
     ],
     "prompt_number": 24
    },
    {
     "cell_type": "code",
     "collapsed": false,
     "input": [],
     "language": "python",
     "metadata": {},
     "outputs": [],
     "prompt_number": 18
    }
   ],
   "metadata": {}
  }
 ]
}