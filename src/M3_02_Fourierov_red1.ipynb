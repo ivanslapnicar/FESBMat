{
 "cells": [
  {
   "cell_type": "markdown",
   "metadata": {},
   "source": [
    "# Fourierov red\n",
    "\n",
    "## Teorem o konvergenciji \n",
    "\n",
    "Neka je $f$ po djelovima glatka periodična funkcija s periodom $T=x_1-x_0$ koja na intervalu $[x_0,x_1]$ zadovoljava __Dirichletove uvjete:__\n",
    "\n",
    "* $f$ je po djelovima neprekidna i njezini prekidi su prve vrste\n",
    "* $f$ je ili monotona ili ima konačno strogih ekstrema \n",
    "\n",
    "Tada Fourierov red\n",
    "$$\n",
    "S(x)=\\frac{a_0}{2}+\\sum_{n=1}^\\infty a_n \\cos \\frac{2 n \\pi}{T}x + b_n \\sin \\frac{2 n \\pi}{T}x,\n",
    "$$\n",
    "gdje je\n",
    "$$\n",
    "a_0=\\frac{2}{T} \\int_{x_0}^{x_1} f(x) \\, dx, \\\\\n",
    "a_n=\\frac{2}{T} \\int_{x_0}^{x_1} f(x) \\cos \\frac{2 n \\pi}{T}x \\,dx,\\\\\n",
    "b_n=\\frac{2}{T} \\int_{x_0}^{x_1} f(x) \\sin \\frac{2 n \\pi}{T}x \\,dx,\n",
    "$$\n",
    "konvergira u svakoj točki $x\\in [x_0,x_1]$ i vrijedi \n",
    "$$\n",
    "S(x)=\\begin{cases}\n",
    "     f(x), \\textrm{ ako je } f \\textrm{ neprekinuta u točki } x,\\\\\n",
    "     \\frac{1}{2} [f(x-0)+f(x+0)], \\textrm{ inače.}\n",
    "     \\end{cases}\n",
    "     $$"
   ]
  },
  {
   "cell_type": "markdown",
   "metadata": {},
   "source": [
    "## Simboličko računanje \n",
    "`SymPy` je paket za simboličko računanje preuzet iz `Python`-a, `Interact` je paket za jednostavno manipuliranje parametrima, a `Winston` je jedan od paketa za crtanje."
   ]
  },
  {
   "cell_type": "code",
   "execution_count": 1,
   "metadata": {
    "collapsed": false
   },
   "outputs": [
    {
     "data": {
      "text/html": [
       "<div id=\"interact-js-shim\">\n",
       "    <script charset=\"utf-8\">\n",
       "(function (IPython, $, _, MathJax) {\n",
       "    $.event.special.destroyed = {\n",
       "\tremove: function(o) {\n",
       "\t    if (o.handler) {\n",
       "\t\to.handler.apply(this, arguments)\n",
       "\t    }\n",
       "\t}\n",
       "    }\n",
       "\n",
       "    var OutputArea = IPython.version >= \"4.0.0\" ? require(\"notebook/js/outputarea\").OutputArea : IPython.OutputArea;\n",
       "\n",
       "    var redrawValue = function (container, type, val) {\n",
       "\tvar selector = $(\"<div/>\");\n",
       "\tvar oa = new OutputArea(_.extend(selector, {\n",
       "\t    selector: selector,\n",
       "\t    prompt_area: true,\n",
       "\t    events: IPython.events,\n",
       "\t    keyboard_manager: IPython.keyboard_manager\n",
       "\t})); // Hack to work with IPython 2.1.0\n",
       "\n",
       "\tswitch (type) {\n",
       "\tcase \"image/png\":\n",
       "            var _src = 'data:' + type + ';base64,' + val;\n",
       "\t    $(container).find(\"img\").attr('src', _src);\n",
       "\t    break;\n",
       "\tcase \"text/latex\":\n",
       "\t\tif (MathJax){\n",
       "\t\t\tvar math = MathJax.Hub.getAllJax(container)[0];\n",
       "\t\t\tMathJax.Hub.Queue([\"Text\", math, val.replace(/^\\${1,2}|\\${1,2}$/g, '')]);\n",
       "\t\t\tbreak;\n",
       "\t\t}\n",
       "\tdefault:\n",
       "\t    var toinsert = OutputArea.append_map[type].apply(\n",
       "\t\toa, [val, {}, selector]\n",
       "\t    );\n",
       "\t    $(container).empty().append(toinsert.contents());\n",
       "\t    selector.remove();\n",
       "\t}\n",
       "    }\n",
       "\n",
       "\n",
       "    $(document).ready(function() {\n",
       "\tfunction initComm(evt, data) {\n",
       "\t    var comm_manager = data.kernel.comm_manager;\n",
       "        //_.extend(comm_manager.targets, require(\"widgets/js/widget\"))\n",
       "\t    comm_manager.register_target(\"Signal\", function (comm) {\n",
       "            comm.on_msg(function (msg) {\n",
       "                var val = msg.content.data.value;\n",
       "                $(\".signal-\" + comm.comm_id).each(function() {\n",
       "                var type = $(this).data(\"type\");\n",
       "                if (typeof(val[type]) !== \"undefined\" && val[type] !== null) {\n",
       "                    redrawValue(this, type, val[type], type);\n",
       "                }\n",
       "                });\n",
       "                delete val;\n",
       "                delete msg.content.data.value;\n",
       "            });\n",
       "\t    });\n",
       "\n",
       "\t    // coordingate with Comm and redraw Signals\n",
       "\t    // XXX: Test using Reactive here to improve performance\n",
       "\t    $([IPython.events]).on(\n",
       "\t\t'output_appended.OutputArea', function (event, type, value, md, toinsert) {\n",
       "\t\t    if (md && md.reactive) {\n",
       "                // console.log(md.comm_id);\n",
       "                toinsert.addClass(\"signal-\" + md.comm_id);\n",
       "                toinsert.data(\"type\", type);\n",
       "                // Signal back indicating the mimetype required\n",
       "                var comm_manager = IPython.notebook.kernel.comm_manager;\n",
       "                var comm = comm_manager.comms[md.comm_id];\n",
       "                comm.then(function (c) {\n",
       "                    c.send({action: \"subscribe_mime\",\n",
       "                       mime: type});\n",
       "                    toinsert.bind(\"destroyed\", function() {\n",
       "                        c.send({action: \"unsubscribe_mime\",\n",
       "                               mime: type});\n",
       "                    });\n",
       "                })\n",
       "\t\t    }\n",
       "\t    });\n",
       "\t}\n",
       "\n",
       "\ttry {\n",
       "\t    // try to initialize right away. otherwise, wait on the status_started event.\n",
       "\t    initComm(undefined, IPython.notebook);\n",
       "\t} catch (e) {\n",
       "\t    $([IPython.events]).on('kernel_created.Kernel kernel_created.Session', initComm);\n",
       "\t}\n",
       "    });\n",
       "})(IPython, jQuery, _, MathJax);\n",
       "</script>\n",
       "    <script>\n",
       "        window.interactLoadedFlag = true\n",
       "       $(\"#interact-js-shim\").bind(\"destroyed\", function () {\n",
       "           if (window.interactLoadedFlag) {\n",
       "               console.warn(\"JavaScript required by Interact will be removed if you remove this cell or run using Interact more than once.\")\n",
       "           }\n",
       "       })\n",
       "       $([IPython.events]).on(\"kernel_starting.Kernel kernel_restarting.Kernel\", function () { window.interactLoadedFlag = false })\n",
       "   </script>\n",
       "</div>"
      ]
     },
     "metadata": {},
     "output_type": "display_data"
    }
   ],
   "source": [
    "using SymPy\n",
    "using Interact\n",
    "using Winston"
   ]
  },
  {
   "cell_type": "markdown",
   "metadata": {},
   "source": [
    "Definirajmo simboličku varijablu $x$, simboličku cjelobrojnu (integer) varijablu $n$, i granice intervala $x_0$ i $x_1$. "
   ]
  },
  {
   "cell_type": "code",
   "execution_count": 2,
   "metadata": {
    "collapsed": false
   },
   "outputs": [
    {
     "data": {
      "text/latex": [
       "$$x_{1}$$"
      ],
      "text/plain": [
       "x₁"
      ]
     },
     "execution_count": 2,
     "metadata": {},
     "output_type": "execute_result"
    }
   ],
   "source": [
    "x=Sym(\"x\")\n",
    "n=symbols(\"n\",integer=true)\n",
    "x_0=Sym(\"x_0\")\n",
    "x_1=Sym(\"x_1\")"
   ]
  },
  {
   "cell_type": "markdown",
   "metadata": {},
   "source": [
    "### Računanje koeficijenata"
   ]
  },
  {
   "cell_type": "code",
   "execution_count": 3,
   "metadata": {
    "collapsed": false
   },
   "outputs": [
    {
     "data": {
      "text/plain": [
       "b (generic function with 1 method)"
      ]
     },
     "execution_count": 3,
     "metadata": {},
     "output_type": "execute_result"
    }
   ],
   "source": [
    "a(f,n,x_0,x_1)=2*integrate(f(x)*cos(2*PI*n*x/(x_1-x_0)),(x,x_0,x_1))/(x_1-x_0)\n",
    "b(f,n,x_0,x_1)=2*integrate(f(x)*sin(2*PI*n*x/(x_1-x_0)),(x,x_0,x_1))/(x_1-x_0)"
   ]
  },
  {
   "cell_type": "markdown",
   "metadata": {},
   "source": [
    "### Zadavanje funkcije $f(x)$ i granica intervala $[x_0,x_1]$\n",
    "\n",
    "Potrebno je koristiti predefiniranu simboličku varijablu `PI` za razliku od varijabli `pi` ili $\\pi$\n",
    "kojima je definirana `Float64` vrijednost."
   ]
  },
  {
   "cell_type": "code",
   "execution_count": 4,
   "metadata": {
    "collapsed": false
   },
   "outputs": [
    {
     "data": {
      "text/latex": [
       "$$\\pi$$"
      ],
      "text/plain": [
       "π"
      ]
     },
     "execution_count": 4,
     "metadata": {},
     "output_type": "execute_result"
    }
   ],
   "source": [
    "f(x)=x\n",
    "x_0=-PI\n",
    "x_1=PI"
   ]
  },
  {
   "cell_type": "markdown",
   "metadata": {},
   "source": [
    "__Pogledajmo koeficijente__"
   ]
  },
  {
   "cell_type": "code",
   "execution_count": 5,
   "metadata": {
    "collapsed": false
   },
   "outputs": [
    {
     "data": {
      "text/latex": [
       "$$0$$"
      ],
      "text/plain": [
       "0"
      ]
     },
     "execution_count": 5,
     "metadata": {},
     "output_type": "execute_result"
    }
   ],
   "source": [
    "a(f,n,x_0,x_1)"
   ]
  },
  {
   "cell_type": "code",
   "execution_count": 6,
   "metadata": {
    "collapsed": false
   },
   "outputs": [
    {
     "data": {
      "text/latex": [
       "$$\\frac{1}{\\pi} \\begin{cases} 0 & \\text{for}\\: n = 0 \\\\- \\frac{2 \\pi}{n} \\left(-1\\right)^{n} & \\text{otherwise} \\end{cases}$$"
      ],
      "text/plain": [
       "⎧     0       for n = 0\n",
       "⎪                      \n",
       "⎪       n              \n",
       "⎨-2⋅(-1) ⋅π            \n",
       "⎪───────────  otherwise\n",
       "⎪     n                \n",
       "⎩                      \n",
       "───────────────────────\n",
       "           π           "
      ]
     },
     "execution_count": 6,
     "metadata": {},
     "output_type": "execute_result"
    }
   ],
   "source": [
    "b(f,n,x_0,x_1)"
   ]
  },
  {
   "cell_type": "markdown",
   "metadata": {},
   "source": [
    "### Računanje i crtanje sume\n",
    "Za crtanje nam trebaju numeričke granice."
   ]
  },
  {
   "cell_type": "code",
   "execution_count": 8,
   "metadata": {
    "collapsed": false
   },
   "outputs": [
    {
     "data": {
      "text/html": [],
      "text/plain": [
       "Interact.Options{:SelectionSlider,Int64}(Signal{Int64}(5, nactions=1),\"K\",5,\"5\",Interact.OptionDict(DataStructures.OrderedDict(\"1\"=>1,\"2\"=>2,\"3\"=>3,\"4\"=>4,\"5\"=>5,\"6\"=>6,\"7\"=>7,\"8\"=>8,\"9\"=>9,\"10\"=>10…),Dict(7=>\"7\",4=>\"4\",9=>\"9\",10=>\"10\",2=>\"2\",3=>\"3\",5=>\"5\",8=>\"8\",6=>\"6\",1=>\"1\"…)),Any[],Any[],true,\"horizontal\")"
      ]
     },
     "metadata": {},
     "output_type": "display_data"
    },
    {
     "data": {
      "image/png": "[encoded data removed]",
      "text/plain": [
       "Winston.FramedPlot(...)"
      ]
     },
     "execution_count": 8,
     "metadata": {
      "comm_id": "4d3b2b6a-6899-49e4-9b6b-d7b7607b7639",
      "reactive": true
     },
     "output_type": "execute_result"
    }
   ],
   "source": [
    "x0=N(x_0)\n",
    "x1=N(x_1)\n",
    "@manipulate for K=1:10\n",
    "    S=a(f,0,x_0,x_1)/2+sum([a(f,n,x_0,x_1)*cos(2*PI*n*x/(x_1-x_0))+b(f,n,x_0,x_1)*sin(2*PI*n*x/(x_1-x_0)) for n=1:K])\n",
    "    g(x)=S(x)\n",
    "    plot(f,x0,x1)\n",
    "    oplot(g,x0,x1,\"r\")\n",
    "    title(\"Funkcija i \"*string(K)*\" članova reda\")\n",
    "end"
   ]
  },
  {
   "cell_type": "markdown",
   "metadata": {},
   "source": [
    "## Numerička integracija\n",
    "Fourierove koeficijente čemo izračunati _numeričkom integracijom_ (vidi [Numeričko integriranje](http://www.fesb.hr/mat2/)) koristeći Julia naredbu [quadgk](http://docs.julialang.org/en/latest/stdlib/math/?highlight=quadgk#Base.quadgk).\n",
    "\n",
    "Ovaj dio je izrađen prema bilježnici [lecture-2.ipynb](http://nbviewer.ipython.org/url/math.mit.edu/~stevenj/18.303/lecture-2.ipynb) [Stevena Johnsona](http://math.mit.edu/~stevenj/) izrađenoj za predmet [18.303](http://math.mit.edu/~stevenj/18.303/).\n",
    "\n",
    "Definirajmo funkcije `sinecoef` i `coscoef` koje numerički računaju koeficijente. Parametar `abstol` je toleranca numeričke integracije: želimo da je greška mala u odnosu na $\\sqrt{\\int_{x_0}^{x_1} |f(x)|^2 dx}$."
   ]
  },
  {
   "cell_type": "code",
   "execution_count": 9,
   "metadata": {
    "collapsed": false
   },
   "outputs": [
    {
     "data": {
      "text/plain": [
       "coscoef (generic function with 2 methods)"
      ]
     },
     "execution_count": 9,
     "metadata": {},
     "output_type": "execute_result"
    }
   ],
   "source": [
    "Tf=x1-x0\n",
    "sinecoef(f, m, x0, x1, Tf) = 2 * quadgk(x -> f(x) * sin(2*m*π*x/Tf)/Tf, x0,x1, abstol=1e-8 * sqrt(quadgk(x->abs2(f(x)),x0,x1)[1]))[1]\n",
    "coscoef(f, m, x0, x1, Tf) = 2 * quadgk(x -> f(x) * cos(2*m*π*x/Tf)/Tf, x0,x1, abstol=1e-8 * sqrt(quadgk(x->abs2(f(x)),x0,x1)[1]))[1]\n",
    "\n",
    "# i druga funkcija koja računa na vektoru prirodnih brojeva\n",
    "sinecoef(f, M::AbstractVector,x0,x1,Tf) = Float64[sinecoef(f,m,x0,x1,Tf) for m in M]\n",
    "coscoef(f, M::AbstractVector,x0,x1,Tf) = Float64[coscoef(f,m,x0,x1,Tf) for m in M]"
   ]
  },
  {
   "cell_type": "code",
   "execution_count": 10,
   "metadata": {
    "collapsed": false
   },
   "outputs": [
    {
     "data": {
      "text/plain": [
       "fouriersum (generic function with 2 methods)"
      ]
     },
     "execution_count": 10,
     "metadata": {},
     "output_type": "execute_result"
    }
   ],
   "source": [
    "# First, define a function to evaluate N terms of the sine series, given the coefficients b\n",
    "function fouriersum(a, b, x, T)\n",
    "    f = a[1]/2\n",
    "    for n = 1:length(b)\n",
    "        f += a[n+1]* cos(2*n*π*x/T) + b[n] * sin(2*n*π*x/T)\n",
    "    end\n",
    "    return f\n",
    "end\n",
    "fouriersum(a, b, X::AbstractVector, T) = Float64[fouriersum(a, b,x,T) for x in X]"
   ]
  },
  {
   "cell_type": "code",
   "execution_count": 11,
   "metadata": {
    "collapsed": false
   },
   "outputs": [
    {
     "data": {
      "text/html": [],
      "text/plain": [
       "Interact.Options{:SelectionSlider,Int64}(Signal{Int64}(50, nactions=1),\"n\",50,\"50\",Interact.OptionDict(DataStructures.OrderedDict(\"1\"=>1,\"2\"=>2,\"3\"=>3,\"4\"=>4,\"5\"=>5,\"6\"=>6,\"7\"=>7,\"8\"=>8,\"9\"=>9,\"10\"=>10…),Dict(68=>\"68\",2=>\"2\",89=>\"89\",11=>\"11\",39=>\"39\",46=>\"46\",85=>\"85\",25=>\"25\",55=>\"55\",42=>\"42\"…)),Any[],Any[],true,\"horizontal\")"
      ]
     },
     "metadata": {},
     "output_type": "display_data"
    },
    {
     "name": "stderr",
     "output_type": "stream",
     "text": [
      "\n",
      "(process:11374): GLib-CRITICAL **: g_datalist_id_dup_data: assertion 'key_id != 0' failed\n"
     ]
    },
    {
     "data": {
      "image/png": "[encoded data removed]",
      "text/plain": [
       "Winston.FramedPlot(...)"
      ]
     },
     "execution_count": 11,
     "metadata": {
      "comm_id": "06d8086a-aa5e-4d8b-94df-56aeebb0e2a8",
      "reactive": true
     },
     "output_type": "execute_result"
    }
   ],
   "source": [
    "# Uzmimo više točaka (inače \"nestane\" Gibbsov efekt!!)\n",
    "X=linspace(x0,x1,1000)\n",
    "@manipulate for n=1:1:99\n",
    "    a = coscoef(f, 0:n, x0, x1, Tf)\n",
    "    b = sinecoef(f, 1:n, x0, x1, Tf)\n",
    "    plot(f,x0,x1,\"b\",X, fouriersum(a, b, X, Tf), \"r-\")\n",
    "    title(\"Funkcija i \"*string(n)*\" članova reda\")\n",
    "end"
   ]
  },
  {
   "cell_type": "markdown",
   "metadata": {},
   "source": [
    "## Primjeri"
   ]
  },
  {
   "cell_type": "code",
   "execution_count": 12,
   "metadata": {
    "collapsed": false
   },
   "outputs": [
    {
     "name": "stderr",
     "output_type": "stream",
     "text": [
      "WARNING: Method definition f(Any) in module Main at In[4]:1 overwritten at In[12]:1.\n"
     ]
    },
    {
     "data": {
      "text/plain": [
       "1"
      ]
     },
     "execution_count": 12,
     "metadata": {},
     "output_type": "execute_result"
    }
   ],
   "source": [
    "f(x)=x^2\n",
    "x_0=-1\n",
    "x_1=1"
   ]
  },
  {
   "cell_type": "code",
   "execution_count": 13,
   "metadata": {
    "collapsed": false
   },
   "outputs": [
    {
     "data": {
      "text/latex": [
       "$$\\begin{cases} \\frac{2}{3} & \\text{for}\\: n = 0 \\\\\\frac{4 \\left(-1\\right)^{n}}{\\pi^{2} n^{2}} & \\text{otherwise} \\end{cases}$$"
      ],
      "text/plain": [
       "⎧  2/3    for n = 0\n",
       "⎪                  \n",
       "⎪      n           \n",
       "⎨4⋅(-1)            \n",
       "⎪───────  otherwise\n",
       "⎪  2  2            \n",
       "⎩ π ⋅n             "
      ]
     },
     "execution_count": 13,
     "metadata": {},
     "output_type": "execute_result"
    }
   ],
   "source": [
    "a(f,n,x_0,x_1) "
   ]
  },
  {
   "cell_type": "code",
   "execution_count": 15,
   "metadata": {
    "collapsed": false
   },
   "outputs": [
    {
     "data": {
      "text/html": [],
      "text/plain": [
       "Interact.Options{:SelectionSlider,Int64}(Signal{Int64}(5, nactions=1),\"K\",5,\"5\",Interact.OptionDict(DataStructures.OrderedDict(\"1\"=>1,\"2\"=>2,\"3\"=>3,\"4\"=>4,\"5\"=>5,\"6\"=>6,\"7\"=>7,\"8\"=>8,\"9\"=>9,\"10\"=>10…),Dict(7=>\"7\",4=>\"4\",9=>\"9\",10=>\"10\",2=>\"2\",3=>\"3\",5=>\"5\",8=>\"8\",6=>\"6\",1=>\"1\"…)),Any[],Any[],true,\"horizontal\")"
      ]
     },
     "metadata": {},
     "output_type": "display_data"
    },
    {
     "data": {
      "image/png": "[encoded data removed]",
      "text/plain": [
       "Winston.FramedPlot(...)"
      ]
     },
     "execution_count": 15,
     "metadata": {
      "comm_id": "4aa65522-b469-4018-afe3-1413515af87b",
      "reactive": true
     },
     "output_type": "execute_result"
    }
   ],
   "source": [
    "x0=N(x_0)\n",
    "x1=N(x_1)\n",
    "@manipulate for K=1:10\n",
    "    S=a(f,0,x_0,x_1)/2+sum([a(f,n,x_0,x_1)*cos(2*PI*n*x/(x_1-x_0))+b(f,n,x_0,x_1)*sin(2*PI*n*x/(x_1-x_0)) for n=1:K])\n",
    "    g(x)=S(x)\n",
    "    plot(f,x0,x1)\n",
    "    oplot(g,x0,x1,\"r\")\n",
    "    title(\"Funkcija i \"*string(K)*\" članova reda\")\n",
    "end"
   ]
  },
  {
   "cell_type": "code",
   "execution_count": 16,
   "metadata": {
    "collapsed": false
   },
   "outputs": [
    {
     "data": {
      "text/html": [],
      "text/plain": [
       "Interact.Options{:SelectionSlider,Int64}(Signal{Int64}(50, nactions=1),\"n\",50,\"50\",Interact.OptionDict(DataStructures.OrderedDict(\"1\"=>1,\"2\"=>2,\"3\"=>3,\"4\"=>4,\"5\"=>5,\"6\"=>6,\"7\"=>7,\"8\"=>8,\"9\"=>9,\"10\"=>10…),Dict(68=>\"68\",2=>\"2\",89=>\"89\",11=>\"11\",39=>\"39\",46=>\"46\",85=>\"85\",25=>\"25\",55=>\"55\",42=>\"42\"…)),Any[],Any[],true,\"horizontal\")"
      ]
     },
     "metadata": {},
     "output_type": "display_data"
    },
    {
     "name": "stderr",
     "output_type": "stream",
     "text": [
      "\n",
      "(process:11374): GLib-CRITICAL **: g_datalist_id_dup_data: assertion 'key_id != 0' failed\n"
     ]
    },
    {
     "data": {
      "image/png": "[encoded data removed]",
      "text/plain": [
       "Winston.FramedPlot(...)"
      ]
     },
     "execution_count": 16,
     "metadata": {
      "comm_id": "fd651ccf-668b-4c8f-8db0-1c8234905cfe",
      "reactive": true
     },
     "output_type": "execute_result"
    }
   ],
   "source": [
    "Tf=x1-x0\n",
    "X=linspace(x0,x1,1000)\n",
    "@manipulate for n=1:1:99\n",
    "    a = coscoef(f, 0:n, x0, x1, Tf)\n",
    "    b = sinecoef(f, 1:n, x0, x1, Tf)\n",
    "    plot(f,x0,x1,\"b\",X, fouriersum(a, b, X, Tf), \"r-\")\n",
    "    title(\"Funkcija i \"*string(n)*\" članova reda\")\n",
    "end"
   ]
  },
  {
   "cell_type": "code",
   "execution_count": 22,
   "metadata": {
    "collapsed": false
   },
   "outputs": [
    {
     "data": {
      "text/plain": [
       "1"
      ]
     },
     "execution_count": 22,
     "metadata": {},
     "output_type": "execute_result"
    }
   ],
   "source": [
    "# Funkcija zadana po djelovima\n",
    "f(x)=x+abs(x)\n",
    "x_0=-1\n",
    "x_1=1"
   ]
  },
  {
   "cell_type": "markdown",
   "metadata": {},
   "source": [
    "Na ovu funkciju, zadanu po djelovima, ne mogu se direktno primijeniti simboličke formule, već bi ih trebalo \"ručno\" prilagoditi na odgovarajuči interval. Numeričko računanje radi. Funkcija se još može zadati i kao\n",
    "```\n",
    "f(x)=sympy.Piecewise((0,x<=0), (x,x>0))\n",
    "```\n",
    "ili\n",
    "```\n",
    "f(x)=x*sympy.Heaviside(x)\n",
    "```"
   ]
  },
  {
   "cell_type": "code",
   "execution_count": 23,
   "metadata": {
    "collapsed": false
   },
   "outputs": [
    {
     "ename": "LoadError",
     "evalue": "PyError (:PyObject_Call) <type 'exceptions.AttributeError'>\nAttributeError(\"'ExprCondPair' object has no attribute 'is_polynomial'\",)\n  File \"/usr/lib/python2.7/site-packages/sympy/utilities/decorator.py\", line 35, in threaded_func\n    return func(expr, *args, **kwargs)\n  File \"/usr/lib/python2.7/site-packages/sympy/integrals/integrals.py\", line 1289, in integrate\n    risch=risch, manual=manual)\n  File \"/usr/lib/python2.7/site-packages/sympy/integrals/integrals.py\", line 555, in doit\n    conds=conds)\n  File \"/usr/lib/python2.7/site-packages/sympy/integrals/integrals.py\", line 944, in _eval_integral\n    result = manualintegrate(g, x)\n  File \"/usr/lib/python2.7/site-packages/sympy/integrals/manualintegrate.py\", line 947, in manualintegrate\n    return _manualintegrate(integral_steps(f, var))\n  File \"/usr/lib/python2.7/site-packages/sympy/integrals/manualintegrate.py\", line 805, in integral_steps\n    fallback_rule)(integral)\n  File \"/usr/lib/python2.7/site-packages/sympy/strategies/core.py\", line 86, in do_one_rl\n    result = rl(expr)\n  File \"/usr/lib/python2.7/site-packages/sympy/strategies/core.py\", line 66, in null_safe_rl\n    result = rule(expr)\n  File \"/usr/lib/python2.7/site-packages/sympy/integrals/manualintegrate.py\", line 204, in _alternatives\n    result = rule(integral)\n  File \"/usr/lib/python2.7/site-packages/sympy/strategies/core.py\", line 34, in conditioned_rl\n    return rule(expr)\n  File \"/usr/lib/python2.7/site-packages/sympy/integrals/manualintegrate.py\", line 168, in _rewriter\n    substep = integral_steps(rewritten, symbol)\n  File \"/usr/lib/python2.7/site-packages/sympy/integrals/manualintegrate.py\", line 805, in integral_steps\n    fallback_rule)(integral)\n  File \"/usr/lib/python2.7/site-packages/sympy/strategies/core.py\", line 86, in do_one_rl\n    result = rl(expr)\n  File \"/usr/lib/python2.7/site-packages/sympy/strategies/core.py\", line 66, in null_safe_rl\n    result = rule(expr)\n  File \"/usr/lib/python2.7/site-packages/sympy/strategies/core.py\", line 96, in switch_rl\n    return rl(expr)\n  File \"/usr/lib/python2.7/site-packages/sympy/integrals/manualintegrate.py\", line 300, in add_rule\n    for g in integrand.as_ordered_terms()],\n  File \"/usr/lib/python2.7/site-packages/sympy/integrals/manualintegrate.py\", line 805, in integral_steps\n    fallback_rule)(integral)\n  File \"/usr/lib/python2.7/site-packages/sympy/strategies/core.py\", line 86, in do_one_rl\n    result = rl(expr)\n  File \"/usr/lib/python2.7/site-packages/sympy/strategies/core.py\", line 66, in null_safe_rl\n    result = rule(expr)\n  File \"/usr/lib/python2.7/site-packages/sympy/integrals/manualintegrate.py\", line 204, in _alternatives\n    result = rule(integral)\n  File \"/usr/lib/python2.7/site-packages/sympy/strategies/core.py\", line 34, in conditioned_rl\n    return rule(expr)\n  File \"/usr/lib/python2.7/site-packages/sympy/integrals/manualintegrate.py\", line 400, in parts_rule\n    result = _parts_rule(v * du, symbol)\n  File \"/usr/lib/python2.7/site-packages/sympy/integrals/manualintegrate.py\", line 350, in _parts_rule\n    result = rule(integrand)\n  File \"/usr/lib/python2.7/site-packages/sympy/integrals/manualintegrate.py\", line 321, in pull_out_polys\n    polys = [arg for arg in integrand.args if arg.is_polynomial(symbol)]\n\nwhile loading In[23], in expression starting on line 1",
     "output_type": "error",
     "traceback": [
      "PyError (:PyObject_Call) <type 'exceptions.AttributeError'>\nAttributeError(\"'ExprCondPair' object has no attribute 'is_polynomial'\",)\n  File \"/usr/lib/python2.7/site-packages/sympy/utilities/decorator.py\", line 35, in threaded_func\n    return func(expr, *args, **kwargs)\n  File \"/usr/lib/python2.7/site-packages/sympy/integrals/integrals.py\", line 1289, in integrate\n    risch=risch, manual=manual)\n  File \"/usr/lib/python2.7/site-packages/sympy/integrals/integrals.py\", line 555, in doit\n    conds=conds)\n  File \"/usr/lib/python2.7/site-packages/sympy/integrals/integrals.py\", line 944, in _eval_integral\n    result = manualintegrate(g, x)\n  File \"/usr/lib/python2.7/site-packages/sympy/integrals/manualintegrate.py\", line 947, in manualintegrate\n    return _manualintegrate(integral_steps(f, var))\n  File \"/usr/lib/python2.7/site-packages/sympy/integrals/manualintegrate.py\", line 805, in integral_steps\n    fallback_rule)(integral)\n  File \"/usr/lib/python2.7/site-packages/sympy/strategies/core.py\", line 86, in do_one_rl\n    result = rl(expr)\n  File \"/usr/lib/python2.7/site-packages/sympy/strategies/core.py\", line 66, in null_safe_rl\n    result = rule(expr)\n  File \"/usr/lib/python2.7/site-packages/sympy/integrals/manualintegrate.py\", line 204, in _alternatives\n    result = rule(integral)\n  File \"/usr/lib/python2.7/site-packages/sympy/strategies/core.py\", line 34, in conditioned_rl\n    return rule(expr)\n  File \"/usr/lib/python2.7/site-packages/sympy/integrals/manualintegrate.py\", line 168, in _rewriter\n    substep = integral_steps(rewritten, symbol)\n  File \"/usr/lib/python2.7/site-packages/sympy/integrals/manualintegrate.py\", line 805, in integral_steps\n    fallback_rule)(integral)\n  File \"/usr/lib/python2.7/site-packages/sympy/strategies/core.py\", line 86, in do_one_rl\n    result = rl(expr)\n  File \"/usr/lib/python2.7/site-packages/sympy/strategies/core.py\", line 66, in null_safe_rl\n    result = rule(expr)\n  File \"/usr/lib/python2.7/site-packages/sympy/strategies/core.py\", line 96, in switch_rl\n    return rl(expr)\n  File \"/usr/lib/python2.7/site-packages/sympy/integrals/manualintegrate.py\", line 300, in add_rule\n    for g in integrand.as_ordered_terms()],\n  File \"/usr/lib/python2.7/site-packages/sympy/integrals/manualintegrate.py\", line 805, in integral_steps\n    fallback_rule)(integral)\n  File \"/usr/lib/python2.7/site-packages/sympy/strategies/core.py\", line 86, in do_one_rl\n    result = rl(expr)\n  File \"/usr/lib/python2.7/site-packages/sympy/strategies/core.py\", line 66, in null_safe_rl\n    result = rule(expr)\n  File \"/usr/lib/python2.7/site-packages/sympy/integrals/manualintegrate.py\", line 204, in _alternatives\n    result = rule(integral)\n  File \"/usr/lib/python2.7/site-packages/sympy/strategies/core.py\", line 34, in conditioned_rl\n    return rule(expr)\n  File \"/usr/lib/python2.7/site-packages/sympy/integrals/manualintegrate.py\", line 400, in parts_rule\n    result = _parts_rule(v * du, symbol)\n  File \"/usr/lib/python2.7/site-packages/sympy/integrals/manualintegrate.py\", line 350, in _parts_rule\n    result = rule(integrand)\n  File \"/usr/lib/python2.7/site-packages/sympy/integrals/manualintegrate.py\", line 321, in pull_out_polys\n    polys = [arg for arg in integrand.args if arg.is_polynomial(symbol)]\n\nwhile loading In[23], in expression starting on line 1",
      "",
      " in pyerr_check at /home/slap/.julia/v0.3/PyCall/src/exception.jl:60",
      " in pycall at /home/slap/.julia/v0.3/PyCall/src/PyCall.jl:92",
      " in fn at /home/slap/.julia/v0.3/PyCall/src/conversions.jl:188",
      " in call_sympy_fun at /home/slap/.julia/v0.3/SymPy/src/utils.jl:190",
      " in sympy_meth at /home/slap/.julia/v0.3/SymPy/src/utils.jl:192",
      " in integrate at /home/slap/.julia/v0.3/SymPy/src/SymPy.jl:148",
      " in a at ./In[3]:1"
     ]
    }
   ],
   "source": [
    "a(f,n,x_0,x_1)"
   ]
  },
  {
   "cell_type": "code",
   "execution_count": 24,
   "metadata": {
    "collapsed": false
   },
   "outputs": [
    {
     "data": {
      "text/html": [],
      "text/plain": [
       "Slider{Int64}([Input{Int64}] 49,\"n\",49,1:2:99)"
      ]
     },
     "metadata": {},
     "output_type": "display_data"
    },
    {
     "data": {
      "image/png": "[encoded data removed]",
      "text/plain": [
       "FramedPlot(...)"
      ]
     },
     "execution_count": 24,
     "metadata": {
      "comm_id": "5bc659cc-ee9a-4efd-b8a7-1eee49f77980",
      "reactive": true
     },
     "output_type": "execute_result"
    }
   ],
   "source": [
    "x0=N(x_0)\n",
    "x1=N(x_1)\n",
    "Tf=x1-x0\n",
    "X=linspace(x0,x1,1000)\n",
    "@manipulate for n=1:2:99\n",
    "    a = coscoef(f, 0:n, x0, x1, Tf)\n",
    "    b = sinecoef(f, 1:n, x0, x1, Tf)\n",
    "    plot(f,x0,x1,\"b\",X, fouriersum(a, b, X, Tf), \"r-\")\n",
    "    title(\"Funkcija i \"*string(n)*\" članova reda\")\n",
    "end"
   ]
  },
  {
   "cell_type": "code",
   "execution_count": 18,
   "metadata": {
    "collapsed": false
   },
   "outputs": [],
   "source": []
  }
 ],
 "metadata": {
  "kernelspec": {
   "display_name": "Julia 0.5.1",
   "language": "julia",
   "name": "julia-0.5"
  },
  "language_info": {
   "file_extension": ".jl",
   "mimetype": "application/julia",
   "name": "julia",
   "version": "0.5.1"
  },
  "widgets": {
   "state": {
    "1538181e-5ef3-4447-8092-bcb9e7e53ad7": {
     "views": [
      {
       "cell_index": 17
      }
     ]
    },
    "1fb9cc34-27eb-44f9-87b8-fa9e699cc348": {
     "views": [
      {
       "cell_index": 22
      }
     ]
    },
    "610dfec7-1c81-4be3-b8a2-ef20bfe4943d": {
     "views": [
      {
       "cell_index": 21
      }
     ]
    },
    "f8f92269-7a6f-4668-8eda-c5a0f7d3eb8f": {
     "views": [
      {
       "cell_index": 13
      }
     ]
    }
   },
   "version": "1.2.0"
  }
 },
 "nbformat": 4,
 "nbformat_minor": 0
}
