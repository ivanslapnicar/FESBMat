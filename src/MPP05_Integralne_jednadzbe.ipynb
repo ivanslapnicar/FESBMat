{
 "cells": [
  {
   "cell_type": "markdown",
   "metadata": {},
   "source": [
    "# Integralne jednadžbe\n",
    "\n",
    "Integralne jednadžbe su povezane s diferencijalnim jednadžbama. \n",
    "\n",
    "__Fredholm-ova jednadžba__ glasi\n",
    "\n",
    "$$\n",
    "\\int\\limits_a^b k(x,y)u(y)dy+\\alpha(x)u(x)=f(x), \\quad x\\in[a,b].\n",
    "$$\n",
    "\n",
    "a __Volterra-ina jednadžba__ glasi\n",
    "\n",
    "$$\n",
    "\\int\\limits_a^x k(x,y)u(y)dy+\\alpha(x)u(x)=f(x), \\quad x\\in[a,b].\n",
    "$$\n",
    "\n",
    "Zadatak je naći funkciju $u$ koja zadovoljava jednadžbu.\n",
    "\n",
    "Funkcija $k$ je __jezgra__. \n",
    "\n",
    "Ako je $k(x,y)=k(y,x)$, jezgra je __simetrična__. \n",
    "\n",
    "Ako je $f=0$, jednadžba je __homogena__.\n",
    "\n",
    "Ako je $\\alpha=0$, jednadžba je __prve vrste__, a inače je __druge vrste__."
   ]
  },
  {
   "cell_type": "markdown",
   "metadata": {},
   "source": [
    "Definirajmo __integralne operatore__:\n",
    "\n",
    "__Fredholm-ov__: $Ku(x)=\\int\\limits_a^bk(x,y)u(y)dy$,\n",
    "\n",
    "__Volerra-in__: $Ku(x)=\\int\\limits_a^x k(x,y)u(y)dy$.\n",
    "\n",
    "Operatori su linearni.\n",
    "\n",
    "U oba slučaja integralne jednadžbe možemo zapisati kao\n",
    "\n",
    "$$\n",
    "Ku+\\alpha u=f\n",
    "$$\n",
    "\n",
    "pa rješenje možemo tražiti i pomoću rješenje problema svojstvenih vrijednosti\n",
    "\n",
    "$$\n",
    "Ku=\\lambda u.\n",
    "$$"
   ]
  },
  {
   "cell_type": "markdown",
   "metadata": {},
   "source": [
    "__Skalarni produkt__ je\n",
    "\n",
    "$$\n",
    "(u,v)=\\int\\limits_a^b u(x)\\cdot \\overline{v(x)} dx.\n",
    "$$\n",
    "\n",
    "Skalarni produkt je linearan i vrijedi:\n",
    "\n",
    "* $(u,v)=\\overline{(v,u)}$,\n",
    "* $\\|u\\|=\\sqrt{(u,u)}=\\left(\\int\\limits_a^b \\big| u(x)\\big|^2dx\\right)^{1/2}$,\n",
    "* $(u,u)=0 \\Leftrightarrow u=0$,\n",
    "* ako je $(u,v)=0$, funkcije $u$ i $v$ su __ortogonalne__."
   ]
  },
  {
   "cell_type": "markdown",
   "metadata": {},
   "source": [
    "## Primjer - Kontrola inventara\n",
    "\n",
    "Početna količina robe je $a$. Neka je $k(t)$ postotak robe koje je neprodana u trenutku $t$ nakon nabave.\n",
    "\n",
    "Po kojoj stopi $u(t)$ treba naručivati robu ako želimo imati konstantnu zalihu?\n",
    "\n",
    "Promotrimo vremenski interval $[\\tau,\\tau+\\Delta \\tau]$. Smatramo da su vrijdnosti konstantne unutar malog intervala.\n",
    "\n",
    "Ukupna količina nabavljene robe u tom intervalu je $u(\\tau)\\Delta \\tau$.\n",
    "\n",
    "Količina koja je neprodana u trenutku $t\\in[\\tau,\\tau+\\Delta \\tau]$ je\n",
    "\n",
    "$$\n",
    "k(t-\\tau)u(\\tau)\\Delta \\tau.\n",
    "$$\n",
    "\n",
    "Dakle, ukupna količina robe neprodana u trenutku $t$ je zbroj dijela početne količine robe koji je neprodan u tenutku $t$ i neprodanaog dijela robe koja je naručena do trenutka $t$:\n",
    "\n",
    "$$\n",
    "ak(t)+\\int\\limits_0^t k(t-\\tau)u(\\tau)d\\tau.\n",
    "$$\n",
    "\n",
    "Uvjet da je inventar konstantan daje Volterra-inu jednadžbu\n",
    "\n",
    "$$\n",
    "ak(t)+\\int\\limits_0^t k(t-\\tau)u(\\tau)d\\tau=a.\n",
    "$$\n",
    "\n",
    "U ovom slučaju Laplace-ova transformacija i teorem o konvoluciji daju\n",
    "\n",
    "$$\n",
    "a\\mathcal{L}(k) +\\mathcal{L}(k) \\cdot \\mathcal{L}(u) =\\frac{a}{s}\n",
    "$$\n",
    "\n",
    "pa je \n",
    "\n",
    "$$\n",
    "\\mathcal{L}(u)=\\bigg(\\frac{a}{s}-a\\mathcal{L}(k)\\bigg) \\frac{1}{\\mathcal{L}(k)}=\n",
    "a \\bigg(\\frac{1}{s \\mathcal{L}(k)}-1\\bigg).\n",
    "$$\n",
    "\n",
    "Konačno,\n",
    "\n",
    "$$\n",
    "u(t)=a\\mathcal{L}^{-1} \\bigg(\\frac{1}{s \\mathcal{L}(k)} \\bigg) -a\\delta(t).\n",
    "$$\n",
    "\n",
    "(Koristili smo $\\mathcal{L}^{-1}(1)=\\delta(t)$.)"
   ]
  },
  {
   "cell_type": "markdown",
   "metadata": {},
   "source": [
    "## Primjer - Konvolucija\n",
    "\n",
    "Riješimo jednadžbu\n",
    "\n",
    "$$\n",
    "u(x)=x-\\int\\limits_0^x (x-y) u(y) dy.\n",
    "$$\n",
    "\n",
    "Laplace-ova transformacija jednadžbe i teorem o konvoluciji daju\n",
    "\n",
    "$$\n",
    "\\mathcal{L}(u)= \\mathcal{L}(x)-\\mathcal{L}(x)\\cdot \\mathcal{L}(u)=\n",
    "\\frac{1}{s^2}-\\frac{1}{s^2}\\mathcal{L}(u)\n",
    "$$\n",
    "\n",
    "odnosno\n",
    "\n",
    "$$\n",
    "\\mathcal{L}(u) \\bigg(1+\\frac{1}{s^2}\\bigg)=\\frac{1}{s^2}.\n",
    "$$\n",
    "\n",
    "Dakle,\n",
    "\n",
    "$$\n",
    "\\mathcal{L}(u)=\\frac{1}{s^2}\\cdot \\frac{s^2}{1+s^2}=\\frac{1}{1+s^2}\n",
    "$$\n",
    "\n",
    "pa je \n",
    "\n",
    "$$\n",
    "u(x)=\\mathcal{L}^{-1} \\bigg(\\frac{1}{1+s^2}\\bigg) =\\sin x.\n",
    "$$"
   ]
  },
  {
   "cell_type": "code",
   "execution_count": 1,
   "metadata": {
    "collapsed": true
   },
   "outputs": [],
   "source": [
    "using SymPy"
   ]
  },
  {
   "cell_type": "code",
   "execution_count": 2,
   "metadata": {
    "collapsed": false
   },
   "outputs": [
    {
     "data": {
      "text/plain": [
       "(x,y)"
      ]
     },
     "execution_count": 2,
     "metadata": {},
     "output_type": "execute_result"
    }
   ],
   "source": [
    "x,y=symbols(\"x,y\", real=true)"
   ]
  },
  {
   "cell_type": "code",
   "execution_count": 3,
   "metadata": {
    "collapsed": false
   },
   "outputs": [
    {
     "data": {
      "text/latex": [
       "$$x - \\sin{\\left (x \\right )}$$"
      ],
      "text/plain": [
       "x - sin(x)"
      ]
     },
     "execution_count": 3,
     "metadata": {},
     "output_type": "execute_result"
    }
   ],
   "source": [
    "# Provjera\n",
    "integrate((x-y)*sin(y),y,0,x)"
   ]
  },
  {
   "cell_type": "markdown",
   "metadata": {},
   "source": [
    "## Primjer - Prebacivanje DJ u IJ\n",
    "\n",
    "Promotrimo problem početnih vrijednosti\n",
    "\n",
    "$$\n",
    "u'=f(x,u), \\quad u(x_0)=u_0.\n",
    "$$\n",
    "\n",
    "Ako je $u$ rješenje tada (uz zamjenu varijabli) vrijedi\n",
    "\n",
    "$$\n",
    "u'(y)=f(y,u(y)), \\quad \\forall y.\n",
    "$$\n",
    "\n",
    "Integriranje od $x_0$ do $x$ daje\n",
    "\n",
    "$$\n",
    "\\int\\limits_{x_0}^x u'(y) dy =\\int\\limits_{x_0}^x f(y,u(y)) dy.\n",
    "$$\n",
    "\n",
    "Dakle, $u(x)$ je rješenje Volterra-ine jednadžbe\n",
    "\n",
    "$$\n",
    "u(x)=u(x_0)+\\int\\limits_{x_0}^x f(y,u(y)) dy.\n",
    "$$"
   ]
  },
  {
   "cell_type": "markdown",
   "metadata": {},
   "source": [
    "## Primjer - Prebacivanje IJ u DJ\n",
    "\n",
    "Neka je zadana integralna jednadžba\n",
    "\n",
    "$$\n",
    "u(x)=u_0+\\int\\limits_{x_0}^x f(y,u(y)) dy.\n",
    "$$\n",
    "\n",
    "Uvrštavanje $x=x_0$ daje početni uvijet $u(x_0)=u_0$.\n",
    "\n",
    "__Leibnitz-ova fomula__ glasi: ako je \n",
    "\n",
    "$$\n",
    "I(\\alpha)=\\int\\limits_{\\phi(\\alpha)}^{\\psi(\\alpha)} f(x,\\alpha) dx.\n",
    "$$\n",
    "\n",
    "onda je\n",
    "\n",
    "$$\n",
    "I'(\\alpha)=\\int\\limits_{\\phi(\\alpha)}^{\\psi(\\alpha)} f_\\alpha(x,\\alpha) dx +f(\\psi(\\alpha),\\alpha)\\frac{d\\psi}{d\\alpha}-\n",
    "f(\\phi(\\alpha),\\alpha)\\frac{d\\phi}{d\\alpha}.\n",
    "$$\n",
    "\n",
    "Primjena Leibnitz-ove formule daje\n",
    "\n",
    "$$\n",
    "u'(x)=0+\\int\\limits_{x_0}^x f_x(y,u(y)) dy +f(x,u(x))\\cdot x'+f(x_0,u(x_0))\\cdot x_0'\n",
    "= f(x,u(x)).\n",
    "$$ "
   ]
  },
  {
   "cell_type": "markdown",
   "metadata": {},
   "source": [
    "## Primjer - Prebacivanje DJ u IJ (II)\n",
    "\n",
    "Promotrimo problem početnih vrijednosti\n",
    "\n",
    "$$\n",
    "u''+p(x)u'+q(x)u=f(x), \\quad x>a, \\quad u(a)=u_0, \\ u'(a)=u_1.\n",
    "$$\n",
    "\n",
    "(Vidi [J. Logan, Applied Mathematics, str. 233][Log06].)\n",
    "\n",
    "[Log06]: #1 \"J. Logan, 'Applied Mathematics', 3rd Edition, Wiley and Sons, New York, 2006\""
   ]
  },
  {
   "cell_type": "markdown",
   "metadata": {},
   "source": [
    "## Fredholm-ova jednadžba\n",
    "\n",
    "Promotrimo jednostavniju jednadžbu ($\\alpha(x)=\\lambda$)\n",
    "\n",
    "$$\n",
    "Ku+\\lambda u=f\n",
    "$$\n",
    "\n",
    "i to za __separabilnu jezgru__,\n",
    "\n",
    "$$\n",
    "k(x,y)=\\sum_{j=1}^{n}\\alpha_j(x)\\beta_j(y).\n",
    "$$\n",
    "\n",
    "__Teorem__: Za separabilnu jezgru $k$ vrijedi:\n",
    "\n",
    "* za $\\lambda=0$ vrijedi:\n",
    "    * ako $f$ nije linearna kombinacija od $\\alpha_i$, jednadžba nema rješenja,\n",
    "    * ako je $f$ linearna kombinacija od $\\alpha_i$, jednadžba ima beskonačno rješenja,\n",
    "* za $\\lambda\\neq 0$ izračunajmo matricu skalarnih produkata $A_{ij}=(\\beta_i,\\alpha_j)$ i njene svojstvene vrijednosti. Vrijedi:\n",
    "    * ako je $\\lambda$ svojstvena vrijednost od $A$, jednadžba ili nema rješenje ili ima beskonačno rješenja,\n",
    "    * ako $\\lambda$ nije svojstvena vrijednost od $A$, jednadžba ima jedinstveno rješenje."
   ]
  },
  {
   "cell_type": "markdown",
   "metadata": {},
   "source": [
    "### Primjer\n",
    "\n",
    "Analizirajmo zadnji slučaj teorema.\n",
    "\n",
    "Uvrštavanje jezgre u jednadžbu daje\n",
    "\n",
    "$$\n",
    "\\int\\limits_a^b \\sum_{j=1}^{n}\\alpha_j(x)\\beta_j(y) u(y)dy+\\lambda u(x)=f(x)\n",
    "$$\n",
    "\n",
    "odnosno\n",
    "\n",
    "$$\n",
    "\\sum_{j=1}^{n}\\alpha_j(x) \\int\\limits_a^b \\beta_j(y) u(y)dy +\\lambda u(x)=f(x).\n",
    "$$\n",
    "\n",
    "Uz oznake $c_j=(\\beta_j,u)$ i $c=\\begin{bmatrix} c_1 & c_2 &\\cdots & c_n\\end{bmatrix}^T$ imamo\n",
    "\n",
    "$$\n",
    "\\sum_{j=1}^{n}\\alpha_j(x) c_j+\\lambda u(x)=f(x).\n",
    "$$\n",
    "\n",
    "Pomnožimo ovu jednadžbu s $\\beta_i(x)$ i integrirajmo od $a$ do $b$:\n",
    "\n",
    "$$\n",
    "\\sum_{j=1}^{n}(\\beta_i,\\alpha_j) c_j +\\lambda c_i=(\\beta_i,f), \\quad i=1,2,\\ldots, n.\n",
    "$$\n",
    "\n",
    "Uz oznaku $F=\\begin{bmatrix} (\\beta_1,f) & (\\beta-2,f) &\\cdots & (\\beta_n,f) \\end{bmatrix}^T$, dobili smo sustav linearnih jednadžbi\n",
    "\n",
    "$$\n",
    "(A-\\lambda I)c=F.\n",
    "$$\n",
    "\n",
    "Rješenje problema je\n",
    "\n",
    "$$\n",
    "u(x)=\\frac{1}{\\lambda} \\bigg(-f(x)+\\sum_{j=1}^{n}\\alpha_j(x)c_j\\bigg).\n",
    "$$"
   ]
  },
  {
   "cell_type": "markdown",
   "metadata": {},
   "source": [
    "### Primjer\n",
    "\n",
    "Riješimo jednadžbu\n",
    "\n",
    "$$\n",
    "\\int\\limits_0^1 (1-3xy)u(y)dy-2 u(x) =e^x.\n",
    "$$\n",
    "\n",
    "Pripadni operator je\n",
    "\n",
    "$$\n",
    "Ku(x)=\\int\\limits_0^1 (1-3xy)u(y)dy.\n",
    "$$\n",
    "\n",
    "Jezgra je separabilna:\n",
    "\n",
    "$$\n",
    "k(x,y)=1-3xy=\\alpha_1(x)\\beta_1(y)+\\alpha_2(x)\\beta_2(y),\n",
    "$$\n",
    "\n",
    "gdje je \n",
    "\n",
    "$$\n",
    "\\alpha_1(x)=1,\\ \\beta_1(y)=1,\\ \\alpha_2(x)=-3x, \\ \\beta_2(y)=y.\n",
    "$$\n",
    "\n",
    "Matrica $A$ je \n",
    "\n",
    "$$\n",
    "A=\\begin{bmatrix} \\int_0^1 1\\cdot 1 \\, dx & \\int_0^1 1\\cdot (-3x)\\, dx\\\\\n",
    "\\int_0^1 x\\cdot 1\\, dx & \\int_0^1 (-3x)\\cdot x \\,dx\n",
    "\\end{bmatrix} =\\begin{bmatrix} 1 &-\\frac{3}{2} \\\\ \n",
    "\\frac{1}{2} &  -1 \\end{bmatrix}.\n",
    "$$\n",
    "\n",
    "Svojstvene vrijednosti matrice $A$ su rješenja jednadžbe\n",
    "\n",
    "$$\n",
    "\\det(A-\\lambda I)=0.\n",
    "$$ "
   ]
  },
  {
   "cell_type": "code",
   "execution_count": 4,
   "metadata": {
    "collapsed": false
   },
   "outputs": [
    {
     "data": {
      "text/plain": [
       "2×2 Array{Rational{Int64},2}:\n",
       " 1//1  -3//2\n",
       " 1//2  -1//1"
      ]
     },
     "execution_count": 4,
     "metadata": {},
     "output_type": "execute_result"
    }
   ],
   "source": [
    "A=[1//1 -3//2; 1//2 -1]"
   ]
  },
  {
   "cell_type": "code",
   "execution_count": 5,
   "metadata": {
    "collapsed": false
   },
   "outputs": [
    {
     "data": {
      "text/latex": [
       "$$x^{2} - \\frac{1}{4}$$"
      ],
      "text/plain": [
       " 2   1\n",
       "x  - ─\n",
       "     4"
      ]
     },
     "execution_count": 5,
     "metadata": {},
     "output_type": "execute_result"
    }
   ],
   "source": [
    "simplify(det(A-x*I))"
   ]
  },
  {
   "cell_type": "markdown",
   "metadata": {},
   "source": [
    "Dakle, \n",
    "\n",
    "$$\n",
    "\\lambda_1=\\frac{1}{2}, \\quad \\lambda_2=-\\frac{1}{2}.\n",
    "$$\n",
    "\n",
    "Rješavanje jednadžbi \n",
    "\n",
    "$$\n",
    "A\\begin{bmatrix}x \\\\ y\\end{bmatrix}= \\lambda \\begin{bmatrix}x \\\\ y\\end{bmatrix}\n",
    "$$\n",
    "\n",
    "daje svojstvene vektore\n",
    "\n",
    "$$\n",
    "v_1=\\begin{bmatrix}3 \\\\ 1\\end{bmatrix}, \\quad\n",
    "v_2=\\begin{bmatrix}1 \\\\ 1\\end{bmatrix}\n",
    "$$\n",
    "\n",
    "pa su svojstvene funkcije operatora $K$ \n",
    "\n",
    "$$\n",
    "u_1(x)=[v_1]_1 \\alpha_1(x)+[v_1]_2\\alpha_2(x)= 3(1-x), \\\\\n",
    "u_1(x)=[v_2]_1 \\alpha_1(x)+[v_2]_2\\alpha_2(x)= 1-3x.\n",
    "$$\n",
    "\n",
    "Vrijedi $(u_1,u_2)=0$, odnosno $u_1\\perp u_2$."
   ]
  },
  {
   "cell_type": "code",
   "execution_count": 6,
   "metadata": {
    "collapsed": false
   },
   "outputs": [
    {
     "data": {
      "text/plain": [
       "(Float32[0.5,-0.5],\n",
       "Float32[0.948683 0.707107; 0.316228 0.707107])"
      ]
     },
     "execution_count": 6,
     "metadata": {},
     "output_type": "execute_result"
    }
   ],
   "source": [
    "eig(A)"
   ]
  },
  {
   "cell_type": "code",
   "execution_count": 7,
   "metadata": {
    "collapsed": false
   },
   "outputs": [
    {
     "data": {
      "text/latex": [
       "$$0$$"
      ],
      "text/plain": [
       "0"
      ]
     },
     "execution_count": 7,
     "metadata": {},
     "output_type": "execute_result"
    }
   ],
   "source": [
    "integrate((1-x)*(1-3*x),x,0,1)"
   ]
  },
  {
   "cell_type": "markdown",
   "metadata": {
    "collapsed": true
   },
   "source": [
    "U zadatku je $\\lambda=2$ različita od svojstvenih vrijednosti matrice $A$ pa je rješenje jedinstveno."
   ]
  },
  {
   "cell_type": "code",
   "execution_count": 8,
   "metadata": {
    "collapsed": false
   },
   "outputs": [
    {
     "data": {
      "text/latex": [
       "\\begin{bmatrix}-1 + e\\\\1\\end{bmatrix}"
      ],
      "text/plain": [
       "2-element Array{SymPy.Sym,1}\n",
       "⎡-1 + ℯ⎤\n",
       "⎢      ⎥\n",
       "⎣  1   ⎦"
      ]
     },
     "execution_count": 8,
     "metadata": {},
     "output_type": "execute_result"
    }
   ],
   "source": [
    "F=[integrate(e^x,x,0,1); integrate(e^x*x,x,0,1)]"
   ]
  },
  {
   "cell_type": "code",
   "execution_count": 9,
   "metadata": {
    "collapsed": false
   },
   "outputs": [
    {
     "data": {
      "text/latex": [
       "\\begin{bmatrix}- \\frac{4 e}{5} + \\frac{6}{5}\\\\- \\frac{2 e}{15} - \\frac{2}{15}\\end{bmatrix}"
      ],
      "text/plain": [
       "2-element Array{SymPy.Sym,1}\n",
       "⎡  4⋅ℯ   6 ⎤\n",
       "⎢- ─── + ─ ⎥\n",
       "⎢   5    5 ⎥\n",
       "⎢          ⎥\n",
       "⎢  2⋅ℯ   2 ⎥\n",
       "⎢- ─── - ──⎥\n",
       "⎣   15   15⎦"
      ]
     },
     "execution_count": 9,
     "metadata": {},
     "output_type": "execute_result"
    }
   ],
   "source": [
    "c=(A-2*I)\\F"
   ]
  },
  {
   "cell_type": "code",
   "execution_count": 10,
   "metadata": {
    "collapsed": false
   },
   "outputs": [
    {
     "data": {
      "text/plain": [
       "u (generic function with 1 method)"
      ]
     },
     "execution_count": 10,
     "metadata": {},
     "output_type": "execute_result"
    }
   ],
   "source": [
    "# Rješenje\n",
    "u(x)=1/2*(-exp(x)+1*c[1]+(-3*x)*c[2])"
   ]
  },
  {
   "cell_type": "code",
   "execution_count": 11,
   "metadata": {
    "collapsed": false
   },
   "outputs": [
    {
     "data": {
      "text/latex": [
       "$$- 1.5 y \\left(- \\frac{2 e}{15} - \\frac{2}{15}\\right) - 0.5 e^{y} - 0.4 e + 0.6$$"
      ],
      "text/plain": [
       "        ⎛  2⋅ℯ   2 ⎞        y              \n",
       "- 1.5⋅y⋅⎜- ─── - ──⎟ - 0.5⋅ℯ  - 0.4⋅ℯ + 0.6\n",
       "        ⎝   15   15⎠                       "
      ]
     },
     "execution_count": 11,
     "metadata": {},
     "output_type": "execute_result"
    }
   ],
   "source": [
    "u(y)"
   ]
  },
  {
   "cell_type": "code",
   "execution_count": 12,
   "metadata": {
    "collapsed": false
   },
   "outputs": [
    {
     "data": {
      "text/latex": [
       "$$3.0 x \\left(- \\frac{2 e}{15} - \\frac{2}{15}\\right) + 0.4 x + 0.4 e x + 1.0 e^{x}$$"
      ],
      "text/plain": [
       "      ⎛  2⋅ℯ   2 ⎞                          x\n",
       "3.0⋅x⋅⎜- ─── - ──⎟ + 0.4⋅x + 0.4⋅ℯ⋅x + 1.0⋅ℯ \n",
       "      ⎝   15   15⎠                           "
      ]
     },
     "execution_count": 12,
     "metadata": {},
     "output_type": "execute_result"
    }
   ],
   "source": [
    "# Provjera - mora biti exp(x)\n",
    "ex=integrate((1-3*x*y)*u(y),y,0,1)-2*u(x)"
   ]
  },
  {
   "cell_type": "code",
   "execution_count": 13,
   "metadata": {
    "collapsed": false
   },
   "outputs": [
    {
     "data": {
      "text/latex": [
       "$$- 5.55111512312578 \\cdot 10^{-17} e x - 1.11022302462516 \\cdot 10^{-16} x + 1.0 e^{x}$$"
      ],
      "text/plain": [
       "                                                          x\n",
       "-5.55111512312578e-17⋅ℯ⋅x - 1.11022302462516e-16⋅x + 1.0⋅ℯ "
      ]
     },
     "execution_count": 13,
     "metadata": {},
     "output_type": "execute_result"
    }
   ],
   "source": [
    "# !!!!!!!!!!!!!\n",
    "simplify(ex)"
   ]
  },
  {
   "cell_type": "code",
   "execution_count": null,
   "metadata": {
    "collapsed": true
   },
   "outputs": [],
   "source": []
  }
 ],
 "metadata": {
  "anaconda-cloud": {},
  "kernelspec": {
   "display_name": "Julia 0.5.0",
   "language": "julia",
   "name": "julia-0.5"
  },
  "language_info": {
   "file_extension": ".jl",
   "mimetype": "application/julia",
   "name": "julia",
   "version": "0.5.0"
  }
 },
 "nbformat": 4,
 "nbformat_minor": 1
}
