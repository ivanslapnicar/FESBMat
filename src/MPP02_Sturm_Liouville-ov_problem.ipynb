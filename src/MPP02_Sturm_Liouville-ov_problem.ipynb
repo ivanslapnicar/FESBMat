{
 "cells": [
  {
   "cell_type": "markdown",
   "metadata": {},
   "source": [
    "# Sturm-Liouville-ov problem\n",
    "\n",
    "---\n",
    "\n",
    "## Matrični problem svojstvenih vrijednosti\n",
    "\n",
    "Neka je $A\\in\\mathbb{R}^{n\\times n}$ kvadratna realna matrica. \n",
    "\n",
    "Tražimo __svojstvene vrijednosti__  $\\lambda\\in\\mathbb{R}$ i __svojstvene vektore__ $x\\in\\mathbb{R}^{n}\\neq 0$,\n",
    "takve da je \n",
    "$$Ax=\\lambda x.$$\n",
    "\n",
    "> Dakle, $A$ djeluje na vektor $x$ tako da ge produži ili skrati, eventualno promijeni orijentaciju, dok smjer ostaje isti. \n",
    "\n",
    "Vrijedi \n",
    "$$ Ax-\\lambda I x=(A-\\lambda I)x=0.$$\n",
    "\n",
    "Ovo je homogeni sustav linearnih jednadžbi koji ima netrivijalna rješenja ($x\\neq 0$) ako i samo ako je \n",
    "matrica sustava $(A-\\lambda I)$ singularna, odnosno ako i samo ako je \n",
    "$$\n",
    "\\det(A-\\lambda I)=0.\n",
    "$$\n",
    "\n",
    "Ovo je polinom stupnja $n$ u varijabli $\\lambda$ s realnim koeficijentima, koji, po osnovnom teoremu algebre, ima \n",
    "$n$ nultočaka koje su ili realne ili dolaze u konjugirano kompleksnim parovima. \n",
    "\n",
    "> Svojstveni vektori koji odgovaraju različitim svojstvenim vrijednostima su linearno nezavisni.\n",
    "\n",
    "Zaista, neka je \n",
    "$$Ax=\\lambda x, \\quad Ay=\\mu y, \\quad x,y\\neq 0, \\quad \\lambda\\neq\\mu.\n",
    "$$\n",
    "Pretpostavimo da su $x$ i $x$ linearno zavisni, odnosno, \n",
    "$$\n",
    "\\alpha x+\\beta y, \\quad |\\alpha|+|\\beta|>0.\n",
    "$$\n",
    "Vrijedi\n",
    "$$\n",
    "A\\cdot (\\alpha x+\\beta y)=\\alpha\\lambda x+\\beta\\mu y=A\\cdot 0=0.\n",
    "$$\n",
    "Pomnožimo prvu jednakost s $\\lambda$, što daje sustav\n",
    "\\begin{align*}\n",
    "\\lambda\\alpha x+\\lambda\\beta y&=0 \\\\\n",
    "\\alpha\\lambda x+\\beta\\mu y&=0.\n",
    "\\end{align*}\n",
    "Oduzmimo prvu jednadžbu od druge,\n",
    "$$\n",
    "\\beta(\\mu-\\lambda)y=0,\n",
    "$$\n",
    "pa je, zbog $\\mu-\\lambda\\neq 0$ i $y\\neq 0$, nužno $\\beta=0$. \n",
    "Uvrštavanjem u originalnu lineranu kombinaciju, zbog $x\\neq 0$ slijedi $\\alpha=0$ pa su $x$ i $y$ lineatno\n",
    "nezavisni.\n",
    "\n",
    "> (Bez dokaza). Ako je $A$ simetrična matrica, $A=A^T$, tada su sve svojstvene vrijednosti realne i imaju ortogonalni skup svojstvenih vektora, osnosno postoji matrica $U$ takva da je $U^TU=UU^T=I$ i \n",
    "$$\n",
    "A=U\\Lambda U^T, \\quad AU=U\\Lambda, \\quad A=\\sum_{i=1}^n \\lambda_i u_i u_i^T.\n",
    "$$\n",
    "\n"
   ]
  },
  {
   "cell_type": "code",
   "execution_count": 2,
   "metadata": {
    "collapsed": false
   },
   "outputs": [
    {
     "data": {
      "text/plain": [
       "6x6 Symmetric{Int64,Array{Int64,2}}:\n",
       " -3  -2  -8  -3  -2  3\n",
       " -2   7   3   0   6  8\n",
       " -8   3   5  -4  -5  4\n",
       " -3   0  -4  -5   2  0\n",
       " -2   6  -5   2   3  4\n",
       "  3   8   4   0   4  6"
      ]
     },
     "execution_count": 2,
     "metadata": {},
     "output_type": "execute_result"
    }
   ],
   "source": [
    "# Primjer\n",
    "A=Symmetric(rand(-8:8,6,6))"
   ]
  },
  {
   "cell_type": "code",
   "execution_count": 8,
   "metadata": {
    "collapsed": false
   },
   "outputs": [
    {
     "data": {
      "text/plain": [
       "([-13.164525540508201,-5.073409414447497,-2.802270089179899,3.6506208479135687,11.802696862925526,18.5868873332965],\n",
       "6x6 Array{Float64,2}:\n",
       " -0.655655   -0.113624   0.22759   -0.624061   -0.322855    0.108267  \n",
       " -0.0246638   0.199129   0.691148   0.159819   -0.0671572  -0.672311  \n",
       " -0.504833   -0.175144  -0.158096   0.0524439   0.786198   -0.261948  \n",
       " -0.429081    0.770267  -0.320931   0.290706   -0.187264    0.00177076\n",
       " -0.241527   -0.548997  -0.327468   0.426189   -0.485158   -0.340612  \n",
       "  0.268711    0.148501  -0.485068  -0.562235   -0.0519864  -0.592992  )"
      ]
     },
     "execution_count": 8,
     "metadata": {},
     "output_type": "execute_result"
    }
   ],
   "source": [
    "λ,U=eig(A)"
   ]
  },
  {
   "cell_type": "code",
   "execution_count": 11,
   "metadata": {
    "collapsed": false
   },
   "outputs": [
    {
     "data": {
      "text/plain": [
       "(\n",
       "6x6 Array{Float64,2}:\n",
       "  1.0           6.93889e-16  -1.38778e-16  …  -1.17961e-16   1.94289e-16\n",
       "  6.93889e-16   1.0           2.16493e-15      1.26635e-16   1.38778e-16\n",
       " -1.38778e-16   2.16493e-15   1.0             -1.8735e-16    5.55112e-17\n",
       " -3.60822e-16  -2.77556e-16  -1.66533e-16     -1.04083e-16  -1.66533e-16\n",
       " -1.17961e-16   1.26635e-16  -1.8735e-16       1.0           1.14492e-16\n",
       "  1.94289e-16   1.38778e-16   5.55112e-17  …   1.14492e-16   1.0        ,\n",
       "\n",
       "6x6 Array{Float64,2}:\n",
       "  1.0           2.77556e-17  -3.46945e-16  …  -1.31839e-16   1.66533e-16\n",
       "  2.77556e-17   1.0          -3.33067e-16     -6.38378e-16   1.11022e-16\n",
       " -3.46945e-16  -3.33067e-16   1.0              4.85723e-16   5.55112e-17\n",
       " -8.27517e-17   1.10177e-15  -4.0083e-16      -1.37911e-16  -8.12935e-16\n",
       " -1.31839e-16  -6.38378e-16   4.85723e-16      1.0           2.22045e-16\n",
       "  1.66533e-16   1.11022e-16   5.55112e-17  …   2.22045e-16   1.0        ,\n",
       "\n",
       "6x6 Array{Float64,2}:\n",
       " -3.0  -2.0          -8.0  -3.0          -2.0  3.0       \n",
       " -2.0   7.0           3.0  -9.80813e-15   6.0  8.0       \n",
       " -8.0   3.0           5.0  -4.0          -5.0  4.0       \n",
       " -3.0  -9.70057e-15  -4.0  -5.0           2.0  2.1233e-15\n",
       " -2.0   6.0          -5.0   2.0           3.0  4.0       \n",
       "  3.0   8.0           4.0   2.01575e-15   4.0  6.0       ,\n",
       "\n",
       "6x6 Array{Float64,2}:\n",
       " -3.0  -2.0          -8.0  -3.0          -2.0  3.0       \n",
       " -2.0   7.0           3.0  -9.80813e-15   6.0  8.0       \n",
       " -8.0   3.0           5.0  -4.0          -5.0  4.0       \n",
       " -3.0  -9.70057e-15  -4.0  -5.0           2.0  2.1233e-15\n",
       " -2.0   6.0          -5.0   2.0           3.0  4.0       \n",
       "  3.0   8.0           4.0   2.01575e-15   4.0  6.0       )"
      ]
     },
     "execution_count": 11,
     "metadata": {},
     "output_type": "execute_result"
    }
   ],
   "source": [
    "U'*U, U*U', U*diagm(λ)*U', sum([λ[i]*U[:,i]*U[:,i]' for i=1:size(A,1)])"
   ]
  },
  {
   "cell_type": "markdown",
   "metadata": {},
   "source": [
    "### Rješavanje algebarskih problema pomoću svojstvenih vrijednosti i vektora\n",
    "\n",
    "Riješimo problem \n",
    "$$\n",
    "Ax=\\mu x + f.\n",
    "$$\n",
    "Neka je $A$ simetrična, $A=U\\Lambda U^T$ i $\\mu\\neq \\lambda_i$. Stupci matrice $U$ su orthgonalni i tvore bazu $n$-dimenzionalnog prostora, odnosno svaki vektor se može prikazati kao njihova linearna kombinacija:\n",
    "$$\n",
    "x=\\sum_{i=1}^n c_i u_i, \\quad  f=\\sum_{i=1}^n f_i u_i.\n",
    "$$\n",
    "Imamo\n",
    "$$\n",
    "A\\cdot (\\sum c_i u_i)=\\mu (\\sum c_i u_i) + \\sum f_i u_i,\n",
    "$$\n",
    "osnosno\n",
    "$$\n",
    "\\sum c_i \\lambda_i u_i=\\mu (\\sum c_i u_i) + \\sum f_i u_i.\n",
    "$$\n",
    "Izjednačavanje koeficijenata daje \n",
    "$$\n",
    "c_i\\lambda_i= \\mu c_i + f_i\n",
    "$$\n",
    "pa je \n",
    "$$\n",
    "c_i=\\frac{f_i}{\\lambda_i-\\mu}.\n",
    "$$"
   ]
  },
  {
   "cell_type": "markdown",
   "metadata": {},
   "source": [
    "### Matrica je linearni operator na skupu vektora\n",
    "\n",
    "Uz definiciju\n",
    "$$\n",
    "A(x)\\equiv A\\cdot x,\n",
    "$$\n",
    "vrijedi\n",
    "$$\n",
    "A(x+y)=A(x)+A(y),\\quad A(\\alpha x)=\\alpha A(x), \n",
    "$$\n",
    "odnosno\n",
    "$$\n",
    "A(\\alpha x+\\beta y)=\\alpha A(x)+\\beta A(y).\n",
    "$$"
   ]
  },
  {
   "cell_type": "markdown",
   "metadata": {},
   "source": [
    "## Diferencijalni problem svojstvenih vrijednosti"
   ]
  },
  {
   "cell_type": "code",
   "execution_count": null,
   "metadata": {
    "collapsed": true
   },
   "outputs": [],
   "source": []
  }
 ],
 "metadata": {
  "kernelspec": {
   "display_name": "Julia 0.4.5",
   "language": "julia",
   "name": "julia-0.4"
  },
  "language_info": {
   "file_extension": ".jl",
   "mimetype": "application/julia",
   "name": "julia",
   "version": "0.4.5"
  }
 },
 "nbformat": 4,
 "nbformat_minor": 0
}
