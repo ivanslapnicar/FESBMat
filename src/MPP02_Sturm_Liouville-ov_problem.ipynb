{
 "cells": [
  {
   "cell_type": "markdown",
   "metadata": {},
   "source": [
    "# Sturm-Liouville-ov problem\n",
    "\n",
    "---\n",
    "\n",
    "## Matrični problem svojstvenih vrijednosti\n",
    "\n",
    "Neka je $A\\in\\mathbb{R}^{n\\times n}$ kvadratna realna matrica. \n",
    "\n",
    "Tražimo __svojstvene vrijednosti__  $\\lambda\\in\\mathbb{R}$ i __svojstvene vektore__ $x\\in\\mathbb{R}^{n}\\neq 0$,\n",
    "takve da je \n",
    "$$Ax=\\lambda x.$$\n",
    "\n",
    "> Dakle, $A$ djeluje na vektor $x$ tako da ge produži ili skrati, eventualno promijeni orijentaciju, dok smjer ostaje isti. \n",
    "\n",
    "Vrijedi \n",
    "$$ Ax-\\lambda I x=(A-\\lambda I)x=0.$$\n",
    "\n",
    "Ovo je homogeni sustav linearnih jednadžbi koji ima netrivijalna rješenja ($x\\neq 0$) ako i samo ako je \n",
    "matrica sustava $(A-\\lambda I)$ singularna, odnosno ako i samo ako je \n",
    "$$\n",
    "\\det(A-\\lambda I)=0.\n",
    "$$\n",
    "\n",
    "Ovo je polinom stupnja $n$ u varijabli $\\lambda$ s realnim koeficijentima, koji, po osnovnom teoremu algebre, ima \n",
    "$n$ nultočaka koje su ili realne ili dolaze u konjugirano kompleksnim parovima. \n",
    "\n",
    "> Svojstveni vektori koji odgovaraju različitim svojstvenim vrijednostima su linearno nezavisni.\n",
    "\n",
    "Zaista, neka je \n",
    "$$Ax=\\lambda x, \\quad Ay=\\mu y, \\quad x,y\\neq 0, \\quad \\lambda\\neq\\mu.\n",
    "$$\n",
    "Pretpostavimo da su $x$ i $x$ linearno zavisni, odnosno, \n",
    "$$\n",
    "\\alpha x+\\beta y, \\quad |\\alpha|+|\\beta|>0.\n",
    "$$\n",
    "Vrijedi\n",
    "$$\n",
    "A\\cdot (\\alpha x+\\beta y)=\\alpha\\lambda x+\\beta\\mu y=A\\cdot 0=0.\n",
    "$$\n",
    "Pomnožimo prvu jednakost s $\\lambda$, što daje sustav\n",
    "\\begin{align*}\n",
    "\\lambda\\alpha x+\\lambda\\beta y&=0 \\\\\n",
    "\\alpha\\lambda x+\\beta\\mu y&=0.\n",
    "\\end{align*}\n",
    "Oduzmimo prvu jednadžbu od druge,\n",
    "$$\n",
    "\\beta(\\mu-\\lambda)y=0,\n",
    "$$\n",
    "pa je, zbog $\\mu-\\lambda\\neq 0$ i $y\\neq 0$, nužno $\\beta=0$. \n",
    "Uvrštavanjem u originalnu lineranu kombinaciju, zbog $x\\neq 0$ slijedi $\\alpha=0$ pa su $x$ i $y$ lineatno\n",
    "nezavisni.\n",
    "\n",
    "> (Bez dokaza). Ako je $A$ simetrična matrica, $A=A^T$, tada su sve svojstvene vrijednosti realne i imaju ortogonalni skup svojstvenih vektora, osnosno postoji matrica $U$ takva da je $U^TU=UU^T=I$ i \n",
    "$$\n",
    "A=U\\Lambda U^T, \\quad AU=U\\Lambda, \\quad A=\\sum_{i=1}^n \\lambda_i u_i u_i^T.\n",
    "$$\n",
    "\n"
   ]
  },
  {
   "cell_type": "code",
   "execution_count": 1,
   "metadata": {
    "collapsed": false
   },
   "outputs": [
    {
     "data": {
      "text/plain": [
       "6×6 Symmetric{Int64,Array{Int64,2}}:\n",
       " -6  -1   6   4  0   5\n",
       " -1  -6  -7   3  7   5\n",
       "  6  -7  -8   4  0  -3\n",
       "  4   3   4  -6  8  -4\n",
       "  0   7   0   8  1   0\n",
       "  5   5  -3  -4  0  -8"
      ]
     },
     "execution_count": 1,
     "metadata": {},
     "output_type": "execute_result"
    }
   ],
   "source": [
    "# Primjer\n",
    "A=Symmetric(rand(-8:8,6,6))"
   ]
  },
  {
   "cell_type": "code",
   "execution_count": 2,
   "metadata": {
    "collapsed": false
   },
   "outputs": [
    {
     "data": {
      "text/plain": [
       "([-17.9987,-16.9564,-11.4493,-1.34266,4.73711,10.0099],\n",
       "[-0.441014 -0.393865 … 0.408823 -0.0814761; -0.403473 0.490493 … -0.437758 -0.454469; … ; -0.0656552 -0.147069 … 0.0455747 -0.757068; 0.614817 0.150276 … -0.286139 -0.0574028])"
      ]
     },
     "execution_count": 2,
     "metadata": {},
     "output_type": "execute_result"
    }
   ],
   "source": [
    "λ,U=eig(A)"
   ]
  },
  {
   "cell_type": "code",
   "execution_count": 3,
   "metadata": {
    "collapsed": false
   },
   "outputs": [
    {
     "data": {
      "text/plain": [
       "(\n",
       "[1.0 2.77556e-17 … -2.22045e-16 -3.53884e-16; 2.77556e-17 1.0 … -2.42861e-16 5.20417e-16; … ; -2.22045e-16 -2.42861e-16 … 1.0 -1.1241e-15; -3.53884e-16 5.20417e-16 … -1.1241e-15 1.0],\n",
       "\n",
       "[1.0 2.08167e-17 … 5.55112e-16 -3.64292e-17; 2.08167e-17 1.0 … -8.32667e-16 -9.71445e-17; … ; 5.55112e-16 -8.32667e-16 … 1.0 -1.94289e-16; -3.64292e-17 -9.71445e-17 … -1.94289e-16 1.0],\n",
       "\n",
       "[-6.0 -1.0 … -8.88178e-16 5.0; -1.0 -6.0 … 7.0 5.0; … ; -1.11022e-15 7.0 … 1.0 4.996e-16; 5.0 5.0 … 4.996e-16 -8.0],\n",
       "\n",
       "[-6.0 -1.0 … -8.88178e-16 5.0; -1.0 -6.0 … 7.0 5.0; … ; -1.11022e-15 7.0 … 1.0 4.996e-16; 5.0 5.0 … 4.996e-16 -8.0])"
      ]
     },
     "execution_count": 3,
     "metadata": {},
     "output_type": "execute_result"
    }
   ],
   "source": [
    "U'*U, U*U', U*diagm(λ)*U', sum([λ[i]*U[:,i]*U[:,i]' for i=1:size(A,1)])"
   ]
  },
  {
   "cell_type": "markdown",
   "metadata": {},
   "source": [
    "### Rješavanje algebarskih problema pomoću svojstvenih vrijednosti i vektora\n",
    "\n",
    "Riješimo problem (prema [Logan, Applied Mathematics, str. 205][Log97])\n",
    "$$\n",
    "Ax=\\mu x + f.\n",
    "$$\n",
    "Neka je $A$ simetrična, $A=U\\Lambda U^T$ i $\\mu\\neq \\lambda_i$. Stupci matrice $U$ su ortogonalni i tvore bazu $n$-dimenzionalnog prostora, odnosno svaki vektor se može prikazati kao njihova linearna kombinacija:\n",
    "$$\n",
    "x=\\sum_{i=1}^n c_i u_i, \\quad  f=\\sum_{i=1}^n f_i u_i.\n",
    "$$\n",
    "Imamo\n",
    "$$\n",
    "A\\cdot (\\sum c_i u_i)=\\mu (\\sum c_i u_i) + \\sum f_i u_i,\n",
    "$$\n",
    "osnosno\n",
    "$$\n",
    "\\sum c_i \\lambda_i u_i=\\mu (\\sum c_i u_i) + \\sum f_i u_i.\n",
    "$$\n",
    "Izjednačavanje koeficijenata daje \n",
    "$$\n",
    "c_i\\lambda_i= \\mu c_i + f_i\n",
    "$$\n",
    "pa je \n",
    "$$\n",
    "c_i=\\frac{f_i}{\\lambda_i-\\mu}.\n",
    "$$\n",
    "\n",
    "[Log97]: http://aaa \"J. David Logan, 'Applied Mathematics', 2nd Edition, Wiley, New York, 1997\""
   ]
  },
  {
   "cell_type": "markdown",
   "metadata": {},
   "source": [
    "### Matrica je linearni operator na skupu vektora\n",
    "\n",
    "Uz definiciju\n",
    "$$\n",
    "A(x)\\equiv A\\cdot x,\n",
    "$$\n",
    "vrijedi\n",
    "$$\n",
    "A(x+y)=A(x)+A(y),\\quad A(\\alpha x)=\\alpha A(x), \n",
    "$$\n",
    "odnosno\n",
    "$$\n",
    "A(\\alpha x+\\beta y)=\\alpha A(x)+\\beta A(y).\n",
    "$$"
   ]
  },
  {
   "cell_type": "markdown",
   "metadata": {},
   "source": [
    "## Skalarni produkt, norma, ortogonalnost i baza\n",
    "\n",
    "Neka su zadani vektori $x,y\\in \\mathbb{R}^n$. Definiramo sljedeće:\n",
    "\n",
    "__Skalarni produkt__: $(x,y)=x\\cdot y=\\displaystyle\\sum_{i=1}^n x_i y_i$\n",
    "\n",
    "__Norma__: $\\|x \\|=\\sqrt{(x,x)}=\\sqrt{\\displaystyle\\sum_{i=1}^n x_i x_i}=\\sqrt{\\displaystyle\\sum_{i=1}^n x_i^2}$\n",
    "\n",
    "__Ortogonalnost__: $x\\perp y \\Leftrightarrow (x,y)=0$\n",
    "\n",
    "__Baza__: Skup od $n$ vektora, $x_1,x_2,\\ldots, x_n$ je __potpun__ (baza) ako za svaki vektor $y$ vrijedi\n",
    "$$\n",
    "y=\\displaystyle\\sum_{i=1}^n \\xi_i x_i.\n",
    "$$\n",
    "Ukoliko su, dodatno, vektori $x_i$ međusobno ortogonalni, tada je \n",
    "$$\n",
    "\\xi_j=\\frac{(y,x_j)}{(x_j,x_j)}\\equiv \\frac{(y,x_j)}{\\|x_j\\|^2}.\n",
    "$$\n",
    "\n",
    "---\n",
    "\n",
    "Neka su zadane funkcije $f,g\\in C[a,b]$ (skup svih funkcija neprekidnih na intervalu $[a,b]$) [^1]\n",
    "\n",
    "(skup svih kvadratno integrabilnih funkcija funkcija na intervalu $[a,b]$)\n",
    "\n",
    "Poopćenja prethodnih definicija su sljedeća:\n",
    "\n",
    "__Skalarni produkt__: $(f,g)=f\\cdot g=\\displaystyle\\int\\limits_{a}^b f(x) g(x) \\, dx$\n",
    "\n",
    "__Norma__: $\\|f \\|=\\sqrt{(f,f)}=\\sqrt{\\displaystyle\\int_\\limits{a}^b f(x)\\cdot f(x)\\, dx}=\n",
    "\\sqrt{\\displaystyle\\int_\\limits{a}^b f^2(x)\\, dx}$\n",
    "\n",
    "__Ortogonalnost__: $f\\perp g \\Leftrightarrow (f,g)=0$\n",
    "\n",
    "__Baza__: Skup od $\\infty$ funkcija, $f_1,f_2,\\ldots$ je __potpun__ (baza) ako za svaku funkciju $g$ vrijedi\n",
    "$$\n",
    "g(x)=\\displaystyle\\sum_{i=1}^\\infty \\xi_i f_i(x).\n",
    "$$\n",
    "Ukoliko su, dodatno, funkcije $f_i$ međusobno ortogonalne, tada je \n",
    "$$\n",
    "\\xi_j=\\frac{(y,f_j)}{(f_j,f_j)}\\equiv \\frac{(y,f_j)}{\\|f_j\\|^2}.\n",
    "$$\n",
    "\n",
    "[^1]: #1 \"Može se uzeti i skup svih kvadratno integrabilnih funkcija na intervalu $[a,b]$, $L^2[a,b]$.\""
   ]
  },
  {
   "cell_type": "code",
   "execution_count": 4,
   "metadata": {
    "collapsed": false
   },
   "outputs": [
    {
     "data": {
      "text/plain": [
       "(-5.551115123125783e-17,0.9999999999999999)"
      ]
     },
     "execution_count": 4,
     "metadata": {},
     "output_type": "execute_result"
    }
   ],
   "source": [
    "# Primjer za vektore - ortogonalnost i norma\n",
    "U[:,1]⋅U[:,3], U[:,3]⋅U[:,3]"
   ]
  },
  {
   "cell_type": "code",
   "execution_count": 5,
   "metadata": {
    "collapsed": false
   },
   "outputs": [
    {
     "data": {
      "text/plain": [
       "6×2 Array{Float64,2}:\n",
       " 0.161679  0.161679\n",
       " 0.944866  0.944866\n",
       " 0.185028  0.185028\n",
       " 0.69148   0.69148 \n",
       " 0.90144   0.90144 \n",
       " 0.459669  0.459669"
      ]
     },
     "execution_count": 5,
     "metadata": {},
     "output_type": "execute_result"
    }
   ],
   "source": [
    "# Baza\n",
    "n=size(A,1)\n",
    "x=rand(n)\n",
    "# Računamo koeficijente po bazi stupaca od U\n",
    "ξ=Array(Float64,n)\n",
    "for i=1:n\n",
    "    ξ[i]=x⋅U[:,i]\n",
    "end\n",
    "# Provjera\n",
    "y=sum([ξ[i]*U[:,i] for i=1:n])\n",
    "[x y]"
   ]
  },
  {
   "cell_type": "markdown",
   "metadata": {},
   "source": [
    "### Primjer - Fourierov red\n",
    "\n",
    "Promotrimo periodične funkcije zadane na intervalu $[-\\pi,\\pi]$.\n",
    "\n",
    "Funkcije \n",
    "\n",
    "$$\n",
    "1, \\sin x, \\cos x, \\sin(2x), \\cos(2x), \\sin(3x),\\cos(3x), \\ldots\n",
    "$$\n",
    "\n",
    "su međusobno ortogonalne, $\\|1\\|=\\sqrt{2\\pi}$, norma svih ostalih funkcija je $\\sqrt{\\pi}$, a skup je potpun, odnosno svaka periodična funkcija $f$ se može prikazati kao \n",
    "\n",
    "$$\n",
    "f(x)=\\sum_{i=0}^\\infty \\xi_i f_i(x), \\quad \\xi_i=\\frac{(f,f_i)}{(f_i,f_i)},\n",
    "$$\n",
    "\n",
    "u smislu teorema o konvergenciji Fourierovog reda. \n",
    "Ovo su standardne formule za razvoj funkcije u Fourierov red.\n"
   ]
  },
  {
   "cell_type": "markdown",
   "metadata": {},
   "source": [
    "## Diferencijalni problem svojstvenih vrijednosti\n",
    "\n",
    "Skup $C^2[a,b]$ je skup svih fuinkcija koje na intervfalu $[a,b]$ imaju dvije neprekidne derivacije. \n",
    "\n",
    "Operator druge derivacije $A\\equiv\\displaystyle\\frac{d^2}{dx^2}$ je lineran operator. \n",
    "\n",
    "### Primjer\n",
    "\n",
    "Riješimo problem svojstvenih vrijednosti\n",
    "$$\n",
    "\\frac{d^2}{dx^2} \\Phi=\\lambda \\Phi, \\quad 0<x<l,\\quad \\Phi(0)=\\Phi(l)=0.\n",
    "$$\n",
    "\n",
    "Razlikujemo slučajeve $\\lambda=0$, $\\lambda<0$ i $\\lambda>0$.\n",
    "\n",
    "$\\lambda=0$: vrijedi $\\Phi(x)=a x+b$. Iz rubnog uvjeta $\\Phi(0)=0$ slijedi $b=0$ pa je $\\Phi(x)=ax$. Iz rubnog uvjeta $\\Phi(l)=0$ slijedi $al=0$ pa je i $a=0$. Dakle, $\\Phi(x)=0$, što ne može biti svojstvena funkcija, pa $\\lambda=0$ nije svojstvena vrijednost.\n",
    "\n",
    "$\\lambda>0$: vrijedi (vidi [Linearne diferencijalne jednadžbe drugog reda s konstantnim koeficijentima][Mat2])\n",
    "\n",
    "$$\n",
    "\\Phi(x)=a e^{\\displaystyle\\sqrt{\\lambda}x}+ b e^{-\\displaystyle\\sqrt{\\lambda}x}.\n",
    "$$\n",
    "\n",
    "Iz rubnog uvjeta $\\Phi(0)=0$ slijedi $a+b=0$ pa je $b=-a$. Iz rubnog uvjeta $\\Phi(l)=0$ slijedi \n",
    "\n",
    "$$\n",
    "a\\big(e^{\\displaystyle\\sqrt{\\lambda}l}-e^{-\\displaystyle\\sqrt{\\lambda}l}\\big)=0\n",
    "$$\n",
    "\n",
    "pa je $a=0$. Dakle, $\\Phi(x)=0$, što ne može biti svojstvena funkcija, pa niti jedna $\\lambda>0$ nije svojstvena vrijednost.\n",
    "\n",
    "$\\lambda<0$: vrijedi\n",
    "$$\n",
    "\\Phi(x)=a \\sin (\\sqrt{-\\lambda}x)+b \\cos (\\sqrt{-\\lambda}x).\n",
    "$$\n",
    "\n",
    "Iz rubnog uvjeta $\\Phi(0)=0$ slijedi $b=0$ pa je $\\Phi(x)=a\\sin(\\sqrt{-\\lambda}x)$. \n",
    "Iz rubnog uvjeta $\\Phi(l)=0$ slijedi \n",
    "\n",
    "$$\n",
    "a \\sin(\\sqrt{-\\lambda}l)=0\n",
    "$$\n",
    "\n",
    "pa je ili $a=0$, što opet ne daje svojstvenu funkciju, ili \n",
    "\n",
    "$$\n",
    "\\sqrt{-\\lambda}l=n\\pi, \\quad n\\in\\mathbb{N}.\n",
    "$$\n",
    "\n",
    "Dakle, svojstvene vrijednosti su \n",
    "\n",
    "$$\n",
    "\\lambda_n=-\\frac{n^2\\pi^2}{l^2}, \\quad n\\in\\mathbb{N},\n",
    "$$\n",
    "\n",
    "a funkcije\n",
    "\n",
    "$$\n",
    "\\Phi_n(x)=\\sin \\big(\\frac{n\\pi}{l}x\\big)\n",
    "$$\n",
    "su pripadne svojstvene funkcije. \n",
    "\n",
    "> Funkcije $\\Phi_n(x)$ su međusobno ortogonalne i čine bazu promatranog prostora.\n",
    "\n",
    "\n",
    "[Mat2]: http://lavica.fesb.unist.hr/mat2/predavanja/node96.html \"I. Slapničar, 'Matematika 2', FESB, Split, 2002.\"\n"
   ]
  },
  {
   "cell_type": "markdown",
   "metadata": {},
   "source": [
    "__Regularni Sturm-Liouvilleov problem__ (SLP) glasi\n",
    "\n",
    "\\begin{align*}\n",
    "&A(\\Phi) \\equiv -(p(x)\\Phi')'+q(x)\\Phi = \\lambda \\Phi, \\quad a\\leq x\\leq b,\\\\\n",
    "&\\alpha_1\\Phi(a)+\\alpha_2\\Phi'(a)=0, \\quad \\beta_1 \\Phi(b)+\\beta_2\\Phi'(b)=0,\n",
    "\\end{align*}\n",
    "\n",
    "gdje je $\\Phi\\in C^2[a,b]$, $p\\in C^1[a,b]$, $q\\in C^0[a,b]$.\n",
    "\n",
    "Operator $A$ je linearan (provjerite!).\n",
    "\n",
    "__Teorem__ Za regularni SLP vrijedi:\n",
    "\n",
    "1. Postoji beskonačno mnogo svojstvenih vrijednosti $\\lambda_n$, $n=1,2,3,\\ldots$ koje su sve realne\n",
    "i vrijedi $\\lim |\\lambda_n|=\\infty$.\n",
    "2. Svojstvene funkcije koje odgovaraju različitim svojstvenim vrijednostima su ortogonalne. \n",
    "3. Skup svih svojstvenih funkcija $\\Phi_1,\\Phi_2,\\Phi_3,\\ldots$ je potpun u smislu da se svaka funkcija \n",
    "$f\\in L^2[a,b]$ može razviti u red\n",
    "$$\n",
    "f(x)\\sum_{n=1}^\\infty \\xi_n \\Phi_n(x), \\quad \\xi_n=\\frac{(f,\\Phi_n)}{(\\Phi_n,\\Phi_n)}\n",
    "$$\n",
    "koji konvergira u $L^2[a,b]$. \n",
    "\n",
    "Konvergencija u $L^2[a,b]$ znači\n",
    "$$\n",
    "\\big\\|f-\\sum_{n=1}^N \\xi_n\\Phi_n\\big\\|\\equiv \\int\\limits_a^b \n",
    "\\big(f-\\sum_{n=1}^N \\xi_n\\Phi_n\\big)^2 dx \\to 0 \\quad \\textrm{kada} \\quad  N\\to\\infty.\n",
    "$$\n",
    "\n",
    "Na primjer, teorem vrijedi za regularni SLP iz prethodnog primjera, gdje je $p(x)=-1$, $q(x)=0$, $a=0$, $b=l$, \n",
    "$\\alpha_1=1$, $\\alpha_2=0$, $\\beta_1=1$ i $\\beta_2=0$.\n",
    "\n",
    "__Dokaz 2. tvrdnje__ (prema [Logan, Applied Mathematics, str. 209][Log97])\n",
    "\n",
    "[Log97]: http://aaa \"J. David Logan, 'Applied Mathematics', 2nd Edition, Wiley, New York, 1997\"\n",
    "\n",
    "Neka su $\\lambda$ i $\\mu$ dvije različite svojstvene vrijednosti sa svojstvenim funkcijama \n",
    "$\\phi$ i $\\psi$, redom. Tada vrijedi\n",
    "\n",
    "\\begin{align*}\n",
    "-(p\\phi')'+q\\phi&=\\lambda\\phi, \\\\\n",
    "-(p\\psi')'+q\\psi&=\\mu\\psi.\n",
    "\\end{align*}\n",
    "\n",
    "Pomnožimo prvu jednadžbu sa $\\psi$ i drugu sa $\\phi$ te ih oduzmimo:\n",
    "\n",
    "$$\n",
    "\\phi(p\\psi')'-\\psi(p\\phi')'=(\\lambda-\\mu)\\phi\\psi.\n",
    "$$\n",
    "\n",
    "Integriranje od $a$ do $b$ daje\n",
    "\n",
    "$$\n",
    "\\int\\limits_a^b (\\phi(p\\psi')'-\\psi(p\\phi')')\\, dx=(\\lambda-\\mu) (\\phi,\\psi).\n",
    "$$\n",
    "\n",
    "Parcijalna integracija daje\n",
    "\n",
    "$$\n",
    "\\int\\limits_a^b \\phi(p\\psi')'\\, dx = \\left\\{ {u=\\phi, \\quad du=\\phi'\\, dx  \\atop dv=(p\\psi')'\\, \n",
    "dx, \\quad v=p\\psi' } \\right\\}\n",
    "=\\phi(p\\psi')\\big|_a^b -\\int\\limits_a^b p\\psi'\\phi' q\\, dx,\n",
    "$$\n",
    "\n",
    "i, slično,\n",
    "\n",
    "$$\n",
    "\\int\\limits_a^b \\psi(p\\phi')'\\, dx = \\psi(p\\phi')\\big|_a^b -\\int\\limits_a^b p\\psi'\\phi' q\\, dx.\n",
    "$$\n",
    "\n",
    "Dakle, \n",
    "$$\n",
    "p(\\phi\\psi'-\\psi\\phi')\\big|_a^b=(\\lambda-\\mu)(\\phi,\\psi).\n",
    "$$\n",
    "\n",
    "Iz rubnih uvjets slijedi da je lijeva strana jednaka nuli pa je, zbog $\\lambda\\neq \\mu$ i $(\\phi,\\psi)=0$, odnosno,\n",
    "$\\phi\\perp\\psi$. Na primjer, ako su sva dijeljenja definirana, tada je \n",
    "\n",
    "$$\n",
    "\\frac{\\phi(a)}{\\phi'(a)}=-\\frac{\\alpha_2}{\\alpha_1}=\\frac{\\psi(a)}{\\psi'(a)}\n",
    "$$\n",
    "\n",
    "pa je $\\phi(a)\\psi'(a)-\\phi'(a)\\psi(a)=0$.\n",
    "\n",
    "Primjere rješavanja regularnog SLP ćemo dati kasnije."
   ]
  },
  {
   "cell_type": "code",
   "execution_count": null,
   "metadata": {
    "collapsed": true
   },
   "outputs": [],
   "source": []
  }
 ],
 "metadata": {
  "anaconda-cloud": {},
  "kernelspec": {
   "display_name": "Julia 0.5.0",
   "language": "julia",
   "name": "julia-0.5"
  },
  "language_info": {
   "file_extension": ".jl",
   "mimetype": "application/julia",
   "name": "julia",
   "version": "0.5.0"
  }
 },
 "nbformat": 4,
 "nbformat_minor": 0
}
