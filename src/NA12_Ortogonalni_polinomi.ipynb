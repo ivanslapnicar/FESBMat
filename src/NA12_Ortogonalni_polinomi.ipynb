{
 "cells": [
  {
   "cell_type": "markdown",
   "metadata": {},
   "source": [
    "# Ortogonalni polinomi\n",
    "\n",
    "Neka je \n",
    "\n",
    "$$\n",
    "L(x_0,x_1,\\ldots,x_n)\n",
    "$$\n",
    "\n",
    "potprostor razapet linearno nezavisnim vektorima (ili funkcijama) $x_0,x_1,\\ldots,x_n$.\n",
    "\n",
    "> Radio se o skupu svih linearnih kombinacija zadanih vektora. \n",
    "\n",
    "Koristeći __Gram-Schmidto-ov postupak ortogonalizacije__ možemo izračunati __ortogonalnu__ bazu istog potprostora \n",
    "\n",
    "$$\n",
    "y_0,y_1,\\ldots,y_n, \n",
    "$$\n",
    "\n",
    "za koju vrijedi\n",
    "\n",
    "$$\n",
    "(y_i,y_j)=0,\\quad i\\neq j. \\tag{1}\n",
    "$$\n",
    "\n",
    "Neka je \n",
    "\n",
    "\\begin{align}\n",
    "y_0&=x_0\\\\\n",
    "y_1&=x_1-\\frac{(x_1,y_0)}{(y_0,y_0)}y_0\\\\\n",
    "y_2&=x_2-\\frac{(x_2,y_0)}{(y_0,y_0)}y_0-\\frac{(x_2,y_1)}{(y_1,y_1)}y_1\\\\\n",
    "& \\vdots \\\\\n",
    "y_n&=x_n-\\sum_{j=0}^{n-1} \\frac{(x_n,y_j)}{(y_j,y_j)}y_j.\n",
    "\\end{align}\n",
    "\n",
    "Svaki $y_j$ je linearna kombinacija od $x_0,x_1,\\ldots,x_j$ pa su $y_j$ linearno nezavisni i vrijedi\n",
    "\n",
    "$$\n",
    "L(x_0,x_1,\\ldots,x_n)=L(y_0,y_1,\\ldots,y_n).\n",
    "$$\n",
    "\n",
    "Direktnom provjerom se vidi da vrijedi (1).\n",
    "\n",
    "__Težinski skalarni produkt__  _funkcija $f$ i $g$ na intervalu $[a,b]$ težinom_ $\\omega(x)>0$ je\n",
    "\n",
    "$$\n",
    "(f,g)_\\omega=\\int_a^b f(x)g(x)\\omega(x)\\, dx\n",
    "$$\n",
    "\n",
    "> Funkcije $f$ i $g$ su __ortogonalne__ ako je $(f,g)_\\omega=0$.\n",
    "\n",
    "__Ortogonalni polinomi__ nastaju ortogonalizacijom polinoma\n",
    "\n",
    "$$\n",
    "1,x,x^2,x^2,\\ldots,x^n. \\tag{2}\n",
    "$$"
   ]
  },
  {
   "cell_type": "markdown",
   "metadata": {},
   "source": [
    "## Legendreovi polinomi\n",
    "\n",
    "Ortogonalizirajmo sustav (2) za\n",
    "\n",
    "$$\n",
    "[a,b]=[-1,1], \\quad \\omega(x)=1.\n",
    "$$"
   ]
  },
  {
   "cell_type": "code",
   "execution_count": 1,
   "metadata": {
    "collapsed": true
   },
   "outputs": [],
   "source": [
    "using SymPy"
   ]
  },
  {
   "cell_type": "code",
   "execution_count": 2,
   "metadata": {
    "collapsed": false
   },
   "outputs": [],
   "source": [
    "a=-1\n",
    "b=1\n",
    "n=symbols(\"n\",integer=true)\n",
    "# j=symbols(\"j\",integer=true)\n",
    "# k=symbols(\"k\",integer=true)\n",
    "n=8\n",
    "P=Array(Any,n)\n",
    "x=Sym(\"x\")\n",
    "P[1]=x^0\n",
    "ω(x)=1\n",
    "for k=2:n\n",
    "    P[k]=x^(k-1)\n",
    "    for j=1:k-1\n",
    "        P[k]=P[k]-integrate(x->x^(k-1)*P[j]*ω(x),a,b)*P[j]/integrate(x->P[j]*P[j]*ω(x),a,b)\n",
    "    end\n",
    "end"
   ]
  },
  {
   "cell_type": "markdown",
   "metadata": {},
   "source": [
    "Kako `Julia` indeksiranje započima s 1, svi indeksi su pomaknuti, odnosno\n",
    "\n",
    "$$\n",
    "P_0(x)=P[1], \\ P_1(x)=P[2], \\ldots\n",
    "$$"
   ]
  },
  {
   "cell_type": "code",
   "execution_count": 3,
   "metadata": {
    "collapsed": false
   },
   "outputs": [
    {
     "data": {
      "text/latex": [
       "$$1$$"
      ],
      "text/plain": [
       "1"
      ]
     },
     "execution_count": 3,
     "metadata": {},
     "output_type": "execute_result"
    }
   ],
   "source": [
    "P[1]"
   ]
  },
  {
   "cell_type": "code",
   "execution_count": 4,
   "metadata": {
    "collapsed": false
   },
   "outputs": [
    {
     "data": {
      "text/latex": [
       "$$x^{3} - \\frac{3 x}{5}$$"
      ],
      "text/plain": [
       " 3   3⋅x\n",
       "x  - ───\n",
       "      5 "
      ]
     },
     "execution_count": 4,
     "metadata": {},
     "output_type": "execute_result"
    }
   ],
   "source": [
    "P[4]"
   ]
  },
  {
   "cell_type": "code",
   "execution_count": 5,
   "metadata": {
    "collapsed": false
   },
   "outputs": [
    {
     "data": {
      "text/latex": [
       "$$x^{5} - \\frac{10 x^{3}}{9} + \\frac{5 x}{21}$$"
      ],
      "text/plain": [
       "         3      \n",
       " 5   10⋅x    5⋅x\n",
       "x  - ───── + ───\n",
       "       9      21"
      ]
     },
     "execution_count": 5,
     "metadata": {},
     "output_type": "execute_result"
    }
   ],
   "source": [
    "P[6]"
   ]
  },
  {
   "cell_type": "code",
   "execution_count": 6,
   "metadata": {
    "collapsed": false
   },
   "outputs": [
    {
     "data": {
      "text/latex": [
       "$$x^{6} - \\frac{15 x^{4}}{11} + \\frac{5 x^{2}}{11} - \\frac{5}{231}$$"
      ],
      "text/plain": [
       "         4      2      \n",
       " 6   15⋅x    5⋅x     5 \n",
       "x  - ───── + ──── - ───\n",
       "       11     11    231"
      ]
     },
     "execution_count": 6,
     "metadata": {},
     "output_type": "execute_result"
    }
   ],
   "source": [
    "P[7]"
   ]
  },
  {
   "cell_type": "code",
   "execution_count": 7,
   "metadata": {
    "collapsed": false
   },
   "outputs": [
    {
     "data": {
      "text/latex": [
       "$$x^{7} - \\frac{21 x^{5}}{13} + \\frac{105 x^{3}}{143} - \\frac{35 x}{429}$$"
      ],
      "text/plain": [
       "         5        3       \n",
       " 7   21⋅x    105⋅x    35⋅x\n",
       "x  - ───── + ────── - ────\n",
       "       13     143     429 "
      ]
     },
     "execution_count": 7,
     "metadata": {},
     "output_type": "execute_result"
    }
   ],
   "source": [
    "P[8]"
   ]
  },
  {
   "cell_type": "markdown",
   "metadata": {},
   "source": [
    "Polinomi $P_n$ su do na konstantu jednaki __Legendre-ovim__ polinomima\n",
    "\n",
    "$$\n",
    "L_n(x)=\\frac{1}{2^n n!}\\frac{d^n}{dx^n}(x^2-1)^n, \\quad n=0,1,2,3,\\ldots\n",
    "$$"
   ]
  },
  {
   "cell_type": "code",
   "execution_count": 8,
   "metadata": {
    "collapsed": false
   },
   "outputs": [],
   "source": [
    "n=8\n",
    "L=Array(Any,n)\n",
    "L[1]=x^0\n",
    "for k=1:n-1\n",
    "    L[k+1]=expand(diff((x^2-1)^k/(2^k*factorial(k)),x,k))\n",
    "end"
   ]
  },
  {
   "cell_type": "code",
   "execution_count": 9,
   "metadata": {
    "collapsed": false
   },
   "outputs": [
    {
     "data": {
      "text/plain": [
       "(1,1)"
      ]
     },
     "execution_count": 9,
     "metadata": {},
     "output_type": "execute_result"
    }
   ],
   "source": [
    "L[1], P[1]"
   ]
  },
  {
   "cell_type": "code",
   "execution_count": 10,
   "metadata": {
    "collapsed": false
   },
   "outputs": [
    {
     "data": {
      "text/plain": [
       "(x,x)"
      ]
     },
     "execution_count": 10,
     "metadata": {},
     "output_type": "execute_result"
    }
   ],
   "source": [
    "L[2],P[2]"
   ]
  },
  {
   "cell_type": "code",
   "execution_count": 11,
   "metadata": {
    "collapsed": false
   },
   "outputs": [
    {
     "data": {
      "text/plain": [
       "(5*x^3/2 - 3*x/2,x^3 - 3*x/5)"
      ]
     },
     "execution_count": 11,
     "metadata": {},
     "output_type": "execute_result"
    }
   ],
   "source": [
    "L[4],P[4]"
   ]
  },
  {
   "cell_type": "code",
   "execution_count": 12,
   "metadata": {
    "collapsed": false
   },
   "outputs": [
    {
     "data": {
      "text/plain": [
       "(231*x^6/16 - 315*x^4/16 + 105*x^2/16 - 5/16,x^6 - 15*x^4/11 + 5*x^2/11 - 5/231)"
      ]
     },
     "execution_count": 12,
     "metadata": {},
     "output_type": "execute_result"
    }
   ],
   "source": [
    "L[7],P[7]"
   ]
  },
  {
   "cell_type": "code",
   "execution_count": 13,
   "metadata": {
    "collapsed": false
   },
   "outputs": [
    {
     "data": {
      "text/latex": [
       "$$x^{6} - \\frac{15 x^{4}}{11} + \\frac{5 x^{2}}{11} - \\frac{5}{231}$$"
      ],
      "text/plain": [
       "         4      2      \n",
       " 6   15⋅x    5⋅x     5 \n",
       "x  - ───── + ──── - ───\n",
       "       11     11    231"
      ]
     },
     "execution_count": 13,
     "metadata": {},
     "output_type": "execute_result"
    }
   ],
   "source": [
    "P[7]"
   ]
  },
  {
   "cell_type": "code",
   "execution_count": 14,
   "metadata": {
    "collapsed": false
   },
   "outputs": [
    {
     "data": {
      "text/latex": [
       "$$x^{6} - \\frac{15 x^{4}}{11} + \\frac{5 x^{2}}{11} - \\frac{5}{231}$$"
      ],
      "text/plain": [
       "         4      2      \n",
       " 6   15⋅x    5⋅x     5 \n",
       "x  - ───── + ──── - ───\n",
       "       11     11    231"
      ]
     },
     "execution_count": 14,
     "metadata": {},
     "output_type": "execute_result"
    }
   ],
   "source": [
    "L[7]*16/231"
   ]
  },
  {
   "cell_type": "markdown",
   "metadata": {},
   "source": [
    "Pored ortogonalnosti, vrijede sljedeća svojstva:\n",
    "\n",
    "* $L_n(x)$  ima $n$ različitih nul-točaka na intervalu $[-1,1]$, \n",
    "* vrijedi _tročlana rekurzivna formula_: \n",
    "\n",
    "$$ \n",
    "L_{n+1}(x)=\\frac{2n+1}{n+1}x L_n(x)-\\frac{n}{n+1} L_{n-1}(x).\n",
    "$$\n",
    "\n",
    "Izračunajmo polinome numerički i nacrtajmo ih:"
   ]
  },
  {
   "cell_type": "code",
   "execution_count": 16,
   "metadata": {
    "collapsed": false
   },
   "outputs": [],
   "source": [
    "using Polynomials\n",
    "using Interact\n",
    "using Winston"
   ]
  },
  {
   "cell_type": "code",
   "execution_count": 17,
   "metadata": {
    "collapsed": false
   },
   "outputs": [],
   "source": [
    "n=40\n",
    "L=Array(Any,n)\n",
    "L[1]=Polynomials.Poly([1])\n",
    "L[2]=Polynomials.Poly([0,1])\n",
    "for i=3:n\n",
    "    p=(2*i-3)*L[2]*L[i-1]/(i-1)-(i-2)*L[i-2]/(i-1)\n",
    "    L[i]=Polynomials.Poly(map(Float64,[p[j] for j=0:length(p)-2]))\n",
    "    # @show i, length(L[i])\n",
    "end"
   ]
  },
  {
   "cell_type": "code",
   "execution_count": 18,
   "metadata": {
    "collapsed": false
   },
   "outputs": [
    {
     "data": {
      "text/html": [],
      "text/plain": [
       "Interact.Slider{Int64}([Reactive.Input{Int64}] 20,\"k\",20,1:40)"
      ]
     },
     "metadata": {},
     "output_type": "display_data"
    },
    {
     "data": {
      "image/png": "[encoded data removed]",
      "text/plain": [
       "Winston.FramedPlot(...)"
      ]
     },
     "execution_count": 18,
     "metadata": {
      "comm_id": "09cfc65c-f74c-460c-92a4-77451f30a6ea",
      "reactive": true
     },
     "output_type": "execute_result"
    }
   ],
   "source": [
    "xx=linspace(-1,1,300)\n",
    "@manipulate for k=1:n\n",
    "    yy=polyval(L[k],xx)\n",
    "    Winston.plot(xx,yy,\"b\")\n",
    "end"
   ]
  },
  {
   "cell_type": "markdown",
   "metadata": {},
   "source": [
    "## Čebiševljevi polinomi\n",
    "\n",
    "__Čebiševljevi polinomi__ $T_n(x)$ nastaju ortogonalizacijom sustava (2) za\n",
    "\n",
    "$$\n",
    "[a,b]=[-1,1], \\quad \\omega(x)=\\frac{1}{\\sqrt{1-x^2}}.\n",
    "$$\n",
    "\n",
    "Čebiševljevi polinomi imaju sljedeća svojstva:\n",
    "\n",
    "* vrijedi \n",
    "\n",
    "$$\n",
    "T_n(x)=\\cos(n\\arccos x),\\quad n=0,1,2,3,\\ldots,\n",
    "$$\n",
    "\n",
    "* $T_n(x)$  ima $n$ različitih nul-točaka na intervalu $[-1,1]$, \n",
    "\n",
    "$$ \n",
    "x_k=\\cos \\bigg(\\frac{2k-1}{n}\\frac{\\pi}{2} \\bigg), \\quad k=1,\\ldots,n,\n",
    "$$\n",
    "\n",
    "* vrijedi _tročlana rekurzivna formula_: \n",
    "\n",
    "$$\n",
    "T_0(x)=1,\\\\\n",
    "T_1(x)=x, \\\\ \n",
    "T_{n+1}(x)=2xT_n(x)-T_{n-1}(x),\\quad n=1,2,3,\\ldots.\n",
    "$$\n",
    " \n",
    "__Napomena__:\n",
    "\n",
    "Rekurzivna formula slijedi iz _adicione formule_\n",
    "\n",
    "$$\n",
    "\\cos(n+1)\\varphi+\\cos(n-1)\\varphi=2\\cos\\varphi\\cos n\\varphi.\n",
    "$$\n",
    "\n",
    "Ortogonalnost se dokazuje pomoću supstitucije \n",
    "\n",
    "$$\n",
    "\\arccos x=\\varphi.\n",
    "$$"
   ]
  },
  {
   "cell_type": "code",
   "execution_count": 19,
   "metadata": {
    "collapsed": false
   },
   "outputs": [],
   "source": [
    "# Simbolički\n",
    "n=8\n",
    "T=Array(Any,n)\n",
    "T[1]=x^0\n",
    "T[2]=x\n",
    "for k=2:n-1\n",
    "    T[k+1]=expand(2*x*T[k]-T[k-1])\n",
    "end"
   ]
  },
  {
   "cell_type": "code",
   "execution_count": 20,
   "metadata": {
    "collapsed": false
   },
   "outputs": [
    {
     "data": {
      "text/latex": [
       "$$2 x^{2} - 1$$"
      ],
      "text/plain": [
       "   2    \n",
       "2⋅x  - 1"
      ]
     },
     "execution_count": 20,
     "metadata": {},
     "output_type": "execute_result"
    }
   ],
   "source": [
    "T[3]"
   ]
  },
  {
   "cell_type": "code",
   "execution_count": 21,
   "metadata": {
    "collapsed": false
   },
   "outputs": [
    {
     "data": {
      "text/latex": [
       "$$32 x^{6} - 48 x^{4} + 18 x^{2} - 1$$"
      ],
      "text/plain": [
       "    6       4       2    \n",
       "32⋅x  - 48⋅x  + 18⋅x  - 1"
      ]
     },
     "execution_count": 21,
     "metadata": {},
     "output_type": "execute_result"
    }
   ],
   "source": [
    "T[7]"
   ]
  },
  {
   "cell_type": "code",
   "execution_count": 22,
   "metadata": {
    "collapsed": false
   },
   "outputs": [
    {
     "data": {
      "text/latex": [
       "$$64 x^{7} - 112 x^{5} + 56 x^{3} - 7 x$$"
      ],
      "text/plain": [
       "    7        5       3      \n",
       "64⋅x  - 112⋅x  + 56⋅x  - 7⋅x"
      ]
     },
     "execution_count": 22,
     "metadata": {},
     "output_type": "execute_result"
    }
   ],
   "source": [
    "T[8]"
   ]
  },
  {
   "cell_type": "code",
   "execution_count": 23,
   "metadata": {
    "collapsed": false
   },
   "outputs": [],
   "source": [
    "# Numerički\n",
    "n=50\n",
    "T=Array(Any,n)\n",
    "T[1]=Polynomials.Poly([1])\n",
    "T[2]=Polynomials.Poly([0,1])\n",
    "for i=3:n\n",
    "    p=2*T[2]*T[i-1]-T[i-2]\n",
    "    T[i]=Polynomials.Poly(map(BigInt,[p[i] for i=0:length(p)-2]))\n",
    "    # @show i, length(T[i])\n",
    "end"
   ]
  },
  {
   "cell_type": "code",
   "execution_count": 24,
   "metadata": {
    "collapsed": false
   },
   "outputs": [
    {
     "data": {
      "text/html": [],
      "text/plain": [
       "Interact.Slider{Int64}([Reactive.Input{Int64}] 25,\"k\",25,1:50)"
      ]
     },
     "metadata": {},
     "output_type": "display_data"
    },
    {
     "data": {
      "image/png": "[encoded data removed]",
      "text/plain": [
       "Winston.FramedPlot(...)"
      ]
     },
     "execution_count": 24,
     "metadata": {
      "comm_id": "f3af4381-7caa-427a-b8e0-f407e1b11c95",
      "reactive": true
     },
     "output_type": "execute_result"
    }
   ],
   "source": [
    "xx=linspace(-1,1,300)\n",
    "@manipulate for k=1:n\n",
    "    yy=polyval(T[k],xx)\n",
    "    Winston.plot(xx,yy,\"b\")\n",
    "end"
   ]
  },
  {
   "cell_type": "code",
   "execution_count": null,
   "metadata": {
    "collapsed": true
   },
   "outputs": [],
   "source": []
  }
 ],
 "metadata": {
  "kernelspec": {
   "display_name": "Julia 0.4.0",
   "language": "julia",
   "name": "julia-0.4"
  },
  "language_info": {
   "file_extension": ".jl",
   "mimetype": "application/julia",
   "name": "julia",
   "version": "0.4.0"
  }
 },
 "nbformat": 4,
 "nbformat_minor": 0
}
