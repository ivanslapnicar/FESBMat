{
 "cells": [
  {
   "cell_type": "markdown",
   "metadata": {},
   "source": [
    "# Interpolacijski polinomi\n",
    "---\n",
    "\n",
    "Neka je zadana $n+1$ točka\n",
    "\n",
    "$$\n",
    "T_i=(x_i,y_i), \\quad i=0,1,\\ldots,n,\\quad x_i\\neq x_j.\n",
    "$$\n",
    "\n",
    "## Standradna baza\n",
    "\n",
    "Kroz zadane točke prolazi _interpolacijski polinom_ $p_n(x)$. Koeficijenti polinoma zadovoljavaju \n",
    "sustav linearnih jednadžbi $p_n(x_i)=y_i$, $i=0,\\ldots,n$, odnosno\n",
    "\n",
    "$$\n",
    "\\begin{bmatrix} \n",
    "1 & x_0 & x_0^2 & x_0^3 & \\cdots & x_0^n \\\\\n",
    "1 & x_1 & x_1^2 & x_1^3 & \\cdots & x_1^n \\\\\n",
    "\\vdots & & & & \\vdots \\\\\n",
    "1 & x_n & x_n^2 & x_n^3 & \\cdots & x_n^n \\\\\n",
    "\\end{bmatrix}\n",
    "\\begin{bmatrix}a_0\\\\ a_1 \\\\ \\vdots \\\\ a_n\\end{bmatrix}\n",
    "=\\begin{bmatrix} y_0 \\\\ y_1 \\\\ \\vdots \\\\ y_n\\end{bmatrix}\n",
    "$$\n",
    "\n",
    "Matrica sustava $A$ se zove _Vandermonde-ova matrica_. Njena determinanta dana je formulom\n",
    "\n",
    "$$ \n",
    "\\mathop{\\mathrm{det}}(A)= \\prod_{0\\leq j<i\\leq n}(x_i-x_j).\n",
    "$$\n",
    "\n",
    "Kako su sve apscise različite ($x_i\\neq x_j$ za $i\\neq j$), vrijedi $\\mathop{\\mathrm{det}}(A)\\neq 0$ pa je matrica $A$ regularna i zadani sustav ima jedinstveno rješenje - dakle, \n",
    "> interpolacijski polinom je __jedinstven__."
   ]
  },
  {
   "cell_type": "code",
   "execution_count": 1,
   "metadata": {
    "collapsed": false
   },
   "outputs": [
    {
     "name": "stderr",
     "output_type": "stream",
     "text": [
      "WARNING: Method definition (::Type{SpecialMatrices.Hankel})(Array{#T<:Any, 1}) in module SpecialMatrices at /home/slap/.julia/v0.5/SpecialMatrices/src/hankel.jl:4 overwritten at /home/slap/.julia/v0.5/SpecialMatrices/src/hankel.jl:6.\n"
     ]
    }
   ],
   "source": [
    "using Polynomials\n",
    "using SpecialMatrices\n",
    "using Winston"
   ]
  },
  {
   "cell_type": "code",
   "execution_count": 2,
   "metadata": {
    "collapsed": false
   },
   "outputs": [
    {
     "data": {
      "text/plain": [
       "0.8458605332173432"
      ]
     },
     "execution_count": 2,
     "metadata": {},
     "output_type": "execute_result"
    }
   ],
   "source": [
    "n=6\n",
    "x=rand(n)\n",
    "y=rand(n)\n",
    "a=minimum(x)\n",
    "b=maximum(x)"
   ]
  },
  {
   "cell_type": "code",
   "execution_count": 3,
   "metadata": {
    "collapsed": false
   },
   "outputs": [
    {
     "data": {
      "text/plain": [
       "6×6 SpecialMatrices.Vandermonde{Float64}:\n",
       " 1.0  0.343244   0.117816    0.0404398    0.0138807   0.00476448\n",
       " 1.0  0.734402   0.539347    0.396098     0.290895    0.213634  \n",
       " 1.0  0.537409   0.288808    0.155208     0.0834101   0.0448253 \n",
       " 1.0  0.0725928  0.00526972  0.000382544  2.77699e-5  2.0159e-6 \n",
       " 1.0  0.0866772  0.00751293  0.0006512    5.64442e-5  4.89242e-6\n",
       " 1.0  0.845861   0.71548     0.605196     0.511912    0.433006  "
      ]
     },
     "execution_count": 3,
     "metadata": {},
     "output_type": "execute_result"
    }
   ],
   "source": [
    "A=Vandermonde(x)"
   ]
  },
  {
   "cell_type": "code",
   "execution_count": 4,
   "metadata": {
    "collapsed": false
   },
   "outputs": [
    {
     "data": {
      "text/plain": [
       "6-element Array{Float64,1}:\n",
       "   -0.281855\n",
       "   12.4267  \n",
       "  -67.4999  \n",
       "  156.811   \n",
       " -155.577   \n",
       "   54.4921  "
      ]
     },
     "execution_count": 4,
     "metadata": {},
     "output_type": "execute_result"
    }
   ],
   "source": [
    "c=full(A)\\y"
   ]
  },
  {
   "cell_type": "code",
   "execution_count": 5,
   "metadata": {
    "collapsed": false
   },
   "outputs": [
    {
     "data": {
      "text/plain": [
       "Poly(-0.2818551705456813 + 12.426680143703857x - 67.49991860026111x^2 + 156.8112723856642x^3 - 155.57656881308807x^4 + 54.49214657045432x^5)"
      ]
     },
     "execution_count": 5,
     "metadata": {},
     "output_type": "execute_result"
    }
   ],
   "source": [
    "p=Poly(c)"
   ]
  },
  {
   "cell_type": "code",
   "execution_count": 6,
   "metadata": {
    "collapsed": false
   },
   "outputs": [
    {
     "data": {
      "image/png": "[encoded data removed]",
      "text/plain": [
       "Winston.FramedPlot(...)"
      ]
     },
     "execution_count": 6,
     "metadata": {},
     "output_type": "execute_result"
    }
   ],
   "source": [
    "plot(x,y,\"r*\")"
   ]
  },
  {
   "cell_type": "code",
   "execution_count": 8,
   "metadata": {
    "collapsed": false
   },
   "outputs": [
    {
     "data": {
      "image/png": "[encoded data removed]",
      "text/plain": [
       "Winston.FramedPlot(...)"
      ]
     },
     "execution_count": 8,
     "metadata": {},
     "output_type": "execute_result"
    }
   ],
   "source": [
    "xx=linspace(a,b,100)\n",
    "pS=polyval(p,xx)\n",
    "plot(x,y,\"r*\",xx,pS)"
   ]
  },
  {
   "cell_type": "markdown",
   "metadata": {},
   "source": [
    "Za rješavanje zadanog sustava standardnim putem potrebno je $O(n^3)$ računskih operacija, no postoje metode kojima se Vandermondeovi sustavi mogu riješiti s $O(n^2)$ operacija.\n",
    "\n",
    "Za izvrednjavanje polinoma u nekoj točki potrebno je $2n$ operacija (Hornerova shema).\n",
    "\n",
    "Vandermondeova matrice uglavnom imaju veliku kondiciju pa ovaj način računanja koeficijenata polinoma može biti nestabilan.\n",
    "Stoga se koriste i druge metode za računanje i izvredjavanje interpolacijskih polinoma.\n",
    "\n",
    "## Lagrange-ov interpolacijski polinom\n",
    "\n",
    "Definirajmo $n+1$ polinom stupnja $n$:\n",
    "\n",
    "$$\n",
    "L_j(x)=\\prod_{{i=0}\\atop {i\\neq j}}^n \\frac{x-x_i}{x_j-x_i}.\n",
    "$$\n",
    "\n",
    "Vrijedi \n",
    "\n",
    "$$\n",
    "L_j(x_i)=\\begin{cases}0, \\quad i\\neq j \\\\ 1,\\quad i=j \\end{cases}\n",
    "$$\n",
    "\n",
    "pa je \n",
    "\n",
    "$$\n",
    "p_n(x)=y_0\\, L_0(x)+y_1 \\, L_1(x)+\\cdots + y_n\\,  L_n(x).\n",
    "$$\n",
    "\n",
    "Za računanje nazivnika polinoma prvi put je potrebno $O(n^2)$ operacija, ali se potom vrijednost \n",
    "$p_n(x)$ računa s $O(n)$ operacija. \n",
    "\n",
    "Navodimo implementaciju algoritma koja nije optimalno brza."
   ]
  },
  {
   "cell_type": "code",
   "execution_count": 10,
   "metadata": {
    "collapsed": false
   },
   "outputs": [
    {
     "data": {
      "text/plain": [
       "19023.796144007785"
      ]
     },
     "execution_count": 10,
     "metadata": {},
     "output_type": "execute_result"
    }
   ],
   "source": [
    "cond(A)"
   ]
  },
  {
   "cell_type": "code",
   "execution_count": 11,
   "metadata": {
    "collapsed": false
   },
   "outputs": [
    {
     "data": {
      "text/plain": [
       "L (generic function with 1 method)"
      ]
     },
     "execution_count": 11,
     "metadata": {},
     "output_type": "execute_result"
    }
   ],
   "source": [
    "L(t)=sum(y.*[prod(t-x[[1:j-1;j+1:end]])/prod(x[j]-x[[1:j-1;j+1:end]]) for j=1:n])"
   ]
  },
  {
   "cell_type": "code",
   "execution_count": 12,
   "metadata": {
    "collapsed": false
   },
   "outputs": [],
   "source": [
    "pL=Array(Float64,length(xx))\n",
    "for i=1:length(xx)\n",
    "    pL[i]=L(xx[i])\n",
    "end"
   ]
  },
  {
   "cell_type": "code",
   "execution_count": 13,
   "metadata": {
    "collapsed": false
   },
   "outputs": [
    {
     "data": {
      "image/png": "[encoded data removed]",
      "text/plain": [
       "Winston.FramedPlot(...)"
      ]
     },
     "execution_count": 13,
     "metadata": {},
     "output_type": "execute_result"
    }
   ],
   "source": [
    "plot(x,y,\"r*\",xx,pL)"
   ]
  },
  {
   "cell_type": "code",
   "execution_count": 14,
   "metadata": {
    "collapsed": false
   },
   "outputs": [
    {
     "data": {
      "text/plain": [
       "2.5979218776228663e-14"
      ]
     },
     "execution_count": 14,
     "metadata": {},
     "output_type": "execute_result"
    }
   ],
   "source": [
    "norm(pS-pL,Inf)"
   ]
  },
  {
   "cell_type": "code",
   "execution_count": 15,
   "metadata": {
    "collapsed": false
   },
   "outputs": [
    {
     "data": {
      "text/plain": [
       "5.0139991968046043e-14"
      ]
     },
     "execution_count": 15,
     "metadata": {},
     "output_type": "execute_result"
    }
   ],
   "source": [
    "norm(abs(pS-pL)./abs(pL),Inf)"
   ]
  },
  {
   "cell_type": "markdown",
   "metadata": {},
   "source": [
    "## Newton-ov interpolacijski polinom\n",
    "\n",
    "Kod ovog polinoma koristi se baza\n",
    "\n",
    "$$\n",
    "1, x-x_0, (x-x_0)(x-x_1), (x-x_0)(x-x_1)(x-x_2),\\ldots,(x-x_0)(x-x_1)\\cdots (x-x_{n-1})\n",
    "$$\n",
    "\n",
    "pa je interpolacijski polinom dan s\n",
    "\n",
    "$$\n",
    "p_n(x)=c_0 + c_1(x-x_0)+c_2(x-x_0)(x-x_1)+\\cdots +c_n(x-x_0)(x-x_1)\\cdots (x-x_{n-1}).\n",
    "$$\n",
    "\n",
    "Koeficijenti interpolacijskog polinoma su rješenje sustava jednadžbi $Lc=y$, odnosno\n",
    "\n",
    "$$\n",
    "\\begin{bmatrix} \n",
    "1 & 0 & 0 & 0 & \\cdots & 0 \\\\\n",
    "1 & x_1-x_0 & 0 & 0 & \\cdots & 0 \\\\\n",
    "1 & x_2-x_0 & (x_2-x_0)(x_2-x_1) & 0 & \\cdots & 0 \\\\\n",
    "\\vdots & & & & \\vdots \\\\\n",
    "1 & x_n-x_0 & (x_n-x_0)(x_n-x_1) & (x_n-x_0)(x_n-x_1)(x_n-x_2) & \\cdots & (x_n-x_0)\\cdots (x_n-x_{n-1}) \\\\\n",
    "\\end{bmatrix}\n",
    "\\begin{bmatrix}c_0\\\\ c_1 \\\\ c_2 \\\\\\vdots \\\\ a_n\\end{bmatrix}\n",
    "=\\begin{bmatrix} y_0 \\\\ y_1 \\\\ y_2 \\\\ \\vdots \\\\ y_n\\end{bmatrix}.\n",
    "$$\n",
    "\n",
    "Za formiranje donje trokutaste matrice $L$ potrebno je $O(n^2)$ operacija. Za računanje koeficijenata $c_0,\\ldots,c_n$ potrebno je $O(n^2)$ operacija (rješavanje donje trokutastog sustava) i to rješenje je __stabilno__.\n",
    "\n",
    "Za računanje $p_n(x)$ koristi se postupak koji je vrlo sličan Hornerovoj shemi. "
   ]
  },
  {
   "cell_type": "code",
   "execution_count": 16,
   "metadata": {
    "collapsed": false
   },
   "outputs": [
    {
     "data": {
      "text/plain": [
       "mynewton (generic function with 1 method)"
      ]
     },
     "execution_count": 16,
     "metadata": {},
     "output_type": "execute_result"
    }
   ],
   "source": [
    "# racunanje koeficijenata c\n",
    "function mynewton(x,y)\n",
    "    n=length(x)\n",
    "    L=zeros(Float64,n,n)\n",
    "    L[:,1]=ones(Float64,n)\n",
    "    for i=2:n\n",
    "        for j=2:i\n",
    "            L[i,j]=prod([x[i]-x[k] for k=1:j-1])\n",
    "        end\n",
    "    end\n",
    "    c=L\\collect(y)\n",
    "end  "
   ]
  },
  {
   "cell_type": "code",
   "execution_count": 17,
   "metadata": {
    "collapsed": false
   },
   "outputs": [
    {
     "data": {
      "text/plain": [
       "6-element Array{Float64,1}:\n",
       "   0.472455 \n",
       "   1.18494  \n",
       "  -0.0948498\n",
       "  -2.22856  \n",
       " -58.8898   \n",
       "  54.4921   "
      ]
     },
     "execution_count": 17,
     "metadata": {},
     "output_type": "execute_result"
    }
   ],
   "source": [
    "c=mynewton(x,y)"
   ]
  },
  {
   "cell_type": "code",
   "execution_count": 18,
   "metadata": {
    "collapsed": false
   },
   "outputs": [
    {
     "data": {
      "text/plain": [
       "evalnewton (generic function with 1 method)"
      ]
     },
     "execution_count": 18,
     "metadata": {},
     "output_type": "execute_result"
    }
   ],
   "source": [
    "# Racunanje vrijednosti Newtonovog polinoma zadanog s tockama c i koeficijentima x u tocki t \n",
    "function evalnewton(c,x,t::Number)\n",
    "    p=c[end]\n",
    "    for i=length(c)-1:-1:1\n",
    "        p=p*(t-x[i])+c[i]\n",
    "    end\n",
    "    p\n",
    "end"
   ]
  },
  {
   "cell_type": "code",
   "execution_count": 19,
   "metadata": {
    "collapsed": false
   },
   "outputs": [],
   "source": [
    "pN=Array(Float64,length(xx))\n",
    "for i=1:length(xx)\n",
    "    pN[i]=evalnewton(c,x,xx[i])\n",
    "end"
   ]
  },
  {
   "cell_type": "code",
   "execution_count": 20,
   "metadata": {
    "collapsed": false
   },
   "outputs": [
    {
     "data": {
      "image/png": "[encoded data removed]",
      "text/plain": [
       "Winston.FramedPlot(...)"
      ]
     },
     "execution_count": 20,
     "metadata": {},
     "output_type": "execute_result"
    }
   ],
   "source": [
    "plot(x,y,\"r*\",xx,pN)"
   ]
  },
  {
   "cell_type": "code",
   "execution_count": 21,
   "metadata": {
    "collapsed": false
   },
   "outputs": [
    {
     "data": {
      "text/plain": [
       "4.992293572576014e-14"
      ]
     },
     "execution_count": 21,
     "metadata": {},
     "output_type": "execute_result"
    }
   ],
   "source": [
    "norm(abs(pS-pN)./abs(pN),Inf)"
   ]
  },
  {
   "cell_type": "code",
   "execution_count": 22,
   "metadata": {
    "collapsed": false
   },
   "outputs": [
    {
     "data": {
      "text/plain": [
       "5.196743634647584e-16"
      ]
     },
     "execution_count": 22,
     "metadata": {},
     "output_type": "execute_result"
    }
   ],
   "source": [
    "norm(abs(pL-pN)./abs(pN),Inf)"
   ]
  },
  {
   "cell_type": "markdown",
   "metadata": {},
   "source": [
    "> Vidimo da su `pN` i `pL` bliže jedan drugome nego `pS` pa zaključujemo da su zaista točniji. "
   ]
  }
 ],
 "metadata": {
  "anaconda-cloud": {},
  "kernelspec": {
   "display_name": "Julia 0.5.0",
   "language": "julia",
   "name": "julia-0.5"
  },
  "language_info": {
   "file_extension": ".jl",
   "mimetype": "application/julia",
   "name": "julia",
   "version": "0.5.0"
  }
 },
 "nbformat": 4,
 "nbformat_minor": 0
}
