{
 "cells": [
  {
   "cell_type": "markdown",
   "metadata": {},
   "source": [
    "# Interpolacijski polinomi\n",
    "\n",
    "\n",
    "Neka je zadana $n+1$ točka\n",
    "\n",
    "$$\n",
    "T_i=(x_i,y_i), \\quad i=0,1,\\ldots,n,\\quad x_i\\neq x_j.\n",
    "$$\n",
    "\n",
    "## Standradna baza\n",
    "\n",
    "Kroz zadane točke prolazi _interpolacijski polinom_ $p_n(x)$. Koeficijenti polinoma zadovoljavaju \n",
    "sustav linearnih jednadžbi $p_n(x_i)=y_i$, $i=0,\\ldots,n$, odnosno\n",
    "\n",
    "$$\n",
    "\\begin{bmatrix} \n",
    "1 & x_0 & x_0^2 & x_0^3 & \\cdots & x_0^n \\\\\n",
    "1 & x_1 & x_1^2 & x_1^3 & \\cdots & x_1^n \\\\\n",
    "\\vdots & & & & \\vdots \\\\\n",
    "1 & x_n & x_n^2 & x_n^3 & \\cdots & x_n^n \\\\\n",
    "\\end{bmatrix}\n",
    "\\begin{bmatrix}a_0\\\\ a_1 \\\\ \\vdots \\\\ a_n\\end{bmatrix}\n",
    "=\\begin{bmatrix} y_0 \\\\ y_1 \\\\ \\vdots \\\\ y_n\\end{bmatrix}\n",
    "$$\n",
    "\n",
    "Matrica sustava $A$ se zove _Vandermonde-ova matrica_. Njena determinanta dana je formulom\n",
    "\n",
    "$$ \n",
    "\\mathop{\\mathrm{det}}(A)= \\prod_{0\\leq j<i\\leq n}(x_i-x_j).\n",
    "$$\n",
    "\n",
    "Kako su sve apscise različite ($x_i\\neq x_j$ za $i\\neq j$), vrijedi $\\mathop{\\mathrm{det}}(A)\\neq 0$ pa je matrica $A$ regularna i zadani suatav ima jedinstveno riješenje - dakle, \n",
    "> interpolacijski polinom je __jedinstven__."
   ]
  },
  {
   "cell_type": "code",
   "execution_count": 2,
   "metadata": {
    "collapsed": false
   },
   "outputs": [],
   "source": [
    "using Polynomials\n",
    "using SpecialMatrices\n",
    "using Winston"
   ]
  },
  {
   "cell_type": "code",
   "execution_count": 3,
   "metadata": {
    "collapsed": false
   },
   "outputs": [
    {
     "data": {
      "text/plain": [
       "0.7689255351291884"
      ]
     },
     "execution_count": 3,
     "metadata": {},
     "output_type": "execute_result"
    }
   ],
   "source": [
    "n=6\n",
    "x=rand(n)\n",
    "y=rand(n)\n",
    "a=minimum(x)\n",
    "b=maximum(x)"
   ]
  },
  {
   "cell_type": "code",
   "execution_count": 4,
   "metadata": {
    "collapsed": false
   },
   "outputs": [
    {
     "data": {
      "text/plain": [
       "6x6 SpecialMatrices.Vandermonde{Float64}:\n",
       " 1.0  0.077522  0.00600967  0.000465882  3.61161e-5   2.79979e-6\n",
       " 1.0  0.674146  0.454473    0.306381     0.206546     0.139242  \n",
       " 1.0  0.369543  0.136562    0.0504654    0.0186491    0.00689164\n",
       " 1.0  0.768926  0.591246    0.454625     0.349572     0.268795  \n",
       " 1.0  0.766994  0.588281    0.451208     0.346074     0.265437  \n",
       " 1.0  0.127842  0.0163436   0.00208941   0.000267115  3.41485e-5"
      ]
     },
     "execution_count": 4,
     "metadata": {},
     "output_type": "execute_result"
    }
   ],
   "source": [
    "A=Vandermonde(x)"
   ]
  },
  {
   "cell_type": "code",
   "execution_count": 5,
   "metadata": {
    "collapsed": false
   },
   "outputs": [
    {
     "data": {
      "text/plain": [
       "6-element Array{Float64,1}:\n",
       "    -54.4366\n",
       "   1410.21  \n",
       " -11853.5   \n",
       "  39544.0   \n",
       " -55316.8   \n",
       "  27303.1   "
      ]
     },
     "execution_count": 5,
     "metadata": {},
     "output_type": "execute_result"
    }
   ],
   "source": [
    "c=full(A)\\y"
   ]
  },
  {
   "cell_type": "code",
   "execution_count": 6,
   "metadata": {
    "collapsed": false
   },
   "outputs": [
    {
     "data": {
      "text/plain": [
       "Poly(-54.43656615689373 + 1410.2062570510168x - 11853.528302498602x^2 + 39543.96815898567x^3 - 55316.8466186104x^4 + 27303.126623694636x^5)"
      ]
     },
     "execution_count": 6,
     "metadata": {},
     "output_type": "execute_result"
    }
   ],
   "source": [
    "p=Poly(c)"
   ]
  },
  {
   "cell_type": "code",
   "execution_count": 7,
   "metadata": {
    "collapsed": false
   },
   "outputs": [
    {
     "data": {
      "image/png": "[encoded data removed]",
      "text/plain": [
       "Winston.FramedPlot(...)"
      ]
     },
     "execution_count": 7,
     "metadata": {},
     "output_type": "execute_result"
    }
   ],
   "source": [
    "plot(x,y,\"r*\")"
   ]
  },
  {
   "cell_type": "code",
   "execution_count": 8,
   "metadata": {
    "collapsed": false
   },
   "outputs": [
    {
     "data": {
      "image/png": "[encoded data removed]",
      "text/plain": [
       "Winston.FramedPlot(...)"
      ]
     },
     "execution_count": 8,
     "metadata": {},
     "output_type": "execute_result"
    }
   ],
   "source": [
    "xx=linspace(a,b,100)\n",
    "pS=polyval(p,xx)\n",
    "plot(x,y,\"r*\",xx,pS)"
   ]
  },
  {
   "cell_type": "markdown",
   "metadata": {},
   "source": [
    "Za rješavanje zadanog sustava standardnim putem potrebno je $O(n^3)$ računskih operacija, no postoje metode kojima se Vandermondeovi sustavi mogu riješiti s $O(n^2)$ operacija.\n",
    "\n",
    "Za izvrednjavanje polinoma u nekoj točki potrebno je $2n$ operacija (Hornerova shema).\n",
    "\n",
    "Vandermondeova matrice uglavnom imaju veliku kondiciju pa ovaj način računanja koeficijenata polinoma može biti nestabilan.\n",
    "Stoga se koriste i druge metode za računanje i izvredjavanje interpolacijskih polinoma.\n",
    "\n",
    "## Lagrange-ov interpolacijski polinom\n",
    "\n",
    "Definirajmo $n+1$ polinom stupnja $n$:\n",
    "\n",
    "$$\n",
    "L_j(x)=\\prod_{{i=0}\\atop {i\\neq j}}^n \\frac{x-x_i}{x_j-x_i}.\n",
    "$$\n",
    "\n",
    "Vrijedi \n",
    "\n",
    "$$\n",
    "L_j(x_i)=\\begin{cases}0, \\quad i\\neq j \\\\ 1,\\quad i=j \\end{cases}\n",
    "$$\n",
    "\n",
    "pa je \n",
    "\n",
    "$$\n",
    "p_n(x)=y_0\\, L_0(x)+y_1 \\, L_1(x)+\\cdots + y_n\\,  L_n(x).\n",
    "$$\n",
    "\n",
    "Za računanje nazivnika polinoma prvi put je potrebno $O(n^2)$ operacija, ali se potom vrijednost \n",
    "$p_n(x)$ računa s $O(n)$ operacija. \n",
    "\n",
    "Navodimo implementaciju algoritma koja nije optimalno brza."
   ]
  },
  {
   "cell_type": "code",
   "execution_count": 9,
   "metadata": {
    "collapsed": false
   },
   "outputs": [
    {
     "data": {
      "text/plain": [
       "353977.7530956672"
      ]
     },
     "execution_count": 9,
     "metadata": {},
     "output_type": "execute_result"
    }
   ],
   "source": [
    "cond(A)"
   ]
  },
  {
   "cell_type": "code",
   "execution_count": 10,
   "metadata": {
    "collapsed": false
   },
   "outputs": [
    {
     "data": {
      "text/plain": [
       "L (generic function with 1 method)"
      ]
     },
     "execution_count": 10,
     "metadata": {},
     "output_type": "execute_result"
    }
   ],
   "source": [
    "L(t)=sum(y.*[prod(t-x[[1:j-1;j+1:end]])/prod(x[j]-x[[1:j-1;j+1:end]]) for j=1:n])"
   ]
  },
  {
   "cell_type": "code",
   "execution_count": 11,
   "metadata": {
    "collapsed": false
   },
   "outputs": [],
   "source": [
    "pL=Array(Float64,length(xx))\n",
    "for i=1:length(xx)\n",
    "    pL[i]=L(xx[i])\n",
    "end"
   ]
  },
  {
   "cell_type": "code",
   "execution_count": 12,
   "metadata": {
    "collapsed": false
   },
   "outputs": [
    {
     "data": {
      "image/png": "[encoded data removed]",
      "text/plain": [
       "Winston.FramedPlot(...)"
      ]
     },
     "execution_count": 12,
     "metadata": {},
     "output_type": "execute_result"
    }
   ],
   "source": [
    "plot(x,y,\"r*\",xx,pL)"
   ]
  },
  {
   "cell_type": "code",
   "execution_count": 13,
   "metadata": {
    "collapsed": false
   },
   "outputs": [
    {
     "data": {
      "text/plain": [
       "2.864908310584724e-11"
      ]
     },
     "execution_count": 13,
     "metadata": {},
     "output_type": "execute_result"
    }
   ],
   "source": [
    "norm(pS-pL,Inf)"
   ]
  },
  {
   "cell_type": "code",
   "execution_count": 14,
   "metadata": {
    "collapsed": false
   },
   "outputs": [
    {
     "data": {
      "text/plain": [
       "2.923112909037327e-11"
      ]
     },
     "execution_count": 14,
     "metadata": {},
     "output_type": "execute_result"
    }
   ],
   "source": [
    "norm(abs(pS-pL)./abs(pL),Inf)"
   ]
  },
  {
   "cell_type": "markdown",
   "metadata": {},
   "source": [
    "## Newton-ov interpolacijski polinom\n",
    "\n",
    "Kod ovog polinoma koristi se baza\n",
    "\n",
    "$$\n",
    "1, x-x_0, (x-x_0)(x-x_1), (x-x_0)(x-x_1)(x-x_2),\\ldots,(x-x_0)(x-x_1)\\cdots (x-x_{n-1})\n",
    "$$\n",
    "pa je interpolacijski polinom dan s\n",
    "\n",
    "$$\n",
    "p_n(x)=c_0 + c_1(x-x_0)+c_2(x-x_0)(x-x_1)+\\cdots +c_n(x-x_0)(x-x_1)\\cdots (x-x_{n-1}).\n",
    "$$\n",
    "\n",
    "Koeficijenti interpolacijskog polinoma su rješenje sustava jednadžbi $Lc=y$, odnosno\n",
    "\n",
    "$$\n",
    "\\begin{bmatrix} \n",
    "1 & 0 & 0 & 0 & \\cdots & 0 \\\\\n",
    "1 & x_1-x_0 & 0 & 0 & \\cdots & 0 \\\\\n",
    "1 & x_2-x_0 & (x_2-x_0)(x_2-x_1) & 0 & \\cdots & 0 \\\\\n",
    "\\vdots & & & & \\vdots \\\\\n",
    "1 & x_n-x_0 & (x_n-x_0)(x_n-x_1) & (x_n-x_0)(x_n-x_1)(x_n-x_2) & \\cdots & (x_n-x_0)\\cdots (x_n-x_{n-1}) \\\\\n",
    "\\end{bmatrix}\n",
    "\\begin{bmatrix}c_0\\\\ c_1 \\\\ c_2 \\\\\\vdots \\\\ a_n\\end{bmatrix}\n",
    "=\\begin{bmatrix} y_0 \\\\ y_1 \\\\ y_2 \\\\ \\vdots \\\\ y_n\\end{bmatrix}.\n",
    "$$\n",
    "\n",
    "Za formiranje donje trokutaste matrice $L$ potrebno je $O(n^2)$ operacija. Za računanje koeficijenata $c_0,\\ldots,c_n$ potrebno je $O(n^2)$ operacija (rješavanje donje trokutastog sustava) i to rješenje je __stabilno__.\n",
    "\n",
    "Za računanje $p_n(x)$ koristi se postupak koji je vrlo sličan Hornerovoj shemi. "
   ]
  },
  {
   "cell_type": "code",
   "execution_count": 15,
   "metadata": {
    "collapsed": false
   },
   "outputs": [
    {
     "data": {
      "text/plain": [
       "mynewton (generic function with 1 method)"
      ]
     },
     "execution_count": 15,
     "metadata": {},
     "output_type": "execute_result"
    }
   ],
   "source": [
    "# racunanje koeficijenata c\n",
    "function mynewton(x,y)\n",
    "    n=length(x)\n",
    "    L=zeros(Float64,n,n)\n",
    "    L[:,1]=ones(Float64,n)\n",
    "    for i=2:n\n",
    "        for j=2:i\n",
    "            L[i,j]=prod([x[i]-x[k] for k=1:j-1])\n",
    "        end\n",
    "    end\n",
    "    c=L\\collect(y)\n",
    "end  "
   ]
  },
  {
   "cell_type": "code",
   "execution_count": 16,
   "metadata": {
    "collapsed": false
   },
   "outputs": [
    {
     "data": {
      "text/plain": [
       "6-element Array{Float64,1}:\n",
       "     0.151168\n",
       "     1.34437 \n",
       "     4.8631  \n",
       "   -18.5982  \n",
       " 17231.1     \n",
       " 27303.1     "
      ]
     },
     "execution_count": 16,
     "metadata": {},
     "output_type": "execute_result"
    }
   ],
   "source": [
    "c=mynewton(x,y)"
   ]
  },
  {
   "cell_type": "code",
   "execution_count": 17,
   "metadata": {
    "collapsed": false
   },
   "outputs": [
    {
     "data": {
      "text/plain": [
       "evalnewton (generic function with 1 method)"
      ]
     },
     "execution_count": 17,
     "metadata": {},
     "output_type": "execute_result"
    }
   ],
   "source": [
    "# Racunanje vrijednosti Newtonovog polinoma zadanog s tockama c i koeficijentima x u tocki t \n",
    "function evalnewton(c,x,t::Number)\n",
    "    p=c[end]\n",
    "    for i=length(c)-1:-1:1\n",
    "        p=p*(t-x[i])+c[i]\n",
    "    end\n",
    "    p\n",
    "end"
   ]
  },
  {
   "cell_type": "code",
   "execution_count": 18,
   "metadata": {
    "collapsed": false
   },
   "outputs": [],
   "source": [
    "pN=Array(Float64,length(xx))\n",
    "for i=1:length(xx)\n",
    "    pN[i]=evalnewton(c,x,xx[i])\n",
    "end"
   ]
  },
  {
   "cell_type": "code",
   "execution_count": 19,
   "metadata": {
    "collapsed": false
   },
   "outputs": [
    {
     "data": {
      "image/png": "[encoded data removed]",
      "text/plain": [
       "Winston.FramedPlot(...)"
      ]
     },
     "execution_count": 19,
     "metadata": {},
     "output_type": "execute_result"
    }
   ],
   "source": [
    "plot(x,y,\"r*\",xx,pN)"
   ]
  },
  {
   "cell_type": "code",
   "execution_count": 20,
   "metadata": {
    "collapsed": false
   },
   "outputs": [
    {
     "data": {
      "text/plain": [
       "2.923131537201598e-11"
      ]
     },
     "execution_count": 20,
     "metadata": {},
     "output_type": "execute_result"
    }
   ],
   "source": [
    "norm(abs(pS-pN)./abs(pN),Inf)"
   ]
  },
  {
   "cell_type": "code",
   "execution_count": 21,
   "metadata": {
    "collapsed": false
   },
   "outputs": [
    {
     "data": {
      "text/plain": [
       "2.3442688004117552e-14"
      ]
     },
     "execution_count": 21,
     "metadata": {},
     "output_type": "execute_result"
    }
   ],
   "source": [
    "norm(abs(pL-pN)./abs(pN),Inf)"
   ]
  },
  {
   "cell_type": "markdown",
   "metadata": {},
   "source": [
    "> Vidimo da su `pN` i `pL` bliže jedan drugome nego `pS` pa zaključujemo da su zaista točniji. "
   ]
  }
 ],
 "metadata": {
  "kernelspec": {
   "display_name": "Julia 0.4.0",
   "language": "julia",
   "name": "julia-0.4"
  },
  "language_info": {
   "file_extension": ".jl",
   "mimetype": "application/julia",
   "name": "julia",
   "version": "0.4.0"
  }
 },
 "nbformat": 4,
 "nbformat_minor": 0
}
