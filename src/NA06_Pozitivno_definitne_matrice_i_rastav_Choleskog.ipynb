{
 "cells": [
  {
   "cell_type": "markdown",
   "metadata": {},
   "source": [
    "# Pozitivno definitne matrice i rastav Choleskog\n",
    "\n",
    "Matrica $A$ je _pozitivno definitna_ ako je simetrična i ako su sve njene svojstvene vrijednosti pozitivne.\n",
    "\n",
    "Pozitivno definitnu matricu možemo rastaviti (bez pivotiranja) kao\n",
    "\n",
    "$$\n",
    "A=L L^T\n",
    "$$\n",
    "pri čemu je $L$ donje trokutasta matrica s pozitivnim dijagonalnim elementima. Taj rastav se zove\n",
    "_rastav Choleskog_."
   ]
  },
  {
   "cell_type": "code",
   "execution_count": 1,
   "metadata": {
    "collapsed": false
   },
   "outputs": [
    {
     "data": {
      "text/plain": [
       "mychol (generic function with 1 method)"
      ]
     },
     "execution_count": 1,
     "metadata": {},
     "output_type": "execute_result"
    }
   ],
   "source": [
    "function mychol{T}(A1::Array{T})\n",
    "    A=deepcopy(A1)\n",
    "    n,m=size(A)\n",
    "    for k=1:n\n",
    "        A[k,k]=sqrt(A[k,k])\n",
    "        for j=k+1:n\n",
    "            A[k,j]=A[k,j]/A[k,k]\n",
    "        end\n",
    "        for j=k+1:n\n",
    "            for i=k+1:n\n",
    "                A[i,j]=A[i,j]-A[k,i]*A[k,j]\n",
    "            end\n",
    "        end\n",
    "    end\n",
    "    triu(A)\n",
    "end"
   ]
  },
  {
   "cell_type": "code",
   "execution_count": 2,
   "metadata": {
    "collapsed": false
   },
   "outputs": [
    {
     "data": {
      "text/plain": [
       "6x6 Array{Float64,2}:\n",
       " 2.27596  1.75372  2.16915  2.06448  2.13687  2.40003\n",
       " 1.75372  1.76938  1.99258  1.97084  1.4481   1.82255\n",
       " 2.16915  1.99258  2.55911  2.20324  1.97416  2.24365\n",
       " 2.06448  1.97084  2.20324  2.78272  2.01178  2.23034\n",
       " 2.13687  1.4481   1.97416  2.01178  2.36353  2.17292\n",
       " 2.40003  1.82255  2.24365  2.23034  2.17292  2.71307"
      ]
     },
     "execution_count": 2,
     "metadata": {},
     "output_type": "execute_result"
    }
   ],
   "source": [
    "A=rand(6,6)\n",
    "A=A*A'"
   ]
  },
  {
   "cell_type": "code",
   "execution_count": 3,
   "metadata": {
    "collapsed": false
   },
   "outputs": [
    {
     "data": {
      "text/plain": [
       "6x6 UpperTriangular{Float64,Array{Float64,2}}:\n",
       " 1.50863  1.16246   1.43783    1.36845    1.41643    1.59087  \n",
       " 0.0      0.646585  0.496717   0.587816  -0.306907  -0.0413964\n",
       " 0.0      0.0       0.495007  -0.113806   0.181841  -0.0468344\n",
       " 0.0      0.0       0.0        0.742689   0.36968    0.0973763\n",
       " 0.0      0.0       0.0        0.0        0.305488  -0.394881 \n",
       " 0.0      0.0       0.0        0.0        0.0        0.113486 "
      ]
     },
     "execution_count": 3,
     "metadata": {},
     "output_type": "execute_result"
    }
   ],
   "source": [
    "L=chol(A)"
   ]
  },
  {
   "cell_type": "code",
   "execution_count": 4,
   "metadata": {
    "collapsed": false
   },
   "outputs": [
    {
     "data": {
      "text/plain": [
       "6x6 Array{Float64,2}:\n",
       " 0.0  0.0  0.0  0.0  0.0          0.0        \n",
       " 0.0  0.0  0.0  0.0  0.0          0.0        \n",
       " 0.0  0.0  0.0  0.0  0.0          0.0        \n",
       " 0.0  0.0  0.0  0.0  0.0          0.0        \n",
       " 0.0  0.0  0.0  0.0  0.0          4.44089e-16\n",
       " 0.0  0.0  0.0  0.0  4.44089e-16  0.0        "
      ]
     },
     "execution_count": 4,
     "metadata": {},
     "output_type": "execute_result"
    }
   ],
   "source": [
    "L'*L-A"
   ]
  },
  {
   "cell_type": "code",
   "execution_count": 5,
   "metadata": {
    "collapsed": false
   },
   "outputs": [
    {
     "data": {
      "text/plain": [
       "6x6 Array{Float64,2}:\n",
       " 1.50863  1.16246   1.43783    1.36845    1.41643    1.59087  \n",
       " 0.0      0.646585  0.496717   0.587816  -0.306907  -0.0413964\n",
       " 0.0      0.0       0.495007  -0.113806   0.181841  -0.0468344\n",
       " 0.0      0.0       0.0        0.742689   0.36968    0.0973763\n",
       " 0.0      0.0       0.0        0.0        0.305488  -0.394881 \n",
       " 0.0      0.0       0.0        0.0        0.0        0.113486 "
      ]
     },
     "execution_count": 5,
     "metadata": {},
     "output_type": "execute_result"
    }
   ],
   "source": [
    "L1=mychol(A)"
   ]
  },
  {
   "cell_type": "code",
   "execution_count": 6,
   "metadata": {
    "collapsed": false
   },
   "outputs": [
    {
     "data": {
      "text/plain": [
       "6x6 Array{Float64,2}:\n",
       " 0.0  0.0  0.0   0.0          0.0  0.0\n",
       " 0.0  0.0  0.0   0.0          0.0  0.0\n",
       " 0.0  0.0  0.0   0.0          0.0  0.0\n",
       " 0.0  0.0  0.0  -4.44089e-16  0.0  0.0\n",
       " 0.0  0.0  0.0   0.0          0.0  0.0\n",
       " 0.0  0.0  0.0   0.0          0.0  0.0"
      ]
     },
     "execution_count": 6,
     "metadata": {},
     "output_type": "execute_result"
    }
   ],
   "source": [
    "L1'*L1-A"
   ]
  },
  {
   "cell_type": "code",
   "execution_count": null,
   "metadata": {
    "collapsed": true
   },
   "outputs": [],
   "source": []
  }
 ],
 "metadata": {
  "kernelspec": {
   "display_name": "Julia 0.4.0",
   "language": "julia",
   "name": "julia-0.4"
  },
  "language_info": {
   "file_extension": ".jl",
   "mimetype": "application/julia",
   "name": "julia",
   "version": "0.4.0"
  }
 },
 "nbformat": 4,
 "nbformat_minor": 0
}
