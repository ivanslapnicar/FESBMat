{
 "cells": [
  {
   "cell_type": "markdown",
   "metadata": {},
   "source": [
    "# Pozitivno definitne matrice i rastav Choleskog\n",
    "---\n",
    "\n",
    "Matrica $A$ je __pozitivno definitna__ ako je simetrična i ako su sve njene svojstvene vrijednosti pozitivne.\n",
    "\n",
    "Pozitivno definitnu matricu možemo rastaviti (bez pivotiranja) kao\n",
    "\n",
    "$$\n",
    "A=L L^T\n",
    "$$\n",
    "pri čemu je $L$ donje trokutasta matrica s pozitivnim dijagonalnim elementima. Taj rastav se zove\n",
    "__rastav Choleskog__ (vidi [Numerička matematika, poglavlje 3.6][RS04]).\n",
    "\n",
    "[RS04]: http://www.mathos.unios.hr/pim/Materijali/Num.pdf \"R. Scitovski, 'Numerička matematika', Sveučilište u Osijeku, Osijek, 2004.\""
   ]
  },
  {
   "cell_type": "code",
   "execution_count": 1,
   "metadata": {
    "collapsed": false
   },
   "outputs": [
    {
     "data": {
      "text/plain": [
       "mychol (generic function with 1 method)"
      ]
     },
     "execution_count": 1,
     "metadata": {},
     "output_type": "execute_result"
    }
   ],
   "source": [
    "function mychol{T}(A1::Array{T})\n",
    "    A=deepcopy(A1)\n",
    "    n,m=size(A)\n",
    "    for k=1:n\n",
    "        A[k,k]=sqrt(A[k,k])\n",
    "        for j=k+1:n\n",
    "            A[k,j]=A[k,j]/A[k,k]\n",
    "        end\n",
    "        for j=k+1:n\n",
    "            for i=k+1:n\n",
    "                A[i,j]=A[i,j]-A[k,i]*A[k,j]\n",
    "            end\n",
    "        end\n",
    "    end\n",
    "    triu(A)\n",
    "end"
   ]
  },
  {
   "cell_type": "code",
   "execution_count": 2,
   "metadata": {
    "collapsed": false
   },
   "outputs": [
    {
     "data": {
      "text/plain": [
       "6×6 Array{Float64,2}:\n",
       " 2.58201  2.34413   1.0551    2.24169   2.35072   1.87749\n",
       " 2.34413  2.47086   0.916599  2.22163   2.68396   1.42374\n",
       " 1.0551   0.916599  0.933127  0.796772  0.740676  1.19905\n",
       " 2.24169  2.22163   0.796772  2.59803   2.55457   1.64284\n",
       " 2.35072  2.68396   0.740676  2.55457   3.46668   1.34415\n",
       " 1.87749  1.42374   1.19905   1.64284   1.34415   2.1138 "
      ]
     },
     "execution_count": 2,
     "metadata": {},
     "output_type": "execute_result"
    }
   ],
   "source": [
    "A=rand(6,6)\n",
    "A=A*A'"
   ]
  },
  {
   "cell_type": "code",
   "execution_count": 3,
   "metadata": {
    "collapsed": false
   },
   "outputs": [
    {
     "data": {
      "text/plain": [
       "6×6 UpperTriangular{Float64,Array{Float64,2}}:\n",
       " 1.60686  1.45882    0.656622    1.39507    1.46292    1.16842 \n",
       "  ⋅       0.585396  -0.0705463   0.318528   0.939215  -0.47964 \n",
       "  ⋅        ⋅         0.704981   -0.137298  -0.217955   0.564556\n",
       "  ⋅        ⋅          ⋅          0.729033   0.2532     0.333459\n",
       "  ⋅        ⋅          ⋅           ⋅         0.576885   0.214857\n",
       "  ⋅        ⋅          ⋅           ⋅          ⋅         0.206076"
      ]
     },
     "execution_count": 3,
     "metadata": {},
     "output_type": "execute_result"
    }
   ],
   "source": [
    "L=chol(A)"
   ]
  },
  {
   "cell_type": "code",
   "execution_count": 4,
   "metadata": {
    "collapsed": false
   },
   "outputs": [
    {
     "data": {
      "text/plain": [
       "6×6 Array{Float64,2}:\n",
       "  0.0          0.0  0.0  0.0  0.0  -2.22045e-16\n",
       "  0.0          0.0  0.0  0.0  0.0   0.0        \n",
       "  0.0          0.0  0.0  0.0  0.0   0.0        \n",
       "  0.0          0.0  0.0  0.0  0.0   0.0        \n",
       "  0.0          0.0  0.0  0.0  0.0   0.0        \n",
       " -2.22045e-16  0.0  0.0  0.0  0.0   0.0        "
      ]
     },
     "execution_count": 4,
     "metadata": {},
     "output_type": "execute_result"
    }
   ],
   "source": [
    "L'*L-A"
   ]
  },
  {
   "cell_type": "code",
   "execution_count": 5,
   "metadata": {
    "collapsed": false
   },
   "outputs": [
    {
     "data": {
      "text/plain": [
       "6×6 Array{Float64,2}:\n",
       " 1.60686  1.45882    0.656622    1.39507    1.46292    1.16842 \n",
       " 0.0      0.585396  -0.0705463   0.318528   0.939215  -0.47964 \n",
       " 0.0      0.0        0.704981   -0.137298  -0.217955   0.564556\n",
       " 0.0      0.0        0.0         0.729033   0.2532     0.333459\n",
       " 0.0      0.0        0.0         0.0        0.576885   0.214857\n",
       " 0.0      0.0        0.0         0.0        0.0        0.206076"
      ]
     },
     "execution_count": 5,
     "metadata": {},
     "output_type": "execute_result"
    }
   ],
   "source": [
    "L1=mychol(A)"
   ]
  },
  {
   "cell_type": "code",
   "execution_count": 6,
   "metadata": {
    "collapsed": false
   },
   "outputs": [
    {
     "data": {
      "text/plain": [
       "6×6 Array{Float64,2}:\n",
       "  0.0          0.0   0.0           0.0           0.0          -2.22045e-16\n",
       "  0.0          0.0   0.0           0.0           0.0           0.0        \n",
       "  0.0          0.0   1.11022e-16   0.0          -1.11022e-16   0.0        \n",
       "  0.0          0.0   0.0           4.44089e-16  -4.44089e-16   0.0        \n",
       "  0.0          0.0  -1.11022e-16  -4.44089e-16   0.0           2.22045e-16\n",
       " -2.22045e-16  0.0   0.0           0.0           2.22045e-16   0.0        "
      ]
     },
     "execution_count": 6,
     "metadata": {},
     "output_type": "execute_result"
    }
   ],
   "source": [
    "L1'*L1-A"
   ]
  },
  {
   "cell_type": "code",
   "execution_count": null,
   "metadata": {
    "collapsed": true
   },
   "outputs": [],
   "source": []
  }
 ],
 "metadata": {
  "anaconda-cloud": {},
  "kernelspec": {
   "display_name": "Julia 0.5.0",
   "language": "julia",
   "name": "julia-0.5"
  },
  "language_info": {
   "file_extension": ".jl",
   "mimetype": "application/julia",
   "name": "julia",
   "version": "0.5.0"
  }
 },
 "nbformat": 4,
 "nbformat_minor": 0
}
