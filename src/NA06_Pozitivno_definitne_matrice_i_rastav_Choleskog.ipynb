{
 "cells": [
  {
   "cell_type": "markdown",
   "metadata": {},
   "source": [
    "# Pozitivno definitne matrice i rastav Choleskog\n",
    "---\n",
    "\n",
    "Matrica $A$ je __pozitivno definitna__ ako je simetrična i ako su sve njene svojstvene vrijednosti pozitivne.\n",
    "\n",
    "Pozitivno definitnu matricu možemo rastaviti (bez pivotiranja) kao\n",
    "\n",
    "$$\n",
    "A=L L^T\n",
    "$$\n",
    "pri čemu je $L$ donje trokutasta matrica s pozitivnim dijagonalnim elementima. Taj rastav se zove\n",
    "__rastav Choleskog__ (vidi [Numerička matematika, poglavlje 3.6][RS04]).\n",
    "\n",
    "[RS04]: http://www.mathos.unios.hr/pim/Materijali/Num.pdf \"R. Scitovski, 'Numerička matematika', Sveučilište u Osijeku, Osijek, 2004.\""
   ]
  },
  {
   "cell_type": "code",
   "execution_count": 1,
   "metadata": {
    "collapsed": false
   },
   "outputs": [
    {
     "data": {
      "text/plain": [
       "mychol (generic function with 1 method)"
      ]
     },
     "execution_count": 1,
     "metadata": {},
     "output_type": "execute_result"
    }
   ],
   "source": [
    "function mychol{T}(A1::Array{T})\n",
    "    A=deepcopy(A1)\n",
    "    n,m=size(A)\n",
    "    for k=1:n\n",
    "        A[k,k]=sqrt(A[k,k])\n",
    "        for j=k+1:n\n",
    "            A[k,j]=A[k,j]/A[k,k]\n",
    "        end\n",
    "        for j=k+1:n\n",
    "            for i=k+1:n\n",
    "                A[i,j]=A[i,j]-A[k,i]*A[k,j]\n",
    "            end\n",
    "        end\n",
    "    end\n",
    "    triu(A)\n",
    "end"
   ]
  },
  {
   "cell_type": "code",
   "execution_count": 2,
   "metadata": {
    "collapsed": false
   },
   "outputs": [
    {
     "data": {
      "text/plain": [
       "6×6 Array{Float64,2}:\n",
       " 1.59473   0.936943  1.35893  1.40939  1.51544  2.05329\n",
       " 0.936943  2.20955   1.59778  1.71958  1.3375   2.34744\n",
       " 1.35893   1.59778   1.80115  2.12568  1.62636  2.55724\n",
       " 1.40939   1.71958   2.12568  2.7777   1.99577  2.98319\n",
       " 1.51544   1.3375    1.62636  1.99577  2.0431   2.63811\n",
       " 2.05329   2.34744   2.55724  2.98319  2.63811  3.98811"
      ]
     },
     "execution_count": 2,
     "metadata": {},
     "output_type": "execute_result"
    }
   ],
   "source": [
    "A=rand(6,6)\n",
    "A=A*A'"
   ]
  },
  {
   "cell_type": "code",
   "execution_count": 3,
   "metadata": {
    "collapsed": false
   },
   "outputs": [
    {
     "data": {
      "text/plain": [
       "6×6 UpperTriangular{Float64,Array{Float64,2}}:\n",
       " 1.26283  0.741941  1.0761    1.11606   1.20004   1.62595 \n",
       "  ⋅       1.28805   0.620614  0.692153  0.347149  0.885898\n",
       "  ⋅        ⋅        0.50793   0.974788  0.235381  0.507462\n",
       "  ⋅        ⋅         ⋅        0.32066   0.582316  0.189265\n",
       "  ⋅        ⋅         ⋅         ⋅        0.296659  0.504685\n",
       "  ⋅        ⋅         ⋅         ⋅         ⋅        0.107435"
      ]
     },
     "execution_count": 3,
     "metadata": {},
     "output_type": "execute_result"
    }
   ],
   "source": [
    "L=chol(A)"
   ]
  },
  {
   "cell_type": "code",
   "execution_count": 4,
   "metadata": {
    "collapsed": false
   },
   "outputs": [
    {
     "data": {
      "text/plain": [
       "6×6 Array{Float64,2}:\n",
       " -2.22045e-16  0.0  0.0  0.0   0.0           0.0        \n",
       "  0.0          0.0  0.0  0.0   0.0           0.0        \n",
       "  0.0          0.0  0.0  0.0   0.0           0.0        \n",
       "  0.0          0.0  0.0  0.0   0.0           0.0        \n",
       "  0.0          0.0  0.0  0.0   0.0          -4.44089e-16\n",
       "  0.0          0.0  0.0  0.0  -4.44089e-16   0.0        "
      ]
     },
     "execution_count": 4,
     "metadata": {},
     "output_type": "execute_result"
    }
   ],
   "source": [
    "L'*L-A"
   ]
  },
  {
   "cell_type": "code",
   "execution_count": 5,
   "metadata": {
    "collapsed": false
   },
   "outputs": [
    {
     "data": {
      "text/plain": [
       "6×6 Array{Float64,2}:\n",
       " 1.26283  0.741941  1.0761    1.11606   1.20004   1.62595 \n",
       " 0.0      1.28805   0.620614  0.692153  0.347149  0.885898\n",
       " 0.0      0.0       0.50793   0.974788  0.235381  0.507462\n",
       " 0.0      0.0       0.0       0.32066   0.582316  0.189265\n",
       " 0.0      0.0       0.0       0.0       0.296659  0.504685\n",
       " 0.0      0.0       0.0       0.0       0.0       0.107435"
      ]
     },
     "execution_count": 5,
     "metadata": {},
     "output_type": "execute_result"
    }
   ],
   "source": [
    "L1=mychol(A)"
   ]
  },
  {
   "cell_type": "code",
   "execution_count": 6,
   "metadata": {
    "collapsed": false
   },
   "outputs": [
    {
     "data": {
      "text/plain": [
       "6×6 Array{Float64,2}:\n",
       " -2.22045e-16  0.0  0.0  0.0  0.0  0.0\n",
       "  0.0          0.0  0.0  0.0  0.0  0.0\n",
       "  0.0          0.0  0.0  0.0  0.0  0.0\n",
       "  0.0          0.0  0.0  0.0  0.0  0.0\n",
       "  0.0          0.0  0.0  0.0  0.0  0.0\n",
       "  0.0          0.0  0.0  0.0  0.0  0.0"
      ]
     },
     "execution_count": 6,
     "metadata": {},
     "output_type": "execute_result"
    }
   ],
   "source": [
    "L1'*L1-A"
   ]
  },
  {
   "cell_type": "code",
   "execution_count": null,
   "metadata": {
    "collapsed": true
   },
   "outputs": [],
   "source": []
  }
 ],
 "metadata": {
  "anaconda-cloud": {},
  "kernelspec": {
   "display_name": "Julia 0.5.1",
   "language": "julia",
   "name": "julia-0.5"
  },
  "language_info": {
   "file_extension": ".jl",
   "mimetype": "application/julia",
   "name": "julia",
   "version": "0.5.1"
  }
 },
 "nbformat": 4,
 "nbformat_minor": 0
}
