{
 "cells": [
  {
   "cell_type": "markdown",
   "metadata": {},
   "source": [
    "# Pozitivno definitne matrice i rastav Choleskog\n",
    "\n",
    "Matrica $A$ je _pozitivno definitna_ ako je simetrična i ako su sve njene svojstvene vrijednosti pozitivne.\n",
    "\n",
    "Pozitivno definitnu matricu možemo rastaviti (bez pivotiranja) kao\n",
    "\n",
    "$$\n",
    "A=L L^T\n",
    "$$\n",
    "pri čemu je $L$ donje trokutasta matrica s pozitivnim dijagonalnim elementima. Taj rastav se zove\n",
    "_rastav Choleskog_."
   ]
  },
  {
   "cell_type": "code",
   "execution_count": 1,
   "metadata": {
    "collapsed": false
   },
   "outputs": [
    {
     "data": {
      "text/plain": [
       "mychol (generic function with 1 method)"
      ]
     },
     "execution_count": 1,
     "metadata": {},
     "output_type": "execute_result"
    }
   ],
   "source": [
    "function mychol{T}(A1::Array{T})\n",
    "    A=deepcopy(A1)\n",
    "    n,m=size(A)\n",
    "    for k=1:n\n",
    "        A[k,k]=sqrt(A[k,k])\n",
    "        for j=k+1:n\n",
    "            A[k,j]=A[k,j]/A[k,k]\n",
    "        end\n",
    "        for j=k+1:n\n",
    "            for i=k+1:n\n",
    "                A[i,j]=A[i,j]-A[k,i]*A[k,j]\n",
    "            end\n",
    "        end\n",
    "    end\n",
    "    triu(A)\n",
    "end"
   ]
  },
  {
   "cell_type": "code",
   "execution_count": 2,
   "metadata": {
    "collapsed": false
   },
   "outputs": [
    {
     "data": {
      "text/plain": [
       "6x6 Array{Float64,2}:\n",
       " 1.62343  0.8285   1.06689  1.42942  1.66858  1.04927\n",
       " 0.8285   1.7231   1.76347  1.87654  2.19271  1.2316 \n",
       " 1.06689  1.76347  3.02685  1.91355  3.1048   1.24291\n",
       " 1.42942  1.87654  1.91355  2.39165  2.74931  1.66448\n",
       " 1.66858  2.19271  3.1048   2.74931  4.10963  1.96676\n",
       " 1.04927  1.2316   1.24291  1.66448  1.96676  1.28146"
      ]
     },
     "execution_count": 2,
     "metadata": {},
     "output_type": "execute_result"
    }
   ],
   "source": [
    "A=rand(6,6)\n",
    "A=A*A'"
   ]
  },
  {
   "cell_type": "code",
   "execution_count": 3,
   "metadata": {
    "collapsed": false
   },
   "outputs": [
    {
     "data": {
      "text/plain": [
       "6x6 UpperTriangular{Float64,Array{Float64,2}}:\n",
       " 1.27414  0.650243  0.837347   1.12187    1.30957    0.823511\n",
       " 0.0      1.1403    1.06901    1.00592    1.17615    0.610467\n",
       " 0.0      0.0       1.08762   -0.0930278  0.690422  -0.091252\n",
       " 0.0      0.0       0.0        0.335447   0.480712   0.351878\n",
       " 0.0      0.0       0.0        0.0        0.550953   0.116459\n",
       " 0.0      0.0       0.0        0.0        0.0        0.291396"
      ]
     },
     "execution_count": 3,
     "metadata": {},
     "output_type": "execute_result"
    }
   ],
   "source": [
    "L=chol(A)"
   ]
  },
  {
   "cell_type": "code",
   "execution_count": 4,
   "metadata": {
    "collapsed": false
   },
   "outputs": [
    {
     "data": {
      "text/plain": [
       "6x6 Array{Float64,2}:\n",
       " 2.22045e-16  0.0           0.0          …  2.22045e-16  0.0        \n",
       " 0.0          2.22045e-16   0.0             0.0          0.0        \n",
       " 0.0          0.0          -4.44089e-16     0.0          0.0        \n",
       " 2.22045e-16  0.0           0.0             0.0          0.0        \n",
       " 2.22045e-16  0.0           0.0             8.88178e-16  2.22045e-16\n",
       " 0.0          0.0           0.0          …  2.22045e-16  0.0        "
      ]
     },
     "execution_count": 4,
     "metadata": {},
     "output_type": "execute_result"
    }
   ],
   "source": [
    "L'*L-A"
   ]
  },
  {
   "cell_type": "code",
   "execution_count": 5,
   "metadata": {
    "collapsed": false
   },
   "outputs": [
    {
     "data": {
      "text/plain": [
       "6x6 Array{Float64,2}:\n",
       " 1.27414  0.650243  0.837347   1.12187    1.30957    0.823511\n",
       " 0.0      1.1403    1.06901    1.00592    1.17615    0.610467\n",
       " 0.0      0.0       1.08762   -0.0930278  0.690422  -0.091252\n",
       " 0.0      0.0       0.0        0.335447   0.480712   0.351878\n",
       " 0.0      0.0       0.0        0.0        0.550953   0.116459\n",
       " 0.0      0.0       0.0        0.0        0.0        0.291396"
      ]
     },
     "execution_count": 5,
     "metadata": {},
     "output_type": "execute_result"
    }
   ],
   "source": [
    "L1=mychol(A)"
   ]
  },
  {
   "cell_type": "code",
   "execution_count": 6,
   "metadata": {
    "collapsed": false
   },
   "outputs": [
    {
     "data": {
      "text/plain": [
       "6x6 Array{Float64,2}:\n",
       " 2.22045e-16  0.0           0.0          …  2.22045e-16   0.0        \n",
       " 0.0          2.22045e-16   0.0             0.0           0.0        \n",
       " 0.0          0.0          -4.44089e-16     0.0           0.0        \n",
       " 2.22045e-16  0.0           0.0             0.0           0.0        \n",
       " 2.22045e-16  0.0           0.0             0.0           0.0        \n",
       " 0.0          0.0           0.0          …  0.0          -2.22045e-16"
      ]
     },
     "execution_count": 6,
     "metadata": {},
     "output_type": "execute_result"
    }
   ],
   "source": [
    "L1'*L1-A"
   ]
  },
  {
   "cell_type": "code",
   "execution_count": null,
   "metadata": {
    "collapsed": true
   },
   "outputs": [],
   "source": []
  }
 ],
 "metadata": {
  "kernelspec": {
   "display_name": "Julia 0.4.0",
   "language": "julia",
   "name": "julia-0.4"
  },
  "language_info": {
   "file_extension": ".jl",
   "mimetype": "application/julia",
   "name": "julia",
   "version": "0.4.0"
  }
 },
 "nbformat": 4,
 "nbformat_minor": 0
}
