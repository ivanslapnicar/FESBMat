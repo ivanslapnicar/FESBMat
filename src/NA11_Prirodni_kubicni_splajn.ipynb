{
 "cells": [
  {
   "cell_type": "markdown",
   "metadata": {},
   "source": [
    "# Prirodni kubični splajn\n",
    "---\n",
    "\n",
    "Neka je zadana funkcija $f(x)$ na intervalu $[a,b]$.\n",
    "\n",
    "Odaberimo $n+1$ točku \n",
    "\n",
    "$$\n",
    "a\\equiv x_0<x_1<x_2<\\cdots <x_n\\equiv b\n",
    "$$ \n",
    "\n",
    "i izračunajmo vrijednosti \n",
    "\n",
    "$$\n",
    "y_i=f(x_i), \\quad i=0,1,\\ldots,n.\n",
    "$$\n",
    " \n",
    "Na intervalu $[x_{i-1},x_i]$ funkciju $f$ aproksimiramo kubičnim polinomom $C_i$, gdje je $i=1,2,\\ldots,n$, \n",
    "tako da je na intervalu $[a,b]$ funkcija $f$ aproksimirana funkcijom \n",
    "\n",
    "$$\n",
    "C(x)=C_i(x), \\quad x\\in[x_{i-1},x_i]\n",
    "$$\n",
    "\n",
    "Od funkcije $C(x)$ tražimo \n",
    "\n",
    "* __neprekidnost__,\n",
    "* __neprekidnost prve derivacije__ i\n",
    "* __neprekidnost druge derivacije__.\n",
    "\n",
    "Dakle,\n",
    "\n",
    "$$\n",
    "C_i(x_{i-1})=y_{i-1}, \\quad i=1,\\ldots,n, \\\\\n",
    "C_i(x_{i})=y_{i} \\quad i=1,\\ldots, n,\\\\\n",
    "C'_i(x_i)=C'_{i+1}(x_i), \\quad i=1,\\ldots,n-1, \\\\\n",
    "C''_i(x_i)=C''_{i+1}(x_i), \\quad i=1,\\ldots,n-1. \n",
    "$$ \n",
    "\n",
    "> Imamo sustav od $4n-2$ jednadžbe i $4n$ nepoznanica (svaki od $n$ polinoma ima 4 koeficijenta).\n",
    "\n",
    "Vrijede sljedeće tvrdnje:\n",
    "\n",
    "$$\n",
    "C_i(x)=y_{i-1}-s_{i-1}\\frac{h_i^2}{6}+b_i(x-x_{i-1})+\\frac{s_{i-1}}{6h_i}(x_i-x)^3\n",
    "+\\frac{s_i}{6h_i}(x-x_{i-1})^3,\n",
    "$$\n",
    "\n",
    "gdje je \n",
    "\n",
    "$$\n",
    "b_i=d_i-(s_i-s_{i-1})\\frac{h_i}{6},\\\\\n",
    "d_i=\\frac{y_i-y_{i-1}}{h_i},\\\\\n",
    "h_i=x_i-x_{i-1},\n",
    "$$\n",
    "\n",
    "a brojevi $s_i$, $i=0,1,\\ldots,n$ zadovoljavaju sustav jednadžbi \n",
    "\n",
    "$$\n",
    "s_{i-1}h_i+2s_i(h_i+h_{i+1})+s_{i+1}h_{i+1}=6(d_{i+1}-d_i),\\quad i=1,\\ldots,n-1.\n",
    "$$\n",
    "\n",
    "> Ukoliko zadamo $s_0$ i $s_n$, tada sustav ima __jedinstveno__ rješenje. \n",
    "\n",
    "Najčešće se zadaju __prirodni uvjeti__ \n",
    "$$\n",
    "s_0=0, \\quad s_n=0.\n",
    "$$ \n",
    "\n",
    "U tom slučaju, $s_1,\\ldots,s_{n-1}$ su rješenja sustava\n",
    "\n",
    "$$\n",
    "\\begin{bmatrix} 2(h_1+h_2) & h_2 & 0 & \\cdots & 0 & 0 \\\\\n",
    "h_2 & 2(h_2+h_3) & h_3 & \\cdots & 0 & 0 \\\\\n",
    "0 & h_3 & 2(h_3+h_4) & \\cdots & 0 & 0 \\\\\n",
    "\\vdots & \\vdots & \\vdots & \\ddots & \\vdots & \\vdots \\\\\n",
    "0 & 0 & 0 & \\cdots & 2(h_{n-2}+h_{n-1}) & h_{n-1} \\\\\n",
    "0 & 0 & 0 & \\cdots & h_{n-1}  & 2(h_{n-1}+h_{n})\\\\\n",
    "\\end{bmatrix}\n",
    "\\begin{bmatrix}\n",
    "s_1\\\\ s_2 \\\\ s_3 \\\\ \\vdots \\\\ s_{n-2} \\\\ s_{n-1}\n",
    "\\end{bmatrix}\n",
    "=\n",
    "\\begin{bmatrix}\n",
    "6(d_2-d_1)\\\\\n",
    "6(d_3-d_2)\\\\\n",
    "6(d_4-d_3) \\\\\n",
    "\\vdots \\\\\n",
    "6(d_{n-1}-d_{n-2}\\\\\n",
    "6(d_n-d_{n-1})\n",
    "\\end{bmatrix}.\n",
    "$$\n",
    "\n",
    "Dokaz se nalazi u [Numerička matematika, str. 29][RS04].\n",
    "\n",
    "[RS04]: http://www.mathos.unios.hr/pim/Materijali/Num.pdf \"R. Scitovski, 'Numerička matematika', Sveučilište u Osijeku, Osijek, 2004.\"\n",
    "\n",
    "> Matrica sustava je _tridijagonalna i pozitivno definitna_ pa se sustav može riješiti metodom Choleskog (_bez pivotiranja_) u $O(n)$ operacija. \n",
    "\n",
    "\n",
    "\n",
    "Vrijede __ocjena pogreške__:\n",
    "\n",
    "$$\n",
    "\\max |f(x)-C(x)| \\leq \\frac{5}{384} \\max h_i^4 \\\\\n",
    "\\max |f'(x)-C'(x)| \\leq \\frac{1}{24} \\max h_i^3 \\\\\n",
    "\\max |f''(x)-C''(x)| \\leq \\frac{3}{8} \\max h_i^2. \n",
    "$$ \n",
    "\n",
    "> Ocjene se mogu promatrati i na svakom intervalu posebno."
   ]
  },
  {
   "cell_type": "markdown",
   "metadata": {},
   "source": [
    "## Primjer - Interpolacija slučajnih točaka"
   ]
  },
  {
   "cell_type": "code",
   "execution_count": 2,
   "metadata": {
    "collapsed": false
   },
   "outputs": [],
   "source": [
    "using Winston\n",
    "using SpecialMatrices\n",
    "using Polynomials"
   ]
  },
  {
   "cell_type": "code",
   "execution_count": 3,
   "metadata": {
    "collapsed": false
   },
   "outputs": [
    {
     "data": {
      "text/plain": [
       "4×4 SymTridiagonal{Float64}:\n",
       " 6.0  2.0   ⋅    ⋅ \n",
       " 2.0  6.0  1.0   ⋅ \n",
       "  ⋅   1.0  8.0  3.0\n",
       "  ⋅    ⋅   3.0  8.0"
      ]
     },
     "execution_count": 3,
     "metadata": {},
     "output_type": "execute_result"
    }
   ],
   "source": [
    "# Broj intervala\n",
    "n=5\n",
    "# x=sort(rand(n+1))\n",
    "# y=rand(n+1)\n",
    "x=[1.0,2,4,5,8,9]\n",
    "y=[-1.0,1,4,0,2,6]\n",
    "h=x[2:end]-x[1:end-1]\n",
    "d=(y[2:end]-y[1:end-1])./h\n",
    "H=SymTridiagonal(2*(h[1:end-1]+h[2:end]),h[2:end-1])"
   ]
  },
  {
   "cell_type": "code",
   "execution_count": 4,
   "metadata": {
    "collapsed": false
   },
   "outputs": [
    {
     "data": {
      "text/plain": [
       "6-element Array{Float64,1}:\n",
       "  0.0    \n",
       "  1.74766\n",
       " -6.74299\n",
       "  3.96262\n",
       "  1.01402\n",
       "  0.0    "
      ]
     },
     "execution_count": 4,
     "metadata": {},
     "output_type": "execute_result"
    }
   ],
   "source": [
    "b1=6*(d[2:end]-d[1:end-1])\n",
    "s=H\\b1\n",
    "s=[0;s;0]"
   ]
  },
  {
   "cell_type": "code",
   "execution_count": 5,
   "metadata": {
    "collapsed": false
   },
   "outputs": [
    {
     "data": {
      "text/plain": [
       "5-element Array{##2#4{Int64},1}:\n",
       " #2\n",
       " #2\n",
       " #2\n",
       " #2\n",
       " #2"
      ]
     },
     "execution_count": 5,
     "metadata": {},
     "output_type": "execute_result"
    }
   ],
   "source": [
    "# Definirajmo polinome\n",
    "b=d-(s[2:end]-s[1:end-1]).*h/6\n",
    "C=Array(Any,n)\n",
    "C=[xx-> y[i]-s[i]*h[i]^2/6+b[i]*(xx-x[i])+s[i]*(x[i+1]-xx)^3/(6*h[i])+s[i+1]*(xx-x[i])^3/(6*h[i]) for i=1:n]"
   ]
  },
  {
   "cell_type": "code",
   "execution_count": 6,
   "metadata": {
    "collapsed": false
   },
   "outputs": [],
   "source": [
    "# definirajmo točke za crtanje\n",
    "lsize=200\n",
    "xx=linspace(x[1],x[end],lsize)\n",
    "ySpline=Array(Float64,lsize)\n",
    "for i=1:lsize\n",
    "    for k=1:n\n",
    "        if xx[i]<=x[k+1]\n",
    "            ySpline[i]=C[k](xx[i])\n",
    "            break\n",
    "        end\n",
    "    end\n",
    "end"
   ]
  },
  {
   "cell_type": "code",
   "execution_count": 7,
   "metadata": {
    "collapsed": false
   },
   "outputs": [
    {
     "data": {
      "image/png": "[encoded data removed]",
      "text/plain": [
       "Winston.FramedPlot(...)"
      ]
     },
     "execution_count": 7,
     "metadata": {},
     "output_type": "execute_result"
    }
   ],
   "source": [
    "# Crtanje\n",
    "plot(x,y,\"r*\",xx,ySpline,\"b\")"
   ]
  },
  {
   "cell_type": "markdown",
   "metadata": {},
   "source": [
    "Usporedimo splajn s interpolacijskim polinomom:"
   ]
  },
  {
   "cell_type": "code",
   "execution_count": 8,
   "metadata": {
    "collapsed": false
   },
   "outputs": [
    {
     "name": "stderr",
     "output_type": "stream",
     "text": [
      "\n",
      "(process:19362): GLib-CRITICAL **: g_datalist_id_dup_data: assertion 'key_id != 0' failed\n"
     ]
    },
    {
     "data": {
      "image/png": "[encoded data removed]",
      "text/plain": [
       "Winston.FramedPlot(...)"
      ]
     },
     "execution_count": 8,
     "metadata": {},
     "output_type": "execute_result"
    }
   ],
   "source": [
    "A=Vandermonde(x)\n",
    "p=Poly(full(A)\\y)\n",
    "yPoly=polyval(p,xx)\n",
    "plot(x,y,\"r*\",xx,ySpline,\"b\",xx,yPoly,\"g\")"
   ]
  },
  {
   "cell_type": "markdown",
   "metadata": {},
   "source": [
    "Usporedimo splajn s interpolacijskim polinomom kada mijenjamo jednu točku:"
   ]
  },
  {
   "cell_type": "code",
   "execution_count": 10,
   "metadata": {
    "collapsed": false
   },
   "outputs": [],
   "source": [
    "using Interact"
   ]
  },
  {
   "cell_type": "code",
   "execution_count": 11,
   "metadata": {
    "collapsed": false
   },
   "outputs": [
    {
     "data": {
      "text/html": [],
      "text/plain": [
       "Interact.Slider{Float64}(Signal{Float64}(3.5, nactions=0),\"xp\",3.5,2.0:0.01:5.0,\".3f\",true)"
      ]
     },
     "metadata": {},
     "output_type": "display_data"
    },
    {
     "data": {
      "image/png": "[encoded data removed]",
      "text/plain": [
       "Winston.FramedPlot(...)"
      ]
     },
     "execution_count": 11,
     "metadata": {
      "comm_id": "790bf125-c43c-496e-b3ea-fc492112c820",
      "reactive": true
     },
     "output_type": "execute_result"
    }
   ],
   "source": [
    "# Traje duze!\n",
    "point=3\n",
    "xc=deepcopy(x)\n",
    "\n",
    "ySpline=Array(Float64,lsize)\n",
    "yPoly=Array(Float64,lsize)\n",
    "C=Array(Any,n)\n",
    "\n",
    "@manipulate for xp=xc[point-1]:0.01:xc[point+1]\n",
    "    xc[point]=xp\n",
    "    h=xc[2:end]-xc[1:end-1]\n",
    "    d=(y[2:end]-y[1:end-1])./h\n",
    "    H=SymTridiagonal(2*(h[1:end-1]+h[2:end]),h[2:end-1])\n",
    "    b1=6*(d[2:end]-d[1:end-1])\n",
    "    s=H\\b1\n",
    "    s=[0;s;0]\n",
    "    b=d-(s[2:end]-s[1:end-1]).*h/6\n",
    "    C=[xx-> y[i]-s[i]*h[i]^2/6+b[i]*(xx-xc[i])+s[i]*(xc[i+1]-xx)^3/(6*h[i])+s[i+1]*(xx-xc[i])^3/(6*h[i]) for i=1:n]\n",
    "    for i=1:lsize\n",
    "        for k=1:n\n",
    "            if xx[i]<=xc[k+1]\n",
    "                ySpline[i]=C[k](xx[i])\n",
    "                break\n",
    "            end\n",
    "        end\n",
    "    end\n",
    "    A=Vandermonde(xc)\n",
    "    p=Poly(full(A)\\y)\n",
    "    yPoly=polyval(p,xx)\n",
    "    plot(xc,y,\"r*\",xx,ySpline,\"b\",xx,yPoly,\"g\")\n",
    "end"
   ]
  },
  {
   "cell_type": "markdown",
   "metadata": {},
   "source": [
    "## Primjer - Interpolacija funkcije $\\sin(x)$"
   ]
  },
  {
   "cell_type": "code",
   "execution_count": 12,
   "metadata": {
    "collapsed": false
   },
   "outputs": [
    {
     "data": {
      "text/html": [],
      "text/plain": [
       "Interact.Slider{Float64}(Signal{Float64}(1.2483185307179587, nactions=0),\"xp\",1.2483185307179587,0.6283185307179586:0.01:1.8783185307179586,\".3f\",true)"
      ]
     },
     "metadata": {},
     "output_type": "display_data"
    },
    {
     "name": "stderr",
     "output_type": "stream",
     "text": [
      "\n",
      "(process:19362): GLib-CRITICAL **: g_datalist_id_dup_data: assertion 'key_id != 0' failed\n",
      "\n",
      "(process:19362): GLib-CRITICAL **: g_datalist_id_dup_data: assertion 'key_id != 0' failed\n",
      "\n",
      "(process:19362): GLib-CRITICAL **: g_datalist_id_dup_data: assertion 'key_id != 0' failed\n",
      "\n",
      "(process:19362): GLib-CRITICAL **: g_datalist_id_dup_data: assertion 'key_id != 0' failed\n"
     ]
    },
    {
     "data": {
      "image/png": "[encoded data removed]",
      "text/plain": [
       "Winston.FramedPlot(...)"
      ]
     },
     "execution_count": 12,
     "metadata": {
      "comm_id": "41b5d33a-8bbf-4445-91ae-711a99858e85",
      "reactive": true
     },
     "output_type": "execute_result"
    }
   ],
   "source": [
    "n=5\n",
    "a=0\n",
    "b=pi\n",
    "f(x)=sin(x)\n",
    "\n",
    "x=collect(linspace(a,b,n+1))\n",
    "y=f(x)\n",
    "lsize=200\n",
    "xx=collect(linspace(a,b,lsize))\n",
    "ySpline=Array(Float64,lsize)\n",
    "yPoly=Array(Float64,lsize)\n",
    "yFun=f(xx)\n",
    "\n",
    "point=3\n",
    "xc=deepcopy(x)\n",
    "yc=deepcopy(y)\n",
    "@manipulate for xp=xc[point-1]:0.01:xc[point+1]\n",
    "    # Splajn\n",
    "    xc[point]=xp\n",
    "    yc[point]=sin(xp)\n",
    "    h=xc[2:end]-xc[1:end-1]\n",
    "    d=(yc[2:end]-yc[1:end-1])./h\n",
    "    H=SymTridiagonal(2*(h[1:end-1]+h[2:end]),h[2:end-1])\n",
    "    b1=6*(d[2:end]-d[1:end-1])\n",
    "    s=H\\b1\n",
    "    s=[0;s;0]\n",
    "    b=d-(s[2:end]-s[1:end-1]).*h/6\n",
    "    C=Array{Any,n}\n",
    "    C=[xx-> yc[i]-s[i]*h[i]^2/6+b[i]*(xx-xc[i])+s[i]*(xc[i+1]-xx)^3/(6*h[i])+s[i+1]*(xx-xc[i])^3/(6*h[i]) for i=1:n]\n",
    "    for i=1:lsize\n",
    "        for k=1:n\n",
    "            if xx[i]<=xc[k+1]\n",
    "                ySpline[i]=C[k](xx[i])\n",
    "                break\n",
    "            end\n",
    "        end\n",
    "    end\n",
    "    \n",
    "    # Polinom\n",
    "    A=Vandermonde(xc)\n",
    "    p=Poly(full(A)\\yc)\n",
    "    yPoly=polyval(p,xx)\n",
    "    \n",
    "    plot(xc,yc,\"r*\",xx,ySpline,\"b\",xx,yPoly,\"g\",xx,yFun)\n",
    "    # Pogreske\n",
    "    # norm(ySpline[2:end-1]-yFun[2:end-1],Inf), norm((ySpline[2:end-1]-yFun[2:end-1])./yFun[2:end-1],Inf),\n",
    "    # norm(yPoly[2:end-1]-yFun[2:end-1],Inf), norm((yPoly[2:end-1]-yFun[2:end-1])./yFun[2:end-1],Inf)\n",
    "    \n",
    "end"
   ]
  },
  {
   "cell_type": "markdown",
   "metadata": {
    "collapsed": false
   },
   "source": [
    "## Primjer - Interpolacija funkcije $f(x)=1-|x-1|$, $x\\in[0,2]$"
   ]
  },
  {
   "cell_type": "code",
   "execution_count": 13,
   "metadata": {
    "collapsed": false
   },
   "outputs": [
    {
     "data": {
      "text/html": [],
      "text/plain": [
       "Interact.Slider{Float64}(Signal{Float64}(0.4, nactions=0),\"xp\",0.4,0.2:0.01:0.6,\".3f\",true)"
      ]
     },
     "metadata": {},
     "output_type": "display_data"
    },
    {
     "name": "stderr",
     "output_type": "stream",
     "text": [
      "WARNING: Method definition f(Any) in module Main at In[12]:4 overwritten at In[13]:4.\n"
     ]
    },
    {
     "data": {
      "image/png": "[encoded data removed]",
      "text/plain": [
       "Winston.FramedPlot(...)"
      ]
     },
     "execution_count": 13,
     "metadata": {
      "comm_id": "27bf9ab4-dbec-411f-8d40-30433189d1a5",
      "reactive": true
     },
     "output_type": "execute_result"
    }
   ],
   "source": [
    "n=10\n",
    "a=0\n",
    "b=2\n",
    "f(x)=1-abs(x-1)\n",
    "\n",
    "# Ravnomjerno raspoređene točke\n",
    "x=collect(linspace(a,b,n+1))\n",
    "y=f(x)\n",
    "lsize=200\n",
    "xx=collect(linspace(a,b,lsize))\n",
    "ySpline=Array(Float64,lsize)\n",
    "yPoly=Array(Float64,lsize)\n",
    "yFun=f(xx)\n",
    "\n",
    "point=3\n",
    "xc=deepcopy(x)\n",
    "yc=deepcopy(y)\n",
    "@manipulate for xp=xc[point-1]:0.01:xc[point+1]\n",
    "    # Splajn\n",
    "    xc[point]=xp\n",
    "    yc[point]=sin(xp)\n",
    "    h=xc[2:end]-xc[1:end-1]\n",
    "    d=(yc[2:end]-yc[1:end-1])./h\n",
    "    H=SymTridiagonal(2*(h[1:end-1]+h[2:end]),h[2:end-1])\n",
    "    b1=6*(d[2:end]-d[1:end-1])\n",
    "    s=H\\b1\n",
    "    s=[0;s;0]\n",
    "    b=d-(s[2:end]-s[1:end-1]).*h/6\n",
    "    C=Array{Any,n}\n",
    "    C=[xx-> yc[i]-s[i]*h[i]^2/6+b[i]*(xx-xc[i])+s[i]*(xc[i+1]-xx)^3/(6*h[i])+s[i+1]*(xx-xc[i])^3/(6*h[i]) for i=1:n]\n",
    "    for i=1:lsize\n",
    "        for k=1:n\n",
    "            if xx[i]<=xc[k+1]\n",
    "                ySpline[i]=C[k](xx[i])\n",
    "                break\n",
    "            end\n",
    "        end\n",
    "    end\n",
    "    \n",
    "    # Polinom\n",
    "    A=Vandermonde(xc)\n",
    "    p=Poly(full(A)\\yc)\n",
    "    yPoly=polyval(p,xx)\n",
    "    \n",
    "    plot(xc,yc,\"r*\",xx,ySpline,\"b\",xx,yPoly,\"g\",xx,yFun)\n",
    "end"
   ]
  },
  {
   "cell_type": "code",
   "execution_count": null,
   "metadata": {
    "collapsed": true
   },
   "outputs": [],
   "source": []
  }
 ],
 "metadata": {
  "anaconda-cloud": {},
  "kernelspec": {
   "display_name": "Julia 0.5.0",
   "language": "julia",
   "name": "julia-0.5"
  },
  "language_info": {
   "file_extension": ".jl",
   "mimetype": "application/julia",
   "name": "julia",
   "version": "0.5.0"
  },
  "widgets": {
   "state": {
    "1b8dd757-c0ea-4db3-a278-02cb67b41f4e": {
     "views": [
      {
       "cell_index": 14
      }
     ]
    },
    "2f1735d7-0d37-4190-b2d0-3bd92b1c0b8d": {
     "views": [
      {
       "cell_index": 12
      }
     ]
    },
    "5face50b-4ffc-41a7-a5ae-5ce3a04acaa0": {
     "views": [
      {
       "cell_index": 16
      }
     ]
    }
   },
   "version": "1.2.0"
  }
 },
 "nbformat": 4,
 "nbformat_minor": 0
}
