{
 "cells": [
  {
   "cell_type": "code",
   "execution_count": 2,
   "metadata": {
    "collapsed": false
   },
   "outputs": [
    {
     "data": {
      "text/html": [
       "<script charset=\"utf-8\">(function ($, undefined) {\n",
       "\n",
       "    function createElem(tag, attr, content) {\n",
       "\t// TODO: remove jQuery dependency\n",
       "\tvar el = $(\"<\" + tag + \"/>\").attr(attr);\n",
       "\tif (content) {\n",
       "\t    el.append(content);\n",
       "\t}\n",
       "\treturn el[0];\n",
       "    }\n",
       "\n",
       "    // A widget must expose an id field which identifies it to the backend,\n",
       "    // an elem attribute which is will be added to the DOM, and\n",
       "    // a getState() method which returns the value to be sent to the backend\n",
       "    // a sendUpdate() method which sends its current value to the backend\n",
       "    var Widget = {\n",
       "\tid: undefined,\n",
       "\telem: undefined,\n",
       "\tlabel: undefined,\n",
       "\tgetState: function () {\n",
       "\t    return this.elem.value;\n",
       "\t},\n",
       "\tsendUpdate: undefined\n",
       "    };\n",
       "\n",
       "    var Slider = function (typ, id, init) {\n",
       "\tvar attr = { type:  \"range\",\n",
       "\t\t     value: init.value,\n",
       "\t\t     min:   init.min,\n",
       "\t\t     max:   init.max,\n",
       "\t\t     step:  init.step },\n",
       "\t    elem = createElem(\"input\", attr),\n",
       "\t    self = this;\n",
       "\n",
       "\telem.onchange = function () {\n",
       "\t    self.sendUpdate();\n",
       "\t}\n",
       "\n",
       "\tthis.id = id;\n",
       "\tthis.elem = elem;\n",
       "\tthis.label = init.label;\n",
       "\n",
       "\tInputWidgets.commInitializer(this); // Initialize communication\n",
       "    }\n",
       "    Slider.prototype = Widget;\n",
       "\n",
       "    var Checkbox = function (typ, id, init) {\n",
       "\tvar attr = { type: \"checkbox\",\n",
       "\t\t     checked: init.value },\n",
       "\t    elem = createElem(\"input\", attr),\n",
       "\t    self = this;\n",
       "\n",
       "\tthis.getState = function () {\n",
       "\t    return elem.checked;\n",
       "\t}\n",
       "\telem.onchange = function () {\n",
       "\t    self.sendUpdate();\n",
       "\t}\n",
       "\n",
       "\tthis.id = id;\n",
       "\tthis.elem = elem;\n",
       "\tthis.label = init.label;\n",
       "\n",
       "\tInputWidgets.commInitializer(this);\n",
       "    }\n",
       "    Checkbox.prototype = Widget;\n",
       "\n",
       "    var Button = function (typ, id, init) {\n",
       "\tvar attr = { type:    \"button\",\n",
       "\t\t     value:   init.label },\n",
       "\t    elem = createElem(\"input\", attr),\n",
       "\t    self = this;\n",
       "\tthis.getState = function () {\n",
       "\t    return null;\n",
       "\t}\n",
       "\telem.onclick = function () {\n",
       "\t    self.sendUpdate();\n",
       "\t}\n",
       "\n",
       "\tthis.id = id;\n",
       "\tthis.elem = elem;\n",
       "\tthis.label = init.label;\n",
       "\n",
       "\tInputWidgets.commInitializer(this);\n",
       "    }\n",
       "    Button.prototype = Widget;\n",
       "\n",
       "    var Text = function (typ, id, init) {\n",
       "\tvar attr = { type:  \"text\",\n",
       "\t\t     placeholder: init.label,\n",
       "\t\t     value: init.value },\n",
       "\t    elem = createElem(\"input\", attr),\n",
       "\t    self = this;\n",
       "\tthis.getState = function () {\n",
       "\t    return elem.value;\n",
       "\t}\n",
       "\telem.onkeyup = function () {\n",
       "\t    self.sendUpdate();\n",
       "\t}\n",
       "\n",
       "\tthis.id = id;\n",
       "\tthis.elem = elem;\n",
       "\tthis.label = init.label;\n",
       "\n",
       "\tInputWidgets.commInitializer(this);\n",
       "    }\n",
       "    Text.prototype = Widget;\n",
       "\n",
       "    var Textarea = function (typ, id, init) {\n",
       "\tvar attr = { placeholder: init.label },\n",
       "\t    elem = createElem(\"textarea\", attr, init.value),\n",
       "\t    self = this;\n",
       "\tthis.getState = function () {\n",
       "\t    return elem.value;\n",
       "\t}\n",
       "\telem.onchange = function () {\n",
       "\t    self.sendUpdate();\n",
       "\t}\n",
       "\n",
       "\tthis.id = id;\n",
       "\tthis.elem = elem;\n",
       "\tthis.label = init.label;\n",
       "\n",
       "\tInputWidgets.commInitializer(this);\n",
       "    }\n",
       "    Textarea.prototype = Widget;\n",
       "\n",
       "    // RadioButtons\n",
       "    // Dropdown\n",
       "    // HTML\n",
       "    // Latex\n",
       "\n",
       "    var InputWidgets = {\n",
       "\tSlider: Slider,\n",
       "\tCheckbox: Checkbox,\n",
       "\tButton: Button,\n",
       "\tText: Text,\n",
       "\tTextarea: Textarea,\n",
       "\tdebug: false,\n",
       "\tlog: function () {\n",
       "\t    if (InputWidgets.debug) {\n",
       "\t\tconsole.log.apply(console, arguments);\n",
       "\t    }\n",
       "\t},\n",
       "\t// a central way to initalize communication\n",
       "\t// for widgets.\n",
       "\tcommInitializer: function (widget) {\n",
       "\t    widget.sendUpdate = function () {};\n",
       "\t}\n",
       "    };\n",
       "\n",
       "    window.InputWidgets = InputWidgets;\n",
       "\n",
       "})(jQuery, undefined);\n",
       "</script>"
      ]
     },
     "metadata": {},
     "output_type": "display_data"
    },
    {
     "data": {
      "text/html": [
       "<div id=\"interact-js-shim\">\n",
       "    <script charset=\"utf-8\">\n",
       "(function (IPython, $, _, MathJax, Widgets) {\n",
       "    $.event.special.destroyed = {\n",
       "\tremove: function(o) {\n",
       "\t    if (o.handler) {\n",
       "\t\to.handler.apply(this, arguments)\n",
       "\t    }\n",
       "\t}\n",
       "    }\n",
       "\n",
       "    var OutputArea = IPython.version >= \"4.0.0\" ? require(\"notebook/js/outputarea\").OutputArea : IPython.OutputArea;\n",
       "\n",
       "    var redrawValue = function (container, type, val) {\n",
       "\tvar selector = $(\"<div/>\");\n",
       "\tvar oa = new OutputArea(_.extend(selector, {\n",
       "\t    selector: selector,\n",
       "\t    prompt_area: true,\n",
       "\t    events: IPython.events,\n",
       "\t    keyboard_manager: IPython.keyboard_manager\n",
       "\t})); // Hack to work with IPython 2.1.0\n",
       "\n",
       "\tswitch (type) {\n",
       "\tcase \"image/png\":\n",
       "            var _src = 'data:' + type + ';base64,' + val;\n",
       "\t    $(container).find(\"img\").attr('src', _src);\n",
       "\t    break;\n",
       "\tdefault:\n",
       "\t    var toinsert = OutputArea.append_map[type].apply(\n",
       "\t\toa, [val, {}, selector]\n",
       "\t    );\n",
       "\t    $(container).empty().append(toinsert.contents());\n",
       "\t    selector.remove();\n",
       "\t}\n",
       "\tif (type === \"text/latex\" && MathJax) {\n",
       "\t    MathJax.Hub.Queue([\"Typeset\", MathJax.Hub, toinsert.get(0)]);\n",
       "\t}\n",
       "    }\n",
       "\n",
       "\n",
       "    $(document).ready(function() {\n",
       "\tWidgets.debug = false; // log messages etc in console.\n",
       "\tfunction initComm(evt, data) {\n",
       "\t    var comm_manager = data.kernel.comm_manager;\n",
       "        //_.extend(comm_manager.targets, require(\"widgets/js/widget\"))\n",
       "\t    comm_manager.register_target(\"Signal\", function (comm) {\n",
       "            comm.on_msg(function (msg) {\n",
       "                //Widgets.log(\"message received\", msg);\n",
       "                var val = msg.content.data.value;\n",
       "                $(\".signal-\" + comm.comm_id).each(function() {\n",
       "                var type = $(this).data(\"type\");\n",
       "                if (val[type]) {\n",
       "                    redrawValue(this, type, val[type], type);\n",
       "                }\n",
       "                });\n",
       "                delete val;\n",
       "                delete msg.content.data.value;\n",
       "            });\n",
       "\t    });\n",
       "\n",
       "\t    // coordingate with Comm and redraw Signals\n",
       "\t    // XXX: Test using Reactive here to improve performance\n",
       "\t    $([IPython.events]).on(\n",
       "\t\t'output_appended.OutputArea', function (event, type, value, md, toinsert) {\n",
       "\t\t    if (md && md.reactive) {\n",
       "                // console.log(md.comm_id);\n",
       "                toinsert.addClass(\"signal-\" + md.comm_id);\n",
       "                toinsert.data(\"type\", type);\n",
       "                // Signal back indicating the mimetype required\n",
       "                var comm_manager = IPython.notebook.kernel.comm_manager;\n",
       "                var comm = comm_manager.comms[md.comm_id];\n",
       "                comm.then(function (c) {\n",
       "                    c.send({action: \"subscribe_mime\",\n",
       "                       mime: type});\n",
       "                    toinsert.bind(\"destroyed\", function() {\n",
       "                        c.send({action: \"unsubscribe_mime\",\n",
       "                               mime: type});\n",
       "                    });\n",
       "                })\n",
       "\t\t    }\n",
       "\t    });\n",
       "\t}\n",
       "\n",
       "\ttry {\n",
       "\t    // try to initialize right away. otherwise, wait on the status_started event.\n",
       "\t    initComm(undefined, IPython.notebook);\n",
       "\t} catch (e) {\n",
       "\t    $([IPython.events]).on('kernel_created.Kernel kernel_created.Session', initComm);\n",
       "\t}\n",
       "    });\n",
       "})(IPython, jQuery, _, MathJax, InputWidgets);\n",
       "</script>\n",
       "    <script>\n",
       "        window.interactLoadedFlag = true\n",
       "       $(\"#interact-js-shim\").bind(\"destroyed\", function () {\n",
       "           if (window.interactLoadedFlag) {\n",
       "               console.warn(\"JavaScript required by Interact will be removed if you remove this cell or run using Interact more than once.\")\n",
       "           }\n",
       "       })\n",
       "       $([IPython.events]).on(\"kernel_starting.Kernel kernel_restarting.Kernel\", function () { window.interactLoadedFlag = false })\n",
       "   </script>\n",
       "</div>"
      ]
     },
     "metadata": {},
     "output_type": "display_data"
    }
   ],
   "source": [
    "using Interact"
   ]
  },
  {
   "cell_type": "markdown",
   "metadata": {},
   "source": [
    "## Apsolutna i relativna pogreška\n",
    "\n",
    "Neka je $\\alpha$ aproksimacija za $a$. Tada vrijedi\n",
    "\n",
    "$$err=|a-\\alpha| \\\\  relerr=\\frac{err}{|a|}=\\frac{|a-\\alpha|}{|a|}.$$"
   ]
  },
  {
   "cell_type": "code",
   "execution_count": 3,
   "metadata": {
    "collapsed": false
   },
   "outputs": [
    {
     "data": {
      "text/html": [],
      "text/plain": [
       "Slider{Float64}([Input{Float64}] 7.5,\"\\u3b1\",7.5,5.0:0.01:10.0)"
      ]
     },
     "metadata": {},
     "output_type": "display_data"
    },
    {
     "data": {
      "text/plain": [
       "(7.5,2.5,0.5)"
      ]
     },
     "execution_count": 3,
     "metadata": {
      "comm_id": "af806252-6279-4e66-b303-05d828303a80",
      "reactive": true
     },
     "output_type": "execute_result"
    }
   ],
   "source": [
    "a=5.0\n",
    "@manipulate for α=a:0.01:2a\n",
    "    err=abs(a-α)\n",
    "    relerr=err/abs(a)\n",
    "    α, err, relerr\n",
    "end"
   ]
  },
  {
   "cell_type": "markdown",
   "metadata": {},
   "source": [
    "## Posebne vrijednosti (_special quantities_) $0$, $-0$, `Inf` i `NaN`"
   ]
  },
  {
   "cell_type": "markdown",
   "metadata": {},
   "source": [
    "Nula ima predznak:"
   ]
  },
  {
   "cell_type": "code",
   "execution_count": 7,
   "metadata": {
    "collapsed": false
   },
   "outputs": [
    {
     "data": {
      "text/plain": [
       "(-0.0,true)"
      ]
     },
     "execution_count": 7,
     "metadata": {},
     "output_type": "execute_result"
    }
   ],
   "source": [
    "a=1.0\n",
    "b=0.0\n",
    "c=-b\n",
    "c,b==c"
   ]
  },
  {
   "cell_type": "code",
   "execution_count": 8,
   "metadata": {
    "collapsed": false
   },
   "outputs": [
    {
     "data": {
      "text/plain": [
       "true"
      ]
     },
     "execution_count": 8,
     "metadata": {},
     "output_type": "execute_result"
    }
   ],
   "source": [
    "d=a/b\n",
    "e=a/c\n",
    "1/d==1/e"
   ]
  },
  {
   "cell_type": "code",
   "execution_count": 9,
   "metadata": {
    "collapsed": false
   },
   "outputs": [
    {
     "data": {
      "text/plain": [
       "NaN"
      ]
     },
     "execution_count": 9,
     "metadata": {},
     "output_type": "execute_result"
    }
   ],
   "source": [
    "b/c"
   ]
  },
  {
   "cell_type": "markdown",
   "metadata": {},
   "source": [
    "## Točnost stroja $\\varepsilon$\n",
    "\n",
    "Najmanji broj takav da je $1+\\varepsilon\\neq 1$ "
   ]
  },
  {
   "cell_type": "code",
   "execution_count": 10,
   "metadata": {
    "collapsed": false
   },
   "outputs": [
    {
     "name": "stdout",
     "output_type": "stream",
     "text": [
      "a = a / 2 => 1.0\n",
      "a = a / 2 => 0.5\n",
      "a = a / 2 => 0.25\n",
      "a = a / 2 => 0.125\n",
      "a = a / 2 => 0.0625\n",
      "a = a / 2 => 0.03125\n",
      "a = a / 2 => 0.015625\n",
      "a = a / 2 => 0.0078125\n",
      "a = a / 2 => 0.00390625\n",
      "a = a / 2 => 0.001953125\n",
      "a = a / 2 => 0.0009765625\n",
      "a = a / 2 => 0.00048828125\n",
      "a = a / 2 => 0.000244140625\n",
      "a = a / 2 => 0.0001220703125\n",
      "a = a / 2 => 6.103515625e-5\n",
      "a = a / 2 => 3.0517578125e-5\n",
      "a = a / 2 => 1.52587890625e-5\n",
      "a = a / 2 => 7.62939453125e-6\n",
      "a = a / 2 => 3.814697265625e-6\n",
      "a = a / 2 => 1.9073486328125e-6\n",
      "a = a / 2 => 9.5367431640625e-7\n",
      "a = a / 2 => 4.76837158203125e-7\n",
      "a = a / 2 => 2.384185791015625e-7\n",
      "a = a / 2 => 1.1920928955078125e-7\n",
      "a = a / 2 => 5.960464477539063e-8\n",
      "a = a / 2 => 2.9802322387695312e-8\n",
      "a = a / 2 => 1.4901161193847656e-8\n",
      "a = a / 2 => 7.450580596923828e-9\n",
      "a = a / 2 => 3.725290298461914e-9\n",
      "a = a / 2 => 1.862645149230957e-9\n",
      "a = a / 2 => 9.313225746154785e-10\n",
      "a = a / 2 => 4.656612873077393e-10\n",
      "a = a / 2 => 2.3283064365386963e-10\n",
      "a = a / 2 => 1.1641532182693481e-10\n",
      "a = a / 2 => 5.820766091346741e-11\n",
      "a = a / 2 => 2.9103830456733704e-11\n",
      "a = a / 2 => 1.4551915228366852e-11\n",
      "a = a / 2 => 7.275957614183426e-12\n",
      "a = a / 2 => 3.637978807091713e-12\n",
      "a = a / 2 => 1.8189894035458565e-12\n",
      "a = a / 2 => 9.094947017729282e-13\n",
      "a = a / 2 => 4.547473508864641e-13\n",
      "a = a / 2 => 2.2737367544323206e-13\n",
      "a = a / 2 => 1.1368683772161603e-13\n",
      "a = a / 2 => 5.684341886080802e-14\n",
      "a = a / 2 => 2.842170943040401e-14\n",
      "a = a / 2 => 1.4210854715202004e-14\n",
      "a = a / 2 => 7.105427357601002e-15\n",
      "a = a / 2 => 3.552713678800501e-15\n",
      "a = a / 2 => 1.7763568394002505e-15\n",
      "a = a / 2 => 8.881784197001252e-16\n",
      "a = a / 2 => 4.440892098500626e-16\n",
      "a = a / 2 => 2.220446049250313e-16\n",
      "a = a / 2 => 1.1102230246251565e-16\n"
     ]
    },
    {
     "data": {
      "text/plain": [
       "1.1102230246251565e-16"
      ]
     },
     "execution_count": 10,
     "metadata": {},
     "output_type": "execute_result"
    }
   ],
   "source": [
    "b=1.0\n",
    "a=2.0\n",
    "while (b+a)!=b\n",
    "    @show a=a/2\n",
    "end\n",
    "a"
   ]
  },
  {
   "cell_type": "code",
   "execution_count": 14,
   "metadata": {
    "collapsed": false
   },
   "outputs": [
    {
     "data": {
      "text/plain": [
       "true"
      ]
     },
     "execution_count": 14,
     "metadata": {},
     "output_type": "execute_result"
    }
   ],
   "source": [
    "1+a==1.0"
   ]
  },
  {
   "cell_type": "code",
   "execution_count": 12,
   "metadata": {
    "collapsed": false
   },
   "outputs": [
    {
     "data": {
      "text/plain": [
       "(2.220446049250313e-16,false)"
      ]
     },
     "execution_count": 12,
     "metadata": {},
     "output_type": "execute_result"
    }
   ],
   "source": [
    "2a, 1+2a==1.0"
   ]
  },
  {
   "cell_type": "markdown",
   "metadata": {},
   "source": [
    "Programi imaju ugrađenu naredbu koja daje $\\varepsilon$"
   ]
  },
  {
   "cell_type": "code",
   "execution_count": 13,
   "metadata": {
    "collapsed": false
   },
   "outputs": [
    {
     "data": {
      "text/plain": [
       "2.220446049250313e-16"
      ]
     },
     "execution_count": 13,
     "metadata": {},
     "output_type": "execute_result"
    }
   ],
   "source": [
    "eps()"
   ]
  },
  {
   "cell_type": "code",
   "execution_count": 14,
   "metadata": {
    "collapsed": false
   },
   "outputs": [
    {
     "data": {
      "text/html": [
       "6 methods for generic function <b>eps</b>:<ul><li> eps(x::<b>FloatingPoint</b>) at <a href=\"https://github.com/JuliaLang/julia/tree/483dbf5279efe29f94cf35d42de0ab0a673fb34e/base/float.jl#L286\" target=\"_blank\">float.jl:286</a><li> eps(::<b>Type{Float16}</b>) at <a href=\"https://github.com/JuliaLang/julia/tree/483dbf5279efe29f94cf35d42de0ab0a673fb34e/base/float.jl#L287\" target=\"_blank\">float.jl:287</a><li> eps(::<b>Type{Float32}</b>) at <a href=\"https://github.com/JuliaLang/julia/tree/483dbf5279efe29f94cf35d42de0ab0a673fb34e/base/float.jl#L288\" target=\"_blank\">float.jl:288</a><li> eps(::<b>Type{Float64}</b>) at <a href=\"https://github.com/JuliaLang/julia/tree/483dbf5279efe29f94cf35d42de0ab0a673fb34e/base/float.jl#L289\" target=\"_blank\">float.jl:289</a><li> eps() at <a href=\"https://github.com/JuliaLang/julia/tree/483dbf5279efe29f94cf35d42de0ab0a673fb34e/base/float.jl#L290\" target=\"_blank\">float.jl:290</a><li> eps(::<b>Type{BigFloat}</b>) at <a href=\"https://github.com/JuliaLang/julia/tree/483dbf5279efe29f94cf35d42de0ab0a673fb34e/base/mpfr.jl#L679\" target=\"_blank\">mpfr.jl:679</a></ul>"
      ],
      "text/plain": [
       "# 6 methods for generic function \"eps\":\n",
       "eps(x::FloatingPoint) at float.jl:286\n",
       "eps(::Type{Float16}) at float.jl:287\n",
       "eps(::Type{Float32}) at float.jl:288\n",
       "eps(::Type{Float64}) at float.jl:289\n",
       "eps() at float.jl:290\n",
       "eps(::Type{BigFloat}) at mpfr.jl:679"
      ]
     },
     "execution_count": 14,
     "metadata": {},
     "output_type": "execute_result"
    }
   ],
   "source": [
    "methods(eps)"
   ]
  },
  {
   "cell_type": "code",
   "execution_count": 17,
   "metadata": {
    "collapsed": false
   },
   "outputs": [
    {
     "data": {
      "text/plain": [
       "(2.220446049250313e-16,2.220446049250313e-16)"
      ]
     },
     "execution_count": 17,
     "metadata": {},
     "output_type": "execute_result"
    }
   ],
   "source": [
    "eps(Float64), 2.0^(-52)"
   ]
  },
  {
   "cell_type": "code",
   "execution_count": 18,
   "metadata": {
    "collapsed": false
   },
   "outputs": [
    {
     "data": {
      "text/plain": [
       "(1.1920929f-7,1.1920928955078125e-7)"
      ]
     },
     "execution_count": 18,
     "metadata": {},
     "output_type": "execute_result"
    }
   ],
   "source": [
    "eps(Float32), 2.0^(-23)"
   ]
  },
  {
   "cell_type": "code",
   "execution_count": 22,
   "metadata": {
    "collapsed": false
   },
   "outputs": [
    {
     "data": {
      "text/plain": [
       "(float16(0.00097656),0.0009765625)"
      ]
     },
     "execution_count": 22,
     "metadata": {},
     "output_type": "execute_result"
    }
   ],
   "source": [
    "eps(Float16), 2.0^(-10)"
   ]
  },
  {
   "cell_type": "code",
   "execution_count": 26,
   "metadata": {
    "collapsed": false
   },
   "outputs": [
    {
     "data": {
      "text/plain": [
       "(1.727233711018888925077270372560079914223200072887256277004740694033718360632485e-77 with 256 bits of precision,1.727233711018889e-77)"
      ]
     },
     "execution_count": 26,
     "metadata": {},
     "output_type": "execute_result"
    }
   ],
   "source": [
    "eps(BigFloat), 2.0^(-255)"
   ]
  },
  {
   "cell_type": "markdown",
   "metadata": {},
   "source": [
    "## Katastrofalno kraćenje (_catastrophic cancellation_)\n",
    "\n",
    "U egzaktnoj aritmetici kvadratna jednadžba\n",
    "\n",
    "$$ ax^2 + bx+c=0$$\n",
    "\n",
    "ima rješenja\n",
    "\n",
    "$$x_1=\\frac{-b-\\sqrt{b^2-4ac}}{2a} \\\\\n",
    "x_2=\\frac{-b+\\sqrt{b^2-4ac}}{2a}\\equiv \\frac{-b+\\sqrt{b^2-4ac}}{2a}\\cdot \\frac{-b-\\sqrt{b^2-4ac}}{-b-\\sqrt{b^2-4ac}}\n",
    "= \\frac{2c}{-b-\\sqrt{b^2-4ac}}=x_3\n",
    "$$\n"
   ]
  },
  {
   "cell_type": "code",
   "execution_count": 27,
   "metadata": {
    "collapsed": false
   },
   "outputs": [
    {
     "data": {
      "text/plain": [
       "(-6.172839449999997e7,-3.3527612686157227e-8,-3.240000029484002e-8)"
      ]
     },
     "execution_count": 27,
     "metadata": {},
     "output_type": "execute_result"
    }
   ],
   "source": [
    "a=2.0\n",
    "b=123456789.0\n",
    "c=4.0\n",
    "\n",
    "x1=(-b-sqrt(b*b-4*a*c))/(2.0*a)\n",
    "x2=(-b+sqrt(b*b-4*a*c))/(2.0*a)\n",
    "x3=(2*c)/(-b-sqrt(b*b-4*a*c))\n",
    "x1,x2,x3"
   ]
  },
  {
   "cell_type": "markdown",
   "metadata": {},
   "source": [
    "Provjerimo s `BigFloat`:"
   ]
  },
  {
   "cell_type": "code",
   "execution_count": 29,
   "metadata": {
    "collapsed": false
   },
   "outputs": [
    {
     "data": {
      "text/plain": [
       "-3.240000029484001968915648868258452417675753633383540995167795107129921671968718e-08 with 256 bits of precision"
      ]
     },
     "execution_count": 29,
     "metadata": {},
     "output_type": "execute_result"
    }
   ],
   "source": [
    "a=BigFloat(a)\n",
    "b=BigFloat(b)\n",
    "c=BigFloat(c)\n",
    "x2=(-b+sqrt(b*b-4*a*c))/(2.0*a)"
   ]
  },
  {
   "cell_type": "code",
   "execution_count": null,
   "metadata": {
    "collapsed": true
   },
   "outputs": [],
   "source": []
  }
 ],
 "metadata": {
  "kernelspec": {
   "display_name": "Julia 0.3.11",
   "language": "julia",
   "name": "julia-0.3"
  },
  "language_info": {
   "file_extension": ".jl",
   "mimetype": "application/julia",
   "name": "julia",
   "version": "0.3.11"
  }
 },
 "nbformat": 4,
 "nbformat_minor": 0
}
